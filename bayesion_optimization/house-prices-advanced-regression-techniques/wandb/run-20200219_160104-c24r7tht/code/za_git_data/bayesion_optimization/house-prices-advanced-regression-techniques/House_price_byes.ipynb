{
 "cells": [
  {
   "cell_type": "code",
   "execution_count": 2,
   "metadata": {},
   "outputs": [],
   "source": [
    "import pandas as pd\n",
    "import numpy as np\n",
    "import matplotlib.pyplot as plt\n",
    "import seaborn as sns\n",
    "import lightgbm as lgb\n",
    "import catboost as cgb\n",
    "from bayes_opt import BayesianOptimization\n",
    "import warnings\n",
    "import wandb\n",
    "import time\n",
    "warnings.filterwarnings('ignore')"
   ]
  },
  {
   "cell_type": "code",
   "execution_count": 8,
   "metadata": {},
   "outputs": [],
   "source": [
    "METHOD = 'bayes'"
   ]
  },
  {
   "cell_type": "code",
   "execution_count": 18,
   "metadata": {},
   "outputs": [],
   "source": [
    "cat_features=[i for i in X.columns if X.dtypes[i]!='float']"
   ]
  },
  {
   "cell_type": "code",
   "execution_count": 3,
   "metadata": {},
   "outputs": [],
   "source": [
    "data = pd.read_csv('house_prices_clean.csv')"
   ]
  },
  {
   "cell_type": "code",
   "execution_count": 4,
   "metadata": {},
   "outputs": [
    {
     "data": {
      "text/plain": [
       "(1460, 127)"
      ]
     },
     "execution_count": 4,
     "metadata": {},
     "output_type": "execute_result"
    }
   ],
   "source": [
    "data.shape"
   ]
  },
  {
   "cell_type": "code",
   "execution_count": 5,
   "metadata": {},
   "outputs": [],
   "source": [
    "X = data.drop('SalePrice',axis =1)\n",
    "\n",
    "y = data['SalePrice']"
   ]
  },
  {
   "cell_type": "code",
   "execution_count": 19,
   "metadata": {},
   "outputs": [],
   "source": [
    "from sklearn.model_selection import train_test_split\n",
    "X_train1, X_test1, y_train1, y_test1 = train_test_split(X,y,test_size=0.2, random_state=123)"
   ]
  },
  {
   "cell_type": "code",
   "execution_count": 7,
   "metadata": {},
   "outputs": [],
   "source": [
    "from sklearn.metrics import mean_squared_log_error, mean_absolute_error, r2_score\n",
    "\n",
    "def rmsle(y_test, y_preds):\n",
    "    \"\"\"\n",
    "    Calculates Root Mean Squared Log Error between predictions and true labels\n",
    "    \"\"\"\n",
    "    return np.sqrt(mean_squared_log_error(y_test,y_preds))\n",
    "\n",
    "def rmse(predictions, targets): \n",
    "\n",
    "    return np.sqrt(((predictions - targets) ** 2).mean())\n",
    "\n",
    "def rmsle2(y, y0):\n",
    "    return np.sqrt(np.mean(np.square(np.log1p(y) - np.log1p(y0))))\n",
    "\n",
    "# Create function to evaluate model on a few different levels\n",
    "def show_scores(model):\n",
    "    train_preds = model.predict(X_train)\n",
    "    val_preds = model.predict(X_test)\n",
    "    scores = {'Training MAE': mean_absolute_error(y_train,train_preds),\n",
    "             'Valid MAE': mean_absolute_error(y_test,val_preds),\n",
    "             'Training R^2': r2_score(y_train,train_preds),\n",
    "             'Valid R^2': r2_score(y_test,val_preds),\n",
    "             'Training RMSE': rmse(y_train,train_preds),\n",
    "             'Valid RMSE': rmse(y_test,val_preds),\n",
    "             'Training RMSLE2': rmsle2(y_train,train_preds),\n",
    "             'Valid RMSLE2': rmsle2(y_test,val_preds)\n",
    "             }\n",
    "    \n",
    "    return scores\n",
    "    "
   ]
  },
  {
   "cell_type": "code",
   "execution_count": 31,
   "metadata": {},
   "outputs": [],
   "source": [
    "def train():\n",
    "    # Prepare data tuples\n",
    "    (X_train, y_train) = X_train1, y_train1\n",
    "    (X_test, y_test) = X_test1, y_test1\n",
    "    \n",
    "    # Default values for hyper-parameters we're going to sweep over\n",
    "    configs = {\n",
    "            'num_leaves': 100,            \n",
    "            'feature_fraction': 0.1,\n",
    "            'bagging_fraction': 0.1,\n",
    "            'max_depth': 200,\n",
    "            'min_split_gain': 0.001,\n",
    "            'min_child_weight': 1,\n",
    "            'method': METHOD\n",
    "    }\n",
    "\n",
    "    # Initilize a new wandb run\n",
    "    wandb.init(project='hyperparameter-sweeps-lgb', config=configs)\n",
    "    \n",
    "    # Config is a variable that holds and saves hyperparameters and inputs\n",
    "    config = wandb.config\n",
    "    \n",
    "    # Define the model\n",
    "    clf = lgb.LGBMRegressor(bagging_fraction = config.bagging_fraction,\n",
    "                       feature_fraction = config.feature_fraction,\n",
    "                       max_depth = config.max_depth,\n",
    "                       min_child_weight = config.min_child_weight,\n",
    "                       min_split_gain = config.min_split_gain,\n",
    "                       num_leaves = config.num_leaves)\n",
    "    \n",
    "    # Train the model\n",
    "    clf.fit(X_train,y_train)\n",
    "    \n"
   ]
  },
  {
   "cell_type": "code",
   "execution_count": 30,
   "metadata": {},
   "outputs": [],
   "source": [
    "def get_sweep_id(method):\n",
    "    sweep_config = {\n",
    "        'method': method,\n",
    "        'metric': {\n",
    "          'name': 'rmse',\n",
    "          'goal': 'minimize'   \n",
    "        },\n",
    "        'parameters':{\n",
    "            'num_leaves':{\n",
    "                'values': (100, 700)\n",
    "            },\n",
    "            'feature_fraction':{ 'values': (0.1, 0.9)},\n",
    "            'bagging_fraction':{ 'values': (0.1, 1)},\n",
    "            'max_depth':{ 'values': (200, 500)},\n",
    "            'min_split_gain':{ 'values': (0.001, 0.1)},\n",
    "            'min_child_weight': {'values': (1, 100) }\n",
    "            }\n",
    "        }\n",
    "    \n",
    "    sweep_id = wandb.sweep(sweep_config, project='hyperparameter-sweeps-lgb')\n",
    "    \n",
    "    return sweep_id"
   ]
  },
  {
   "cell_type": "code",
   "execution_count": 32,
   "metadata": {},
   "outputs": [
    {
     "name": "stdout",
     "output_type": "stream",
     "text": [
      "Create sweep with ID: 5kphf6z9\n",
      "Sweep URL: https://app.wandb.ai/sinisha123/hyperparameter-sweeps-lgb/sweeps/5kphf6z9\n"
     ]
    }
   ],
   "source": [
    "sweep_id = get_sweep_id('random')"
   ]
  },
  {
   "cell_type": "code",
   "execution_count": null,
   "metadata": {},
   "outputs": [
    {
     "name": "stdout",
     "output_type": "stream",
     "text": [
      "wandb: Agent Starting Run: qt2unorc with config:\n",
      "\tbagging_fraction: 1\n",
      "\tfeature_fraction: 0.1\n",
      "\tmax_depth: 500\n",
      "\tmin_child_weight: 100\n",
      "\tmin_split_gain: 0.1\n",
      "\tnum_leaves: 700\n",
      "wandb: Agent Started Run: qt2unorc\n"
     ]
    },
    {
     "data": {
      "text/html": [
       "\n",
       "                Logging results to <a href=\"https://wandb.com\" target=\"_blank\">Weights & Biases</a> <a href=\"https://docs.wandb.com/integrations/jupyter.html\" target=\"_blank\">(Documentation)</a>.<br/>\n",
       "                Project page: <a href=\"https://app.wandb.ai/sinisha123/hyperparameter-sweeps-lgb\" target=\"_blank\">https://app.wandb.ai/sinisha123/hyperparameter-sweeps-lgb</a><br/>\n",
       "                Sweep page: <a href=\"https://app.wandb.ai/sinisha123/hyperparameter-sweeps-lgb/sweeps/5kphf6z9\" target=\"_blank\">https://app.wandb.ai/sinisha123/hyperparameter-sweeps-lgb/sweeps/5kphf6z9</a><br/>\n",
       "Run page: <a href=\"https://app.wandb.ai/sinisha123/hyperparameter-sweeps-lgb/runs/qt2unorc\" target=\"_blank\">https://app.wandb.ai/sinisha123/hyperparameter-sweeps-lgb/runs/qt2unorc</a><br/>\n",
       "            "
      ],
      "text/plain": [
       "<IPython.core.display.HTML object>"
      ]
     },
     "metadata": {},
     "output_type": "display_data"
    },
    {
     "name": "stdout",
     "output_type": "stream",
     "text": [
      "wandb: Agent Finished Run: qt2unorc \n",
      "\n",
      "wandb: Agent Starting Run: p3hn1gmk with config:\n",
      "\tbagging_fraction: 1\n",
      "\tfeature_fraction: 0.9\n",
      "\tmax_depth: 500\n",
      "\tmin_child_weight: 1\n",
      "\tmin_split_gain: 0.001\n",
      "\tnum_leaves: 700\n",
      "wandb: Agent Started Run: p3hn1gmk\n"
     ]
    },
    {
     "data": {
      "text/html": [
       "\n",
       "                Logging results to <a href=\"https://wandb.com\" target=\"_blank\">Weights & Biases</a> <a href=\"https://docs.wandb.com/integrations/jupyter.html\" target=\"_blank\">(Documentation)</a>.<br/>\n",
       "                Project page: <a href=\"https://app.wandb.ai/sinisha123/hyperparameter-sweeps-lgb\" target=\"_blank\">https://app.wandb.ai/sinisha123/hyperparameter-sweeps-lgb</a><br/>\n",
       "                Sweep page: <a href=\"https://app.wandb.ai/sinisha123/hyperparameter-sweeps-lgb/sweeps/5kphf6z9\" target=\"_blank\">https://app.wandb.ai/sinisha123/hyperparameter-sweeps-lgb/sweeps/5kphf6z9</a><br/>\n",
       "Run page: <a href=\"https://app.wandb.ai/sinisha123/hyperparameter-sweeps-lgb/runs/p3hn1gmk\" target=\"_blank\">https://app.wandb.ai/sinisha123/hyperparameter-sweeps-lgb/runs/p3hn1gmk</a><br/>\n",
       "            "
      ],
      "text/plain": [
       "<IPython.core.display.HTML object>"
      ]
     },
     "metadata": {},
     "output_type": "display_data"
    },
    {
     "name": "stdout",
     "output_type": "stream",
     "text": [
      "wandb: Agent Finished Run: p3hn1gmk \n",
      "\n",
      "wandb: Agent Starting Run: 13obig0r with config:\n",
      "\tbagging_fraction: 0.1\n",
      "\tfeature_fraction: 0.1\n",
      "\tmax_depth: 200\n",
      "\tmin_child_weight: 1\n",
      "\tmin_split_gain: 0.001\n",
      "\tnum_leaves: 100\n",
      "wandb: Agent Started Run: 13obig0r\n"
     ]
    },
    {
     "data": {
      "text/html": [
       "\n",
       "                Logging results to <a href=\"https://wandb.com\" target=\"_blank\">Weights & Biases</a> <a href=\"https://docs.wandb.com/integrations/jupyter.html\" target=\"_blank\">(Documentation)</a>.<br/>\n",
       "                Project page: <a href=\"https://app.wandb.ai/sinisha123/hyperparameter-sweeps-lgb\" target=\"_blank\">https://app.wandb.ai/sinisha123/hyperparameter-sweeps-lgb</a><br/>\n",
       "                Sweep page: <a href=\"https://app.wandb.ai/sinisha123/hyperparameter-sweeps-lgb/sweeps/5kphf6z9\" target=\"_blank\">https://app.wandb.ai/sinisha123/hyperparameter-sweeps-lgb/sweeps/5kphf6z9</a><br/>\n",
       "Run page: <a href=\"https://app.wandb.ai/sinisha123/hyperparameter-sweeps-lgb/runs/13obig0r\" target=\"_blank\">https://app.wandb.ai/sinisha123/hyperparameter-sweeps-lgb/runs/13obig0r</a><br/>\n",
       "            "
      ],
      "text/plain": [
       "<IPython.core.display.HTML object>"
      ]
     },
     "metadata": {},
     "output_type": "display_data"
    },
    {
     "name": "stdout",
     "output_type": "stream",
     "text": [
      "wandb: Agent Finished Run: 13obig0r \n",
      "\n",
      "wandb: Agent Starting Run: eu2v4gfw with config:\n",
      "\tbagging_fraction: 0.1\n",
      "\tfeature_fraction: 0.1\n",
      "\tmax_depth: 200\n",
      "\tmin_child_weight: 100\n",
      "\tmin_split_gain: 0.001\n",
      "\tnum_leaves: 100\n",
      "wandb: Agent Started Run: eu2v4gfw\n"
     ]
    },
    {
     "data": {
      "text/html": [
       "\n",
       "                Logging results to <a href=\"https://wandb.com\" target=\"_blank\">Weights & Biases</a> <a href=\"https://docs.wandb.com/integrations/jupyter.html\" target=\"_blank\">(Documentation)</a>.<br/>\n",
       "                Project page: <a href=\"https://app.wandb.ai/sinisha123/hyperparameter-sweeps-lgb\" target=\"_blank\">https://app.wandb.ai/sinisha123/hyperparameter-sweeps-lgb</a><br/>\n",
       "                Sweep page: <a href=\"https://app.wandb.ai/sinisha123/hyperparameter-sweeps-lgb/sweeps/5kphf6z9\" target=\"_blank\">https://app.wandb.ai/sinisha123/hyperparameter-sweeps-lgb/sweeps/5kphf6z9</a><br/>\n",
       "Run page: <a href=\"https://app.wandb.ai/sinisha123/hyperparameter-sweeps-lgb/runs/eu2v4gfw\" target=\"_blank\">https://app.wandb.ai/sinisha123/hyperparameter-sweeps-lgb/runs/eu2v4gfw</a><br/>\n",
       "            "
      ],
      "text/plain": [
       "<IPython.core.display.HTML object>"
      ]
     },
     "metadata": {},
     "output_type": "display_data"
    },
    {
     "name": "stdout",
     "output_type": "stream",
     "text": [
      "wandb: Agent Finished Run: eu2v4gfw \n",
      "\n",
      "wandb: Agent Starting Run: 067z8z0m with config:\n",
      "\tbagging_fraction: 1\n",
      "\tfeature_fraction: 0.1\n",
      "\tmax_depth: 200\n",
      "\tmin_child_weight: 100\n",
      "\tmin_split_gain: 0.001\n",
      "\tnum_leaves: 100\n",
      "wandb: Agent Started Run: 067z8z0m\n"
     ]
    },
    {
     "data": {
      "text/html": [
       "\n",
       "                Logging results to <a href=\"https://wandb.com\" target=\"_blank\">Weights & Biases</a> <a href=\"https://docs.wandb.com/integrations/jupyter.html\" target=\"_blank\">(Documentation)</a>.<br/>\n",
       "                Project page: <a href=\"https://app.wandb.ai/sinisha123/hyperparameter-sweeps-lgb\" target=\"_blank\">https://app.wandb.ai/sinisha123/hyperparameter-sweeps-lgb</a><br/>\n",
       "                Sweep page: <a href=\"https://app.wandb.ai/sinisha123/hyperparameter-sweeps-lgb/sweeps/5kphf6z9\" target=\"_blank\">https://app.wandb.ai/sinisha123/hyperparameter-sweeps-lgb/sweeps/5kphf6z9</a><br/>\n",
       "Run page: <a href=\"https://app.wandb.ai/sinisha123/hyperparameter-sweeps-lgb/runs/067z8z0m\" target=\"_blank\">https://app.wandb.ai/sinisha123/hyperparameter-sweeps-lgb/runs/067z8z0m</a><br/>\n",
       "            "
      ],
      "text/plain": [
       "<IPython.core.display.HTML object>"
      ]
     },
     "metadata": {},
     "output_type": "display_data"
    },
    {
     "name": "stdout",
     "output_type": "stream",
     "text": [
      "wandb: Agent Finished Run: 067z8z0m \n",
      "\n",
      "wandb: Agent Starting Run: th2u8kts with config:\n",
      "\tbagging_fraction: 0.1\n",
      "\tfeature_fraction: 0.9\n",
      "\tmax_depth: 200\n",
      "\tmin_child_weight: 100\n",
      "\tmin_split_gain: 0.001\n",
      "\tnum_leaves: 700\n",
      "wandb: Agent Started Run: th2u8kts\n"
     ]
    },
    {
     "data": {
      "text/html": [
       "\n",
       "                Logging results to <a href=\"https://wandb.com\" target=\"_blank\">Weights & Biases</a> <a href=\"https://docs.wandb.com/integrations/jupyter.html\" target=\"_blank\">(Documentation)</a>.<br/>\n",
       "                Project page: <a href=\"https://app.wandb.ai/sinisha123/hyperparameter-sweeps-lgb\" target=\"_blank\">https://app.wandb.ai/sinisha123/hyperparameter-sweeps-lgb</a><br/>\n",
       "                Sweep page: <a href=\"https://app.wandb.ai/sinisha123/hyperparameter-sweeps-lgb/sweeps/5kphf6z9\" target=\"_blank\">https://app.wandb.ai/sinisha123/hyperparameter-sweeps-lgb/sweeps/5kphf6z9</a><br/>\n",
       "Run page: <a href=\"https://app.wandb.ai/sinisha123/hyperparameter-sweeps-lgb/runs/th2u8kts\" target=\"_blank\">https://app.wandb.ai/sinisha123/hyperparameter-sweeps-lgb/runs/th2u8kts</a><br/>\n",
       "            "
      ],
      "text/plain": [
       "<IPython.core.display.HTML object>"
      ]
     },
     "metadata": {},
     "output_type": "display_data"
    },
    {
     "name": "stdout",
     "output_type": "stream",
     "text": [
      "wandb: Agent Finished Run: th2u8kts \n",
      "\n",
      "wandb: Agent Starting Run: 7kg2n2p0 with config:\n",
      "\tbagging_fraction: 0.1\n",
      "\tfeature_fraction: 0.9\n",
      "\tmax_depth: 200\n",
      "\tmin_child_weight: 100\n",
      "\tmin_split_gain: 0.001\n",
      "\tnum_leaves: 100\n",
      "wandb: Agent Started Run: 7kg2n2p0\n"
     ]
    },
    {
     "data": {
      "text/html": [
       "\n",
       "                Logging results to <a href=\"https://wandb.com\" target=\"_blank\">Weights & Biases</a> <a href=\"https://docs.wandb.com/integrations/jupyter.html\" target=\"_blank\">(Documentation)</a>.<br/>\n",
       "                Project page: <a href=\"https://app.wandb.ai/sinisha123/hyperparameter-sweeps-lgb\" target=\"_blank\">https://app.wandb.ai/sinisha123/hyperparameter-sweeps-lgb</a><br/>\n",
       "                Sweep page: <a href=\"https://app.wandb.ai/sinisha123/hyperparameter-sweeps-lgb/sweeps/5kphf6z9\" target=\"_blank\">https://app.wandb.ai/sinisha123/hyperparameter-sweeps-lgb/sweeps/5kphf6z9</a><br/>\n",
       "Run page: <a href=\"https://app.wandb.ai/sinisha123/hyperparameter-sweeps-lgb/runs/7kg2n2p0\" target=\"_blank\">https://app.wandb.ai/sinisha123/hyperparameter-sweeps-lgb/runs/7kg2n2p0</a><br/>\n",
       "            "
      ],
      "text/plain": [
       "<IPython.core.display.HTML object>"
      ]
     },
     "metadata": {},
     "output_type": "display_data"
    },
    {
     "name": "stdout",
     "output_type": "stream",
     "text": [
      "wandb: Agent Finished Run: 7kg2n2p0 \n",
      "\n",
      "wandb: Agent Starting Run: hb2sq9ao with config:\n",
      "\tbagging_fraction: 0.1\n",
      "\tfeature_fraction: 0.9\n",
      "\tmax_depth: 500\n",
      "\tmin_child_weight: 1\n",
      "\tmin_split_gain: 0.1\n",
      "\tnum_leaves: 100\n",
      "wandb: Agent Started Run: hb2sq9ao\n"
     ]
    },
    {
     "data": {
      "text/html": [
       "\n",
       "                Logging results to <a href=\"https://wandb.com\" target=\"_blank\">Weights & Biases</a> <a href=\"https://docs.wandb.com/integrations/jupyter.html\" target=\"_blank\">(Documentation)</a>.<br/>\n",
       "                Project page: <a href=\"https://app.wandb.ai/sinisha123/hyperparameter-sweeps-lgb\" target=\"_blank\">https://app.wandb.ai/sinisha123/hyperparameter-sweeps-lgb</a><br/>\n",
       "                Sweep page: <a href=\"https://app.wandb.ai/sinisha123/hyperparameter-sweeps-lgb/sweeps/5kphf6z9\" target=\"_blank\">https://app.wandb.ai/sinisha123/hyperparameter-sweeps-lgb/sweeps/5kphf6z9</a><br/>\n",
       "Run page: <a href=\"https://app.wandb.ai/sinisha123/hyperparameter-sweeps-lgb/runs/hb2sq9ao\" target=\"_blank\">https://app.wandb.ai/sinisha123/hyperparameter-sweeps-lgb/runs/hb2sq9ao</a><br/>\n",
       "            "
      ],
      "text/plain": [
       "<IPython.core.display.HTML object>"
      ]
     },
     "metadata": {},
     "output_type": "display_data"
    },
    {
     "name": "stdout",
     "output_type": "stream",
     "text": [
      "wandb: Agent Finished Run: hb2sq9ao \n",
      "\n",
      "wandb: Agent Starting Run: 8hybnic4 with config:\n",
      "\tbagging_fraction: 0.1\n",
      "\tfeature_fraction: 0.9\n",
      "\tmax_depth: 500\n",
      "\tmin_child_weight: 100\n",
      "\tmin_split_gain: 0.1\n",
      "\tnum_leaves: 700\n",
      "wandb: Agent Started Run: 8hybnic4\n"
     ]
    },
    {
     "data": {
      "text/html": [
       "\n",
       "                Logging results to <a href=\"https://wandb.com\" target=\"_blank\">Weights & Biases</a> <a href=\"https://docs.wandb.com/integrations/jupyter.html\" target=\"_blank\">(Documentation)</a>.<br/>\n",
       "                Project page: <a href=\"https://app.wandb.ai/sinisha123/hyperparameter-sweeps-lgb\" target=\"_blank\">https://app.wandb.ai/sinisha123/hyperparameter-sweeps-lgb</a><br/>\n",
       "                Sweep page: <a href=\"https://app.wandb.ai/sinisha123/hyperparameter-sweeps-lgb/sweeps/5kphf6z9\" target=\"_blank\">https://app.wandb.ai/sinisha123/hyperparameter-sweeps-lgb/sweeps/5kphf6z9</a><br/>\n",
       "Run page: <a href=\"https://app.wandb.ai/sinisha123/hyperparameter-sweeps-lgb/runs/8hybnic4\" target=\"_blank\">https://app.wandb.ai/sinisha123/hyperparameter-sweeps-lgb/runs/8hybnic4</a><br/>\n",
       "            "
      ],
      "text/plain": [
       "<IPython.core.display.HTML object>"
      ]
     },
     "metadata": {},
     "output_type": "display_data"
    },
    {
     "name": "stdout",
     "output_type": "stream",
     "text": [
      "wandb: Agent Finished Run: 8hybnic4 \n",
      "\n",
      "wandb: Agent Starting Run: c8lwzmr8 with config:\n",
      "\tbagging_fraction: 1\n",
      "\tfeature_fraction: 0.9\n",
      "\tmax_depth: 200\n",
      "\tmin_child_weight: 100\n",
      "\tmin_split_gain: 0.001\n",
      "\tnum_leaves: 100\n",
      "wandb: Agent Started Run: c8lwzmr8\n"
     ]
    },
    {
     "data": {
      "text/html": [
       "\n",
       "                Logging results to <a href=\"https://wandb.com\" target=\"_blank\">Weights & Biases</a> <a href=\"https://docs.wandb.com/integrations/jupyter.html\" target=\"_blank\">(Documentation)</a>.<br/>\n",
       "                Project page: <a href=\"https://app.wandb.ai/sinisha123/hyperparameter-sweeps-lgb\" target=\"_blank\">https://app.wandb.ai/sinisha123/hyperparameter-sweeps-lgb</a><br/>\n",
       "                Sweep page: <a href=\"https://app.wandb.ai/sinisha123/hyperparameter-sweeps-lgb/sweeps/5kphf6z9\" target=\"_blank\">https://app.wandb.ai/sinisha123/hyperparameter-sweeps-lgb/sweeps/5kphf6z9</a><br/>\n",
       "Run page: <a href=\"https://app.wandb.ai/sinisha123/hyperparameter-sweeps-lgb/runs/c8lwzmr8\" target=\"_blank\">https://app.wandb.ai/sinisha123/hyperparameter-sweeps-lgb/runs/c8lwzmr8</a><br/>\n",
       "            "
      ],
      "text/plain": [
       "<IPython.core.display.HTML object>"
      ]
     },
     "metadata": {},
     "output_type": "display_data"
    },
    {
     "name": "stdout",
     "output_type": "stream",
     "text": [
      "wandb: Agent Finished Run: c8lwzmr8 \n",
      "\n",
      "wandb: Agent Starting Run: 59w60k5l with config:\n",
      "\tbagging_fraction: 1\n",
      "\tfeature_fraction: 0.9\n",
      "\tmax_depth: 500\n",
      "\tmin_child_weight: 100\n",
      "\tmin_split_gain: 0.1\n",
      "\tnum_leaves: 700\n",
      "wandb: Agent Started Run: 59w60k5l\n"
     ]
    },
    {
     "data": {
      "text/html": [
       "\n",
       "                Logging results to <a href=\"https://wandb.com\" target=\"_blank\">Weights & Biases</a> <a href=\"https://docs.wandb.com/integrations/jupyter.html\" target=\"_blank\">(Documentation)</a>.<br/>\n",
       "                Project page: <a href=\"https://app.wandb.ai/sinisha123/hyperparameter-sweeps-lgb\" target=\"_blank\">https://app.wandb.ai/sinisha123/hyperparameter-sweeps-lgb</a><br/>\n",
       "                Sweep page: <a href=\"https://app.wandb.ai/sinisha123/hyperparameter-sweeps-lgb/sweeps/5kphf6z9\" target=\"_blank\">https://app.wandb.ai/sinisha123/hyperparameter-sweeps-lgb/sweeps/5kphf6z9</a><br/>\n",
       "Run page: <a href=\"https://app.wandb.ai/sinisha123/hyperparameter-sweeps-lgb/runs/59w60k5l\" target=\"_blank\">https://app.wandb.ai/sinisha123/hyperparameter-sweeps-lgb/runs/59w60k5l</a><br/>\n",
       "            "
      ],
      "text/plain": [
       "<IPython.core.display.HTML object>"
      ]
     },
     "metadata": {},
     "output_type": "display_data"
    },
    {
     "name": "stdout",
     "output_type": "stream",
     "text": [
      "wandb: Agent Finished Run: 59w60k5l \n",
      "\n",
      "wandb: Agent Starting Run: b5g07zun with config:\n",
      "\tbagging_fraction: 1\n",
      "\tfeature_fraction: 0.1\n",
      "\tmax_depth: 200\n",
      "\tmin_child_weight: 100\n",
      "\tmin_split_gain: 0.1\n",
      "\tnum_leaves: 100\n",
      "wandb: Agent Started Run: b5g07zun\n"
     ]
    },
    {
     "data": {
      "text/html": [
       "\n",
       "                Logging results to <a href=\"https://wandb.com\" target=\"_blank\">Weights & Biases</a> <a href=\"https://docs.wandb.com/integrations/jupyter.html\" target=\"_blank\">(Documentation)</a>.<br/>\n",
       "                Project page: <a href=\"https://app.wandb.ai/sinisha123/hyperparameter-sweeps-lgb\" target=\"_blank\">https://app.wandb.ai/sinisha123/hyperparameter-sweeps-lgb</a><br/>\n",
       "                Sweep page: <a href=\"https://app.wandb.ai/sinisha123/hyperparameter-sweeps-lgb/sweeps/5kphf6z9\" target=\"_blank\">https://app.wandb.ai/sinisha123/hyperparameter-sweeps-lgb/sweeps/5kphf6z9</a><br/>\n",
       "Run page: <a href=\"https://app.wandb.ai/sinisha123/hyperparameter-sweeps-lgb/runs/b5g07zun\" target=\"_blank\">https://app.wandb.ai/sinisha123/hyperparameter-sweeps-lgb/runs/b5g07zun</a><br/>\n",
       "            "
      ],
      "text/plain": [
       "<IPython.core.display.HTML object>"
      ]
     },
     "metadata": {},
     "output_type": "display_data"
    },
    {
     "name": "stdout",
     "output_type": "stream",
     "text": [
      "wandb: Agent Finished Run: b5g07zun \n",
      "\n",
      "wandb: Agent Starting Run: x0ckfh84 with config:\n",
      "\tbagging_fraction: 1\n",
      "\tfeature_fraction: 0.1\n",
      "\tmax_depth: 200\n",
      "\tmin_child_weight: 1\n",
      "\tmin_split_gain: 0.1\n",
      "\tnum_leaves: 700\n",
      "wandb: Agent Started Run: x0ckfh84\n"
     ]
    },
    {
     "data": {
      "text/html": [
       "\n",
       "                Logging results to <a href=\"https://wandb.com\" target=\"_blank\">Weights & Biases</a> <a href=\"https://docs.wandb.com/integrations/jupyter.html\" target=\"_blank\">(Documentation)</a>.<br/>\n",
       "                Project page: <a href=\"https://app.wandb.ai/sinisha123/hyperparameter-sweeps-lgb\" target=\"_blank\">https://app.wandb.ai/sinisha123/hyperparameter-sweeps-lgb</a><br/>\n",
       "                Sweep page: <a href=\"https://app.wandb.ai/sinisha123/hyperparameter-sweeps-lgb/sweeps/5kphf6z9\" target=\"_blank\">https://app.wandb.ai/sinisha123/hyperparameter-sweeps-lgb/sweeps/5kphf6z9</a><br/>\n",
       "Run page: <a href=\"https://app.wandb.ai/sinisha123/hyperparameter-sweeps-lgb/runs/x0ckfh84\" target=\"_blank\">https://app.wandb.ai/sinisha123/hyperparameter-sweeps-lgb/runs/x0ckfh84</a><br/>\n",
       "            "
      ],
      "text/plain": [
       "<IPython.core.display.HTML object>"
      ]
     },
     "metadata": {},
     "output_type": "display_data"
    },
    {
     "name": "stdout",
     "output_type": "stream",
     "text": [
      "wandb: Agent Finished Run: x0ckfh84 \n",
      "\n",
      "wandb: Agent Starting Run: rlkhh769 with config:\n",
      "\tbagging_fraction: 1\n",
      "\tfeature_fraction: 0.9\n",
      "\tmax_depth: 500\n",
      "\tmin_child_weight: 100\n",
      "\tmin_split_gain: 0.001\n",
      "\tnum_leaves: 100\n",
      "wandb: Agent Started Run: rlkhh769\n"
     ]
    },
    {
     "data": {
      "text/html": [
       "\n",
       "                Logging results to <a href=\"https://wandb.com\" target=\"_blank\">Weights & Biases</a> <a href=\"https://docs.wandb.com/integrations/jupyter.html\" target=\"_blank\">(Documentation)</a>.<br/>\n",
       "                Project page: <a href=\"https://app.wandb.ai/sinisha123/hyperparameter-sweeps-lgb\" target=\"_blank\">https://app.wandb.ai/sinisha123/hyperparameter-sweeps-lgb</a><br/>\n",
       "                Sweep page: <a href=\"https://app.wandb.ai/sinisha123/hyperparameter-sweeps-lgb/sweeps/5kphf6z9\" target=\"_blank\">https://app.wandb.ai/sinisha123/hyperparameter-sweeps-lgb/sweeps/5kphf6z9</a><br/>\n",
       "Run page: <a href=\"https://app.wandb.ai/sinisha123/hyperparameter-sweeps-lgb/runs/rlkhh769\" target=\"_blank\">https://app.wandb.ai/sinisha123/hyperparameter-sweeps-lgb/runs/rlkhh769</a><br/>\n",
       "            "
      ],
      "text/plain": [
       "<IPython.core.display.HTML object>"
      ]
     },
     "metadata": {},
     "output_type": "display_data"
    },
    {
     "name": "stdout",
     "output_type": "stream",
     "text": [
      "wandb: Agent Finished Run: rlkhh769 \n",
      "\n",
      "wandb: Agent Starting Run: a4g1gvup with config:\n",
      "\tbagging_fraction: 1\n",
      "\tfeature_fraction: 0.9\n",
      "\tmax_depth: 200\n",
      "\tmin_child_weight: 1\n",
      "\tmin_split_gain: 0.001\n",
      "\tnum_leaves: 100\n",
      "wandb: Agent Started Run: a4g1gvup\n"
     ]
    },
    {
     "data": {
      "text/html": [
       "\n",
       "                Logging results to <a href=\"https://wandb.com\" target=\"_blank\">Weights & Biases</a> <a href=\"https://docs.wandb.com/integrations/jupyter.html\" target=\"_blank\">(Documentation)</a>.<br/>\n",
       "                Project page: <a href=\"https://app.wandb.ai/sinisha123/hyperparameter-sweeps-lgb\" target=\"_blank\">https://app.wandb.ai/sinisha123/hyperparameter-sweeps-lgb</a><br/>\n",
       "                Sweep page: <a href=\"https://app.wandb.ai/sinisha123/hyperparameter-sweeps-lgb/sweeps/5kphf6z9\" target=\"_blank\">https://app.wandb.ai/sinisha123/hyperparameter-sweeps-lgb/sweeps/5kphf6z9</a><br/>\n",
       "Run page: <a href=\"https://app.wandb.ai/sinisha123/hyperparameter-sweeps-lgb/runs/a4g1gvup\" target=\"_blank\">https://app.wandb.ai/sinisha123/hyperparameter-sweeps-lgb/runs/a4g1gvup</a><br/>\n",
       "            "
      ],
      "text/plain": [
       "<IPython.core.display.HTML object>"
      ]
     },
     "metadata": {},
     "output_type": "display_data"
    },
    {
     "name": "stdout",
     "output_type": "stream",
     "text": [
      "wandb: Agent Finished Run: a4g1gvup \n",
      "\n"
     ]
    },
    {
     "name": "stderr",
     "output_type": "stream",
     "text": [
      "wandb: Network error resolved after 0:00:12.982412, resuming normal operation.\n"
     ]
    },
    {
     "name": "stdout",
     "output_type": "stream",
     "text": [
      "wandb: Agent Starting Run: vpcp8rip with config:\n",
      "\tbagging_fraction: 1\n",
      "\tfeature_fraction: 0.9\n",
      "\tmax_depth: 500\n",
      "\tmin_child_weight: 100\n",
      "\tmin_split_gain: 0.1\n",
      "\tnum_leaves: 700\n",
      "wandb: Agent Started Run: vpcp8rip\n"
     ]
    },
    {
     "data": {
      "text/html": [
       "\n",
       "                Logging results to <a href=\"https://wandb.com\" target=\"_blank\">Weights & Biases</a> <a href=\"https://docs.wandb.com/integrations/jupyter.html\" target=\"_blank\">(Documentation)</a>.<br/>\n",
       "                Project page: <a href=\"https://app.wandb.ai/sinisha123/hyperparameter-sweeps-lgb\" target=\"_blank\">https://app.wandb.ai/sinisha123/hyperparameter-sweeps-lgb</a><br/>\n",
       "                Sweep page: <a href=\"https://app.wandb.ai/sinisha123/hyperparameter-sweeps-lgb/sweeps/5kphf6z9\" target=\"_blank\">https://app.wandb.ai/sinisha123/hyperparameter-sweeps-lgb/sweeps/5kphf6z9</a><br/>\n",
       "Run page: <a href=\"https://app.wandb.ai/sinisha123/hyperparameter-sweeps-lgb/runs/vpcp8rip\" target=\"_blank\">https://app.wandb.ai/sinisha123/hyperparameter-sweeps-lgb/runs/vpcp8rip</a><br/>\n",
       "            "
      ],
      "text/plain": [
       "<IPython.core.display.HTML object>"
      ]
     },
     "metadata": {},
     "output_type": "display_data"
    },
    {
     "name": "stdout",
     "output_type": "stream",
     "text": [
      "wandb: Agent Finished Run: vpcp8rip \n",
      "\n",
      "wandb: Agent Starting Run: tp94d2u1 with config:\n",
      "\tbagging_fraction: 0.1\n",
      "\tfeature_fraction: 0.1\n",
      "\tmax_depth: 200\n",
      "\tmin_child_weight: 1\n",
      "\tmin_split_gain: 0.1\n",
      "\tnum_leaves: 700\n",
      "wandb: Agent Started Run: tp94d2u1\n"
     ]
    },
    {
     "data": {
      "text/html": [
       "\n",
       "                Logging results to <a href=\"https://wandb.com\" target=\"_blank\">Weights & Biases</a> <a href=\"https://docs.wandb.com/integrations/jupyter.html\" target=\"_blank\">(Documentation)</a>.<br/>\n",
       "                Project page: <a href=\"https://app.wandb.ai/sinisha123/hyperparameter-sweeps-lgb\" target=\"_blank\">https://app.wandb.ai/sinisha123/hyperparameter-sweeps-lgb</a><br/>\n",
       "                Sweep page: <a href=\"https://app.wandb.ai/sinisha123/hyperparameter-sweeps-lgb/sweeps/5kphf6z9\" target=\"_blank\">https://app.wandb.ai/sinisha123/hyperparameter-sweeps-lgb/sweeps/5kphf6z9</a><br/>\n",
       "Run page: <a href=\"https://app.wandb.ai/sinisha123/hyperparameter-sweeps-lgb/runs/tp94d2u1\" target=\"_blank\">https://app.wandb.ai/sinisha123/hyperparameter-sweeps-lgb/runs/tp94d2u1</a><br/>\n",
       "            "
      ],
      "text/plain": [
       "<IPython.core.display.HTML object>"
      ]
     },
     "metadata": {},
     "output_type": "display_data"
    },
    {
     "name": "stdout",
     "output_type": "stream",
     "text": [
      "wandb: Agent Finished Run: tp94d2u1 \n",
      "\n",
      "wandb: Agent Starting Run: h5o0ru51 with config:\n",
      "\tbagging_fraction: 1\n",
      "\tfeature_fraction: 0.9\n",
      "\tmax_depth: 200\n",
      "\tmin_child_weight: 100\n",
      "\tmin_split_gain: 0.001\n",
      "\tnum_leaves: 700\n",
      "wandb: Agent Started Run: h5o0ru51\n"
     ]
    },
    {
     "data": {
      "text/html": [
       "\n",
       "                Logging results to <a href=\"https://wandb.com\" target=\"_blank\">Weights & Biases</a> <a href=\"https://docs.wandb.com/integrations/jupyter.html\" target=\"_blank\">(Documentation)</a>.<br/>\n",
       "                Project page: <a href=\"https://app.wandb.ai/sinisha123/hyperparameter-sweeps-lgb\" target=\"_blank\">https://app.wandb.ai/sinisha123/hyperparameter-sweeps-lgb</a><br/>\n",
       "                Sweep page: <a href=\"https://app.wandb.ai/sinisha123/hyperparameter-sweeps-lgb/sweeps/5kphf6z9\" target=\"_blank\">https://app.wandb.ai/sinisha123/hyperparameter-sweeps-lgb/sweeps/5kphf6z9</a><br/>\n",
       "Run page: <a href=\"https://app.wandb.ai/sinisha123/hyperparameter-sweeps-lgb/runs/h5o0ru51\" target=\"_blank\">https://app.wandb.ai/sinisha123/hyperparameter-sweeps-lgb/runs/h5o0ru51</a><br/>\n",
       "            "
      ],
      "text/plain": [
       "<IPython.core.display.HTML object>"
      ]
     },
     "metadata": {},
     "output_type": "display_data"
    },
    {
     "name": "stdout",
     "output_type": "stream",
     "text": [
      "wandb: Agent Finished Run: h5o0ru51 \n",
      "\n",
      "wandb: Agent Starting Run: v02xtqhf with config:\n",
      "\tbagging_fraction: 1\n",
      "\tfeature_fraction: 0.9\n",
      "\tmax_depth: 200\n",
      "\tmin_child_weight: 1\n",
      "\tmin_split_gain: 0.001\n",
      "\tnum_leaves: 700\n",
      "wandb: Agent Started Run: v02xtqhf\n"
     ]
    },
    {
     "data": {
      "text/html": [
       "\n",
       "                Logging results to <a href=\"https://wandb.com\" target=\"_blank\">Weights & Biases</a> <a href=\"https://docs.wandb.com/integrations/jupyter.html\" target=\"_blank\">(Documentation)</a>.<br/>\n",
       "                Project page: <a href=\"https://app.wandb.ai/sinisha123/hyperparameter-sweeps-lgb\" target=\"_blank\">https://app.wandb.ai/sinisha123/hyperparameter-sweeps-lgb</a><br/>\n",
       "                Sweep page: <a href=\"https://app.wandb.ai/sinisha123/hyperparameter-sweeps-lgb/sweeps/5kphf6z9\" target=\"_blank\">https://app.wandb.ai/sinisha123/hyperparameter-sweeps-lgb/sweeps/5kphf6z9</a><br/>\n",
       "Run page: <a href=\"https://app.wandb.ai/sinisha123/hyperparameter-sweeps-lgb/runs/v02xtqhf\" target=\"_blank\">https://app.wandb.ai/sinisha123/hyperparameter-sweeps-lgb/runs/v02xtqhf</a><br/>\n",
       "            "
      ],
      "text/plain": [
       "<IPython.core.display.HTML object>"
      ]
     },
     "metadata": {},
     "output_type": "display_data"
    },
    {
     "name": "stdout",
     "output_type": "stream",
     "text": [
      "wandb: Agent Finished Run: v02xtqhf \n",
      "\n",
      "wandb: Agent Starting Run: berfcij0 with config:\n",
      "\tbagging_fraction: 1\n",
      "\tfeature_fraction: 0.9\n",
      "\tmax_depth: 200\n",
      "\tmin_child_weight: 1\n",
      "\tmin_split_gain: 0.001\n",
      "\tnum_leaves: 100\n",
      "wandb: Agent Started Run: berfcij0\n"
     ]
    },
    {
     "data": {
      "text/html": [
       "\n",
       "                Logging results to <a href=\"https://wandb.com\" target=\"_blank\">Weights & Biases</a> <a href=\"https://docs.wandb.com/integrations/jupyter.html\" target=\"_blank\">(Documentation)</a>.<br/>\n",
       "                Project page: <a href=\"https://app.wandb.ai/sinisha123/hyperparameter-sweeps-lgb\" target=\"_blank\">https://app.wandb.ai/sinisha123/hyperparameter-sweeps-lgb</a><br/>\n",
       "                Sweep page: <a href=\"https://app.wandb.ai/sinisha123/hyperparameter-sweeps-lgb/sweeps/5kphf6z9\" target=\"_blank\">https://app.wandb.ai/sinisha123/hyperparameter-sweeps-lgb/sweeps/5kphf6z9</a><br/>\n",
       "Run page: <a href=\"https://app.wandb.ai/sinisha123/hyperparameter-sweeps-lgb/runs/berfcij0\" target=\"_blank\">https://app.wandb.ai/sinisha123/hyperparameter-sweeps-lgb/runs/berfcij0</a><br/>\n",
       "            "
      ],
      "text/plain": [
       "<IPython.core.display.HTML object>"
      ]
     },
     "metadata": {},
     "output_type": "display_data"
    },
    {
     "name": "stdout",
     "output_type": "stream",
     "text": [
      "wandb: Agent Finished Run: berfcij0 \n",
      "\n",
      "wandb: Agent Starting Run: 06qy7gxr with config:\n",
      "\tbagging_fraction: 1\n",
      "\tfeature_fraction: 0.1\n",
      "\tmax_depth: 500\n",
      "\tmin_child_weight: 1\n",
      "\tmin_split_gain: 0.001\n",
      "\tnum_leaves: 700\n",
      "wandb: Agent Started Run: 06qy7gxr\n"
     ]
    },
    {
     "data": {
      "text/html": [
       "\n",
       "                Logging results to <a href=\"https://wandb.com\" target=\"_blank\">Weights & Biases</a> <a href=\"https://docs.wandb.com/integrations/jupyter.html\" target=\"_blank\">(Documentation)</a>.<br/>\n",
       "                Project page: <a href=\"https://app.wandb.ai/sinisha123/hyperparameter-sweeps-lgb\" target=\"_blank\">https://app.wandb.ai/sinisha123/hyperparameter-sweeps-lgb</a><br/>\n",
       "                Sweep page: <a href=\"https://app.wandb.ai/sinisha123/hyperparameter-sweeps-lgb/sweeps/5kphf6z9\" target=\"_blank\">https://app.wandb.ai/sinisha123/hyperparameter-sweeps-lgb/sweeps/5kphf6z9</a><br/>\n",
       "Run page: <a href=\"https://app.wandb.ai/sinisha123/hyperparameter-sweeps-lgb/runs/06qy7gxr\" target=\"_blank\">https://app.wandb.ai/sinisha123/hyperparameter-sweeps-lgb/runs/06qy7gxr</a><br/>\n",
       "            "
      ],
      "text/plain": [
       "<IPython.core.display.HTML object>"
      ]
     },
     "metadata": {},
     "output_type": "display_data"
    },
    {
     "name": "stdout",
     "output_type": "stream",
     "text": [
      "wandb: Agent Finished Run: 06qy7gxr \n",
      "\n",
      "wandb: Agent Starting Run: fxpqx8sm with config:\n",
      "\tbagging_fraction: 1\n",
      "\tfeature_fraction: 0.9\n",
      "\tmax_depth: 200\n",
      "\tmin_child_weight: 1\n",
      "\tmin_split_gain: 0.1\n",
      "\tnum_leaves: 700\n",
      "wandb: Agent Started Run: fxpqx8sm\n"
     ]
    },
    {
     "data": {
      "text/html": [
       "\n",
       "                Logging results to <a href=\"https://wandb.com\" target=\"_blank\">Weights & Biases</a> <a href=\"https://docs.wandb.com/integrations/jupyter.html\" target=\"_blank\">(Documentation)</a>.<br/>\n",
       "                Project page: <a href=\"https://app.wandb.ai/sinisha123/hyperparameter-sweeps-lgb\" target=\"_blank\">https://app.wandb.ai/sinisha123/hyperparameter-sweeps-lgb</a><br/>\n",
       "                Sweep page: <a href=\"https://app.wandb.ai/sinisha123/hyperparameter-sweeps-lgb/sweeps/5kphf6z9\" target=\"_blank\">https://app.wandb.ai/sinisha123/hyperparameter-sweeps-lgb/sweeps/5kphf6z9</a><br/>\n",
       "Run page: <a href=\"https://app.wandb.ai/sinisha123/hyperparameter-sweeps-lgb/runs/fxpqx8sm\" target=\"_blank\">https://app.wandb.ai/sinisha123/hyperparameter-sweeps-lgb/runs/fxpqx8sm</a><br/>\n",
       "            "
      ],
      "text/plain": [
       "<IPython.core.display.HTML object>"
      ]
     },
     "metadata": {},
     "output_type": "display_data"
    },
    {
     "name": "stdout",
     "output_type": "stream",
     "text": [
      "wandb: Agent Finished Run: fxpqx8sm \n",
      "\n",
      "wandb: Agent Starting Run: txpgn9lt with config:\n",
      "\tbagging_fraction: 1\n",
      "\tfeature_fraction: 0.1\n",
      "\tmax_depth: 500\n",
      "\tmin_child_weight: 1\n",
      "\tmin_split_gain: 0.001\n",
      "\tnum_leaves: 700\n",
      "wandb: Agent Started Run: txpgn9lt\n"
     ]
    },
    {
     "data": {
      "text/html": [
       "\n",
       "                Logging results to <a href=\"https://wandb.com\" target=\"_blank\">Weights & Biases</a> <a href=\"https://docs.wandb.com/integrations/jupyter.html\" target=\"_blank\">(Documentation)</a>.<br/>\n",
       "                Project page: <a href=\"https://app.wandb.ai/sinisha123/hyperparameter-sweeps-lgb\" target=\"_blank\">https://app.wandb.ai/sinisha123/hyperparameter-sweeps-lgb</a><br/>\n",
       "                Sweep page: <a href=\"https://app.wandb.ai/sinisha123/hyperparameter-sweeps-lgb/sweeps/5kphf6z9\" target=\"_blank\">https://app.wandb.ai/sinisha123/hyperparameter-sweeps-lgb/sweeps/5kphf6z9</a><br/>\n",
       "Run page: <a href=\"https://app.wandb.ai/sinisha123/hyperparameter-sweeps-lgb/runs/txpgn9lt\" target=\"_blank\">https://app.wandb.ai/sinisha123/hyperparameter-sweeps-lgb/runs/txpgn9lt</a><br/>\n",
       "            "
      ],
      "text/plain": [
       "<IPython.core.display.HTML object>"
      ]
     },
     "metadata": {},
     "output_type": "display_data"
    },
    {
     "name": "stdout",
     "output_type": "stream",
     "text": [
      "wandb: Agent Finished Run: txpgn9lt \n",
      "\n",
      "wandb: Agent Starting Run: txtf2q0o with config:\n",
      "\tbagging_fraction: 0.1\n",
      "\tfeature_fraction: 0.1\n",
      "\tmax_depth: 200\n",
      "\tmin_child_weight: 1\n",
      "\tmin_split_gain: 0.1\n",
      "\tnum_leaves: 100\n",
      "wandb: Agent Started Run: txtf2q0o\n"
     ]
    },
    {
     "data": {
      "text/html": [
       "\n",
       "                Logging results to <a href=\"https://wandb.com\" target=\"_blank\">Weights & Biases</a> <a href=\"https://docs.wandb.com/integrations/jupyter.html\" target=\"_blank\">(Documentation)</a>.<br/>\n",
       "                Project page: <a href=\"https://app.wandb.ai/sinisha123/hyperparameter-sweeps-lgb\" target=\"_blank\">https://app.wandb.ai/sinisha123/hyperparameter-sweeps-lgb</a><br/>\n",
       "                Sweep page: <a href=\"https://app.wandb.ai/sinisha123/hyperparameter-sweeps-lgb/sweeps/5kphf6z9\" target=\"_blank\">https://app.wandb.ai/sinisha123/hyperparameter-sweeps-lgb/sweeps/5kphf6z9</a><br/>\n",
       "Run page: <a href=\"https://app.wandb.ai/sinisha123/hyperparameter-sweeps-lgb/runs/txtf2q0o\" target=\"_blank\">https://app.wandb.ai/sinisha123/hyperparameter-sweeps-lgb/runs/txtf2q0o</a><br/>\n",
       "            "
      ],
      "text/plain": [
       "<IPython.core.display.HTML object>"
      ]
     },
     "metadata": {},
     "output_type": "display_data"
    },
    {
     "name": "stdout",
     "output_type": "stream",
     "text": [
      "wandb: Agent Finished Run: txtf2q0o \n",
      "\n",
      "wandb: Agent Starting Run: 4vazjqxo with config:\n",
      "\tbagging_fraction: 1\n",
      "\tfeature_fraction: 0.1\n",
      "\tmax_depth: 500\n",
      "\tmin_child_weight: 1\n",
      "\tmin_split_gain: 0.001\n",
      "\tnum_leaves: 100\n",
      "wandb: Agent Started Run: 4vazjqxo\n"
     ]
    },
    {
     "data": {
      "text/html": [
       "\n",
       "                Logging results to <a href=\"https://wandb.com\" target=\"_blank\">Weights & Biases</a> <a href=\"https://docs.wandb.com/integrations/jupyter.html\" target=\"_blank\">(Documentation)</a>.<br/>\n",
       "                Project page: <a href=\"https://app.wandb.ai/sinisha123/hyperparameter-sweeps-lgb\" target=\"_blank\">https://app.wandb.ai/sinisha123/hyperparameter-sweeps-lgb</a><br/>\n",
       "                Sweep page: <a href=\"https://app.wandb.ai/sinisha123/hyperparameter-sweeps-lgb/sweeps/5kphf6z9\" target=\"_blank\">https://app.wandb.ai/sinisha123/hyperparameter-sweeps-lgb/sweeps/5kphf6z9</a><br/>\n",
       "Run page: <a href=\"https://app.wandb.ai/sinisha123/hyperparameter-sweeps-lgb/runs/4vazjqxo\" target=\"_blank\">https://app.wandb.ai/sinisha123/hyperparameter-sweeps-lgb/runs/4vazjqxo</a><br/>\n",
       "            "
      ],
      "text/plain": [
       "<IPython.core.display.HTML object>"
      ]
     },
     "metadata": {},
     "output_type": "display_data"
    },
    {
     "name": "stdout",
     "output_type": "stream",
     "text": [
      "wandb: Agent Finished Run: 4vazjqxo \n",
      "\n",
      "wandb: Agent Starting Run: 5andfq08 with config:\n",
      "\tbagging_fraction: 1\n",
      "\tfeature_fraction: 0.1\n",
      "\tmax_depth: 200\n",
      "\tmin_child_weight: 1\n",
      "\tmin_split_gain: 0.1\n",
      "\tnum_leaves: 100\n",
      "wandb: Agent Started Run: 5andfq08\n"
     ]
    },
    {
     "data": {
      "text/html": [
       "\n",
       "                Logging results to <a href=\"https://wandb.com\" target=\"_blank\">Weights & Biases</a> <a href=\"https://docs.wandb.com/integrations/jupyter.html\" target=\"_blank\">(Documentation)</a>.<br/>\n",
       "                Project page: <a href=\"https://app.wandb.ai/sinisha123/hyperparameter-sweeps-lgb\" target=\"_blank\">https://app.wandb.ai/sinisha123/hyperparameter-sweeps-lgb</a><br/>\n",
       "                Sweep page: <a href=\"https://app.wandb.ai/sinisha123/hyperparameter-sweeps-lgb/sweeps/5kphf6z9\" target=\"_blank\">https://app.wandb.ai/sinisha123/hyperparameter-sweeps-lgb/sweeps/5kphf6z9</a><br/>\n",
       "Run page: <a href=\"https://app.wandb.ai/sinisha123/hyperparameter-sweeps-lgb/runs/5andfq08\" target=\"_blank\">https://app.wandb.ai/sinisha123/hyperparameter-sweeps-lgb/runs/5andfq08</a><br/>\n",
       "            "
      ],
      "text/plain": [
       "<IPython.core.display.HTML object>"
      ]
     },
     "metadata": {},
     "output_type": "display_data"
    },
    {
     "name": "stdout",
     "output_type": "stream",
     "text": [
      "wandb: Agent Finished Run: 5andfq08 \n",
      "\n",
      "wandb: Agent Starting Run: nx3g44om with config:\n",
      "\tbagging_fraction: 0.1\n",
      "\tfeature_fraction: 0.9\n",
      "\tmax_depth: 200\n",
      "\tmin_child_weight: 1\n",
      "\tmin_split_gain: 0.1\n",
      "\tnum_leaves: 700\n",
      "wandb: Agent Started Run: nx3g44om\n"
     ]
    },
    {
     "data": {
      "text/html": [
       "\n",
       "                Logging results to <a href=\"https://wandb.com\" target=\"_blank\">Weights & Biases</a> <a href=\"https://docs.wandb.com/integrations/jupyter.html\" target=\"_blank\">(Documentation)</a>.<br/>\n",
       "                Project page: <a href=\"https://app.wandb.ai/sinisha123/hyperparameter-sweeps-lgb\" target=\"_blank\">https://app.wandb.ai/sinisha123/hyperparameter-sweeps-lgb</a><br/>\n",
       "                Sweep page: <a href=\"https://app.wandb.ai/sinisha123/hyperparameter-sweeps-lgb/sweeps/5kphf6z9\" target=\"_blank\">https://app.wandb.ai/sinisha123/hyperparameter-sweeps-lgb/sweeps/5kphf6z9</a><br/>\n",
       "Run page: <a href=\"https://app.wandb.ai/sinisha123/hyperparameter-sweeps-lgb/runs/nx3g44om\" target=\"_blank\">https://app.wandb.ai/sinisha123/hyperparameter-sweeps-lgb/runs/nx3g44om</a><br/>\n",
       "            "
      ],
      "text/plain": [
       "<IPython.core.display.HTML object>"
      ]
     },
     "metadata": {},
     "output_type": "display_data"
    },
    {
     "name": "stdout",
     "output_type": "stream",
     "text": [
      "wandb: Agent Finished Run: nx3g44om \n",
      "\n",
      "wandb: Agent Starting Run: t925wrzs with config:\n",
      "\tbagging_fraction: 1\n",
      "\tfeature_fraction: 0.9\n",
      "\tmax_depth: 200\n",
      "\tmin_child_weight: 100\n",
      "\tmin_split_gain: 0.001\n",
      "\tnum_leaves: 700\n",
      "wandb: Agent Started Run: t925wrzs\n"
     ]
    },
    {
     "data": {
      "text/html": [
       "\n",
       "                Logging results to <a href=\"https://wandb.com\" target=\"_blank\">Weights & Biases</a> <a href=\"https://docs.wandb.com/integrations/jupyter.html\" target=\"_blank\">(Documentation)</a>.<br/>\n",
       "                Project page: <a href=\"https://app.wandb.ai/sinisha123/hyperparameter-sweeps-lgb\" target=\"_blank\">https://app.wandb.ai/sinisha123/hyperparameter-sweeps-lgb</a><br/>\n",
       "                Sweep page: <a href=\"https://app.wandb.ai/sinisha123/hyperparameter-sweeps-lgb/sweeps/5kphf6z9\" target=\"_blank\">https://app.wandb.ai/sinisha123/hyperparameter-sweeps-lgb/sweeps/5kphf6z9</a><br/>\n",
       "Run page: <a href=\"https://app.wandb.ai/sinisha123/hyperparameter-sweeps-lgb/runs/t925wrzs\" target=\"_blank\">https://app.wandb.ai/sinisha123/hyperparameter-sweeps-lgb/runs/t925wrzs</a><br/>\n",
       "            "
      ],
      "text/plain": [
       "<IPython.core.display.HTML object>"
      ]
     },
     "metadata": {},
     "output_type": "display_data"
    },
    {
     "name": "stdout",
     "output_type": "stream",
     "text": [
      "wandb: Agent Finished Run: t925wrzs \n",
      "\n",
      "wandb: Agent Starting Run: s7sesde6 with config:\n",
      "\tbagging_fraction: 0.1\n",
      "\tfeature_fraction: 0.1\n",
      "\tmax_depth: 200\n",
      "\tmin_child_weight: 100\n",
      "\tmin_split_gain: 0.1\n",
      "\tnum_leaves: 700\n",
      "wandb: Agent Started Run: s7sesde6\n"
     ]
    },
    {
     "data": {
      "text/html": [
       "\n",
       "                Logging results to <a href=\"https://wandb.com\" target=\"_blank\">Weights & Biases</a> <a href=\"https://docs.wandb.com/integrations/jupyter.html\" target=\"_blank\">(Documentation)</a>.<br/>\n",
       "                Project page: <a href=\"https://app.wandb.ai/sinisha123/hyperparameter-sweeps-lgb\" target=\"_blank\">https://app.wandb.ai/sinisha123/hyperparameter-sweeps-lgb</a><br/>\n",
       "                Sweep page: <a href=\"https://app.wandb.ai/sinisha123/hyperparameter-sweeps-lgb/sweeps/5kphf6z9\" target=\"_blank\">https://app.wandb.ai/sinisha123/hyperparameter-sweeps-lgb/sweeps/5kphf6z9</a><br/>\n",
       "Run page: <a href=\"https://app.wandb.ai/sinisha123/hyperparameter-sweeps-lgb/runs/s7sesde6\" target=\"_blank\">https://app.wandb.ai/sinisha123/hyperparameter-sweeps-lgb/runs/s7sesde6</a><br/>\n",
       "            "
      ],
      "text/plain": [
       "<IPython.core.display.HTML object>"
      ]
     },
     "metadata": {},
     "output_type": "display_data"
    },
    {
     "name": "stdout",
     "output_type": "stream",
     "text": [
      "wandb: Agent Finished Run: s7sesde6 \n",
      "\n",
      "wandb: Agent Starting Run: zoyxdd08 with config:\n",
      "\tbagging_fraction: 0.1\n",
      "\tfeature_fraction: 0.1\n",
      "\tmax_depth: 200\n",
      "\tmin_child_weight: 100\n",
      "\tmin_split_gain: 0.001\n",
      "\tnum_leaves: 700\n",
      "wandb: Agent Started Run: zoyxdd08\n"
     ]
    },
    {
     "data": {
      "text/html": [
       "\n",
       "                Logging results to <a href=\"https://wandb.com\" target=\"_blank\">Weights & Biases</a> <a href=\"https://docs.wandb.com/integrations/jupyter.html\" target=\"_blank\">(Documentation)</a>.<br/>\n",
       "                Project page: <a href=\"https://app.wandb.ai/sinisha123/hyperparameter-sweeps-lgb\" target=\"_blank\">https://app.wandb.ai/sinisha123/hyperparameter-sweeps-lgb</a><br/>\n",
       "                Sweep page: <a href=\"https://app.wandb.ai/sinisha123/hyperparameter-sweeps-lgb/sweeps/5kphf6z9\" target=\"_blank\">https://app.wandb.ai/sinisha123/hyperparameter-sweeps-lgb/sweeps/5kphf6z9</a><br/>\n",
       "Run page: <a href=\"https://app.wandb.ai/sinisha123/hyperparameter-sweeps-lgb/runs/zoyxdd08\" target=\"_blank\">https://app.wandb.ai/sinisha123/hyperparameter-sweeps-lgb/runs/zoyxdd08</a><br/>\n",
       "            "
      ],
      "text/plain": [
       "<IPython.core.display.HTML object>"
      ]
     },
     "metadata": {},
     "output_type": "display_data"
    },
    {
     "name": "stdout",
     "output_type": "stream",
     "text": [
      "wandb: Agent Finished Run: zoyxdd08 \n",
      "\n",
      "wandb: Agent Starting Run: 712edi5f with config:\n",
      "\tbagging_fraction: 0.1\n",
      "\tfeature_fraction: 0.1\n",
      "\tmax_depth: 200\n",
      "\tmin_child_weight: 1\n",
      "\tmin_split_gain: 0.1\n",
      "\tnum_leaves: 700\n",
      "wandb: Agent Started Run: 712edi5f\n"
     ]
    },
    {
     "data": {
      "text/html": [
       "\n",
       "                Logging results to <a href=\"https://wandb.com\" target=\"_blank\">Weights & Biases</a> <a href=\"https://docs.wandb.com/integrations/jupyter.html\" target=\"_blank\">(Documentation)</a>.<br/>\n",
       "                Project page: <a href=\"https://app.wandb.ai/sinisha123/hyperparameter-sweeps-lgb\" target=\"_blank\">https://app.wandb.ai/sinisha123/hyperparameter-sweeps-lgb</a><br/>\n",
       "                Sweep page: <a href=\"https://app.wandb.ai/sinisha123/hyperparameter-sweeps-lgb/sweeps/5kphf6z9\" target=\"_blank\">https://app.wandb.ai/sinisha123/hyperparameter-sweeps-lgb/sweeps/5kphf6z9</a><br/>\n",
       "Run page: <a href=\"https://app.wandb.ai/sinisha123/hyperparameter-sweeps-lgb/runs/712edi5f\" target=\"_blank\">https://app.wandb.ai/sinisha123/hyperparameter-sweeps-lgb/runs/712edi5f</a><br/>\n",
       "            "
      ],
      "text/plain": [
       "<IPython.core.display.HTML object>"
      ]
     },
     "metadata": {},
     "output_type": "display_data"
    },
    {
     "name": "stdout",
     "output_type": "stream",
     "text": [
      "wandb: Agent Finished Run: 712edi5f \n",
      "\n",
      "wandb: Agent Starting Run: uee2wvbb with config:\n",
      "\tbagging_fraction: 0.1\n",
      "\tfeature_fraction: 0.9\n",
      "\tmax_depth: 200\n",
      "\tmin_child_weight: 1\n",
      "\tmin_split_gain: 0.1\n",
      "\tnum_leaves: 100\n",
      "wandb: Agent Started Run: uee2wvbb\n"
     ]
    },
    {
     "data": {
      "text/html": [
       "\n",
       "                Logging results to <a href=\"https://wandb.com\" target=\"_blank\">Weights & Biases</a> <a href=\"https://docs.wandb.com/integrations/jupyter.html\" target=\"_blank\">(Documentation)</a>.<br/>\n",
       "                Project page: <a href=\"https://app.wandb.ai/sinisha123/hyperparameter-sweeps-lgb\" target=\"_blank\">https://app.wandb.ai/sinisha123/hyperparameter-sweeps-lgb</a><br/>\n",
       "                Sweep page: <a href=\"https://app.wandb.ai/sinisha123/hyperparameter-sweeps-lgb/sweeps/5kphf6z9\" target=\"_blank\">https://app.wandb.ai/sinisha123/hyperparameter-sweeps-lgb/sweeps/5kphf6z9</a><br/>\n",
       "Run page: <a href=\"https://app.wandb.ai/sinisha123/hyperparameter-sweeps-lgb/runs/uee2wvbb\" target=\"_blank\">https://app.wandb.ai/sinisha123/hyperparameter-sweeps-lgb/runs/uee2wvbb</a><br/>\n",
       "            "
      ],
      "text/plain": [
       "<IPython.core.display.HTML object>"
      ]
     },
     "metadata": {},
     "output_type": "display_data"
    },
    {
     "name": "stdout",
     "output_type": "stream",
     "text": [
      "wandb: Agent Finished Run: uee2wvbb \n",
      "\n",
      "wandb: Agent Starting Run: wxb7oavq with config:\n",
      "\tbagging_fraction: 1\n",
      "\tfeature_fraction: 0.1\n",
      "\tmax_depth: 200\n",
      "\tmin_child_weight: 1\n",
      "\tmin_split_gain: 0.001\n",
      "\tnum_leaves: 100\n",
      "wandb: Agent Started Run: wxb7oavq\n"
     ]
    },
    {
     "data": {
      "text/html": [
       "\n",
       "                Logging results to <a href=\"https://wandb.com\" target=\"_blank\">Weights & Biases</a> <a href=\"https://docs.wandb.com/integrations/jupyter.html\" target=\"_blank\">(Documentation)</a>.<br/>\n",
       "                Project page: <a href=\"https://app.wandb.ai/sinisha123/hyperparameter-sweeps-lgb\" target=\"_blank\">https://app.wandb.ai/sinisha123/hyperparameter-sweeps-lgb</a><br/>\n",
       "                Sweep page: <a href=\"https://app.wandb.ai/sinisha123/hyperparameter-sweeps-lgb/sweeps/5kphf6z9\" target=\"_blank\">https://app.wandb.ai/sinisha123/hyperparameter-sweeps-lgb/sweeps/5kphf6z9</a><br/>\n",
       "Run page: <a href=\"https://app.wandb.ai/sinisha123/hyperparameter-sweeps-lgb/runs/wxb7oavq\" target=\"_blank\">https://app.wandb.ai/sinisha123/hyperparameter-sweeps-lgb/runs/wxb7oavq</a><br/>\n",
       "            "
      ],
      "text/plain": [
       "<IPython.core.display.HTML object>"
      ]
     },
     "metadata": {},
     "output_type": "display_data"
    },
    {
     "name": "stdout",
     "output_type": "stream",
     "text": [
      "wandb: Agent Finished Run: wxb7oavq \n",
      "\n",
      "wandb: Agent Starting Run: ttktt57n with config:\n",
      "\tbagging_fraction: 1\n",
      "\tfeature_fraction: 0.1\n",
      "\tmax_depth: 500\n",
      "\tmin_child_weight: 100\n",
      "\tmin_split_gain: 0.001\n",
      "\tnum_leaves: 700\n",
      "wandb: Agent Started Run: ttktt57n\n"
     ]
    },
    {
     "data": {
      "text/html": [
       "\n",
       "                Logging results to <a href=\"https://wandb.com\" target=\"_blank\">Weights & Biases</a> <a href=\"https://docs.wandb.com/integrations/jupyter.html\" target=\"_blank\">(Documentation)</a>.<br/>\n",
       "                Project page: <a href=\"https://app.wandb.ai/sinisha123/hyperparameter-sweeps-lgb\" target=\"_blank\">https://app.wandb.ai/sinisha123/hyperparameter-sweeps-lgb</a><br/>\n",
       "                Sweep page: <a href=\"https://app.wandb.ai/sinisha123/hyperparameter-sweeps-lgb/sweeps/5kphf6z9\" target=\"_blank\">https://app.wandb.ai/sinisha123/hyperparameter-sweeps-lgb/sweeps/5kphf6z9</a><br/>\n",
       "Run page: <a href=\"https://app.wandb.ai/sinisha123/hyperparameter-sweeps-lgb/runs/ttktt57n\" target=\"_blank\">https://app.wandb.ai/sinisha123/hyperparameter-sweeps-lgb/runs/ttktt57n</a><br/>\n",
       "            "
      ],
      "text/plain": [
       "<IPython.core.display.HTML object>"
      ]
     },
     "metadata": {},
     "output_type": "display_data"
    },
    {
     "name": "stdout",
     "output_type": "stream",
     "text": [
      "wandb: Agent Finished Run: ttktt57n \n",
      "\n",
      "wandb: Agent Starting Run: rurrejdl with config:\n",
      "\tbagging_fraction: 1\n",
      "\tfeature_fraction: 0.1\n",
      "\tmax_depth: 500\n",
      "\tmin_child_weight: 1\n",
      "\tmin_split_gain: 0.001\n",
      "\tnum_leaves: 700\n",
      "wandb: Agent Started Run: rurrejdl\n"
     ]
    },
    {
     "data": {
      "text/html": [
       "\n",
       "                Logging results to <a href=\"https://wandb.com\" target=\"_blank\">Weights & Biases</a> <a href=\"https://docs.wandb.com/integrations/jupyter.html\" target=\"_blank\">(Documentation)</a>.<br/>\n",
       "                Project page: <a href=\"https://app.wandb.ai/sinisha123/hyperparameter-sweeps-lgb\" target=\"_blank\">https://app.wandb.ai/sinisha123/hyperparameter-sweeps-lgb</a><br/>\n",
       "                Sweep page: <a href=\"https://app.wandb.ai/sinisha123/hyperparameter-sweeps-lgb/sweeps/5kphf6z9\" target=\"_blank\">https://app.wandb.ai/sinisha123/hyperparameter-sweeps-lgb/sweeps/5kphf6z9</a><br/>\n",
       "Run page: <a href=\"https://app.wandb.ai/sinisha123/hyperparameter-sweeps-lgb/runs/rurrejdl\" target=\"_blank\">https://app.wandb.ai/sinisha123/hyperparameter-sweeps-lgb/runs/rurrejdl</a><br/>\n",
       "            "
      ],
      "text/plain": [
       "<IPython.core.display.HTML object>"
      ]
     },
     "metadata": {},
     "output_type": "display_data"
    },
    {
     "name": "stdout",
     "output_type": "stream",
     "text": [
      "wandb: Agent Finished Run: rurrejdl \n",
      "\n",
      "wandb: Agent Starting Run: php5sj7k with config:\n",
      "\tbagging_fraction: 0.1\n",
      "\tfeature_fraction: 0.9\n",
      "\tmax_depth: 200\n",
      "\tmin_child_weight: 100\n",
      "\tmin_split_gain: 0.001\n",
      "\tnum_leaves: 100\n",
      "wandb: Agent Started Run: php5sj7k\n"
     ]
    },
    {
     "data": {
      "text/html": [
       "\n",
       "                Logging results to <a href=\"https://wandb.com\" target=\"_blank\">Weights & Biases</a> <a href=\"https://docs.wandb.com/integrations/jupyter.html\" target=\"_blank\">(Documentation)</a>.<br/>\n",
       "                Project page: <a href=\"https://app.wandb.ai/sinisha123/hyperparameter-sweeps-lgb\" target=\"_blank\">https://app.wandb.ai/sinisha123/hyperparameter-sweeps-lgb</a><br/>\n",
       "                Sweep page: <a href=\"https://app.wandb.ai/sinisha123/hyperparameter-sweeps-lgb/sweeps/5kphf6z9\" target=\"_blank\">https://app.wandb.ai/sinisha123/hyperparameter-sweeps-lgb/sweeps/5kphf6z9</a><br/>\n",
       "Run page: <a href=\"https://app.wandb.ai/sinisha123/hyperparameter-sweeps-lgb/runs/php5sj7k\" target=\"_blank\">https://app.wandb.ai/sinisha123/hyperparameter-sweeps-lgb/runs/php5sj7k</a><br/>\n",
       "            "
      ],
      "text/plain": [
       "<IPython.core.display.HTML object>"
      ]
     },
     "metadata": {},
     "output_type": "display_data"
    },
    {
     "name": "stdout",
     "output_type": "stream",
     "text": [
      "wandb: Agent Finished Run: php5sj7k \n",
      "\n",
      "wandb: Agent Starting Run: tc2h5apu with config:\n",
      "\tbagging_fraction: 0.1\n",
      "\tfeature_fraction: 0.9\n",
      "\tmax_depth: 500\n",
      "\tmin_child_weight: 100\n",
      "\tmin_split_gain: 0.001\n",
      "\tnum_leaves: 100\n",
      "wandb: Agent Started Run: tc2h5apu\n"
     ]
    },
    {
     "data": {
      "text/html": [
       "\n",
       "                Logging results to <a href=\"https://wandb.com\" target=\"_blank\">Weights & Biases</a> <a href=\"https://docs.wandb.com/integrations/jupyter.html\" target=\"_blank\">(Documentation)</a>.<br/>\n",
       "                Project page: <a href=\"https://app.wandb.ai/sinisha123/hyperparameter-sweeps-lgb\" target=\"_blank\">https://app.wandb.ai/sinisha123/hyperparameter-sweeps-lgb</a><br/>\n",
       "                Sweep page: <a href=\"https://app.wandb.ai/sinisha123/hyperparameter-sweeps-lgb/sweeps/5kphf6z9\" target=\"_blank\">https://app.wandb.ai/sinisha123/hyperparameter-sweeps-lgb/sweeps/5kphf6z9</a><br/>\n",
       "Run page: <a href=\"https://app.wandb.ai/sinisha123/hyperparameter-sweeps-lgb/runs/tc2h5apu\" target=\"_blank\">https://app.wandb.ai/sinisha123/hyperparameter-sweeps-lgb/runs/tc2h5apu</a><br/>\n",
       "            "
      ],
      "text/plain": [
       "<IPython.core.display.HTML object>"
      ]
     },
     "metadata": {},
     "output_type": "display_data"
    },
    {
     "name": "stdout",
     "output_type": "stream",
     "text": [
      "wandb: Agent Finished Run: tc2h5apu \n",
      "\n",
      "wandb: Agent Starting Run: fo5hdcus with config:\n",
      "\tbagging_fraction: 0.1\n",
      "\tfeature_fraction: 0.9\n",
      "\tmax_depth: 500\n",
      "\tmin_child_weight: 100\n",
      "\tmin_split_gain: 0.001\n",
      "\tnum_leaves: 100\n",
      "wandb: Agent Started Run: fo5hdcus\n"
     ]
    },
    {
     "data": {
      "text/html": [
       "\n",
       "                Logging results to <a href=\"https://wandb.com\" target=\"_blank\">Weights & Biases</a> <a href=\"https://docs.wandb.com/integrations/jupyter.html\" target=\"_blank\">(Documentation)</a>.<br/>\n",
       "                Project page: <a href=\"https://app.wandb.ai/sinisha123/hyperparameter-sweeps-lgb\" target=\"_blank\">https://app.wandb.ai/sinisha123/hyperparameter-sweeps-lgb</a><br/>\n",
       "                Sweep page: <a href=\"https://app.wandb.ai/sinisha123/hyperparameter-sweeps-lgb/sweeps/5kphf6z9\" target=\"_blank\">https://app.wandb.ai/sinisha123/hyperparameter-sweeps-lgb/sweeps/5kphf6z9</a><br/>\n",
       "Run page: <a href=\"https://app.wandb.ai/sinisha123/hyperparameter-sweeps-lgb/runs/fo5hdcus\" target=\"_blank\">https://app.wandb.ai/sinisha123/hyperparameter-sweeps-lgb/runs/fo5hdcus</a><br/>\n",
       "            "
      ],
      "text/plain": [
       "<IPython.core.display.HTML object>"
      ]
     },
     "metadata": {},
     "output_type": "display_data"
    },
    {
     "name": "stdout",
     "output_type": "stream",
     "text": [
      "wandb: Agent Finished Run: fo5hdcus \n",
      "\n",
      "wandb: Agent Starting Run: w0gh6b5c with config:\n",
      "\tbagging_fraction: 1\n",
      "\tfeature_fraction: 0.9\n",
      "\tmax_depth: 200\n",
      "\tmin_child_weight: 100\n",
      "\tmin_split_gain: 0.001\n",
      "\tnum_leaves: 100\n",
      "wandb: Agent Started Run: w0gh6b5c\n"
     ]
    },
    {
     "data": {
      "text/html": [
       "\n",
       "                Logging results to <a href=\"https://wandb.com\" target=\"_blank\">Weights & Biases</a> <a href=\"https://docs.wandb.com/integrations/jupyter.html\" target=\"_blank\">(Documentation)</a>.<br/>\n",
       "                Project page: <a href=\"https://app.wandb.ai/sinisha123/hyperparameter-sweeps-lgb\" target=\"_blank\">https://app.wandb.ai/sinisha123/hyperparameter-sweeps-lgb</a><br/>\n",
       "                Sweep page: <a href=\"https://app.wandb.ai/sinisha123/hyperparameter-sweeps-lgb/sweeps/5kphf6z9\" target=\"_blank\">https://app.wandb.ai/sinisha123/hyperparameter-sweeps-lgb/sweeps/5kphf6z9</a><br/>\n",
       "Run page: <a href=\"https://app.wandb.ai/sinisha123/hyperparameter-sweeps-lgb/runs/w0gh6b5c\" target=\"_blank\">https://app.wandb.ai/sinisha123/hyperparameter-sweeps-lgb/runs/w0gh6b5c</a><br/>\n",
       "            "
      ],
      "text/plain": [
       "<IPython.core.display.HTML object>"
      ]
     },
     "metadata": {},
     "output_type": "display_data"
    },
    {
     "name": "stdout",
     "output_type": "stream",
     "text": [
      "wandb: Agent Finished Run: w0gh6b5c \n",
      "\n",
      "wandb: Agent Starting Run: q1huqzbn with config:\n",
      "\tbagging_fraction: 0.1\n",
      "\tfeature_fraction: 0.1\n",
      "\tmax_depth: 500\n",
      "\tmin_child_weight: 1\n",
      "\tmin_split_gain: 0.001\n",
      "\tnum_leaves: 100\n",
      "wandb: Agent Started Run: q1huqzbn\n"
     ]
    },
    {
     "data": {
      "text/html": [
       "\n",
       "                Logging results to <a href=\"https://wandb.com\" target=\"_blank\">Weights & Biases</a> <a href=\"https://docs.wandb.com/integrations/jupyter.html\" target=\"_blank\">(Documentation)</a>.<br/>\n",
       "                Project page: <a href=\"https://app.wandb.ai/sinisha123/hyperparameter-sweeps-lgb\" target=\"_blank\">https://app.wandb.ai/sinisha123/hyperparameter-sweeps-lgb</a><br/>\n",
       "                Sweep page: <a href=\"https://app.wandb.ai/sinisha123/hyperparameter-sweeps-lgb/sweeps/5kphf6z9\" target=\"_blank\">https://app.wandb.ai/sinisha123/hyperparameter-sweeps-lgb/sweeps/5kphf6z9</a><br/>\n",
       "Run page: <a href=\"https://app.wandb.ai/sinisha123/hyperparameter-sweeps-lgb/runs/q1huqzbn\" target=\"_blank\">https://app.wandb.ai/sinisha123/hyperparameter-sweeps-lgb/runs/q1huqzbn</a><br/>\n",
       "            "
      ],
      "text/plain": [
       "<IPython.core.display.HTML object>"
      ]
     },
     "metadata": {},
     "output_type": "display_data"
    },
    {
     "name": "stdout",
     "output_type": "stream",
     "text": [
      "wandb: Agent Finished Run: q1huqzbn \n",
      "\n",
      "wandb: Agent Starting Run: nun7bitt with config:\n",
      "\tbagging_fraction: 1\n",
      "\tfeature_fraction: 0.1\n",
      "\tmax_depth: 500\n",
      "\tmin_child_weight: 100\n",
      "\tmin_split_gain: 0.1\n",
      "\tnum_leaves: 700\n",
      "wandb: Agent Started Run: nun7bitt\n"
     ]
    },
    {
     "data": {
      "text/html": [
       "\n",
       "                Logging results to <a href=\"https://wandb.com\" target=\"_blank\">Weights & Biases</a> <a href=\"https://docs.wandb.com/integrations/jupyter.html\" target=\"_blank\">(Documentation)</a>.<br/>\n",
       "                Project page: <a href=\"https://app.wandb.ai/sinisha123/hyperparameter-sweeps-lgb\" target=\"_blank\">https://app.wandb.ai/sinisha123/hyperparameter-sweeps-lgb</a><br/>\n",
       "                Sweep page: <a href=\"https://app.wandb.ai/sinisha123/hyperparameter-sweeps-lgb/sweeps/5kphf6z9\" target=\"_blank\">https://app.wandb.ai/sinisha123/hyperparameter-sweeps-lgb/sweeps/5kphf6z9</a><br/>\n",
       "Run page: <a href=\"https://app.wandb.ai/sinisha123/hyperparameter-sweeps-lgb/runs/nun7bitt\" target=\"_blank\">https://app.wandb.ai/sinisha123/hyperparameter-sweeps-lgb/runs/nun7bitt</a><br/>\n",
       "            "
      ],
      "text/plain": [
       "<IPython.core.display.HTML object>"
      ]
     },
     "metadata": {},
     "output_type": "display_data"
    },
    {
     "name": "stdout",
     "output_type": "stream",
     "text": [
      "wandb: Agent Finished Run: nun7bitt \n",
      "\n"
     ]
    }
   ],
   "source": [
    "wandb.agent(sweep_id, function=train)"
   ]
  },
  {
   "cell_type": "code",
   "execution_count": null,
   "metadata": {},
   "outputs": [],
   "source": []
  }
 ],
 "metadata": {
  "kernelspec": {
   "display_name": "Python 3",
   "language": "python",
   "name": "python3"
  },
  "language_info": {
   "codemirror_mode": {
    "name": "ipython",
    "version": 3
   },
   "file_extension": ".py",
   "mimetype": "text/x-python",
   "name": "python",
   "nbconvert_exporter": "python",
   "pygments_lexer": "ipython3",
   "version": "3.6.8"
  }
 },
 "nbformat": 4,
 "nbformat_minor": 2
}
