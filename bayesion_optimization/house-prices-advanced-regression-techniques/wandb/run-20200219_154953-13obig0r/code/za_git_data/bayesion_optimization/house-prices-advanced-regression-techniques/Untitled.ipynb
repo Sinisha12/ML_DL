{
 "cells": [
  {
   "cell_type": "code",
   "execution_count": 2,
   "metadata": {},
   "outputs": [],
   "source": [
    "import pandas as pd\n",
    "import numpy as np\n",
    "import matplotlib.pyplot as plt\n",
    "import seaborn as sns\n",
    "import lightgbm as lgb\n",
    "import catboost as cgb\n",
    "from bayes_opt import BayesianOptimization\n",
    "import warnings\n",
    "import wandb\n",
    "import time\n",
    "warnings.filterwarnings('ignore')"
   ]
  },
  {
   "cell_type": "code",
   "execution_count": 8,
   "metadata": {},
   "outputs": [],
   "source": [
    "METHOD = 'bayes'"
   ]
  },
  {
   "cell_type": "code",
   "execution_count": 18,
   "metadata": {},
   "outputs": [],
   "source": [
    "cat_features=[i for i in X.columns if X.dtypes[i]!='float']"
   ]
  },
  {
   "cell_type": "code",
   "execution_count": 3,
   "metadata": {},
   "outputs": [],
   "source": [
    "data = pd.read_csv('house_prices_clean.csv')"
   ]
  },
  {
   "cell_type": "code",
   "execution_count": 4,
   "metadata": {},
   "outputs": [
    {
     "data": {
      "text/plain": [
       "(1460, 127)"
      ]
     },
     "execution_count": 4,
     "metadata": {},
     "output_type": "execute_result"
    }
   ],
   "source": [
    "data.shape"
   ]
  },
  {
   "cell_type": "code",
   "execution_count": 5,
   "metadata": {},
   "outputs": [],
   "source": [
    "X = data.drop('SalePrice',axis =1)\n",
    "\n",
    "y = data['SalePrice']"
   ]
  },
  {
   "cell_type": "code",
   "execution_count": 19,
   "metadata": {},
   "outputs": [],
   "source": [
    "from sklearn.model_selection import train_test_split\n",
    "X_train1, X_test1, y_train1, y_test1 = train_test_split(X,y,test_size=0.2, random_state=123)"
   ]
  },
  {
   "cell_type": "code",
   "execution_count": 7,
   "metadata": {},
   "outputs": [],
   "source": [
    "from sklearn.metrics import mean_squared_log_error, mean_absolute_error, r2_score\n",
    "\n",
    "def rmsle(y_test, y_preds):\n",
    "    \"\"\"\n",
    "    Calculates Root Mean Squared Log Error between predictions and true labels\n",
    "    \"\"\"\n",
    "    return np.sqrt(mean_squared_log_error(y_test,y_preds))\n",
    "\n",
    "def rmse(predictions, targets): \n",
    "\n",
    "    return np.sqrt(((predictions - targets) ** 2).mean())\n",
    "\n",
    "def rmsle2(y, y0):\n",
    "    return np.sqrt(np.mean(np.square(np.log1p(y) - np.log1p(y0))))\n",
    "\n",
    "# Create function to evaluate model on a few different levels\n",
    "def show_scores(model):\n",
    "    train_preds = model.predict(X_train)\n",
    "    val_preds = model.predict(X_test)\n",
    "    scores = {'Training MAE': mean_absolute_error(y_train,train_preds),\n",
    "             'Valid MAE': mean_absolute_error(y_test,val_preds),\n",
    "             'Training R^2': r2_score(y_train,train_preds),\n",
    "             'Valid R^2': r2_score(y_test,val_preds),\n",
    "             'Training RMSE': rmse(y_train,train_preds),\n",
    "             'Valid RMSE': rmse(y_test,val_preds),\n",
    "             'Training RMSLE2': rmsle2(y_train,train_preds),\n",
    "             'Valid RMSLE2': rmsle2(y_test,val_preds)\n",
    "             }\n",
    "    \n",
    "    return scores\n",
    "    "
   ]
  },
  {
   "cell_type": "code",
   "execution_count": 28,
   "metadata": {},
   "outputs": [],
   "source": [
    "def train():\n",
    "    # Prepare data tuples\n",
    "    (X_train, y_train) = X_train1, y_train1\n",
    "    (X_test, y_test) = X_test1, y_test1\n",
    "    \n",
    "    # Default values for hyper-parameters we're going to sweep over\n",
    "    configs = {\n",
    "            'num_leaves': 100,            \n",
    "            'feature_fraction': 0.1,\n",
    "            'bagging_fraction': 0.1,\n",
    "            'max_depth': 200,\n",
    "            'min_split_gain': 0.001,\n",
    "            'min_child_weight': 1,\n",
    "            'method': METHOD\n",
    "    }\n",
    "\n",
    "    # Initilize a new wandb run\n",
    "    wandb.init(project='hyperparameter-sweeps-lgb', config=configs)\n",
    "    \n",
    "    # Config is a variable that holds and saves hyperparameters and inputs\n",
    "    config = wandb.config\n",
    "    \n",
    "    # Define the model\n",
    "    clf = lgb.LGBMRegressor(bagging_fraction = config.bagging_fraction,\n",
    "                       feature_fraction = config.feature_fraction,\n",
    "                       max_depth = config.max_depth,\n",
    "                       min_child_weight = config.min_child_weight,\n",
    "                       min_split_gain = config.min_split_gain,\n",
    "                       num_leaves = config.num_leaves)\n",
    "    \n",
    "    # Train the model\n",
    "    clf.fit(X_train,y_train)\n",
    "    \n"
   ]
  },
  {
   "cell_type": "code",
   "execution_count": 30,
   "metadata": {},
   "outputs": [],
   "source": [
    "def get_sweep_id(method):\n",
    "    sweep_config = {\n",
    "        'method': method,\n",
    "        'metric': {\n",
    "          'name': 'rmse',\n",
    "          'goal': 'minimize'   \n",
    "        },\n",
    "        'parameters':{\n",
    "            'num_leaves':{\n",
    "                'values': (100, 700)\n",
    "            },\n",
    "            'feature_fraction':{ 'values': (0.1, 0.9)},\n",
    "            'bagging_fraction':{ 'values': (0.1, 1)},\n",
    "            'max_depth':{ 'values': (200, 500)},\n",
    "            'min_split_gain':{ 'values': (0.001, 0.1)},\n",
    "            'min_child_weight': {'values': (1, 100) }\n",
    "            }\n",
    "        }\n",
    "    \n",
    "    sweep_id = wandb.sweep(sweep_config, project='hyperparameter-sweeps-lgb')\n",
    "    \n",
    "    return sweep_id"
   ]
  },
  {
   "cell_type": "code",
   "execution_count": 26,
   "metadata": {},
   "outputs": [
    {
     "name": "stdout",
     "output_type": "stream",
     "text": [
      "Create sweep with ID: 6j6xqns5\n",
      "Sweep URL: https://app.wandb.ai/sinisha123/hyperparameter-sweeps-comparison/sweeps/6j6xqns5\n"
     ]
    }
   ],
   "source": [
    "sweep_id = get_sweep_id('bayes')"
   ]
  },
  {
   "cell_type": "code",
   "execution_count": 29,
   "metadata": {},
   "outputs": [
    {
     "name": "stdout",
     "output_type": "stream",
     "text": [
      "wandb: Agent Starting Run: iftdiomt with config:\n",
      "\tbagging_fraction: 0.1\n",
      "\tfeature_fraction: 0.9\n",
      "\tmax_depth: 200\n",
      "\tmin_child_weight: 100\n",
      "\tmin_split_gain: 0.001\n",
      "\tnum_leaves: 100\n",
      "wandb: Agent Started Run: iftdiomt\n"
     ]
    },
    {
     "name": "stderr",
     "output_type": "stream",
     "text": [
      "wandb: WARNING Ignoring project='hyperparameter-sweeps-lgb' passed to wandb.init when running a sweep\n"
     ]
    },
    {
     "data": {
      "text/html": [
       "\n",
       "                Logging results to <a href=\"https://wandb.com\" target=\"_blank\">Weights & Biases</a> <a href=\"https://docs.wandb.com/integrations/jupyter.html\" target=\"_blank\">(Documentation)</a>.<br/>\n",
       "                Project page: <a href=\"https://app.wandb.ai/sinisha123/hyperparameter-sweeps-comparison\" target=\"_blank\">https://app.wandb.ai/sinisha123/hyperparameter-sweeps-comparison</a><br/>\n",
       "                Sweep page: <a href=\"https://app.wandb.ai/sinisha123/hyperparameter-sweeps-comparison/sweeps/6j6xqns5\" target=\"_blank\">https://app.wandb.ai/sinisha123/hyperparameter-sweeps-comparison/sweeps/6j6xqns5</a><br/>\n",
       "Run page: <a href=\"https://app.wandb.ai/sinisha123/hyperparameter-sweeps-comparison/runs/iftdiomt\" target=\"_blank\">https://app.wandb.ai/sinisha123/hyperparameter-sweeps-comparison/runs/iftdiomt</a><br/>\n",
       "            "
      ],
      "text/plain": [
       "<IPython.core.display.HTML object>"
      ]
     },
     "metadata": {},
     "output_type": "display_data"
    },
    {
     "name": "stdout",
     "output_type": "stream",
     "text": [
      "wandb: Agent Finished Run: iftdiomt \n",
      "\n",
      "wandb: Agent Starting Run: xa5i0a6p with config:\n",
      "\tbagging_fraction: 0.1\n",
      "\tfeature_fraction: 0.9\n",
      "\tmax_depth: 500\n",
      "\tmin_child_weight: 1\n",
      "\tmin_split_gain: 0.001\n",
      "\tnum_leaves: 100\n",
      "wandb: Agent Started Run: xa5i0a6p\n"
     ]
    },
    {
     "name": "stderr",
     "output_type": "stream",
     "text": [
      "wandb: WARNING Ignoring project='hyperparameter-sweeps-lgb' passed to wandb.init when running a sweep\n"
     ]
    },
    {
     "data": {
      "text/html": [
       "\n",
       "                Logging results to <a href=\"https://wandb.com\" target=\"_blank\">Weights & Biases</a> <a href=\"https://docs.wandb.com/integrations/jupyter.html\" target=\"_blank\">(Documentation)</a>.<br/>\n",
       "                Project page: <a href=\"https://app.wandb.ai/sinisha123/hyperparameter-sweeps-comparison\" target=\"_blank\">https://app.wandb.ai/sinisha123/hyperparameter-sweeps-comparison</a><br/>\n",
       "                Sweep page: <a href=\"https://app.wandb.ai/sinisha123/hyperparameter-sweeps-comparison/sweeps/6j6xqns5\" target=\"_blank\">https://app.wandb.ai/sinisha123/hyperparameter-sweeps-comparison/sweeps/6j6xqns5</a><br/>\n",
       "Run page: <a href=\"https://app.wandb.ai/sinisha123/hyperparameter-sweeps-comparison/runs/xa5i0a6p\" target=\"_blank\">https://app.wandb.ai/sinisha123/hyperparameter-sweeps-comparison/runs/xa5i0a6p</a><br/>\n",
       "            "
      ],
      "text/plain": [
       "<IPython.core.display.HTML object>"
      ]
     },
     "metadata": {},
     "output_type": "display_data"
    },
    {
     "name": "stdout",
     "output_type": "stream",
     "text": [
      "wandb: Agent Finished Run: xa5i0a6p \n",
      "\n",
      "wandb: Agent Starting Run: a3hbbf82 with config:\n",
      "\tbagging_fraction: 0.1\n",
      "\tfeature_fraction: 0.9\n",
      "\tmax_depth: 200\n",
      "\tmin_child_weight: 1\n",
      "\tmin_split_gain: 0.001\n",
      "\tnum_leaves: 100\n",
      "wandb: Agent Started Run: a3hbbf82\n"
     ]
    },
    {
     "name": "stderr",
     "output_type": "stream",
     "text": [
      "wandb: WARNING Ignoring project='hyperparameter-sweeps-lgb' passed to wandb.init when running a sweep\n"
     ]
    },
    {
     "data": {
      "text/html": [
       "\n",
       "                Logging results to <a href=\"https://wandb.com\" target=\"_blank\">Weights & Biases</a> <a href=\"https://docs.wandb.com/integrations/jupyter.html\" target=\"_blank\">(Documentation)</a>.<br/>\n",
       "                Project page: <a href=\"https://app.wandb.ai/sinisha123/hyperparameter-sweeps-comparison\" target=\"_blank\">https://app.wandb.ai/sinisha123/hyperparameter-sweeps-comparison</a><br/>\n",
       "                Sweep page: <a href=\"https://app.wandb.ai/sinisha123/hyperparameter-sweeps-comparison/sweeps/6j6xqns5\" target=\"_blank\">https://app.wandb.ai/sinisha123/hyperparameter-sweeps-comparison/sweeps/6j6xqns5</a><br/>\n",
       "Run page: <a href=\"https://app.wandb.ai/sinisha123/hyperparameter-sweeps-comparison/runs/a3hbbf82\" target=\"_blank\">https://app.wandb.ai/sinisha123/hyperparameter-sweeps-comparison/runs/a3hbbf82</a><br/>\n",
       "            "
      ],
      "text/plain": [
       "<IPython.core.display.HTML object>"
      ]
     },
     "metadata": {},
     "output_type": "display_data"
    },
    {
     "name": "stdout",
     "output_type": "stream",
     "text": [
      "wandb: Agent Finished Run: a3hbbf82 \n",
      "\n",
      "wandb: Agent Starting Run: wmvqkfyn with config:\n",
      "\tbagging_fraction: 1\n",
      "\tfeature_fraction: 0.1\n",
      "\tmax_depth: 200\n",
      "\tmin_child_weight: 1\n",
      "\tmin_split_gain: 0.001\n",
      "\tnum_leaves: 100\n",
      "wandb: Agent Started Run: wmvqkfyn\n"
     ]
    },
    {
     "name": "stderr",
     "output_type": "stream",
     "text": [
      "wandb: WARNING Ignoring project='hyperparameter-sweeps-lgb' passed to wandb.init when running a sweep\n"
     ]
    },
    {
     "data": {
      "text/html": [
       "\n",
       "                Logging results to <a href=\"https://wandb.com\" target=\"_blank\">Weights & Biases</a> <a href=\"https://docs.wandb.com/integrations/jupyter.html\" target=\"_blank\">(Documentation)</a>.<br/>\n",
       "                Project page: <a href=\"https://app.wandb.ai/sinisha123/hyperparameter-sweeps-comparison\" target=\"_blank\">https://app.wandb.ai/sinisha123/hyperparameter-sweeps-comparison</a><br/>\n",
       "                Sweep page: <a href=\"https://app.wandb.ai/sinisha123/hyperparameter-sweeps-comparison/sweeps/6j6xqns5\" target=\"_blank\">https://app.wandb.ai/sinisha123/hyperparameter-sweeps-comparison/sweeps/6j6xqns5</a><br/>\n",
       "Run page: <a href=\"https://app.wandb.ai/sinisha123/hyperparameter-sweeps-comparison/runs/wmvqkfyn\" target=\"_blank\">https://app.wandb.ai/sinisha123/hyperparameter-sweeps-comparison/runs/wmvqkfyn</a><br/>\n",
       "            "
      ],
      "text/plain": [
       "<IPython.core.display.HTML object>"
      ]
     },
     "metadata": {},
     "output_type": "display_data"
    },
    {
     "name": "stdout",
     "output_type": "stream",
     "text": [
      "wandb: Agent Finished Run: wmvqkfyn \n",
      "\n",
      "wandb: Agent Starting Run: rl0nqq59 with config:\n",
      "\tbagging_fraction: 1\n",
      "\tfeature_fraction: 0.9\n",
      "\tmax_depth: 200\n",
      "\tmin_child_weight: 100\n",
      "\tmin_split_gain: 0.001\n",
      "\tnum_leaves: 700\n",
      "wandb: Agent Started Run: rl0nqq59\n"
     ]
    },
    {
     "name": "stderr",
     "output_type": "stream",
     "text": [
      "wandb: WARNING Ignoring project='hyperparameter-sweeps-lgb' passed to wandb.init when running a sweep\n"
     ]
    },
    {
     "data": {
      "text/html": [
       "\n",
       "                Logging results to <a href=\"https://wandb.com\" target=\"_blank\">Weights & Biases</a> <a href=\"https://docs.wandb.com/integrations/jupyter.html\" target=\"_blank\">(Documentation)</a>.<br/>\n",
       "                Project page: <a href=\"https://app.wandb.ai/sinisha123/hyperparameter-sweeps-comparison\" target=\"_blank\">https://app.wandb.ai/sinisha123/hyperparameter-sweeps-comparison</a><br/>\n",
       "                Sweep page: <a href=\"https://app.wandb.ai/sinisha123/hyperparameter-sweeps-comparison/sweeps/6j6xqns5\" target=\"_blank\">https://app.wandb.ai/sinisha123/hyperparameter-sweeps-comparison/sweeps/6j6xqns5</a><br/>\n",
       "Run page: <a href=\"https://app.wandb.ai/sinisha123/hyperparameter-sweeps-comparison/runs/rl0nqq59\" target=\"_blank\">https://app.wandb.ai/sinisha123/hyperparameter-sweeps-comparison/runs/rl0nqq59</a><br/>\n",
       "            "
      ],
      "text/plain": [
       "<IPython.core.display.HTML object>"
      ]
     },
     "metadata": {},
     "output_type": "display_data"
    },
    {
     "name": "stdout",
     "output_type": "stream",
     "text": [
      "wandb: Agent Finished Run: rl0nqq59 \n",
      "\n",
      "wandb: Agent Starting Run: fgwf1fqf with config:\n",
      "\tbagging_fraction: 0.1\n",
      "\tfeature_fraction: 0.1\n",
      "\tmax_depth: 500\n",
      "\tmin_child_weight: 100\n",
      "\tmin_split_gain: 0.001\n",
      "\tnum_leaves: 700\n",
      "wandb: Agent Started Run: fgwf1fqf\n"
     ]
    },
    {
     "name": "stderr",
     "output_type": "stream",
     "text": [
      "wandb: WARNING Ignoring project='hyperparameter-sweeps-lgb' passed to wandb.init when running a sweep\n"
     ]
    },
    {
     "data": {
      "text/html": [
       "\n",
       "                Logging results to <a href=\"https://wandb.com\" target=\"_blank\">Weights & Biases</a> <a href=\"https://docs.wandb.com/integrations/jupyter.html\" target=\"_blank\">(Documentation)</a>.<br/>\n",
       "                Project page: <a href=\"https://app.wandb.ai/sinisha123/hyperparameter-sweeps-comparison\" target=\"_blank\">https://app.wandb.ai/sinisha123/hyperparameter-sweeps-comparison</a><br/>\n",
       "                Sweep page: <a href=\"https://app.wandb.ai/sinisha123/hyperparameter-sweeps-comparison/sweeps/6j6xqns5\" target=\"_blank\">https://app.wandb.ai/sinisha123/hyperparameter-sweeps-comparison/sweeps/6j6xqns5</a><br/>\n",
       "Run page: <a href=\"https://app.wandb.ai/sinisha123/hyperparameter-sweeps-comparison/runs/fgwf1fqf\" target=\"_blank\">https://app.wandb.ai/sinisha123/hyperparameter-sweeps-comparison/runs/fgwf1fqf</a><br/>\n",
       "            "
      ],
      "text/plain": [
       "<IPython.core.display.HTML object>"
      ]
     },
     "metadata": {},
     "output_type": "display_data"
    },
    {
     "name": "stdout",
     "output_type": "stream",
     "text": [
      "wandb: Agent Finished Run: fgwf1fqf \n",
      "\n",
      "wandb: Agent Starting Run: 0wtpgu27 with config:\n",
      "\tbagging_fraction: 1\n",
      "\tfeature_fraction: 0.1\n",
      "\tmax_depth: 500\n",
      "\tmin_child_weight: 1\n",
      "\tmin_split_gain: 0.1\n",
      "\tnum_leaves: 100\n",
      "wandb: Agent Started Run: 0wtpgu27\n"
     ]
    },
    {
     "name": "stderr",
     "output_type": "stream",
     "text": [
      "wandb: WARNING Ignoring project='hyperparameter-sweeps-lgb' passed to wandb.init when running a sweep\n"
     ]
    },
    {
     "data": {
      "text/html": [
       "\n",
       "                Logging results to <a href=\"https://wandb.com\" target=\"_blank\">Weights & Biases</a> <a href=\"https://docs.wandb.com/integrations/jupyter.html\" target=\"_blank\">(Documentation)</a>.<br/>\n",
       "                Project page: <a href=\"https://app.wandb.ai/sinisha123/hyperparameter-sweeps-comparison\" target=\"_blank\">https://app.wandb.ai/sinisha123/hyperparameter-sweeps-comparison</a><br/>\n",
       "                Sweep page: <a href=\"https://app.wandb.ai/sinisha123/hyperparameter-sweeps-comparison/sweeps/6j6xqns5\" target=\"_blank\">https://app.wandb.ai/sinisha123/hyperparameter-sweeps-comparison/sweeps/6j6xqns5</a><br/>\n",
       "Run page: <a href=\"https://app.wandb.ai/sinisha123/hyperparameter-sweeps-comparison/runs/0wtpgu27\" target=\"_blank\">https://app.wandb.ai/sinisha123/hyperparameter-sweeps-comparison/runs/0wtpgu27</a><br/>\n",
       "            "
      ],
      "text/plain": [
       "<IPython.core.display.HTML object>"
      ]
     },
     "metadata": {},
     "output_type": "display_data"
    },
    {
     "name": "stdout",
     "output_type": "stream",
     "text": [
      "wandb: Agent Finished Run: 0wtpgu27 \n",
      "\n",
      "wandb: Agent Starting Run: rn9l610a with config:\n",
      "\tbagging_fraction: 1\n",
      "\tfeature_fraction: 0.1\n",
      "\tmax_depth: 200\n",
      "\tmin_child_weight: 100\n",
      "\tmin_split_gain: 0.1\n",
      "\tnum_leaves: 100\n",
      "wandb: Agent Started Run: rn9l610a\n"
     ]
    },
    {
     "name": "stderr",
     "output_type": "stream",
     "text": [
      "wandb: WARNING Ignoring project='hyperparameter-sweeps-lgb' passed to wandb.init when running a sweep\n"
     ]
    },
    {
     "data": {
      "text/html": [
       "\n",
       "                Logging results to <a href=\"https://wandb.com\" target=\"_blank\">Weights & Biases</a> <a href=\"https://docs.wandb.com/integrations/jupyter.html\" target=\"_blank\">(Documentation)</a>.<br/>\n",
       "                Project page: <a href=\"https://app.wandb.ai/sinisha123/hyperparameter-sweeps-comparison\" target=\"_blank\">https://app.wandb.ai/sinisha123/hyperparameter-sweeps-comparison</a><br/>\n",
       "                Sweep page: <a href=\"https://app.wandb.ai/sinisha123/hyperparameter-sweeps-comparison/sweeps/6j6xqns5\" target=\"_blank\">https://app.wandb.ai/sinisha123/hyperparameter-sweeps-comparison/sweeps/6j6xqns5</a><br/>\n",
       "Run page: <a href=\"https://app.wandb.ai/sinisha123/hyperparameter-sweeps-comparison/runs/rn9l610a\" target=\"_blank\">https://app.wandb.ai/sinisha123/hyperparameter-sweeps-comparison/runs/rn9l610a</a><br/>\n",
       "            "
      ],
      "text/plain": [
       "<IPython.core.display.HTML object>"
      ]
     },
     "metadata": {},
     "output_type": "display_data"
    },
    {
     "name": "stdout",
     "output_type": "stream",
     "text": [
      "wandb: Agent Finished Run: rn9l610a \n",
      "\n",
      "wandb: Agent Starting Run: 09280wr1 with config:\n",
      "\tbagging_fraction: 0.1\n",
      "\tfeature_fraction: 0.9\n",
      "\tmax_depth: 200\n",
      "\tmin_child_weight: 100\n",
      "\tmin_split_gain: 0.001\n",
      "\tnum_leaves: 100\n",
      "wandb: Agent Started Run: 09280wr1\n"
     ]
    },
    {
     "name": "stderr",
     "output_type": "stream",
     "text": [
      "wandb: WARNING Ignoring project='hyperparameter-sweeps-lgb' passed to wandb.init when running a sweep\n"
     ]
    },
    {
     "data": {
      "text/html": [
       "\n",
       "                Logging results to <a href=\"https://wandb.com\" target=\"_blank\">Weights & Biases</a> <a href=\"https://docs.wandb.com/integrations/jupyter.html\" target=\"_blank\">(Documentation)</a>.<br/>\n",
       "                Project page: <a href=\"https://app.wandb.ai/sinisha123/hyperparameter-sweeps-comparison\" target=\"_blank\">https://app.wandb.ai/sinisha123/hyperparameter-sweeps-comparison</a><br/>\n",
       "                Sweep page: <a href=\"https://app.wandb.ai/sinisha123/hyperparameter-sweeps-comparison/sweeps/6j6xqns5\" target=\"_blank\">https://app.wandb.ai/sinisha123/hyperparameter-sweeps-comparison/sweeps/6j6xqns5</a><br/>\n",
       "Run page: <a href=\"https://app.wandb.ai/sinisha123/hyperparameter-sweeps-comparison/runs/09280wr1\" target=\"_blank\">https://app.wandb.ai/sinisha123/hyperparameter-sweeps-comparison/runs/09280wr1</a><br/>\n",
       "            "
      ],
      "text/plain": [
       "<IPython.core.display.HTML object>"
      ]
     },
     "metadata": {},
     "output_type": "display_data"
    },
    {
     "name": "stdout",
     "output_type": "stream",
     "text": [
      "wandb: Agent Finished Run: 09280wr1 \n",
      "\n"
     ]
    },
    {
     "name": "stderr",
     "output_type": "stream",
     "text": [
      "wandb: Ctrl-c pressed. Waiting for runs to end. Press ctrl-c again to terminate them.\n",
      "Process Process-12:\n",
      "Traceback (most recent call last):\n",
      "  File \"/home/sinisha/miniconda3/lib/python3.6/multiprocessing/process.py\", line 258, in _bootstrap\n",
      "    self.run()\n",
      "  File \"/home/sinisha/miniconda3/lib/python3.6/multiprocessing/process.py\", line 93, in run\n",
      "    self._target(*self._args, **self._kwargs)\n",
      "  File \"/home/sinisha/miniconda3/lib/python3.6/site-packages/wandb/wandb_agent.py\", line 71, in _start\n",
      "    run._stop_jupyter_agent()\n",
      "  File \"/home/sinisha/miniconda3/lib/python3.6/site-packages/wandb/wandb_run.py\", line 182, in _stop_jupyter_agent\n",
      "    self._jupyter_agent.stop()\n",
      "  File \"/home/sinisha/miniconda3/lib/python3.6/site-packages/wandb/jupyter.py\", line 136, in stop\n",
      "    self.rm.shutdown()\n",
      "  File \"/home/sinisha/miniconda3/lib/python3.6/site-packages/wandb/run_manager.py\", line 1071, in shutdown\n",
      "    self._end_file_syncing(exitcode)\n",
      "  File \"/home/sinisha/miniconda3/lib/python3.6/site-packages/wandb/run_manager.py\", line 664, in _end_file_syncing\n",
      "    self._api.get_file_stream_api().finish(exitcode)\n",
      "  File \"/home/sinisha/miniconda3/lib/python3.6/site-packages/wandb/apis/file_stream.py\", line 274, in finish\n",
      "    self._thread.join()\n",
      "  File \"/home/sinisha/miniconda3/lib/python3.6/threading.py\", line 1056, in join\n",
      "    self._wait_for_tstate_lock()\n",
      "  File \"/home/sinisha/miniconda3/lib/python3.6/threading.py\", line 1072, in _wait_for_tstate_lock\n",
      "    elif lock.acquire(block, timeout):\n",
      "KeyboardInterrupt\n"
     ]
    }
   ],
   "source": [
    "wandb.agent(sweep_id, function=train)"
   ]
  },
  {
   "cell_type": "code",
   "execution_count": null,
   "metadata": {},
   "outputs": [],
   "source": []
  }
 ],
 "metadata": {
  "kernelspec": {
   "display_name": "Python 3",
   "language": "python",
   "name": "python3"
  },
  "language_info": {
   "codemirror_mode": {
    "name": "ipython",
    "version": 3
   },
   "file_extension": ".py",
   "mimetype": "text/x-python",
   "name": "python",
   "nbconvert_exporter": "python",
   "pygments_lexer": "ipython3",
   "version": "3.6.8"
  }
 },
 "nbformat": 4,
 "nbformat_minor": 2
}
