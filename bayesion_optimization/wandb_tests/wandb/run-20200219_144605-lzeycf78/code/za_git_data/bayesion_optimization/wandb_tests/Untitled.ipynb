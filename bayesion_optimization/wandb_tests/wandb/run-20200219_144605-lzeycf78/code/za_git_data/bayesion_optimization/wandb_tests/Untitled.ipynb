{
 "cells": [
  {
   "cell_type": "code",
   "execution_count": 8,
   "metadata": {},
   "outputs": [],
   "source": [
    "import pandas as pd\n",
    "import matplotlib.pyplot as plt\n",
    "import numpy as np\n",
    "import seaborn as sns\n",
    "from tensorflow import constant\n",
    "import tensorflow as tf\n",
    "from tensorflow import keras\n",
    "from tensorflow import feature_column \n",
    "from tensorflow import estimator\n",
    "from tensorflow.keras import Sequential\n",
    "from sklearn.model_selection import train_test_split\n",
    "from sklearn.preprocessing import QuantileTransformer\n",
    "from sklearn.preprocessing import LabelEncoder\n",
    "from tensorflow.keras.utils import to_categorical\n",
    "from keras.callbacks import EarlyStopping\n",
    "from wandb.keras import WandbCallback\n",
    "import wandb\n",
    "import time\n",
    "%matplotlib inline"
   ]
  },
  {
   "cell_type": "code",
   "execution_count": 11,
   "metadata": {},
   "outputs": [],
   "source": [
    "tf.random.set_seed(67)\n",
    "np.random.seed(67)"
   ]
  },
  {
   "cell_type": "code",
   "execution_count": 2,
   "metadata": {},
   "outputs": [],
   "source": [
    "df = pd.read_csv(\"iris.csv\")"
   ]
  },
  {
   "cell_type": "code",
   "execution_count": 3,
   "metadata": {},
   "outputs": [],
   "source": [
    "X = np.array(df.drop('species',axis=1))\n",
    "Y = np.array(df['species'])"
   ]
  },
  {
   "cell_type": "code",
   "execution_count": 9,
   "metadata": {},
   "outputs": [],
   "source": [
    "Le = LabelEncoder()\n",
    "Le.fit(['setosa', 'virginica', 'versicolor'])\n",
    "Y_new = Le.transform(Y)"
   ]
  },
  {
   "cell_type": "code",
   "execution_count": 10,
   "metadata": {},
   "outputs": [],
   "source": [
    "X_train, X_test, Y_train, Y_test = train_test_split(X, Y_new, test_size=0.30, random_state=101)"
   ]
  },
  {
   "cell_type": "code",
   "execution_count": 6,
   "metadata": {},
   "outputs": [],
   "source": [
    "model_keras = Sequential()\n",
    "\n",
    "# Define the first layer\n",
    "model_keras.add(keras.layers.Dense(36, activation='relu', input_shape = (4,)))\n",
    "model_keras.add(keras.layers.Dropout(0.2))\n",
    "# Add activation function to classifier\n",
    "model_keras.add(keras.layers.Dense(18, activation='relu'))\n",
    "model_keras.add(keras.layers.Dropout(0.5))\n",
    "\n",
    "model_keras.add(keras.layers.Dense(3, activation='softmax'))\n",
    "\n"
   ]
  },
  {
   "cell_type": "code",
   "execution_count": 12,
   "metadata": {},
   "outputs": [],
   "source": [
    "METHOD = 'bayes'"
   ]
  },
  {
   "cell_type": "code",
   "execution_count": 15,
   "metadata": {},
   "outputs": [],
   "source": [
    "def train():\n",
    "    # Prepare data tuples\n",
    "    (X_train, y_train) = X_train, Y_train\n",
    "    (X_test, y_test) = X_test, Y_test\n",
    "    \n",
    "    # Default values for hyper-parameters we're going to sweep over\n",
    "    configs = {\n",
    "        'layers': 4,\n",
    "        'batch_size': 64,\n",
    "        'epochs': 5,\n",
    "        'method': METHOD\n",
    "    }\n",
    "    \n",
    "    # Initilize a new wandb run\n",
    "    wandb.init(project='hyperparameter-sweeps-comparison', config=configs)\n",
    "    \n",
    "    # Config is a variable that holds and saves hyperparameters and inputs\n",
    "    config = wandb.config\n",
    "    \n",
    "    # Define the model\n",
    "    model_keras = Sequential()\n",
    "\n",
    "    # Define the first layer\n",
    "    model_keras.add(keras.layers.Dense(36, activation='relu', input_shape = (4,)))\n",
    "    model_keras.add(keras.layers.Dropout(0.2))\n",
    "    # Add activation function to classifier\n",
    "    model_keras.add(keras.layers.Dense(18, activation='relu'))\n",
    "    model_keras.add(keras.layers.Dropout(0.5))\n",
    "\n",
    "    model_keras.add(keras.layers.Dense(3, activation='softmax'))\n",
    "    \n",
    "    # Compile the model\n",
    "    model.compile(optimizer='adam',\n",
    "                  loss='sparse_categorical_crossentropy',\n",
    "                  metrics=['accuracy'])\n",
    "    \n",
    "    # Train the model\n",
    "    model.fit(X_train, y_train, \n",
    "             epochs=config.epochs,\n",
    "             batch_size=config.batch_size,\n",
    "             validation_data=(X_test, y_test),\n",
    "             callbacks=[WandbCallback(validation_data=(X_test, y_test), labels=labels)])"
   ]
  },
  {
   "cell_type": "code",
   "execution_count": 16,
   "metadata": {},
   "outputs": [],
   "source": [
    "def get_sweep_id(method):\n",
    "    sweep_config = {\n",
    "        'method': method,\n",
    "        'metric': {\n",
    "          'name': 'accuracy',\n",
    "          'goal': 'maximize'   \n",
    "        },\n",
    "        'parameters': {\n",
    "            'layers': {\n",
    "                'values': [4, 8, 16]\n",
    "            },\n",
    "            'batch_size': {\n",
    "                'values': [32, 64, 96, 128]\n",
    "            },\n",
    "            'epochs': {\n",
    "                'values': [5, 10, 15]\n",
    "            }\n",
    "        }\n",
    "    }\n",
    "    sweep_id = wandb.sweep(sweep_config, project='hyperparameter-sweeps-comparison')\n",
    "    \n",
    "    return sweep_id"
   ]
  },
  {
   "cell_type": "code",
   "execution_count": 17,
   "metadata": {},
   "outputs": [
    {
     "name": "stdout",
     "output_type": "stream",
     "text": [
      "Create sweep with ID: 5nfcr0zo\n",
      "Sweep URL: https://app.wandb.ai/sinisha123/hyperparameter-sweeps-comparison/sweeps/5nfcr0zo\n"
     ]
    }
   ],
   "source": [
    "sweep_id = get_sweep_id('bayes')"
   ]
  },
  {
   "cell_type": "code",
   "execution_count": null,
   "metadata": {},
   "outputs": [
    {
     "name": "stdout",
     "output_type": "stream",
     "text": [
      "wandb: Agent Starting Run: frw06mo9 with config:\n",
      "\tbatch_size: 96\n",
      "\tepochs: 15\n",
      "\tlayers: 16\n",
      "wandb: Agent Started Run: frw06mo9\n"
     ]
    },
    {
     "name": "stderr",
     "output_type": "stream",
     "text": [
      "Process Process-1:\n",
      "Traceback (most recent call last):\n",
      "  File \"/home/sinisha/miniconda3/lib/python3.6/multiprocessing/process.py\", line 258, in _bootstrap\n",
      "    self.run()\n",
      "  File \"/home/sinisha/miniconda3/lib/python3.6/multiprocessing/process.py\", line 93, in run\n",
      "    self._target(*self._args, **self._kwargs)\n",
      "  File \"/home/sinisha/miniconda3/lib/python3.6/site-packages/wandb/wandb_agent.py\", line 64, in _start\n",
      "    function()\n",
      "  File \"<ipython-input-15-e07eca54cceb>\", line 3, in train\n",
      "    (X_train, y_train) = X_train, Y_train\n",
      "UnboundLocalError: local variable 'X_train' referenced before assignment\n"
     ]
    }
   ],
   "source": [
    "wandb.agent(sweep_id, function=train)"
   ]
  },
  {
   "cell_type": "code",
   "execution_count": null,
   "metadata": {},
   "outputs": [],
   "source": []
  }
 ],
 "metadata": {
  "kernelspec": {
   "display_name": "Python 3",
   "language": "python",
   "name": "python3"
  },
  "language_info": {
   "codemirror_mode": {
    "name": "ipython",
    "version": 3
   },
   "file_extension": ".py",
   "mimetype": "text/x-python",
   "name": "python",
   "nbconvert_exporter": "python",
   "pygments_lexer": "ipython3",
   "version": "3.6.8"
  }
 },
 "nbformat": 4,
 "nbformat_minor": 2
}
