{
 "cells": [
  {
   "cell_type": "code",
   "execution_count": 1,
   "metadata": {},
   "outputs": [
    {
     "name": "stderr",
     "output_type": "stream",
     "text": [
      "Using TensorFlow backend.\n"
     ]
    }
   ],
   "source": [
    "import pandas as pd\n",
    "import matplotlib.pyplot as plt\n",
    "import numpy as np\n",
    "import seaborn as sns\n",
    "from tensorflow import constant\n",
    "import tensorflow as tf\n",
    "from tensorflow import keras\n",
    "from tensorflow import feature_column \n",
    "from tensorflow import estimator\n",
    "from tensorflow.keras import Sequential\n",
    "from sklearn.model_selection import train_test_split\n",
    "from sklearn.preprocessing import QuantileTransformer\n",
    "from sklearn.preprocessing import LabelEncoder\n",
    "from tensorflow.keras.utils import to_categorical\n",
    "from keras.callbacks import EarlyStopping\n",
    "from wandb.keras import WandbCallback\n",
    "import wandb\n",
    "import time\n",
    "%matplotlib inline"
   ]
  },
  {
   "cell_type": "code",
   "execution_count": 2,
   "metadata": {},
   "outputs": [],
   "source": [
    "tf.random.set_seed(67)\n",
    "np.random.seed(67)"
   ]
  },
  {
   "cell_type": "code",
   "execution_count": 3,
   "metadata": {},
   "outputs": [],
   "source": [
    "df = pd.read_csv(\"iris.csv\")"
   ]
  },
  {
   "cell_type": "code",
   "execution_count": 4,
   "metadata": {},
   "outputs": [],
   "source": [
    "X = np.array(df.drop('species',axis=1))\n",
    "Y = np.array(df['species'])"
   ]
  },
  {
   "cell_type": "code",
   "execution_count": 5,
   "metadata": {},
   "outputs": [],
   "source": [
    "Le = LabelEncoder()\n",
    "Le.fit(['setosa', 'virginica', 'versicolor'])\n",
    "Y_new = Le.transform(Y)"
   ]
  },
  {
   "cell_type": "code",
   "execution_count": 6,
   "metadata": {},
   "outputs": [],
   "source": [
    "X_train1, X_test1, Y_train1, Y_test1 = train_test_split(X, Y_new, test_size=0.30, random_state=101)"
   ]
  },
  {
   "cell_type": "code",
   "execution_count": 16,
   "metadata": {},
   "outputs": [],
   "source": [
    "labels = ['setosa', 'virginica', 'versicolor']"
   ]
  },
  {
   "cell_type": "code",
   "execution_count": 7,
   "metadata": {},
   "outputs": [],
   "source": [
    "METHOD = 'bayes'"
   ]
  },
  {
   "cell_type": "code",
   "execution_count": 12,
   "metadata": {},
   "outputs": [],
   "source": [
    "def train():\n",
    "    # Prepare data tuples\n",
    "    (X_train, y_train) = X_train1, Y_train1\n",
    "    (X_test, y_test) = X_test1, Y_test1\n",
    "    \n",
    "    # Default values for hyper-parameters we're going to sweep over\n",
    "    configs = {\n",
    "        'layers': 4,\n",
    "        'batch_size': 64,\n",
    "        'epochs': 5,\n",
    "        'method': METHOD\n",
    "    }\n",
    "    \n",
    "    # Initilize a new wandb run\n",
    "    wandb.init(project='hyperparameter-sweeps-comparison', config=configs)\n",
    "    \n",
    "    # Config is a variable that holds and saves hyperparameters and inputs\n",
    "    config = wandb.config\n",
    "    \n",
    "    # Define the model\n",
    "    model_keras = Sequential()\n",
    "\n",
    "    # Define the first layer\n",
    "    model_keras.add(keras.layers.Dense(36, activation='relu', input_shape = (4,)))\n",
    "    model_keras.add(keras.layers.Dropout(0.2))\n",
    "    # Add activation function to classifier\n",
    "    model_keras.add(keras.layers.Dense(18, activation='relu'))\n",
    "    model_keras.add(keras.layers.Dropout(0.5))\n",
    "\n",
    "    model_keras.add(keras.layers.Dense(3, activation='softmax'))\n",
    "    \n",
    "    # Compile the model\n",
    "    model_keras.compile(optimizer='adam',\n",
    "                  loss='sparse_categorical_crossentropy',\n",
    "                  metrics=['accuracy'])\n",
    "    \n",
    "    # Train the model\n",
    "    model_keras.fit(X_train, y_train, \n",
    "             epochs=config.epochs,\n",
    "             batch_size=config.batch_size,\n",
    "             validation_data=(X_test, y_test),\n",
    "             callbacks=[WandbCallback(validation_data=(X_test, y_test), labels=labels)])"
   ]
  },
  {
   "cell_type": "code",
   "execution_count": 13,
   "metadata": {},
   "outputs": [],
   "source": [
    "def get_sweep_id(method):\n",
    "    sweep_config = {\n",
    "        'method': method,\n",
    "        'metric': {\n",
    "          'name': 'accuracy',\n",
    "          'goal': 'maximize'   \n",
    "        },\n",
    "        'parameters': {\n",
    "            'layers': {\n",
    "                'values': [4, 8, 16]\n",
    "            },\n",
    "            'batch_size': {\n",
    "                'values': [32, 64, 96, 128]\n",
    "            },\n",
    "            'epochs': {\n",
    "                'values': [5, 10, 15]\n",
    "            }\n",
    "        }\n",
    "    }\n",
    "    sweep_id = wandb.sweep(sweep_config, project='hyperparameter-sweeps-comparison')\n",
    "    \n",
    "    return sweep_id"
   ]
  },
  {
   "cell_type": "code",
   "execution_count": 14,
   "metadata": {},
   "outputs": [
    {
     "name": "stdout",
     "output_type": "stream",
     "text": [
      "Create sweep with ID: rda1hnv0\n",
      "Sweep URL: https://app.wandb.ai/sinisha123/hyperparameter-sweeps-comparison/sweeps/rda1hnv0\n"
     ]
    }
   ],
   "source": [
    "sweep_id = get_sweep_id('bayes')"
   ]
  },
  {
   "cell_type": "code",
   "execution_count": null,
   "metadata": {
    "scrolled": false
   },
   "outputs": [
    {
     "name": "stdout",
     "output_type": "stream",
     "text": [
      "wandb: Agent Starting Run: 7b8bs89q with config:\n",
      "\tbatch_size: 64\n",
      "\tepochs: 15\n",
      "\tlayers: 4\n",
      "wandb: Agent Started Run: 7b8bs89q\n"
     ]
    },
    {
     "data": {
      "text/html": [
       "\n",
       "                Logging results to <a href=\"https://wandb.com\" target=\"_blank\">Weights & Biases</a> <a href=\"https://docs.wandb.com/integrations/jupyter.html\" target=\"_blank\">(Documentation)</a>.<br/>\n",
       "                Project page: <a href=\"https://app.wandb.ai/sinisha123/hyperparameter-sweeps-comparison\" target=\"_blank\">https://app.wandb.ai/sinisha123/hyperparameter-sweeps-comparison</a><br/>\n",
       "                Sweep page: <a href=\"https://app.wandb.ai/sinisha123/hyperparameter-sweeps-comparison/sweeps/rda1hnv0\" target=\"_blank\">https://app.wandb.ai/sinisha123/hyperparameter-sweeps-comparison/sweeps/rda1hnv0</a><br/>\n",
       "Run page: <a href=\"https://app.wandb.ai/sinisha123/hyperparameter-sweeps-comparison/runs/7b8bs89q\" target=\"_blank\">https://app.wandb.ai/sinisha123/hyperparameter-sweeps-comparison/runs/7b8bs89q</a><br/>\n",
       "            "
      ],
      "text/plain": [
       "<IPython.core.display.HTML object>"
      ]
     },
     "metadata": {},
     "output_type": "display_data"
    },
    {
     "name": "stdout",
     "output_type": "stream",
     "text": [
      "Train on 105 samples, validate on 45 samples\n",
      "Epoch 1/15\n",
      "105/105 [==============================] - 1s 10ms/sample - loss: 3.1758 - accuracy: 0.3333 - val_loss: 1.7791 - val_accuracy: 0.2889\n",
      "Epoch 2/15\n",
      "105/105 [==============================] - 0s 2ms/sample - loss: 1.8802 - accuracy: 0.4857 - val_loss: 1.6390 - val_accuracy: 0.2889\n",
      "Epoch 3/15\n",
      "105/105 [==============================] - 1s 7ms/sample - loss: 2.5807 - accuracy: 0.4190 - val_loss: 1.5181 - val_accuracy: 0.2889\n",
      "Epoch 4/15\n",
      "105/105 [==============================] - 0s 3ms/sample - loss: 2.1050 - accuracy: 0.5048 - val_loss: 1.4067 - val_accuracy: 0.2889\n",
      "Epoch 5/15\n",
      "105/105 [==============================] - 0s 4ms/sample - loss: 2.9999 - accuracy: 0.2857 - val_loss: 1.3094 - val_accuracy: 0.2889\n",
      "Epoch 6/15\n",
      "105/105 [==============================] - 0s 3ms/sample - loss: 2.5752 - accuracy: 0.3524 - val_loss: 1.2288 - val_accuracy: 0.2889\n",
      "Epoch 7/15\n",
      "105/105 [==============================] - 0s 3ms/sample - loss: 2.2062 - accuracy: 0.3333 - val_loss: 1.1613 - val_accuracy: 0.2889\n",
      "Epoch 8/15\n",
      "105/105 [==============================] - 0s 4ms/sample - loss: 1.7459 - accuracy: 0.4571 - val_loss: 1.1050 - val_accuracy: 0.2889\n",
      "Epoch 9/15\n",
      "105/105 [==============================] - 0s 2ms/sample - loss: 2.0356 - accuracy: 0.3905 - val_loss: 1.0650 - val_accuracy: 0.2889\n",
      "Epoch 10/15\n",
      "105/105 [==============================] - 0s 3ms/sample - loss: 1.6922 - accuracy: 0.4476 - val_loss: 1.0335 - val_accuracy: 0.2889\n",
      "Epoch 11/15\n",
      "105/105 [==============================] - 0s 2ms/sample - loss: 1.8475 - accuracy: 0.4000 - val_loss: 1.0086 - val_accuracy: 0.2889\n",
      "Epoch 12/15\n",
      "105/105 [==============================] - 0s 2ms/sample - loss: 1.7198 - accuracy: 0.3714 - val_loss: 0.9887 - val_accuracy: 0.2889\n",
      "Epoch 13/15\n",
      "105/105 [==============================] - 0s 2ms/sample - loss: 1.7737 - accuracy: 0.3905 - val_loss: 0.9720 - val_accuracy: 0.2889\n",
      "Epoch 14/15\n",
      "105/105 [==============================] - 0s 2ms/sample - loss: 1.6591 - accuracy: 0.3810 - val_loss: 0.9578 - val_accuracy: 0.3778\n",
      "Epoch 15/15\n",
      "105/105 [==============================] - 0s 3ms/sample - loss: 1.5313 - accuracy: 0.4762 - val_loss: 0.9453 - val_accuracy: 0.5333\n",
      "wandb: Agent Finished Run: 7b8bs89q \n",
      "\n",
      "wandb: Agent Starting Run: 4o50j34i with config:\n",
      "\tbatch_size: 96\n",
      "\tepochs: 5\n",
      "\tlayers: 16\n",
      "wandb: Agent Started Run: 4o50j34i\n"
     ]
    },
    {
     "data": {
      "text/html": [
       "\n",
       "                Logging results to <a href=\"https://wandb.com\" target=\"_blank\">Weights & Biases</a> <a href=\"https://docs.wandb.com/integrations/jupyter.html\" target=\"_blank\">(Documentation)</a>.<br/>\n",
       "                Project page: <a href=\"https://app.wandb.ai/sinisha123/hyperparameter-sweeps-comparison\" target=\"_blank\">https://app.wandb.ai/sinisha123/hyperparameter-sweeps-comparison</a><br/>\n",
       "                Sweep page: <a href=\"https://app.wandb.ai/sinisha123/hyperparameter-sweeps-comparison/sweeps/rda1hnv0\" target=\"_blank\">https://app.wandb.ai/sinisha123/hyperparameter-sweeps-comparison/sweeps/rda1hnv0</a><br/>\n",
       "Run page: <a href=\"https://app.wandb.ai/sinisha123/hyperparameter-sweeps-comparison/runs/4o50j34i\" target=\"_blank\">https://app.wandb.ai/sinisha123/hyperparameter-sweeps-comparison/runs/4o50j34i</a><br/>\n",
       "            "
      ],
      "text/plain": [
       "<IPython.core.display.HTML object>"
      ]
     },
     "metadata": {},
     "output_type": "display_data"
    },
    {
     "name": "stdout",
     "output_type": "stream",
     "text": [
      "Train on 105 samples, validate on 45 samples\n",
      "Epoch 1/5\n",
      "105/105 [==============================] - 1s 9ms/sample - loss: 2.9597 - accuracy: 0.4000 - val_loss: 1.7772 - val_accuracy: 0.2889\n",
      "Epoch 2/5\n",
      "105/105 [==============================] - 0s 2ms/sample - loss: 2.4074 - accuracy: 0.4000 - val_loss: 1.6363 - val_accuracy: 0.2889\n",
      "Epoch 3/5\n",
      "105/105 [==============================] - 0s 2ms/sample - loss: 2.5602 - accuracy: 0.4190 - val_loss: 1.5145 - val_accuracy: 0.2889\n",
      "Epoch 4/5\n",
      "105/105 [==============================] - 0s 2ms/sample - loss: 2.2173 - accuracy: 0.4286 - val_loss: 1.4031 - val_accuracy: 0.2889\n",
      "Epoch 5/5\n",
      "105/105 [==============================] - 0s 2ms/sample - loss: 2.8466 - accuracy: 0.3333 - val_loss: 1.3071 - val_accuracy: 0.2889\n",
      "wandb: Agent Finished Run: 4o50j34i \n",
      "\n",
      "wandb: Agent Starting Run: onlpxdhz with config:\n",
      "\tbatch_size: 96\n",
      "\tepochs: 15\n",
      "\tlayers: 8\n",
      "wandb: Agent Started Run: onlpxdhz\n"
     ]
    },
    {
     "data": {
      "text/html": [
       "\n",
       "                Logging results to <a href=\"https://wandb.com\" target=\"_blank\">Weights & Biases</a> <a href=\"https://docs.wandb.com/integrations/jupyter.html\" target=\"_blank\">(Documentation)</a>.<br/>\n",
       "                Project page: <a href=\"https://app.wandb.ai/sinisha123/hyperparameter-sweeps-comparison\" target=\"_blank\">https://app.wandb.ai/sinisha123/hyperparameter-sweeps-comparison</a><br/>\n",
       "                Sweep page: <a href=\"https://app.wandb.ai/sinisha123/hyperparameter-sweeps-comparison/sweeps/rda1hnv0\" target=\"_blank\">https://app.wandb.ai/sinisha123/hyperparameter-sweeps-comparison/sweeps/rda1hnv0</a><br/>\n",
       "Run page: <a href=\"https://app.wandb.ai/sinisha123/hyperparameter-sweeps-comparison/runs/onlpxdhz\" target=\"_blank\">https://app.wandb.ai/sinisha123/hyperparameter-sweeps-comparison/runs/onlpxdhz</a><br/>\n",
       "            "
      ],
      "text/plain": [
       "<IPython.core.display.HTML object>"
      ]
     },
     "metadata": {},
     "output_type": "display_data"
    },
    {
     "name": "stdout",
     "output_type": "stream",
     "text": [
      "Train on 105 samples, validate on 45 samples\n",
      "Epoch 1/15\n",
      "105/105 [==============================] - 1s 13ms/sample - loss: 2.9597 - accuracy: 0.4000 - val_loss: 1.7772 - val_accuracy: 0.2889\n",
      "Epoch 2/15\n",
      "105/105 [==============================] - 0s 2ms/sample - loss: 2.4074 - accuracy: 0.4000 - val_loss: 1.6363 - val_accuracy: 0.2889\n",
      "Epoch 3/15\n",
      "105/105 [==============================] - 0s 2ms/sample - loss: 2.5602 - accuracy: 0.4190 - val_loss: 1.5145 - val_accuracy: 0.2889\n",
      "Epoch 4/15\n",
      "105/105 [==============================] - 0s 3ms/sample - loss: 2.2173 - accuracy: 0.4286 - val_loss: 1.4031 - val_accuracy: 0.2889\n",
      "Epoch 5/15\n",
      "105/105 [==============================] - 1s 5ms/sample - loss: 2.8466 - accuracy: 0.3333 - val_loss: 1.3071 - val_accuracy: 0.2889\n",
      "Epoch 6/15\n",
      "105/105 [==============================] - 0s 4ms/sample - loss: 2.5457 - accuracy: 0.3524 - val_loss: 1.2230 - val_accuracy: 0.2889\n",
      "Epoch 7/15\n",
      "105/105 [==============================] - 0s 4ms/sample - loss: 2.5756 - accuracy: 0.2857 - val_loss: 1.1502 - val_accuracy: 0.2889\n",
      "Epoch 8/15\n",
      "105/105 [==============================] - 0s 5ms/sample - loss: 1.9940 - accuracy: 0.3714 - val_loss: 1.0962 - val_accuracy: 0.2889\n",
      "Epoch 9/15\n",
      "105/105 [==============================] - 0s 4ms/sample - loss: 2.0509 - accuracy: 0.3524 - val_loss: 1.0598 - val_accuracy: 0.2889\n",
      "Epoch 10/15\n",
      "105/105 [==============================] - 0s 3ms/sample - loss: 1.8271 - accuracy: 0.4000 - val_loss: 1.0329 - val_accuracy: 0.2889\n",
      "Epoch 11/15\n",
      "105/105 [==============================] - 0s 3ms/sample - loss: 2.0050 - accuracy: 0.3810 - val_loss: 1.0146 - val_accuracy: 0.2889\n",
      "Epoch 12/15\n",
      "105/105 [==============================] - 0s 2ms/sample - loss: 1.9424 - accuracy: 0.3524 - val_loss: 1.0031 - val_accuracy: 0.4000\n",
      "Epoch 13/15\n",
      "105/105 [==============================] - 0s 2ms/sample - loss: 1.6911 - accuracy: 0.4000 - val_loss: 0.9976 - val_accuracy: 0.5556\n",
      "Epoch 14/15\n",
      "105/105 [==============================] - 0s 2ms/sample - loss: 1.4043 - accuracy: 0.4571 - val_loss: 0.9942 - val_accuracy: 0.5556\n",
      "Epoch 15/15\n",
      "105/105 [==============================] - 0s 4ms/sample - loss: 1.6630 - accuracy: 0.4381 - val_loss: 0.9899 - val_accuracy: 0.5556\n",
      "wandb: Agent Finished Run: onlpxdhz \n",
      "\n",
      "wandb: Agent Starting Run: h9d42uyt with config:\n",
      "\tbatch_size: 64\n",
      "\tepochs: 15\n",
      "\tlayers: 4\n",
      "wandb: Agent Started Run: h9d42uyt\n"
     ]
    },
    {
     "data": {
      "text/html": [
       "\n",
       "                Logging results to <a href=\"https://wandb.com\" target=\"_blank\">Weights & Biases</a> <a href=\"https://docs.wandb.com/integrations/jupyter.html\" target=\"_blank\">(Documentation)</a>.<br/>\n",
       "                Project page: <a href=\"https://app.wandb.ai/sinisha123/hyperparameter-sweeps-comparison\" target=\"_blank\">https://app.wandb.ai/sinisha123/hyperparameter-sweeps-comparison</a><br/>\n",
       "                Sweep page: <a href=\"https://app.wandb.ai/sinisha123/hyperparameter-sweeps-comparison/sweeps/rda1hnv0\" target=\"_blank\">https://app.wandb.ai/sinisha123/hyperparameter-sweeps-comparison/sweeps/rda1hnv0</a><br/>\n",
       "Run page: <a href=\"https://app.wandb.ai/sinisha123/hyperparameter-sweeps-comparison/runs/h9d42uyt\" target=\"_blank\">https://app.wandb.ai/sinisha123/hyperparameter-sweeps-comparison/runs/h9d42uyt</a><br/>\n",
       "            "
      ],
      "text/plain": [
       "<IPython.core.display.HTML object>"
      ]
     },
     "metadata": {},
     "output_type": "display_data"
    },
    {
     "name": "stdout",
     "output_type": "stream",
     "text": [
      "Train on 105 samples, validate on 45 samples\n",
      "Epoch 1/15\n",
      "105/105 [==============================] - 1s 12ms/sample - loss: 3.1758 - accuracy: 0.3333 - val_loss: 1.7791 - val_accuracy: 0.2889\n",
      "Epoch 2/15\n",
      "105/105 [==============================] - 0s 2ms/sample - loss: 1.8802 - accuracy: 0.4857 - val_loss: 1.6390 - val_accuracy: 0.2889\n",
      "Epoch 3/15\n",
      "105/105 [==============================] - 0s 2ms/sample - loss: 2.5807 - accuracy: 0.4190 - val_loss: 1.5181 - val_accuracy: 0.2889\n",
      "Epoch 4/15\n",
      "105/105 [==============================] - 0s 2ms/sample - loss: 2.1050 - accuracy: 0.5048 - val_loss: 1.4067 - val_accuracy: 0.2889\n",
      "Epoch 5/15\n",
      "105/105 [==============================] - 0s 2ms/sample - loss: 2.9999 - accuracy: 0.2857 - val_loss: 1.3094 - val_accuracy: 0.2889\n",
      "Epoch 6/15\n",
      "105/105 [==============================] - 0s 2ms/sample - loss: 2.5752 - accuracy: 0.3524 - val_loss: 1.2288 - val_accuracy: 0.2889\n",
      "Epoch 7/15\n",
      "105/105 [==============================] - 0s 2ms/sample - loss: 2.2062 - accuracy: 0.3333 - val_loss: 1.1613 - val_accuracy: 0.2889\n",
      "Epoch 8/15\n",
      "105/105 [==============================] - 0s 2ms/sample - loss: 1.7459 - accuracy: 0.4571 - val_loss: 1.1050 - val_accuracy: 0.2889\n",
      "Epoch 9/15\n",
      "105/105 [==============================] - 0s 2ms/sample - loss: 2.0356 - accuracy: 0.3905 - val_loss: 1.0650 - val_accuracy: 0.2889\n",
      "Epoch 10/15\n",
      "105/105 [==============================] - 0s 2ms/sample - loss: 1.6922 - accuracy: 0.4476 - val_loss: 1.0335 - val_accuracy: 0.2889\n",
      "Epoch 11/15\n",
      "105/105 [==============================] - 0s 2ms/sample - loss: 1.8475 - accuracy: 0.4000 - val_loss: 1.0086 - val_accuracy: 0.2889\n",
      "Epoch 12/15\n",
      "105/105 [==============================] - 0s 2ms/sample - loss: 1.7198 - accuracy: 0.3714 - val_loss: 0.9887 - val_accuracy: 0.2889\n",
      "Epoch 13/15\n",
      "105/105 [==============================] - 0s 3ms/sample - loss: 1.7737 - accuracy: 0.3905 - val_loss: 0.9720 - val_accuracy: 0.2889\n",
      "Epoch 14/15\n",
      "105/105 [==============================] - 0s 2ms/sample - loss: 1.6591 - accuracy: 0.3810 - val_loss: 0.9578 - val_accuracy: 0.3778\n",
      "Epoch 15/15\n",
      "105/105 [==============================] - 0s 2ms/sample - loss: 1.5313 - accuracy: 0.4762 - val_loss: 0.9453 - val_accuracy: 0.5333\n",
      "wandb: Agent Finished Run: h9d42uyt \n",
      "\n",
      "wandb: Agent Starting Run: 1ovlgcsf with config:\n",
      "\tbatch_size: 64\n",
      "\tepochs: 15\n",
      "\tlayers: 4\n",
      "wandb: Agent Started Run: 1ovlgcsf\n"
     ]
    },
    {
     "data": {
      "text/html": [
       "\n",
       "                Logging results to <a href=\"https://wandb.com\" target=\"_blank\">Weights & Biases</a> <a href=\"https://docs.wandb.com/integrations/jupyter.html\" target=\"_blank\">(Documentation)</a>.<br/>\n",
       "                Project page: <a href=\"https://app.wandb.ai/sinisha123/hyperparameter-sweeps-comparison\" target=\"_blank\">https://app.wandb.ai/sinisha123/hyperparameter-sweeps-comparison</a><br/>\n",
       "                Sweep page: <a href=\"https://app.wandb.ai/sinisha123/hyperparameter-sweeps-comparison/sweeps/rda1hnv0\" target=\"_blank\">https://app.wandb.ai/sinisha123/hyperparameter-sweeps-comparison/sweeps/rda1hnv0</a><br/>\n",
       "Run page: <a href=\"https://app.wandb.ai/sinisha123/hyperparameter-sweeps-comparison/runs/1ovlgcsf\" target=\"_blank\">https://app.wandb.ai/sinisha123/hyperparameter-sweeps-comparison/runs/1ovlgcsf</a><br/>\n",
       "            "
      ],
      "text/plain": [
       "<IPython.core.display.HTML object>"
      ]
     },
     "metadata": {},
     "output_type": "display_data"
    },
    {
     "name": "stdout",
     "output_type": "stream",
     "text": [
      "Train on 105 samples, validate on 45 samples\n",
      "Epoch 1/15\n",
      "105/105 [==============================] - 2s 16ms/sample - loss: 3.1758 - accuracy: 0.3333 - val_loss: 1.7791 - val_accuracy: 0.2889\n",
      "Epoch 2/15\n",
      "105/105 [==============================] - 0s 2ms/sample - loss: 1.8802 - accuracy: 0.4857 - val_loss: 1.6390 - val_accuracy: 0.2889\n",
      "Epoch 3/15\n",
      "105/105 [==============================] - 0s 3ms/sample - loss: 2.5807 - accuracy: 0.4190 - val_loss: 1.5181 - val_accuracy: 0.2889\n",
      "Epoch 4/15\n",
      "105/105 [==============================] - 0s 2ms/sample - loss: 2.1050 - accuracy: 0.5048 - val_loss: 1.4067 - val_accuracy: 0.2889\n",
      "Epoch 5/15\n",
      "105/105 [==============================] - 0s 2ms/sample - loss: 2.9999 - accuracy: 0.2857 - val_loss: 1.3094 - val_accuracy: 0.2889\n",
      "Epoch 6/15\n",
      "105/105 [==============================] - 0s 3ms/sample - loss: 2.5752 - accuracy: 0.3524 - val_loss: 1.2288 - val_accuracy: 0.2889\n",
      "Epoch 7/15\n",
      "105/105 [==============================] - 0s 2ms/sample - loss: 2.2062 - accuracy: 0.3333 - val_loss: 1.1613 - val_accuracy: 0.2889\n",
      "Epoch 8/15\n",
      "105/105 [==============================] - 0s 2ms/sample - loss: 1.7459 - accuracy: 0.4571 - val_loss: 1.1050 - val_accuracy: 0.2889\n",
      "Epoch 9/15\n",
      "105/105 [==============================] - 0s 2ms/sample - loss: 2.0356 - accuracy: 0.3905 - val_loss: 1.0650 - val_accuracy: 0.2889\n",
      "Epoch 10/15\n",
      "105/105 [==============================] - 0s 2ms/sample - loss: 1.6922 - accuracy: 0.4476 - val_loss: 1.0335 - val_accuracy: 0.2889\n",
      "Epoch 11/15\n",
      "105/105 [==============================] - 0s 2ms/sample - loss: 1.8475 - accuracy: 0.4000 - val_loss: 1.0086 - val_accuracy: 0.2889\n",
      "Epoch 12/15\n",
      "105/105 [==============================] - 0s 2ms/sample - loss: 1.7198 - accuracy: 0.3714 - val_loss: 0.9887 - val_accuracy: 0.2889\n",
      "Epoch 13/15\n",
      "105/105 [==============================] - 0s 2ms/sample - loss: 1.7737 - accuracy: 0.3905 - val_loss: 0.9720 - val_accuracy: 0.2889\n",
      "Epoch 14/15\n",
      "105/105 [==============================] - 0s 2ms/sample - loss: 1.6591 - accuracy: 0.3810 - val_loss: 0.9578 - val_accuracy: 0.3778\n",
      "Epoch 15/15\n",
      "105/105 [==============================] - 0s 2ms/sample - loss: 1.5313 - accuracy: 0.4762 - val_loss: 0.9453 - val_accuracy: 0.5333\n",
      "wandb: Agent Finished Run: 1ovlgcsf \n",
      "\n",
      "wandb: Agent Starting Run: xnuzfrtt with config:\n",
      "\tbatch_size: 96\n",
      "\tepochs: 15\n",
      "\tlayers: 4\n",
      "wandb: Agent Started Run: xnuzfrtt\n"
     ]
    },
    {
     "data": {
      "text/html": [
       "\n",
       "                Logging results to <a href=\"https://wandb.com\" target=\"_blank\">Weights & Biases</a> <a href=\"https://docs.wandb.com/integrations/jupyter.html\" target=\"_blank\">(Documentation)</a>.<br/>\n",
       "                Project page: <a href=\"https://app.wandb.ai/sinisha123/hyperparameter-sweeps-comparison\" target=\"_blank\">https://app.wandb.ai/sinisha123/hyperparameter-sweeps-comparison</a><br/>\n",
       "                Sweep page: <a href=\"https://app.wandb.ai/sinisha123/hyperparameter-sweeps-comparison/sweeps/rda1hnv0\" target=\"_blank\">https://app.wandb.ai/sinisha123/hyperparameter-sweeps-comparison/sweeps/rda1hnv0</a><br/>\n",
       "Run page: <a href=\"https://app.wandb.ai/sinisha123/hyperparameter-sweeps-comparison/runs/xnuzfrtt\" target=\"_blank\">https://app.wandb.ai/sinisha123/hyperparameter-sweeps-comparison/runs/xnuzfrtt</a><br/>\n",
       "            "
      ],
      "text/plain": [
       "<IPython.core.display.HTML object>"
      ]
     },
     "metadata": {},
     "output_type": "display_data"
    },
    {
     "name": "stdout",
     "output_type": "stream",
     "text": [
      "Train on 105 samples, validate on 45 samples\n",
      "Epoch 1/15\n",
      "105/105 [==============================] - 1s 10ms/sample - loss: 2.9597 - accuracy: 0.4000 - val_loss: 1.7772 - val_accuracy: 0.2889\n",
      "Epoch 2/15\n",
      "105/105 [==============================] - 0s 2ms/sample - loss: 2.4074 - accuracy: 0.4000 - val_loss: 1.6363 - val_accuracy: 0.2889\n",
      "Epoch 3/15\n",
      "105/105 [==============================] - 0s 2ms/sample - loss: 2.5602 - accuracy: 0.4190 - val_loss: 1.5145 - val_accuracy: 0.2889\n",
      "Epoch 4/15\n",
      "105/105 [==============================] - 0s 2ms/sample - loss: 2.2173 - accuracy: 0.4286 - val_loss: 1.4031 - val_accuracy: 0.2889\n",
      "Epoch 5/15\n",
      "105/105 [==============================] - 0s 2ms/sample - loss: 2.8466 - accuracy: 0.3333 - val_loss: 1.3071 - val_accuracy: 0.2889\n",
      "Epoch 6/15\n",
      "105/105 [==============================] - 0s 4ms/sample - loss: 2.5457 - accuracy: 0.3524 - val_loss: 1.2230 - val_accuracy: 0.2889\n",
      "Epoch 7/15\n",
      "105/105 [==============================] - 0s 2ms/sample - loss: 2.5756 - accuracy: 0.2857 - val_loss: 1.1502 - val_accuracy: 0.2889\n",
      "Epoch 8/15\n",
      "105/105 [==============================] - 0s 3ms/sample - loss: 1.9940 - accuracy: 0.3714 - val_loss: 1.0962 - val_accuracy: 0.2889\n",
      "Epoch 9/15\n",
      "105/105 [==============================] - 0s 2ms/sample - loss: 2.0509 - accuracy: 0.3524 - val_loss: 1.0598 - val_accuracy: 0.2889\n",
      "Epoch 10/15\n",
      "105/105 [==============================] - 0s 2ms/sample - loss: 1.8271 - accuracy: 0.4000 - val_loss: 1.0329 - val_accuracy: 0.2889\n",
      "Epoch 11/15\n",
      "105/105 [==============================] - 0s 2ms/sample - loss: 2.0050 - accuracy: 0.3810 - val_loss: 1.0146 - val_accuracy: 0.2889\n",
      "Epoch 12/15\n",
      "105/105 [==============================] - 0s 3ms/sample - loss: 1.9424 - accuracy: 0.3524 - val_loss: 1.0031 - val_accuracy: 0.4000\n",
      "Epoch 13/15\n",
      "105/105 [==============================] - 0s 2ms/sample - loss: 1.6911 - accuracy: 0.4000 - val_loss: 0.9976 - val_accuracy: 0.5556\n",
      "Epoch 14/15\n",
      "105/105 [==============================] - 0s 2ms/sample - loss: 1.4043 - accuracy: 0.4571 - val_loss: 0.9942 - val_accuracy: 0.5556\n",
      "Epoch 15/15\n",
      "105/105 [==============================] - 0s 2ms/sample - loss: 1.6630 - accuracy: 0.4381 - val_loss: 0.9899 - val_accuracy: 0.5556\n",
      "wandb: Agent Finished Run: xnuzfrtt \n",
      "\n",
      "wandb: Agent Starting Run: no9ixe29 with config:\n",
      "\tbatch_size: 32\n",
      "\tepochs: 15\n",
      "\tlayers: 4\n",
      "wandb: Agent Started Run: no9ixe29\n"
     ]
    },
    {
     "data": {
      "text/html": [
       "\n",
       "                Logging results to <a href=\"https://wandb.com\" target=\"_blank\">Weights & Biases</a> <a href=\"https://docs.wandb.com/integrations/jupyter.html\" target=\"_blank\">(Documentation)</a>.<br/>\n",
       "                Project page: <a href=\"https://app.wandb.ai/sinisha123/hyperparameter-sweeps-comparison\" target=\"_blank\">https://app.wandb.ai/sinisha123/hyperparameter-sweeps-comparison</a><br/>\n",
       "                Sweep page: <a href=\"https://app.wandb.ai/sinisha123/hyperparameter-sweeps-comparison/sweeps/rda1hnv0\" target=\"_blank\">https://app.wandb.ai/sinisha123/hyperparameter-sweeps-comparison/sweeps/rda1hnv0</a><br/>\n",
       "Run page: <a href=\"https://app.wandb.ai/sinisha123/hyperparameter-sweeps-comparison/runs/no9ixe29\" target=\"_blank\">https://app.wandb.ai/sinisha123/hyperparameter-sweeps-comparison/runs/no9ixe29</a><br/>\n",
       "            "
      ],
      "text/plain": [
       "<IPython.core.display.HTML object>"
      ]
     },
     "metadata": {},
     "output_type": "display_data"
    },
    {
     "name": "stdout",
     "output_type": "stream",
     "text": [
      "Train on 105 samples, validate on 45 samples\n",
      "Epoch 1/15\n",
      " 32/105 [========>.....................] - ETA: 1s - loss: 3.4174 - accuracy: 0.3438"
     ]
    }
   ],
   "source": [
    "wandb.agent(sweep_id, function=train)"
   ]
  },
  {
   "cell_type": "code",
   "execution_count": null,
   "metadata": {},
   "outputs": [],
   "source": []
  }
 ],
 "metadata": {
  "kernelspec": {
   "display_name": "Python 3",
   "language": "python",
   "name": "python3"
  },
  "language_info": {
   "codemirror_mode": {
    "name": "ipython",
    "version": 3
   },
   "file_extension": ".py",
   "mimetype": "text/x-python",
   "name": "python",
   "nbconvert_exporter": "python",
   "pygments_lexer": "ipython3",
   "version": "3.6.8"
  }
 },
 "nbformat": 4,
 "nbformat_minor": 2
}
