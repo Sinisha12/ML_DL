{
 "cells": [
  {
   "cell_type": "code",
   "execution_count": 1,
   "metadata": {},
   "outputs": [
    {
     "name": "stderr",
     "output_type": "stream",
     "text": [
      "Using TensorFlow backend.\n"
     ]
    }
   ],
   "source": [
    "import pandas as pd\n",
    "import matplotlib.pyplot as plt\n",
    "import numpy as np\n",
    "import seaborn as sns\n",
    "from tensorflow import constant\n",
    "import tensorflow as tf\n",
    "from tensorflow import keras\n",
    "from tensorflow import feature_column \n",
    "from tensorflow import estimator\n",
    "from tensorflow.keras import Sequential\n",
    "from sklearn.model_selection import train_test_split\n",
    "from sklearn.preprocessing import QuantileTransformer\n",
    "from sklearn.preprocessing import LabelEncoder\n",
    "from tensorflow.keras.utils import to_categorical\n",
    "from keras.callbacks import EarlyStopping\n",
    "from wandb.keras import WandbCallback\n",
    "import wandb\n",
    "import time\n",
    "%matplotlib inline"
   ]
  },
  {
   "cell_type": "code",
   "execution_count": 2,
   "metadata": {},
   "outputs": [],
   "source": [
    "tf.random.set_seed(67)\n",
    "np.random.seed(67)"
   ]
  },
  {
   "cell_type": "code",
   "execution_count": 3,
   "metadata": {},
   "outputs": [],
   "source": [
    "df = pd.read_csv(\"iris.csv\")"
   ]
  },
  {
   "cell_type": "code",
   "execution_count": 4,
   "metadata": {},
   "outputs": [],
   "source": [
    "X = np.array(df.drop('species',axis=1))\n",
    "Y = np.array(df['species'])"
   ]
  },
  {
   "cell_type": "code",
   "execution_count": 5,
   "metadata": {},
   "outputs": [],
   "source": [
    "Le = LabelEncoder()\n",
    "Le.fit(['setosa', 'virginica', 'versicolor'])\n",
    "Y_new = Le.transform(Y)"
   ]
  },
  {
   "cell_type": "code",
   "execution_count": 6,
   "metadata": {},
   "outputs": [],
   "source": [
    "X_train1, X_test1, Y_train1, Y_test1 = train_test_split(X, Y_new, test_size=0.30, random_state=101)"
   ]
  },
  {
   "cell_type": "code",
   "execution_count": 16,
   "metadata": {},
   "outputs": [],
   "source": [
    "labels = ['setosa', 'virginica', 'versicolor']"
   ]
  },
  {
   "cell_type": "code",
   "execution_count": 7,
   "metadata": {},
   "outputs": [],
   "source": [
    "METHOD = 'bayes'"
   ]
  },
  {
   "cell_type": "code",
   "execution_count": 12,
   "metadata": {},
   "outputs": [],
   "source": [
    "def train():\n",
    "    # Prepare data tuples\n",
    "    (X_train, y_train) = X_train1, Y_train1\n",
    "    (X_test, y_test) = X_test1, Y_test1\n",
    "    \n",
    "    # Default values for hyper-parameters we're going to sweep over\n",
    "    configs = {\n",
    "        'layers': 4,\n",
    "        'batch_size': 64,\n",
    "        'epochs': 5,\n",
    "        'method': METHOD\n",
    "    }\n",
    "    \n",
    "    # Initilize a new wandb run\n",
    "    wandb.init(project='hyperparameter-sweeps-comparison', config=configs)\n",
    "    \n",
    "    # Config is a variable that holds and saves hyperparameters and inputs\n",
    "    config = wandb.config\n",
    "    \n",
    "    # Define the model\n",
    "    model_keras = Sequential()\n",
    "\n",
    "    # Define the first layer\n",
    "    model_keras.add(keras.layers.Dense(36, activation='relu', input_shape = (4,)))\n",
    "    model_keras.add(keras.layers.Dropout(0.2))\n",
    "    # Add activation function to classifier\n",
    "    model_keras.add(keras.layers.Dense(18, activation='relu'))\n",
    "    model_keras.add(keras.layers.Dropout(0.5))\n",
    "\n",
    "    model_keras.add(keras.layers.Dense(3, activation='softmax'))\n",
    "    \n",
    "    # Compile the model\n",
    "    model_keras.compile(optimizer='adam',\n",
    "                  loss='sparse_categorical_crossentropy',\n",
    "                  metrics=['accuracy'])\n",
    "    \n",
    "    # Train the model\n",
    "    model_keras.fit(X_train, y_train, \n",
    "             epochs=config.epochs,\n",
    "             batch_size=config.batch_size,\n",
    "             validation_data=(X_test, y_test),\n",
    "             callbacks=[WandbCallback(validation_data=(X_test, y_test), labels=labels)])"
   ]
  },
  {
   "cell_type": "code",
   "execution_count": 13,
   "metadata": {},
   "outputs": [],
   "source": [
    "def get_sweep_id(method):\n",
    "    sweep_config = {\n",
    "        'method': method,\n",
    "        'metric': {\n",
    "          'name': 'accuracy',\n",
    "          'goal': 'maximize'   \n",
    "        },\n",
    "        'parameters': {\n",
    "            'layers': {\n",
    "                'values': [4, 8, 16]\n",
    "            },\n",
    "            'batch_size': {\n",
    "                'values': [32, 64, 96, 128]\n",
    "            },\n",
    "            'epochs': {\n",
    "                'values': [5, 10, 15]\n",
    "            }\n",
    "        }\n",
    "    }\n",
    "    sweep_id = wandb.sweep(sweep_config, project='hyperparameter-sweeps-comparison')\n",
    "    \n",
    "    return sweep_id"
   ]
  },
  {
   "cell_type": "code",
   "execution_count": 14,
   "metadata": {},
   "outputs": [
    {
     "name": "stdout",
     "output_type": "stream",
     "text": [
      "Create sweep with ID: rda1hnv0\n",
      "Sweep URL: https://app.wandb.ai/sinisha123/hyperparameter-sweeps-comparison/sweeps/rda1hnv0\n"
     ]
    }
   ],
   "source": [
    "sweep_id = get_sweep_id('bayes')"
   ]
  },
  {
   "cell_type": "code",
   "execution_count": null,
   "metadata": {
    "scrolled": true
   },
   "outputs": [
    {
     "name": "stdout",
     "output_type": "stream",
     "text": [
      "wandb: Agent Starting Run: 7b8bs89q with config:\n",
      "\tbatch_size: 64\n",
      "\tepochs: 15\n",
      "\tlayers: 4\n",
      "wandb: Agent Started Run: 7b8bs89q\n"
     ]
    },
    {
     "data": {
      "text/html": [
       "\n",
       "                Logging results to <a href=\"https://wandb.com\" target=\"_blank\">Weights & Biases</a> <a href=\"https://docs.wandb.com/integrations/jupyter.html\" target=\"_blank\">(Documentation)</a>.<br/>\n",
       "                Project page: <a href=\"https://app.wandb.ai/sinisha123/hyperparameter-sweeps-comparison\" target=\"_blank\">https://app.wandb.ai/sinisha123/hyperparameter-sweeps-comparison</a><br/>\n",
       "                Sweep page: <a href=\"https://app.wandb.ai/sinisha123/hyperparameter-sweeps-comparison/sweeps/rda1hnv0\" target=\"_blank\">https://app.wandb.ai/sinisha123/hyperparameter-sweeps-comparison/sweeps/rda1hnv0</a><br/>\n",
       "Run page: <a href=\"https://app.wandb.ai/sinisha123/hyperparameter-sweeps-comparison/runs/7b8bs89q\" target=\"_blank\">https://app.wandb.ai/sinisha123/hyperparameter-sweeps-comparison/runs/7b8bs89q</a><br/>\n",
       "            "
      ],
      "text/plain": [
       "<IPython.core.display.HTML object>"
      ]
     },
     "metadata": {},
     "output_type": "display_data"
    },
    {
     "name": "stdout",
     "output_type": "stream",
     "text": [
      "Train on 105 samples, validate on 45 samples\n",
      "Epoch 1/15\n",
      "105/105 [==============================] - 1s 10ms/sample - loss: 3.1758 - accuracy: 0.3333 - val_loss: 1.7791 - val_accuracy: 0.2889\n",
      "Epoch 2/15\n",
      "105/105 [==============================] - 0s 2ms/sample - loss: 1.8802 - accuracy: 0.4857 - val_loss: 1.6390 - val_accuracy: 0.2889\n",
      "Epoch 3/15\n",
      "105/105 [==============================] - 1s 7ms/sample - loss: 2.5807 - accuracy: 0.4190 - val_loss: 1.5181 - val_accuracy: 0.2889\n",
      "Epoch 4/15\n",
      "105/105 [==============================] - 0s 3ms/sample - loss: 2.1050 - accuracy: 0.5048 - val_loss: 1.4067 - val_accuracy: 0.2889\n",
      "Epoch 5/15\n",
      "105/105 [==============================] - 0s 4ms/sample - loss: 2.9999 - accuracy: 0.2857 - val_loss: 1.3094 - val_accuracy: 0.2889\n",
      "Epoch 6/15\n",
      "105/105 [==============================] - 0s 3ms/sample - loss: 2.5752 - accuracy: 0.3524 - val_loss: 1.2288 - val_accuracy: 0.2889\n",
      "Epoch 7/15\n",
      "105/105 [==============================] - 0s 3ms/sample - loss: 2.2062 - accuracy: 0.3333 - val_loss: 1.1613 - val_accuracy: 0.2889\n",
      "Epoch 8/15\n",
      "105/105 [==============================] - 0s 4ms/sample - loss: 1.7459 - accuracy: 0.4571 - val_loss: 1.1050 - val_accuracy: 0.2889\n",
      "Epoch 9/15\n",
      "105/105 [==============================] - 0s 2ms/sample - loss: 2.0356 - accuracy: 0.3905 - val_loss: 1.0650 - val_accuracy: 0.2889\n",
      "Epoch 10/15\n",
      "105/105 [==============================] - 0s 3ms/sample - loss: 1.6922 - accuracy: 0.4476 - val_loss: 1.0335 - val_accuracy: 0.2889\n",
      "Epoch 11/15\n",
      "105/105 [==============================] - 0s 2ms/sample - loss: 1.8475 - accuracy: 0.4000 - val_loss: 1.0086 - val_accuracy: 0.2889\n",
      "Epoch 12/15\n",
      "105/105 [==============================] - 0s 2ms/sample - loss: 1.7198 - accuracy: 0.3714 - val_loss: 0.9887 - val_accuracy: 0.2889\n",
      "Epoch 13/15\n",
      "105/105 [==============================] - 0s 2ms/sample - loss: 1.7737 - accuracy: 0.3905 - val_loss: 0.9720 - val_accuracy: 0.2889\n",
      "Epoch 14/15\n",
      "105/105 [==============================] - 0s 2ms/sample - loss: 1.6591 - accuracy: 0.3810 - val_loss: 0.9578 - val_accuracy: 0.3778\n",
      "Epoch 15/15\n",
      "105/105 [==============================] - 0s 3ms/sample - loss: 1.5313 - accuracy: 0.4762 - val_loss: 0.9453 - val_accuracy: 0.5333\n",
      "wandb: Agent Finished Run: 7b8bs89q \n",
      "\n",
      "wandb: Agent Starting Run: 4o50j34i with config:\n",
      "\tbatch_size: 96\n",
      "\tepochs: 5\n",
      "\tlayers: 16\n",
      "wandb: Agent Started Run: 4o50j34i\n"
     ]
    },
    {
     "data": {
      "text/html": [
       "\n",
       "                Logging results to <a href=\"https://wandb.com\" target=\"_blank\">Weights & Biases</a> <a href=\"https://docs.wandb.com/integrations/jupyter.html\" target=\"_blank\">(Documentation)</a>.<br/>\n",
       "                Project page: <a href=\"https://app.wandb.ai/sinisha123/hyperparameter-sweeps-comparison\" target=\"_blank\">https://app.wandb.ai/sinisha123/hyperparameter-sweeps-comparison</a><br/>\n",
       "                Sweep page: <a href=\"https://app.wandb.ai/sinisha123/hyperparameter-sweeps-comparison/sweeps/rda1hnv0\" target=\"_blank\">https://app.wandb.ai/sinisha123/hyperparameter-sweeps-comparison/sweeps/rda1hnv0</a><br/>\n",
       "Run page: <a href=\"https://app.wandb.ai/sinisha123/hyperparameter-sweeps-comparison/runs/4o50j34i\" target=\"_blank\">https://app.wandb.ai/sinisha123/hyperparameter-sweeps-comparison/runs/4o50j34i</a><br/>\n",
       "            "
      ],
      "text/plain": [
       "<IPython.core.display.HTML object>"
      ]
     },
     "metadata": {},
     "output_type": "display_data"
    },
    {
     "name": "stdout",
     "output_type": "stream",
     "text": [
      "Train on 105 samples, validate on 45 samples\n",
      "Epoch 1/5\n",
      "105/105 [==============================] - 1s 9ms/sample - loss: 2.9597 - accuracy: 0.4000 - val_loss: 1.7772 - val_accuracy: 0.2889\n",
      "Epoch 2/5\n",
      "105/105 [==============================] - 0s 2ms/sample - loss: 2.4074 - accuracy: 0.4000 - val_loss: 1.6363 - val_accuracy: 0.2889\n",
      "Epoch 3/5\n",
      "105/105 [==============================] - 0s 2ms/sample - loss: 2.5602 - accuracy: 0.4190 - val_loss: 1.5145 - val_accuracy: 0.2889\n",
      "Epoch 4/5\n",
      "105/105 [==============================] - 0s 2ms/sample - loss: 2.2173 - accuracy: 0.4286 - val_loss: 1.4031 - val_accuracy: 0.2889\n",
      "Epoch 5/5\n",
      "105/105 [==============================] - 0s 2ms/sample - loss: 2.8466 - accuracy: 0.3333 - val_loss: 1.3071 - val_accuracy: 0.2889\n",
      "wandb: Agent Finished Run: 4o50j34i \n",
      "\n",
      "wandb: Agent Starting Run: onlpxdhz with config:\n",
      "\tbatch_size: 96\n",
      "\tepochs: 15\n",
      "\tlayers: 8\n",
      "wandb: Agent Started Run: onlpxdhz\n"
     ]
    },
    {
     "data": {
      "text/html": [
       "\n",
       "                Logging results to <a href=\"https://wandb.com\" target=\"_blank\">Weights & Biases</a> <a href=\"https://docs.wandb.com/integrations/jupyter.html\" target=\"_blank\">(Documentation)</a>.<br/>\n",
       "                Project page: <a href=\"https://app.wandb.ai/sinisha123/hyperparameter-sweeps-comparison\" target=\"_blank\">https://app.wandb.ai/sinisha123/hyperparameter-sweeps-comparison</a><br/>\n",
       "                Sweep page: <a href=\"https://app.wandb.ai/sinisha123/hyperparameter-sweeps-comparison/sweeps/rda1hnv0\" target=\"_blank\">https://app.wandb.ai/sinisha123/hyperparameter-sweeps-comparison/sweeps/rda1hnv0</a><br/>\n",
       "Run page: <a href=\"https://app.wandb.ai/sinisha123/hyperparameter-sweeps-comparison/runs/onlpxdhz\" target=\"_blank\">https://app.wandb.ai/sinisha123/hyperparameter-sweeps-comparison/runs/onlpxdhz</a><br/>\n",
       "            "
      ],
      "text/plain": [
       "<IPython.core.display.HTML object>"
      ]
     },
     "metadata": {},
     "output_type": "display_data"
    },
    {
     "name": "stdout",
     "output_type": "stream",
     "text": [
      "Train on 105 samples, validate on 45 samples\n",
      "Epoch 1/15\n",
      "105/105 [==============================] - 1s 13ms/sample - loss: 2.9597 - accuracy: 0.4000 - val_loss: 1.7772 - val_accuracy: 0.2889\n",
      "Epoch 2/15\n",
      "105/105 [==============================] - 0s 2ms/sample - loss: 2.4074 - accuracy: 0.4000 - val_loss: 1.6363 - val_accuracy: 0.2889\n",
      "Epoch 3/15\n",
      "105/105 [==============================] - 0s 2ms/sample - loss: 2.5602 - accuracy: 0.4190 - val_loss: 1.5145 - val_accuracy: 0.2889\n",
      "Epoch 4/15\n",
      "105/105 [==============================] - 0s 3ms/sample - loss: 2.2173 - accuracy: 0.4286 - val_loss: 1.4031 - val_accuracy: 0.2889\n",
      "Epoch 5/15\n",
      "105/105 [==============================] - 1s 5ms/sample - loss: 2.8466 - accuracy: 0.3333 - val_loss: 1.3071 - val_accuracy: 0.2889\n",
      "Epoch 6/15\n",
      "105/105 [==============================] - 0s 4ms/sample - loss: 2.5457 - accuracy: 0.3524 - val_loss: 1.2230 - val_accuracy: 0.2889\n",
      "Epoch 7/15\n",
      "105/105 [==============================] - 0s 4ms/sample - loss: 2.5756 - accuracy: 0.2857 - val_loss: 1.1502 - val_accuracy: 0.2889\n",
      "Epoch 8/15\n",
      "105/105 [==============================] - 0s 5ms/sample - loss: 1.9940 - accuracy: 0.3714 - val_loss: 1.0962 - val_accuracy: 0.2889\n",
      "Epoch 9/15\n",
      "105/105 [==============================] - 0s 4ms/sample - loss: 2.0509 - accuracy: 0.3524 - val_loss: 1.0598 - val_accuracy: 0.2889\n",
      "Epoch 10/15\n",
      "105/105 [==============================] - 0s 3ms/sample - loss: 1.8271 - accuracy: 0.4000 - val_loss: 1.0329 - val_accuracy: 0.2889\n",
      "Epoch 11/15\n",
      "105/105 [==============================] - 0s 3ms/sample - loss: 2.0050 - accuracy: 0.3810 - val_loss: 1.0146 - val_accuracy: 0.2889\n",
      "Epoch 12/15\n",
      "105/105 [==============================] - 0s 2ms/sample - loss: 1.9424 - accuracy: 0.3524 - val_loss: 1.0031 - val_accuracy: 0.4000\n",
      "Epoch 13/15\n",
      "105/105 [==============================] - 0s 2ms/sample - loss: 1.6911 - accuracy: 0.4000 - val_loss: 0.9976 - val_accuracy: 0.5556\n",
      "Epoch 14/15\n",
      "105/105 [==============================] - 0s 2ms/sample - loss: 1.4043 - accuracy: 0.4571 - val_loss: 0.9942 - val_accuracy: 0.5556\n",
      "Epoch 15/15\n",
      "105/105 [==============================] - 0s 4ms/sample - loss: 1.6630 - accuracy: 0.4381 - val_loss: 0.9899 - val_accuracy: 0.5556\n",
      "wandb: Agent Finished Run: onlpxdhz \n",
      "\n",
      "wandb: Agent Starting Run: h9d42uyt with config:\n",
      "\tbatch_size: 64\n",
      "\tepochs: 15\n",
      "\tlayers: 4\n",
      "wandb: Agent Started Run: h9d42uyt\n"
     ]
    },
    {
     "data": {
      "text/html": [
       "\n",
       "                Logging results to <a href=\"https://wandb.com\" target=\"_blank\">Weights & Biases</a> <a href=\"https://docs.wandb.com/integrations/jupyter.html\" target=\"_blank\">(Documentation)</a>.<br/>\n",
       "                Project page: <a href=\"https://app.wandb.ai/sinisha123/hyperparameter-sweeps-comparison\" target=\"_blank\">https://app.wandb.ai/sinisha123/hyperparameter-sweeps-comparison</a><br/>\n",
       "                Sweep page: <a href=\"https://app.wandb.ai/sinisha123/hyperparameter-sweeps-comparison/sweeps/rda1hnv0\" target=\"_blank\">https://app.wandb.ai/sinisha123/hyperparameter-sweeps-comparison/sweeps/rda1hnv0</a><br/>\n",
       "Run page: <a href=\"https://app.wandb.ai/sinisha123/hyperparameter-sweeps-comparison/runs/h9d42uyt\" target=\"_blank\">https://app.wandb.ai/sinisha123/hyperparameter-sweeps-comparison/runs/h9d42uyt</a><br/>\n",
       "            "
      ],
      "text/plain": [
       "<IPython.core.display.HTML object>"
      ]
     },
     "metadata": {},
     "output_type": "display_data"
    },
    {
     "name": "stdout",
     "output_type": "stream",
     "text": [
      "Train on 105 samples, validate on 45 samples\n",
      "Epoch 1/15\n",
      "105/105 [==============================] - 1s 12ms/sample - loss: 3.1758 - accuracy: 0.3333 - val_loss: 1.7791 - val_accuracy: 0.2889\n",
      "Epoch 2/15\n",
      "105/105 [==============================] - 0s 2ms/sample - loss: 1.8802 - accuracy: 0.4857 - val_loss: 1.6390 - val_accuracy: 0.2889\n",
      "Epoch 3/15\n",
      "105/105 [==============================] - 0s 2ms/sample - loss: 2.5807 - accuracy: 0.4190 - val_loss: 1.5181 - val_accuracy: 0.2889\n",
      "Epoch 4/15\n",
      "105/105 [==============================] - 0s 2ms/sample - loss: 2.1050 - accuracy: 0.5048 - val_loss: 1.4067 - val_accuracy: 0.2889\n",
      "Epoch 5/15\n",
      "105/105 [==============================] - 0s 2ms/sample - loss: 2.9999 - accuracy: 0.2857 - val_loss: 1.3094 - val_accuracy: 0.2889\n",
      "Epoch 6/15\n",
      "105/105 [==============================] - 0s 2ms/sample - loss: 2.5752 - accuracy: 0.3524 - val_loss: 1.2288 - val_accuracy: 0.2889\n",
      "Epoch 7/15\n",
      "105/105 [==============================] - 0s 2ms/sample - loss: 2.2062 - accuracy: 0.3333 - val_loss: 1.1613 - val_accuracy: 0.2889\n",
      "Epoch 8/15\n",
      "105/105 [==============================] - 0s 2ms/sample - loss: 1.7459 - accuracy: 0.4571 - val_loss: 1.1050 - val_accuracy: 0.2889\n",
      "Epoch 9/15\n",
      "105/105 [==============================] - 0s 2ms/sample - loss: 2.0356 - accuracy: 0.3905 - val_loss: 1.0650 - val_accuracy: 0.2889\n",
      "Epoch 10/15\n",
      "105/105 [==============================] - 0s 2ms/sample - loss: 1.6922 - accuracy: 0.4476 - val_loss: 1.0335 - val_accuracy: 0.2889\n",
      "Epoch 11/15\n",
      "105/105 [==============================] - 0s 2ms/sample - loss: 1.8475 - accuracy: 0.4000 - val_loss: 1.0086 - val_accuracy: 0.2889\n",
      "Epoch 12/15\n",
      "105/105 [==============================] - 0s 2ms/sample - loss: 1.7198 - accuracy: 0.3714 - val_loss: 0.9887 - val_accuracy: 0.2889\n",
      "Epoch 13/15\n",
      "105/105 [==============================] - 0s 3ms/sample - loss: 1.7737 - accuracy: 0.3905 - val_loss: 0.9720 - val_accuracy: 0.2889\n",
      "Epoch 14/15\n",
      "105/105 [==============================] - 0s 2ms/sample - loss: 1.6591 - accuracy: 0.3810 - val_loss: 0.9578 - val_accuracy: 0.3778\n",
      "Epoch 15/15\n",
      "105/105 [==============================] - 0s 2ms/sample - loss: 1.5313 - accuracy: 0.4762 - val_loss: 0.9453 - val_accuracy: 0.5333\n",
      "wandb: Agent Finished Run: h9d42uyt \n",
      "\n",
      "wandb: Agent Starting Run: 1ovlgcsf with config:\n",
      "\tbatch_size: 64\n",
      "\tepochs: 15\n",
      "\tlayers: 4\n",
      "wandb: Agent Started Run: 1ovlgcsf\n"
     ]
    },
    {
     "data": {
      "text/html": [
       "\n",
       "                Logging results to <a href=\"https://wandb.com\" target=\"_blank\">Weights & Biases</a> <a href=\"https://docs.wandb.com/integrations/jupyter.html\" target=\"_blank\">(Documentation)</a>.<br/>\n",
       "                Project page: <a href=\"https://app.wandb.ai/sinisha123/hyperparameter-sweeps-comparison\" target=\"_blank\">https://app.wandb.ai/sinisha123/hyperparameter-sweeps-comparison</a><br/>\n",
       "                Sweep page: <a href=\"https://app.wandb.ai/sinisha123/hyperparameter-sweeps-comparison/sweeps/rda1hnv0\" target=\"_blank\">https://app.wandb.ai/sinisha123/hyperparameter-sweeps-comparison/sweeps/rda1hnv0</a><br/>\n",
       "Run page: <a href=\"https://app.wandb.ai/sinisha123/hyperparameter-sweeps-comparison/runs/1ovlgcsf\" target=\"_blank\">https://app.wandb.ai/sinisha123/hyperparameter-sweeps-comparison/runs/1ovlgcsf</a><br/>\n",
       "            "
      ],
      "text/plain": [
       "<IPython.core.display.HTML object>"
      ]
     },
     "metadata": {},
     "output_type": "display_data"
    },
    {
     "name": "stdout",
     "output_type": "stream",
     "text": [
      "Train on 105 samples, validate on 45 samples\n",
      "Epoch 1/15\n",
      "105/105 [==============================] - 2s 16ms/sample - loss: 3.1758 - accuracy: 0.3333 - val_loss: 1.7791 - val_accuracy: 0.2889\n",
      "Epoch 2/15\n",
      "105/105 [==============================] - 0s 2ms/sample - loss: 1.8802 - accuracy: 0.4857 - val_loss: 1.6390 - val_accuracy: 0.2889\n",
      "Epoch 3/15\n",
      "105/105 [==============================] - 0s 3ms/sample - loss: 2.5807 - accuracy: 0.4190 - val_loss: 1.5181 - val_accuracy: 0.2889\n",
      "Epoch 4/15\n",
      "105/105 [==============================] - 0s 2ms/sample - loss: 2.1050 - accuracy: 0.5048 - val_loss: 1.4067 - val_accuracy: 0.2889\n",
      "Epoch 5/15\n",
      "105/105 [==============================] - 0s 2ms/sample - loss: 2.9999 - accuracy: 0.2857 - val_loss: 1.3094 - val_accuracy: 0.2889\n",
      "Epoch 6/15\n",
      "105/105 [==============================] - 0s 3ms/sample - loss: 2.5752 - accuracy: 0.3524 - val_loss: 1.2288 - val_accuracy: 0.2889\n",
      "Epoch 7/15\n",
      "105/105 [==============================] - 0s 2ms/sample - loss: 2.2062 - accuracy: 0.3333 - val_loss: 1.1613 - val_accuracy: 0.2889\n",
      "Epoch 8/15\n",
      "105/105 [==============================] - 0s 2ms/sample - loss: 1.7459 - accuracy: 0.4571 - val_loss: 1.1050 - val_accuracy: 0.2889\n",
      "Epoch 9/15\n",
      "105/105 [==============================] - 0s 2ms/sample - loss: 2.0356 - accuracy: 0.3905 - val_loss: 1.0650 - val_accuracy: 0.2889\n",
      "Epoch 10/15\n",
      "105/105 [==============================] - 0s 2ms/sample - loss: 1.6922 - accuracy: 0.4476 - val_loss: 1.0335 - val_accuracy: 0.2889\n",
      "Epoch 11/15\n",
      "105/105 [==============================] - 0s 2ms/sample - loss: 1.8475 - accuracy: 0.4000 - val_loss: 1.0086 - val_accuracy: 0.2889\n",
      "Epoch 12/15\n",
      "105/105 [==============================] - 0s 2ms/sample - loss: 1.7198 - accuracy: 0.3714 - val_loss: 0.9887 - val_accuracy: 0.2889\n",
      "Epoch 13/15\n",
      "105/105 [==============================] - 0s 2ms/sample - loss: 1.7737 - accuracy: 0.3905 - val_loss: 0.9720 - val_accuracy: 0.2889\n",
      "Epoch 14/15\n",
      "105/105 [==============================] - 0s 2ms/sample - loss: 1.6591 - accuracy: 0.3810 - val_loss: 0.9578 - val_accuracy: 0.3778\n",
      "Epoch 15/15\n",
      "105/105 [==============================] - 0s 2ms/sample - loss: 1.5313 - accuracy: 0.4762 - val_loss: 0.9453 - val_accuracy: 0.5333\n",
      "wandb: Agent Finished Run: 1ovlgcsf \n",
      "\n",
      "wandb: Agent Starting Run: xnuzfrtt with config:\n",
      "\tbatch_size: 96\n",
      "\tepochs: 15\n",
      "\tlayers: 4\n",
      "wandb: Agent Started Run: xnuzfrtt\n"
     ]
    },
    {
     "data": {
      "text/html": [
       "\n",
       "                Logging results to <a href=\"https://wandb.com\" target=\"_blank\">Weights & Biases</a> <a href=\"https://docs.wandb.com/integrations/jupyter.html\" target=\"_blank\">(Documentation)</a>.<br/>\n",
       "                Project page: <a href=\"https://app.wandb.ai/sinisha123/hyperparameter-sweeps-comparison\" target=\"_blank\">https://app.wandb.ai/sinisha123/hyperparameter-sweeps-comparison</a><br/>\n",
       "                Sweep page: <a href=\"https://app.wandb.ai/sinisha123/hyperparameter-sweeps-comparison/sweeps/rda1hnv0\" target=\"_blank\">https://app.wandb.ai/sinisha123/hyperparameter-sweeps-comparison/sweeps/rda1hnv0</a><br/>\n",
       "Run page: <a href=\"https://app.wandb.ai/sinisha123/hyperparameter-sweeps-comparison/runs/xnuzfrtt\" target=\"_blank\">https://app.wandb.ai/sinisha123/hyperparameter-sweeps-comparison/runs/xnuzfrtt</a><br/>\n",
       "            "
      ],
      "text/plain": [
       "<IPython.core.display.HTML object>"
      ]
     },
     "metadata": {},
     "output_type": "display_data"
    },
    {
     "name": "stdout",
     "output_type": "stream",
     "text": [
      "Train on 105 samples, validate on 45 samples\n",
      "Epoch 1/15\n",
      "105/105 [==============================] - 1s 10ms/sample - loss: 2.9597 - accuracy: 0.4000 - val_loss: 1.7772 - val_accuracy: 0.2889\n",
      "Epoch 2/15\n",
      "105/105 [==============================] - 0s 2ms/sample - loss: 2.4074 - accuracy: 0.4000 - val_loss: 1.6363 - val_accuracy: 0.2889\n",
      "Epoch 3/15\n",
      "105/105 [==============================] - 0s 2ms/sample - loss: 2.5602 - accuracy: 0.4190 - val_loss: 1.5145 - val_accuracy: 0.2889\n",
      "Epoch 4/15\n",
      "105/105 [==============================] - 0s 2ms/sample - loss: 2.2173 - accuracy: 0.4286 - val_loss: 1.4031 - val_accuracy: 0.2889\n",
      "Epoch 5/15\n",
      "105/105 [==============================] - 0s 2ms/sample - loss: 2.8466 - accuracy: 0.3333 - val_loss: 1.3071 - val_accuracy: 0.2889\n",
      "Epoch 6/15\n",
      "105/105 [==============================] - 0s 4ms/sample - loss: 2.5457 - accuracy: 0.3524 - val_loss: 1.2230 - val_accuracy: 0.2889\n",
      "Epoch 7/15\n",
      "105/105 [==============================] - 0s 2ms/sample - loss: 2.5756 - accuracy: 0.2857 - val_loss: 1.1502 - val_accuracy: 0.2889\n",
      "Epoch 8/15\n",
      "105/105 [==============================] - 0s 3ms/sample - loss: 1.9940 - accuracy: 0.3714 - val_loss: 1.0962 - val_accuracy: 0.2889\n",
      "Epoch 9/15\n",
      "105/105 [==============================] - 0s 2ms/sample - loss: 2.0509 - accuracy: 0.3524 - val_loss: 1.0598 - val_accuracy: 0.2889\n",
      "Epoch 10/15\n",
      "105/105 [==============================] - 0s 2ms/sample - loss: 1.8271 - accuracy: 0.4000 - val_loss: 1.0329 - val_accuracy: 0.2889\n",
      "Epoch 11/15\n",
      "105/105 [==============================] - 0s 2ms/sample - loss: 2.0050 - accuracy: 0.3810 - val_loss: 1.0146 - val_accuracy: 0.2889\n",
      "Epoch 12/15\n",
      "105/105 [==============================] - 0s 3ms/sample - loss: 1.9424 - accuracy: 0.3524 - val_loss: 1.0031 - val_accuracy: 0.4000\n",
      "Epoch 13/15\n",
      "105/105 [==============================] - 0s 2ms/sample - loss: 1.6911 - accuracy: 0.4000 - val_loss: 0.9976 - val_accuracy: 0.5556\n",
      "Epoch 14/15\n",
      "105/105 [==============================] - 0s 2ms/sample - loss: 1.4043 - accuracy: 0.4571 - val_loss: 0.9942 - val_accuracy: 0.5556\n",
      "Epoch 15/15\n",
      "105/105 [==============================] - 0s 2ms/sample - loss: 1.6630 - accuracy: 0.4381 - val_loss: 0.9899 - val_accuracy: 0.5556\n",
      "wandb: Agent Finished Run: xnuzfrtt \n",
      "\n",
      "wandb: Agent Starting Run: no9ixe29 with config:\n",
      "\tbatch_size: 32\n",
      "\tepochs: 15\n",
      "\tlayers: 4\n",
      "wandb: Agent Started Run: no9ixe29\n"
     ]
    },
    {
     "data": {
      "text/html": [
       "\n",
       "                Logging results to <a href=\"https://wandb.com\" target=\"_blank\">Weights & Biases</a> <a href=\"https://docs.wandb.com/integrations/jupyter.html\" target=\"_blank\">(Documentation)</a>.<br/>\n",
       "                Project page: <a href=\"https://app.wandb.ai/sinisha123/hyperparameter-sweeps-comparison\" target=\"_blank\">https://app.wandb.ai/sinisha123/hyperparameter-sweeps-comparison</a><br/>\n",
       "                Sweep page: <a href=\"https://app.wandb.ai/sinisha123/hyperparameter-sweeps-comparison/sweeps/rda1hnv0\" target=\"_blank\">https://app.wandb.ai/sinisha123/hyperparameter-sweeps-comparison/sweeps/rda1hnv0</a><br/>\n",
       "Run page: <a href=\"https://app.wandb.ai/sinisha123/hyperparameter-sweeps-comparison/runs/no9ixe29\" target=\"_blank\">https://app.wandb.ai/sinisha123/hyperparameter-sweeps-comparison/runs/no9ixe29</a><br/>\n",
       "            "
      ],
      "text/plain": [
       "<IPython.core.display.HTML object>"
      ]
     },
     "metadata": {},
     "output_type": "display_data"
    },
    {
     "name": "stdout",
     "output_type": "stream",
     "text": [
      "Train on 105 samples, validate on 45 samples\n",
      "Epoch 1/15\n",
      "105/105 [==============================] - 1s 13ms/sample - loss: 2.9028 - accuracy: 0.3524 - val_loss: 1.6668 - val_accuracy: 0.2889\n",
      "Epoch 2/15\n",
      "105/105 [==============================] - 0s 2ms/sample - loss: 2.0642 - accuracy: 0.4476 - val_loss: 1.4364 - val_accuracy: 0.2889\n",
      "Epoch 3/15\n",
      "105/105 [==============================] - 0s 2ms/sample - loss: 2.2950 - accuracy: 0.3905 - val_loss: 1.2692 - val_accuracy: 0.2889\n",
      "Epoch 4/15\n",
      "105/105 [==============================] - 0s 2ms/sample - loss: 1.9392 - accuracy: 0.4571 - val_loss: 1.1380 - val_accuracy: 0.2889\n",
      "Epoch 5/15\n",
      "105/105 [==============================] - 0s 2ms/sample - loss: 2.3652 - accuracy: 0.2762 - val_loss: 1.0530 - val_accuracy: 0.2889\n",
      "Epoch 6/15\n",
      "105/105 [==============================] - 0s 2ms/sample - loss: 2.3472 - accuracy: 0.3714 - val_loss: 1.0013 - val_accuracy: 0.2889\n",
      "Epoch 7/15\n",
      "105/105 [==============================] - 0s 2ms/sample - loss: 1.7626 - accuracy: 0.3524 - val_loss: 0.9742 - val_accuracy: 0.4000\n",
      "Epoch 8/15\n",
      "105/105 [==============================] - 0s 2ms/sample - loss: 1.6315 - accuracy: 0.4190 - val_loss: 0.9619 - val_accuracy: 0.5556\n",
      "Epoch 9/15\n",
      "105/105 [==============================] - 0s 2ms/sample - loss: 1.9917 - accuracy: 0.3524 - val_loss: 0.9532 - val_accuracy: 0.5556\n",
      "Epoch 10/15\n",
      "105/105 [==============================] - 0s 2ms/sample - loss: 1.4822 - accuracy: 0.4571 - val_loss: 0.9472 - val_accuracy: 0.5556\n",
      "Epoch 11/15\n",
      "105/105 [==============================] - 0s 2ms/sample - loss: 1.4612 - accuracy: 0.3524 - val_loss: 0.9444 - val_accuracy: 0.5556\n",
      "Epoch 12/15\n",
      "105/105 [==============================] - 0s 2ms/sample - loss: 1.3101 - accuracy: 0.4286 - val_loss: 0.9372 - val_accuracy: 0.5556\n",
      "Epoch 13/15\n",
      "105/105 [==============================] - 0s 2ms/sample - loss: 1.2716 - accuracy: 0.4857 - val_loss: 0.9369 - val_accuracy: 0.5556\n",
      "Epoch 14/15\n",
      "105/105 [==============================] - 0s 2ms/sample - loss: 1.3230 - accuracy: 0.4000 - val_loss: 0.9256 - val_accuracy: 0.5556\n",
      "Epoch 15/15\n",
      "105/105 [==============================] - 0s 2ms/sample - loss: 1.3342 - accuracy: 0.4952 - val_loss: 0.9104 - val_accuracy: 0.5556\n",
      "wandb: Agent Finished Run: no9ixe29 \n",
      "\n",
      "wandb: Agent Starting Run: 0getlo9k with config:\n",
      "\tbatch_size: 32\n",
      "\tepochs: 15\n",
      "\tlayers: 4\n",
      "wandb: Agent Started Run: 0getlo9k\n"
     ]
    },
    {
     "data": {
      "text/html": [
       "\n",
       "                Logging results to <a href=\"https://wandb.com\" target=\"_blank\">Weights & Biases</a> <a href=\"https://docs.wandb.com/integrations/jupyter.html\" target=\"_blank\">(Documentation)</a>.<br/>\n",
       "                Project page: <a href=\"https://app.wandb.ai/sinisha123/hyperparameter-sweeps-comparison\" target=\"_blank\">https://app.wandb.ai/sinisha123/hyperparameter-sweeps-comparison</a><br/>\n",
       "                Sweep page: <a href=\"https://app.wandb.ai/sinisha123/hyperparameter-sweeps-comparison/sweeps/rda1hnv0\" target=\"_blank\">https://app.wandb.ai/sinisha123/hyperparameter-sweeps-comparison/sweeps/rda1hnv0</a><br/>\n",
       "Run page: <a href=\"https://app.wandb.ai/sinisha123/hyperparameter-sweeps-comparison/runs/0getlo9k\" target=\"_blank\">https://app.wandb.ai/sinisha123/hyperparameter-sweeps-comparison/runs/0getlo9k</a><br/>\n",
       "            "
      ],
      "text/plain": [
       "<IPython.core.display.HTML object>"
      ]
     },
     "metadata": {},
     "output_type": "display_data"
    },
    {
     "name": "stdout",
     "output_type": "stream",
     "text": [
      "Train on 105 samples, validate on 45 samples\n",
      "Epoch 1/15\n",
      "105/105 [==============================] - 1s 11ms/sample - loss: 2.9028 - accuracy: 0.3524 - val_loss: 1.6668 - val_accuracy: 0.2889\n",
      "Epoch 2/15\n",
      "105/105 [==============================] - 0s 2ms/sample - loss: 2.0642 - accuracy: 0.4476 - val_loss: 1.4364 - val_accuracy: 0.2889\n",
      "Epoch 3/15\n",
      "105/105 [==============================] - 0s 2ms/sample - loss: 2.2950 - accuracy: 0.3905 - val_loss: 1.2692 - val_accuracy: 0.2889\n",
      "Epoch 4/15\n",
      "105/105 [==============================] - 0s 2ms/sample - loss: 1.9392 - accuracy: 0.4571 - val_loss: 1.1380 - val_accuracy: 0.2889\n",
      "Epoch 5/15\n",
      "105/105 [==============================] - 0s 2ms/sample - loss: 2.3652 - accuracy: 0.2762 - val_loss: 1.0530 - val_accuracy: 0.2889\n",
      "Epoch 6/15\n",
      "105/105 [==============================] - 0s 2ms/sample - loss: 2.3472 - accuracy: 0.3714 - val_loss: 1.0013 - val_accuracy: 0.2889\n",
      "Epoch 7/15\n",
      "105/105 [==============================] - 0s 2ms/sample - loss: 1.7626 - accuracy: 0.3524 - val_loss: 0.9742 - val_accuracy: 0.4000\n",
      "Epoch 8/15\n",
      "105/105 [==============================] - 0s 2ms/sample - loss: 1.6315 - accuracy: 0.4190 - val_loss: 0.9619 - val_accuracy: 0.5556\n",
      "Epoch 9/15\n",
      "105/105 [==============================] - 0s 2ms/sample - loss: 1.9917 - accuracy: 0.3524 - val_loss: 0.9532 - val_accuracy: 0.5556\n",
      "Epoch 10/15\n",
      "105/105 [==============================] - 0s 2ms/sample - loss: 1.4822 - accuracy: 0.4571 - val_loss: 0.9472 - val_accuracy: 0.5556\n",
      "Epoch 11/15\n",
      "105/105 [==============================] - 0s 2ms/sample - loss: 1.4612 - accuracy: 0.3524 - val_loss: 0.9444 - val_accuracy: 0.5556\n",
      "Epoch 12/15\n",
      "105/105 [==============================] - 0s 2ms/sample - loss: 1.3101 - accuracy: 0.4286 - val_loss: 0.9372 - val_accuracy: 0.5556\n",
      "Epoch 13/15\n",
      "105/105 [==============================] - 0s 3ms/sample - loss: 1.2716 - accuracy: 0.4857 - val_loss: 0.9369 - val_accuracy: 0.5556\n",
      "Epoch 14/15\n",
      "105/105 [==============================] - 0s 2ms/sample - loss: 1.3230 - accuracy: 0.4000 - val_loss: 0.9256 - val_accuracy: 0.5556\n",
      "Epoch 15/15\n",
      "105/105 [==============================] - 0s 2ms/sample - loss: 1.3342 - accuracy: 0.4952 - val_loss: 0.9104 - val_accuracy: 0.5556\n",
      "wandb: Agent Finished Run: 0getlo9k \n",
      "\n",
      "wandb: Agent Starting Run: benvmuu8 with config:\n",
      "\tbatch_size: 32\n",
      "\tepochs: 15\n",
      "\tlayers: 4\n",
      "wandb: Agent Started Run: benvmuu8\n"
     ]
    },
    {
     "data": {
      "text/html": [
       "\n",
       "                Logging results to <a href=\"https://wandb.com\" target=\"_blank\">Weights & Biases</a> <a href=\"https://docs.wandb.com/integrations/jupyter.html\" target=\"_blank\">(Documentation)</a>.<br/>\n",
       "                Project page: <a href=\"https://app.wandb.ai/sinisha123/hyperparameter-sweeps-comparison\" target=\"_blank\">https://app.wandb.ai/sinisha123/hyperparameter-sweeps-comparison</a><br/>\n",
       "                Sweep page: <a href=\"https://app.wandb.ai/sinisha123/hyperparameter-sweeps-comparison/sweeps/rda1hnv0\" target=\"_blank\">https://app.wandb.ai/sinisha123/hyperparameter-sweeps-comparison/sweeps/rda1hnv0</a><br/>\n",
       "Run page: <a href=\"https://app.wandb.ai/sinisha123/hyperparameter-sweeps-comparison/runs/benvmuu8\" target=\"_blank\">https://app.wandb.ai/sinisha123/hyperparameter-sweeps-comparison/runs/benvmuu8</a><br/>\n",
       "            "
      ],
      "text/plain": [
       "<IPython.core.display.HTML object>"
      ]
     },
     "metadata": {},
     "output_type": "display_data"
    },
    {
     "name": "stdout",
     "output_type": "stream",
     "text": [
      "Train on 105 samples, validate on 45 samples\n",
      "Epoch 1/15\n",
      "105/105 [==============================] - 1s 11ms/sample - loss: 2.9028 - accuracy: 0.3524 - val_loss: 1.6668 - val_accuracy: 0.2889\n",
      "Epoch 2/15\n",
      "105/105 [==============================] - 0s 3ms/sample - loss: 2.0642 - accuracy: 0.4476 - val_loss: 1.4364 - val_accuracy: 0.2889\n",
      "Epoch 3/15\n",
      "105/105 [==============================] - 0s 3ms/sample - loss: 2.2950 - accuracy: 0.3905 - val_loss: 1.2692 - val_accuracy: 0.2889\n",
      "Epoch 4/15\n",
      "105/105 [==============================] - 0s 2ms/sample - loss: 1.9392 - accuracy: 0.4571 - val_loss: 1.1380 - val_accuracy: 0.2889\n",
      "Epoch 5/15\n",
      "105/105 [==============================] - 0s 3ms/sample - loss: 2.3652 - accuracy: 0.2762 - val_loss: 1.0530 - val_accuracy: 0.2889\n",
      "Epoch 6/15\n",
      "105/105 [==============================] - 0s 2ms/sample - loss: 2.3472 - accuracy: 0.3714 - val_loss: 1.0013 - val_accuracy: 0.2889\n",
      "Epoch 7/15\n",
      "105/105 [==============================] - 0s 2ms/sample - loss: 1.7626 - accuracy: 0.3524 - val_loss: 0.9742 - val_accuracy: 0.4000\n",
      "Epoch 8/15\n",
      "105/105 [==============================] - 0s 2ms/sample - loss: 1.6315 - accuracy: 0.4190 - val_loss: 0.9619 - val_accuracy: 0.5556\n",
      "Epoch 9/15\n",
      "105/105 [==============================] - 0s 2ms/sample - loss: 1.9917 - accuracy: 0.3524 - val_loss: 0.9532 - val_accuracy: 0.5556\n",
      "Epoch 10/15\n",
      "105/105 [==============================] - 0s 2ms/sample - loss: 1.4822 - accuracy: 0.4571 - val_loss: 0.9472 - val_accuracy: 0.5556\n",
      "Epoch 11/15\n",
      "105/105 [==============================] - 0s 2ms/sample - loss: 1.4612 - accuracy: 0.3524 - val_loss: 0.9444 - val_accuracy: 0.5556\n",
      "Epoch 12/15\n",
      "105/105 [==============================] - 0s 2ms/sample - loss: 1.3101 - accuracy: 0.4286 - val_loss: 0.9372 - val_accuracy: 0.5556\n",
      "Epoch 13/15\n",
      "105/105 [==============================] - 0s 2ms/sample - loss: 1.2716 - accuracy: 0.4857 - val_loss: 0.9369 - val_accuracy: 0.5556\n",
      "Epoch 14/15\n",
      "105/105 [==============================] - 0s 2ms/sample - loss: 1.3230 - accuracy: 0.4000 - val_loss: 0.9256 - val_accuracy: 0.5556\n",
      "Epoch 15/15\n",
      "105/105 [==============================] - 0s 2ms/sample - loss: 1.3342 - accuracy: 0.4952 - val_loss: 0.9104 - val_accuracy: 0.5556\n",
      "wandb: Agent Finished Run: benvmuu8 \n",
      "\n",
      "wandb: Agent Starting Run: udz33rgi with config:\n",
      "\tbatch_size: 32\n",
      "\tepochs: 15\n",
      "\tlayers: 4\n",
      "wandb: Agent Started Run: udz33rgi\n"
     ]
    },
    {
     "data": {
      "text/html": [
       "\n",
       "                Logging results to <a href=\"https://wandb.com\" target=\"_blank\">Weights & Biases</a> <a href=\"https://docs.wandb.com/integrations/jupyter.html\" target=\"_blank\">(Documentation)</a>.<br/>\n",
       "                Project page: <a href=\"https://app.wandb.ai/sinisha123/hyperparameter-sweeps-comparison\" target=\"_blank\">https://app.wandb.ai/sinisha123/hyperparameter-sweeps-comparison</a><br/>\n",
       "                Sweep page: <a href=\"https://app.wandb.ai/sinisha123/hyperparameter-sweeps-comparison/sweeps/rda1hnv0\" target=\"_blank\">https://app.wandb.ai/sinisha123/hyperparameter-sweeps-comparison/sweeps/rda1hnv0</a><br/>\n",
       "Run page: <a href=\"https://app.wandb.ai/sinisha123/hyperparameter-sweeps-comparison/runs/udz33rgi\" target=\"_blank\">https://app.wandb.ai/sinisha123/hyperparameter-sweeps-comparison/runs/udz33rgi</a><br/>\n",
       "            "
      ],
      "text/plain": [
       "<IPython.core.display.HTML object>"
      ]
     },
     "metadata": {},
     "output_type": "display_data"
    },
    {
     "name": "stdout",
     "output_type": "stream",
     "text": [
      "Train on 105 samples, validate on 45 samples\n",
      "Epoch 1/15\n",
      "105/105 [==============================] - 1s 11ms/sample - loss: 2.9028 - accuracy: 0.3524 - val_loss: 1.6668 - val_accuracy: 0.2889\n",
      "Epoch 2/15\n",
      "105/105 [==============================] - 0s 4ms/sample - loss: 2.0642 - accuracy: 0.4476 - val_loss: 1.4364 - val_accuracy: 0.2889\n",
      "Epoch 3/15\n",
      "105/105 [==============================] - 0s 2ms/sample - loss: 2.2950 - accuracy: 0.3905 - val_loss: 1.2692 - val_accuracy: 0.2889\n",
      "Epoch 4/15\n",
      "105/105 [==============================] - 0s 2ms/sample - loss: 1.9392 - accuracy: 0.4571 - val_loss: 1.1380 - val_accuracy: 0.2889\n",
      "Epoch 5/15\n",
      "105/105 [==============================] - 0s 2ms/sample - loss: 2.3652 - accuracy: 0.2762 - val_loss: 1.0530 - val_accuracy: 0.2889\n",
      "Epoch 6/15\n",
      "105/105 [==============================] - 0s 2ms/sample - loss: 2.3472 - accuracy: 0.3714 - val_loss: 1.0013 - val_accuracy: 0.2889\n",
      "Epoch 7/15\n",
      "105/105 [==============================] - 0s 2ms/sample - loss: 1.7626 - accuracy: 0.3524 - val_loss: 0.9742 - val_accuracy: 0.4000\n",
      "Epoch 8/15\n",
      "105/105 [==============================] - 0s 2ms/sample - loss: 1.6315 - accuracy: 0.4190 - val_loss: 0.9619 - val_accuracy: 0.5556\n",
      "Epoch 9/15\n",
      "105/105 [==============================] - 0s 2ms/sample - loss: 1.9917 - accuracy: 0.3524 - val_loss: 0.9532 - val_accuracy: 0.5556\n",
      "Epoch 10/15\n",
      "105/105 [==============================] - 0s 2ms/sample - loss: 1.4822 - accuracy: 0.4571 - val_loss: 0.9472 - val_accuracy: 0.5556\n",
      "Epoch 11/15\n",
      "105/105 [==============================] - 0s 2ms/sample - loss: 1.4612 - accuracy: 0.3524 - val_loss: 0.9444 - val_accuracy: 0.5556\n",
      "Epoch 12/15\n",
      "105/105 [==============================] - 0s 2ms/sample - loss: 1.3101 - accuracy: 0.4286 - val_loss: 0.9372 - val_accuracy: 0.5556\n",
      "Epoch 13/15\n",
      "105/105 [==============================] - 0s 2ms/sample - loss: 1.2716 - accuracy: 0.4857 - val_loss: 0.9369 - val_accuracy: 0.5556\n",
      "Epoch 14/15\n",
      "105/105 [==============================] - 0s 2ms/sample - loss: 1.3230 - accuracy: 0.4000 - val_loss: 0.9256 - val_accuracy: 0.5556\n",
      "Epoch 15/15\n",
      "105/105 [==============================] - 0s 3ms/sample - loss: 1.3342 - accuracy: 0.4952 - val_loss: 0.9104 - val_accuracy: 0.5556\n",
      "wandb: Agent Finished Run: udz33rgi \n",
      "\n",
      "wandb: Agent Starting Run: nvh59ib9 with config:\n",
      "\tbatch_size: 32\n",
      "\tepochs: 15\n",
      "\tlayers: 4\n",
      "wandb: Agent Started Run: nvh59ib9\n"
     ]
    },
    {
     "data": {
      "text/html": [
       "\n",
       "                Logging results to <a href=\"https://wandb.com\" target=\"_blank\">Weights & Biases</a> <a href=\"https://docs.wandb.com/integrations/jupyter.html\" target=\"_blank\">(Documentation)</a>.<br/>\n",
       "                Project page: <a href=\"https://app.wandb.ai/sinisha123/hyperparameter-sweeps-comparison\" target=\"_blank\">https://app.wandb.ai/sinisha123/hyperparameter-sweeps-comparison</a><br/>\n",
       "                Sweep page: <a href=\"https://app.wandb.ai/sinisha123/hyperparameter-sweeps-comparison/sweeps/rda1hnv0\" target=\"_blank\">https://app.wandb.ai/sinisha123/hyperparameter-sweeps-comparison/sweeps/rda1hnv0</a><br/>\n",
       "Run page: <a href=\"https://app.wandb.ai/sinisha123/hyperparameter-sweeps-comparison/runs/nvh59ib9\" target=\"_blank\">https://app.wandb.ai/sinisha123/hyperparameter-sweeps-comparison/runs/nvh59ib9</a><br/>\n",
       "            "
      ],
      "text/plain": [
       "<IPython.core.display.HTML object>"
      ]
     },
     "metadata": {},
     "output_type": "display_data"
    },
    {
     "name": "stdout",
     "output_type": "stream",
     "text": [
      "Train on 105 samples, validate on 45 samples\n",
      "Epoch 1/15\n",
      "105/105 [==============================] - 1s 11ms/sample - loss: 2.9028 - accuracy: 0.3524 - val_loss: 1.6668 - val_accuracy: 0.2889\n",
      "Epoch 2/15\n",
      "105/105 [==============================] - 0s 2ms/sample - loss: 2.0642 - accuracy: 0.4476 - val_loss: 1.4364 - val_accuracy: 0.2889\n",
      "Epoch 3/15\n",
      "105/105 [==============================] - 0s 2ms/sample - loss: 2.2950 - accuracy: 0.3905 - val_loss: 1.2692 - val_accuracy: 0.2889\n",
      "Epoch 4/15\n",
      "105/105 [==============================] - 0s 2ms/sample - loss: 1.9392 - accuracy: 0.4571 - val_loss: 1.1380 - val_accuracy: 0.2889\n",
      "Epoch 5/15\n",
      "105/105 [==============================] - 0s 2ms/sample - loss: 2.3652 - accuracy: 0.2762 - val_loss: 1.0530 - val_accuracy: 0.2889\n",
      "Epoch 6/15\n",
      "105/105 [==============================] - 0s 2ms/sample - loss: 2.3472 - accuracy: 0.3714 - val_loss: 1.0013 - val_accuracy: 0.2889\n",
      "Epoch 7/15\n",
      "105/105 [==============================] - 0s 2ms/sample - loss: 1.7626 - accuracy: 0.3524 - val_loss: 0.9742 - val_accuracy: 0.4000\n",
      "Epoch 8/15\n",
      "105/105 [==============================] - 0s 2ms/sample - loss: 1.6315 - accuracy: 0.4190 - val_loss: 0.9619 - val_accuracy: 0.5556\n",
      "Epoch 9/15\n",
      "105/105 [==============================] - 0s 2ms/sample - loss: 1.9917 - accuracy: 0.3524 - val_loss: 0.9532 - val_accuracy: 0.5556\n",
      "Epoch 10/15\n",
      "105/105 [==============================] - 0s 2ms/sample - loss: 1.4822 - accuracy: 0.4571 - val_loss: 0.9472 - val_accuracy: 0.5556\n",
      "Epoch 11/15\n",
      "105/105 [==============================] - 0s 2ms/sample - loss: 1.4612 - accuracy: 0.3524 - val_loss: 0.9444 - val_accuracy: 0.5556\n",
      "Epoch 12/15\n",
      "105/105 [==============================] - 0s 2ms/sample - loss: 1.3101 - accuracy: 0.4286 - val_loss: 0.9372 - val_accuracy: 0.5556\n",
      "Epoch 13/15\n",
      "105/105 [==============================] - 0s 2ms/sample - loss: 1.2716 - accuracy: 0.4857 - val_loss: 0.9369 - val_accuracy: 0.5556\n",
      "Epoch 14/15\n",
      "105/105 [==============================] - 0s 2ms/sample - loss: 1.3230 - accuracy: 0.4000 - val_loss: 0.9256 - val_accuracy: 0.5556\n",
      "Epoch 15/15\n",
      "105/105 [==============================] - 0s 2ms/sample - loss: 1.3342 - accuracy: 0.4952 - val_loss: 0.9104 - val_accuracy: 0.5556\n",
      "wandb: Agent Finished Run: nvh59ib9 \n",
      "\n",
      "wandb: Agent Starting Run: k1j718pi with config:\n",
      "\tbatch_size: 32\n",
      "\tepochs: 15\n",
      "\tlayers: 4\n",
      "wandb: Agent Started Run: k1j718pi\n"
     ]
    },
    {
     "data": {
      "text/html": [
       "\n",
       "                Logging results to <a href=\"https://wandb.com\" target=\"_blank\">Weights & Biases</a> <a href=\"https://docs.wandb.com/integrations/jupyter.html\" target=\"_blank\">(Documentation)</a>.<br/>\n",
       "                Project page: <a href=\"https://app.wandb.ai/sinisha123/hyperparameter-sweeps-comparison\" target=\"_blank\">https://app.wandb.ai/sinisha123/hyperparameter-sweeps-comparison</a><br/>\n",
       "                Sweep page: <a href=\"https://app.wandb.ai/sinisha123/hyperparameter-sweeps-comparison/sweeps/rda1hnv0\" target=\"_blank\">https://app.wandb.ai/sinisha123/hyperparameter-sweeps-comparison/sweeps/rda1hnv0</a><br/>\n",
       "Run page: <a href=\"https://app.wandb.ai/sinisha123/hyperparameter-sweeps-comparison/runs/k1j718pi\" target=\"_blank\">https://app.wandb.ai/sinisha123/hyperparameter-sweeps-comparison/runs/k1j718pi</a><br/>\n",
       "            "
      ],
      "text/plain": [
       "<IPython.core.display.HTML object>"
      ]
     },
     "metadata": {},
     "output_type": "display_data"
    },
    {
     "name": "stdout",
     "output_type": "stream",
     "text": [
      "Train on 105 samples, validate on 45 samples\n",
      "Epoch 1/15\n",
      "105/105 [==============================] - 1s 11ms/sample - loss: 2.9028 - accuracy: 0.3524 - val_loss: 1.6668 - val_accuracy: 0.2889\n",
      "Epoch 2/15\n",
      "105/105 [==============================] - 0s 2ms/sample - loss: 2.0642 - accuracy: 0.4476 - val_loss: 1.4364 - val_accuracy: 0.2889\n",
      "Epoch 3/15\n",
      "105/105 [==============================] - 0s 3ms/sample - loss: 2.2950 - accuracy: 0.3905 - val_loss: 1.2692 - val_accuracy: 0.2889\n",
      "Epoch 4/15\n",
      "105/105 [==============================] - 0s 2ms/sample - loss: 1.9392 - accuracy: 0.4571 - val_loss: 1.1380 - val_accuracy: 0.2889\n",
      "Epoch 5/15\n",
      "105/105 [==============================] - 0s 2ms/sample - loss: 2.3652 - accuracy: 0.2762 - val_loss: 1.0530 - val_accuracy: 0.2889\n",
      "Epoch 6/15\n",
      "105/105 [==============================] - 0s 2ms/sample - loss: 2.3472 - accuracy: 0.3714 - val_loss: 1.0013 - val_accuracy: 0.2889\n",
      "Epoch 7/15\n",
      "105/105 [==============================] - 0s 2ms/sample - loss: 1.7626 - accuracy: 0.3524 - val_loss: 0.9742 - val_accuracy: 0.4000\n",
      "Epoch 8/15\n",
      "105/105 [==============================] - 0s 2ms/sample - loss: 1.6315 - accuracy: 0.4190 - val_loss: 0.9619 - val_accuracy: 0.5556\n",
      "Epoch 9/15\n",
      "105/105 [==============================] - 0s 2ms/sample - loss: 1.9917 - accuracy: 0.3524 - val_loss: 0.9532 - val_accuracy: 0.5556\n",
      "Epoch 10/15\n",
      "105/105 [==============================] - 0s 2ms/sample - loss: 1.4822 - accuracy: 0.4571 - val_loss: 0.9472 - val_accuracy: 0.5556\n",
      "Epoch 11/15\n",
      "105/105 [==============================] - 0s 2ms/sample - loss: 1.4612 - accuracy: 0.3524 - val_loss: 0.9444 - val_accuracy: 0.5556\n",
      "Epoch 12/15\n",
      "105/105 [==============================] - 0s 2ms/sample - loss: 1.3101 - accuracy: 0.4286 - val_loss: 0.9372 - val_accuracy: 0.5556\n",
      "Epoch 13/15\n",
      "105/105 [==============================] - 0s 3ms/sample - loss: 1.2716 - accuracy: 0.4857 - val_loss: 0.9369 - val_accuracy: 0.5556\n",
      "Epoch 14/15\n",
      "105/105 [==============================] - 0s 3ms/sample - loss: 1.3230 - accuracy: 0.4000 - val_loss: 0.9256 - val_accuracy: 0.5556\n",
      "Epoch 15/15\n",
      "105/105 [==============================] - 0s 3ms/sample - loss: 1.3342 - accuracy: 0.4952 - val_loss: 0.9104 - val_accuracy: 0.5556\n",
      "wandb: Agent Finished Run: k1j718pi \n",
      "\n",
      "wandb: Agent Starting Run: c3gvxwmu with config:\n",
      "\tbatch_size: 32\n",
      "\tepochs: 15\n",
      "\tlayers: 4\n",
      "wandb: Agent Started Run: c3gvxwmu\n"
     ]
    },
    {
     "data": {
      "text/html": [
       "\n",
       "                Logging results to <a href=\"https://wandb.com\" target=\"_blank\">Weights & Biases</a> <a href=\"https://docs.wandb.com/integrations/jupyter.html\" target=\"_blank\">(Documentation)</a>.<br/>\n",
       "                Project page: <a href=\"https://app.wandb.ai/sinisha123/hyperparameter-sweeps-comparison\" target=\"_blank\">https://app.wandb.ai/sinisha123/hyperparameter-sweeps-comparison</a><br/>\n",
       "                Sweep page: <a href=\"https://app.wandb.ai/sinisha123/hyperparameter-sweeps-comparison/sweeps/rda1hnv0\" target=\"_blank\">https://app.wandb.ai/sinisha123/hyperparameter-sweeps-comparison/sweeps/rda1hnv0</a><br/>\n",
       "Run page: <a href=\"https://app.wandb.ai/sinisha123/hyperparameter-sweeps-comparison/runs/c3gvxwmu\" target=\"_blank\">https://app.wandb.ai/sinisha123/hyperparameter-sweeps-comparison/runs/c3gvxwmu</a><br/>\n",
       "            "
      ],
      "text/plain": [
       "<IPython.core.display.HTML object>"
      ]
     },
     "metadata": {},
     "output_type": "display_data"
    },
    {
     "name": "stdout",
     "output_type": "stream",
     "text": [
      "Train on 105 samples, validate on 45 samples\n",
      "Epoch 1/15\n",
      "105/105 [==============================] - 1s 11ms/sample - loss: 2.9028 - accuracy: 0.3524 - val_loss: 1.6668 - val_accuracy: 0.2889\n",
      "Epoch 2/15\n",
      "105/105 [==============================] - 0s 2ms/sample - loss: 2.0642 - accuracy: 0.4476 - val_loss: 1.4364 - val_accuracy: 0.2889\n",
      "Epoch 3/15\n",
      "105/105 [==============================] - 0s 2ms/sample - loss: 2.2950 - accuracy: 0.3905 - val_loss: 1.2692 - val_accuracy: 0.2889\n",
      "Epoch 4/15\n",
      "105/105 [==============================] - 0s 2ms/sample - loss: 1.9392 - accuracy: 0.4571 - val_loss: 1.1380 - val_accuracy: 0.2889\n",
      "Epoch 5/15\n",
      "105/105 [==============================] - 0s 2ms/sample - loss: 2.3652 - accuracy: 0.2762 - val_loss: 1.0530 - val_accuracy: 0.2889\n",
      "Epoch 6/15\n",
      "105/105 [==============================] - 0s 2ms/sample - loss: 2.3472 - accuracy: 0.3714 - val_loss: 1.0013 - val_accuracy: 0.2889\n",
      "Epoch 7/15\n",
      "105/105 [==============================] - 0s 2ms/sample - loss: 1.7626 - accuracy: 0.3524 - val_loss: 0.9742 - val_accuracy: 0.4000\n",
      "Epoch 8/15\n",
      "105/105 [==============================] - 0s 2ms/sample - loss: 1.6315 - accuracy: 0.4190 - val_loss: 0.9619 - val_accuracy: 0.5556\n",
      "Epoch 9/15\n",
      "105/105 [==============================] - 0s 2ms/sample - loss: 1.9917 - accuracy: 0.3524 - val_loss: 0.9532 - val_accuracy: 0.5556\n",
      "Epoch 10/15\n",
      "105/105 [==============================] - 0s 2ms/sample - loss: 1.4822 - accuracy: 0.4571 - val_loss: 0.9472 - val_accuracy: 0.5556\n",
      "Epoch 11/15\n",
      "105/105 [==============================] - 0s 2ms/sample - loss: 1.4612 - accuracy: 0.3524 - val_loss: 0.9444 - val_accuracy: 0.5556\n",
      "Epoch 12/15\n",
      "105/105 [==============================] - 0s 3ms/sample - loss: 1.3101 - accuracy: 0.4286 - val_loss: 0.9372 - val_accuracy: 0.5556\n",
      "Epoch 13/15\n",
      "105/105 [==============================] - 0s 2ms/sample - loss: 1.2716 - accuracy: 0.4857 - val_loss: 0.9369 - val_accuracy: 0.5556\n",
      "Epoch 14/15\n",
      "105/105 [==============================] - 0s 2ms/sample - loss: 1.3230 - accuracy: 0.4000 - val_loss: 0.9256 - val_accuracy: 0.5556\n",
      "Epoch 15/15\n",
      "105/105 [==============================] - 0s 2ms/sample - loss: 1.3342 - accuracy: 0.4952 - val_loss: 0.9104 - val_accuracy: 0.5556\n",
      "wandb: Agent Finished Run: c3gvxwmu \n",
      "\n",
      "wandb: Agent Starting Run: mzjytr2s with config:\n",
      "\tbatch_size: 32\n",
      "\tepochs: 15\n",
      "\tlayers: 4\n",
      "wandb: Agent Started Run: mzjytr2s\n"
     ]
    },
    {
     "data": {
      "text/html": [
       "\n",
       "                Logging results to <a href=\"https://wandb.com\" target=\"_blank\">Weights & Biases</a> <a href=\"https://docs.wandb.com/integrations/jupyter.html\" target=\"_blank\">(Documentation)</a>.<br/>\n",
       "                Project page: <a href=\"https://app.wandb.ai/sinisha123/hyperparameter-sweeps-comparison\" target=\"_blank\">https://app.wandb.ai/sinisha123/hyperparameter-sweeps-comparison</a><br/>\n",
       "                Sweep page: <a href=\"https://app.wandb.ai/sinisha123/hyperparameter-sweeps-comparison/sweeps/rda1hnv0\" target=\"_blank\">https://app.wandb.ai/sinisha123/hyperparameter-sweeps-comparison/sweeps/rda1hnv0</a><br/>\n",
       "Run page: <a href=\"https://app.wandb.ai/sinisha123/hyperparameter-sweeps-comparison/runs/mzjytr2s\" target=\"_blank\">https://app.wandb.ai/sinisha123/hyperparameter-sweeps-comparison/runs/mzjytr2s</a><br/>\n",
       "            "
      ],
      "text/plain": [
       "<IPython.core.display.HTML object>"
      ]
     },
     "metadata": {},
     "output_type": "display_data"
    },
    {
     "name": "stdout",
     "output_type": "stream",
     "text": [
      "Train on 105 samples, validate on 45 samples\n",
      "Epoch 1/15\n",
      "105/105 [==============================] - 1s 13ms/sample - loss: 2.9028 - accuracy: 0.3524 - val_loss: 1.6668 - val_accuracy: 0.2889\n",
      "Epoch 2/15\n",
      "105/105 [==============================] - 0s 3ms/sample - loss: 2.0642 - accuracy: 0.4476 - val_loss: 1.4364 - val_accuracy: 0.2889\n",
      "Epoch 3/15\n",
      "105/105 [==============================] - 0s 2ms/sample - loss: 2.2950 - accuracy: 0.3905 - val_loss: 1.2692 - val_accuracy: 0.2889\n",
      "Epoch 4/15\n",
      "105/105 [==============================] - 0s 3ms/sample - loss: 1.9392 - accuracy: 0.4571 - val_loss: 1.1380 - val_accuracy: 0.2889\n",
      "Epoch 5/15\n",
      "105/105 [==============================] - 0s 2ms/sample - loss: 2.3652 - accuracy: 0.2762 - val_loss: 1.0530 - val_accuracy: 0.2889\n",
      "Epoch 6/15\n",
      "105/105 [==============================] - 0s 2ms/sample - loss: 2.3472 - accuracy: 0.3714 - val_loss: 1.0013 - val_accuracy: 0.2889\n",
      "Epoch 7/15\n",
      "105/105 [==============================] - 0s 2ms/sample - loss: 1.7626 - accuracy: 0.3524 - val_loss: 0.9742 - val_accuracy: 0.4000\n",
      "Epoch 8/15\n",
      "105/105 [==============================] - 0s 2ms/sample - loss: 1.6315 - accuracy: 0.4190 - val_loss: 0.9619 - val_accuracy: 0.5556\n",
      "Epoch 9/15\n",
      "105/105 [==============================] - 0s 2ms/sample - loss: 1.9917 - accuracy: 0.3524 - val_loss: 0.9532 - val_accuracy: 0.5556\n",
      "Epoch 10/15\n",
      "105/105 [==============================] - 0s 2ms/sample - loss: 1.4822 - accuracy: 0.4571 - val_loss: 0.9472 - val_accuracy: 0.5556\n",
      "Epoch 11/15\n",
      "105/105 [==============================] - 0s 2ms/sample - loss: 1.4612 - accuracy: 0.3524 - val_loss: 0.9444 - val_accuracy: 0.5556\n",
      "Epoch 12/15\n",
      "105/105 [==============================] - 0s 2ms/sample - loss: 1.3101 - accuracy: 0.4286 - val_loss: 0.9372 - val_accuracy: 0.5556\n",
      "Epoch 13/15\n",
      "105/105 [==============================] - 0s 3ms/sample - loss: 1.2716 - accuracy: 0.4857 - val_loss: 0.9369 - val_accuracy: 0.5556\n",
      "Epoch 14/15\n",
      "105/105 [==============================] - 0s 2ms/sample - loss: 1.3230 - accuracy: 0.4000 - val_loss: 0.9256 - val_accuracy: 0.5556\n",
      "Epoch 15/15\n",
      "105/105 [==============================] - 0s 2ms/sample - loss: 1.3342 - accuracy: 0.4952 - val_loss: 0.9104 - val_accuracy: 0.5556\n",
      "wandb: Agent Finished Run: mzjytr2s \n",
      "\n",
      "wandb: Agent Starting Run: pu8ewg6c with config:\n",
      "\tbatch_size: 32\n",
      "\tepochs: 15\n",
      "\tlayers: 4\n",
      "wandb: Agent Started Run: pu8ewg6c\n"
     ]
    },
    {
     "data": {
      "text/html": [
       "\n",
       "                Logging results to <a href=\"https://wandb.com\" target=\"_blank\">Weights & Biases</a> <a href=\"https://docs.wandb.com/integrations/jupyter.html\" target=\"_blank\">(Documentation)</a>.<br/>\n",
       "                Project page: <a href=\"https://app.wandb.ai/sinisha123/hyperparameter-sweeps-comparison\" target=\"_blank\">https://app.wandb.ai/sinisha123/hyperparameter-sweeps-comparison</a><br/>\n",
       "                Sweep page: <a href=\"https://app.wandb.ai/sinisha123/hyperparameter-sweeps-comparison/sweeps/rda1hnv0\" target=\"_blank\">https://app.wandb.ai/sinisha123/hyperparameter-sweeps-comparison/sweeps/rda1hnv0</a><br/>\n",
       "Run page: <a href=\"https://app.wandb.ai/sinisha123/hyperparameter-sweeps-comparison/runs/pu8ewg6c\" target=\"_blank\">https://app.wandb.ai/sinisha123/hyperparameter-sweeps-comparison/runs/pu8ewg6c</a><br/>\n",
       "            "
      ],
      "text/plain": [
       "<IPython.core.display.HTML object>"
      ]
     },
     "metadata": {},
     "output_type": "display_data"
    },
    {
     "name": "stdout",
     "output_type": "stream",
     "text": [
      "Train on 105 samples, validate on 45 samples\n",
      "Epoch 1/15\n",
      "105/105 [==============================] - 2s 15ms/sample - loss: 2.9028 - accuracy: 0.3524 - val_loss: 1.6668 - val_accuracy: 0.2889\n",
      "Epoch 2/15\n",
      "105/105 [==============================] - 0s 2ms/sample - loss: 2.0642 - accuracy: 0.4476 - val_loss: 1.4364 - val_accuracy: 0.2889\n",
      "Epoch 3/15\n",
      "105/105 [==============================] - 0s 2ms/sample - loss: 2.2950 - accuracy: 0.3905 - val_loss: 1.2692 - val_accuracy: 0.2889\n",
      "Epoch 4/15\n",
      "105/105 [==============================] - 0s 2ms/sample - loss: 1.9392 - accuracy: 0.4571 - val_loss: 1.1380 - val_accuracy: 0.2889\n",
      "Epoch 5/15\n",
      "105/105 [==============================] - 0s 2ms/sample - loss: 2.3652 - accuracy: 0.2762 - val_loss: 1.0530 - val_accuracy: 0.2889\n",
      "Epoch 6/15\n",
      "105/105 [==============================] - 0s 2ms/sample - loss: 2.3472 - accuracy: 0.3714 - val_loss: 1.0013 - val_accuracy: 0.2889\n",
      "Epoch 7/15\n",
      "105/105 [==============================] - 0s 2ms/sample - loss: 1.7626 - accuracy: 0.3524 - val_loss: 0.9742 - val_accuracy: 0.4000\n",
      "Epoch 8/15\n",
      "105/105 [==============================] - 0s 2ms/sample - loss: 1.6315 - accuracy: 0.4190 - val_loss: 0.9619 - val_accuracy: 0.5556\n",
      "Epoch 9/15\n",
      "105/105 [==============================] - 0s 2ms/sample - loss: 1.9917 - accuracy: 0.3524 - val_loss: 0.9532 - val_accuracy: 0.5556\n",
      "Epoch 10/15\n",
      "105/105 [==============================] - 0s 2ms/sample - loss: 1.4822 - accuracy: 0.4571 - val_loss: 0.9472 - val_accuracy: 0.5556\n",
      "Epoch 11/15\n",
      "105/105 [==============================] - 0s 2ms/sample - loss: 1.4612 - accuracy: 0.3524 - val_loss: 0.9444 - val_accuracy: 0.5556\n",
      "Epoch 12/15\n",
      "105/105 [==============================] - 0s 2ms/sample - loss: 1.3101 - accuracy: 0.4286 - val_loss: 0.9372 - val_accuracy: 0.5556\n",
      "Epoch 13/15\n",
      "105/105 [==============================] - 0s 2ms/sample - loss: 1.2716 - accuracy: 0.4857 - val_loss: 0.9369 - val_accuracy: 0.5556\n",
      "Epoch 14/15\n",
      "105/105 [==============================] - 0s 2ms/sample - loss: 1.3230 - accuracy: 0.4000 - val_loss: 0.9256 - val_accuracy: 0.5556\n",
      "Epoch 15/15\n",
      "105/105 [==============================] - 0s 3ms/sample - loss: 1.3342 - accuracy: 0.4952 - val_loss: 0.9104 - val_accuracy: 0.5556\n",
      "wandb: Agent Finished Run: pu8ewg6c \n",
      "\n",
      "wandb: Agent Starting Run: xwzg9v79 with config:\n",
      "\tbatch_size: 32\n",
      "\tepochs: 15\n",
      "\tlayers: 4\n",
      "wandb: Agent Started Run: xwzg9v79\n"
     ]
    },
    {
     "data": {
      "text/html": [
       "\n",
       "                Logging results to <a href=\"https://wandb.com\" target=\"_blank\">Weights & Biases</a> <a href=\"https://docs.wandb.com/integrations/jupyter.html\" target=\"_blank\">(Documentation)</a>.<br/>\n",
       "                Project page: <a href=\"https://app.wandb.ai/sinisha123/hyperparameter-sweeps-comparison\" target=\"_blank\">https://app.wandb.ai/sinisha123/hyperparameter-sweeps-comparison</a><br/>\n",
       "                Sweep page: <a href=\"https://app.wandb.ai/sinisha123/hyperparameter-sweeps-comparison/sweeps/rda1hnv0\" target=\"_blank\">https://app.wandb.ai/sinisha123/hyperparameter-sweeps-comparison/sweeps/rda1hnv0</a><br/>\n",
       "Run page: <a href=\"https://app.wandb.ai/sinisha123/hyperparameter-sweeps-comparison/runs/xwzg9v79\" target=\"_blank\">https://app.wandb.ai/sinisha123/hyperparameter-sweeps-comparison/runs/xwzg9v79</a><br/>\n",
       "            "
      ],
      "text/plain": [
       "<IPython.core.display.HTML object>"
      ]
     },
     "metadata": {},
     "output_type": "display_data"
    },
    {
     "name": "stdout",
     "output_type": "stream",
     "text": [
      "Train on 105 samples, validate on 45 samples\n",
      "Epoch 1/15\n",
      "105/105 [==============================] - 1s 11ms/sample - loss: 2.9028 - accuracy: 0.3524 - val_loss: 1.6668 - val_accuracy: 0.2889\n",
      "Epoch 2/15\n",
      "105/105 [==============================] - 0s 2ms/sample - loss: 2.0642 - accuracy: 0.4476 - val_loss: 1.4364 - val_accuracy: 0.2889\n",
      "Epoch 3/15\n",
      "105/105 [==============================] - 0s 2ms/sample - loss: 2.2950 - accuracy: 0.3905 - val_loss: 1.2692 - val_accuracy: 0.2889\n",
      "Epoch 4/15\n",
      "105/105 [==============================] - 0s 2ms/sample - loss: 1.9392 - accuracy: 0.4571 - val_loss: 1.1380 - val_accuracy: 0.2889\n",
      "Epoch 5/15\n",
      "105/105 [==============================] - 0s 2ms/sample - loss: 2.3652 - accuracy: 0.2762 - val_loss: 1.0530 - val_accuracy: 0.2889\n",
      "Epoch 6/15\n",
      "105/105 [==============================] - 0s 2ms/sample - loss: 2.3472 - accuracy: 0.3714 - val_loss: 1.0013 - val_accuracy: 0.2889\n",
      "Epoch 7/15\n",
      "105/105 [==============================] - 0s 2ms/sample - loss: 1.7626 - accuracy: 0.3524 - val_loss: 0.9742 - val_accuracy: 0.4000\n",
      "Epoch 8/15\n",
      "105/105 [==============================] - 0s 2ms/sample - loss: 1.6315 - accuracy: 0.4190 - val_loss: 0.9619 - val_accuracy: 0.5556\n",
      "Epoch 9/15\n",
      "105/105 [==============================] - 0s 2ms/sample - loss: 1.9917 - accuracy: 0.3524 - val_loss: 0.9532 - val_accuracy: 0.5556\n",
      "Epoch 10/15\n",
      "105/105 [==============================] - 0s 2ms/sample - loss: 1.4822 - accuracy: 0.4571 - val_loss: 0.9472 - val_accuracy: 0.5556\n",
      "Epoch 11/15\n",
      "105/105 [==============================] - 0s 2ms/sample - loss: 1.4612 - accuracy: 0.3524 - val_loss: 0.9444 - val_accuracy: 0.5556\n",
      "Epoch 12/15\n",
      "105/105 [==============================] - 0s 2ms/sample - loss: 1.3101 - accuracy: 0.4286 - val_loss: 0.9372 - val_accuracy: 0.5556\n",
      "Epoch 13/15\n",
      "105/105 [==============================] - 0s 2ms/sample - loss: 1.2716 - accuracy: 0.4857 - val_loss: 0.9369 - val_accuracy: 0.5556\n",
      "Epoch 14/15\n",
      "105/105 [==============================] - 0s 3ms/sample - loss: 1.3230 - accuracy: 0.4000 - val_loss: 0.9256 - val_accuracy: 0.5556\n",
      "Epoch 15/15\n",
      "105/105 [==============================] - 0s 2ms/sample - loss: 1.3342 - accuracy: 0.4952 - val_loss: 0.9104 - val_accuracy: 0.5556\n",
      "wandb: Agent Finished Run: xwzg9v79 \n",
      "\n",
      "wandb: Agent Starting Run: ebhmm4mw with config:\n",
      "\tbatch_size: 32\n",
      "\tepochs: 15\n",
      "\tlayers: 4\n",
      "wandb: Agent Started Run: ebhmm4mw\n"
     ]
    },
    {
     "data": {
      "text/html": [
       "\n",
       "                Logging results to <a href=\"https://wandb.com\" target=\"_blank\">Weights & Biases</a> <a href=\"https://docs.wandb.com/integrations/jupyter.html\" target=\"_blank\">(Documentation)</a>.<br/>\n",
       "                Project page: <a href=\"https://app.wandb.ai/sinisha123/hyperparameter-sweeps-comparison\" target=\"_blank\">https://app.wandb.ai/sinisha123/hyperparameter-sweeps-comparison</a><br/>\n",
       "                Sweep page: <a href=\"https://app.wandb.ai/sinisha123/hyperparameter-sweeps-comparison/sweeps/rda1hnv0\" target=\"_blank\">https://app.wandb.ai/sinisha123/hyperparameter-sweeps-comparison/sweeps/rda1hnv0</a><br/>\n",
       "Run page: <a href=\"https://app.wandb.ai/sinisha123/hyperparameter-sweeps-comparison/runs/ebhmm4mw\" target=\"_blank\">https://app.wandb.ai/sinisha123/hyperparameter-sweeps-comparison/runs/ebhmm4mw</a><br/>\n",
       "            "
      ],
      "text/plain": [
       "<IPython.core.display.HTML object>"
      ]
     },
     "metadata": {},
     "output_type": "display_data"
    },
    {
     "name": "stdout",
     "output_type": "stream",
     "text": [
      "Train on 105 samples, validate on 45 samples\n",
      "Epoch 1/15\n",
      "105/105 [==============================] - 1s 10ms/sample - loss: 2.9028 - accuracy: 0.3524 - val_loss: 1.6668 - val_accuracy: 0.2889\n",
      "Epoch 2/15\n",
      "105/105 [==============================] - 0s 2ms/sample - loss: 2.0642 - accuracy: 0.4476 - val_loss: 1.4364 - val_accuracy: 0.2889\n",
      "Epoch 3/15\n",
      "105/105 [==============================] - 0s 2ms/sample - loss: 2.2950 - accuracy: 0.3905 - val_loss: 1.2692 - val_accuracy: 0.2889\n",
      "Epoch 4/15\n",
      "105/105 [==============================] - 0s 2ms/sample - loss: 1.9392 - accuracy: 0.4571 - val_loss: 1.1380 - val_accuracy: 0.2889\n",
      "Epoch 5/15\n",
      "105/105 [==============================] - 0s 2ms/sample - loss: 2.3652 - accuracy: 0.2762 - val_loss: 1.0530 - val_accuracy: 0.2889\n",
      "Epoch 6/15\n",
      "105/105 [==============================] - 0s 2ms/sample - loss: 2.3472 - accuracy: 0.3714 - val_loss: 1.0013 - val_accuracy: 0.2889\n",
      "Epoch 7/15\n",
      "105/105 [==============================] - 0s 2ms/sample - loss: 1.7626 - accuracy: 0.3524 - val_loss: 0.9742 - val_accuracy: 0.4000\n",
      "Epoch 8/15\n",
      "105/105 [==============================] - 0s 2ms/sample - loss: 1.6315 - accuracy: 0.4190 - val_loss: 0.9619 - val_accuracy: 0.5556\n",
      "Epoch 9/15\n",
      "105/105 [==============================] - 0s 2ms/sample - loss: 1.9917 - accuracy: 0.3524 - val_loss: 0.9532 - val_accuracy: 0.5556\n",
      "Epoch 10/15\n",
      "105/105 [==============================] - 0s 2ms/sample - loss: 1.4822 - accuracy: 0.4571 - val_loss: 0.9472 - val_accuracy: 0.5556\n",
      "Epoch 11/15\n",
      "105/105 [==============================] - 0s 2ms/sample - loss: 1.4612 - accuracy: 0.3524 - val_loss: 0.9444 - val_accuracy: 0.5556\n",
      "Epoch 12/15\n",
      "105/105 [==============================] - 0s 2ms/sample - loss: 1.3101 - accuracy: 0.4286 - val_loss: 0.9372 - val_accuracy: 0.5556\n",
      "Epoch 13/15\n",
      "105/105 [==============================] - 0s 2ms/sample - loss: 1.2716 - accuracy: 0.4857 - val_loss: 0.9369 - val_accuracy: 0.5556\n",
      "Epoch 14/15\n",
      "105/105 [==============================] - 0s 2ms/sample - loss: 1.3230 - accuracy: 0.4000 - val_loss: 0.9256 - val_accuracy: 0.5556\n",
      "Epoch 15/15\n",
      "105/105 [==============================] - 0s 2ms/sample - loss: 1.3342 - accuracy: 0.4952 - val_loss: 0.9104 - val_accuracy: 0.5556\n",
      "wandb: Agent Finished Run: ebhmm4mw \n",
      "\n",
      "wandb: Agent Starting Run: wyi4h65l with config:\n",
      "\tbatch_size: 32\n",
      "\tepochs: 15\n",
      "\tlayers: 4\n",
      "wandb: Agent Started Run: wyi4h65l\n"
     ]
    },
    {
     "data": {
      "text/html": [
       "\n",
       "                Logging results to <a href=\"https://wandb.com\" target=\"_blank\">Weights & Biases</a> <a href=\"https://docs.wandb.com/integrations/jupyter.html\" target=\"_blank\">(Documentation)</a>.<br/>\n",
       "                Project page: <a href=\"https://app.wandb.ai/sinisha123/hyperparameter-sweeps-comparison\" target=\"_blank\">https://app.wandb.ai/sinisha123/hyperparameter-sweeps-comparison</a><br/>\n",
       "                Sweep page: <a href=\"https://app.wandb.ai/sinisha123/hyperparameter-sweeps-comparison/sweeps/rda1hnv0\" target=\"_blank\">https://app.wandb.ai/sinisha123/hyperparameter-sweeps-comparison/sweeps/rda1hnv0</a><br/>\n",
       "Run page: <a href=\"https://app.wandb.ai/sinisha123/hyperparameter-sweeps-comparison/runs/wyi4h65l\" target=\"_blank\">https://app.wandb.ai/sinisha123/hyperparameter-sweeps-comparison/runs/wyi4h65l</a><br/>\n",
       "            "
      ],
      "text/plain": [
       "<IPython.core.display.HTML object>"
      ]
     },
     "metadata": {},
     "output_type": "display_data"
    },
    {
     "name": "stdout",
     "output_type": "stream",
     "text": [
      "Train on 105 samples, validate on 45 samples\n",
      "Epoch 1/15\n",
      "105/105 [==============================] - 1s 11ms/sample - loss: 2.9028 - accuracy: 0.3524 - val_loss: 1.6668 - val_accuracy: 0.2889\n",
      "Epoch 2/15\n",
      "105/105 [==============================] - 0s 2ms/sample - loss: 2.0642 - accuracy: 0.4476 - val_loss: 1.4364 - val_accuracy: 0.2889\n",
      "Epoch 3/15\n",
      "105/105 [==============================] - 0s 2ms/sample - loss: 2.2950 - accuracy: 0.3905 - val_loss: 1.2692 - val_accuracy: 0.2889\n",
      "Epoch 4/15\n",
      "105/105 [==============================] - 0s 2ms/sample - loss: 1.9392 - accuracy: 0.4571 - val_loss: 1.1380 - val_accuracy: 0.2889\n",
      "Epoch 5/15\n",
      "105/105 [==============================] - 0s 2ms/sample - loss: 2.3652 - accuracy: 0.2762 - val_loss: 1.0530 - val_accuracy: 0.2889\n",
      "Epoch 6/15\n",
      "105/105 [==============================] - 0s 2ms/sample - loss: 2.3472 - accuracy: 0.3714 - val_loss: 1.0013 - val_accuracy: 0.2889\n",
      "Epoch 7/15\n",
      "105/105 [==============================] - 0s 2ms/sample - loss: 1.7626 - accuracy: 0.3524 - val_loss: 0.9742 - val_accuracy: 0.4000\n",
      "Epoch 8/15\n",
      "105/105 [==============================] - 0s 2ms/sample - loss: 1.6315 - accuracy: 0.4190 - val_loss: 0.9619 - val_accuracy: 0.5556\n",
      "Epoch 9/15\n",
      "105/105 [==============================] - 0s 2ms/sample - loss: 1.9917 - accuracy: 0.3524 - val_loss: 0.9532 - val_accuracy: 0.5556\n",
      "Epoch 10/15\n",
      "105/105 [==============================] - 0s 2ms/sample - loss: 1.4822 - accuracy: 0.4571 - val_loss: 0.9472 - val_accuracy: 0.5556\n",
      "Epoch 11/15\n",
      "105/105 [==============================] - 0s 2ms/sample - loss: 1.4612 - accuracy: 0.3524 - val_loss: 0.9444 - val_accuracy: 0.5556\n",
      "Epoch 12/15\n",
      "105/105 [==============================] - 0s 2ms/sample - loss: 1.3101 - accuracy: 0.4286 - val_loss: 0.9372 - val_accuracy: 0.5556\n",
      "Epoch 13/15\n",
      "105/105 [==============================] - 0s 2ms/sample - loss: 1.2716 - accuracy: 0.4857 - val_loss: 0.9369 - val_accuracy: 0.5556\n",
      "Epoch 14/15\n",
      "105/105 [==============================] - 0s 2ms/sample - loss: 1.3230 - accuracy: 0.4000 - val_loss: 0.9256 - val_accuracy: 0.5556\n",
      "Epoch 15/15\n",
      "105/105 [==============================] - 0s 3ms/sample - loss: 1.3342 - accuracy: 0.4952 - val_loss: 0.9104 - val_accuracy: 0.5556\n",
      "wandb: Agent Finished Run: wyi4h65l \n",
      "\n",
      "wandb: Agent Starting Run: 8y9apyhw with config:\n",
      "\tbatch_size: 32\n",
      "\tepochs: 15\n",
      "\tlayers: 4\n",
      "wandb: Agent Started Run: 8y9apyhw\n"
     ]
    },
    {
     "data": {
      "text/html": [
       "\n",
       "                Logging results to <a href=\"https://wandb.com\" target=\"_blank\">Weights & Biases</a> <a href=\"https://docs.wandb.com/integrations/jupyter.html\" target=\"_blank\">(Documentation)</a>.<br/>\n",
       "                Project page: <a href=\"https://app.wandb.ai/sinisha123/hyperparameter-sweeps-comparison\" target=\"_blank\">https://app.wandb.ai/sinisha123/hyperparameter-sweeps-comparison</a><br/>\n",
       "                Sweep page: <a href=\"https://app.wandb.ai/sinisha123/hyperparameter-sweeps-comparison/sweeps/rda1hnv0\" target=\"_blank\">https://app.wandb.ai/sinisha123/hyperparameter-sweeps-comparison/sweeps/rda1hnv0</a><br/>\n",
       "Run page: <a href=\"https://app.wandb.ai/sinisha123/hyperparameter-sweeps-comparison/runs/8y9apyhw\" target=\"_blank\">https://app.wandb.ai/sinisha123/hyperparameter-sweeps-comparison/runs/8y9apyhw</a><br/>\n",
       "            "
      ],
      "text/plain": [
       "<IPython.core.display.HTML object>"
      ]
     },
     "metadata": {},
     "output_type": "display_data"
    },
    {
     "name": "stdout",
     "output_type": "stream",
     "text": [
      "Train on 105 samples, validate on 45 samples\n",
      "Epoch 1/15\n",
      "105/105 [==============================] - 1s 14ms/sample - loss: 2.9028 - accuracy: 0.3524 - val_loss: 1.6668 - val_accuracy: 0.2889\n",
      "Epoch 2/15\n",
      "105/105 [==============================] - 0s 2ms/sample - loss: 2.0642 - accuracy: 0.4476 - val_loss: 1.4364 - val_accuracy: 0.2889\n",
      "Epoch 3/15\n",
      "105/105 [==============================] - 0s 2ms/sample - loss: 2.2950 - accuracy: 0.3905 - val_loss: 1.2692 - val_accuracy: 0.2889\n",
      "Epoch 4/15\n",
      "105/105 [==============================] - 0s 2ms/sample - loss: 1.9392 - accuracy: 0.4571 - val_loss: 1.1380 - val_accuracy: 0.2889\n",
      "Epoch 5/15\n",
      "105/105 [==============================] - 0s 2ms/sample - loss: 2.3652 - accuracy: 0.2762 - val_loss: 1.0530 - val_accuracy: 0.2889\n",
      "Epoch 6/15\n",
      "105/105 [==============================] - 0s 2ms/sample - loss: 2.3472 - accuracy: 0.3714 - val_loss: 1.0013 - val_accuracy: 0.2889\n",
      "Epoch 7/15\n",
      "105/105 [==============================] - 0s 2ms/sample - loss: 1.7626 - accuracy: 0.3524 - val_loss: 0.9742 - val_accuracy: 0.4000\n",
      "Epoch 8/15\n",
      "105/105 [==============================] - 0s 2ms/sample - loss: 1.6315 - accuracy: 0.4190 - val_loss: 0.9619 - val_accuracy: 0.5556\n",
      "Epoch 9/15\n",
      "105/105 [==============================] - 0s 2ms/sample - loss: 1.9917 - accuracy: 0.3524 - val_loss: 0.9532 - val_accuracy: 0.5556\n",
      "Epoch 10/15\n",
      "105/105 [==============================] - 0s 2ms/sample - loss: 1.4822 - accuracy: 0.4571 - val_loss: 0.9472 - val_accuracy: 0.5556\n",
      "Epoch 11/15\n",
      "105/105 [==============================] - 0s 2ms/sample - loss: 1.4612 - accuracy: 0.3524 - val_loss: 0.9444 - val_accuracy: 0.5556\n",
      "Epoch 12/15\n",
      "105/105 [==============================] - 0s 2ms/sample - loss: 1.3101 - accuracy: 0.4286 - val_loss: 0.9372 - val_accuracy: 0.5556\n",
      "Epoch 13/15\n",
      "105/105 [==============================] - 0s 2ms/sample - loss: 1.2716 - accuracy: 0.4857 - val_loss: 0.9369 - val_accuracy: 0.5556\n",
      "Epoch 14/15\n",
      "105/105 [==============================] - 0s 3ms/sample - loss: 1.3230 - accuracy: 0.4000 - val_loss: 0.9256 - val_accuracy: 0.5556\n",
      "Epoch 15/15\n",
      "105/105 [==============================] - 0s 4ms/sample - loss: 1.3342 - accuracy: 0.4952 - val_loss: 0.9104 - val_accuracy: 0.5556\n",
      "wandb: Agent Finished Run: 8y9apyhw \n",
      "\n",
      "wandb: Agent Starting Run: 8beewbuu with config:\n",
      "\tbatch_size: 32\n",
      "\tepochs: 15\n",
      "\tlayers: 4\n",
      "wandb: Agent Started Run: 8beewbuu\n"
     ]
    },
    {
     "data": {
      "text/html": [
       "\n",
       "                Logging results to <a href=\"https://wandb.com\" target=\"_blank\">Weights & Biases</a> <a href=\"https://docs.wandb.com/integrations/jupyter.html\" target=\"_blank\">(Documentation)</a>.<br/>\n",
       "                Project page: <a href=\"https://app.wandb.ai/sinisha123/hyperparameter-sweeps-comparison\" target=\"_blank\">https://app.wandb.ai/sinisha123/hyperparameter-sweeps-comparison</a><br/>\n",
       "                Sweep page: <a href=\"https://app.wandb.ai/sinisha123/hyperparameter-sweeps-comparison/sweeps/rda1hnv0\" target=\"_blank\">https://app.wandb.ai/sinisha123/hyperparameter-sweeps-comparison/sweeps/rda1hnv0</a><br/>\n",
       "Run page: <a href=\"https://app.wandb.ai/sinisha123/hyperparameter-sweeps-comparison/runs/8beewbuu\" target=\"_blank\">https://app.wandb.ai/sinisha123/hyperparameter-sweeps-comparison/runs/8beewbuu</a><br/>\n",
       "            "
      ],
      "text/plain": [
       "<IPython.core.display.HTML object>"
      ]
     },
     "metadata": {},
     "output_type": "display_data"
    },
    {
     "name": "stdout",
     "output_type": "stream",
     "text": [
      "Train on 105 samples, validate on 45 samples\n",
      "Epoch 1/15\n",
      "105/105 [==============================] - 1s 11ms/sample - loss: 2.9028 - accuracy: 0.3524 - val_loss: 1.6668 - val_accuracy: 0.2889\n",
      "Epoch 2/15\n",
      "105/105 [==============================] - 0s 2ms/sample - loss: 2.0642 - accuracy: 0.4476 - val_loss: 1.4364 - val_accuracy: 0.2889\n",
      "Epoch 3/15\n",
      "105/105 [==============================] - 0s 2ms/sample - loss: 2.2950 - accuracy: 0.3905 - val_loss: 1.2692 - val_accuracy: 0.2889\n",
      "Epoch 4/15\n",
      "105/105 [==============================] - 0s 2ms/sample - loss: 1.9392 - accuracy: 0.4571 - val_loss: 1.1380 - val_accuracy: 0.2889\n",
      "Epoch 5/15\n",
      "105/105 [==============================] - 0s 2ms/sample - loss: 2.3652 - accuracy: 0.2762 - val_loss: 1.0530 - val_accuracy: 0.2889\n",
      "Epoch 6/15\n",
      "105/105 [==============================] - 0s 2ms/sample - loss: 2.3472 - accuracy: 0.3714 - val_loss: 1.0013 - val_accuracy: 0.2889\n",
      "Epoch 7/15\n",
      "105/105 [==============================] - 0s 2ms/sample - loss: 1.7626 - accuracy: 0.3524 - val_loss: 0.9742 - val_accuracy: 0.4000\n",
      "Epoch 8/15\n",
      "105/105 [==============================] - 0s 2ms/sample - loss: 1.6315 - accuracy: 0.4190 - val_loss: 0.9619 - val_accuracy: 0.5556\n",
      "Epoch 9/15\n",
      "105/105 [==============================] - 0s 3ms/sample - loss: 1.9917 - accuracy: 0.3524 - val_loss: 0.9532 - val_accuracy: 0.5556\n",
      "Epoch 10/15\n",
      "105/105 [==============================] - 0s 2ms/sample - loss: 1.4822 - accuracy: 0.4571 - val_loss: 0.9472 - val_accuracy: 0.5556\n",
      "Epoch 11/15\n",
      "105/105 [==============================] - 0s 2ms/sample - loss: 1.4612 - accuracy: 0.3524 - val_loss: 0.9444 - val_accuracy: 0.5556\n",
      "Epoch 12/15\n",
      "105/105 [==============================] - 0s 2ms/sample - loss: 1.3101 - accuracy: 0.4286 - val_loss: 0.9372 - val_accuracy: 0.5556\n",
      "Epoch 13/15\n",
      "105/105 [==============================] - 0s 2ms/sample - loss: 1.2716 - accuracy: 0.4857 - val_loss: 0.9369 - val_accuracy: 0.5556\n",
      "Epoch 14/15\n",
      "105/105 [==============================] - 0s 2ms/sample - loss: 1.3230 - accuracy: 0.4000 - val_loss: 0.9256 - val_accuracy: 0.5556\n",
      "Epoch 15/15\n",
      "105/105 [==============================] - 0s 2ms/sample - loss: 1.3342 - accuracy: 0.4952 - val_loss: 0.9104 - val_accuracy: 0.5556\n",
      "wandb: Agent Finished Run: 8beewbuu \n",
      "\n",
      "wandb: Agent Starting Run: dvjghqp7 with config:\n",
      "\tbatch_size: 32\n",
      "\tepochs: 15\n",
      "\tlayers: 4\n",
      "wandb: Agent Started Run: dvjghqp7\n"
     ]
    },
    {
     "data": {
      "text/html": [
       "\n",
       "                Logging results to <a href=\"https://wandb.com\" target=\"_blank\">Weights & Biases</a> <a href=\"https://docs.wandb.com/integrations/jupyter.html\" target=\"_blank\">(Documentation)</a>.<br/>\n",
       "                Project page: <a href=\"https://app.wandb.ai/sinisha123/hyperparameter-sweeps-comparison\" target=\"_blank\">https://app.wandb.ai/sinisha123/hyperparameter-sweeps-comparison</a><br/>\n",
       "                Sweep page: <a href=\"https://app.wandb.ai/sinisha123/hyperparameter-sweeps-comparison/sweeps/rda1hnv0\" target=\"_blank\">https://app.wandb.ai/sinisha123/hyperparameter-sweeps-comparison/sweeps/rda1hnv0</a><br/>\n",
       "Run page: <a href=\"https://app.wandb.ai/sinisha123/hyperparameter-sweeps-comparison/runs/dvjghqp7\" target=\"_blank\">https://app.wandb.ai/sinisha123/hyperparameter-sweeps-comparison/runs/dvjghqp7</a><br/>\n",
       "            "
      ],
      "text/plain": [
       "<IPython.core.display.HTML object>"
      ]
     },
     "metadata": {},
     "output_type": "display_data"
    },
    {
     "name": "stdout",
     "output_type": "stream",
     "text": [
      "Train on 105 samples, validate on 45 samples\n",
      "Epoch 1/15\n",
      "105/105 [==============================] - 2s 14ms/sample - loss: 2.9028 - accuracy: 0.3524 - val_loss: 1.6668 - val_accuracy: 0.2889\n",
      "Epoch 2/15\n",
      "105/105 [==============================] - 0s 2ms/sample - loss: 2.0642 - accuracy: 0.4476 - val_loss: 1.4364 - val_accuracy: 0.2889\n",
      "Epoch 3/15\n",
      "105/105 [==============================] - 0s 2ms/sample - loss: 2.2950 - accuracy: 0.3905 - val_loss: 1.2692 - val_accuracy: 0.2889\n",
      "Epoch 4/15\n",
      "105/105 [==============================] - 0s 2ms/sample - loss: 1.9392 - accuracy: 0.4571 - val_loss: 1.1380 - val_accuracy: 0.2889\n",
      "Epoch 5/15\n",
      "105/105 [==============================] - 0s 2ms/sample - loss: 2.3652 - accuracy: 0.2762 - val_loss: 1.0530 - val_accuracy: 0.2889\n",
      "Epoch 6/15\n",
      "105/105 [==============================] - 0s 2ms/sample - loss: 2.3472 - accuracy: 0.3714 - val_loss: 1.0013 - val_accuracy: 0.2889\n",
      "Epoch 7/15\n",
      "105/105 [==============================] - 0s 2ms/sample - loss: 1.7626 - accuracy: 0.3524 - val_loss: 0.9742 - val_accuracy: 0.4000\n",
      "Epoch 8/15\n",
      "105/105 [==============================] - 0s 2ms/sample - loss: 1.6315 - accuracy: 0.4190 - val_loss: 0.9619 - val_accuracy: 0.5556\n",
      "Epoch 9/15\n",
      "105/105 [==============================] - 0s 2ms/sample - loss: 1.9917 - accuracy: 0.3524 - val_loss: 0.9532 - val_accuracy: 0.5556\n",
      "Epoch 10/15\n",
      "105/105 [==============================] - 0s 2ms/sample - loss: 1.4822 - accuracy: 0.4571 - val_loss: 0.9472 - val_accuracy: 0.5556\n",
      "Epoch 11/15\n",
      "105/105 [==============================] - 0s 2ms/sample - loss: 1.4612 - accuracy: 0.3524 - val_loss: 0.9444 - val_accuracy: 0.5556\n",
      "Epoch 12/15\n",
      "105/105 [==============================] - 0s 2ms/sample - loss: 1.3101 - accuracy: 0.4286 - val_loss: 0.9372 - val_accuracy: 0.5556\n",
      "Epoch 13/15\n",
      "105/105 [==============================] - 0s 2ms/sample - loss: 1.2716 - accuracy: 0.4857 - val_loss: 0.9369 - val_accuracy: 0.5556\n",
      "Epoch 14/15\n",
      "105/105 [==============================] - 0s 3ms/sample - loss: 1.3230 - accuracy: 0.4000 - val_loss: 0.9256 - val_accuracy: 0.5556\n",
      "Epoch 15/15\n",
      "105/105 [==============================] - 0s 3ms/sample - loss: 1.3342 - accuracy: 0.4952 - val_loss: 0.9104 - val_accuracy: 0.5556\n",
      "wandb: Agent Finished Run: dvjghqp7 \n",
      "\n",
      "wandb: Agent Starting Run: l8wzq16l with config:\n",
      "\tbatch_size: 32\n",
      "\tepochs: 15\n",
      "\tlayers: 4\n",
      "wandb: Agent Started Run: l8wzq16l\n"
     ]
    },
    {
     "data": {
      "text/html": [
       "\n",
       "                Logging results to <a href=\"https://wandb.com\" target=\"_blank\">Weights & Biases</a> <a href=\"https://docs.wandb.com/integrations/jupyter.html\" target=\"_blank\">(Documentation)</a>.<br/>\n",
       "                Project page: <a href=\"https://app.wandb.ai/sinisha123/hyperparameter-sweeps-comparison\" target=\"_blank\">https://app.wandb.ai/sinisha123/hyperparameter-sweeps-comparison</a><br/>\n",
       "                Sweep page: <a href=\"https://app.wandb.ai/sinisha123/hyperparameter-sweeps-comparison/sweeps/rda1hnv0\" target=\"_blank\">https://app.wandb.ai/sinisha123/hyperparameter-sweeps-comparison/sweeps/rda1hnv0</a><br/>\n",
       "Run page: <a href=\"https://app.wandb.ai/sinisha123/hyperparameter-sweeps-comparison/runs/l8wzq16l\" target=\"_blank\">https://app.wandb.ai/sinisha123/hyperparameter-sweeps-comparison/runs/l8wzq16l</a><br/>\n",
       "            "
      ],
      "text/plain": [
       "<IPython.core.display.HTML object>"
      ]
     },
     "metadata": {},
     "output_type": "display_data"
    },
    {
     "name": "stdout",
     "output_type": "stream",
     "text": [
      "Train on 105 samples, validate on 45 samples\n",
      "Epoch 1/15\n",
      " 32/105 [========>.....................] - ETA: 2s - loss: 3.4174 - accuracy: 0.3438WARNING:tensorflow:Method (on_train_batch_end) is slow compared to the batch update (0.167806). Check your callbacks.\n",
      "105/105 [==============================] - 1s 13ms/sample - loss: 2.9028 - accuracy: 0.3524 - val_loss: 1.6668 - val_accuracy: 0.2889\n",
      "Epoch 2/15\n",
      "105/105 [==============================] - 0s 2ms/sample - loss: 2.0642 - accuracy: 0.4476 - val_loss: 1.4364 - val_accuracy: 0.2889\n",
      "Epoch 3/15\n",
      "105/105 [==============================] - 0s 2ms/sample - loss: 2.2950 - accuracy: 0.3905 - val_loss: 1.2692 - val_accuracy: 0.2889\n",
      "Epoch 4/15\n",
      "105/105 [==============================] - 0s 2ms/sample - loss: 1.9392 - accuracy: 0.4571 - val_loss: 1.1380 - val_accuracy: 0.2889\n",
      "Epoch 5/15\n",
      "105/105 [==============================] - 0s 2ms/sample - loss: 2.3652 - accuracy: 0.2762 - val_loss: 1.0530 - val_accuracy: 0.2889\n",
      "Epoch 6/15\n",
      "105/105 [==============================] - 0s 2ms/sample - loss: 2.3472 - accuracy: 0.3714 - val_loss: 1.0013 - val_accuracy: 0.2889\n",
      "Epoch 7/15\n",
      "105/105 [==============================] - 0s 2ms/sample - loss: 1.7626 - accuracy: 0.3524 - val_loss: 0.9742 - val_accuracy: 0.4000\n",
      "Epoch 8/15\n",
      "105/105 [==============================] - 0s 2ms/sample - loss: 1.6315 - accuracy: 0.4190 - val_loss: 0.9619 - val_accuracy: 0.5556\n",
      "Epoch 9/15\n",
      "105/105 [==============================] - 0s 2ms/sample - loss: 1.9917 - accuracy: 0.3524 - val_loss: 0.9532 - val_accuracy: 0.5556\n",
      "Epoch 10/15\n",
      "105/105 [==============================] - 0s 2ms/sample - loss: 1.4822 - accuracy: 0.4571 - val_loss: 0.9472 - val_accuracy: 0.5556\n",
      "Epoch 11/15\n",
      "105/105 [==============================] - 0s 2ms/sample - loss: 1.4612 - accuracy: 0.3524 - val_loss: 0.9444 - val_accuracy: 0.5556\n",
      "Epoch 12/15\n",
      "105/105 [==============================] - 0s 2ms/sample - loss: 1.3101 - accuracy: 0.4286 - val_loss: 0.9372 - val_accuracy: 0.5556\n",
      "Epoch 13/15\n",
      "105/105 [==============================] - 0s 2ms/sample - loss: 1.2716 - accuracy: 0.4857 - val_loss: 0.9369 - val_accuracy: 0.5556\n",
      "Epoch 14/15\n",
      "105/105 [==============================] - 0s 2ms/sample - loss: 1.3230 - accuracy: 0.4000 - val_loss: 0.9256 - val_accuracy: 0.5556\n",
      "Epoch 15/15\n",
      "105/105 [==============================] - 0s 2ms/sample - loss: 1.3342 - accuracy: 0.4952 - val_loss: 0.9104 - val_accuracy: 0.5556\n",
      "wandb: Agent Finished Run: l8wzq16l \n",
      "\n",
      "wandb: Agent Starting Run: a0dh7zhk with config:\n",
      "\tbatch_size: 32\n",
      "\tepochs: 15\n",
      "\tlayers: 4\n",
      "wandb: Agent Started Run: a0dh7zhk\n"
     ]
    },
    {
     "data": {
      "text/html": [
       "\n",
       "                Logging results to <a href=\"https://wandb.com\" target=\"_blank\">Weights & Biases</a> <a href=\"https://docs.wandb.com/integrations/jupyter.html\" target=\"_blank\">(Documentation)</a>.<br/>\n",
       "                Project page: <a href=\"https://app.wandb.ai/sinisha123/hyperparameter-sweeps-comparison\" target=\"_blank\">https://app.wandb.ai/sinisha123/hyperparameter-sweeps-comparison</a><br/>\n",
       "                Sweep page: <a href=\"https://app.wandb.ai/sinisha123/hyperparameter-sweeps-comparison/sweeps/rda1hnv0\" target=\"_blank\">https://app.wandb.ai/sinisha123/hyperparameter-sweeps-comparison/sweeps/rda1hnv0</a><br/>\n",
       "Run page: <a href=\"https://app.wandb.ai/sinisha123/hyperparameter-sweeps-comparison/runs/a0dh7zhk\" target=\"_blank\">https://app.wandb.ai/sinisha123/hyperparameter-sweeps-comparison/runs/a0dh7zhk</a><br/>\n",
       "            "
      ],
      "text/plain": [
       "<IPython.core.display.HTML object>"
      ]
     },
     "metadata": {},
     "output_type": "display_data"
    },
    {
     "name": "stdout",
     "output_type": "stream",
     "text": [
      "Train on 105 samples, validate on 45 samples\n",
      "Epoch 1/15\n",
      "105/105 [==============================] - 1s 12ms/sample - loss: 2.9028 - accuracy: 0.3524 - val_loss: 1.6668 - val_accuracy: 0.2889\n",
      "Epoch 2/15\n",
      "105/105 [==============================] - 0s 2ms/sample - loss: 2.0642 - accuracy: 0.4476 - val_loss: 1.4364 - val_accuracy: 0.2889\n",
      "Epoch 3/15\n",
      "105/105 [==============================] - 0s 2ms/sample - loss: 2.2950 - accuracy: 0.3905 - val_loss: 1.2692 - val_accuracy: 0.2889\n",
      "Epoch 4/15\n",
      "105/105 [==============================] - 0s 2ms/sample - loss: 1.9392 - accuracy: 0.4571 - val_loss: 1.1380 - val_accuracy: 0.2889\n",
      "Epoch 5/15\n",
      "105/105 [==============================] - 0s 2ms/sample - loss: 2.3652 - accuracy: 0.2762 - val_loss: 1.0530 - val_accuracy: 0.2889\n",
      "Epoch 6/15\n",
      "105/105 [==============================] - 0s 2ms/sample - loss: 2.3472 - accuracy: 0.3714 - val_loss: 1.0013 - val_accuracy: 0.2889\n",
      "Epoch 7/15\n",
      "105/105 [==============================] - 0s 2ms/sample - loss: 1.7626 - accuracy: 0.3524 - val_loss: 0.9742 - val_accuracy: 0.4000\n",
      "Epoch 8/15\n",
      "105/105 [==============================] - 0s 2ms/sample - loss: 1.6315 - accuracy: 0.4190 - val_loss: 0.9619 - val_accuracy: 0.5556\n",
      "Epoch 9/15\n",
      "105/105 [==============================] - 0s 2ms/sample - loss: 1.9917 - accuracy: 0.3524 - val_loss: 0.9532 - val_accuracy: 0.5556\n",
      "Epoch 10/15\n",
      "105/105 [==============================] - 0s 3ms/sample - loss: 1.4822 - accuracy: 0.4571 - val_loss: 0.9472 - val_accuracy: 0.5556\n",
      "Epoch 11/15\n",
      "105/105 [==============================] - 0s 2ms/sample - loss: 1.4612 - accuracy: 0.3524 - val_loss: 0.9444 - val_accuracy: 0.5556\n",
      "Epoch 12/15\n",
      "105/105 [==============================] - 0s 2ms/sample - loss: 1.3101 - accuracy: 0.4286 - val_loss: 0.9372 - val_accuracy: 0.5556\n",
      "Epoch 13/15\n",
      "105/105 [==============================] - 0s 2ms/sample - loss: 1.2716 - accuracy: 0.4857 - val_loss: 0.9369 - val_accuracy: 0.5556\n",
      "Epoch 14/15\n",
      "105/105 [==============================] - 0s 2ms/sample - loss: 1.3230 - accuracy: 0.4000 - val_loss: 0.9256 - val_accuracy: 0.5556\n",
      "Epoch 15/15\n",
      "105/105 [==============================] - 0s 3ms/sample - loss: 1.3342 - accuracy: 0.4952 - val_loss: 0.9104 - val_accuracy: 0.5556\n",
      "wandb: Agent Finished Run: a0dh7zhk \n",
      "\n",
      "wandb: Agent Starting Run: eoyc50ca with config:\n",
      "\tbatch_size: 32\n",
      "\tepochs: 15\n",
      "\tlayers: 4\n",
      "wandb: Agent Started Run: eoyc50ca\n"
     ]
    },
    {
     "data": {
      "text/html": [
       "\n",
       "                Logging results to <a href=\"https://wandb.com\" target=\"_blank\">Weights & Biases</a> <a href=\"https://docs.wandb.com/integrations/jupyter.html\" target=\"_blank\">(Documentation)</a>.<br/>\n",
       "                Project page: <a href=\"https://app.wandb.ai/sinisha123/hyperparameter-sweeps-comparison\" target=\"_blank\">https://app.wandb.ai/sinisha123/hyperparameter-sweeps-comparison</a><br/>\n",
       "                Sweep page: <a href=\"https://app.wandb.ai/sinisha123/hyperparameter-sweeps-comparison/sweeps/rda1hnv0\" target=\"_blank\">https://app.wandb.ai/sinisha123/hyperparameter-sweeps-comparison/sweeps/rda1hnv0</a><br/>\n",
       "Run page: <a href=\"https://app.wandb.ai/sinisha123/hyperparameter-sweeps-comparison/runs/eoyc50ca\" target=\"_blank\">https://app.wandb.ai/sinisha123/hyperparameter-sweeps-comparison/runs/eoyc50ca</a><br/>\n",
       "            "
      ],
      "text/plain": [
       "<IPython.core.display.HTML object>"
      ]
     },
     "metadata": {},
     "output_type": "display_data"
    },
    {
     "name": "stdout",
     "output_type": "stream",
     "text": [
      "Train on 105 samples, validate on 45 samples\n",
      "Epoch 1/15\n",
      "105/105 [==============================] - 1s 11ms/sample - loss: 2.9028 - accuracy: 0.3524 - val_loss: 1.6668 - val_accuracy: 0.2889\n",
      "Epoch 2/15\n",
      "105/105 [==============================] - 0s 2ms/sample - loss: 2.0642 - accuracy: 0.4476 - val_loss: 1.4364 - val_accuracy: 0.2889\n",
      "Epoch 3/15\n",
      "105/105 [==============================] - 0s 2ms/sample - loss: 2.2950 - accuracy: 0.3905 - val_loss: 1.2692 - val_accuracy: 0.2889\n",
      "Epoch 4/15\n",
      "105/105 [==============================] - 0s 2ms/sample - loss: 1.9392 - accuracy: 0.4571 - val_loss: 1.1380 - val_accuracy: 0.2889\n",
      "Epoch 5/15\n",
      "105/105 [==============================] - 0s 2ms/sample - loss: 2.3652 - accuracy: 0.2762 - val_loss: 1.0530 - val_accuracy: 0.2889\n",
      "Epoch 6/15\n",
      "105/105 [==============================] - 0s 2ms/sample - loss: 2.3472 - accuracy: 0.3714 - val_loss: 1.0013 - val_accuracy: 0.2889\n",
      "Epoch 7/15\n",
      "105/105 [==============================] - 0s 2ms/sample - loss: 1.7626 - accuracy: 0.3524 - val_loss: 0.9742 - val_accuracy: 0.4000\n",
      "Epoch 8/15\n",
      "105/105 [==============================] - 0s 2ms/sample - loss: 1.6315 - accuracy: 0.4190 - val_loss: 0.9619 - val_accuracy: 0.5556\n",
      "Epoch 9/15\n",
      "105/105 [==============================] - 0s 2ms/sample - loss: 1.9917 - accuracy: 0.3524 - val_loss: 0.9532 - val_accuracy: 0.5556\n",
      "Epoch 10/15\n",
      "105/105 [==============================] - 0s 2ms/sample - loss: 1.4822 - accuracy: 0.4571 - val_loss: 0.9472 - val_accuracy: 0.5556\n",
      "Epoch 11/15\n",
      "105/105 [==============================] - 0s 2ms/sample - loss: 1.4612 - accuracy: 0.3524 - val_loss: 0.9444 - val_accuracy: 0.5556\n",
      "Epoch 12/15\n",
      "105/105 [==============================] - 0s 2ms/sample - loss: 1.3101 - accuracy: 0.4286 - val_loss: 0.9372 - val_accuracy: 0.5556\n",
      "Epoch 13/15\n",
      "105/105 [==============================] - 0s 2ms/sample - loss: 1.2716 - accuracy: 0.4857 - val_loss: 0.9369 - val_accuracy: 0.5556\n",
      "Epoch 14/15\n",
      "105/105 [==============================] - 0s 2ms/sample - loss: 1.3230 - accuracy: 0.4000 - val_loss: 0.9256 - val_accuracy: 0.5556\n",
      "Epoch 15/15\n",
      "105/105 [==============================] - 0s 2ms/sample - loss: 1.3342 - accuracy: 0.4952 - val_loss: 0.9104 - val_accuracy: 0.5556\n",
      "wandb: Agent Finished Run: eoyc50ca \n",
      "\n",
      "wandb: Agent Starting Run: fk4cbapc with config:\n",
      "\tbatch_size: 32\n",
      "\tepochs: 15\n",
      "\tlayers: 4\n",
      "wandb: Agent Started Run: fk4cbapc\n"
     ]
    },
    {
     "data": {
      "text/html": [
       "\n",
       "                Logging results to <a href=\"https://wandb.com\" target=\"_blank\">Weights & Biases</a> <a href=\"https://docs.wandb.com/integrations/jupyter.html\" target=\"_blank\">(Documentation)</a>.<br/>\n",
       "                Project page: <a href=\"https://app.wandb.ai/sinisha123/hyperparameter-sweeps-comparison\" target=\"_blank\">https://app.wandb.ai/sinisha123/hyperparameter-sweeps-comparison</a><br/>\n",
       "                Sweep page: <a href=\"https://app.wandb.ai/sinisha123/hyperparameter-sweeps-comparison/sweeps/rda1hnv0\" target=\"_blank\">https://app.wandb.ai/sinisha123/hyperparameter-sweeps-comparison/sweeps/rda1hnv0</a><br/>\n",
       "Run page: <a href=\"https://app.wandb.ai/sinisha123/hyperparameter-sweeps-comparison/runs/fk4cbapc\" target=\"_blank\">https://app.wandb.ai/sinisha123/hyperparameter-sweeps-comparison/runs/fk4cbapc</a><br/>\n",
       "            "
      ],
      "text/plain": [
       "<IPython.core.display.HTML object>"
      ]
     },
     "metadata": {},
     "output_type": "display_data"
    },
    {
     "name": "stdout",
     "output_type": "stream",
     "text": [
      "Train on 105 samples, validate on 45 samples\n",
      "Epoch 1/15\n",
      "105/105 [==============================] - 1s 12ms/sample - loss: 2.9028 - accuracy: 0.3524 - val_loss: 1.6668 - val_accuracy: 0.2889\n",
      "Epoch 2/15\n",
      "105/105 [==============================] - 0s 3ms/sample - loss: 2.0642 - accuracy: 0.4476 - val_loss: 1.4364 - val_accuracy: 0.2889\n",
      "Epoch 3/15\n",
      "105/105 [==============================] - 0s 2ms/sample - loss: 2.2950 - accuracy: 0.3905 - val_loss: 1.2692 - val_accuracy: 0.2889\n",
      "Epoch 4/15\n",
      "105/105 [==============================] - 0s 2ms/sample - loss: 1.9392 - accuracy: 0.4571 - val_loss: 1.1380 - val_accuracy: 0.2889\n",
      "Epoch 5/15\n",
      "105/105 [==============================] - 0s 2ms/sample - loss: 2.3652 - accuracy: 0.2762 - val_loss: 1.0530 - val_accuracy: 0.2889\n",
      "Epoch 6/15\n",
      "105/105 [==============================] - 0s 2ms/sample - loss: 2.3472 - accuracy: 0.3714 - val_loss: 1.0013 - val_accuracy: 0.2889\n",
      "Epoch 7/15\n",
      "105/105 [==============================] - 0s 2ms/sample - loss: 1.7626 - accuracy: 0.3524 - val_loss: 0.9742 - val_accuracy: 0.4000\n",
      "Epoch 8/15\n",
      "105/105 [==============================] - 0s 4ms/sample - loss: 1.6315 - accuracy: 0.4190 - val_loss: 0.9619 - val_accuracy: 0.5556\n",
      "Epoch 9/15\n",
      "105/105 [==============================] - 0s 2ms/sample - loss: 1.9917 - accuracy: 0.3524 - val_loss: 0.9532 - val_accuracy: 0.5556\n",
      "Epoch 10/15\n",
      "105/105 [==============================] - 0s 2ms/sample - loss: 1.4822 - accuracy: 0.4571 - val_loss: 0.9472 - val_accuracy: 0.5556\n",
      "Epoch 11/15\n",
      "105/105 [==============================] - 0s 2ms/sample - loss: 1.4612 - accuracy: 0.3524 - val_loss: 0.9444 - val_accuracy: 0.5556\n",
      "Epoch 12/15\n",
      "105/105 [==============================] - 0s 2ms/sample - loss: 1.3101 - accuracy: 0.4286 - val_loss: 0.9372 - val_accuracy: 0.5556\n",
      "Epoch 13/15\n",
      "105/105 [==============================] - 0s 2ms/sample - loss: 1.2716 - accuracy: 0.4857 - val_loss: 0.9369 - val_accuracy: 0.5556\n",
      "Epoch 14/15\n",
      "105/105 [==============================] - 0s 2ms/sample - loss: 1.3230 - accuracy: 0.4000 - val_loss: 0.9256 - val_accuracy: 0.5556\n",
      "Epoch 15/15\n",
      "105/105 [==============================] - 0s 2ms/sample - loss: 1.3342 - accuracy: 0.4952 - val_loss: 0.9104 - val_accuracy: 0.5556\n",
      "wandb: Agent Finished Run: fk4cbapc \n",
      "\n",
      "wandb: Agent Starting Run: 2urc4gzt with config:\n",
      "\tbatch_size: 32\n",
      "\tepochs: 15\n",
      "\tlayers: 4\n",
      "wandb: Agent Started Run: 2urc4gzt\n"
     ]
    },
    {
     "data": {
      "text/html": [
       "\n",
       "                Logging results to <a href=\"https://wandb.com\" target=\"_blank\">Weights & Biases</a> <a href=\"https://docs.wandb.com/integrations/jupyter.html\" target=\"_blank\">(Documentation)</a>.<br/>\n",
       "                Project page: <a href=\"https://app.wandb.ai/sinisha123/hyperparameter-sweeps-comparison\" target=\"_blank\">https://app.wandb.ai/sinisha123/hyperparameter-sweeps-comparison</a><br/>\n",
       "                Sweep page: <a href=\"https://app.wandb.ai/sinisha123/hyperparameter-sweeps-comparison/sweeps/rda1hnv0\" target=\"_blank\">https://app.wandb.ai/sinisha123/hyperparameter-sweeps-comparison/sweeps/rda1hnv0</a><br/>\n",
       "Run page: <a href=\"https://app.wandb.ai/sinisha123/hyperparameter-sweeps-comparison/runs/2urc4gzt\" target=\"_blank\">https://app.wandb.ai/sinisha123/hyperparameter-sweeps-comparison/runs/2urc4gzt</a><br/>\n",
       "            "
      ],
      "text/plain": [
       "<IPython.core.display.HTML object>"
      ]
     },
     "metadata": {},
     "output_type": "display_data"
    },
    {
     "name": "stdout",
     "output_type": "stream",
     "text": [
      "Train on 105 samples, validate on 45 samples\n",
      "Epoch 1/15\n",
      "105/105 [==============================] - 1s 12ms/sample - loss: 2.9028 - accuracy: 0.3524 - val_loss: 1.6668 - val_accuracy: 0.2889\n",
      "Epoch 2/15\n",
      "105/105 [==============================] - 0s 2ms/sample - loss: 2.0642 - accuracy: 0.4476 - val_loss: 1.4364 - val_accuracy: 0.2889\n",
      "Epoch 3/15\n",
      "105/105 [==============================] - 0s 2ms/sample - loss: 2.2950 - accuracy: 0.3905 - val_loss: 1.2692 - val_accuracy: 0.2889\n",
      "Epoch 4/15\n",
      "105/105 [==============================] - 0s 2ms/sample - loss: 1.9392 - accuracy: 0.4571 - val_loss: 1.1380 - val_accuracy: 0.2889\n",
      "Epoch 5/15\n",
      "105/105 [==============================] - 0s 2ms/sample - loss: 2.3652 - accuracy: 0.2762 - val_loss: 1.0530 - val_accuracy: 0.2889\n",
      "Epoch 6/15\n",
      "105/105 [==============================] - 0s 2ms/sample - loss: 2.3472 - accuracy: 0.3714 - val_loss: 1.0013 - val_accuracy: 0.2889\n",
      "Epoch 7/15\n",
      "105/105 [==============================] - 0s 2ms/sample - loss: 1.7626 - accuracy: 0.3524 - val_loss: 0.9742 - val_accuracy: 0.4000\n",
      "Epoch 8/15\n",
      "105/105 [==============================] - 0s 2ms/sample - loss: 1.6315 - accuracy: 0.4190 - val_loss: 0.9619 - val_accuracy: 0.5556\n",
      "Epoch 9/15\n",
      "105/105 [==============================] - 0s 2ms/sample - loss: 1.9917 - accuracy: 0.3524 - val_loss: 0.9532 - val_accuracy: 0.5556\n",
      "Epoch 10/15\n",
      "105/105 [==============================] - 0s 2ms/sample - loss: 1.4822 - accuracy: 0.4571 - val_loss: 0.9472 - val_accuracy: 0.5556\n",
      "Epoch 11/15\n",
      "105/105 [==============================] - 0s 2ms/sample - loss: 1.4612 - accuracy: 0.3524 - val_loss: 0.9444 - val_accuracy: 0.5556\n",
      "Epoch 12/15\n",
      "105/105 [==============================] - 0s 2ms/sample - loss: 1.3101 - accuracy: 0.4286 - val_loss: 0.9372 - val_accuracy: 0.5556\n",
      "Epoch 13/15\n",
      "105/105 [==============================] - 0s 2ms/sample - loss: 1.2716 - accuracy: 0.4857 - val_loss: 0.9369 - val_accuracy: 0.5556\n",
      "Epoch 14/15\n",
      "105/105 [==============================] - 0s 2ms/sample - loss: 1.3230 - accuracy: 0.4000 - val_loss: 0.9256 - val_accuracy: 0.5556\n",
      "Epoch 15/15\n",
      "105/105 [==============================] - 0s 2ms/sample - loss: 1.3342 - accuracy: 0.4952 - val_loss: 0.9104 - val_accuracy: 0.5556\n",
      "wandb: Agent Finished Run: 2urc4gzt \n",
      "\n",
      "wandb: Agent Starting Run: udlkc1zg with config:\n",
      "\tbatch_size: 32\n",
      "\tepochs: 15\n",
      "\tlayers: 4\n",
      "wandb: Agent Started Run: udlkc1zg\n"
     ]
    },
    {
     "data": {
      "text/html": [
       "\n",
       "                Logging results to <a href=\"https://wandb.com\" target=\"_blank\">Weights & Biases</a> <a href=\"https://docs.wandb.com/integrations/jupyter.html\" target=\"_blank\">(Documentation)</a>.<br/>\n",
       "                Project page: <a href=\"https://app.wandb.ai/sinisha123/hyperparameter-sweeps-comparison\" target=\"_blank\">https://app.wandb.ai/sinisha123/hyperparameter-sweeps-comparison</a><br/>\n",
       "                Sweep page: <a href=\"https://app.wandb.ai/sinisha123/hyperparameter-sweeps-comparison/sweeps/rda1hnv0\" target=\"_blank\">https://app.wandb.ai/sinisha123/hyperparameter-sweeps-comparison/sweeps/rda1hnv0</a><br/>\n",
       "Run page: <a href=\"https://app.wandb.ai/sinisha123/hyperparameter-sweeps-comparison/runs/udlkc1zg\" target=\"_blank\">https://app.wandb.ai/sinisha123/hyperparameter-sweeps-comparison/runs/udlkc1zg</a><br/>\n",
       "            "
      ],
      "text/plain": [
       "<IPython.core.display.HTML object>"
      ]
     },
     "metadata": {},
     "output_type": "display_data"
    },
    {
     "name": "stdout",
     "output_type": "stream",
     "text": [
      "Train on 105 samples, validate on 45 samples\n",
      "Epoch 1/15\n",
      "105/105 [==============================] - 1s 12ms/sample - loss: 2.9028 - accuracy: 0.3524 - val_loss: 1.6668 - val_accuracy: 0.2889\n",
      "Epoch 2/15\n",
      "105/105 [==============================] - 0s 2ms/sample - loss: 2.0642 - accuracy: 0.4476 - val_loss: 1.4364 - val_accuracy: 0.2889\n",
      "Epoch 3/15\n",
      "105/105 [==============================] - 0s 2ms/sample - loss: 2.2950 - accuracy: 0.3905 - val_loss: 1.2692 - val_accuracy: 0.2889\n",
      "Epoch 4/15\n",
      "105/105 [==============================] - 0s 2ms/sample - loss: 1.9392 - accuracy: 0.4571 - val_loss: 1.1380 - val_accuracy: 0.2889\n",
      "Epoch 5/15\n",
      "105/105 [==============================] - 0s 2ms/sample - loss: 2.3652 - accuracy: 0.2762 - val_loss: 1.0530 - val_accuracy: 0.2889\n",
      "Epoch 6/15\n",
      "105/105 [==============================] - 0s 2ms/sample - loss: 2.3472 - accuracy: 0.3714 - val_loss: 1.0013 - val_accuracy: 0.2889\n",
      "Epoch 7/15\n",
      "105/105 [==============================] - 0s 2ms/sample - loss: 1.7626 - accuracy: 0.3524 - val_loss: 0.9742 - val_accuracy: 0.4000\n",
      "Epoch 8/15\n",
      "105/105 [==============================] - 0s 2ms/sample - loss: 1.6315 - accuracy: 0.4190 - val_loss: 0.9619 - val_accuracy: 0.5556\n",
      "Epoch 9/15\n",
      "105/105 [==============================] - 0s 2ms/sample - loss: 1.9917 - accuracy: 0.3524 - val_loss: 0.9532 - val_accuracy: 0.5556\n",
      "Epoch 10/15\n",
      "105/105 [==============================] - 0s 2ms/sample - loss: 1.4822 - accuracy: 0.4571 - val_loss: 0.9472 - val_accuracy: 0.5556\n",
      "Epoch 11/15\n",
      "105/105 [==============================] - 0s 2ms/sample - loss: 1.4612 - accuracy: 0.3524 - val_loss: 0.9444 - val_accuracy: 0.5556\n",
      "Epoch 12/15\n",
      "105/105 [==============================] - 0s 2ms/sample - loss: 1.3101 - accuracy: 0.4286 - val_loss: 0.9372 - val_accuracy: 0.5556\n",
      "Epoch 13/15\n",
      "105/105 [==============================] - 0s 2ms/sample - loss: 1.2716 - accuracy: 0.4857 - val_loss: 0.9369 - val_accuracy: 0.5556\n",
      "Epoch 14/15\n",
      "105/105 [==============================] - 0s 2ms/sample - loss: 1.3230 - accuracy: 0.4000 - val_loss: 0.9256 - val_accuracy: 0.5556\n",
      "Epoch 15/15\n",
      "105/105 [==============================] - 0s 3ms/sample - loss: 1.3342 - accuracy: 0.4952 - val_loss: 0.9104 - val_accuracy: 0.5556\n",
      "wandb: Agent Finished Run: udlkc1zg \n",
      "\n",
      "wandb: Agent Starting Run: hhihbr0e with config:\n",
      "\tbatch_size: 32\n",
      "\tepochs: 15\n",
      "\tlayers: 4\n",
      "wandb: Agent Started Run: hhihbr0e\n"
     ]
    },
    {
     "data": {
      "text/html": [
       "\n",
       "                Logging results to <a href=\"https://wandb.com\" target=\"_blank\">Weights & Biases</a> <a href=\"https://docs.wandb.com/integrations/jupyter.html\" target=\"_blank\">(Documentation)</a>.<br/>\n",
       "                Project page: <a href=\"https://app.wandb.ai/sinisha123/hyperparameter-sweeps-comparison\" target=\"_blank\">https://app.wandb.ai/sinisha123/hyperparameter-sweeps-comparison</a><br/>\n",
       "                Sweep page: <a href=\"https://app.wandb.ai/sinisha123/hyperparameter-sweeps-comparison/sweeps/rda1hnv0\" target=\"_blank\">https://app.wandb.ai/sinisha123/hyperparameter-sweeps-comparison/sweeps/rda1hnv0</a><br/>\n",
       "Run page: <a href=\"https://app.wandb.ai/sinisha123/hyperparameter-sweeps-comparison/runs/hhihbr0e\" target=\"_blank\">https://app.wandb.ai/sinisha123/hyperparameter-sweeps-comparison/runs/hhihbr0e</a><br/>\n",
       "            "
      ],
      "text/plain": [
       "<IPython.core.display.HTML object>"
      ]
     },
     "metadata": {},
     "output_type": "display_data"
    },
    {
     "name": "stdout",
     "output_type": "stream",
     "text": [
      "Train on 105 samples, validate on 45 samples\n",
      "Epoch 1/15\n",
      "105/105 [==============================] - 1s 12ms/sample - loss: 2.9028 - accuracy: 0.3524 - val_loss: 1.6668 - val_accuracy: 0.2889\n",
      "Epoch 2/15\n",
      "105/105 [==============================] - 0s 3ms/sample - loss: 2.0642 - accuracy: 0.4476 - val_loss: 1.4364 - val_accuracy: 0.2889\n",
      "Epoch 3/15\n",
      "105/105 [==============================] - 0s 2ms/sample - loss: 2.2950 - accuracy: 0.3905 - val_loss: 1.2692 - val_accuracy: 0.2889\n",
      "Epoch 4/15\n",
      "105/105 [==============================] - 0s 2ms/sample - loss: 1.9392 - accuracy: 0.4571 - val_loss: 1.1380 - val_accuracy: 0.2889\n",
      "Epoch 5/15\n",
      "105/105 [==============================] - 0s 2ms/sample - loss: 2.3652 - accuracy: 0.2762 - val_loss: 1.0530 - val_accuracy: 0.2889\n",
      "Epoch 6/15\n",
      "105/105 [==============================] - 0s 2ms/sample - loss: 2.3472 - accuracy: 0.3714 - val_loss: 1.0013 - val_accuracy: 0.2889\n",
      "Epoch 7/15\n",
      "105/105 [==============================] - 0s 2ms/sample - loss: 1.7626 - accuracy: 0.3524 - val_loss: 0.9742 - val_accuracy: 0.4000\n",
      "Epoch 8/15\n",
      "105/105 [==============================] - 0s 2ms/sample - loss: 1.6315 - accuracy: 0.4190 - val_loss: 0.9619 - val_accuracy: 0.5556\n",
      "Epoch 9/15\n",
      "105/105 [==============================] - 0s 2ms/sample - loss: 1.9917 - accuracy: 0.3524 - val_loss: 0.9532 - val_accuracy: 0.5556\n",
      "Epoch 10/15\n",
      "105/105 [==============================] - 0s 2ms/sample - loss: 1.4822 - accuracy: 0.4571 - val_loss: 0.9472 - val_accuracy: 0.5556\n",
      "Epoch 11/15\n",
      "105/105 [==============================] - 0s 2ms/sample - loss: 1.4612 - accuracy: 0.3524 - val_loss: 0.9444 - val_accuracy: 0.5556\n",
      "Epoch 12/15\n",
      "105/105 [==============================] - 0s 2ms/sample - loss: 1.3101 - accuracy: 0.4286 - val_loss: 0.9372 - val_accuracy: 0.5556\n",
      "Epoch 13/15\n",
      "105/105 [==============================] - 0s 2ms/sample - loss: 1.2716 - accuracy: 0.4857 - val_loss: 0.9369 - val_accuracy: 0.5556\n",
      "Epoch 14/15\n",
      "105/105 [==============================] - 0s 2ms/sample - loss: 1.3230 - accuracy: 0.4000 - val_loss: 0.9256 - val_accuracy: 0.5556\n",
      "Epoch 15/15\n",
      "105/105 [==============================] - 0s 2ms/sample - loss: 1.3342 - accuracy: 0.4952 - val_loss: 0.9104 - val_accuracy: 0.5556\n",
      "wandb: Agent Finished Run: hhihbr0e \n",
      "\n",
      "wandb: Agent Starting Run: uz0g1i5z with config:\n",
      "\tbatch_size: 32\n",
      "\tepochs: 15\n",
      "\tlayers: 4\n",
      "wandb: Agent Started Run: uz0g1i5z\n"
     ]
    },
    {
     "data": {
      "text/html": [
       "\n",
       "                Logging results to <a href=\"https://wandb.com\" target=\"_blank\">Weights & Biases</a> <a href=\"https://docs.wandb.com/integrations/jupyter.html\" target=\"_blank\">(Documentation)</a>.<br/>\n",
       "                Project page: <a href=\"https://app.wandb.ai/sinisha123/hyperparameter-sweeps-comparison\" target=\"_blank\">https://app.wandb.ai/sinisha123/hyperparameter-sweeps-comparison</a><br/>\n",
       "                Sweep page: <a href=\"https://app.wandb.ai/sinisha123/hyperparameter-sweeps-comparison/sweeps/rda1hnv0\" target=\"_blank\">https://app.wandb.ai/sinisha123/hyperparameter-sweeps-comparison/sweeps/rda1hnv0</a><br/>\n",
       "Run page: <a href=\"https://app.wandb.ai/sinisha123/hyperparameter-sweeps-comparison/runs/uz0g1i5z\" target=\"_blank\">https://app.wandb.ai/sinisha123/hyperparameter-sweeps-comparison/runs/uz0g1i5z</a><br/>\n",
       "            "
      ],
      "text/plain": [
       "<IPython.core.display.HTML object>"
      ]
     },
     "metadata": {},
     "output_type": "display_data"
    },
    {
     "name": "stdout",
     "output_type": "stream",
     "text": [
      "Train on 105 samples, validate on 45 samples\n",
      "Epoch 1/15\n",
      "105/105 [==============================] - 1s 13ms/sample - loss: 2.9028 - accuracy: 0.3524 - val_loss: 1.6668 - val_accuracy: 0.2889\n",
      "Epoch 2/15\n",
      "105/105 [==============================] - 0s 2ms/sample - loss: 2.0642 - accuracy: 0.4476 - val_loss: 1.4364 - val_accuracy: 0.2889\n",
      "Epoch 3/15\n",
      "105/105 [==============================] - 0s 2ms/sample - loss: 2.2950 - accuracy: 0.3905 - val_loss: 1.2692 - val_accuracy: 0.2889\n",
      "Epoch 4/15\n",
      "105/105 [==============================] - 0s 2ms/sample - loss: 1.9392 - accuracy: 0.4571 - val_loss: 1.1380 - val_accuracy: 0.2889\n",
      "Epoch 5/15\n",
      "105/105 [==============================] - 0s 2ms/sample - loss: 2.3652 - accuracy: 0.2762 - val_loss: 1.0530 - val_accuracy: 0.2889\n",
      "Epoch 6/15\n",
      "105/105 [==============================] - 0s 2ms/sample - loss: 2.3472 - accuracy: 0.3714 - val_loss: 1.0013 - val_accuracy: 0.2889\n",
      "Epoch 7/15\n",
      "105/105 [==============================] - 0s 2ms/sample - loss: 1.7626 - accuracy: 0.3524 - val_loss: 0.9742 - val_accuracy: 0.4000\n",
      "Epoch 8/15\n",
      "105/105 [==============================] - 0s 2ms/sample - loss: 1.6315 - accuracy: 0.4190 - val_loss: 0.9619 - val_accuracy: 0.5556\n",
      "Epoch 9/15\n",
      "105/105 [==============================] - 0s 2ms/sample - loss: 1.9917 - accuracy: 0.3524 - val_loss: 0.9532 - val_accuracy: 0.5556\n",
      "Epoch 10/15\n",
      "105/105 [==============================] - 0s 2ms/sample - loss: 1.4822 - accuracy: 0.4571 - val_loss: 0.9472 - val_accuracy: 0.5556\n",
      "Epoch 11/15\n",
      "105/105 [==============================] - 0s 2ms/sample - loss: 1.4612 - accuracy: 0.3524 - val_loss: 0.9444 - val_accuracy: 0.5556\n",
      "Epoch 12/15\n",
      "105/105 [==============================] - 0s 2ms/sample - loss: 1.3101 - accuracy: 0.4286 - val_loss: 0.9372 - val_accuracy: 0.5556\n",
      "Epoch 13/15\n",
      "105/105 [==============================] - 0s 2ms/sample - loss: 1.2716 - accuracy: 0.4857 - val_loss: 0.9369 - val_accuracy: 0.5556\n",
      "Epoch 14/15\n",
      "105/105 [==============================] - 0s 2ms/sample - loss: 1.3230 - accuracy: 0.4000 - val_loss: 0.9256 - val_accuracy: 0.5556\n",
      "Epoch 15/15\n",
      "105/105 [==============================] - 0s 2ms/sample - loss: 1.3342 - accuracy: 0.4952 - val_loss: 0.9104 - val_accuracy: 0.5556\n",
      "wandb: Agent Finished Run: uz0g1i5z \n",
      "\n",
      "wandb: Agent Starting Run: m50x7w5n with config:\n",
      "\tbatch_size: 32\n",
      "\tepochs: 15\n",
      "\tlayers: 4\n",
      "wandb: Agent Started Run: m50x7w5n\n"
     ]
    },
    {
     "data": {
      "text/html": [
       "\n",
       "                Logging results to <a href=\"https://wandb.com\" target=\"_blank\">Weights & Biases</a> <a href=\"https://docs.wandb.com/integrations/jupyter.html\" target=\"_blank\">(Documentation)</a>.<br/>\n",
       "                Project page: <a href=\"https://app.wandb.ai/sinisha123/hyperparameter-sweeps-comparison\" target=\"_blank\">https://app.wandb.ai/sinisha123/hyperparameter-sweeps-comparison</a><br/>\n",
       "                Sweep page: <a href=\"https://app.wandb.ai/sinisha123/hyperparameter-sweeps-comparison/sweeps/rda1hnv0\" target=\"_blank\">https://app.wandb.ai/sinisha123/hyperparameter-sweeps-comparison/sweeps/rda1hnv0</a><br/>\n",
       "Run page: <a href=\"https://app.wandb.ai/sinisha123/hyperparameter-sweeps-comparison/runs/m50x7w5n\" target=\"_blank\">https://app.wandb.ai/sinisha123/hyperparameter-sweeps-comparison/runs/m50x7w5n</a><br/>\n",
       "            "
      ],
      "text/plain": [
       "<IPython.core.display.HTML object>"
      ]
     },
     "metadata": {},
     "output_type": "display_data"
    },
    {
     "name": "stdout",
     "output_type": "stream",
     "text": [
      "Train on 105 samples, validate on 45 samples\n",
      "Epoch 1/15\n",
      "105/105 [==============================] - 1s 11ms/sample - loss: 2.9028 - accuracy: 0.3524 - val_loss: 1.6668 - val_accuracy: 0.2889\n",
      "Epoch 2/15\n",
      "105/105 [==============================] - 0s 2ms/sample - loss: 2.0642 - accuracy: 0.4476 - val_loss: 1.4364 - val_accuracy: 0.2889\n",
      "Epoch 3/15\n",
      "105/105 [==============================] - 0s 2ms/sample - loss: 2.2950 - accuracy: 0.3905 - val_loss: 1.2692 - val_accuracy: 0.2889\n",
      "Epoch 4/15\n",
      "105/105 [==============================] - 0s 2ms/sample - loss: 1.9392 - accuracy: 0.4571 - val_loss: 1.1380 - val_accuracy: 0.2889\n",
      "Epoch 5/15\n",
      "105/105 [==============================] - 0s 2ms/sample - loss: 2.3652 - accuracy: 0.2762 - val_loss: 1.0530 - val_accuracy: 0.2889\n",
      "Epoch 6/15\n",
      "105/105 [==============================] - 0s 2ms/sample - loss: 2.3472 - accuracy: 0.3714 - val_loss: 1.0013 - val_accuracy: 0.2889\n",
      "Epoch 7/15\n",
      "105/105 [==============================] - 0s 2ms/sample - loss: 1.7626 - accuracy: 0.3524 - val_loss: 0.9742 - val_accuracy: 0.4000\n",
      "Epoch 8/15\n",
      "105/105 [==============================] - 0s 2ms/sample - loss: 1.6315 - accuracy: 0.4190 - val_loss: 0.9619 - val_accuracy: 0.5556\n",
      "Epoch 9/15\n",
      "105/105 [==============================] - 0s 3ms/sample - loss: 1.9917 - accuracy: 0.3524 - val_loss: 0.9532 - val_accuracy: 0.5556\n",
      "Epoch 10/15\n",
      "105/105 [==============================] - 0s 2ms/sample - loss: 1.4822 - accuracy: 0.4571 - val_loss: 0.9472 - val_accuracy: 0.5556\n",
      "Epoch 11/15\n",
      "105/105 [==============================] - 0s 2ms/sample - loss: 1.4612 - accuracy: 0.3524 - val_loss: 0.9444 - val_accuracy: 0.5556\n",
      "Epoch 12/15\n",
      "105/105 [==============================] - 0s 2ms/sample - loss: 1.3101 - accuracy: 0.4286 - val_loss: 0.9372 - val_accuracy: 0.5556\n",
      "Epoch 13/15\n",
      "105/105 [==============================] - 0s 2ms/sample - loss: 1.2716 - accuracy: 0.4857 - val_loss: 0.9369 - val_accuracy: 0.5556\n",
      "Epoch 14/15\n",
      "105/105 [==============================] - 0s 2ms/sample - loss: 1.3230 - accuracy: 0.4000 - val_loss: 0.9256 - val_accuracy: 0.5556\n",
      "Epoch 15/15\n",
      "105/105 [==============================] - 0s 2ms/sample - loss: 1.3342 - accuracy: 0.4952 - val_loss: 0.9104 - val_accuracy: 0.5556\n",
      "wandb: Agent Finished Run: m50x7w5n \n",
      "\n",
      "wandb: Agent Starting Run: uinkf06u with config:\n",
      "\tbatch_size: 32\n",
      "\tepochs: 15\n",
      "\tlayers: 4\n",
      "wandb: Agent Started Run: uinkf06u\n"
     ]
    },
    {
     "data": {
      "text/html": [
       "\n",
       "                Logging results to <a href=\"https://wandb.com\" target=\"_blank\">Weights & Biases</a> <a href=\"https://docs.wandb.com/integrations/jupyter.html\" target=\"_blank\">(Documentation)</a>.<br/>\n",
       "                Project page: <a href=\"https://app.wandb.ai/sinisha123/hyperparameter-sweeps-comparison\" target=\"_blank\">https://app.wandb.ai/sinisha123/hyperparameter-sweeps-comparison</a><br/>\n",
       "                Sweep page: <a href=\"https://app.wandb.ai/sinisha123/hyperparameter-sweeps-comparison/sweeps/rda1hnv0\" target=\"_blank\">https://app.wandb.ai/sinisha123/hyperparameter-sweeps-comparison/sweeps/rda1hnv0</a><br/>\n",
       "Run page: <a href=\"https://app.wandb.ai/sinisha123/hyperparameter-sweeps-comparison/runs/uinkf06u\" target=\"_blank\">https://app.wandb.ai/sinisha123/hyperparameter-sweeps-comparison/runs/uinkf06u</a><br/>\n",
       "            "
      ],
      "text/plain": [
       "<IPython.core.display.HTML object>"
      ]
     },
     "metadata": {},
     "output_type": "display_data"
    },
    {
     "name": "stdout",
     "output_type": "stream",
     "text": [
      "Train on 105 samples, validate on 45 samples\n",
      "Epoch 1/15\n",
      "105/105 [==============================] - 1s 11ms/sample - loss: 2.9028 - accuracy: 0.3524 - val_loss: 1.6668 - val_accuracy: 0.2889\n",
      "Epoch 2/15\n",
      "105/105 [==============================] - 0s 2ms/sample - loss: 2.0642 - accuracy: 0.4476 - val_loss: 1.4364 - val_accuracy: 0.2889\n",
      "Epoch 3/15\n",
      "105/105 [==============================] - 0s 2ms/sample - loss: 2.2950 - accuracy: 0.3905 - val_loss: 1.2692 - val_accuracy: 0.2889\n",
      "Epoch 4/15\n",
      "105/105 [==============================] - 0s 2ms/sample - loss: 1.9392 - accuracy: 0.4571 - val_loss: 1.1380 - val_accuracy: 0.2889\n",
      "Epoch 5/15\n",
      "105/105 [==============================] - 0s 2ms/sample - loss: 2.3652 - accuracy: 0.2762 - val_loss: 1.0530 - val_accuracy: 0.2889\n",
      "Epoch 6/15\n",
      "105/105 [==============================] - 0s 2ms/sample - loss: 2.3472 - accuracy: 0.3714 - val_loss: 1.0013 - val_accuracy: 0.2889\n",
      "Epoch 7/15\n",
      "105/105 [==============================] - 0s 2ms/sample - loss: 1.7626 - accuracy: 0.3524 - val_loss: 0.9742 - val_accuracy: 0.4000\n",
      "Epoch 8/15\n",
      "105/105 [==============================] - 0s 2ms/sample - loss: 1.6315 - accuracy: 0.4190 - val_loss: 0.9619 - val_accuracy: 0.5556\n",
      "Epoch 9/15\n",
      "105/105 [==============================] - 0s 2ms/sample - loss: 1.9917 - accuracy: 0.3524 - val_loss: 0.9532 - val_accuracy: 0.5556\n",
      "Epoch 10/15\n",
      "105/105 [==============================] - 0s 2ms/sample - loss: 1.4822 - accuracy: 0.4571 - val_loss: 0.9472 - val_accuracy: 0.5556\n",
      "Epoch 11/15\n",
      "105/105 [==============================] - 0s 2ms/sample - loss: 1.4612 - accuracy: 0.3524 - val_loss: 0.9444 - val_accuracy: 0.5556\n",
      "Epoch 12/15\n",
      "105/105 [==============================] - 0s 2ms/sample - loss: 1.3101 - accuracy: 0.4286 - val_loss: 0.9372 - val_accuracy: 0.5556\n",
      "Epoch 13/15\n",
      "105/105 [==============================] - 0s 2ms/sample - loss: 1.2716 - accuracy: 0.4857 - val_loss: 0.9369 - val_accuracy: 0.5556\n",
      "Epoch 14/15\n",
      "105/105 [==============================] - 0s 2ms/sample - loss: 1.3230 - accuracy: 0.4000 - val_loss: 0.9256 - val_accuracy: 0.5556\n",
      "Epoch 15/15\n",
      "105/105 [==============================] - 0s 3ms/sample - loss: 1.3342 - accuracy: 0.4952 - val_loss: 0.9104 - val_accuracy: 0.5556\n",
      "wandb: Agent Finished Run: uinkf06u \n",
      "\n",
      "wandb: Agent Starting Run: iezdwt8m with config:\n",
      "\tbatch_size: 32\n",
      "\tepochs: 15\n",
      "\tlayers: 4\n",
      "wandb: Agent Started Run: iezdwt8m\n"
     ]
    },
    {
     "data": {
      "text/html": [
       "\n",
       "                Logging results to <a href=\"https://wandb.com\" target=\"_blank\">Weights & Biases</a> <a href=\"https://docs.wandb.com/integrations/jupyter.html\" target=\"_blank\">(Documentation)</a>.<br/>\n",
       "                Project page: <a href=\"https://app.wandb.ai/sinisha123/hyperparameter-sweeps-comparison\" target=\"_blank\">https://app.wandb.ai/sinisha123/hyperparameter-sweeps-comparison</a><br/>\n",
       "                Sweep page: <a href=\"https://app.wandb.ai/sinisha123/hyperparameter-sweeps-comparison/sweeps/rda1hnv0\" target=\"_blank\">https://app.wandb.ai/sinisha123/hyperparameter-sweeps-comparison/sweeps/rda1hnv0</a><br/>\n",
       "Run page: <a href=\"https://app.wandb.ai/sinisha123/hyperparameter-sweeps-comparison/runs/iezdwt8m\" target=\"_blank\">https://app.wandb.ai/sinisha123/hyperparameter-sweeps-comparison/runs/iezdwt8m</a><br/>\n",
       "            "
      ],
      "text/plain": [
       "<IPython.core.display.HTML object>"
      ]
     },
     "metadata": {},
     "output_type": "display_data"
    },
    {
     "name": "stdout",
     "output_type": "stream",
     "text": [
      "Train on 105 samples, validate on 45 samples\n",
      "Epoch 1/15\n",
      "105/105 [==============================] - 1s 12ms/sample - loss: 2.9028 - accuracy: 0.3524 - val_loss: 1.6668 - val_accuracy: 0.2889\n",
      "Epoch 2/15\n",
      "105/105 [==============================] - 0s 2ms/sample - loss: 2.0642 - accuracy: 0.4476 - val_loss: 1.4364 - val_accuracy: 0.2889\n",
      "Epoch 3/15\n",
      "105/105 [==============================] - 0s 2ms/sample - loss: 2.2950 - accuracy: 0.3905 - val_loss: 1.2692 - val_accuracy: 0.2889\n",
      "Epoch 4/15\n",
      "105/105 [==============================] - 0s 2ms/sample - loss: 1.9392 - accuracy: 0.4571 - val_loss: 1.1380 - val_accuracy: 0.2889\n",
      "Epoch 5/15\n",
      "105/105 [==============================] - 0s 2ms/sample - loss: 2.3652 - accuracy: 0.2762 - val_loss: 1.0530 - val_accuracy: 0.2889\n",
      "Epoch 6/15\n",
      "105/105 [==============================] - 0s 2ms/sample - loss: 2.3472 - accuracy: 0.3714 - val_loss: 1.0013 - val_accuracy: 0.2889\n",
      "Epoch 7/15\n",
      "105/105 [==============================] - 0s 2ms/sample - loss: 1.7626 - accuracy: 0.3524 - val_loss: 0.9742 - val_accuracy: 0.4000\n",
      "Epoch 8/15\n",
      "105/105 [==============================] - 0s 2ms/sample - loss: 1.6315 - accuracy: 0.4190 - val_loss: 0.9619 - val_accuracy: 0.5556\n",
      "Epoch 9/15\n",
      "105/105 [==============================] - 0s 2ms/sample - loss: 1.9917 - accuracy: 0.3524 - val_loss: 0.9532 - val_accuracy: 0.5556\n",
      "Epoch 10/15\n",
      "105/105 [==============================] - 0s 2ms/sample - loss: 1.4822 - accuracy: 0.4571 - val_loss: 0.9472 - val_accuracy: 0.5556\n",
      "Epoch 11/15\n",
      "105/105 [==============================] - 0s 2ms/sample - loss: 1.4612 - accuracy: 0.3524 - val_loss: 0.9444 - val_accuracy: 0.5556\n",
      "Epoch 12/15\n",
      "105/105 [==============================] - 0s 2ms/sample - loss: 1.3101 - accuracy: 0.4286 - val_loss: 0.9372 - val_accuracy: 0.5556\n",
      "Epoch 13/15\n",
      "105/105 [==============================] - 0s 2ms/sample - loss: 1.2716 - accuracy: 0.4857 - val_loss: 0.9369 - val_accuracy: 0.5556\n",
      "Epoch 14/15\n",
      "105/105 [==============================] - 0s 2ms/sample - loss: 1.3230 - accuracy: 0.4000 - val_loss: 0.9256 - val_accuracy: 0.5556\n",
      "Epoch 15/15\n",
      "105/105 [==============================] - 0s 2ms/sample - loss: 1.3342 - accuracy: 0.4952 - val_loss: 0.9104 - val_accuracy: 0.5556\n",
      "wandb: Agent Finished Run: iezdwt8m \n",
      "\n",
      "wandb: Agent Starting Run: u2aljwz7 with config:\n",
      "\tbatch_size: 32\n",
      "\tepochs: 15\n",
      "\tlayers: 4\n",
      "wandb: Agent Started Run: u2aljwz7\n"
     ]
    },
    {
     "data": {
      "text/html": [
       "\n",
       "                Logging results to <a href=\"https://wandb.com\" target=\"_blank\">Weights & Biases</a> <a href=\"https://docs.wandb.com/integrations/jupyter.html\" target=\"_blank\">(Documentation)</a>.<br/>\n",
       "                Project page: <a href=\"https://app.wandb.ai/sinisha123/hyperparameter-sweeps-comparison\" target=\"_blank\">https://app.wandb.ai/sinisha123/hyperparameter-sweeps-comparison</a><br/>\n",
       "                Sweep page: <a href=\"https://app.wandb.ai/sinisha123/hyperparameter-sweeps-comparison/sweeps/rda1hnv0\" target=\"_blank\">https://app.wandb.ai/sinisha123/hyperparameter-sweeps-comparison/sweeps/rda1hnv0</a><br/>\n",
       "Run page: <a href=\"https://app.wandb.ai/sinisha123/hyperparameter-sweeps-comparison/runs/u2aljwz7\" target=\"_blank\">https://app.wandb.ai/sinisha123/hyperparameter-sweeps-comparison/runs/u2aljwz7</a><br/>\n",
       "            "
      ],
      "text/plain": [
       "<IPython.core.display.HTML object>"
      ]
     },
     "metadata": {},
     "output_type": "display_data"
    },
    {
     "name": "stdout",
     "output_type": "stream",
     "text": [
      "Train on 105 samples, validate on 45 samples\n",
      "Epoch 1/15\n",
      "105/105 [==============================] - 1s 10ms/sample - loss: 2.9028 - accuracy: 0.3524 - val_loss: 1.6668 - val_accuracy: 0.2889\n",
      "Epoch 2/15\n",
      "105/105 [==============================] - 0s 2ms/sample - loss: 2.0642 - accuracy: 0.4476 - val_loss: 1.4364 - val_accuracy: 0.2889\n",
      "Epoch 3/15\n",
      "105/105 [==============================] - 0s 2ms/sample - loss: 2.2950 - accuracy: 0.3905 - val_loss: 1.2692 - val_accuracy: 0.2889\n",
      "Epoch 4/15\n",
      "105/105 [==============================] - 0s 2ms/sample - loss: 1.9392 - accuracy: 0.4571 - val_loss: 1.1380 - val_accuracy: 0.2889\n",
      "Epoch 5/15\n",
      "105/105 [==============================] - 0s 2ms/sample - loss: 2.3652 - accuracy: 0.2762 - val_loss: 1.0530 - val_accuracy: 0.2889\n",
      "Epoch 6/15\n",
      "105/105 [==============================] - 0s 3ms/sample - loss: 2.3472 - accuracy: 0.3714 - val_loss: 1.0013 - val_accuracy: 0.2889\n",
      "Epoch 7/15\n",
      "105/105 [==============================] - 0s 3ms/sample - loss: 1.7626 - accuracy: 0.3524 - val_loss: 0.9742 - val_accuracy: 0.4000\n",
      "Epoch 8/15\n",
      "105/105 [==============================] - 0s 2ms/sample - loss: 1.6315 - accuracy: 0.4190 - val_loss: 0.9619 - val_accuracy: 0.5556\n",
      "Epoch 9/15\n",
      "105/105 [==============================] - 0s 2ms/sample - loss: 1.9917 - accuracy: 0.3524 - val_loss: 0.9532 - val_accuracy: 0.5556\n",
      "Epoch 10/15\n",
      "105/105 [==============================] - 0s 2ms/sample - loss: 1.4822 - accuracy: 0.4571 - val_loss: 0.9472 - val_accuracy: 0.5556\n",
      "Epoch 11/15\n",
      "105/105 [==============================] - 0s 3ms/sample - loss: 1.4612 - accuracy: 0.3524 - val_loss: 0.9444 - val_accuracy: 0.5556\n",
      "Epoch 12/15\n",
      "105/105 [==============================] - 0s 2ms/sample - loss: 1.3101 - accuracy: 0.4286 - val_loss: 0.9372 - val_accuracy: 0.5556\n",
      "Epoch 13/15\n",
      "105/105 [==============================] - 0s 2ms/sample - loss: 1.2716 - accuracy: 0.4857 - val_loss: 0.9369 - val_accuracy: 0.5556\n",
      "Epoch 14/15\n",
      "105/105 [==============================] - 0s 2ms/sample - loss: 1.3230 - accuracy: 0.4000 - val_loss: 0.9256 - val_accuracy: 0.5556\n",
      "Epoch 15/15\n",
      "105/105 [==============================] - 0s 2ms/sample - loss: 1.3342 - accuracy: 0.4952 - val_loss: 0.9104 - val_accuracy: 0.5556\n",
      "wandb: Agent Finished Run: u2aljwz7 \n",
      "\n",
      "wandb: Agent Starting Run: sg98oxy4 with config:\n",
      "\tbatch_size: 32\n",
      "\tepochs: 15\n",
      "\tlayers: 4\n",
      "wandb: Agent Started Run: sg98oxy4\n"
     ]
    },
    {
     "data": {
      "text/html": [
       "\n",
       "                Logging results to <a href=\"https://wandb.com\" target=\"_blank\">Weights & Biases</a> <a href=\"https://docs.wandb.com/integrations/jupyter.html\" target=\"_blank\">(Documentation)</a>.<br/>\n",
       "                Project page: <a href=\"https://app.wandb.ai/sinisha123/hyperparameter-sweeps-comparison\" target=\"_blank\">https://app.wandb.ai/sinisha123/hyperparameter-sweeps-comparison</a><br/>\n",
       "                Sweep page: <a href=\"https://app.wandb.ai/sinisha123/hyperparameter-sweeps-comparison/sweeps/rda1hnv0\" target=\"_blank\">https://app.wandb.ai/sinisha123/hyperparameter-sweeps-comparison/sweeps/rda1hnv0</a><br/>\n",
       "Run page: <a href=\"https://app.wandb.ai/sinisha123/hyperparameter-sweeps-comparison/runs/sg98oxy4\" target=\"_blank\">https://app.wandb.ai/sinisha123/hyperparameter-sweeps-comparison/runs/sg98oxy4</a><br/>\n",
       "            "
      ],
      "text/plain": [
       "<IPython.core.display.HTML object>"
      ]
     },
     "metadata": {},
     "output_type": "display_data"
    },
    {
     "name": "stdout",
     "output_type": "stream",
     "text": [
      "Train on 105 samples, validate on 45 samples\n",
      "Epoch 1/15\n",
      "105/105 [==============================] - 2s 15ms/sample - loss: 2.9028 - accuracy: 0.3524 - val_loss: 1.6668 - val_accuracy: 0.2889\n",
      "Epoch 2/15\n",
      "105/105 [==============================] - 0s 2ms/sample - loss: 2.0642 - accuracy: 0.4476 - val_loss: 1.4364 - val_accuracy: 0.2889\n",
      "Epoch 3/15\n",
      "105/105 [==============================] - 0s 2ms/sample - loss: 2.2950 - accuracy: 0.3905 - val_loss: 1.2692 - val_accuracy: 0.2889\n",
      "Epoch 4/15\n",
      "105/105 [==============================] - 0s 2ms/sample - loss: 1.9392 - accuracy: 0.4571 - val_loss: 1.1380 - val_accuracy: 0.2889\n",
      "Epoch 5/15\n",
      "105/105 [==============================] - 0s 2ms/sample - loss: 2.3652 - accuracy: 0.2762 - val_loss: 1.0530 - val_accuracy: 0.2889\n",
      "Epoch 6/15\n",
      "105/105 [==============================] - 0s 2ms/sample - loss: 2.3472 - accuracy: 0.3714 - val_loss: 1.0013 - val_accuracy: 0.2889\n",
      "Epoch 7/15\n",
      "105/105 [==============================] - 0s 2ms/sample - loss: 1.7626 - accuracy: 0.3524 - val_loss: 0.9742 - val_accuracy: 0.4000\n",
      "Epoch 8/15\n",
      "105/105 [==============================] - 0s 2ms/sample - loss: 1.6315 - accuracy: 0.4190 - val_loss: 0.9619 - val_accuracy: 0.5556\n",
      "Epoch 9/15\n",
      "105/105 [==============================] - 0s 2ms/sample - loss: 1.9917 - accuracy: 0.3524 - val_loss: 0.9532 - val_accuracy: 0.5556\n",
      "Epoch 10/15\n",
      "105/105 [==============================] - 0s 2ms/sample - loss: 1.4822 - accuracy: 0.4571 - val_loss: 0.9472 - val_accuracy: 0.5556\n",
      "Epoch 11/15\n",
      "105/105 [==============================] - 0s 2ms/sample - loss: 1.4612 - accuracy: 0.3524 - val_loss: 0.9444 - val_accuracy: 0.5556\n",
      "Epoch 12/15\n",
      "105/105 [==============================] - 0s 2ms/sample - loss: 1.3101 - accuracy: 0.4286 - val_loss: 0.9372 - val_accuracy: 0.5556\n",
      "Epoch 13/15\n",
      "105/105 [==============================] - 0s 2ms/sample - loss: 1.2716 - accuracy: 0.4857 - val_loss: 0.9369 - val_accuracy: 0.5556\n",
      "Epoch 14/15\n",
      "105/105 [==============================] - 0s 2ms/sample - loss: 1.3230 - accuracy: 0.4000 - val_loss: 0.9256 - val_accuracy: 0.5556\n",
      "Epoch 15/15\n",
      "105/105 [==============================] - 0s 2ms/sample - loss: 1.3342 - accuracy: 0.4952 - val_loss: 0.9104 - val_accuracy: 0.5556\n",
      "wandb: Agent Finished Run: sg98oxy4 \n",
      "\n"
     ]
    },
    {
     "name": "stderr",
     "output_type": "stream",
     "text": [
      "wandb: Network error resolved after 0:00:18.671888, resuming normal operation.\n"
     ]
    },
    {
     "name": "stdout",
     "output_type": "stream",
     "text": [
      "wandb: Agent Starting Run: 5wze2zvn with config:\n",
      "\tbatch_size: 32\n",
      "\tepochs: 15\n",
      "\tlayers: 4\n",
      "wandb: Agent Started Run: 5wze2zvn\n"
     ]
    },
    {
     "data": {
      "text/html": [
       "\n",
       "                Logging results to <a href=\"https://wandb.com\" target=\"_blank\">Weights & Biases</a> <a href=\"https://docs.wandb.com/integrations/jupyter.html\" target=\"_blank\">(Documentation)</a>.<br/>\n",
       "                Project page: <a href=\"https://app.wandb.ai/sinisha123/hyperparameter-sweeps-comparison\" target=\"_blank\">https://app.wandb.ai/sinisha123/hyperparameter-sweeps-comparison</a><br/>\n",
       "                Sweep page: <a href=\"https://app.wandb.ai/sinisha123/hyperparameter-sweeps-comparison/sweeps/rda1hnv0\" target=\"_blank\">https://app.wandb.ai/sinisha123/hyperparameter-sweeps-comparison/sweeps/rda1hnv0</a><br/>\n",
       "Run page: <a href=\"https://app.wandb.ai/sinisha123/hyperparameter-sweeps-comparison/runs/5wze2zvn\" target=\"_blank\">https://app.wandb.ai/sinisha123/hyperparameter-sweeps-comparison/runs/5wze2zvn</a><br/>\n",
       "            "
      ],
      "text/plain": [
       "<IPython.core.display.HTML object>"
      ]
     },
     "metadata": {},
     "output_type": "display_data"
    },
    {
     "name": "stdout",
     "output_type": "stream",
     "text": [
      "Train on 105 samples, validate on 45 samples\n",
      "Epoch 1/15\n",
      "105/105 [==============================] - 1s 10ms/sample - loss: 2.9028 - accuracy: 0.3524 - val_loss: 1.6668 - val_accuracy: 0.2889\n",
      "Epoch 2/15\n",
      "105/105 [==============================] - 0s 2ms/sample - loss: 2.0642 - accuracy: 0.4476 - val_loss: 1.4364 - val_accuracy: 0.2889\n",
      "Epoch 3/15\n",
      "105/105 [==============================] - 0s 2ms/sample - loss: 2.2950 - accuracy: 0.3905 - val_loss: 1.2692 - val_accuracy: 0.2889\n",
      "Epoch 4/15\n",
      "105/105 [==============================] - 0s 2ms/sample - loss: 1.9392 - accuracy: 0.4571 - val_loss: 1.1380 - val_accuracy: 0.2889\n",
      "Epoch 5/15\n",
      "105/105 [==============================] - 0s 2ms/sample - loss: 2.3652 - accuracy: 0.2762 - val_loss: 1.0530 - val_accuracy: 0.2889\n",
      "Epoch 6/15\n",
      "105/105 [==============================] - 0s 2ms/sample - loss: 2.3472 - accuracy: 0.3714 - val_loss: 1.0013 - val_accuracy: 0.2889\n",
      "Epoch 7/15\n",
      "105/105 [==============================] - 0s 3ms/sample - loss: 1.7626 - accuracy: 0.3524 - val_loss: 0.9742 - val_accuracy: 0.4000\n",
      "Epoch 8/15\n",
      "105/105 [==============================] - 0s 3ms/sample - loss: 1.6315 - accuracy: 0.4190 - val_loss: 0.9619 - val_accuracy: 0.5556\n",
      "Epoch 9/15\n",
      "105/105 [==============================] - 0s 2ms/sample - loss: 1.9917 - accuracy: 0.3524 - val_loss: 0.9532 - val_accuracy: 0.5556\n",
      "Epoch 10/15\n",
      "105/105 [==============================] - 0s 2ms/sample - loss: 1.4822 - accuracy: 0.4571 - val_loss: 0.9472 - val_accuracy: 0.5556\n",
      "Epoch 11/15\n",
      "105/105 [==============================] - 0s 2ms/sample - loss: 1.4612 - accuracy: 0.3524 - val_loss: 0.9444 - val_accuracy: 0.5556\n",
      "Epoch 12/15\n",
      "105/105 [==============================] - 0s 2ms/sample - loss: 1.3101 - accuracy: 0.4286 - val_loss: 0.9372 - val_accuracy: 0.5556\n",
      "Epoch 13/15\n",
      "105/105 [==============================] - 0s 2ms/sample - loss: 1.2716 - accuracy: 0.4857 - val_loss: 0.9369 - val_accuracy: 0.5556\n",
      "Epoch 14/15\n",
      "105/105 [==============================] - 0s 2ms/sample - loss: 1.3230 - accuracy: 0.4000 - val_loss: 0.9256 - val_accuracy: 0.5556\n",
      "Epoch 15/15\n",
      "105/105 [==============================] - 0s 2ms/sample - loss: 1.3342 - accuracy: 0.4952 - val_loss: 0.9104 - val_accuracy: 0.5556\n",
      "wandb: Agent Finished Run: 5wze2zvn \n",
      "\n",
      "wandb: Agent Starting Run: uzubkvj6 with config:\n",
      "\tbatch_size: 32\n",
      "\tepochs: 15\n",
      "\tlayers: 4\n",
      "wandb: Agent Started Run: uzubkvj6\n"
     ]
    },
    {
     "data": {
      "text/html": [
       "\n",
       "                Logging results to <a href=\"https://wandb.com\" target=\"_blank\">Weights & Biases</a> <a href=\"https://docs.wandb.com/integrations/jupyter.html\" target=\"_blank\">(Documentation)</a>.<br/>\n",
       "                Project page: <a href=\"https://app.wandb.ai/sinisha123/hyperparameter-sweeps-comparison\" target=\"_blank\">https://app.wandb.ai/sinisha123/hyperparameter-sweeps-comparison</a><br/>\n",
       "                Sweep page: <a href=\"https://app.wandb.ai/sinisha123/hyperparameter-sweeps-comparison/sweeps/rda1hnv0\" target=\"_blank\">https://app.wandb.ai/sinisha123/hyperparameter-sweeps-comparison/sweeps/rda1hnv0</a><br/>\n",
       "Run page: <a href=\"https://app.wandb.ai/sinisha123/hyperparameter-sweeps-comparison/runs/uzubkvj6\" target=\"_blank\">https://app.wandb.ai/sinisha123/hyperparameter-sweeps-comparison/runs/uzubkvj6</a><br/>\n",
       "            "
      ],
      "text/plain": [
       "<IPython.core.display.HTML object>"
      ]
     },
     "metadata": {},
     "output_type": "display_data"
    },
    {
     "name": "stdout",
     "output_type": "stream",
     "text": [
      "Train on 105 samples, validate on 45 samples\n",
      "Epoch 1/15\n",
      "105/105 [==============================] - 2s 17ms/sample - loss: 2.9028 - accuracy: 0.3524 - val_loss: 1.6668 - val_accuracy: 0.2889\n",
      "Epoch 2/15\n",
      "105/105 [==============================] - 0s 3ms/sample - loss: 2.0642 - accuracy: 0.4476 - val_loss: 1.4364 - val_accuracy: 0.2889\n",
      "Epoch 3/15\n",
      "105/105 [==============================] - 0s 3ms/sample - loss: 2.2950 - accuracy: 0.3905 - val_loss: 1.2692 - val_accuracy: 0.2889\n",
      "Epoch 4/15\n",
      "105/105 [==============================] - 0s 3ms/sample - loss: 1.9392 - accuracy: 0.4571 - val_loss: 1.1380 - val_accuracy: 0.2889\n",
      "Epoch 5/15\n",
      "105/105 [==============================] - 0s 2ms/sample - loss: 2.3652 - accuracy: 0.2762 - val_loss: 1.0530 - val_accuracy: 0.2889\n",
      "Epoch 6/15\n",
      "105/105 [==============================] - 0s 3ms/sample - loss: 2.3472 - accuracy: 0.3714 - val_loss: 1.0013 - val_accuracy: 0.2889\n",
      "Epoch 7/15\n",
      "105/105 [==============================] - 0s 2ms/sample - loss: 1.7626 - accuracy: 0.3524 - val_loss: 0.9742 - val_accuracy: 0.4000\n",
      "Epoch 8/15\n",
      "105/105 [==============================] - 0s 2ms/sample - loss: 1.6315 - accuracy: 0.4190 - val_loss: 0.9619 - val_accuracy: 0.5556\n",
      "Epoch 9/15\n",
      "105/105 [==============================] - 0s 4ms/sample - loss: 1.9917 - accuracy: 0.3524 - val_loss: 0.9532 - val_accuracy: 0.5556\n",
      "Epoch 10/15\n",
      "105/105 [==============================] - 0s 3ms/sample - loss: 1.4822 - accuracy: 0.4571 - val_loss: 0.9472 - val_accuracy: 0.5556\n",
      "Epoch 11/15\n",
      "105/105 [==============================] - 0s 3ms/sample - loss: 1.4612 - accuracy: 0.3524 - val_loss: 0.9444 - val_accuracy: 0.5556\n",
      "Epoch 12/15\n",
      "105/105 [==============================] - 0s 2ms/sample - loss: 1.3101 - accuracy: 0.4286 - val_loss: 0.9372 - val_accuracy: 0.5556\n",
      "Epoch 13/15\n",
      "105/105 [==============================] - 0s 2ms/sample - loss: 1.2716 - accuracy: 0.4857 - val_loss: 0.9369 - val_accuracy: 0.5556\n",
      "Epoch 14/15\n",
      "105/105 [==============================] - 0s 2ms/sample - loss: 1.3230 - accuracy: 0.4000 - val_loss: 0.9256 - val_accuracy: 0.5556\n",
      "Epoch 15/15\n",
      "105/105 [==============================] - 0s 2ms/sample - loss: 1.3342 - accuracy: 0.4952 - val_loss: 0.9104 - val_accuracy: 0.5556\n",
      "wandb: Agent Finished Run: uzubkvj6 \n",
      "\n",
      "wandb: Agent Starting Run: ihu11hum with config:\n",
      "\tbatch_size: 32\n",
      "\tepochs: 15\n",
      "\tlayers: 4\n",
      "wandb: Agent Started Run: ihu11hum\n"
     ]
    },
    {
     "data": {
      "text/html": [
       "\n",
       "                Logging results to <a href=\"https://wandb.com\" target=\"_blank\">Weights & Biases</a> <a href=\"https://docs.wandb.com/integrations/jupyter.html\" target=\"_blank\">(Documentation)</a>.<br/>\n",
       "                Project page: <a href=\"https://app.wandb.ai/sinisha123/hyperparameter-sweeps-comparison\" target=\"_blank\">https://app.wandb.ai/sinisha123/hyperparameter-sweeps-comparison</a><br/>\n",
       "                Sweep page: <a href=\"https://app.wandb.ai/sinisha123/hyperparameter-sweeps-comparison/sweeps/rda1hnv0\" target=\"_blank\">https://app.wandb.ai/sinisha123/hyperparameter-sweeps-comparison/sweeps/rda1hnv0</a><br/>\n",
       "Run page: <a href=\"https://app.wandb.ai/sinisha123/hyperparameter-sweeps-comparison/runs/ihu11hum\" target=\"_blank\">https://app.wandb.ai/sinisha123/hyperparameter-sweeps-comparison/runs/ihu11hum</a><br/>\n",
       "            "
      ],
      "text/plain": [
       "<IPython.core.display.HTML object>"
      ]
     },
     "metadata": {},
     "output_type": "display_data"
    },
    {
     "name": "stdout",
     "output_type": "stream",
     "text": [
      "Train on 105 samples, validate on 45 samples\n",
      "Epoch 1/15\n",
      "105/105 [==============================] - 1s 10ms/sample - loss: 2.9028 - accuracy: 0.3524 - val_loss: 1.6668 - val_accuracy: 0.2889\n",
      "Epoch 2/15\n",
      "105/105 [==============================] - 0s 2ms/sample - loss: 2.0642 - accuracy: 0.4476 - val_loss: 1.4364 - val_accuracy: 0.2889\n",
      "Epoch 3/15\n",
      "105/105 [==============================] - 0s 2ms/sample - loss: 2.2950 - accuracy: 0.3905 - val_loss: 1.2692 - val_accuracy: 0.2889\n",
      "Epoch 4/15\n",
      "105/105 [==============================] - 0s 3ms/sample - loss: 1.9392 - accuracy: 0.4571 - val_loss: 1.1380 - val_accuracy: 0.2889\n",
      "Epoch 5/15\n",
      "105/105 [==============================] - 0s 2ms/sample - loss: 2.3652 - accuracy: 0.2762 - val_loss: 1.0530 - val_accuracy: 0.2889\n",
      "Epoch 6/15\n",
      "105/105 [==============================] - 0s 2ms/sample - loss: 2.3472 - accuracy: 0.3714 - val_loss: 1.0013 - val_accuracy: 0.2889\n",
      "Epoch 7/15\n",
      "105/105 [==============================] - 0s 2ms/sample - loss: 1.7626 - accuracy: 0.3524 - val_loss: 0.9742 - val_accuracy: 0.4000\n",
      "Epoch 8/15\n",
      "105/105 [==============================] - 0s 2ms/sample - loss: 1.6315 - accuracy: 0.4190 - val_loss: 0.9619 - val_accuracy: 0.5556\n",
      "Epoch 9/15\n",
      "105/105 [==============================] - 0s 2ms/sample - loss: 1.9917 - accuracy: 0.3524 - val_loss: 0.9532 - val_accuracy: 0.5556\n",
      "Epoch 10/15\n",
      "105/105 [==============================] - 0s 2ms/sample - loss: 1.4822 - accuracy: 0.4571 - val_loss: 0.9472 - val_accuracy: 0.5556\n",
      "Epoch 11/15\n",
      "105/105 [==============================] - 0s 2ms/sample - loss: 1.4612 - accuracy: 0.3524 - val_loss: 0.9444 - val_accuracy: 0.5556\n",
      "Epoch 12/15\n",
      "105/105 [==============================] - 0s 2ms/sample - loss: 1.3101 - accuracy: 0.4286 - val_loss: 0.9372 - val_accuracy: 0.5556\n",
      "Epoch 13/15\n",
      "105/105 [==============================] - 0s 3ms/sample - loss: 1.2716 - accuracy: 0.4857 - val_loss: 0.9369 - val_accuracy: 0.5556\n",
      "Epoch 14/15\n",
      "105/105 [==============================] - 0s 2ms/sample - loss: 1.3230 - accuracy: 0.4000 - val_loss: 0.9256 - val_accuracy: 0.5556\n",
      "Epoch 15/15\n",
      "105/105 [==============================] - 0s 2ms/sample - loss: 1.3342 - accuracy: 0.4952 - val_loss: 0.9104 - val_accuracy: 0.5556\n",
      "wandb: Agent Finished Run: ihu11hum \n",
      "\n",
      "wandb: Agent Starting Run: uc4wr545 with config:\n",
      "\tbatch_size: 32\n",
      "\tepochs: 15\n",
      "\tlayers: 4\n",
      "wandb: Agent Started Run: uc4wr545\n"
     ]
    },
    {
     "data": {
      "text/html": [
       "\n",
       "                Logging results to <a href=\"https://wandb.com\" target=\"_blank\">Weights & Biases</a> <a href=\"https://docs.wandb.com/integrations/jupyter.html\" target=\"_blank\">(Documentation)</a>.<br/>\n",
       "                Project page: <a href=\"https://app.wandb.ai/sinisha123/hyperparameter-sweeps-comparison\" target=\"_blank\">https://app.wandb.ai/sinisha123/hyperparameter-sweeps-comparison</a><br/>\n",
       "                Sweep page: <a href=\"https://app.wandb.ai/sinisha123/hyperparameter-sweeps-comparison/sweeps/rda1hnv0\" target=\"_blank\">https://app.wandb.ai/sinisha123/hyperparameter-sweeps-comparison/sweeps/rda1hnv0</a><br/>\n",
       "Run page: <a href=\"https://app.wandb.ai/sinisha123/hyperparameter-sweeps-comparison/runs/uc4wr545\" target=\"_blank\">https://app.wandb.ai/sinisha123/hyperparameter-sweeps-comparison/runs/uc4wr545</a><br/>\n",
       "            "
      ],
      "text/plain": [
       "<IPython.core.display.HTML object>"
      ]
     },
     "metadata": {},
     "output_type": "display_data"
    },
    {
     "name": "stdout",
     "output_type": "stream",
     "text": [
      "Train on 105 samples, validate on 45 samples\n",
      "Epoch 1/15\n",
      "105/105 [==============================] - 1s 10ms/sample - loss: 2.9028 - accuracy: 0.3524 - val_loss: 1.6668 - val_accuracy: 0.2889\n",
      "Epoch 2/15\n",
      "105/105 [==============================] - 0s 2ms/sample - loss: 2.0642 - accuracy: 0.4476 - val_loss: 1.4364 - val_accuracy: 0.2889\n",
      "Epoch 3/15\n",
      "105/105 [==============================] - 0s 2ms/sample - loss: 2.2950 - accuracy: 0.3905 - val_loss: 1.2692 - val_accuracy: 0.2889\n",
      "Epoch 4/15\n",
      "105/105 [==============================] - 0s 2ms/sample - loss: 1.9392 - accuracy: 0.4571 - val_loss: 1.1380 - val_accuracy: 0.2889\n",
      "Epoch 5/15\n",
      "105/105 [==============================] - 0s 2ms/sample - loss: 2.3652 - accuracy: 0.2762 - val_loss: 1.0530 - val_accuracy: 0.2889\n",
      "Epoch 6/15\n",
      "105/105 [==============================] - 0s 2ms/sample - loss: 2.3472 - accuracy: 0.3714 - val_loss: 1.0013 - val_accuracy: 0.2889\n",
      "Epoch 7/15\n",
      "105/105 [==============================] - 0s 2ms/sample - loss: 1.7626 - accuracy: 0.3524 - val_loss: 0.9742 - val_accuracy: 0.4000\n",
      "Epoch 8/15\n",
      "105/105 [==============================] - 0s 2ms/sample - loss: 1.6315 - accuracy: 0.4190 - val_loss: 0.9619 - val_accuracy: 0.5556\n",
      "Epoch 9/15\n",
      "105/105 [==============================] - 0s 2ms/sample - loss: 1.9917 - accuracy: 0.3524 - val_loss: 0.9532 - val_accuracy: 0.5556\n",
      "Epoch 10/15\n",
      "105/105 [==============================] - 0s 2ms/sample - loss: 1.4822 - accuracy: 0.4571 - val_loss: 0.9472 - val_accuracy: 0.5556\n",
      "Epoch 11/15\n",
      "105/105 [==============================] - 0s 2ms/sample - loss: 1.4612 - accuracy: 0.3524 - val_loss: 0.9444 - val_accuracy: 0.5556\n",
      "Epoch 12/15\n",
      "105/105 [==============================] - 0s 2ms/sample - loss: 1.3101 - accuracy: 0.4286 - val_loss: 0.9372 - val_accuracy: 0.5556\n",
      "Epoch 13/15\n",
      "105/105 [==============================] - 0s 2ms/sample - loss: 1.2716 - accuracy: 0.4857 - val_loss: 0.9369 - val_accuracy: 0.5556\n",
      "Epoch 14/15\n",
      "105/105 [==============================] - 0s 2ms/sample - loss: 1.3230 - accuracy: 0.4000 - val_loss: 0.9256 - val_accuracy: 0.5556\n",
      "Epoch 15/15\n",
      "105/105 [==============================] - 0s 2ms/sample - loss: 1.3342 - accuracy: 0.4952 - val_loss: 0.9104 - val_accuracy: 0.5556\n",
      "wandb: Agent Finished Run: uc4wr545 \n",
      "\n",
      "wandb: Agent Starting Run: efask58d with config:\n",
      "\tbatch_size: 32\n",
      "\tepochs: 15\n",
      "\tlayers: 4\n",
      "wandb: Agent Started Run: efask58d\n"
     ]
    },
    {
     "data": {
      "text/html": [
       "\n",
       "                Logging results to <a href=\"https://wandb.com\" target=\"_blank\">Weights & Biases</a> <a href=\"https://docs.wandb.com/integrations/jupyter.html\" target=\"_blank\">(Documentation)</a>.<br/>\n",
       "                Project page: <a href=\"https://app.wandb.ai/sinisha123/hyperparameter-sweeps-comparison\" target=\"_blank\">https://app.wandb.ai/sinisha123/hyperparameter-sweeps-comparison</a><br/>\n",
       "                Sweep page: <a href=\"https://app.wandb.ai/sinisha123/hyperparameter-sweeps-comparison/sweeps/rda1hnv0\" target=\"_blank\">https://app.wandb.ai/sinisha123/hyperparameter-sweeps-comparison/sweeps/rda1hnv0</a><br/>\n",
       "Run page: <a href=\"https://app.wandb.ai/sinisha123/hyperparameter-sweeps-comparison/runs/efask58d\" target=\"_blank\">https://app.wandb.ai/sinisha123/hyperparameter-sweeps-comparison/runs/efask58d</a><br/>\n",
       "            "
      ],
      "text/plain": [
       "<IPython.core.display.HTML object>"
      ]
     },
     "metadata": {},
     "output_type": "display_data"
    },
    {
     "name": "stdout",
     "output_type": "stream",
     "text": [
      "Train on 105 samples, validate on 45 samples\n",
      "Epoch 1/15\n",
      "105/105 [==============================] - 1s 10ms/sample - loss: 2.9028 - accuracy: 0.3524 - val_loss: 1.6668 - val_accuracy: 0.2889\n",
      "Epoch 2/15\n",
      "105/105 [==============================] - 0s 3ms/sample - loss: 2.0642 - accuracy: 0.4476 - val_loss: 1.4364 - val_accuracy: 0.2889\n",
      "Epoch 3/15\n",
      "105/105 [==============================] - 0s 2ms/sample - loss: 2.2950 - accuracy: 0.3905 - val_loss: 1.2692 - val_accuracy: 0.2889\n",
      "Epoch 4/15\n",
      "105/105 [==============================] - 0s 2ms/sample - loss: 1.9392 - accuracy: 0.4571 - val_loss: 1.1380 - val_accuracy: 0.2889\n",
      "Epoch 5/15\n",
      "105/105 [==============================] - 0s 2ms/sample - loss: 2.3652 - accuracy: 0.2762 - val_loss: 1.0530 - val_accuracy: 0.2889\n",
      "Epoch 6/15\n",
      "105/105 [==============================] - 0s 2ms/sample - loss: 2.3472 - accuracy: 0.3714 - val_loss: 1.0013 - val_accuracy: 0.2889\n",
      "Epoch 7/15\n",
      "105/105 [==============================] - 0s 2ms/sample - loss: 1.7626 - accuracy: 0.3524 - val_loss: 0.9742 - val_accuracy: 0.4000\n",
      "Epoch 8/15\n",
      "105/105 [==============================] - 0s 2ms/sample - loss: 1.6315 - accuracy: 0.4190 - val_loss: 0.9619 - val_accuracy: 0.5556\n",
      "Epoch 9/15\n",
      "105/105 [==============================] - 0s 2ms/sample - loss: 1.9917 - accuracy: 0.3524 - val_loss: 0.9532 - val_accuracy: 0.5556\n",
      "Epoch 10/15\n",
      "105/105 [==============================] - 0s 2ms/sample - loss: 1.4822 - accuracy: 0.4571 - val_loss: 0.9472 - val_accuracy: 0.5556\n",
      "Epoch 11/15\n",
      "105/105 [==============================] - 0s 3ms/sample - loss: 1.4612 - accuracy: 0.3524 - val_loss: 0.9444 - val_accuracy: 0.5556\n",
      "Epoch 12/15\n",
      "105/105 [==============================] - 0s 2ms/sample - loss: 1.3101 - accuracy: 0.4286 - val_loss: 0.9372 - val_accuracy: 0.5556\n",
      "Epoch 13/15\n",
      "105/105 [==============================] - 0s 2ms/sample - loss: 1.2716 - accuracy: 0.4857 - val_loss: 0.9369 - val_accuracy: 0.5556\n",
      "Epoch 14/15\n",
      "105/105 [==============================] - 0s 2ms/sample - loss: 1.3230 - accuracy: 0.4000 - val_loss: 0.9256 - val_accuracy: 0.5556\n",
      "Epoch 15/15\n",
      "105/105 [==============================] - 0s 2ms/sample - loss: 1.3342 - accuracy: 0.4952 - val_loss: 0.9104 - val_accuracy: 0.5556\n",
      "wandb: Agent Finished Run: efask58d \n",
      "\n",
      "wandb: Agent Starting Run: v694jr3h with config:\n",
      "\tbatch_size: 32\n",
      "\tepochs: 15\n",
      "\tlayers: 4\n",
      "wandb: Agent Started Run: v694jr3h\n"
     ]
    },
    {
     "data": {
      "text/html": [
       "\n",
       "                Logging results to <a href=\"https://wandb.com\" target=\"_blank\">Weights & Biases</a> <a href=\"https://docs.wandb.com/integrations/jupyter.html\" target=\"_blank\">(Documentation)</a>.<br/>\n",
       "                Project page: <a href=\"https://app.wandb.ai/sinisha123/hyperparameter-sweeps-comparison\" target=\"_blank\">https://app.wandb.ai/sinisha123/hyperparameter-sweeps-comparison</a><br/>\n",
       "                Sweep page: <a href=\"https://app.wandb.ai/sinisha123/hyperparameter-sweeps-comparison/sweeps/rda1hnv0\" target=\"_blank\">https://app.wandb.ai/sinisha123/hyperparameter-sweeps-comparison/sweeps/rda1hnv0</a><br/>\n",
       "Run page: <a href=\"https://app.wandb.ai/sinisha123/hyperparameter-sweeps-comparison/runs/v694jr3h\" target=\"_blank\">https://app.wandb.ai/sinisha123/hyperparameter-sweeps-comparison/runs/v694jr3h</a><br/>\n",
       "            "
      ],
      "text/plain": [
       "<IPython.core.display.HTML object>"
      ]
     },
     "metadata": {},
     "output_type": "display_data"
    },
    {
     "name": "stdout",
     "output_type": "stream",
     "text": [
      "Train on 105 samples, validate on 45 samples\n",
      "Epoch 1/15\n",
      "105/105 [==============================] - 1s 9ms/sample - loss: 2.9028 - accuracy: 0.3524 - val_loss: 1.6668 - val_accuracy: 0.2889\n",
      "Epoch 2/15\n",
      "105/105 [==============================] - 0s 2ms/sample - loss: 2.0642 - accuracy: 0.4476 - val_loss: 1.4364 - val_accuracy: 0.2889\n",
      "Epoch 3/15\n",
      "105/105 [==============================] - 0s 2ms/sample - loss: 2.2950 - accuracy: 0.3905 - val_loss: 1.2692 - val_accuracy: 0.2889\n",
      "Epoch 4/15\n",
      "105/105 [==============================] - 0s 2ms/sample - loss: 1.9392 - accuracy: 0.4571 - val_loss: 1.1380 - val_accuracy: 0.2889\n",
      "Epoch 5/15\n",
      "105/105 [==============================] - 0s 2ms/sample - loss: 2.3652 - accuracy: 0.2762 - val_loss: 1.0530 - val_accuracy: 0.2889\n",
      "Epoch 6/15\n",
      "105/105 [==============================] - 0s 2ms/sample - loss: 2.3472 - accuracy: 0.3714 - val_loss: 1.0013 - val_accuracy: 0.2889\n",
      "Epoch 7/15\n",
      "105/105 [==============================] - 0s 2ms/sample - loss: 1.7626 - accuracy: 0.3524 - val_loss: 0.9742 - val_accuracy: 0.4000\n",
      "Epoch 8/15\n",
      "105/105 [==============================] - 0s 2ms/sample - loss: 1.6315 - accuracy: 0.4190 - val_loss: 0.9619 - val_accuracy: 0.5556\n",
      "Epoch 9/15\n",
      "105/105 [==============================] - 0s 2ms/sample - loss: 1.9917 - accuracy: 0.3524 - val_loss: 0.9532 - val_accuracy: 0.5556\n",
      "Epoch 10/15\n",
      "105/105 [==============================] - 0s 2ms/sample - loss: 1.4822 - accuracy: 0.4571 - val_loss: 0.9472 - val_accuracy: 0.5556\n",
      "Epoch 11/15\n",
      "105/105 [==============================] - 0s 2ms/sample - loss: 1.4612 - accuracy: 0.3524 - val_loss: 0.9444 - val_accuracy: 0.5556\n",
      "Epoch 12/15\n",
      "105/105 [==============================] - 0s 2ms/sample - loss: 1.3101 - accuracy: 0.4286 - val_loss: 0.9372 - val_accuracy: 0.5556\n",
      "Epoch 13/15\n",
      "105/105 [==============================] - 0s 2ms/sample - loss: 1.2716 - accuracy: 0.4857 - val_loss: 0.9369 - val_accuracy: 0.5556\n",
      "Epoch 14/15\n",
      "105/105 [==============================] - 0s 3ms/sample - loss: 1.3230 - accuracy: 0.4000 - val_loss: 0.9256 - val_accuracy: 0.5556\n",
      "Epoch 15/15\n",
      "105/105 [==============================] - 0s 2ms/sample - loss: 1.3342 - accuracy: 0.4952 - val_loss: 0.9104 - val_accuracy: 0.5556\n",
      "wandb: Agent Finished Run: v694jr3h \n",
      "\n",
      "wandb: Agent Starting Run: lizc6tp5 with config:\n",
      "\tbatch_size: 32\n",
      "\tepochs: 15\n",
      "\tlayers: 4\n",
      "wandb: Agent Started Run: lizc6tp5\n"
     ]
    },
    {
     "data": {
      "text/html": [
       "\n",
       "                Logging results to <a href=\"https://wandb.com\" target=\"_blank\">Weights & Biases</a> <a href=\"https://docs.wandb.com/integrations/jupyter.html\" target=\"_blank\">(Documentation)</a>.<br/>\n",
       "                Project page: <a href=\"https://app.wandb.ai/sinisha123/hyperparameter-sweeps-comparison\" target=\"_blank\">https://app.wandb.ai/sinisha123/hyperparameter-sweeps-comparison</a><br/>\n",
       "                Sweep page: <a href=\"https://app.wandb.ai/sinisha123/hyperparameter-sweeps-comparison/sweeps/rda1hnv0\" target=\"_blank\">https://app.wandb.ai/sinisha123/hyperparameter-sweeps-comparison/sweeps/rda1hnv0</a><br/>\n",
       "Run page: <a href=\"https://app.wandb.ai/sinisha123/hyperparameter-sweeps-comparison/runs/lizc6tp5\" target=\"_blank\">https://app.wandb.ai/sinisha123/hyperparameter-sweeps-comparison/runs/lizc6tp5</a><br/>\n",
       "            "
      ],
      "text/plain": [
       "<IPython.core.display.HTML object>"
      ]
     },
     "metadata": {},
     "output_type": "display_data"
    },
    {
     "name": "stdout",
     "output_type": "stream",
     "text": [
      "Train on 105 samples, validate on 45 samples\n",
      "Epoch 1/15\n",
      "105/105 [==============================] - 1s 10ms/sample - loss: 2.9028 - accuracy: 0.3524 - val_loss: 1.6668 - val_accuracy: 0.2889\n",
      "Epoch 2/15\n",
      "105/105 [==============================] - 0s 2ms/sample - loss: 2.0642 - accuracy: 0.4476 - val_loss: 1.4364 - val_accuracy: 0.2889\n",
      "Epoch 3/15\n",
      "105/105 [==============================] - 0s 2ms/sample - loss: 2.2950 - accuracy: 0.3905 - val_loss: 1.2692 - val_accuracy: 0.2889\n",
      "Epoch 4/15\n",
      "105/105 [==============================] - 0s 2ms/sample - loss: 1.9392 - accuracy: 0.4571 - val_loss: 1.1380 - val_accuracy: 0.2889\n",
      "Epoch 5/15\n",
      "105/105 [==============================] - 0s 2ms/sample - loss: 2.3652 - accuracy: 0.2762 - val_loss: 1.0530 - val_accuracy: 0.2889\n",
      "Epoch 6/15\n",
      "105/105 [==============================] - 0s 2ms/sample - loss: 2.3472 - accuracy: 0.3714 - val_loss: 1.0013 - val_accuracy: 0.2889\n",
      "Epoch 7/15\n",
      "105/105 [==============================] - 0s 2ms/sample - loss: 1.7626 - accuracy: 0.3524 - val_loss: 0.9742 - val_accuracy: 0.4000\n",
      "Epoch 8/15\n",
      "105/105 [==============================] - 0s 2ms/sample - loss: 1.6315 - accuracy: 0.4190 - val_loss: 0.9619 - val_accuracy: 0.5556\n",
      "Epoch 9/15\n",
      "105/105 [==============================] - 0s 2ms/sample - loss: 1.9917 - accuracy: 0.3524 - val_loss: 0.9532 - val_accuracy: 0.5556\n",
      "Epoch 10/15\n",
      "105/105 [==============================] - 0s 2ms/sample - loss: 1.4822 - accuracy: 0.4571 - val_loss: 0.9472 - val_accuracy: 0.5556\n",
      "Epoch 11/15\n",
      "105/105 [==============================] - 0s 2ms/sample - loss: 1.4612 - accuracy: 0.3524 - val_loss: 0.9444 - val_accuracy: 0.5556\n",
      "Epoch 12/15\n",
      "105/105 [==============================] - 0s 2ms/sample - loss: 1.3101 - accuracy: 0.4286 - val_loss: 0.9372 - val_accuracy: 0.5556\n",
      "Epoch 13/15\n",
      "105/105 [==============================] - 0s 3ms/sample - loss: 1.2716 - accuracy: 0.4857 - val_loss: 0.9369 - val_accuracy: 0.5556\n",
      "Epoch 14/15\n",
      "105/105 [==============================] - 0s 2ms/sample - loss: 1.3230 - accuracy: 0.4000 - val_loss: 0.9256 - val_accuracy: 0.5556\n",
      "Epoch 15/15\n",
      "105/105 [==============================] - 0s 2ms/sample - loss: 1.3342 - accuracy: 0.4952 - val_loss: 0.9104 - val_accuracy: 0.5556\n",
      "wandb: Agent Finished Run: lizc6tp5 \n",
      "\n",
      "wandb: Agent Starting Run: jare4mp1 with config:\n",
      "\tbatch_size: 32\n",
      "\tepochs: 15\n",
      "\tlayers: 4\n",
      "wandb: Agent Started Run: jare4mp1\n"
     ]
    },
    {
     "data": {
      "text/html": [
       "\n",
       "                Logging results to <a href=\"https://wandb.com\" target=\"_blank\">Weights & Biases</a> <a href=\"https://docs.wandb.com/integrations/jupyter.html\" target=\"_blank\">(Documentation)</a>.<br/>\n",
       "                Project page: <a href=\"https://app.wandb.ai/sinisha123/hyperparameter-sweeps-comparison\" target=\"_blank\">https://app.wandb.ai/sinisha123/hyperparameter-sweeps-comparison</a><br/>\n",
       "                Sweep page: <a href=\"https://app.wandb.ai/sinisha123/hyperparameter-sweeps-comparison/sweeps/rda1hnv0\" target=\"_blank\">https://app.wandb.ai/sinisha123/hyperparameter-sweeps-comparison/sweeps/rda1hnv0</a><br/>\n",
       "Run page: <a href=\"https://app.wandb.ai/sinisha123/hyperparameter-sweeps-comparison/runs/jare4mp1\" target=\"_blank\">https://app.wandb.ai/sinisha123/hyperparameter-sweeps-comparison/runs/jare4mp1</a><br/>\n",
       "            "
      ],
      "text/plain": [
       "<IPython.core.display.HTML object>"
      ]
     },
     "metadata": {},
     "output_type": "display_data"
    },
    {
     "name": "stdout",
     "output_type": "stream",
     "text": [
      "Train on 105 samples, validate on 45 samples\n",
      "Epoch 1/15\n",
      "105/105 [==============================] - 1s 10ms/sample - loss: 2.9028 - accuracy: 0.3524 - val_loss: 1.6668 - val_accuracy: 0.2889\n",
      "Epoch 2/15\n",
      "105/105 [==============================] - 0s 2ms/sample - loss: 2.0642 - accuracy: 0.4476 - val_loss: 1.4364 - val_accuracy: 0.2889\n",
      "Epoch 3/15\n",
      "105/105 [==============================] - 0s 2ms/sample - loss: 2.2950 - accuracy: 0.3905 - val_loss: 1.2692 - val_accuracy: 0.2889\n",
      "Epoch 4/15\n",
      "105/105 [==============================] - 0s 2ms/sample - loss: 1.9392 - accuracy: 0.4571 - val_loss: 1.1380 - val_accuracy: 0.2889\n",
      "Epoch 5/15\n",
      "105/105 [==============================] - 0s 2ms/sample - loss: 2.3652 - accuracy: 0.2762 - val_loss: 1.0530 - val_accuracy: 0.2889\n",
      "Epoch 6/15\n",
      "105/105 [==============================] - 0s 2ms/sample - loss: 2.3472 - accuracy: 0.3714 - val_loss: 1.0013 - val_accuracy: 0.2889\n",
      "Epoch 7/15\n",
      "105/105 [==============================] - 0s 2ms/sample - loss: 1.7626 - accuracy: 0.3524 - val_loss: 0.9742 - val_accuracy: 0.4000\n",
      "Epoch 8/15\n",
      "105/105 [==============================] - 0s 2ms/sample - loss: 1.6315 - accuracy: 0.4190 - val_loss: 0.9619 - val_accuracy: 0.5556\n",
      "Epoch 9/15\n",
      "105/105 [==============================] - 0s 2ms/sample - loss: 1.9917 - accuracy: 0.3524 - val_loss: 0.9532 - val_accuracy: 0.5556\n",
      "Epoch 10/15\n",
      "105/105 [==============================] - 0s 2ms/sample - loss: 1.4822 - accuracy: 0.4571 - val_loss: 0.9472 - val_accuracy: 0.5556\n",
      "Epoch 11/15\n",
      "105/105 [==============================] - 0s 2ms/sample - loss: 1.4612 - accuracy: 0.3524 - val_loss: 0.9444 - val_accuracy: 0.5556\n",
      "Epoch 12/15\n",
      "105/105 [==============================] - 0s 2ms/sample - loss: 1.3101 - accuracy: 0.4286 - val_loss: 0.9372 - val_accuracy: 0.5556\n",
      "Epoch 13/15\n",
      "105/105 [==============================] - 0s 3ms/sample - loss: 1.2716 - accuracy: 0.4857 - val_loss: 0.9369 - val_accuracy: 0.5556\n",
      "Epoch 14/15\n",
      "105/105 [==============================] - 0s 2ms/sample - loss: 1.3230 - accuracy: 0.4000 - val_loss: 0.9256 - val_accuracy: 0.5556\n",
      "Epoch 15/15\n",
      "105/105 [==============================] - 0s 2ms/sample - loss: 1.3342 - accuracy: 0.4952 - val_loss: 0.9104 - val_accuracy: 0.5556\n",
      "wandb: Agent Finished Run: jare4mp1 \n",
      "\n"
     ]
    },
    {
     "name": "stderr",
     "output_type": "stream",
     "text": [
      "wandb: Network error resolved after 0:00:16.628748, resuming normal operation.\n"
     ]
    },
    {
     "name": "stdout",
     "output_type": "stream",
     "text": [
      "wandb: Agent Starting Run: utc0mroy with config:\n",
      "\tbatch_size: 32\n",
      "\tepochs: 15\n",
      "\tlayers: 4\n",
      "wandb: Agent Started Run: utc0mroy\n"
     ]
    },
    {
     "data": {
      "text/html": [
       "\n",
       "                Logging results to <a href=\"https://wandb.com\" target=\"_blank\">Weights & Biases</a> <a href=\"https://docs.wandb.com/integrations/jupyter.html\" target=\"_blank\">(Documentation)</a>.<br/>\n",
       "                Project page: <a href=\"https://app.wandb.ai/sinisha123/hyperparameter-sweeps-comparison\" target=\"_blank\">https://app.wandb.ai/sinisha123/hyperparameter-sweeps-comparison</a><br/>\n",
       "                Sweep page: <a href=\"https://app.wandb.ai/sinisha123/hyperparameter-sweeps-comparison/sweeps/rda1hnv0\" target=\"_blank\">https://app.wandb.ai/sinisha123/hyperparameter-sweeps-comparison/sweeps/rda1hnv0</a><br/>\n",
       "Run page: <a href=\"https://app.wandb.ai/sinisha123/hyperparameter-sweeps-comparison/runs/utc0mroy\" target=\"_blank\">https://app.wandb.ai/sinisha123/hyperparameter-sweeps-comparison/runs/utc0mroy</a><br/>\n",
       "            "
      ],
      "text/plain": [
       "<IPython.core.display.HTML object>"
      ]
     },
     "metadata": {},
     "output_type": "display_data"
    },
    {
     "name": "stdout",
     "output_type": "stream",
     "text": [
      "Train on 105 samples, validate on 45 samples\n",
      "Epoch 1/15\n",
      "105/105 [==============================] - 1s 10ms/sample - loss: 2.9028 - accuracy: 0.3524 - val_loss: 1.6668 - val_accuracy: 0.2889\n",
      "Epoch 2/15\n",
      "105/105 [==============================] - 0s 2ms/sample - loss: 2.0642 - accuracy: 0.4476 - val_loss: 1.4364 - val_accuracy: 0.2889\n",
      "Epoch 3/15\n",
      "105/105 [==============================] - 0s 2ms/sample - loss: 2.2950 - accuracy: 0.3905 - val_loss: 1.2692 - val_accuracy: 0.2889\n",
      "Epoch 4/15\n",
      "105/105 [==============================] - 0s 2ms/sample - loss: 1.9392 - accuracy: 0.4571 - val_loss: 1.1380 - val_accuracy: 0.2889\n",
      "Epoch 5/15\n",
      "105/105 [==============================] - 0s 2ms/sample - loss: 2.3652 - accuracy: 0.2762 - val_loss: 1.0530 - val_accuracy: 0.2889\n",
      "Epoch 6/15\n",
      "105/105 [==============================] - 0s 2ms/sample - loss: 2.3472 - accuracy: 0.3714 - val_loss: 1.0013 - val_accuracy: 0.2889\n",
      "Epoch 7/15\n",
      "105/105 [==============================] - 0s 2ms/sample - loss: 1.7626 - accuracy: 0.3524 - val_loss: 0.9742 - val_accuracy: 0.4000\n",
      "Epoch 8/15\n",
      "105/105 [==============================] - 0s 2ms/sample - loss: 1.6315 - accuracy: 0.4190 - val_loss: 0.9619 - val_accuracy: 0.5556\n",
      "Epoch 9/15\n",
      "105/105 [==============================] - 0s 2ms/sample - loss: 1.9917 - accuracy: 0.3524 - val_loss: 0.9532 - val_accuracy: 0.5556\n",
      "Epoch 10/15\n",
      "105/105 [==============================] - 0s 3ms/sample - loss: 1.4822 - accuracy: 0.4571 - val_loss: 0.9472 - val_accuracy: 0.5556\n",
      "Epoch 11/15\n",
      "105/105 [==============================] - 0s 2ms/sample - loss: 1.4612 - accuracy: 0.3524 - val_loss: 0.9444 - val_accuracy: 0.5556\n",
      "Epoch 12/15\n",
      "105/105 [==============================] - 0s 2ms/sample - loss: 1.3101 - accuracy: 0.4286 - val_loss: 0.9372 - val_accuracy: 0.5556\n",
      "Epoch 13/15\n",
      "105/105 [==============================] - 0s 2ms/sample - loss: 1.2716 - accuracy: 0.4857 - val_loss: 0.9369 - val_accuracy: 0.5556\n",
      "Epoch 14/15\n",
      "105/105 [==============================] - 0s 2ms/sample - loss: 1.3230 - accuracy: 0.4000 - val_loss: 0.9256 - val_accuracy: 0.5556\n",
      "Epoch 15/15\n",
      "105/105 [==============================] - 0s 2ms/sample - loss: 1.3342 - accuracy: 0.4952 - val_loss: 0.9104 - val_accuracy: 0.5556\n",
      "wandb: Agent Finished Run: utc0mroy \n",
      "\n",
      "wandb: Agent Starting Run: njkvmcg3 with config:\n",
      "\tbatch_size: 32\n",
      "\tepochs: 15\n",
      "\tlayers: 4\n",
      "wandb: Agent Started Run: njkvmcg3\n"
     ]
    },
    {
     "data": {
      "text/html": [
       "\n",
       "                Logging results to <a href=\"https://wandb.com\" target=\"_blank\">Weights & Biases</a> <a href=\"https://docs.wandb.com/integrations/jupyter.html\" target=\"_blank\">(Documentation)</a>.<br/>\n",
       "                Project page: <a href=\"https://app.wandb.ai/sinisha123/hyperparameter-sweeps-comparison\" target=\"_blank\">https://app.wandb.ai/sinisha123/hyperparameter-sweeps-comparison</a><br/>\n",
       "                Sweep page: <a href=\"https://app.wandb.ai/sinisha123/hyperparameter-sweeps-comparison/sweeps/rda1hnv0\" target=\"_blank\">https://app.wandb.ai/sinisha123/hyperparameter-sweeps-comparison/sweeps/rda1hnv0</a><br/>\n",
       "Run page: <a href=\"https://app.wandb.ai/sinisha123/hyperparameter-sweeps-comparison/runs/njkvmcg3\" target=\"_blank\">https://app.wandb.ai/sinisha123/hyperparameter-sweeps-comparison/runs/njkvmcg3</a><br/>\n",
       "            "
      ],
      "text/plain": [
       "<IPython.core.display.HTML object>"
      ]
     },
     "metadata": {},
     "output_type": "display_data"
    },
    {
     "name": "stdout",
     "output_type": "stream",
     "text": [
      "Train on 105 samples, validate on 45 samples\n",
      "Epoch 1/15\n",
      "105/105 [==============================] - 1s 10ms/sample - loss: 2.9028 - accuracy: 0.3524 - val_loss: 1.6668 - val_accuracy: 0.2889\n",
      "Epoch 2/15\n",
      "105/105 [==============================] - 0s 2ms/sample - loss: 2.0642 - accuracy: 0.4476 - val_loss: 1.4364 - val_accuracy: 0.2889\n",
      "Epoch 3/15\n",
      "105/105 [==============================] - 0s 2ms/sample - loss: 2.2950 - accuracy: 0.3905 - val_loss: 1.2692 - val_accuracy: 0.2889\n",
      "Epoch 4/15\n",
      "105/105 [==============================] - 0s 2ms/sample - loss: 1.9392 - accuracy: 0.4571 - val_loss: 1.1380 - val_accuracy: 0.2889\n",
      "Epoch 5/15\n",
      "105/105 [==============================] - 0s 2ms/sample - loss: 2.3652 - accuracy: 0.2762 - val_loss: 1.0530 - val_accuracy: 0.2889\n",
      "Epoch 6/15\n",
      "105/105 [==============================] - 0s 2ms/sample - loss: 2.3472 - accuracy: 0.3714 - val_loss: 1.0013 - val_accuracy: 0.2889\n",
      "Epoch 7/15\n",
      "105/105 [==============================] - 0s 2ms/sample - loss: 1.7626 - accuracy: 0.3524 - val_loss: 0.9742 - val_accuracy: 0.4000\n",
      "Epoch 8/15\n",
      "105/105 [==============================] - 0s 2ms/sample - loss: 1.6315 - accuracy: 0.4190 - val_loss: 0.9619 - val_accuracy: 0.5556\n",
      "Epoch 9/15\n",
      "105/105 [==============================] - 0s 2ms/sample - loss: 1.9917 - accuracy: 0.3524 - val_loss: 0.9532 - val_accuracy: 0.5556\n",
      "Epoch 10/15\n",
      "105/105 [==============================] - 0s 2ms/sample - loss: 1.4822 - accuracy: 0.4571 - val_loss: 0.9472 - val_accuracy: 0.5556\n",
      "Epoch 11/15\n",
      "105/105 [==============================] - 0s 2ms/sample - loss: 1.4612 - accuracy: 0.3524 - val_loss: 0.9444 - val_accuracy: 0.5556\n",
      "Epoch 12/15\n",
      "105/105 [==============================] - 0s 2ms/sample - loss: 1.3101 - accuracy: 0.4286 - val_loss: 0.9372 - val_accuracy: 0.5556\n",
      "Epoch 13/15\n",
      "105/105 [==============================] - 0s 3ms/sample - loss: 1.2716 - accuracy: 0.4857 - val_loss: 0.9369 - val_accuracy: 0.5556\n",
      "Epoch 14/15\n",
      "105/105 [==============================] - 0s 2ms/sample - loss: 1.3230 - accuracy: 0.4000 - val_loss: 0.9256 - val_accuracy: 0.5556\n",
      "Epoch 15/15\n",
      "105/105 [==============================] - 0s 2ms/sample - loss: 1.3342 - accuracy: 0.4952 - val_loss: 0.9104 - val_accuracy: 0.5556\n",
      "wandb: Agent Finished Run: njkvmcg3 \n",
      "\n",
      "wandb: Agent Starting Run: huiz5cwz with config:\n",
      "\tbatch_size: 32\n",
      "\tepochs: 15\n",
      "\tlayers: 4\n",
      "wandb: Agent Started Run: huiz5cwz\n"
     ]
    },
    {
     "data": {
      "text/html": [
       "\n",
       "                Logging results to <a href=\"https://wandb.com\" target=\"_blank\">Weights & Biases</a> <a href=\"https://docs.wandb.com/integrations/jupyter.html\" target=\"_blank\">(Documentation)</a>.<br/>\n",
       "                Project page: <a href=\"https://app.wandb.ai/sinisha123/hyperparameter-sweeps-comparison\" target=\"_blank\">https://app.wandb.ai/sinisha123/hyperparameter-sweeps-comparison</a><br/>\n",
       "                Sweep page: <a href=\"https://app.wandb.ai/sinisha123/hyperparameter-sweeps-comparison/sweeps/rda1hnv0\" target=\"_blank\">https://app.wandb.ai/sinisha123/hyperparameter-sweeps-comparison/sweeps/rda1hnv0</a><br/>\n",
       "Run page: <a href=\"https://app.wandb.ai/sinisha123/hyperparameter-sweeps-comparison/runs/huiz5cwz\" target=\"_blank\">https://app.wandb.ai/sinisha123/hyperparameter-sweeps-comparison/runs/huiz5cwz</a><br/>\n",
       "            "
      ],
      "text/plain": [
       "<IPython.core.display.HTML object>"
      ]
     },
     "metadata": {},
     "output_type": "display_data"
    },
    {
     "name": "stdout",
     "output_type": "stream",
     "text": [
      "Train on 105 samples, validate on 45 samples\n",
      "Epoch 1/15\n",
      "105/105 [==============================] - 1s 10ms/sample - loss: 2.9028 - accuracy: 0.3524 - val_loss: 1.6668 - val_accuracy: 0.2889\n",
      "Epoch 2/15\n",
      "105/105 [==============================] - 0s 2ms/sample - loss: 2.0642 - accuracy: 0.4476 - val_loss: 1.4364 - val_accuracy: 0.2889\n",
      "Epoch 3/15\n",
      "105/105 [==============================] - 0s 2ms/sample - loss: 2.2950 - accuracy: 0.3905 - val_loss: 1.2692 - val_accuracy: 0.2889\n",
      "Epoch 4/15\n",
      "105/105 [==============================] - 0s 2ms/sample - loss: 1.9392 - accuracy: 0.4571 - val_loss: 1.1380 - val_accuracy: 0.2889\n",
      "Epoch 5/15\n",
      "105/105 [==============================] - 0s 2ms/sample - loss: 2.3652 - accuracy: 0.2762 - val_loss: 1.0530 - val_accuracy: 0.2889\n",
      "Epoch 6/15\n",
      "105/105 [==============================] - 0s 2ms/sample - loss: 2.3472 - accuracy: 0.3714 - val_loss: 1.0013 - val_accuracy: 0.2889\n",
      "Epoch 7/15\n",
      "105/105 [==============================] - 0s 2ms/sample - loss: 1.7626 - accuracy: 0.3524 - val_loss: 0.9742 - val_accuracy: 0.4000\n",
      "Epoch 8/15\n",
      "105/105 [==============================] - 0s 2ms/sample - loss: 1.6315 - accuracy: 0.4190 - val_loss: 0.9619 - val_accuracy: 0.5556\n",
      "Epoch 9/15\n",
      "105/105 [==============================] - 0s 2ms/sample - loss: 1.9917 - accuracy: 0.3524 - val_loss: 0.9532 - val_accuracy: 0.5556\n",
      "Epoch 10/15\n",
      "105/105 [==============================] - 0s 2ms/sample - loss: 1.4822 - accuracy: 0.4571 - val_loss: 0.9472 - val_accuracy: 0.5556\n",
      "Epoch 11/15\n",
      "105/105 [==============================] - 0s 2ms/sample - loss: 1.4612 - accuracy: 0.3524 - val_loss: 0.9444 - val_accuracy: 0.5556\n",
      "Epoch 12/15\n",
      "105/105 [==============================] - 0s 2ms/sample - loss: 1.3101 - accuracy: 0.4286 - val_loss: 0.9372 - val_accuracy: 0.5556\n",
      "Epoch 13/15\n",
      "105/105 [==============================] - 0s 2ms/sample - loss: 1.2716 - accuracy: 0.4857 - val_loss: 0.9369 - val_accuracy: 0.5556\n",
      "Epoch 14/15\n",
      "105/105 [==============================] - 0s 2ms/sample - loss: 1.3230 - accuracy: 0.4000 - val_loss: 0.9256 - val_accuracy: 0.5556\n",
      "Epoch 15/15\n",
      "105/105 [==============================] - 0s 3ms/sample - loss: 1.3342 - accuracy: 0.4952 - val_loss: 0.9104 - val_accuracy: 0.5556\n",
      "wandb: Agent Finished Run: huiz5cwz \n",
      "\n",
      "wandb: Agent Starting Run: 53tcwzca with config:\n",
      "\tbatch_size: 32\n",
      "\tepochs: 15\n",
      "\tlayers: 4\n",
      "wandb: Agent Started Run: 53tcwzca\n"
     ]
    },
    {
     "data": {
      "text/html": [
       "\n",
       "                Logging results to <a href=\"https://wandb.com\" target=\"_blank\">Weights & Biases</a> <a href=\"https://docs.wandb.com/integrations/jupyter.html\" target=\"_blank\">(Documentation)</a>.<br/>\n",
       "                Project page: <a href=\"https://app.wandb.ai/sinisha123/hyperparameter-sweeps-comparison\" target=\"_blank\">https://app.wandb.ai/sinisha123/hyperparameter-sweeps-comparison</a><br/>\n",
       "                Sweep page: <a href=\"https://app.wandb.ai/sinisha123/hyperparameter-sweeps-comparison/sweeps/rda1hnv0\" target=\"_blank\">https://app.wandb.ai/sinisha123/hyperparameter-sweeps-comparison/sweeps/rda1hnv0</a><br/>\n",
       "Run page: <a href=\"https://app.wandb.ai/sinisha123/hyperparameter-sweeps-comparison/runs/53tcwzca\" target=\"_blank\">https://app.wandb.ai/sinisha123/hyperparameter-sweeps-comparison/runs/53tcwzca</a><br/>\n",
       "            "
      ],
      "text/plain": [
       "<IPython.core.display.HTML object>"
      ]
     },
     "metadata": {},
     "output_type": "display_data"
    },
    {
     "name": "stdout",
     "output_type": "stream",
     "text": [
      "Train on 105 samples, validate on 45 samples\n",
      "Epoch 1/15\n",
      "105/105 [==============================] - 1s 11ms/sample - loss: 2.9028 - accuracy: 0.3524 - val_loss: 1.6668 - val_accuracy: 0.2889\n",
      "Epoch 2/15\n",
      "105/105 [==============================] - 0s 2ms/sample - loss: 2.0642 - accuracy: 0.4476 - val_loss: 1.4364 - val_accuracy: 0.2889\n",
      "Epoch 3/15\n",
      "105/105 [==============================] - 0s 2ms/sample - loss: 2.2950 - accuracy: 0.3905 - val_loss: 1.2692 - val_accuracy: 0.2889\n",
      "Epoch 4/15\n",
      "105/105 [==============================] - 0s 2ms/sample - loss: 1.9392 - accuracy: 0.4571 - val_loss: 1.1380 - val_accuracy: 0.2889\n",
      "Epoch 5/15\n",
      "105/105 [==============================] - 0s 2ms/sample - loss: 2.3652 - accuracy: 0.2762 - val_loss: 1.0530 - val_accuracy: 0.2889\n",
      "Epoch 6/15\n",
      "105/105 [==============================] - 0s 2ms/sample - loss: 2.3472 - accuracy: 0.3714 - val_loss: 1.0013 - val_accuracy: 0.2889\n",
      "Epoch 7/15\n",
      "105/105 [==============================] - 0s 2ms/sample - loss: 1.7626 - accuracy: 0.3524 - val_loss: 0.9742 - val_accuracy: 0.4000\n",
      "Epoch 8/15\n",
      "105/105 [==============================] - 0s 2ms/sample - loss: 1.6315 - accuracy: 0.4190 - val_loss: 0.9619 - val_accuracy: 0.5556\n",
      "Epoch 9/15\n",
      "105/105 [==============================] - 0s 2ms/sample - loss: 1.9917 - accuracy: 0.3524 - val_loss: 0.9532 - val_accuracy: 0.5556\n",
      "Epoch 10/15\n",
      "105/105 [==============================] - 0s 2ms/sample - loss: 1.4822 - accuracy: 0.4571 - val_loss: 0.9472 - val_accuracy: 0.5556\n",
      "Epoch 11/15\n",
      "105/105 [==============================] - 0s 2ms/sample - loss: 1.4612 - accuracy: 0.3524 - val_loss: 0.9444 - val_accuracy: 0.5556\n",
      "Epoch 12/15\n",
      "105/105 [==============================] - 0s 2ms/sample - loss: 1.3101 - accuracy: 0.4286 - val_loss: 0.9372 - val_accuracy: 0.5556\n",
      "Epoch 13/15\n",
      "105/105 [==============================] - 0s 2ms/sample - loss: 1.2716 - accuracy: 0.4857 - val_loss: 0.9369 - val_accuracy: 0.5556\n",
      "Epoch 14/15\n",
      "105/105 [==============================] - 0s 2ms/sample - loss: 1.3230 - accuracy: 0.4000 - val_loss: 0.9256 - val_accuracy: 0.5556\n",
      "Epoch 15/15\n",
      "105/105 [==============================] - 0s 2ms/sample - loss: 1.3342 - accuracy: 0.4952 - val_loss: 0.9104 - val_accuracy: 0.5556\n",
      "wandb: Agent Finished Run: 53tcwzca \n",
      "\n",
      "wandb: Agent Starting Run: j31w2vw7 with config:\n",
      "\tbatch_size: 32\n",
      "\tepochs: 15\n",
      "\tlayers: 4\n",
      "wandb: Agent Started Run: j31w2vw7\n"
     ]
    },
    {
     "data": {
      "text/html": [
       "\n",
       "                Logging results to <a href=\"https://wandb.com\" target=\"_blank\">Weights & Biases</a> <a href=\"https://docs.wandb.com/integrations/jupyter.html\" target=\"_blank\">(Documentation)</a>.<br/>\n",
       "                Project page: <a href=\"https://app.wandb.ai/sinisha123/hyperparameter-sweeps-comparison\" target=\"_blank\">https://app.wandb.ai/sinisha123/hyperparameter-sweeps-comparison</a><br/>\n",
       "                Sweep page: <a href=\"https://app.wandb.ai/sinisha123/hyperparameter-sweeps-comparison/sweeps/rda1hnv0\" target=\"_blank\">https://app.wandb.ai/sinisha123/hyperparameter-sweeps-comparison/sweeps/rda1hnv0</a><br/>\n",
       "Run page: <a href=\"https://app.wandb.ai/sinisha123/hyperparameter-sweeps-comparison/runs/j31w2vw7\" target=\"_blank\">https://app.wandb.ai/sinisha123/hyperparameter-sweeps-comparison/runs/j31w2vw7</a><br/>\n",
       "            "
      ],
      "text/plain": [
       "<IPython.core.display.HTML object>"
      ]
     },
     "metadata": {},
     "output_type": "display_data"
    },
    {
     "name": "stdout",
     "output_type": "stream",
     "text": [
      "Train on 105 samples, validate on 45 samples\n",
      "Epoch 1/15\n",
      "105/105 [==============================] - 1s 10ms/sample - loss: 2.9028 - accuracy: 0.3524 - val_loss: 1.6668 - val_accuracy: 0.2889\n",
      "Epoch 2/15\n",
      "105/105 [==============================] - 0s 2ms/sample - loss: 2.0642 - accuracy: 0.4476 - val_loss: 1.4364 - val_accuracy: 0.2889\n",
      "Epoch 3/15\n",
      "105/105 [==============================] - 0s 2ms/sample - loss: 2.2950 - accuracy: 0.3905 - val_loss: 1.2692 - val_accuracy: 0.2889\n",
      "Epoch 4/15\n",
      "105/105 [==============================] - 0s 2ms/sample - loss: 1.9392 - accuracy: 0.4571 - val_loss: 1.1380 - val_accuracy: 0.2889\n",
      "Epoch 5/15\n",
      "105/105 [==============================] - 0s 2ms/sample - loss: 2.3652 - accuracy: 0.2762 - val_loss: 1.0530 - val_accuracy: 0.2889\n",
      "Epoch 6/15\n",
      "105/105 [==============================] - 0s 2ms/sample - loss: 2.3472 - accuracy: 0.3714 - val_loss: 1.0013 - val_accuracy: 0.2889\n",
      "Epoch 7/15\n",
      "105/105 [==============================] - 0s 2ms/sample - loss: 1.7626 - accuracy: 0.3524 - val_loss: 0.9742 - val_accuracy: 0.4000\n",
      "Epoch 8/15\n",
      "105/105 [==============================] - 0s 2ms/sample - loss: 1.6315 - accuracy: 0.4190 - val_loss: 0.9619 - val_accuracy: 0.5556\n",
      "Epoch 9/15\n",
      "105/105 [==============================] - 0s 2ms/sample - loss: 1.9917 - accuracy: 0.3524 - val_loss: 0.9532 - val_accuracy: 0.5556\n",
      "Epoch 10/15\n",
      "105/105 [==============================] - 0s 2ms/sample - loss: 1.4822 - accuracy: 0.4571 - val_loss: 0.9472 - val_accuracy: 0.5556\n",
      "Epoch 11/15\n",
      "105/105 [==============================] - 0s 2ms/sample - loss: 1.4612 - accuracy: 0.3524 - val_loss: 0.9444 - val_accuracy: 0.5556\n",
      "Epoch 12/15\n",
      "105/105 [==============================] - 0s 2ms/sample - loss: 1.3101 - accuracy: 0.4286 - val_loss: 0.9372 - val_accuracy: 0.5556\n",
      "Epoch 13/15\n",
      "105/105 [==============================] - 0s 2ms/sample - loss: 1.2716 - accuracy: 0.4857 - val_loss: 0.9369 - val_accuracy: 0.5556\n",
      "Epoch 14/15\n",
      "105/105 [==============================] - 0s 2ms/sample - loss: 1.3230 - accuracy: 0.4000 - val_loss: 0.9256 - val_accuracy: 0.5556\n",
      "Epoch 15/15\n",
      "105/105 [==============================] - 0s 4ms/sample - loss: 1.3342 - accuracy: 0.4952 - val_loss: 0.9104 - val_accuracy: 0.5556\n",
      "wandb: Agent Finished Run: j31w2vw7 \n",
      "\n",
      "wandb: Agent Starting Run: z1v3om2j with config:\n",
      "\tbatch_size: 32\n",
      "\tepochs: 15\n",
      "\tlayers: 4\n",
      "wandb: Agent Started Run: z1v3om2j\n"
     ]
    },
    {
     "data": {
      "text/html": [
       "\n",
       "                Logging results to <a href=\"https://wandb.com\" target=\"_blank\">Weights & Biases</a> <a href=\"https://docs.wandb.com/integrations/jupyter.html\" target=\"_blank\">(Documentation)</a>.<br/>\n",
       "                Project page: <a href=\"https://app.wandb.ai/sinisha123/hyperparameter-sweeps-comparison\" target=\"_blank\">https://app.wandb.ai/sinisha123/hyperparameter-sweeps-comparison</a><br/>\n",
       "                Sweep page: <a href=\"https://app.wandb.ai/sinisha123/hyperparameter-sweeps-comparison/sweeps/rda1hnv0\" target=\"_blank\">https://app.wandb.ai/sinisha123/hyperparameter-sweeps-comparison/sweeps/rda1hnv0</a><br/>\n",
       "Run page: <a href=\"https://app.wandb.ai/sinisha123/hyperparameter-sweeps-comparison/runs/z1v3om2j\" target=\"_blank\">https://app.wandb.ai/sinisha123/hyperparameter-sweeps-comparison/runs/z1v3om2j</a><br/>\n",
       "            "
      ],
      "text/plain": [
       "<IPython.core.display.HTML object>"
      ]
     },
     "metadata": {},
     "output_type": "display_data"
    },
    {
     "name": "stdout",
     "output_type": "stream",
     "text": [
      "Train on 105 samples, validate on 45 samples\n",
      "Epoch 1/15\n",
      "105/105 [==============================] - 2s 15ms/sample - loss: 2.9028 - accuracy: 0.3524 - val_loss: 1.6668 - val_accuracy: 0.2889\n",
      "Epoch 2/15\n",
      "105/105 [==============================] - 0s 2ms/sample - loss: 2.0642 - accuracy: 0.4476 - val_loss: 1.4364 - val_accuracy: 0.2889\n",
      "Epoch 3/15\n",
      "105/105 [==============================] - 0s 2ms/sample - loss: 2.2950 - accuracy: 0.3905 - val_loss: 1.2692 - val_accuracy: 0.2889\n",
      "Epoch 4/15\n",
      "105/105 [==============================] - 0s 2ms/sample - loss: 1.9392 - accuracy: 0.4571 - val_loss: 1.1380 - val_accuracy: 0.2889\n",
      "Epoch 5/15\n",
      "105/105 [==============================] - 0s 2ms/sample - loss: 2.3652 - accuracy: 0.2762 - val_loss: 1.0530 - val_accuracy: 0.2889\n",
      "Epoch 6/15\n",
      "105/105 [==============================] - 0s 2ms/sample - loss: 2.3472 - accuracy: 0.3714 - val_loss: 1.0013 - val_accuracy: 0.2889\n",
      "Epoch 7/15\n",
      "105/105 [==============================] - 0s 2ms/sample - loss: 1.7626 - accuracy: 0.3524 - val_loss: 0.9742 - val_accuracy: 0.4000\n",
      "Epoch 8/15\n",
      "105/105 [==============================] - 0s 2ms/sample - loss: 1.6315 - accuracy: 0.4190 - val_loss: 0.9619 - val_accuracy: 0.5556\n",
      "Epoch 9/15\n",
      "105/105 [==============================] - 0s 2ms/sample - loss: 1.9917 - accuracy: 0.3524 - val_loss: 0.9532 - val_accuracy: 0.5556\n",
      "Epoch 10/15\n",
      "105/105 [==============================] - 0s 2ms/sample - loss: 1.4822 - accuracy: 0.4571 - val_loss: 0.9472 - val_accuracy: 0.5556\n",
      "Epoch 11/15\n",
      "105/105 [==============================] - 0s 2ms/sample - loss: 1.4612 - accuracy: 0.3524 - val_loss: 0.9444 - val_accuracy: 0.5556\n",
      "Epoch 12/15\n",
      "105/105 [==============================] - 0s 2ms/sample - loss: 1.3101 - accuracy: 0.4286 - val_loss: 0.9372 - val_accuracy: 0.5556\n",
      "Epoch 13/15\n",
      "105/105 [==============================] - 0s 2ms/sample - loss: 1.2716 - accuracy: 0.4857 - val_loss: 0.9369 - val_accuracy: 0.5556\n",
      "Epoch 14/15\n",
      "105/105 [==============================] - 0s 2ms/sample - loss: 1.3230 - accuracy: 0.4000 - val_loss: 0.9256 - val_accuracy: 0.5556\n",
      "Epoch 15/15\n",
      "105/105 [==============================] - 0s 2ms/sample - loss: 1.3342 - accuracy: 0.4952 - val_loss: 0.9104 - val_accuracy: 0.5556\n",
      "wandb: Agent Finished Run: z1v3om2j \n",
      "\n"
     ]
    },
    {
     "name": "stderr",
     "output_type": "stream",
     "text": [
      "wandb: Network error resolved after 0:00:17.111463, resuming normal operation.\n"
     ]
    },
    {
     "name": "stdout",
     "output_type": "stream",
     "text": [
      "wandb: Agent Starting Run: ttjnqr05 with config:\n",
      "\tbatch_size: 32\n",
      "\tepochs: 15\n",
      "\tlayers: 4\n",
      "wandb: Agent Started Run: ttjnqr05\n"
     ]
    },
    {
     "data": {
      "text/html": [
       "\n",
       "                Logging results to <a href=\"https://wandb.com\" target=\"_blank\">Weights & Biases</a> <a href=\"https://docs.wandb.com/integrations/jupyter.html\" target=\"_blank\">(Documentation)</a>.<br/>\n",
       "                Project page: <a href=\"https://app.wandb.ai/sinisha123/hyperparameter-sweeps-comparison\" target=\"_blank\">https://app.wandb.ai/sinisha123/hyperparameter-sweeps-comparison</a><br/>\n",
       "                Sweep page: <a href=\"https://app.wandb.ai/sinisha123/hyperparameter-sweeps-comparison/sweeps/rda1hnv0\" target=\"_blank\">https://app.wandb.ai/sinisha123/hyperparameter-sweeps-comparison/sweeps/rda1hnv0</a><br/>\n",
       "Run page: <a href=\"https://app.wandb.ai/sinisha123/hyperparameter-sweeps-comparison/runs/ttjnqr05\" target=\"_blank\">https://app.wandb.ai/sinisha123/hyperparameter-sweeps-comparison/runs/ttjnqr05</a><br/>\n",
       "            "
      ],
      "text/plain": [
       "<IPython.core.display.HTML object>"
      ]
     },
     "metadata": {},
     "output_type": "display_data"
    },
    {
     "name": "stdout",
     "output_type": "stream",
     "text": [
      "Train on 105 samples, validate on 45 samples\n",
      "Epoch 1/15\n",
      "105/105 [==============================] - 1s 11ms/sample - loss: 2.9028 - accuracy: 0.3524 - val_loss: 1.6668 - val_accuracy: 0.2889\n",
      "Epoch 2/15\n",
      "105/105 [==============================] - 0s 3ms/sample - loss: 2.0642 - accuracy: 0.4476 - val_loss: 1.4364 - val_accuracy: 0.2889\n",
      "Epoch 3/15\n",
      "105/105 [==============================] - 0s 2ms/sample - loss: 2.2950 - accuracy: 0.3905 - val_loss: 1.2692 - val_accuracy: 0.2889\n",
      "Epoch 4/15\n",
      "105/105 [==============================] - 0s 2ms/sample - loss: 1.9392 - accuracy: 0.4571 - val_loss: 1.1380 - val_accuracy: 0.2889\n",
      "Epoch 5/15\n",
      "105/105 [==============================] - 0s 2ms/sample - loss: 2.3652 - accuracy: 0.2762 - val_loss: 1.0530 - val_accuracy: 0.2889\n",
      "Epoch 6/15\n",
      "105/105 [==============================] - 0s 2ms/sample - loss: 2.3472 - accuracy: 0.3714 - val_loss: 1.0013 - val_accuracy: 0.2889\n",
      "Epoch 7/15\n",
      "105/105 [==============================] - 0s 3ms/sample - loss: 1.7626 - accuracy: 0.3524 - val_loss: 0.9742 - val_accuracy: 0.4000\n",
      "Epoch 8/15\n",
      "105/105 [==============================] - 0s 2ms/sample - loss: 1.6315 - accuracy: 0.4190 - val_loss: 0.9619 - val_accuracy: 0.5556\n",
      "Epoch 9/15\n",
      "105/105 [==============================] - 0s 2ms/sample - loss: 1.9917 - accuracy: 0.3524 - val_loss: 0.9532 - val_accuracy: 0.5556\n",
      "Epoch 10/15\n",
      "105/105 [==============================] - 0s 2ms/sample - loss: 1.4822 - accuracy: 0.4571 - val_loss: 0.9472 - val_accuracy: 0.5556\n",
      "Epoch 11/15\n",
      "105/105 [==============================] - 0s 2ms/sample - loss: 1.4612 - accuracy: 0.3524 - val_loss: 0.9444 - val_accuracy: 0.5556\n",
      "Epoch 12/15\n",
      "105/105 [==============================] - 0s 2ms/sample - loss: 1.3101 - accuracy: 0.4286 - val_loss: 0.9372 - val_accuracy: 0.5556\n",
      "Epoch 13/15\n",
      "105/105 [==============================] - 0s 2ms/sample - loss: 1.2716 - accuracy: 0.4857 - val_loss: 0.9369 - val_accuracy: 0.5556\n",
      "Epoch 14/15\n",
      "105/105 [==============================] - 0s 3ms/sample - loss: 1.3230 - accuracy: 0.4000 - val_loss: 0.9256 - val_accuracy: 0.5556\n",
      "Epoch 15/15\n",
      "105/105 [==============================] - 0s 2ms/sample - loss: 1.3342 - accuracy: 0.4952 - val_loss: 0.9104 - val_accuracy: 0.5556\n",
      "wandb: Agent Finished Run: ttjnqr05 \n",
      "\n",
      "wandb: Agent Starting Run: jqk7tjki with config:\n",
      "\tbatch_size: 32\n",
      "\tepochs: 15\n",
      "\tlayers: 4\n",
      "wandb: Agent Started Run: jqk7tjki\n"
     ]
    },
    {
     "data": {
      "text/html": [
       "\n",
       "                Logging results to <a href=\"https://wandb.com\" target=\"_blank\">Weights & Biases</a> <a href=\"https://docs.wandb.com/integrations/jupyter.html\" target=\"_blank\">(Documentation)</a>.<br/>\n",
       "                Project page: <a href=\"https://app.wandb.ai/sinisha123/hyperparameter-sweeps-comparison\" target=\"_blank\">https://app.wandb.ai/sinisha123/hyperparameter-sweeps-comparison</a><br/>\n",
       "                Sweep page: <a href=\"https://app.wandb.ai/sinisha123/hyperparameter-sweeps-comparison/sweeps/rda1hnv0\" target=\"_blank\">https://app.wandb.ai/sinisha123/hyperparameter-sweeps-comparison/sweeps/rda1hnv0</a><br/>\n",
       "Run page: <a href=\"https://app.wandb.ai/sinisha123/hyperparameter-sweeps-comparison/runs/jqk7tjki\" target=\"_blank\">https://app.wandb.ai/sinisha123/hyperparameter-sweeps-comparison/runs/jqk7tjki</a><br/>\n",
       "            "
      ],
      "text/plain": [
       "<IPython.core.display.HTML object>"
      ]
     },
     "metadata": {},
     "output_type": "display_data"
    },
    {
     "name": "stdout",
     "output_type": "stream",
     "text": [
      "Train on 105 samples, validate on 45 samples\n",
      "Epoch 1/15\n",
      "105/105 [==============================] - 1s 10ms/sample - loss: 2.9028 - accuracy: 0.3524 - val_loss: 1.6668 - val_accuracy: 0.2889\n",
      "Epoch 2/15\n",
      "105/105 [==============================] - 0s 2ms/sample - loss: 2.0642 - accuracy: 0.4476 - val_loss: 1.4364 - val_accuracy: 0.2889\n",
      "Epoch 3/15\n",
      "105/105 [==============================] - 0s 2ms/sample - loss: 2.2950 - accuracy: 0.3905 - val_loss: 1.2692 - val_accuracy: 0.2889\n",
      "Epoch 4/15\n",
      "105/105 [==============================] - 0s 2ms/sample - loss: 1.9392 - accuracy: 0.4571 - val_loss: 1.1380 - val_accuracy: 0.2889\n",
      "Epoch 5/15\n",
      "105/105 [==============================] - 0s 2ms/sample - loss: 2.3652 - accuracy: 0.2762 - val_loss: 1.0530 - val_accuracy: 0.2889\n",
      "Epoch 6/15\n",
      "105/105 [==============================] - 0s 2ms/sample - loss: 2.3472 - accuracy: 0.3714 - val_loss: 1.0013 - val_accuracy: 0.2889\n",
      "Epoch 7/15\n",
      "105/105 [==============================] - 0s 2ms/sample - loss: 1.7626 - accuracy: 0.3524 - val_loss: 0.9742 - val_accuracy: 0.4000\n",
      "Epoch 8/15\n",
      "105/105 [==============================] - 0s 2ms/sample - loss: 1.6315 - accuracy: 0.4190 - val_loss: 0.9619 - val_accuracy: 0.5556\n",
      "Epoch 9/15\n",
      "105/105 [==============================] - 0s 2ms/sample - loss: 1.9917 - accuracy: 0.3524 - val_loss: 0.9532 - val_accuracy: 0.5556\n",
      "Epoch 10/15\n",
      "105/105 [==============================] - 0s 2ms/sample - loss: 1.4822 - accuracy: 0.4571 - val_loss: 0.9472 - val_accuracy: 0.5556\n",
      "Epoch 11/15\n",
      "105/105 [==============================] - 0s 2ms/sample - loss: 1.4612 - accuracy: 0.3524 - val_loss: 0.9444 - val_accuracy: 0.5556\n",
      "Epoch 12/15\n",
      "105/105 [==============================] - 0s 2ms/sample - loss: 1.3101 - accuracy: 0.4286 - val_loss: 0.9372 - val_accuracy: 0.5556\n",
      "Epoch 13/15\n",
      "105/105 [==============================] - 0s 2ms/sample - loss: 1.2716 - accuracy: 0.4857 - val_loss: 0.9369 - val_accuracy: 0.5556\n",
      "Epoch 14/15\n",
      "105/105 [==============================] - 0s 3ms/sample - loss: 1.3230 - accuracy: 0.4000 - val_loss: 0.9256 - val_accuracy: 0.5556\n",
      "Epoch 15/15\n",
      "105/105 [==============================] - 0s 2ms/sample - loss: 1.3342 - accuracy: 0.4952 - val_loss: 0.9104 - val_accuracy: 0.5556\n",
      "wandb: Agent Finished Run: jqk7tjki \n",
      "\n",
      "wandb: Agent Starting Run: g0j1en6b with config:\n",
      "\tbatch_size: 32\n",
      "\tepochs: 15\n",
      "\tlayers: 4\n",
      "wandb: Agent Started Run: g0j1en6b\n"
     ]
    },
    {
     "data": {
      "text/html": [
       "\n",
       "                Logging results to <a href=\"https://wandb.com\" target=\"_blank\">Weights & Biases</a> <a href=\"https://docs.wandb.com/integrations/jupyter.html\" target=\"_blank\">(Documentation)</a>.<br/>\n",
       "                Project page: <a href=\"https://app.wandb.ai/sinisha123/hyperparameter-sweeps-comparison\" target=\"_blank\">https://app.wandb.ai/sinisha123/hyperparameter-sweeps-comparison</a><br/>\n",
       "                Sweep page: <a href=\"https://app.wandb.ai/sinisha123/hyperparameter-sweeps-comparison/sweeps/rda1hnv0\" target=\"_blank\">https://app.wandb.ai/sinisha123/hyperparameter-sweeps-comparison/sweeps/rda1hnv0</a><br/>\n",
       "Run page: <a href=\"https://app.wandb.ai/sinisha123/hyperparameter-sweeps-comparison/runs/g0j1en6b\" target=\"_blank\">https://app.wandb.ai/sinisha123/hyperparameter-sweeps-comparison/runs/g0j1en6b</a><br/>\n",
       "            "
      ],
      "text/plain": [
       "<IPython.core.display.HTML object>"
      ]
     },
     "metadata": {},
     "output_type": "display_data"
    },
    {
     "name": "stdout",
     "output_type": "stream",
     "text": [
      "Train on 105 samples, validate on 45 samples\n",
      "Epoch 1/15\n",
      "105/105 [==============================] - 1s 8ms/sample - loss: 2.9028 - accuracy: 0.3524 - val_loss: 1.6668 - val_accuracy: 0.2889\n",
      "Epoch 2/15\n",
      "105/105 [==============================] - 0s 3ms/sample - loss: 2.0642 - accuracy: 0.4476 - val_loss: 1.4364 - val_accuracy: 0.2889\n",
      "Epoch 3/15\n",
      "105/105 [==============================] - 0s 2ms/sample - loss: 2.2950 - accuracy: 0.3905 - val_loss: 1.2692 - val_accuracy: 0.2889\n",
      "Epoch 4/15\n",
      "105/105 [==============================] - 0s 2ms/sample - loss: 1.9392 - accuracy: 0.4571 - val_loss: 1.1380 - val_accuracy: 0.2889\n",
      "Epoch 5/15\n",
      "105/105 [==============================] - 0s 2ms/sample - loss: 2.3652 - accuracy: 0.2762 - val_loss: 1.0530 - val_accuracy: 0.2889\n",
      "Epoch 6/15\n",
      "105/105 [==============================] - 0s 2ms/sample - loss: 2.3472 - accuracy: 0.3714 - val_loss: 1.0013 - val_accuracy: 0.2889\n",
      "Epoch 7/15\n",
      "105/105 [==============================] - 0s 2ms/sample - loss: 1.7626 - accuracy: 0.3524 - val_loss: 0.9742 - val_accuracy: 0.4000\n",
      "Epoch 8/15\n",
      "105/105 [==============================] - 1s 6ms/sample - loss: 1.6315 - accuracy: 0.4190 - val_loss: 0.9619 - val_accuracy: 0.5556\n",
      "Epoch 9/15\n",
      "105/105 [==============================] - 0s 2ms/sample - loss: 1.9917 - accuracy: 0.3524 - val_loss: 0.9532 - val_accuracy: 0.5556\n",
      "Epoch 10/15\n",
      "105/105 [==============================] - 0s 2ms/sample - loss: 1.4822 - accuracy: 0.4571 - val_loss: 0.9472 - val_accuracy: 0.5556\n",
      "Epoch 11/15\n",
      "105/105 [==============================] - 0s 3ms/sample - loss: 1.4612 - accuracy: 0.3524 - val_loss: 0.9444 - val_accuracy: 0.5556\n",
      "Epoch 12/15\n",
      "105/105 [==============================] - 0s 3ms/sample - loss: 1.3101 - accuracy: 0.4286 - val_loss: 0.9372 - val_accuracy: 0.5556\n",
      "Epoch 13/15\n",
      "105/105 [==============================] - 0s 3ms/sample - loss: 1.2716 - accuracy: 0.4857 - val_loss: 0.9369 - val_accuracy: 0.5556\n",
      "Epoch 14/15\n",
      "105/105 [==============================] - 0s 2ms/sample - loss: 1.3230 - accuracy: 0.4000 - val_loss: 0.9256 - val_accuracy: 0.5556\n",
      "Epoch 15/15\n",
      "105/105 [==============================] - 0s 2ms/sample - loss: 1.3342 - accuracy: 0.4952 - val_loss: 0.9104 - val_accuracy: 0.5556\n",
      "wandb: Agent Finished Run: g0j1en6b \n",
      "\n",
      "wandb: Agent Starting Run: mx4xdwoy with config:\n",
      "\tbatch_size: 32\n",
      "\tepochs: 15\n",
      "\tlayers: 4\n",
      "wandb: Agent Started Run: mx4xdwoy\n"
     ]
    },
    {
     "data": {
      "text/html": [
       "\n",
       "                Logging results to <a href=\"https://wandb.com\" target=\"_blank\">Weights & Biases</a> <a href=\"https://docs.wandb.com/integrations/jupyter.html\" target=\"_blank\">(Documentation)</a>.<br/>\n",
       "                Project page: <a href=\"https://app.wandb.ai/sinisha123/hyperparameter-sweeps-comparison\" target=\"_blank\">https://app.wandb.ai/sinisha123/hyperparameter-sweeps-comparison</a><br/>\n",
       "                Sweep page: <a href=\"https://app.wandb.ai/sinisha123/hyperparameter-sweeps-comparison/sweeps/rda1hnv0\" target=\"_blank\">https://app.wandb.ai/sinisha123/hyperparameter-sweeps-comparison/sweeps/rda1hnv0</a><br/>\n",
       "Run page: <a href=\"https://app.wandb.ai/sinisha123/hyperparameter-sweeps-comparison/runs/mx4xdwoy\" target=\"_blank\">https://app.wandb.ai/sinisha123/hyperparameter-sweeps-comparison/runs/mx4xdwoy</a><br/>\n",
       "            "
      ],
      "text/plain": [
       "<IPython.core.display.HTML object>"
      ]
     },
     "metadata": {},
     "output_type": "display_data"
    },
    {
     "name": "stdout",
     "output_type": "stream",
     "text": [
      "Train on 105 samples, validate on 45 samples\n",
      "Epoch 1/15\n",
      "105/105 [==============================] - 1s 8ms/sample - loss: 2.9028 - accuracy: 0.3524 - val_loss: 1.6668 - val_accuracy: 0.2889\n",
      "Epoch 2/15\n",
      "105/105 [==============================] - 0s 2ms/sample - loss: 2.0642 - accuracy: 0.4476 - val_loss: 1.4364 - val_accuracy: 0.2889\n",
      "Epoch 3/15\n",
      "105/105 [==============================] - 0s 2ms/sample - loss: 2.2950 - accuracy: 0.3905 - val_loss: 1.2692 - val_accuracy: 0.2889\n",
      "Epoch 4/15\n",
      "105/105 [==============================] - 0s 2ms/sample - loss: 1.9392 - accuracy: 0.4571 - val_loss: 1.1380 - val_accuracy: 0.2889\n",
      "Epoch 5/15\n",
      "105/105 [==============================] - 0s 2ms/sample - loss: 2.3652 - accuracy: 0.2762 - val_loss: 1.0530 - val_accuracy: 0.2889\n",
      "Epoch 6/15\n",
      "105/105 [==============================] - 0s 2ms/sample - loss: 2.3472 - accuracy: 0.3714 - val_loss: 1.0013 - val_accuracy: 0.2889\n",
      "Epoch 7/15\n",
      "105/105 [==============================] - 0s 2ms/sample - loss: 1.7626 - accuracy: 0.3524 - val_loss: 0.9742 - val_accuracy: 0.4000\n",
      "Epoch 8/15\n",
      "105/105 [==============================] - 0s 2ms/sample - loss: 1.6315 - accuracy: 0.4190 - val_loss: 0.9619 - val_accuracy: 0.5556\n",
      "Epoch 9/15\n",
      "105/105 [==============================] - 0s 2ms/sample - loss: 1.9917 - accuracy: 0.3524 - val_loss: 0.9532 - val_accuracy: 0.5556\n",
      "Epoch 10/15\n",
      "105/105 [==============================] - 0s 2ms/sample - loss: 1.4822 - accuracy: 0.4571 - val_loss: 0.9472 - val_accuracy: 0.5556\n",
      "Epoch 11/15\n",
      "105/105 [==============================] - 0s 2ms/sample - loss: 1.4612 - accuracy: 0.3524 - val_loss: 0.9444 - val_accuracy: 0.5556\n",
      "Epoch 12/15\n",
      "105/105 [==============================] - 0s 2ms/sample - loss: 1.3101 - accuracy: 0.4286 - val_loss: 0.9372 - val_accuracy: 0.5556\n",
      "Epoch 13/15\n",
      "105/105 [==============================] - 0s 2ms/sample - loss: 1.2716 - accuracy: 0.4857 - val_loss: 0.9369 - val_accuracy: 0.5556\n",
      "Epoch 14/15\n",
      "105/105 [==============================] - 0s 2ms/sample - loss: 1.3230 - accuracy: 0.4000 - val_loss: 0.9256 - val_accuracy: 0.5556\n",
      "Epoch 15/15\n",
      "105/105 [==============================] - 0s 2ms/sample - loss: 1.3342 - accuracy: 0.4952 - val_loss: 0.9104 - val_accuracy: 0.5556\n",
      "wandb: Agent Finished Run: mx4xdwoy \n",
      "\n",
      "wandb: Agent Starting Run: rmqkqhg9 with config:\n",
      "\tbatch_size: 32\n",
      "\tepochs: 15\n",
      "\tlayers: 4\n",
      "wandb: Agent Started Run: rmqkqhg9\n"
     ]
    },
    {
     "data": {
      "text/html": [
       "\n",
       "                Logging results to <a href=\"https://wandb.com\" target=\"_blank\">Weights & Biases</a> <a href=\"https://docs.wandb.com/integrations/jupyter.html\" target=\"_blank\">(Documentation)</a>.<br/>\n",
       "                Project page: <a href=\"https://app.wandb.ai/sinisha123/hyperparameter-sweeps-comparison\" target=\"_blank\">https://app.wandb.ai/sinisha123/hyperparameter-sweeps-comparison</a><br/>\n",
       "                Sweep page: <a href=\"https://app.wandb.ai/sinisha123/hyperparameter-sweeps-comparison/sweeps/rda1hnv0\" target=\"_blank\">https://app.wandb.ai/sinisha123/hyperparameter-sweeps-comparison/sweeps/rda1hnv0</a><br/>\n",
       "Run page: <a href=\"https://app.wandb.ai/sinisha123/hyperparameter-sweeps-comparison/runs/rmqkqhg9\" target=\"_blank\">https://app.wandb.ai/sinisha123/hyperparameter-sweeps-comparison/runs/rmqkqhg9</a><br/>\n",
       "            "
      ],
      "text/plain": [
       "<IPython.core.display.HTML object>"
      ]
     },
     "metadata": {},
     "output_type": "display_data"
    },
    {
     "name": "stdout",
     "output_type": "stream",
     "text": [
      "Train on 105 samples, validate on 45 samples\n",
      "Epoch 1/15\n",
      "105/105 [==============================] - 1s 8ms/sample - loss: 2.9028 - accuracy: 0.3524 - val_loss: 1.6668 - val_accuracy: 0.2889\n",
      "Epoch 2/15\n",
      "105/105 [==============================] - 0s 2ms/sample - loss: 2.0642 - accuracy: 0.4476 - val_loss: 1.4364 - val_accuracy: 0.2889\n",
      "Epoch 3/15\n",
      "105/105 [==============================] - 0s 2ms/sample - loss: 2.2950 - accuracy: 0.3905 - val_loss: 1.2692 - val_accuracy: 0.2889\n",
      "Epoch 4/15\n",
      "105/105 [==============================] - 0s 2ms/sample - loss: 1.9392 - accuracy: 0.4571 - val_loss: 1.1380 - val_accuracy: 0.2889\n",
      "Epoch 5/15\n",
      "105/105 [==============================] - 0s 2ms/sample - loss: 2.3652 - accuracy: 0.2762 - val_loss: 1.0530 - val_accuracy: 0.2889\n",
      "Epoch 6/15\n",
      "105/105 [==============================] - 0s 2ms/sample - loss: 2.3472 - accuracy: 0.3714 - val_loss: 1.0013 - val_accuracy: 0.2889\n",
      "Epoch 7/15\n",
      "105/105 [==============================] - 0s 2ms/sample - loss: 1.7626 - accuracy: 0.3524 - val_loss: 0.9742 - val_accuracy: 0.4000\n",
      "Epoch 8/15\n",
      "105/105 [==============================] - 0s 2ms/sample - loss: 1.6315 - accuracy: 0.4190 - val_loss: 0.9619 - val_accuracy: 0.5556\n",
      "Epoch 9/15\n",
      "105/105 [==============================] - 0s 2ms/sample - loss: 1.9917 - accuracy: 0.3524 - val_loss: 0.9532 - val_accuracy: 0.5556\n",
      "Epoch 10/15\n",
      "105/105 [==============================] - 0s 2ms/sample - loss: 1.4822 - accuracy: 0.4571 - val_loss: 0.9472 - val_accuracy: 0.5556\n",
      "Epoch 11/15\n",
      "105/105 [==============================] - 0s 2ms/sample - loss: 1.4612 - accuracy: 0.3524 - val_loss: 0.9444 - val_accuracy: 0.5556\n",
      "Epoch 12/15\n",
      "105/105 [==============================] - 0s 2ms/sample - loss: 1.3101 - accuracy: 0.4286 - val_loss: 0.9372 - val_accuracy: 0.5556\n",
      "Epoch 13/15\n",
      "105/105 [==============================] - 0s 2ms/sample - loss: 1.2716 - accuracy: 0.4857 - val_loss: 0.9369 - val_accuracy: 0.5556\n",
      "Epoch 14/15\n",
      "105/105 [==============================] - 0s 2ms/sample - loss: 1.3230 - accuracy: 0.4000 - val_loss: 0.9256 - val_accuracy: 0.5556\n",
      "Epoch 15/15\n",
      "105/105 [==============================] - 0s 2ms/sample - loss: 1.3342 - accuracy: 0.4952 - val_loss: 0.9104 - val_accuracy: 0.5556\n",
      "wandb: Agent Finished Run: rmqkqhg9 \n",
      "\n",
      "wandb: Agent Starting Run: 18exq9vy with config:\n",
      "\tbatch_size: 32\n",
      "\tepochs: 15\n",
      "\tlayers: 4\n",
      "wandb: Agent Started Run: 18exq9vy\n"
     ]
    },
    {
     "data": {
      "text/html": [
       "\n",
       "                Logging results to <a href=\"https://wandb.com\" target=\"_blank\">Weights & Biases</a> <a href=\"https://docs.wandb.com/integrations/jupyter.html\" target=\"_blank\">(Documentation)</a>.<br/>\n",
       "                Project page: <a href=\"https://app.wandb.ai/sinisha123/hyperparameter-sweeps-comparison\" target=\"_blank\">https://app.wandb.ai/sinisha123/hyperparameter-sweeps-comparison</a><br/>\n",
       "                Sweep page: <a href=\"https://app.wandb.ai/sinisha123/hyperparameter-sweeps-comparison/sweeps/rda1hnv0\" target=\"_blank\">https://app.wandb.ai/sinisha123/hyperparameter-sweeps-comparison/sweeps/rda1hnv0</a><br/>\n",
       "Run page: <a href=\"https://app.wandb.ai/sinisha123/hyperparameter-sweeps-comparison/runs/18exq9vy\" target=\"_blank\">https://app.wandb.ai/sinisha123/hyperparameter-sweeps-comparison/runs/18exq9vy</a><br/>\n",
       "            "
      ],
      "text/plain": [
       "<IPython.core.display.HTML object>"
      ]
     },
     "metadata": {},
     "output_type": "display_data"
    },
    {
     "name": "stdout",
     "output_type": "stream",
     "text": [
      "Train on 105 samples, validate on 45 samples\n",
      "Epoch 1/15\n",
      "105/105 [==============================] - 1s 8ms/sample - loss: 2.9028 - accuracy: 0.3524 - val_loss: 1.6668 - val_accuracy: 0.2889\n",
      "Epoch 2/15\n",
      "105/105 [==============================] - 0s 3ms/sample - loss: 2.0642 - accuracy: 0.4476 - val_loss: 1.4364 - val_accuracy: 0.2889\n",
      "Epoch 3/15\n",
      "105/105 [==============================] - 0s 2ms/sample - loss: 2.2950 - accuracy: 0.3905 - val_loss: 1.2692 - val_accuracy: 0.2889\n",
      "Epoch 4/15\n",
      "105/105 [==============================] - 0s 2ms/sample - loss: 1.9392 - accuracy: 0.4571 - val_loss: 1.1380 - val_accuracy: 0.2889\n",
      "Epoch 5/15\n",
      "105/105 [==============================] - 0s 2ms/sample - loss: 2.3652 - accuracy: 0.2762 - val_loss: 1.0530 - val_accuracy: 0.2889\n",
      "Epoch 6/15\n",
      "105/105 [==============================] - 0s 2ms/sample - loss: 2.3472 - accuracy: 0.3714 - val_loss: 1.0013 - val_accuracy: 0.2889\n",
      "Epoch 7/15\n",
      "105/105 [==============================] - 0s 2ms/sample - loss: 1.7626 - accuracy: 0.3524 - val_loss: 0.9742 - val_accuracy: 0.4000\n",
      "Epoch 8/15\n",
      "105/105 [==============================] - 0s 2ms/sample - loss: 1.6315 - accuracy: 0.4190 - val_loss: 0.9619 - val_accuracy: 0.5556\n",
      "Epoch 9/15\n",
      "105/105 [==============================] - 0s 2ms/sample - loss: 1.9917 - accuracy: 0.3524 - val_loss: 0.9532 - val_accuracy: 0.5556\n",
      "Epoch 10/15\n",
      "105/105 [==============================] - 0s 2ms/sample - loss: 1.4822 - accuracy: 0.4571 - val_loss: 0.9472 - val_accuracy: 0.5556\n",
      "Epoch 11/15\n",
      "105/105 [==============================] - 0s 2ms/sample - loss: 1.4612 - accuracy: 0.3524 - val_loss: 0.9444 - val_accuracy: 0.5556\n",
      "Epoch 12/15\n",
      "105/105 [==============================] - 0s 2ms/sample - loss: 1.3101 - accuracy: 0.4286 - val_loss: 0.9372 - val_accuracy: 0.5556\n",
      "Epoch 13/15\n",
      "105/105 [==============================] - 0s 2ms/sample - loss: 1.2716 - accuracy: 0.4857 - val_loss: 0.9369 - val_accuracy: 0.5556\n",
      "Epoch 14/15\n",
      "105/105 [==============================] - 0s 2ms/sample - loss: 1.3230 - accuracy: 0.4000 - val_loss: 0.9256 - val_accuracy: 0.5556\n",
      "Epoch 15/15\n",
      "105/105 [==============================] - 0s 2ms/sample - loss: 1.3342 - accuracy: 0.4952 - val_loss: 0.9104 - val_accuracy: 0.5556\n",
      "wandb: Agent Finished Run: 18exq9vy \n",
      "\n",
      "wandb: Agent Starting Run: 7h4nrlif with config:\n",
      "\tbatch_size: 32\n",
      "\tepochs: 15\n",
      "\tlayers: 4\n",
      "wandb: Agent Started Run: 7h4nrlif\n"
     ]
    },
    {
     "data": {
      "text/html": [
       "\n",
       "                Logging results to <a href=\"https://wandb.com\" target=\"_blank\">Weights & Biases</a> <a href=\"https://docs.wandb.com/integrations/jupyter.html\" target=\"_blank\">(Documentation)</a>.<br/>\n",
       "                Project page: <a href=\"https://app.wandb.ai/sinisha123/hyperparameter-sweeps-comparison\" target=\"_blank\">https://app.wandb.ai/sinisha123/hyperparameter-sweeps-comparison</a><br/>\n",
       "                Sweep page: <a href=\"https://app.wandb.ai/sinisha123/hyperparameter-sweeps-comparison/sweeps/rda1hnv0\" target=\"_blank\">https://app.wandb.ai/sinisha123/hyperparameter-sweeps-comparison/sweeps/rda1hnv0</a><br/>\n",
       "Run page: <a href=\"https://app.wandb.ai/sinisha123/hyperparameter-sweeps-comparison/runs/7h4nrlif\" target=\"_blank\">https://app.wandb.ai/sinisha123/hyperparameter-sweeps-comparison/runs/7h4nrlif</a><br/>\n",
       "            "
      ],
      "text/plain": [
       "<IPython.core.display.HTML object>"
      ]
     },
     "metadata": {},
     "output_type": "display_data"
    },
    {
     "name": "stdout",
     "output_type": "stream",
     "text": [
      "Train on 105 samples, validate on 45 samples\n",
      "Epoch 1/15\n",
      "105/105 [==============================] - 1s 8ms/sample - loss: 2.9028 - accuracy: 0.3524 - val_loss: 1.6668 - val_accuracy: 0.2889\n",
      "Epoch 2/15\n",
      "105/105 [==============================] - 0s 3ms/sample - loss: 2.0642 - accuracy: 0.4476 - val_loss: 1.4364 - val_accuracy: 0.2889\n",
      "Epoch 3/15\n",
      "105/105 [==============================] - 0s 2ms/sample - loss: 2.2950 - accuracy: 0.3905 - val_loss: 1.2692 - val_accuracy: 0.2889\n",
      "Epoch 4/15\n",
      "105/105 [==============================] - 0s 2ms/sample - loss: 1.9392 - accuracy: 0.4571 - val_loss: 1.1380 - val_accuracy: 0.2889\n",
      "Epoch 5/15\n",
      "105/105 [==============================] - 0s 2ms/sample - loss: 2.3652 - accuracy: 0.2762 - val_loss: 1.0530 - val_accuracy: 0.2889\n",
      "Epoch 6/15\n",
      "105/105 [==============================] - 0s 2ms/sample - loss: 2.3472 - accuracy: 0.3714 - val_loss: 1.0013 - val_accuracy: 0.2889\n",
      "Epoch 7/15\n",
      "105/105 [==============================] - 0s 2ms/sample - loss: 1.7626 - accuracy: 0.3524 - val_loss: 0.9742 - val_accuracy: 0.4000\n",
      "Epoch 8/15\n",
      "105/105 [==============================] - 0s 2ms/sample - loss: 1.6315 - accuracy: 0.4190 - val_loss: 0.9619 - val_accuracy: 0.5556\n",
      "Epoch 9/15\n",
      "105/105 [==============================] - 0s 2ms/sample - loss: 1.9917 - accuracy: 0.3524 - val_loss: 0.9532 - val_accuracy: 0.5556\n",
      "Epoch 10/15\n",
      "105/105 [==============================] - 0s 2ms/sample - loss: 1.4822 - accuracy: 0.4571 - val_loss: 0.9472 - val_accuracy: 0.5556\n",
      "Epoch 11/15\n",
      "105/105 [==============================] - 0s 2ms/sample - loss: 1.4612 - accuracy: 0.3524 - val_loss: 0.9444 - val_accuracy: 0.5556\n",
      "Epoch 12/15\n",
      "105/105 [==============================] - 0s 2ms/sample - loss: 1.3101 - accuracy: 0.4286 - val_loss: 0.9372 - val_accuracy: 0.5556\n",
      "Epoch 13/15\n",
      "105/105 [==============================] - 0s 2ms/sample - loss: 1.2716 - accuracy: 0.4857 - val_loss: 0.9369 - val_accuracy: 0.5556\n",
      "Epoch 14/15\n",
      "105/105 [==============================] - 0s 2ms/sample - loss: 1.3230 - accuracy: 0.4000 - val_loss: 0.9256 - val_accuracy: 0.5556\n",
      "Epoch 15/15\n",
      "105/105 [==============================] - 0s 2ms/sample - loss: 1.3342 - accuracy: 0.4952 - val_loss: 0.9104 - val_accuracy: 0.5556\n",
      "wandb: Agent Finished Run: 7h4nrlif \n",
      "\n",
      "wandb: Agent Starting Run: 0jy074k6 with config:\n",
      "\tbatch_size: 32\n",
      "\tepochs: 15\n",
      "\tlayers: 4\n",
      "wandb: Agent Started Run: 0jy074k6\n"
     ]
    },
    {
     "data": {
      "text/html": [
       "\n",
       "                Logging results to <a href=\"https://wandb.com\" target=\"_blank\">Weights & Biases</a> <a href=\"https://docs.wandb.com/integrations/jupyter.html\" target=\"_blank\">(Documentation)</a>.<br/>\n",
       "                Project page: <a href=\"https://app.wandb.ai/sinisha123/hyperparameter-sweeps-comparison\" target=\"_blank\">https://app.wandb.ai/sinisha123/hyperparameter-sweeps-comparison</a><br/>\n",
       "                Sweep page: <a href=\"https://app.wandb.ai/sinisha123/hyperparameter-sweeps-comparison/sweeps/rda1hnv0\" target=\"_blank\">https://app.wandb.ai/sinisha123/hyperparameter-sweeps-comparison/sweeps/rda1hnv0</a><br/>\n",
       "Run page: <a href=\"https://app.wandb.ai/sinisha123/hyperparameter-sweeps-comparison/runs/0jy074k6\" target=\"_blank\">https://app.wandb.ai/sinisha123/hyperparameter-sweeps-comparison/runs/0jy074k6</a><br/>\n",
       "            "
      ],
      "text/plain": [
       "<IPython.core.display.HTML object>"
      ]
     },
     "metadata": {},
     "output_type": "display_data"
    },
    {
     "name": "stdout",
     "output_type": "stream",
     "text": [
      "Train on 105 samples, validate on 45 samples\n",
      "Epoch 1/15\n",
      "105/105 [==============================] - 1s 9ms/sample - loss: 2.9028 - accuracy: 0.3524 - val_loss: 1.6668 - val_accuracy: 0.2889\n",
      "Epoch 2/15\n",
      "105/105 [==============================] - 0s 2ms/sample - loss: 2.0642 - accuracy: 0.4476 - val_loss: 1.4364 - val_accuracy: 0.2889\n",
      "Epoch 3/15\n",
      "105/105 [==============================] - 0s 2ms/sample - loss: 2.2950 - accuracy: 0.3905 - val_loss: 1.2692 - val_accuracy: 0.2889\n",
      "Epoch 4/15\n",
      "105/105 [==============================] - 0s 2ms/sample - loss: 1.9392 - accuracy: 0.4571 - val_loss: 1.1380 - val_accuracy: 0.2889\n",
      "Epoch 5/15\n",
      "105/105 [==============================] - 0s 2ms/sample - loss: 2.3652 - accuracy: 0.2762 - val_loss: 1.0530 - val_accuracy: 0.2889\n",
      "Epoch 6/15\n",
      "105/105 [==============================] - 0s 2ms/sample - loss: 2.3472 - accuracy: 0.3714 - val_loss: 1.0013 - val_accuracy: 0.2889\n",
      "Epoch 7/15\n",
      "105/105 [==============================] - 0s 2ms/sample - loss: 1.7626 - accuracy: 0.3524 - val_loss: 0.9742 - val_accuracy: 0.4000\n",
      "Epoch 8/15\n",
      "105/105 [==============================] - 0s 2ms/sample - loss: 1.6315 - accuracy: 0.4190 - val_loss: 0.9619 - val_accuracy: 0.5556\n",
      "Epoch 9/15\n",
      "105/105 [==============================] - 0s 2ms/sample - loss: 1.9917 - accuracy: 0.3524 - val_loss: 0.9532 - val_accuracy: 0.5556\n",
      "Epoch 10/15\n",
      "105/105 [==============================] - 0s 2ms/sample - loss: 1.4822 - accuracy: 0.4571 - val_loss: 0.9472 - val_accuracy: 0.5556\n",
      "Epoch 11/15\n",
      "105/105 [==============================] - 0s 2ms/sample - loss: 1.4612 - accuracy: 0.3524 - val_loss: 0.9444 - val_accuracy: 0.5556\n",
      "Epoch 12/15\n",
      "105/105 [==============================] - 0s 2ms/sample - loss: 1.3101 - accuracy: 0.4286 - val_loss: 0.9372 - val_accuracy: 0.5556\n",
      "Epoch 13/15\n",
      "105/105 [==============================] - 0s 2ms/sample - loss: 1.2716 - accuracy: 0.4857 - val_loss: 0.9369 - val_accuracy: 0.5556\n",
      "Epoch 14/15\n",
      "105/105 [==============================] - 0s 2ms/sample - loss: 1.3230 - accuracy: 0.4000 - val_loss: 0.9256 - val_accuracy: 0.5556\n",
      "Epoch 15/15\n",
      "105/105 [==============================] - 0s 2ms/sample - loss: 1.3342 - accuracy: 0.4952 - val_loss: 0.9104 - val_accuracy: 0.5556\n",
      "wandb: Agent Finished Run: 0jy074k6 \n",
      "\n",
      "wandb: Agent Starting Run: imnn02ik with config:\n",
      "\tbatch_size: 32\n",
      "\tepochs: 15\n",
      "\tlayers: 4\n",
      "wandb: Agent Started Run: imnn02ik\n"
     ]
    },
    {
     "data": {
      "text/html": [
       "\n",
       "                Logging results to <a href=\"https://wandb.com\" target=\"_blank\">Weights & Biases</a> <a href=\"https://docs.wandb.com/integrations/jupyter.html\" target=\"_blank\">(Documentation)</a>.<br/>\n",
       "                Project page: <a href=\"https://app.wandb.ai/sinisha123/hyperparameter-sweeps-comparison\" target=\"_blank\">https://app.wandb.ai/sinisha123/hyperparameter-sweeps-comparison</a><br/>\n",
       "                Sweep page: <a href=\"https://app.wandb.ai/sinisha123/hyperparameter-sweeps-comparison/sweeps/rda1hnv0\" target=\"_blank\">https://app.wandb.ai/sinisha123/hyperparameter-sweeps-comparison/sweeps/rda1hnv0</a><br/>\n",
       "Run page: <a href=\"https://app.wandb.ai/sinisha123/hyperparameter-sweeps-comparison/runs/imnn02ik\" target=\"_blank\">https://app.wandb.ai/sinisha123/hyperparameter-sweeps-comparison/runs/imnn02ik</a><br/>\n",
       "            "
      ],
      "text/plain": [
       "<IPython.core.display.HTML object>"
      ]
     },
     "metadata": {},
     "output_type": "display_data"
    },
    {
     "name": "stdout",
     "output_type": "stream",
     "text": [
      "Train on 105 samples, validate on 45 samples\n",
      "Epoch 1/15\n",
      "105/105 [==============================] - 1s 8ms/sample - loss: 2.9028 - accuracy: 0.3524 - val_loss: 1.6668 - val_accuracy: 0.2889\n",
      "Epoch 2/15\n",
      "105/105 [==============================] - 0s 3ms/sample - loss: 2.0642 - accuracy: 0.4476 - val_loss: 1.4364 - val_accuracy: 0.2889\n",
      "Epoch 3/15\n",
      "105/105 [==============================] - 0s 2ms/sample - loss: 2.2950 - accuracy: 0.3905 - val_loss: 1.2692 - val_accuracy: 0.2889\n",
      "Epoch 4/15\n",
      "105/105 [==============================] - 0s 2ms/sample - loss: 1.9392 - accuracy: 0.4571 - val_loss: 1.1380 - val_accuracy: 0.2889\n",
      "Epoch 5/15\n",
      "105/105 [==============================] - 0s 2ms/sample - loss: 2.3652 - accuracy: 0.2762 - val_loss: 1.0530 - val_accuracy: 0.2889\n",
      "Epoch 6/15\n",
      "105/105 [==============================] - 0s 2ms/sample - loss: 2.3472 - accuracy: 0.3714 - val_loss: 1.0013 - val_accuracy: 0.2889\n",
      "Epoch 7/15\n",
      "105/105 [==============================] - 0s 2ms/sample - loss: 1.7626 - accuracy: 0.3524 - val_loss: 0.9742 - val_accuracy: 0.4000\n",
      "Epoch 8/15\n",
      "105/105 [==============================] - 0s 2ms/sample - loss: 1.6315 - accuracy: 0.4190 - val_loss: 0.9619 - val_accuracy: 0.5556\n",
      "Epoch 9/15\n",
      "105/105 [==============================] - 0s 2ms/sample - loss: 1.9917 - accuracy: 0.3524 - val_loss: 0.9532 - val_accuracy: 0.5556\n",
      "Epoch 10/15\n",
      "105/105 [==============================] - 0s 2ms/sample - loss: 1.4822 - accuracy: 0.4571 - val_loss: 0.9472 - val_accuracy: 0.5556\n",
      "Epoch 11/15\n",
      "105/105 [==============================] - 0s 2ms/sample - loss: 1.4612 - accuracy: 0.3524 - val_loss: 0.9444 - val_accuracy: 0.5556\n",
      "Epoch 12/15\n",
      "105/105 [==============================] - 0s 2ms/sample - loss: 1.3101 - accuracy: 0.4286 - val_loss: 0.9372 - val_accuracy: 0.5556\n",
      "Epoch 13/15\n",
      "105/105 [==============================] - 0s 2ms/sample - loss: 1.2716 - accuracy: 0.4857 - val_loss: 0.9369 - val_accuracy: 0.5556\n",
      "Epoch 14/15\n",
      "105/105 [==============================] - 0s 2ms/sample - loss: 1.3230 - accuracy: 0.4000 - val_loss: 0.9256 - val_accuracy: 0.5556\n",
      "Epoch 15/15\n",
      "105/105 [==============================] - 0s 2ms/sample - loss: 1.3342 - accuracy: 0.4952 - val_loss: 0.9104 - val_accuracy: 0.5556\n",
      "wandb: Agent Finished Run: imnn02ik \n",
      "\n",
      "wandb: Agent Starting Run: osuy7f06 with config:\n",
      "\tbatch_size: 32\n",
      "\tepochs: 15\n",
      "\tlayers: 4\n",
      "wandb: Agent Started Run: osuy7f06\n"
     ]
    },
    {
     "data": {
      "text/html": [
       "\n",
       "                Logging results to <a href=\"https://wandb.com\" target=\"_blank\">Weights & Biases</a> <a href=\"https://docs.wandb.com/integrations/jupyter.html\" target=\"_blank\">(Documentation)</a>.<br/>\n",
       "                Project page: <a href=\"https://app.wandb.ai/sinisha123/hyperparameter-sweeps-comparison\" target=\"_blank\">https://app.wandb.ai/sinisha123/hyperparameter-sweeps-comparison</a><br/>\n",
       "                Sweep page: <a href=\"https://app.wandb.ai/sinisha123/hyperparameter-sweeps-comparison/sweeps/rda1hnv0\" target=\"_blank\">https://app.wandb.ai/sinisha123/hyperparameter-sweeps-comparison/sweeps/rda1hnv0</a><br/>\n",
       "Run page: <a href=\"https://app.wandb.ai/sinisha123/hyperparameter-sweeps-comparison/runs/osuy7f06\" target=\"_blank\">https://app.wandb.ai/sinisha123/hyperparameter-sweeps-comparison/runs/osuy7f06</a><br/>\n",
       "            "
      ],
      "text/plain": [
       "<IPython.core.display.HTML object>"
      ]
     },
     "metadata": {},
     "output_type": "display_data"
    },
    {
     "name": "stdout",
     "output_type": "stream",
     "text": [
      "Train on 105 samples, validate on 45 samples\n",
      "Epoch 1/15\n",
      "105/105 [==============================] - 1s 10ms/sample - loss: 2.9028 - accuracy: 0.3524 - val_loss: 1.6668 - val_accuracy: 0.2889\n",
      "Epoch 2/15\n",
      "105/105 [==============================] - 0s 2ms/sample - loss: 2.0642 - accuracy: 0.4476 - val_loss: 1.4364 - val_accuracy: 0.2889\n",
      "Epoch 3/15\n",
      "105/105 [==============================] - 0s 2ms/sample - loss: 2.2950 - accuracy: 0.3905 - val_loss: 1.2692 - val_accuracy: 0.2889\n",
      "Epoch 4/15\n",
      "105/105 [==============================] - 0s 2ms/sample - loss: 1.9392 - accuracy: 0.4571 - val_loss: 1.1380 - val_accuracy: 0.2889\n",
      "Epoch 5/15\n",
      "105/105 [==============================] - 0s 2ms/sample - loss: 2.3652 - accuracy: 0.2762 - val_loss: 1.0530 - val_accuracy: 0.2889\n",
      "Epoch 6/15\n",
      "105/105 [==============================] - 0s 2ms/sample - loss: 2.3472 - accuracy: 0.3714 - val_loss: 1.0013 - val_accuracy: 0.2889\n",
      "Epoch 7/15\n",
      "105/105 [==============================] - 0s 2ms/sample - loss: 1.7626 - accuracy: 0.3524 - val_loss: 0.9742 - val_accuracy: 0.4000\n",
      "Epoch 8/15\n",
      "105/105 [==============================] - 0s 2ms/sample - loss: 1.6315 - accuracy: 0.4190 - val_loss: 0.9619 - val_accuracy: 0.5556\n",
      "Epoch 9/15\n",
      "105/105 [==============================] - 0s 2ms/sample - loss: 1.9917 - accuracy: 0.3524 - val_loss: 0.9532 - val_accuracy: 0.5556\n",
      "Epoch 10/15\n",
      "105/105 [==============================] - 0s 2ms/sample - loss: 1.4822 - accuracy: 0.4571 - val_loss: 0.9472 - val_accuracy: 0.5556\n",
      "Epoch 11/15\n",
      "105/105 [==============================] - 0s 2ms/sample - loss: 1.4612 - accuracy: 0.3524 - val_loss: 0.9444 - val_accuracy: 0.5556\n",
      "Epoch 12/15\n",
      "105/105 [==============================] - 0s 2ms/sample - loss: 1.3101 - accuracy: 0.4286 - val_loss: 0.9372 - val_accuracy: 0.5556\n",
      "Epoch 13/15\n",
      "105/105 [==============================] - 0s 2ms/sample - loss: 1.2716 - accuracy: 0.4857 - val_loss: 0.9369 - val_accuracy: 0.5556\n",
      "Epoch 14/15\n",
      "105/105 [==============================] - 0s 2ms/sample - loss: 1.3230 - accuracy: 0.4000 - val_loss: 0.9256 - val_accuracy: 0.5556\n",
      "Epoch 15/15\n",
      "105/105 [==============================] - 0s 2ms/sample - loss: 1.3342 - accuracy: 0.4952 - val_loss: 0.9104 - val_accuracy: 0.5556\n",
      "wandb: Agent Finished Run: osuy7f06 \n",
      "\n",
      "wandb: Agent Starting Run: 7780wfsq with config:\n",
      "\tbatch_size: 32\n",
      "\tepochs: 15\n",
      "\tlayers: 4\n",
      "wandb: Agent Started Run: 7780wfsq\n"
     ]
    },
    {
     "data": {
      "text/html": [
       "\n",
       "                Logging results to <a href=\"https://wandb.com\" target=\"_blank\">Weights & Biases</a> <a href=\"https://docs.wandb.com/integrations/jupyter.html\" target=\"_blank\">(Documentation)</a>.<br/>\n",
       "                Project page: <a href=\"https://app.wandb.ai/sinisha123/hyperparameter-sweeps-comparison\" target=\"_blank\">https://app.wandb.ai/sinisha123/hyperparameter-sweeps-comparison</a><br/>\n",
       "                Sweep page: <a href=\"https://app.wandb.ai/sinisha123/hyperparameter-sweeps-comparison/sweeps/rda1hnv0\" target=\"_blank\">https://app.wandb.ai/sinisha123/hyperparameter-sweeps-comparison/sweeps/rda1hnv0</a><br/>\n",
       "Run page: <a href=\"https://app.wandb.ai/sinisha123/hyperparameter-sweeps-comparison/runs/7780wfsq\" target=\"_blank\">https://app.wandb.ai/sinisha123/hyperparameter-sweeps-comparison/runs/7780wfsq</a><br/>\n",
       "            "
      ],
      "text/plain": [
       "<IPython.core.display.HTML object>"
      ]
     },
     "metadata": {},
     "output_type": "display_data"
    },
    {
     "name": "stdout",
     "output_type": "stream",
     "text": [
      "Train on 105 samples, validate on 45 samples\n",
      "Epoch 1/15\n",
      "105/105 [==============================] - 1s 9ms/sample - loss: 2.9028 - accuracy: 0.3524 - val_loss: 1.6668 - val_accuracy: 0.2889\n",
      "Epoch 2/15\n",
      "105/105 [==============================] - 0s 2ms/sample - loss: 2.0642 - accuracy: 0.4476 - val_loss: 1.4364 - val_accuracy: 0.2889\n",
      "Epoch 3/15\n",
      "105/105 [==============================] - 0s 2ms/sample - loss: 2.2950 - accuracy: 0.3905 - val_loss: 1.2692 - val_accuracy: 0.2889\n",
      "Epoch 4/15\n",
      "105/105 [==============================] - 0s 2ms/sample - loss: 1.9392 - accuracy: 0.4571 - val_loss: 1.1380 - val_accuracy: 0.2889\n",
      "Epoch 5/15\n",
      "105/105 [==============================] - 0s 2ms/sample - loss: 2.3652 - accuracy: 0.2762 - val_loss: 1.0530 - val_accuracy: 0.2889\n",
      "Epoch 6/15\n",
      "105/105 [==============================] - 0s 2ms/sample - loss: 2.3472 - accuracy: 0.3714 - val_loss: 1.0013 - val_accuracy: 0.2889\n",
      "Epoch 7/15\n",
      "105/105 [==============================] - 0s 2ms/sample - loss: 1.7626 - accuracy: 0.3524 - val_loss: 0.9742 - val_accuracy: 0.4000\n",
      "Epoch 8/15\n",
      "105/105 [==============================] - 0s 2ms/sample - loss: 1.6315 - accuracy: 0.4190 - val_loss: 0.9619 - val_accuracy: 0.5556\n",
      "Epoch 9/15\n",
      "105/105 [==============================] - 0s 4ms/sample - loss: 1.9917 - accuracy: 0.3524 - val_loss: 0.9532 - val_accuracy: 0.5556\n",
      "Epoch 10/15\n",
      "105/105 [==============================] - 0s 2ms/sample - loss: 1.4822 - accuracy: 0.4571 - val_loss: 0.9472 - val_accuracy: 0.5556\n",
      "Epoch 11/15\n",
      "105/105 [==============================] - 0s 2ms/sample - loss: 1.4612 - accuracy: 0.3524 - val_loss: 0.9444 - val_accuracy: 0.5556\n",
      "Epoch 12/15\n",
      "105/105 [==============================] - 0s 2ms/sample - loss: 1.3101 - accuracy: 0.4286 - val_loss: 0.9372 - val_accuracy: 0.5556\n",
      "Epoch 13/15\n",
      "105/105 [==============================] - 0s 2ms/sample - loss: 1.2716 - accuracy: 0.4857 - val_loss: 0.9369 - val_accuracy: 0.5556\n",
      "Epoch 14/15\n",
      "105/105 [==============================] - 0s 2ms/sample - loss: 1.3230 - accuracy: 0.4000 - val_loss: 0.9256 - val_accuracy: 0.5556\n",
      "Epoch 15/15\n",
      "105/105 [==============================] - 0s 2ms/sample - loss: 1.3342 - accuracy: 0.4952 - val_loss: 0.9104 - val_accuracy: 0.5556\n",
      "wandb: Agent Finished Run: 7780wfsq \n",
      "\n",
      "wandb: Agent Starting Run: wq5tp0un with config:\n",
      "\tbatch_size: 32\n",
      "\tepochs: 15\n",
      "\tlayers: 4\n",
      "wandb: Agent Started Run: wq5tp0un\n"
     ]
    },
    {
     "data": {
      "text/html": [
       "\n",
       "                Logging results to <a href=\"https://wandb.com\" target=\"_blank\">Weights & Biases</a> <a href=\"https://docs.wandb.com/integrations/jupyter.html\" target=\"_blank\">(Documentation)</a>.<br/>\n",
       "                Project page: <a href=\"https://app.wandb.ai/sinisha123/hyperparameter-sweeps-comparison\" target=\"_blank\">https://app.wandb.ai/sinisha123/hyperparameter-sweeps-comparison</a><br/>\n",
       "                Sweep page: <a href=\"https://app.wandb.ai/sinisha123/hyperparameter-sweeps-comparison/sweeps/rda1hnv0\" target=\"_blank\">https://app.wandb.ai/sinisha123/hyperparameter-sweeps-comparison/sweeps/rda1hnv0</a><br/>\n",
       "Run page: <a href=\"https://app.wandb.ai/sinisha123/hyperparameter-sweeps-comparison/runs/wq5tp0un\" target=\"_blank\">https://app.wandb.ai/sinisha123/hyperparameter-sweeps-comparison/runs/wq5tp0un</a><br/>\n",
       "            "
      ],
      "text/plain": [
       "<IPython.core.display.HTML object>"
      ]
     },
     "metadata": {},
     "output_type": "display_data"
    },
    {
     "name": "stdout",
     "output_type": "stream",
     "text": [
      "Train on 105 samples, validate on 45 samples\n",
      "Epoch 1/15\n",
      "105/105 [==============================] - 1s 9ms/sample - loss: 2.9028 - accuracy: 0.3524 - val_loss: 1.6668 - val_accuracy: 0.2889\n",
      "Epoch 2/15\n",
      "105/105 [==============================] - 0s 2ms/sample - loss: 2.0642 - accuracy: 0.4476 - val_loss: 1.4364 - val_accuracy: 0.2889\n",
      "Epoch 3/15\n",
      "105/105 [==============================] - 0s 2ms/sample - loss: 2.2950 - accuracy: 0.3905 - val_loss: 1.2692 - val_accuracy: 0.2889\n",
      "Epoch 4/15\n",
      "105/105 [==============================] - 0s 2ms/sample - loss: 1.9392 - accuracy: 0.4571 - val_loss: 1.1380 - val_accuracy: 0.2889\n",
      "Epoch 5/15\n",
      "105/105 [==============================] - 0s 2ms/sample - loss: 2.3652 - accuracy: 0.2762 - val_loss: 1.0530 - val_accuracy: 0.2889\n",
      "Epoch 6/15\n",
      "105/105 [==============================] - 0s 2ms/sample - loss: 2.3472 - accuracy: 0.3714 - val_loss: 1.0013 - val_accuracy: 0.2889\n",
      "Epoch 7/15\n",
      "105/105 [==============================] - 0s 2ms/sample - loss: 1.7626 - accuracy: 0.3524 - val_loss: 0.9742 - val_accuracy: 0.4000\n",
      "Epoch 8/15\n",
      "105/105 [==============================] - 0s 2ms/sample - loss: 1.6315 - accuracy: 0.4190 - val_loss: 0.9619 - val_accuracy: 0.5556\n",
      "Epoch 9/15\n",
      "105/105 [==============================] - 0s 2ms/sample - loss: 1.9917 - accuracy: 0.3524 - val_loss: 0.9532 - val_accuracy: 0.5556\n",
      "Epoch 10/15\n",
      "105/105 [==============================] - 0s 2ms/sample - loss: 1.4822 - accuracy: 0.4571 - val_loss: 0.9472 - val_accuracy: 0.5556\n",
      "Epoch 11/15\n",
      "105/105 [==============================] - 0s 2ms/sample - loss: 1.4612 - accuracy: 0.3524 - val_loss: 0.9444 - val_accuracy: 0.5556\n",
      "Epoch 12/15\n",
      "105/105 [==============================] - 0s 2ms/sample - loss: 1.3101 - accuracy: 0.4286 - val_loss: 0.9372 - val_accuracy: 0.5556\n",
      "Epoch 13/15\n",
      "105/105 [==============================] - 0s 2ms/sample - loss: 1.2716 - accuracy: 0.4857 - val_loss: 0.9369 - val_accuracy: 0.5556\n",
      "Epoch 14/15\n",
      "105/105 [==============================] - 0s 2ms/sample - loss: 1.3230 - accuracy: 0.4000 - val_loss: 0.9256 - val_accuracy: 0.5556\n",
      "Epoch 15/15\n",
      "105/105 [==============================] - 0s 2ms/sample - loss: 1.3342 - accuracy: 0.4952 - val_loss: 0.9104 - val_accuracy: 0.5556\n",
      "wandb: Agent Finished Run: wq5tp0un \n",
      "\n",
      "wandb: Agent Starting Run: 5dqh7g8z with config:\n",
      "\tbatch_size: 32\n",
      "\tepochs: 15\n",
      "\tlayers: 4\n",
      "wandb: Agent Started Run: 5dqh7g8z\n"
     ]
    },
    {
     "data": {
      "text/html": [
       "\n",
       "                Logging results to <a href=\"https://wandb.com\" target=\"_blank\">Weights & Biases</a> <a href=\"https://docs.wandb.com/integrations/jupyter.html\" target=\"_blank\">(Documentation)</a>.<br/>\n",
       "                Project page: <a href=\"https://app.wandb.ai/sinisha123/hyperparameter-sweeps-comparison\" target=\"_blank\">https://app.wandb.ai/sinisha123/hyperparameter-sweeps-comparison</a><br/>\n",
       "                Sweep page: <a href=\"https://app.wandb.ai/sinisha123/hyperparameter-sweeps-comparison/sweeps/rda1hnv0\" target=\"_blank\">https://app.wandb.ai/sinisha123/hyperparameter-sweeps-comparison/sweeps/rda1hnv0</a><br/>\n",
       "Run page: <a href=\"https://app.wandb.ai/sinisha123/hyperparameter-sweeps-comparison/runs/5dqh7g8z\" target=\"_blank\">https://app.wandb.ai/sinisha123/hyperparameter-sweeps-comparison/runs/5dqh7g8z</a><br/>\n",
       "            "
      ],
      "text/plain": [
       "<IPython.core.display.HTML object>"
      ]
     },
     "metadata": {},
     "output_type": "display_data"
    },
    {
     "name": "stdout",
     "output_type": "stream",
     "text": [
      "Train on 105 samples, validate on 45 samples\n",
      "Epoch 1/15\n",
      "105/105 [==============================] - 1s 10ms/sample - loss: 2.9028 - accuracy: 0.3524 - val_loss: 1.6668 - val_accuracy: 0.2889\n",
      "Epoch 2/15\n",
      "105/105 [==============================] - 0s 2ms/sample - loss: 2.0642 - accuracy: 0.4476 - val_loss: 1.4364 - val_accuracy: 0.2889\n",
      "Epoch 3/15\n",
      "105/105 [==============================] - 0s 2ms/sample - loss: 2.2950 - accuracy: 0.3905 - val_loss: 1.2692 - val_accuracy: 0.2889\n",
      "Epoch 4/15\n",
      "105/105 [==============================] - 0s 2ms/sample - loss: 1.9392 - accuracy: 0.4571 - val_loss: 1.1380 - val_accuracy: 0.2889\n",
      "Epoch 5/15\n",
      "105/105 [==============================] - 0s 2ms/sample - loss: 2.3652 - accuracy: 0.2762 - val_loss: 1.0530 - val_accuracy: 0.2889\n",
      "Epoch 6/15\n",
      "105/105 [==============================] - 0s 2ms/sample - loss: 2.3472 - accuracy: 0.3714 - val_loss: 1.0013 - val_accuracy: 0.2889\n",
      "Epoch 7/15\n",
      "105/105 [==============================] - 0s 2ms/sample - loss: 1.7626 - accuracy: 0.3524 - val_loss: 0.9742 - val_accuracy: 0.4000\n",
      "Epoch 8/15\n",
      "105/105 [==============================] - 0s 2ms/sample - loss: 1.6315 - accuracy: 0.4190 - val_loss: 0.9619 - val_accuracy: 0.5556\n",
      "Epoch 9/15\n",
      "105/105 [==============================] - 0s 2ms/sample - loss: 1.9917 - accuracy: 0.3524 - val_loss: 0.9532 - val_accuracy: 0.5556\n",
      "Epoch 10/15\n",
      "105/105 [==============================] - 0s 2ms/sample - loss: 1.4822 - accuracy: 0.4571 - val_loss: 0.9472 - val_accuracy: 0.5556\n",
      "Epoch 11/15\n",
      "105/105 [==============================] - 0s 2ms/sample - loss: 1.4612 - accuracy: 0.3524 - val_loss: 0.9444 - val_accuracy: 0.5556\n",
      "Epoch 12/15\n",
      "105/105 [==============================] - 0s 2ms/sample - loss: 1.3101 - accuracy: 0.4286 - val_loss: 0.9372 - val_accuracy: 0.5556\n",
      "Epoch 13/15\n",
      "105/105 [==============================] - 0s 2ms/sample - loss: 1.2716 - accuracy: 0.4857 - val_loss: 0.9369 - val_accuracy: 0.5556\n",
      "Epoch 14/15\n",
      "105/105 [==============================] - 0s 2ms/sample - loss: 1.3230 - accuracy: 0.4000 - val_loss: 0.9256 - val_accuracy: 0.5556\n",
      "Epoch 15/15\n",
      "105/105 [==============================] - 0s 2ms/sample - loss: 1.3342 - accuracy: 0.4952 - val_loss: 0.9104 - val_accuracy: 0.5556\n",
      "wandb: Agent Finished Run: 5dqh7g8z \n",
      "\n",
      "wandb: Agent Starting Run: xfq6kg1h with config:\n",
      "\tbatch_size: 32\n",
      "\tepochs: 15\n",
      "\tlayers: 4\n",
      "wandb: Agent Started Run: xfq6kg1h\n"
     ]
    },
    {
     "data": {
      "text/html": [
       "\n",
       "                Logging results to <a href=\"https://wandb.com\" target=\"_blank\">Weights & Biases</a> <a href=\"https://docs.wandb.com/integrations/jupyter.html\" target=\"_blank\">(Documentation)</a>.<br/>\n",
       "                Project page: <a href=\"https://app.wandb.ai/sinisha123/hyperparameter-sweeps-comparison\" target=\"_blank\">https://app.wandb.ai/sinisha123/hyperparameter-sweeps-comparison</a><br/>\n",
       "                Sweep page: <a href=\"https://app.wandb.ai/sinisha123/hyperparameter-sweeps-comparison/sweeps/rda1hnv0\" target=\"_blank\">https://app.wandb.ai/sinisha123/hyperparameter-sweeps-comparison/sweeps/rda1hnv0</a><br/>\n",
       "Run page: <a href=\"https://app.wandb.ai/sinisha123/hyperparameter-sweeps-comparison/runs/xfq6kg1h\" target=\"_blank\">https://app.wandb.ai/sinisha123/hyperparameter-sweeps-comparison/runs/xfq6kg1h</a><br/>\n",
       "            "
      ],
      "text/plain": [
       "<IPython.core.display.HTML object>"
      ]
     },
     "metadata": {},
     "output_type": "display_data"
    },
    {
     "name": "stdout",
     "output_type": "stream",
     "text": [
      "Train on 105 samples, validate on 45 samples\n",
      "Epoch 1/15\n",
      "105/105 [==============================] - 1s 9ms/sample - loss: 2.9028 - accuracy: 0.3524 - val_loss: 1.6668 - val_accuracy: 0.2889\n",
      "Epoch 2/15\n",
      "105/105 [==============================] - 0s 2ms/sample - loss: 2.0642 - accuracy: 0.4476 - val_loss: 1.4364 - val_accuracy: 0.2889\n",
      "Epoch 3/15\n",
      "105/105 [==============================] - 0s 2ms/sample - loss: 2.2950 - accuracy: 0.3905 - val_loss: 1.2692 - val_accuracy: 0.2889\n",
      "Epoch 4/15\n",
      "105/105 [==============================] - 0s 2ms/sample - loss: 1.9392 - accuracy: 0.4571 - val_loss: 1.1380 - val_accuracy: 0.2889\n",
      "Epoch 5/15\n",
      "105/105 [==============================] - 0s 2ms/sample - loss: 2.3652 - accuracy: 0.2762 - val_loss: 1.0530 - val_accuracy: 0.2889\n",
      "Epoch 6/15\n",
      "105/105 [==============================] - 0s 2ms/sample - loss: 2.3472 - accuracy: 0.3714 - val_loss: 1.0013 - val_accuracy: 0.2889\n",
      "Epoch 7/15\n",
      "105/105 [==============================] - 0s 2ms/sample - loss: 1.7626 - accuracy: 0.3524 - val_loss: 0.9742 - val_accuracy: 0.4000\n",
      "Epoch 8/15\n",
      "105/105 [==============================] - 0s 2ms/sample - loss: 1.6315 - accuracy: 0.4190 - val_loss: 0.9619 - val_accuracy: 0.5556\n",
      "Epoch 9/15\n",
      "105/105 [==============================] - 0s 2ms/sample - loss: 1.9917 - accuracy: 0.3524 - val_loss: 0.9532 - val_accuracy: 0.5556\n",
      "Epoch 10/15\n",
      "105/105 [==============================] - 0s 2ms/sample - loss: 1.4822 - accuracy: 0.4571 - val_loss: 0.9472 - val_accuracy: 0.5556\n",
      "Epoch 11/15\n",
      "105/105 [==============================] - 0s 2ms/sample - loss: 1.4612 - accuracy: 0.3524 - val_loss: 0.9444 - val_accuracy: 0.5556\n",
      "Epoch 12/15\n",
      "105/105 [==============================] - 0s 2ms/sample - loss: 1.3101 - accuracy: 0.4286 - val_loss: 0.9372 - val_accuracy: 0.5556\n",
      "Epoch 13/15\n",
      "105/105 [==============================] - 0s 2ms/sample - loss: 1.2716 - accuracy: 0.4857 - val_loss: 0.9369 - val_accuracy: 0.5556\n",
      "Epoch 14/15\n",
      "105/105 [==============================] - 0s 2ms/sample - loss: 1.3230 - accuracy: 0.4000 - val_loss: 0.9256 - val_accuracy: 0.5556\n",
      "Epoch 15/15\n",
      "105/105 [==============================] - 0s 2ms/sample - loss: 1.3342 - accuracy: 0.4952 - val_loss: 0.9104 - val_accuracy: 0.5556\n",
      "wandb: Agent Finished Run: xfq6kg1h \n",
      "\n",
      "wandb: Agent Starting Run: k4hq0bam with config:\n",
      "\tbatch_size: 32\n",
      "\tepochs: 15\n",
      "\tlayers: 4\n",
      "wandb: Agent Started Run: k4hq0bam\n"
     ]
    },
    {
     "data": {
      "text/html": [
       "\n",
       "                Logging results to <a href=\"https://wandb.com\" target=\"_blank\">Weights & Biases</a> <a href=\"https://docs.wandb.com/integrations/jupyter.html\" target=\"_blank\">(Documentation)</a>.<br/>\n",
       "                Project page: <a href=\"https://app.wandb.ai/sinisha123/hyperparameter-sweeps-comparison\" target=\"_blank\">https://app.wandb.ai/sinisha123/hyperparameter-sweeps-comparison</a><br/>\n",
       "                Sweep page: <a href=\"https://app.wandb.ai/sinisha123/hyperparameter-sweeps-comparison/sweeps/rda1hnv0\" target=\"_blank\">https://app.wandb.ai/sinisha123/hyperparameter-sweeps-comparison/sweeps/rda1hnv0</a><br/>\n",
       "Run page: <a href=\"https://app.wandb.ai/sinisha123/hyperparameter-sweeps-comparison/runs/k4hq0bam\" target=\"_blank\">https://app.wandb.ai/sinisha123/hyperparameter-sweeps-comparison/runs/k4hq0bam</a><br/>\n",
       "            "
      ],
      "text/plain": [
       "<IPython.core.display.HTML object>"
      ]
     },
     "metadata": {},
     "output_type": "display_data"
    },
    {
     "name": "stdout",
     "output_type": "stream",
     "text": [
      "Train on 105 samples, validate on 45 samples\n",
      "Epoch 1/15\n",
      "105/105 [==============================] - 1s 10ms/sample - loss: 2.9028 - accuracy: 0.3524 - val_loss: 1.6668 - val_accuracy: 0.2889\n",
      "Epoch 2/15\n",
      "105/105 [==============================] - 0s 2ms/sample - loss: 2.0642 - accuracy: 0.4476 - val_loss: 1.4364 - val_accuracy: 0.2889\n",
      "Epoch 3/15\n",
      "105/105 [==============================] - 0s 2ms/sample - loss: 2.2950 - accuracy: 0.3905 - val_loss: 1.2692 - val_accuracy: 0.2889\n",
      "Epoch 4/15\n",
      "105/105 [==============================] - 0s 2ms/sample - loss: 1.9392 - accuracy: 0.4571 - val_loss: 1.1380 - val_accuracy: 0.2889\n",
      "Epoch 5/15\n",
      "105/105 [==============================] - 0s 2ms/sample - loss: 2.3652 - accuracy: 0.2762 - val_loss: 1.0530 - val_accuracy: 0.2889\n",
      "Epoch 6/15\n",
      "105/105 [==============================] - 0s 2ms/sample - loss: 2.3472 - accuracy: 0.3714 - val_loss: 1.0013 - val_accuracy: 0.2889\n",
      "Epoch 7/15\n",
      "105/105 [==============================] - 0s 2ms/sample - loss: 1.7626 - accuracy: 0.3524 - val_loss: 0.9742 - val_accuracy: 0.4000\n",
      "Epoch 8/15\n",
      "105/105 [==============================] - 0s 2ms/sample - loss: 1.6315 - accuracy: 0.4190 - val_loss: 0.9619 - val_accuracy: 0.5556\n",
      "Epoch 9/15\n",
      "105/105 [==============================] - 0s 2ms/sample - loss: 1.9917 - accuracy: 0.3524 - val_loss: 0.9532 - val_accuracy: 0.5556\n",
      "Epoch 10/15\n",
      "105/105 [==============================] - 0s 2ms/sample - loss: 1.4822 - accuracy: 0.4571 - val_loss: 0.9472 - val_accuracy: 0.5556\n",
      "Epoch 11/15\n",
      "105/105 [==============================] - 0s 2ms/sample - loss: 1.4612 - accuracy: 0.3524 - val_loss: 0.9444 - val_accuracy: 0.5556\n",
      "Epoch 12/15\n",
      "105/105 [==============================] - 0s 2ms/sample - loss: 1.3101 - accuracy: 0.4286 - val_loss: 0.9372 - val_accuracy: 0.5556\n",
      "Epoch 13/15\n",
      "105/105 [==============================] - 0s 2ms/sample - loss: 1.2716 - accuracy: 0.4857 - val_loss: 0.9369 - val_accuracy: 0.5556\n",
      "Epoch 14/15\n",
      "105/105 [==============================] - 0s 2ms/sample - loss: 1.3230 - accuracy: 0.4000 - val_loss: 0.9256 - val_accuracy: 0.5556\n",
      "Epoch 15/15\n",
      "105/105 [==============================] - 0s 2ms/sample - loss: 1.3342 - accuracy: 0.4952 - val_loss: 0.9104 - val_accuracy: 0.5556\n",
      "wandb: Agent Finished Run: k4hq0bam \n",
      "\n",
      "wandb: Agent Starting Run: ufvinwlm with config:\n",
      "\tbatch_size: 32\n",
      "\tepochs: 15\n",
      "\tlayers: 4\n",
      "wandb: Agent Started Run: ufvinwlm\n"
     ]
    },
    {
     "data": {
      "text/html": [
       "\n",
       "                Logging results to <a href=\"https://wandb.com\" target=\"_blank\">Weights & Biases</a> <a href=\"https://docs.wandb.com/integrations/jupyter.html\" target=\"_blank\">(Documentation)</a>.<br/>\n",
       "                Project page: <a href=\"https://app.wandb.ai/sinisha123/hyperparameter-sweeps-comparison\" target=\"_blank\">https://app.wandb.ai/sinisha123/hyperparameter-sweeps-comparison</a><br/>\n",
       "                Sweep page: <a href=\"https://app.wandb.ai/sinisha123/hyperparameter-sweeps-comparison/sweeps/rda1hnv0\" target=\"_blank\">https://app.wandb.ai/sinisha123/hyperparameter-sweeps-comparison/sweeps/rda1hnv0</a><br/>\n",
       "Run page: <a href=\"https://app.wandb.ai/sinisha123/hyperparameter-sweeps-comparison/runs/ufvinwlm\" target=\"_blank\">https://app.wandb.ai/sinisha123/hyperparameter-sweeps-comparison/runs/ufvinwlm</a><br/>\n",
       "            "
      ],
      "text/plain": [
       "<IPython.core.display.HTML object>"
      ]
     },
     "metadata": {},
     "output_type": "display_data"
    },
    {
     "name": "stdout",
     "output_type": "stream",
     "text": [
      "Train on 105 samples, validate on 45 samples\n",
      "Epoch 1/15\n",
      "105/105 [==============================] - 1s 10ms/sample - loss: 2.9028 - accuracy: 0.3524 - val_loss: 1.6668 - val_accuracy: 0.2889\n",
      "Epoch 2/15\n",
      "105/105 [==============================] - 0s 2ms/sample - loss: 2.0642 - accuracy: 0.4476 - val_loss: 1.4364 - val_accuracy: 0.2889\n",
      "Epoch 3/15\n",
      "105/105 [==============================] - 0s 2ms/sample - loss: 2.2950 - accuracy: 0.3905 - val_loss: 1.2692 - val_accuracy: 0.2889\n",
      "Epoch 4/15\n",
      "105/105 [==============================] - 0s 2ms/sample - loss: 1.9392 - accuracy: 0.4571 - val_loss: 1.1380 - val_accuracy: 0.2889\n",
      "Epoch 5/15\n",
      "105/105 [==============================] - 0s 2ms/sample - loss: 2.3652 - accuracy: 0.2762 - val_loss: 1.0530 - val_accuracy: 0.2889\n",
      "Epoch 6/15\n",
      "105/105 [==============================] - 0s 2ms/sample - loss: 2.3472 - accuracy: 0.3714 - val_loss: 1.0013 - val_accuracy: 0.2889\n",
      "Epoch 7/15\n",
      "105/105 [==============================] - 0s 2ms/sample - loss: 1.7626 - accuracy: 0.3524 - val_loss: 0.9742 - val_accuracy: 0.4000\n",
      "Epoch 8/15\n",
      "105/105 [==============================] - 0s 2ms/sample - loss: 1.6315 - accuracy: 0.4190 - val_loss: 0.9619 - val_accuracy: 0.5556\n",
      "Epoch 9/15\n",
      "105/105 [==============================] - 0s 2ms/sample - loss: 1.9917 - accuracy: 0.3524 - val_loss: 0.9532 - val_accuracy: 0.5556\n",
      "Epoch 10/15\n",
      "105/105 [==============================] - 0s 2ms/sample - loss: 1.4822 - accuracy: 0.4571 - val_loss: 0.9472 - val_accuracy: 0.5556\n",
      "Epoch 11/15\n",
      "105/105 [==============================] - 0s 2ms/sample - loss: 1.4612 - accuracy: 0.3524 - val_loss: 0.9444 - val_accuracy: 0.5556\n",
      "Epoch 12/15\n",
      "105/105 [==============================] - 0s 2ms/sample - loss: 1.3101 - accuracy: 0.4286 - val_loss: 0.9372 - val_accuracy: 0.5556\n",
      "Epoch 13/15\n",
      "105/105 [==============================] - 0s 2ms/sample - loss: 1.2716 - accuracy: 0.4857 - val_loss: 0.9369 - val_accuracy: 0.5556\n",
      "Epoch 14/15\n",
      "105/105 [==============================] - 0s 2ms/sample - loss: 1.3230 - accuracy: 0.4000 - val_loss: 0.9256 - val_accuracy: 0.5556\n",
      "Epoch 15/15\n",
      "105/105 [==============================] - 0s 2ms/sample - loss: 1.3342 - accuracy: 0.4952 - val_loss: 0.9104 - val_accuracy: 0.5556\n",
      "wandb: Agent Finished Run: ufvinwlm \n",
      "\n",
      "wandb: Agent Starting Run: laoxniap with config:\n",
      "\tbatch_size: 32\n",
      "\tepochs: 15\n",
      "\tlayers: 4\n",
      "wandb: Agent Started Run: laoxniap\n"
     ]
    },
    {
     "data": {
      "text/html": [
       "\n",
       "                Logging results to <a href=\"https://wandb.com\" target=\"_blank\">Weights & Biases</a> <a href=\"https://docs.wandb.com/integrations/jupyter.html\" target=\"_blank\">(Documentation)</a>.<br/>\n",
       "                Project page: <a href=\"https://app.wandb.ai/sinisha123/hyperparameter-sweeps-comparison\" target=\"_blank\">https://app.wandb.ai/sinisha123/hyperparameter-sweeps-comparison</a><br/>\n",
       "                Sweep page: <a href=\"https://app.wandb.ai/sinisha123/hyperparameter-sweeps-comparison/sweeps/rda1hnv0\" target=\"_blank\">https://app.wandb.ai/sinisha123/hyperparameter-sweeps-comparison/sweeps/rda1hnv0</a><br/>\n",
       "Run page: <a href=\"https://app.wandb.ai/sinisha123/hyperparameter-sweeps-comparison/runs/laoxniap\" target=\"_blank\">https://app.wandb.ai/sinisha123/hyperparameter-sweeps-comparison/runs/laoxniap</a><br/>\n",
       "            "
      ],
      "text/plain": [
       "<IPython.core.display.HTML object>"
      ]
     },
     "metadata": {},
     "output_type": "display_data"
    },
    {
     "name": "stdout",
     "output_type": "stream",
     "text": [
      "Train on 105 samples, validate on 45 samples\n",
      "Epoch 1/15\n",
      "105/105 [==============================] - 1s 10ms/sample - loss: 2.9028 - accuracy: 0.3524 - val_loss: 1.6668 - val_accuracy: 0.2889\n",
      "Epoch 2/15\n",
      "105/105 [==============================] - 0s 2ms/sample - loss: 2.0642 - accuracy: 0.4476 - val_loss: 1.4364 - val_accuracy: 0.2889\n",
      "Epoch 3/15\n",
      "105/105 [==============================] - 0s 2ms/sample - loss: 2.2950 - accuracy: 0.3905 - val_loss: 1.2692 - val_accuracy: 0.2889\n",
      "Epoch 4/15\n",
      "105/105 [==============================] - 0s 2ms/sample - loss: 1.9392 - accuracy: 0.4571 - val_loss: 1.1380 - val_accuracy: 0.2889\n",
      "Epoch 5/15\n",
      "105/105 [==============================] - 0s 2ms/sample - loss: 2.3652 - accuracy: 0.2762 - val_loss: 1.0530 - val_accuracy: 0.2889\n",
      "Epoch 6/15\n",
      "105/105 [==============================] - 0s 2ms/sample - loss: 2.3472 - accuracy: 0.3714 - val_loss: 1.0013 - val_accuracy: 0.2889\n",
      "Epoch 7/15\n",
      "105/105 [==============================] - 0s 2ms/sample - loss: 1.7626 - accuracy: 0.3524 - val_loss: 0.9742 - val_accuracy: 0.4000\n",
      "Epoch 8/15\n",
      "105/105 [==============================] - 0s 2ms/sample - loss: 1.6315 - accuracy: 0.4190 - val_loss: 0.9619 - val_accuracy: 0.5556\n",
      "Epoch 9/15\n",
      "105/105 [==============================] - 0s 2ms/sample - loss: 1.9917 - accuracy: 0.3524 - val_loss: 0.9532 - val_accuracy: 0.5556\n",
      "Epoch 10/15\n",
      "105/105 [==============================] - 0s 2ms/sample - loss: 1.4822 - accuracy: 0.4571 - val_loss: 0.9472 - val_accuracy: 0.5556\n",
      "Epoch 11/15\n",
      "105/105 [==============================] - 0s 2ms/sample - loss: 1.4612 - accuracy: 0.3524 - val_loss: 0.9444 - val_accuracy: 0.5556\n",
      "Epoch 12/15\n",
      "105/105 [==============================] - 0s 2ms/sample - loss: 1.3101 - accuracy: 0.4286 - val_loss: 0.9372 - val_accuracy: 0.5556\n",
      "Epoch 13/15\n",
      "105/105 [==============================] - 0s 2ms/sample - loss: 1.2716 - accuracy: 0.4857 - val_loss: 0.9369 - val_accuracy: 0.5556\n",
      "Epoch 14/15\n",
      "105/105 [==============================] - 0s 2ms/sample - loss: 1.3230 - accuracy: 0.4000 - val_loss: 0.9256 - val_accuracy: 0.5556\n",
      "Epoch 15/15\n",
      "105/105 [==============================] - 0s 2ms/sample - loss: 1.3342 - accuracy: 0.4952 - val_loss: 0.9104 - val_accuracy: 0.5556\n",
      "wandb: Agent Finished Run: laoxniap \n",
      "\n",
      "wandb: Agent Starting Run: m317do6m with config:\n",
      "\tbatch_size: 32\n",
      "\tepochs: 15\n",
      "\tlayers: 4\n",
      "wandb: Agent Started Run: m317do6m\n"
     ]
    },
    {
     "data": {
      "text/html": [
       "\n",
       "                Logging results to <a href=\"https://wandb.com\" target=\"_blank\">Weights & Biases</a> <a href=\"https://docs.wandb.com/integrations/jupyter.html\" target=\"_blank\">(Documentation)</a>.<br/>\n",
       "                Project page: <a href=\"https://app.wandb.ai/sinisha123/hyperparameter-sweeps-comparison\" target=\"_blank\">https://app.wandb.ai/sinisha123/hyperparameter-sweeps-comparison</a><br/>\n",
       "                Sweep page: <a href=\"https://app.wandb.ai/sinisha123/hyperparameter-sweeps-comparison/sweeps/rda1hnv0\" target=\"_blank\">https://app.wandb.ai/sinisha123/hyperparameter-sweeps-comparison/sweeps/rda1hnv0</a><br/>\n",
       "Run page: <a href=\"https://app.wandb.ai/sinisha123/hyperparameter-sweeps-comparison/runs/m317do6m\" target=\"_blank\">https://app.wandb.ai/sinisha123/hyperparameter-sweeps-comparison/runs/m317do6m</a><br/>\n",
       "            "
      ],
      "text/plain": [
       "<IPython.core.display.HTML object>"
      ]
     },
     "metadata": {},
     "output_type": "display_data"
    },
    {
     "name": "stdout",
     "output_type": "stream",
     "text": [
      "Train on 105 samples, validate on 45 samples\n",
      "Epoch 1/15\n",
      "105/105 [==============================] - 1s 12ms/sample - loss: 2.9028 - accuracy: 0.3524 - val_loss: 1.6668 - val_accuracy: 0.2889\n",
      "Epoch 2/15\n",
      "105/105 [==============================] - 0s 2ms/sample - loss: 2.0642 - accuracy: 0.4476 - val_loss: 1.4364 - val_accuracy: 0.2889\n",
      "Epoch 3/15\n",
      "105/105 [==============================] - 0s 2ms/sample - loss: 2.2950 - accuracy: 0.3905 - val_loss: 1.2692 - val_accuracy: 0.2889\n",
      "Epoch 4/15\n",
      "105/105 [==============================] - 0s 2ms/sample - loss: 1.9392 - accuracy: 0.4571 - val_loss: 1.1380 - val_accuracy: 0.2889\n",
      "Epoch 5/15\n",
      "105/105 [==============================] - 0s 2ms/sample - loss: 2.3652 - accuracy: 0.2762 - val_loss: 1.0530 - val_accuracy: 0.2889\n",
      "Epoch 6/15\n",
      "105/105 [==============================] - 0s 3ms/sample - loss: 2.3472 - accuracy: 0.3714 - val_loss: 1.0013 - val_accuracy: 0.2889\n",
      "Epoch 7/15\n",
      "105/105 [==============================] - 0s 2ms/sample - loss: 1.7626 - accuracy: 0.3524 - val_loss: 0.9742 - val_accuracy: 0.4000\n",
      "Epoch 8/15\n",
      "105/105 [==============================] - 0s 2ms/sample - loss: 1.6315 - accuracy: 0.4190 - val_loss: 0.9619 - val_accuracy: 0.5556\n",
      "Epoch 9/15\n",
      "105/105 [==============================] - 0s 2ms/sample - loss: 1.9917 - accuracy: 0.3524 - val_loss: 0.9532 - val_accuracy: 0.5556\n",
      "Epoch 10/15\n",
      "105/105 [==============================] - 0s 2ms/sample - loss: 1.4822 - accuracy: 0.4571 - val_loss: 0.9472 - val_accuracy: 0.5556\n",
      "Epoch 11/15\n",
      "105/105 [==============================] - 0s 2ms/sample - loss: 1.4612 - accuracy: 0.3524 - val_loss: 0.9444 - val_accuracy: 0.5556\n",
      "Epoch 12/15\n",
      "105/105 [==============================] - 0s 2ms/sample - loss: 1.3101 - accuracy: 0.4286 - val_loss: 0.9372 - val_accuracy: 0.5556\n",
      "Epoch 13/15\n",
      "105/105 [==============================] - 0s 2ms/sample - loss: 1.2716 - accuracy: 0.4857 - val_loss: 0.9369 - val_accuracy: 0.5556\n",
      "Epoch 14/15\n",
      "105/105 [==============================] - 0s 2ms/sample - loss: 1.3230 - accuracy: 0.4000 - val_loss: 0.9256 - val_accuracy: 0.5556\n",
      "Epoch 15/15\n",
      "105/105 [==============================] - 0s 2ms/sample - loss: 1.3342 - accuracy: 0.4952 - val_loss: 0.9104 - val_accuracy: 0.5556\n",
      "wandb: Agent Finished Run: m317do6m \n",
      "\n",
      "wandb: Agent Starting Run: x55yrhde with config:\n",
      "\tbatch_size: 32\n",
      "\tepochs: 15\n",
      "\tlayers: 4\n",
      "wandb: Agent Started Run: x55yrhde\n"
     ]
    },
    {
     "data": {
      "text/html": [
       "\n",
       "                Logging results to <a href=\"https://wandb.com\" target=\"_blank\">Weights & Biases</a> <a href=\"https://docs.wandb.com/integrations/jupyter.html\" target=\"_blank\">(Documentation)</a>.<br/>\n",
       "                Project page: <a href=\"https://app.wandb.ai/sinisha123/hyperparameter-sweeps-comparison\" target=\"_blank\">https://app.wandb.ai/sinisha123/hyperparameter-sweeps-comparison</a><br/>\n",
       "                Sweep page: <a href=\"https://app.wandb.ai/sinisha123/hyperparameter-sweeps-comparison/sweeps/rda1hnv0\" target=\"_blank\">https://app.wandb.ai/sinisha123/hyperparameter-sweeps-comparison/sweeps/rda1hnv0</a><br/>\n",
       "Run page: <a href=\"https://app.wandb.ai/sinisha123/hyperparameter-sweeps-comparison/runs/x55yrhde\" target=\"_blank\">https://app.wandb.ai/sinisha123/hyperparameter-sweeps-comparison/runs/x55yrhde</a><br/>\n",
       "            "
      ],
      "text/plain": [
       "<IPython.core.display.HTML object>"
      ]
     },
     "metadata": {},
     "output_type": "display_data"
    },
    {
     "name": "stdout",
     "output_type": "stream",
     "text": [
      "Train on 105 samples, validate on 45 samples\n",
      "Epoch 1/15\n",
      "105/105 [==============================] - 1s 10ms/sample - loss: 2.9028 - accuracy: 0.3524 - val_loss: 1.6668 - val_accuracy: 0.2889\n",
      "Epoch 2/15\n",
      "105/105 [==============================] - 0s 2ms/sample - loss: 2.0642 - accuracy: 0.4476 - val_loss: 1.4364 - val_accuracy: 0.2889\n",
      "Epoch 3/15\n",
      "105/105 [==============================] - 0s 2ms/sample - loss: 2.2950 - accuracy: 0.3905 - val_loss: 1.2692 - val_accuracy: 0.2889\n",
      "Epoch 4/15\n",
      "105/105 [==============================] - 0s 2ms/sample - loss: 1.9392 - accuracy: 0.4571 - val_loss: 1.1380 - val_accuracy: 0.2889\n",
      "Epoch 5/15\n",
      "105/105 [==============================] - 0s 2ms/sample - loss: 2.3652 - accuracy: 0.2762 - val_loss: 1.0530 - val_accuracy: 0.2889\n",
      "Epoch 6/15\n",
      "105/105 [==============================] - 0s 2ms/sample - loss: 2.3472 - accuracy: 0.3714 - val_loss: 1.0013 - val_accuracy: 0.2889\n",
      "Epoch 7/15\n",
      "105/105 [==============================] - 0s 2ms/sample - loss: 1.7626 - accuracy: 0.3524 - val_loss: 0.9742 - val_accuracy: 0.4000\n",
      "Epoch 8/15\n",
      "105/105 [==============================] - 0s 2ms/sample - loss: 1.6315 - accuracy: 0.4190 - val_loss: 0.9619 - val_accuracy: 0.5556\n",
      "Epoch 9/15\n",
      "105/105 [==============================] - 0s 2ms/sample - loss: 1.9917 - accuracy: 0.3524 - val_loss: 0.9532 - val_accuracy: 0.5556\n",
      "Epoch 10/15\n",
      "105/105 [==============================] - 0s 2ms/sample - loss: 1.4822 - accuracy: 0.4571 - val_loss: 0.9472 - val_accuracy: 0.5556\n",
      "Epoch 11/15\n",
      "105/105 [==============================] - 0s 2ms/sample - loss: 1.4612 - accuracy: 0.3524 - val_loss: 0.9444 - val_accuracy: 0.5556\n",
      "Epoch 12/15\n",
      "105/105 [==============================] - 0s 2ms/sample - loss: 1.3101 - accuracy: 0.4286 - val_loss: 0.9372 - val_accuracy: 0.5556\n",
      "Epoch 13/15\n",
      "105/105 [==============================] - 0s 2ms/sample - loss: 1.2716 - accuracy: 0.4857 - val_loss: 0.9369 - val_accuracy: 0.5556\n",
      "Epoch 14/15\n",
      "105/105 [==============================] - 0s 3ms/sample - loss: 1.3230 - accuracy: 0.4000 - val_loss: 0.9256 - val_accuracy: 0.5556\n",
      "Epoch 15/15\n",
      "105/105 [==============================] - 0s 2ms/sample - loss: 1.3342 - accuracy: 0.4952 - val_loss: 0.9104 - val_accuracy: 0.5556\n",
      "wandb: Agent Finished Run: x55yrhde \n",
      "\n",
      "wandb: Agent Starting Run: pkqk5x69 with config:\n",
      "\tbatch_size: 32\n",
      "\tepochs: 15\n",
      "\tlayers: 4\n",
      "wandb: Agent Started Run: pkqk5x69\n"
     ]
    },
    {
     "data": {
      "text/html": [
       "\n",
       "                Logging results to <a href=\"https://wandb.com\" target=\"_blank\">Weights & Biases</a> <a href=\"https://docs.wandb.com/integrations/jupyter.html\" target=\"_blank\">(Documentation)</a>.<br/>\n",
       "                Project page: <a href=\"https://app.wandb.ai/sinisha123/hyperparameter-sweeps-comparison\" target=\"_blank\">https://app.wandb.ai/sinisha123/hyperparameter-sweeps-comparison</a><br/>\n",
       "                Sweep page: <a href=\"https://app.wandb.ai/sinisha123/hyperparameter-sweeps-comparison/sweeps/rda1hnv0\" target=\"_blank\">https://app.wandb.ai/sinisha123/hyperparameter-sweeps-comparison/sweeps/rda1hnv0</a><br/>\n",
       "Run page: <a href=\"https://app.wandb.ai/sinisha123/hyperparameter-sweeps-comparison/runs/pkqk5x69\" target=\"_blank\">https://app.wandb.ai/sinisha123/hyperparameter-sweeps-comparison/runs/pkqk5x69</a><br/>\n",
       "            "
      ],
      "text/plain": [
       "<IPython.core.display.HTML object>"
      ]
     },
     "metadata": {},
     "output_type": "display_data"
    },
    {
     "name": "stdout",
     "output_type": "stream",
     "text": [
      "Train on 105 samples, validate on 45 samples\n",
      "Epoch 1/15\n",
      "105/105 [==============================] - 1s 9ms/sample - loss: 2.9028 - accuracy: 0.3524 - val_loss: 1.6668 - val_accuracy: 0.2889\n",
      "Epoch 2/15\n",
      "105/105 [==============================] - 0s 3ms/sample - loss: 2.0642 - accuracy: 0.4476 - val_loss: 1.4364 - val_accuracy: 0.2889\n",
      "Epoch 3/15\n",
      "105/105 [==============================] - 0s 2ms/sample - loss: 2.2950 - accuracy: 0.3905 - val_loss: 1.2692 - val_accuracy: 0.2889\n",
      "Epoch 4/15\n",
      "105/105 [==============================] - 0s 2ms/sample - loss: 1.9392 - accuracy: 0.4571 - val_loss: 1.1380 - val_accuracy: 0.2889\n",
      "Epoch 5/15\n",
      "105/105 [==============================] - 0s 2ms/sample - loss: 2.3652 - accuracy: 0.2762 - val_loss: 1.0530 - val_accuracy: 0.2889\n",
      "Epoch 6/15\n",
      "105/105 [==============================] - 0s 2ms/sample - loss: 2.3472 - accuracy: 0.3714 - val_loss: 1.0013 - val_accuracy: 0.2889\n",
      "Epoch 7/15\n",
      "105/105 [==============================] - 0s 2ms/sample - loss: 1.7626 - accuracy: 0.3524 - val_loss: 0.9742 - val_accuracy: 0.4000\n",
      "Epoch 8/15\n",
      "105/105 [==============================] - 0s 2ms/sample - loss: 1.6315 - accuracy: 0.4190 - val_loss: 0.9619 - val_accuracy: 0.5556\n",
      "Epoch 9/15\n",
      "105/105 [==============================] - 0s 2ms/sample - loss: 1.9917 - accuracy: 0.3524 - val_loss: 0.9532 - val_accuracy: 0.5556\n",
      "Epoch 10/15\n",
      "105/105 [==============================] - 0s 2ms/sample - loss: 1.4822 - accuracy: 0.4571 - val_loss: 0.9472 - val_accuracy: 0.5556\n",
      "Epoch 11/15\n",
      "105/105 [==============================] - 0s 2ms/sample - loss: 1.4612 - accuracy: 0.3524 - val_loss: 0.9444 - val_accuracy: 0.5556\n",
      "Epoch 12/15\n",
      "105/105 [==============================] - 0s 2ms/sample - loss: 1.3101 - accuracy: 0.4286 - val_loss: 0.9372 - val_accuracy: 0.5556\n",
      "Epoch 13/15\n",
      "105/105 [==============================] - 0s 2ms/sample - loss: 1.2716 - accuracy: 0.4857 - val_loss: 0.9369 - val_accuracy: 0.5556\n",
      "Epoch 14/15\n",
      "105/105 [==============================] - 0s 2ms/sample - loss: 1.3230 - accuracy: 0.4000 - val_loss: 0.9256 - val_accuracy: 0.5556\n",
      "Epoch 15/15\n",
      "105/105 [==============================] - 0s 2ms/sample - loss: 1.3342 - accuracy: 0.4952 - val_loss: 0.9104 - val_accuracy: 0.5556\n",
      "wandb: Agent Finished Run: pkqk5x69 \n",
      "\n",
      "wandb: Agent Starting Run: 8y5gddat with config:\n",
      "\tbatch_size: 32\n",
      "\tepochs: 15\n",
      "\tlayers: 4\n",
      "wandb: Agent Started Run: 8y5gddat\n"
     ]
    },
    {
     "data": {
      "text/html": [
       "\n",
       "                Logging results to <a href=\"https://wandb.com\" target=\"_blank\">Weights & Biases</a> <a href=\"https://docs.wandb.com/integrations/jupyter.html\" target=\"_blank\">(Documentation)</a>.<br/>\n",
       "                Project page: <a href=\"https://app.wandb.ai/sinisha123/hyperparameter-sweeps-comparison\" target=\"_blank\">https://app.wandb.ai/sinisha123/hyperparameter-sweeps-comparison</a><br/>\n",
       "                Sweep page: <a href=\"https://app.wandb.ai/sinisha123/hyperparameter-sweeps-comparison/sweeps/rda1hnv0\" target=\"_blank\">https://app.wandb.ai/sinisha123/hyperparameter-sweeps-comparison/sweeps/rda1hnv0</a><br/>\n",
       "Run page: <a href=\"https://app.wandb.ai/sinisha123/hyperparameter-sweeps-comparison/runs/8y5gddat\" target=\"_blank\">https://app.wandb.ai/sinisha123/hyperparameter-sweeps-comparison/runs/8y5gddat</a><br/>\n",
       "            "
      ],
      "text/plain": [
       "<IPython.core.display.HTML object>"
      ]
     },
     "metadata": {},
     "output_type": "display_data"
    },
    {
     "name": "stdout",
     "output_type": "stream",
     "text": [
      "Train on 105 samples, validate on 45 samples\n",
      "Epoch 1/15\n",
      "105/105 [==============================] - 1s 10ms/sample - loss: 2.9028 - accuracy: 0.3524 - val_loss: 1.6668 - val_accuracy: 0.2889\n",
      "Epoch 2/15\n",
      "105/105 [==============================] - 0s 2ms/sample - loss: 2.0642 - accuracy: 0.4476 - val_loss: 1.4364 - val_accuracy: 0.2889\n",
      "Epoch 3/15\n",
      "105/105 [==============================] - 0s 2ms/sample - loss: 2.2950 - accuracy: 0.3905 - val_loss: 1.2692 - val_accuracy: 0.2889\n",
      "Epoch 4/15\n",
      "105/105 [==============================] - 0s 2ms/sample - loss: 1.9392 - accuracy: 0.4571 - val_loss: 1.1380 - val_accuracy: 0.2889\n",
      "Epoch 5/15\n",
      "105/105 [==============================] - 0s 2ms/sample - loss: 2.3652 - accuracy: 0.2762 - val_loss: 1.0530 - val_accuracy: 0.2889\n",
      "Epoch 6/15\n",
      "105/105 [==============================] - 0s 2ms/sample - loss: 2.3472 - accuracy: 0.3714 - val_loss: 1.0013 - val_accuracy: 0.2889\n",
      "Epoch 7/15\n",
      "105/105 [==============================] - 0s 2ms/sample - loss: 1.7626 - accuracy: 0.3524 - val_loss: 0.9742 - val_accuracy: 0.4000\n",
      "Epoch 8/15\n",
      "105/105 [==============================] - 0s 2ms/sample - loss: 1.6315 - accuracy: 0.4190 - val_loss: 0.9619 - val_accuracy: 0.5556\n",
      "Epoch 9/15\n",
      "105/105 [==============================] - 0s 2ms/sample - loss: 1.9917 - accuracy: 0.3524 - val_loss: 0.9532 - val_accuracy: 0.5556\n",
      "Epoch 10/15\n",
      "105/105 [==============================] - 0s 2ms/sample - loss: 1.4822 - accuracy: 0.4571 - val_loss: 0.9472 - val_accuracy: 0.5556\n",
      "Epoch 11/15\n",
      "105/105 [==============================] - 0s 2ms/sample - loss: 1.4612 - accuracy: 0.3524 - val_loss: 0.9444 - val_accuracy: 0.5556\n",
      "Epoch 12/15\n",
      "105/105 [==============================] - 0s 2ms/sample - loss: 1.3101 - accuracy: 0.4286 - val_loss: 0.9372 - val_accuracy: 0.5556\n",
      "Epoch 13/15\n",
      "105/105 [==============================] - 0s 2ms/sample - loss: 1.2716 - accuracy: 0.4857 - val_loss: 0.9369 - val_accuracy: 0.5556\n",
      "Epoch 14/15\n",
      "105/105 [==============================] - 0s 2ms/sample - loss: 1.3230 - accuracy: 0.4000 - val_loss: 0.9256 - val_accuracy: 0.5556\n",
      "Epoch 15/15\n",
      "105/105 [==============================] - 0s 2ms/sample - loss: 1.3342 - accuracy: 0.4952 - val_loss: 0.9104 - val_accuracy: 0.5556\n",
      "wandb: Agent Finished Run: 8y5gddat \n",
      "\n",
      "wandb: Agent Starting Run: 9yvj8gg9 with config:\n",
      "\tbatch_size: 32\n",
      "\tepochs: 15\n",
      "\tlayers: 4\n",
      "wandb: Agent Started Run: 9yvj8gg9\n"
     ]
    },
    {
     "data": {
      "text/html": [
       "\n",
       "                Logging results to <a href=\"https://wandb.com\" target=\"_blank\">Weights & Biases</a> <a href=\"https://docs.wandb.com/integrations/jupyter.html\" target=\"_blank\">(Documentation)</a>.<br/>\n",
       "                Project page: <a href=\"https://app.wandb.ai/sinisha123/hyperparameter-sweeps-comparison\" target=\"_blank\">https://app.wandb.ai/sinisha123/hyperparameter-sweeps-comparison</a><br/>\n",
       "                Sweep page: <a href=\"https://app.wandb.ai/sinisha123/hyperparameter-sweeps-comparison/sweeps/rda1hnv0\" target=\"_blank\">https://app.wandb.ai/sinisha123/hyperparameter-sweeps-comparison/sweeps/rda1hnv0</a><br/>\n",
       "Run page: <a href=\"https://app.wandb.ai/sinisha123/hyperparameter-sweeps-comparison/runs/9yvj8gg9\" target=\"_blank\">https://app.wandb.ai/sinisha123/hyperparameter-sweeps-comparison/runs/9yvj8gg9</a><br/>\n",
       "            "
      ],
      "text/plain": [
       "<IPython.core.display.HTML object>"
      ]
     },
     "metadata": {},
     "output_type": "display_data"
    },
    {
     "name": "stdout",
     "output_type": "stream",
     "text": [
      "Train on 105 samples, validate on 45 samples\n",
      "Epoch 1/15\n",
      "105/105 [==============================] - 1s 10ms/sample - loss: 2.9028 - accuracy: 0.3524 - val_loss: 1.6668 - val_accuracy: 0.2889\n",
      "Epoch 2/15\n",
      "105/105 [==============================] - 0s 2ms/sample - loss: 2.0642 - accuracy: 0.4476 - val_loss: 1.4364 - val_accuracy: 0.2889\n",
      "Epoch 3/15\n",
      "105/105 [==============================] - 0s 2ms/sample - loss: 2.2950 - accuracy: 0.3905 - val_loss: 1.2692 - val_accuracy: 0.2889\n",
      "Epoch 4/15\n",
      "105/105 [==============================] - 0s 2ms/sample - loss: 1.9392 - accuracy: 0.4571 - val_loss: 1.1380 - val_accuracy: 0.2889\n",
      "Epoch 5/15\n",
      "105/105 [==============================] - 0s 2ms/sample - loss: 2.3652 - accuracy: 0.2762 - val_loss: 1.0530 - val_accuracy: 0.2889\n",
      "Epoch 6/15\n",
      "105/105 [==============================] - 0s 2ms/sample - loss: 2.3472 - accuracy: 0.3714 - val_loss: 1.0013 - val_accuracy: 0.2889\n",
      "Epoch 7/15\n",
      "105/105 [==============================] - 0s 2ms/sample - loss: 1.7626 - accuracy: 0.3524 - val_loss: 0.9742 - val_accuracy: 0.4000\n",
      "Epoch 8/15\n",
      "105/105 [==============================] - 0s 2ms/sample - loss: 1.6315 - accuracy: 0.4190 - val_loss: 0.9619 - val_accuracy: 0.5556\n",
      "Epoch 9/15\n",
      "105/105 [==============================] - 0s 2ms/sample - loss: 1.9917 - accuracy: 0.3524 - val_loss: 0.9532 - val_accuracy: 0.5556\n",
      "Epoch 10/15\n",
      "105/105 [==============================] - 0s 2ms/sample - loss: 1.4822 - accuracy: 0.4571 - val_loss: 0.9472 - val_accuracy: 0.5556\n",
      "Epoch 11/15\n",
      "105/105 [==============================] - 0s 2ms/sample - loss: 1.4612 - accuracy: 0.3524 - val_loss: 0.9444 - val_accuracy: 0.5556\n",
      "Epoch 12/15\n",
      "105/105 [==============================] - 0s 2ms/sample - loss: 1.3101 - accuracy: 0.4286 - val_loss: 0.9372 - val_accuracy: 0.5556\n",
      "Epoch 13/15\n",
      "105/105 [==============================] - 0s 2ms/sample - loss: 1.2716 - accuracy: 0.4857 - val_loss: 0.9369 - val_accuracy: 0.5556\n",
      "Epoch 14/15\n",
      "105/105 [==============================] - 0s 2ms/sample - loss: 1.3230 - accuracy: 0.4000 - val_loss: 0.9256 - val_accuracy: 0.5556\n",
      "Epoch 15/15\n",
      "105/105 [==============================] - 0s 2ms/sample - loss: 1.3342 - accuracy: 0.4952 - val_loss: 0.9104 - val_accuracy: 0.5556\n",
      "wandb: Agent Finished Run: 9yvj8gg9 \n",
      "\n",
      "wandb: Agent Starting Run: r5y1r1si with config:\n",
      "\tbatch_size: 32\n",
      "\tepochs: 15\n",
      "\tlayers: 4\n",
      "wandb: Agent Started Run: r5y1r1si\n"
     ]
    },
    {
     "data": {
      "text/html": [
       "\n",
       "                Logging results to <a href=\"https://wandb.com\" target=\"_blank\">Weights & Biases</a> <a href=\"https://docs.wandb.com/integrations/jupyter.html\" target=\"_blank\">(Documentation)</a>.<br/>\n",
       "                Project page: <a href=\"https://app.wandb.ai/sinisha123/hyperparameter-sweeps-comparison\" target=\"_blank\">https://app.wandb.ai/sinisha123/hyperparameter-sweeps-comparison</a><br/>\n",
       "                Sweep page: <a href=\"https://app.wandb.ai/sinisha123/hyperparameter-sweeps-comparison/sweeps/rda1hnv0\" target=\"_blank\">https://app.wandb.ai/sinisha123/hyperparameter-sweeps-comparison/sweeps/rda1hnv0</a><br/>\n",
       "Run page: <a href=\"https://app.wandb.ai/sinisha123/hyperparameter-sweeps-comparison/runs/r5y1r1si\" target=\"_blank\">https://app.wandb.ai/sinisha123/hyperparameter-sweeps-comparison/runs/r5y1r1si</a><br/>\n",
       "            "
      ],
      "text/plain": [
       "<IPython.core.display.HTML object>"
      ]
     },
     "metadata": {},
     "output_type": "display_data"
    },
    {
     "name": "stdout",
     "output_type": "stream",
     "text": [
      "Train on 105 samples, validate on 45 samples\n",
      "Epoch 1/15\n",
      "105/105 [==============================] - 1s 10ms/sample - loss: 2.9028 - accuracy: 0.3524 - val_loss: 1.6668 - val_accuracy: 0.2889\n",
      "Epoch 2/15\n",
      "105/105 [==============================] - 0s 2ms/sample - loss: 2.0642 - accuracy: 0.4476 - val_loss: 1.4364 - val_accuracy: 0.2889\n",
      "Epoch 3/15\n",
      "105/105 [==============================] - 0s 2ms/sample - loss: 2.2950 - accuracy: 0.3905 - val_loss: 1.2692 - val_accuracy: 0.2889\n",
      "Epoch 4/15\n",
      "105/105 [==============================] - 0s 2ms/sample - loss: 1.9392 - accuracy: 0.4571 - val_loss: 1.1380 - val_accuracy: 0.2889\n",
      "Epoch 5/15\n",
      "105/105 [==============================] - 0s 2ms/sample - loss: 2.3652 - accuracy: 0.2762 - val_loss: 1.0530 - val_accuracy: 0.2889\n",
      "Epoch 6/15\n",
      "105/105 [==============================] - 0s 2ms/sample - loss: 2.3472 - accuracy: 0.3714 - val_loss: 1.0013 - val_accuracy: 0.2889\n",
      "Epoch 7/15\n",
      " 32/105 [========>.....................] - ETA: 0s - loss: 2.5749 - accuracy: 0.2812"
     ]
    },
    {
     "name": "stderr",
     "output_type": "stream",
     "text": [
      "wandb: Network error resolved after 0:00:13.074758, resuming normal operation.\n"
     ]
    },
    {
     "name": "stdout",
     "output_type": "stream",
     "text": [
      "105/105 [==============================] - 0s 2ms/sample - loss: 1.7626 - accuracy: 0.3524 - val_loss: 0.9742 - val_accuracy: 0.4000\n",
      "Epoch 8/15\n",
      "105/105 [==============================] - 0s 2ms/sample - loss: 1.6315 - accuracy: 0.4190 - val_loss: 0.9619 - val_accuracy: 0.5556\n",
      "Epoch 9/15\n",
      "105/105 [==============================] - 0s 2ms/sample - loss: 1.9917 - accuracy: 0.3524 - val_loss: 0.9532 - val_accuracy: 0.5556\n",
      "Epoch 10/15\n",
      "105/105 [==============================] - 0s 2ms/sample - loss: 1.4822 - accuracy: 0.4571 - val_loss: 0.9472 - val_accuracy: 0.5556\n",
      "Epoch 11/15\n",
      "105/105 [==============================] - 0s 3ms/sample - loss: 1.4612 - accuracy: 0.3524 - val_loss: 0.9444 - val_accuracy: 0.5556\n",
      "Epoch 12/15\n",
      "105/105 [==============================] - 0s 3ms/sample - loss: 1.3101 - accuracy: 0.4286 - val_loss: 0.9372 - val_accuracy: 0.5556\n",
      "Epoch 13/15\n",
      "105/105 [==============================] - 0s 2ms/sample - loss: 1.2716 - accuracy: 0.4857 - val_loss: 0.9369 - val_accuracy: 0.5556\n",
      "Epoch 14/15\n",
      "105/105 [==============================] - 0s 2ms/sample - loss: 1.3230 - accuracy: 0.4000 - val_loss: 0.9256 - val_accuracy: 0.5556\n",
      "Epoch 15/15\n",
      "105/105 [==============================] - 0s 2ms/sample - loss: 1.3342 - accuracy: 0.4952 - val_loss: 0.9104 - val_accuracy: 0.5556\n",
      "wandb: Agent Finished Run: r5y1r1si \n",
      "\n",
      "wandb: Agent Starting Run: 3br1co0n with config:\n",
      "\tbatch_size: 32\n",
      "\tepochs: 15\n",
      "\tlayers: 4\n",
      "wandb: Agent Started Run: 3br1co0n\n"
     ]
    },
    {
     "data": {
      "text/html": [
       "\n",
       "                Logging results to <a href=\"https://wandb.com\" target=\"_blank\">Weights & Biases</a> <a href=\"https://docs.wandb.com/integrations/jupyter.html\" target=\"_blank\">(Documentation)</a>.<br/>\n",
       "                Project page: <a href=\"https://app.wandb.ai/sinisha123/hyperparameter-sweeps-comparison\" target=\"_blank\">https://app.wandb.ai/sinisha123/hyperparameter-sweeps-comparison</a><br/>\n",
       "                Sweep page: <a href=\"https://app.wandb.ai/sinisha123/hyperparameter-sweeps-comparison/sweeps/rda1hnv0\" target=\"_blank\">https://app.wandb.ai/sinisha123/hyperparameter-sweeps-comparison/sweeps/rda1hnv0</a><br/>\n",
       "Run page: <a href=\"https://app.wandb.ai/sinisha123/hyperparameter-sweeps-comparison/runs/3br1co0n\" target=\"_blank\">https://app.wandb.ai/sinisha123/hyperparameter-sweeps-comparison/runs/3br1co0n</a><br/>\n",
       "            "
      ],
      "text/plain": [
       "<IPython.core.display.HTML object>"
      ]
     },
     "metadata": {},
     "output_type": "display_data"
    },
    {
     "name": "stdout",
     "output_type": "stream",
     "text": [
      "Train on 105 samples, validate on 45 samples\n",
      "Epoch 1/15\n",
      "105/105 [==============================] - 1s 14ms/sample - loss: 2.9028 - accuracy: 0.3524 - val_loss: 1.6668 - val_accuracy: 0.2889\n",
      "Epoch 2/15\n",
      "105/105 [==============================] - 0s 3ms/sample - loss: 2.0642 - accuracy: 0.4476 - val_loss: 1.4364 - val_accuracy: 0.2889\n",
      "Epoch 3/15\n",
      "105/105 [==============================] - 0s 2ms/sample - loss: 2.2950 - accuracy: 0.3905 - val_loss: 1.2692 - val_accuracy: 0.2889\n",
      "Epoch 4/15\n",
      "105/105 [==============================] - 0s 2ms/sample - loss: 1.9392 - accuracy: 0.4571 - val_loss: 1.1380 - val_accuracy: 0.2889\n",
      "Epoch 5/15\n",
      "105/105 [==============================] - 0s 2ms/sample - loss: 2.3652 - accuracy: 0.2762 - val_loss: 1.0530 - val_accuracy: 0.2889\n",
      "Epoch 6/15\n",
      "105/105 [==============================] - 0s 2ms/sample - loss: 2.3472 - accuracy: 0.3714 - val_loss: 1.0013 - val_accuracy: 0.2889\n",
      "Epoch 7/15\n",
      "105/105 [==============================] - 0s 2ms/sample - loss: 1.7626 - accuracy: 0.3524 - val_loss: 0.9742 - val_accuracy: 0.4000\n",
      "Epoch 8/15\n",
      "105/105 [==============================] - 0s 3ms/sample - loss: 1.6315 - accuracy: 0.4190 - val_loss: 0.9619 - val_accuracy: 0.5556\n",
      "Epoch 9/15\n",
      "105/105 [==============================] - 0s 2ms/sample - loss: 1.9917 - accuracy: 0.3524 - val_loss: 0.9532 - val_accuracy: 0.5556\n",
      "Epoch 10/15\n",
      "105/105 [==============================] - 0s 2ms/sample - loss: 1.4822 - accuracy: 0.4571 - val_loss: 0.9472 - val_accuracy: 0.5556\n",
      "Epoch 11/15\n",
      "105/105 [==============================] - 0s 2ms/sample - loss: 1.4612 - accuracy: 0.3524 - val_loss: 0.9444 - val_accuracy: 0.5556\n",
      "Epoch 12/15\n",
      "105/105 [==============================] - 1s 5ms/sample - loss: 1.3101 - accuracy: 0.4286 - val_loss: 0.9372 - val_accuracy: 0.5556\n",
      "Epoch 13/15\n",
      "105/105 [==============================] - 0s 3ms/sample - loss: 1.2716 - accuracy: 0.4857 - val_loss: 0.9369 - val_accuracy: 0.5556\n",
      "Epoch 14/15\n",
      "105/105 [==============================] - 0s 2ms/sample - loss: 1.3230 - accuracy: 0.4000 - val_loss: 0.9256 - val_accuracy: 0.5556\n",
      "Epoch 15/15\n",
      "105/105 [==============================] - 0s 2ms/sample - loss: 1.3342 - accuracy: 0.4952 - val_loss: 0.9104 - val_accuracy: 0.5556\n",
      "wandb: Agent Finished Run: 3br1co0n \n",
      "\n",
      "wandb: Agent Starting Run: w3x1hubh with config:\n",
      "\tbatch_size: 32\n",
      "\tepochs: 15\n",
      "\tlayers: 4\n",
      "wandb: Agent Started Run: w3x1hubh\n"
     ]
    },
    {
     "data": {
      "text/html": [
       "\n",
       "                Logging results to <a href=\"https://wandb.com\" target=\"_blank\">Weights & Biases</a> <a href=\"https://docs.wandb.com/integrations/jupyter.html\" target=\"_blank\">(Documentation)</a>.<br/>\n",
       "                Project page: <a href=\"https://app.wandb.ai/sinisha123/hyperparameter-sweeps-comparison\" target=\"_blank\">https://app.wandb.ai/sinisha123/hyperparameter-sweeps-comparison</a><br/>\n",
       "                Sweep page: <a href=\"https://app.wandb.ai/sinisha123/hyperparameter-sweeps-comparison/sweeps/rda1hnv0\" target=\"_blank\">https://app.wandb.ai/sinisha123/hyperparameter-sweeps-comparison/sweeps/rda1hnv0</a><br/>\n",
       "Run page: <a href=\"https://app.wandb.ai/sinisha123/hyperparameter-sweeps-comparison/runs/w3x1hubh\" target=\"_blank\">https://app.wandb.ai/sinisha123/hyperparameter-sweeps-comparison/runs/w3x1hubh</a><br/>\n",
       "            "
      ],
      "text/plain": [
       "<IPython.core.display.HTML object>"
      ]
     },
     "metadata": {},
     "output_type": "display_data"
    },
    {
     "name": "stdout",
     "output_type": "stream",
     "text": [
      "Train on 105 samples, validate on 45 samples\n",
      "Epoch 1/15\n",
      "105/105 [==============================] - 1s 10ms/sample - loss: 2.9028 - accuracy: 0.3524 - val_loss: 1.6668 - val_accuracy: 0.2889\n",
      "Epoch 2/15\n",
      "105/105 [==============================] - 0s 2ms/sample - loss: 2.0642 - accuracy: 0.4476 - val_loss: 1.4364 - val_accuracy: 0.2889\n",
      "Epoch 3/15\n",
      "105/105 [==============================] - 0s 2ms/sample - loss: 2.2950 - accuracy: 0.3905 - val_loss: 1.2692 - val_accuracy: 0.2889\n",
      "Epoch 4/15\n",
      "105/105 [==============================] - 0s 2ms/sample - loss: 1.9392 - accuracy: 0.4571 - val_loss: 1.1380 - val_accuracy: 0.2889\n",
      "Epoch 5/15\n",
      "105/105 [==============================] - 0s 2ms/sample - loss: 2.3652 - accuracy: 0.2762 - val_loss: 1.0530 - val_accuracy: 0.2889\n",
      "Epoch 6/15\n",
      "105/105 [==============================] - 0s 2ms/sample - loss: 2.3472 - accuracy: 0.3714 - val_loss: 1.0013 - val_accuracy: 0.2889\n",
      "Epoch 7/15\n",
      "105/105 [==============================] - 0s 2ms/sample - loss: 1.7626 - accuracy: 0.3524 - val_loss: 0.9742 - val_accuracy: 0.4000\n",
      "Epoch 8/15\n",
      "105/105 [==============================] - 0s 2ms/sample - loss: 1.6315 - accuracy: 0.4190 - val_loss: 0.9619 - val_accuracy: 0.5556\n",
      "Epoch 9/15\n",
      "105/105 [==============================] - 0s 2ms/sample - loss: 1.9917 - accuracy: 0.3524 - val_loss: 0.9532 - val_accuracy: 0.5556\n",
      "Epoch 10/15\n",
      "105/105 [==============================] - 0s 2ms/sample - loss: 1.4822 - accuracy: 0.4571 - val_loss: 0.9472 - val_accuracy: 0.5556\n",
      "Epoch 11/15\n",
      "105/105 [==============================] - 0s 2ms/sample - loss: 1.4612 - accuracy: 0.3524 - val_loss: 0.9444 - val_accuracy: 0.5556\n",
      "Epoch 12/15\n",
      "105/105 [==============================] - 0s 2ms/sample - loss: 1.3101 - accuracy: 0.4286 - val_loss: 0.9372 - val_accuracy: 0.5556\n",
      "Epoch 13/15\n",
      "105/105 [==============================] - 0s 2ms/sample - loss: 1.2716 - accuracy: 0.4857 - val_loss: 0.9369 - val_accuracy: 0.5556\n",
      "Epoch 14/15\n",
      "105/105 [==============================] - 0s 2ms/sample - loss: 1.3230 - accuracy: 0.4000 - val_loss: 0.9256 - val_accuracy: 0.5556\n",
      "Epoch 15/15\n",
      "105/105 [==============================] - 0s 2ms/sample - loss: 1.3342 - accuracy: 0.4952 - val_loss: 0.9104 - val_accuracy: 0.5556\n",
      "wandb: Agent Finished Run: w3x1hubh \n",
      "\n"
     ]
    },
    {
     "name": "stderr",
     "output_type": "stream",
     "text": [
      "wandb: Network error resolved after 0:00:15.430916, resuming normal operation.\n"
     ]
    },
    {
     "name": "stdout",
     "output_type": "stream",
     "text": [
      "wandb: Agent Starting Run: ux3behks with config:\n",
      "\tbatch_size: 32\n",
      "\tepochs: 15\n",
      "\tlayers: 4\n",
      "wandb: Agent Started Run: ux3behks\n"
     ]
    },
    {
     "data": {
      "text/html": [
       "\n",
       "                Logging results to <a href=\"https://wandb.com\" target=\"_blank\">Weights & Biases</a> <a href=\"https://docs.wandb.com/integrations/jupyter.html\" target=\"_blank\">(Documentation)</a>.<br/>\n",
       "                Project page: <a href=\"https://app.wandb.ai/sinisha123/hyperparameter-sweeps-comparison\" target=\"_blank\">https://app.wandb.ai/sinisha123/hyperparameter-sweeps-comparison</a><br/>\n",
       "                Sweep page: <a href=\"https://app.wandb.ai/sinisha123/hyperparameter-sweeps-comparison/sweeps/rda1hnv0\" target=\"_blank\">https://app.wandb.ai/sinisha123/hyperparameter-sweeps-comparison/sweeps/rda1hnv0</a><br/>\n",
       "Run page: <a href=\"https://app.wandb.ai/sinisha123/hyperparameter-sweeps-comparison/runs/ux3behks\" target=\"_blank\">https://app.wandb.ai/sinisha123/hyperparameter-sweeps-comparison/runs/ux3behks</a><br/>\n",
       "            "
      ],
      "text/plain": [
       "<IPython.core.display.HTML object>"
      ]
     },
     "metadata": {},
     "output_type": "display_data"
    },
    {
     "name": "stdout",
     "output_type": "stream",
     "text": [
      "Train on 105 samples, validate on 45 samples\n",
      "Epoch 1/15\n",
      "105/105 [==============================] - 1s 11ms/sample - loss: 2.9028 - accuracy: 0.3524 - val_loss: 1.6668 - val_accuracy: 0.2889\n",
      "Epoch 2/15\n",
      "105/105 [==============================] - 0s 2ms/sample - loss: 2.0642 - accuracy: 0.4476 - val_loss: 1.4364 - val_accuracy: 0.2889\n",
      "Epoch 3/15\n",
      "105/105 [==============================] - 0s 2ms/sample - loss: 2.2950 - accuracy: 0.3905 - val_loss: 1.2692 - val_accuracy: 0.2889\n",
      "Epoch 4/15\n",
      "105/105 [==============================] - 0s 2ms/sample - loss: 1.9392 - accuracy: 0.4571 - val_loss: 1.1380 - val_accuracy: 0.2889\n",
      "Epoch 5/15\n",
      "105/105 [==============================] - 0s 2ms/sample - loss: 2.3652 - accuracy: 0.2762 - val_loss: 1.0530 - val_accuracy: 0.2889\n",
      "Epoch 6/15\n",
      "105/105 [==============================] - 0s 2ms/sample - loss: 2.3472 - accuracy: 0.3714 - val_loss: 1.0013 - val_accuracy: 0.2889\n",
      "Epoch 7/15\n",
      "105/105 [==============================] - 0s 3ms/sample - loss: 1.7626 - accuracy: 0.3524 - val_loss: 0.9742 - val_accuracy: 0.4000\n",
      "Epoch 8/15\n",
      "105/105 [==============================] - 0s 2ms/sample - loss: 1.6315 - accuracy: 0.4190 - val_loss: 0.9619 - val_accuracy: 0.5556\n",
      "Epoch 9/15\n",
      "105/105 [==============================] - 0s 2ms/sample - loss: 1.9917 - accuracy: 0.3524 - val_loss: 0.9532 - val_accuracy: 0.5556\n",
      "Epoch 10/15\n",
      "105/105 [==============================] - 0s 4ms/sample - loss: 1.4822 - accuracy: 0.4571 - val_loss: 0.9472 - val_accuracy: 0.5556\n",
      "Epoch 11/15\n",
      "105/105 [==============================] - 0s 4ms/sample - loss: 1.4612 - accuracy: 0.3524 - val_loss: 0.9444 - val_accuracy: 0.5556\n",
      "Epoch 12/15\n",
      " 32/105 [========>.....................] - ETA: 0s - loss: 1.4053 - accuracy: 0.4375"
     ]
    },
    {
     "name": "stderr",
     "output_type": "stream",
     "text": [
      "wandb: Network error resolved after 0:00:15.250646, resuming normal operation.\n"
     ]
    },
    {
     "name": "stdout",
     "output_type": "stream",
     "text": [
      "105/105 [==============================] - 1s 5ms/sample - loss: 1.3101 - accuracy: 0.4286 - val_loss: 0.9372 - val_accuracy: 0.5556\n",
      "Epoch 13/15\n",
      "105/105 [==============================] - 1s 6ms/sample - loss: 1.2716 - accuracy: 0.4857 - val_loss: 0.9369 - val_accuracy: 0.5556\n",
      "Epoch 14/15\n",
      "105/105 [==============================] - 1s 5ms/sample - loss: 1.3230 - accuracy: 0.4000 - val_loss: 0.9256 - val_accuracy: 0.5556\n",
      "Epoch 15/15\n",
      "105/105 [==============================] - 1s 5ms/sample - loss: 1.3342 - accuracy: 0.4952 - val_loss: 0.9104 - val_accuracy: 0.5556\n",
      "wandb: Agent Finished Run: ux3behks \n",
      "\n",
      "wandb: Agent Starting Run: s7xukk3v with config:\n",
      "\tbatch_size: 32\n",
      "\tepochs: 15\n",
      "\tlayers: 4\n",
      "wandb: Agent Started Run: s7xukk3v\n"
     ]
    },
    {
     "data": {
      "text/html": [
       "\n",
       "                Logging results to <a href=\"https://wandb.com\" target=\"_blank\">Weights & Biases</a> <a href=\"https://docs.wandb.com/integrations/jupyter.html\" target=\"_blank\">(Documentation)</a>.<br/>\n",
       "                Project page: <a href=\"https://app.wandb.ai/sinisha123/hyperparameter-sweeps-comparison\" target=\"_blank\">https://app.wandb.ai/sinisha123/hyperparameter-sweeps-comparison</a><br/>\n",
       "                Sweep page: <a href=\"https://app.wandb.ai/sinisha123/hyperparameter-sweeps-comparison/sweeps/rda1hnv0\" target=\"_blank\">https://app.wandb.ai/sinisha123/hyperparameter-sweeps-comparison/sweeps/rda1hnv0</a><br/>\n",
       "Run page: <a href=\"https://app.wandb.ai/sinisha123/hyperparameter-sweeps-comparison/runs/s7xukk3v\" target=\"_blank\">https://app.wandb.ai/sinisha123/hyperparameter-sweeps-comparison/runs/s7xukk3v</a><br/>\n",
       "            "
      ],
      "text/plain": [
       "<IPython.core.display.HTML object>"
      ]
     },
     "metadata": {},
     "output_type": "display_data"
    },
    {
     "name": "stdout",
     "output_type": "stream",
     "text": [
      "Train on 105 samples, validate on 45 samples\n",
      "Epoch 1/15\n",
      "105/105 [==============================] - 1s 10ms/sample - loss: 2.9028 - accuracy: 0.3524 - val_loss: 1.6668 - val_accuracy: 0.2889\n",
      "Epoch 2/15\n",
      "105/105 [==============================] - 0s 2ms/sample - loss: 2.0642 - accuracy: 0.4476 - val_loss: 1.4364 - val_accuracy: 0.2889\n",
      "Epoch 3/15\n",
      "105/105 [==============================] - 0s 2ms/sample - loss: 2.2950 - accuracy: 0.3905 - val_loss: 1.2692 - val_accuracy: 0.2889\n",
      "Epoch 4/15\n",
      "105/105 [==============================] - 0s 2ms/sample - loss: 1.9392 - accuracy: 0.4571 - val_loss: 1.1380 - val_accuracy: 0.2889\n",
      "Epoch 5/15\n",
      "105/105 [==============================] - 0s 2ms/sample - loss: 2.3652 - accuracy: 0.2762 - val_loss: 1.0530 - val_accuracy: 0.2889\n",
      "Epoch 6/15\n",
      "105/105 [==============================] - 0s 3ms/sample - loss: 2.3472 - accuracy: 0.3714 - val_loss: 1.0013 - val_accuracy: 0.2889\n",
      "Epoch 7/15\n",
      "105/105 [==============================] - 0s 2ms/sample - loss: 1.7626 - accuracy: 0.3524 - val_loss: 0.9742 - val_accuracy: 0.4000\n",
      "Epoch 8/15\n",
      "105/105 [==============================] - 0s 2ms/sample - loss: 1.6315 - accuracy: 0.4190 - val_loss: 0.9619 - val_accuracy: 0.5556\n",
      "Epoch 9/15\n",
      "105/105 [==============================] - 0s 3ms/sample - loss: 1.9917 - accuracy: 0.3524 - val_loss: 0.9532 - val_accuracy: 0.5556\n",
      "Epoch 10/15\n",
      "105/105 [==============================] - 0s 2ms/sample - loss: 1.4822 - accuracy: 0.4571 - val_loss: 0.9472 - val_accuracy: 0.5556\n",
      "Epoch 11/15\n",
      "105/105 [==============================] - 0s 2ms/sample - loss: 1.4612 - accuracy: 0.3524 - val_loss: 0.9444 - val_accuracy: 0.5556\n",
      "Epoch 12/15\n",
      "105/105 [==============================] - 0s 2ms/sample - loss: 1.3101 - accuracy: 0.4286 - val_loss: 0.9372 - val_accuracy: 0.5556\n",
      "Epoch 13/15\n",
      "105/105 [==============================] - 0s 2ms/sample - loss: 1.2716 - accuracy: 0.4857 - val_loss: 0.9369 - val_accuracy: 0.5556\n",
      "Epoch 14/15\n",
      "105/105 [==============================] - 0s 2ms/sample - loss: 1.3230 - accuracy: 0.4000 - val_loss: 0.9256 - val_accuracy: 0.5556\n",
      "Epoch 15/15\n",
      "105/105 [==============================] - 0s 2ms/sample - loss: 1.3342 - accuracy: 0.4952 - val_loss: 0.9104 - val_accuracy: 0.5556\n",
      "wandb: Agent Finished Run: s7xukk3v \n",
      "\n",
      "wandb: Agent Starting Run: gqy6yv8i with config:\n",
      "\tbatch_size: 32\n",
      "\tepochs: 15\n",
      "\tlayers: 4\n",
      "wandb: Agent Started Run: gqy6yv8i\n"
     ]
    },
    {
     "data": {
      "text/html": [
       "\n",
       "                Logging results to <a href=\"https://wandb.com\" target=\"_blank\">Weights & Biases</a> <a href=\"https://docs.wandb.com/integrations/jupyter.html\" target=\"_blank\">(Documentation)</a>.<br/>\n",
       "                Project page: <a href=\"https://app.wandb.ai/sinisha123/hyperparameter-sweeps-comparison\" target=\"_blank\">https://app.wandb.ai/sinisha123/hyperparameter-sweeps-comparison</a><br/>\n",
       "                Sweep page: <a href=\"https://app.wandb.ai/sinisha123/hyperparameter-sweeps-comparison/sweeps/rda1hnv0\" target=\"_blank\">https://app.wandb.ai/sinisha123/hyperparameter-sweeps-comparison/sweeps/rda1hnv0</a><br/>\n",
       "Run page: <a href=\"https://app.wandb.ai/sinisha123/hyperparameter-sweeps-comparison/runs/gqy6yv8i\" target=\"_blank\">https://app.wandb.ai/sinisha123/hyperparameter-sweeps-comparison/runs/gqy6yv8i</a><br/>\n",
       "            "
      ],
      "text/plain": [
       "<IPython.core.display.HTML object>"
      ]
     },
     "metadata": {},
     "output_type": "display_data"
    },
    {
     "name": "stdout",
     "output_type": "stream",
     "text": [
      "Train on 105 samples, validate on 45 samples\n",
      "Epoch 1/15\n",
      "105/105 [==============================] - 1s 12ms/sample - loss: 2.9028 - accuracy: 0.3524 - val_loss: 1.6668 - val_accuracy: 0.2889\n",
      "Epoch 2/15\n",
      "105/105 [==============================] - 0s 2ms/sample - loss: 2.0642 - accuracy: 0.4476 - val_loss: 1.4364 - val_accuracy: 0.2889\n",
      "Epoch 3/15\n",
      "105/105 [==============================] - 0s 2ms/sample - loss: 2.2950 - accuracy: 0.3905 - val_loss: 1.2692 - val_accuracy: 0.2889\n",
      "Epoch 4/15\n",
      "105/105 [==============================] - 0s 2ms/sample - loss: 1.9392 - accuracy: 0.4571 - val_loss: 1.1380 - val_accuracy: 0.2889\n",
      "Epoch 5/15\n",
      "105/105 [==============================] - 0s 2ms/sample - loss: 2.3652 - accuracy: 0.2762 - val_loss: 1.0530 - val_accuracy: 0.2889\n",
      "Epoch 6/15\n",
      "105/105 [==============================] - 0s 2ms/sample - loss: 2.3472 - accuracy: 0.3714 - val_loss: 1.0013 - val_accuracy: 0.2889\n",
      "Epoch 7/15\n",
      "105/105 [==============================] - 0s 2ms/sample - loss: 1.7626 - accuracy: 0.3524 - val_loss: 0.9742 - val_accuracy: 0.4000\n",
      "Epoch 8/15\n",
      "105/105 [==============================] - 0s 2ms/sample - loss: 1.6315 - accuracy: 0.4190 - val_loss: 0.9619 - val_accuracy: 0.5556\n",
      "Epoch 9/15\n",
      "105/105 [==============================] - 0s 2ms/sample - loss: 1.9917 - accuracy: 0.3524 - val_loss: 0.9532 - val_accuracy: 0.5556\n",
      "Epoch 10/15\n",
      "105/105 [==============================] - 0s 2ms/sample - loss: 1.4822 - accuracy: 0.4571 - val_loss: 0.9472 - val_accuracy: 0.5556\n",
      "Epoch 11/15\n",
      "105/105 [==============================] - 0s 2ms/sample - loss: 1.4612 - accuracy: 0.3524 - val_loss: 0.9444 - val_accuracy: 0.5556\n",
      "Epoch 12/15\n",
      "105/105 [==============================] - 0s 2ms/sample - loss: 1.3101 - accuracy: 0.4286 - val_loss: 0.9372 - val_accuracy: 0.5556\n",
      "Epoch 13/15\n",
      "105/105 [==============================] - 0s 2ms/sample - loss: 1.2716 - accuracy: 0.4857 - val_loss: 0.9369 - val_accuracy: 0.5556\n",
      "Epoch 14/15\n",
      "105/105 [==============================] - 0s 2ms/sample - loss: 1.3230 - accuracy: 0.4000 - val_loss: 0.9256 - val_accuracy: 0.5556\n",
      "Epoch 15/15\n",
      "105/105 [==============================] - 0s 2ms/sample - loss: 1.3342 - accuracy: 0.4952 - val_loss: 0.9104 - val_accuracy: 0.5556\n",
      "wandb: Agent Finished Run: gqy6yv8i \n",
      "\n",
      "wandb: Agent Starting Run: 7c7x24il with config:\n",
      "\tbatch_size: 32\n",
      "\tepochs: 15\n",
      "\tlayers: 4\n",
      "wandb: Agent Started Run: 7c7x24il\n"
     ]
    },
    {
     "data": {
      "text/html": [
       "\n",
       "                Logging results to <a href=\"https://wandb.com\" target=\"_blank\">Weights & Biases</a> <a href=\"https://docs.wandb.com/integrations/jupyter.html\" target=\"_blank\">(Documentation)</a>.<br/>\n",
       "                Project page: <a href=\"https://app.wandb.ai/sinisha123/hyperparameter-sweeps-comparison\" target=\"_blank\">https://app.wandb.ai/sinisha123/hyperparameter-sweeps-comparison</a><br/>\n",
       "                Sweep page: <a href=\"https://app.wandb.ai/sinisha123/hyperparameter-sweeps-comparison/sweeps/rda1hnv0\" target=\"_blank\">https://app.wandb.ai/sinisha123/hyperparameter-sweeps-comparison/sweeps/rda1hnv0</a><br/>\n",
       "Run page: <a href=\"https://app.wandb.ai/sinisha123/hyperparameter-sweeps-comparison/runs/7c7x24il\" target=\"_blank\">https://app.wandb.ai/sinisha123/hyperparameter-sweeps-comparison/runs/7c7x24il</a><br/>\n",
       "            "
      ],
      "text/plain": [
       "<IPython.core.display.HTML object>"
      ]
     },
     "metadata": {},
     "output_type": "display_data"
    },
    {
     "name": "stdout",
     "output_type": "stream",
     "text": [
      "Train on 105 samples, validate on 45 samples\n",
      "Epoch 1/15\n",
      "105/105 [==============================] - 1s 9ms/sample - loss: 2.9028 - accuracy: 0.3524 - val_loss: 1.6668 - val_accuracy: 0.2889\n",
      "Epoch 2/15\n",
      "105/105 [==============================] - 0s 2ms/sample - loss: 2.0642 - accuracy: 0.4476 - val_loss: 1.4364 - val_accuracy: 0.2889\n",
      "Epoch 3/15\n",
      "105/105 [==============================] - 0s 2ms/sample - loss: 2.2950 - accuracy: 0.3905 - val_loss: 1.2692 - val_accuracy: 0.2889\n",
      "Epoch 4/15\n",
      "105/105 [==============================] - 0s 3ms/sample - loss: 1.9392 - accuracy: 0.4571 - val_loss: 1.1380 - val_accuracy: 0.2889\n",
      "Epoch 5/15\n",
      "105/105 [==============================] - 0s 2ms/sample - loss: 2.3652 - accuracy: 0.2762 - val_loss: 1.0530 - val_accuracy: 0.2889\n",
      "Epoch 6/15\n",
      "105/105 [==============================] - 0s 2ms/sample - loss: 2.3472 - accuracy: 0.3714 - val_loss: 1.0013 - val_accuracy: 0.2889\n",
      "Epoch 7/15\n",
      "105/105 [==============================] - 0s 3ms/sample - loss: 1.7626 - accuracy: 0.3524 - val_loss: 0.9742 - val_accuracy: 0.4000\n",
      "Epoch 8/15\n",
      "105/105 [==============================] - 0s 2ms/sample - loss: 1.6315 - accuracy: 0.4190 - val_loss: 0.9619 - val_accuracy: 0.5556\n",
      "Epoch 9/15\n",
      "105/105 [==============================] - 0s 2ms/sample - loss: 1.9917 - accuracy: 0.3524 - val_loss: 0.9532 - val_accuracy: 0.5556\n",
      "Epoch 10/15\n",
      "105/105 [==============================] - 0s 2ms/sample - loss: 1.4822 - accuracy: 0.4571 - val_loss: 0.9472 - val_accuracy: 0.5556\n",
      "Epoch 11/15\n",
      "105/105 [==============================] - 0s 2ms/sample - loss: 1.4612 - accuracy: 0.3524 - val_loss: 0.9444 - val_accuracy: 0.5556\n",
      "Epoch 12/15\n",
      "105/105 [==============================] - 0s 2ms/sample - loss: 1.3101 - accuracy: 0.4286 - val_loss: 0.9372 - val_accuracy: 0.5556\n",
      "Epoch 13/15\n",
      "105/105 [==============================] - 0s 2ms/sample - loss: 1.2716 - accuracy: 0.4857 - val_loss: 0.9369 - val_accuracy: 0.5556\n",
      "Epoch 14/15\n",
      "105/105 [==============================] - 0s 2ms/sample - loss: 1.3230 - accuracy: 0.4000 - val_loss: 0.9256 - val_accuracy: 0.5556\n",
      "Epoch 15/15\n",
      "105/105 [==============================] - 0s 2ms/sample - loss: 1.3342 - accuracy: 0.4952 - val_loss: 0.9104 - val_accuracy: 0.5556\n",
      "wandb: Agent Finished Run: 7c7x24il \n",
      "\n",
      "wandb: Agent Starting Run: y7ybfqn3 with config:\n",
      "\tbatch_size: 32\n",
      "\tepochs: 15\n",
      "\tlayers: 4\n",
      "wandb: Agent Started Run: y7ybfqn3\n"
     ]
    },
    {
     "data": {
      "text/html": [
       "\n",
       "                Logging results to <a href=\"https://wandb.com\" target=\"_blank\">Weights & Biases</a> <a href=\"https://docs.wandb.com/integrations/jupyter.html\" target=\"_blank\">(Documentation)</a>.<br/>\n",
       "                Project page: <a href=\"https://app.wandb.ai/sinisha123/hyperparameter-sweeps-comparison\" target=\"_blank\">https://app.wandb.ai/sinisha123/hyperparameter-sweeps-comparison</a><br/>\n",
       "                Sweep page: <a href=\"https://app.wandb.ai/sinisha123/hyperparameter-sweeps-comparison/sweeps/rda1hnv0\" target=\"_blank\">https://app.wandb.ai/sinisha123/hyperparameter-sweeps-comparison/sweeps/rda1hnv0</a><br/>\n",
       "Run page: <a href=\"https://app.wandb.ai/sinisha123/hyperparameter-sweeps-comparison/runs/y7ybfqn3\" target=\"_blank\">https://app.wandb.ai/sinisha123/hyperparameter-sweeps-comparison/runs/y7ybfqn3</a><br/>\n",
       "            "
      ],
      "text/plain": [
       "<IPython.core.display.HTML object>"
      ]
     },
     "metadata": {},
     "output_type": "display_data"
    },
    {
     "name": "stdout",
     "output_type": "stream",
     "text": [
      "Train on 105 samples, validate on 45 samples\n",
      "Epoch 1/15\n",
      "105/105 [==============================] - 2s 15ms/sample - loss: 2.9028 - accuracy: 0.3524 - val_loss: 1.6668 - val_accuracy: 0.2889\n",
      "Epoch 2/15\n",
      "105/105 [==============================] - 0s 3ms/sample - loss: 2.0642 - accuracy: 0.4476 - val_loss: 1.4364 - val_accuracy: 0.2889\n",
      "Epoch 3/15\n",
      "105/105 [==============================] - 0s 3ms/sample - loss: 2.2950 - accuracy: 0.3905 - val_loss: 1.2692 - val_accuracy: 0.2889\n",
      "Epoch 4/15\n",
      "105/105 [==============================] - 0s 2ms/sample - loss: 1.9392 - accuracy: 0.4571 - val_loss: 1.1380 - val_accuracy: 0.2889\n",
      "Epoch 5/15\n",
      "105/105 [==============================] - 0s 2ms/sample - loss: 2.3652 - accuracy: 0.2762 - val_loss: 1.0530 - val_accuracy: 0.2889\n",
      "Epoch 6/15\n",
      "105/105 [==============================] - 0s 3ms/sample - loss: 2.3472 - accuracy: 0.3714 - val_loss: 1.0013 - val_accuracy: 0.2889\n",
      "Epoch 7/15\n",
      "105/105 [==============================] - 0s 3ms/sample - loss: 1.7626 - accuracy: 0.3524 - val_loss: 0.9742 - val_accuracy: 0.4000\n",
      "Epoch 8/15\n",
      "105/105 [==============================] - 0s 3ms/sample - loss: 1.6315 - accuracy: 0.4190 - val_loss: 0.9619 - val_accuracy: 0.5556\n",
      "Epoch 9/15\n",
      "105/105 [==============================] - 0s 4ms/sample - loss: 1.9917 - accuracy: 0.3524 - val_loss: 0.9532 - val_accuracy: 0.5556\n",
      "Epoch 10/15\n",
      "105/105 [==============================] - 1s 5ms/sample - loss: 1.4822 - accuracy: 0.4571 - val_loss: 0.9472 - val_accuracy: 0.5556\n",
      "Epoch 11/15\n",
      "105/105 [==============================] - 0s 4ms/sample - loss: 1.4612 - accuracy: 0.3524 - val_loss: 0.9444 - val_accuracy: 0.5556\n",
      "Epoch 12/15\n",
      "105/105 [==============================] - 0s 2ms/sample - loss: 1.3101 - accuracy: 0.4286 - val_loss: 0.9372 - val_accuracy: 0.5556\n",
      "Epoch 13/15\n",
      "105/105 [==============================] - 0s 3ms/sample - loss: 1.2716 - accuracy: 0.4857 - val_loss: 0.9369 - val_accuracy: 0.5556\n",
      "Epoch 14/15\n",
      "105/105 [==============================] - 0s 3ms/sample - loss: 1.3230 - accuracy: 0.4000 - val_loss: 0.9256 - val_accuracy: 0.5556\n",
      "Epoch 15/15\n",
      "105/105 [==============================] - 0s 3ms/sample - loss: 1.3342 - accuracy: 0.4952 - val_loss: 0.9104 - val_accuracy: 0.5556\n",
      "wandb: Agent Finished Run: y7ybfqn3 \n",
      "\n",
      "wandb: Agent Starting Run: vherytrt with config:\n",
      "\tbatch_size: 32\n",
      "\tepochs: 15\n",
      "\tlayers: 4\n",
      "wandb: Agent Started Run: vherytrt\n"
     ]
    },
    {
     "data": {
      "text/html": [
       "\n",
       "                Logging results to <a href=\"https://wandb.com\" target=\"_blank\">Weights & Biases</a> <a href=\"https://docs.wandb.com/integrations/jupyter.html\" target=\"_blank\">(Documentation)</a>.<br/>\n",
       "                Project page: <a href=\"https://app.wandb.ai/sinisha123/hyperparameter-sweeps-comparison\" target=\"_blank\">https://app.wandb.ai/sinisha123/hyperparameter-sweeps-comparison</a><br/>\n",
       "                Sweep page: <a href=\"https://app.wandb.ai/sinisha123/hyperparameter-sweeps-comparison/sweeps/rda1hnv0\" target=\"_blank\">https://app.wandb.ai/sinisha123/hyperparameter-sweeps-comparison/sweeps/rda1hnv0</a><br/>\n",
       "Run page: <a href=\"https://app.wandb.ai/sinisha123/hyperparameter-sweeps-comparison/runs/vherytrt\" target=\"_blank\">https://app.wandb.ai/sinisha123/hyperparameter-sweeps-comparison/runs/vherytrt</a><br/>\n",
       "            "
      ],
      "text/plain": [
       "<IPython.core.display.HTML object>"
      ]
     },
     "metadata": {},
     "output_type": "display_data"
    },
    {
     "name": "stdout",
     "output_type": "stream",
     "text": [
      "Train on 105 samples, validate on 45 samples\n",
      "Epoch 1/15\n",
      "WARNING:tensorflow:Method (on_train_batch_end) is slow compared to the batch update (0.635902). Check your callbacks.\n",
      " 32/105 [========>.....................] - ETA: 2s - loss: 3.4174 - accuracy: 0.3438WARNING:tensorflow:Method (on_train_batch_end) is slow compared to the batch update (0.317964). Check your callbacks.\n",
      "105/105 [==============================] - 2s 18ms/sample - loss: 2.9028 - accuracy: 0.3524 - val_loss: 1.6668 - val_accuracy: 0.2889\n",
      "Epoch 2/15\n",
      "105/105 [==============================] - 0s 3ms/sample - loss: 2.0642 - accuracy: 0.4476 - val_loss: 1.4364 - val_accuracy: 0.2889\n",
      "Epoch 3/15\n",
      "105/105 [==============================] - 0s 2ms/sample - loss: 2.2950 - accuracy: 0.3905 - val_loss: 1.2692 - val_accuracy: 0.2889\n",
      "Epoch 4/15\n",
      "105/105 [==============================] - 0s 2ms/sample - loss: 1.9392 - accuracy: 0.4571 - val_loss: 1.1380 - val_accuracy: 0.2889\n",
      "Epoch 5/15\n",
      "105/105 [==============================] - 0s 2ms/sample - loss: 2.3652 - accuracy: 0.2762 - val_loss: 1.0530 - val_accuracy: 0.2889\n",
      "Epoch 6/15\n",
      "105/105 [==============================] - 0s 2ms/sample - loss: 2.3472 - accuracy: 0.3714 - val_loss: 1.0013 - val_accuracy: 0.2889\n",
      "Epoch 7/15\n",
      "105/105 [==============================] - 0s 2ms/sample - loss: 1.7626 - accuracy: 0.3524 - val_loss: 0.9742 - val_accuracy: 0.4000\n",
      "Epoch 8/15\n",
      "105/105 [==============================] - 0s 2ms/sample - loss: 1.6315 - accuracy: 0.4190 - val_loss: 0.9619 - val_accuracy: 0.5556\n",
      "Epoch 9/15\n",
      "105/105 [==============================] - 0s 3ms/sample - loss: 1.9917 - accuracy: 0.3524 - val_loss: 0.9532 - val_accuracy: 0.5556\n",
      "Epoch 10/15\n",
      "105/105 [==============================] - 0s 2ms/sample - loss: 1.4822 - accuracy: 0.4571 - val_loss: 0.9472 - val_accuracy: 0.5556\n",
      "Epoch 11/15\n",
      "105/105 [==============================] - 0s 2ms/sample - loss: 1.4612 - accuracy: 0.3524 - val_loss: 0.9444 - val_accuracy: 0.5556\n",
      "Epoch 12/15\n",
      "105/105 [==============================] - 0s 2ms/sample - loss: 1.3101 - accuracy: 0.4286 - val_loss: 0.9372 - val_accuracy: 0.5556\n",
      "Epoch 13/15\n",
      "105/105 [==============================] - 0s 2ms/sample - loss: 1.2716 - accuracy: 0.4857 - val_loss: 0.9369 - val_accuracy: 0.5556\n",
      "Epoch 14/15\n",
      "105/105 [==============================] - 0s 2ms/sample - loss: 1.3230 - accuracy: 0.4000 - val_loss: 0.9256 - val_accuracy: 0.5556\n",
      "Epoch 15/15\n",
      "105/105 [==============================] - 0s 2ms/sample - loss: 1.3342 - accuracy: 0.4952 - val_loss: 0.9104 - val_accuracy: 0.5556\n",
      "wandb: Agent Finished Run: vherytrt \n",
      "\n",
      "wandb: Agent Starting Run: kql1on8z with config:\n",
      "\tbatch_size: 32\n",
      "\tepochs: 15\n",
      "\tlayers: 4\n",
      "wandb: Agent Started Run: kql1on8z\n"
     ]
    },
    {
     "data": {
      "text/html": [
       "\n",
       "                Logging results to <a href=\"https://wandb.com\" target=\"_blank\">Weights & Biases</a> <a href=\"https://docs.wandb.com/integrations/jupyter.html\" target=\"_blank\">(Documentation)</a>.<br/>\n",
       "                Project page: <a href=\"https://app.wandb.ai/sinisha123/hyperparameter-sweeps-comparison\" target=\"_blank\">https://app.wandb.ai/sinisha123/hyperparameter-sweeps-comparison</a><br/>\n",
       "                Sweep page: <a href=\"https://app.wandb.ai/sinisha123/hyperparameter-sweeps-comparison/sweeps/rda1hnv0\" target=\"_blank\">https://app.wandb.ai/sinisha123/hyperparameter-sweeps-comparison/sweeps/rda1hnv0</a><br/>\n",
       "Run page: <a href=\"https://app.wandb.ai/sinisha123/hyperparameter-sweeps-comparison/runs/kql1on8z\" target=\"_blank\">https://app.wandb.ai/sinisha123/hyperparameter-sweeps-comparison/runs/kql1on8z</a><br/>\n",
       "            "
      ],
      "text/plain": [
       "<IPython.core.display.HTML object>"
      ]
     },
     "metadata": {},
     "output_type": "display_data"
    },
    {
     "name": "stdout",
     "output_type": "stream",
     "text": [
      "Train on 105 samples, validate on 45 samples\n",
      "Epoch 1/15\n",
      "105/105 [==============================] - 1s 10ms/sample - loss: 2.9028 - accuracy: 0.3524 - val_loss: 1.6668 - val_accuracy: 0.2889\n",
      "Epoch 2/15\n",
      "105/105 [==============================] - 0s 2ms/sample - loss: 2.0642 - accuracy: 0.4476 - val_loss: 1.4364 - val_accuracy: 0.2889\n",
      "Epoch 3/15\n",
      "105/105 [==============================] - 0s 2ms/sample - loss: 2.2950 - accuracy: 0.3905 - val_loss: 1.2692 - val_accuracy: 0.2889\n",
      "Epoch 4/15\n",
      "105/105 [==============================] - 0s 2ms/sample - loss: 1.9392 - accuracy: 0.4571 - val_loss: 1.1380 - val_accuracy: 0.2889\n",
      "Epoch 5/15\n",
      "105/105 [==============================] - 0s 2ms/sample - loss: 2.3652 - accuracy: 0.2762 - val_loss: 1.0530 - val_accuracy: 0.2889\n",
      "Epoch 6/15\n",
      "105/105 [==============================] - 0s 2ms/sample - loss: 2.3472 - accuracy: 0.3714 - val_loss: 1.0013 - val_accuracy: 0.2889\n",
      "Epoch 7/15\n",
      "105/105 [==============================] - 0s 3ms/sample - loss: 1.7626 - accuracy: 0.3524 - val_loss: 0.9742 - val_accuracy: 0.4000\n",
      "Epoch 8/15\n",
      "105/105 [==============================] - 0s 2ms/sample - loss: 1.6315 - accuracy: 0.4190 - val_loss: 0.9619 - val_accuracy: 0.5556\n",
      "Epoch 9/15\n",
      "105/105 [==============================] - 0s 2ms/sample - loss: 1.9917 - accuracy: 0.3524 - val_loss: 0.9532 - val_accuracy: 0.5556\n",
      "Epoch 10/15\n",
      "105/105 [==============================] - 0s 2ms/sample - loss: 1.4822 - accuracy: 0.4571 - val_loss: 0.9472 - val_accuracy: 0.5556\n",
      "Epoch 11/15\n",
      "105/105 [==============================] - 0s 2ms/sample - loss: 1.4612 - accuracy: 0.3524 - val_loss: 0.9444 - val_accuracy: 0.5556\n",
      "Epoch 12/15\n",
      "105/105 [==============================] - 0s 4ms/sample - loss: 1.3101 - accuracy: 0.4286 - val_loss: 0.9372 - val_accuracy: 0.5556\n",
      "Epoch 13/15\n",
      "105/105 [==============================] - 0s 2ms/sample - loss: 1.2716 - accuracy: 0.4857 - val_loss: 0.9369 - val_accuracy: 0.5556\n",
      "Epoch 14/15\n",
      "105/105 [==============================] - 0s 2ms/sample - loss: 1.3230 - accuracy: 0.4000 - val_loss: 0.9256 - val_accuracy: 0.5556\n",
      "Epoch 15/15\n",
      "105/105 [==============================] - 0s 2ms/sample - loss: 1.3342 - accuracy: 0.4952 - val_loss: 0.9104 - val_accuracy: 0.5556\n",
      "wandb: Agent Finished Run: kql1on8z \n",
      "\n",
      "wandb: Agent Starting Run: zlloc37g with config:\n",
      "\tbatch_size: 32\n",
      "\tepochs: 15\n",
      "\tlayers: 4\n",
      "wandb: Agent Started Run: zlloc37g\n"
     ]
    },
    {
     "data": {
      "text/html": [
       "\n",
       "                Logging results to <a href=\"https://wandb.com\" target=\"_blank\">Weights & Biases</a> <a href=\"https://docs.wandb.com/integrations/jupyter.html\" target=\"_blank\">(Documentation)</a>.<br/>\n",
       "                Project page: <a href=\"https://app.wandb.ai/sinisha123/hyperparameter-sweeps-comparison\" target=\"_blank\">https://app.wandb.ai/sinisha123/hyperparameter-sweeps-comparison</a><br/>\n",
       "                Sweep page: <a href=\"https://app.wandb.ai/sinisha123/hyperparameter-sweeps-comparison/sweeps/rda1hnv0\" target=\"_blank\">https://app.wandb.ai/sinisha123/hyperparameter-sweeps-comparison/sweeps/rda1hnv0</a><br/>\n",
       "Run page: <a href=\"https://app.wandb.ai/sinisha123/hyperparameter-sweeps-comparison/runs/zlloc37g\" target=\"_blank\">https://app.wandb.ai/sinisha123/hyperparameter-sweeps-comparison/runs/zlloc37g</a><br/>\n",
       "            "
      ],
      "text/plain": [
       "<IPython.core.display.HTML object>"
      ]
     },
     "metadata": {},
     "output_type": "display_data"
    },
    {
     "name": "stdout",
     "output_type": "stream",
     "text": [
      "Train on 105 samples, validate on 45 samples\n",
      "Epoch 1/15\n",
      "105/105 [==============================] - 1s 9ms/sample - loss: 2.9028 - accuracy: 0.3524 - val_loss: 1.6668 - val_accuracy: 0.2889\n",
      "Epoch 2/15\n",
      "105/105 [==============================] - 0s 2ms/sample - loss: 2.0642 - accuracy: 0.4476 - val_loss: 1.4364 - val_accuracy: 0.2889\n",
      "Epoch 3/15\n",
      "105/105 [==============================] - 0s 2ms/sample - loss: 2.2950 - accuracy: 0.3905 - val_loss: 1.2692 - val_accuracy: 0.2889\n",
      "Epoch 4/15\n",
      "105/105 [==============================] - 0s 2ms/sample - loss: 1.9392 - accuracy: 0.4571 - val_loss: 1.1380 - val_accuracy: 0.2889\n",
      "Epoch 5/15\n",
      "105/105 [==============================] - 0s 2ms/sample - loss: 2.3652 - accuracy: 0.2762 - val_loss: 1.0530 - val_accuracy: 0.2889\n",
      "Epoch 6/15\n",
      "105/105 [==============================] - 0s 2ms/sample - loss: 2.3472 - accuracy: 0.3714 - val_loss: 1.0013 - val_accuracy: 0.2889\n",
      "Epoch 7/15\n",
      "105/105 [==============================] - 0s 2ms/sample - loss: 1.7626 - accuracy: 0.3524 - val_loss: 0.9742 - val_accuracy: 0.4000\n",
      "Epoch 8/15\n",
      "105/105 [==============================] - 0s 2ms/sample - loss: 1.6315 - accuracy: 0.4190 - val_loss: 0.9619 - val_accuracy: 0.5556\n",
      "Epoch 9/15\n",
      "105/105 [==============================] - 0s 2ms/sample - loss: 1.9917 - accuracy: 0.3524 - val_loss: 0.9532 - val_accuracy: 0.5556\n",
      "Epoch 10/15\n",
      "105/105 [==============================] - 0s 2ms/sample - loss: 1.4822 - accuracy: 0.4571 - val_loss: 0.9472 - val_accuracy: 0.5556\n",
      "Epoch 11/15\n",
      "105/105 [==============================] - 0s 2ms/sample - loss: 1.4612 - accuracy: 0.3524 - val_loss: 0.9444 - val_accuracy: 0.5556\n",
      "Epoch 12/15\n",
      "105/105 [==============================] - 0s 2ms/sample - loss: 1.3101 - accuracy: 0.4286 - val_loss: 0.9372 - val_accuracy: 0.5556\n",
      "Epoch 13/15\n",
      "105/105 [==============================] - 0s 2ms/sample - loss: 1.2716 - accuracy: 0.4857 - val_loss: 0.9369 - val_accuracy: 0.5556\n",
      "Epoch 14/15\n",
      "105/105 [==============================] - 0s 2ms/sample - loss: 1.3230 - accuracy: 0.4000 - val_loss: 0.9256 - val_accuracy: 0.5556\n",
      "Epoch 15/15\n",
      "105/105 [==============================] - 0s 2ms/sample - loss: 1.3342 - accuracy: 0.4952 - val_loss: 0.9104 - val_accuracy: 0.5556\n",
      "wandb: Agent Finished Run: zlloc37g \n",
      "\n",
      "wandb: Agent Starting Run: 3ji5g263 with config:\n",
      "\tbatch_size: 32\n",
      "\tepochs: 15\n",
      "\tlayers: 4\n",
      "wandb: Agent Started Run: 3ji5g263\n"
     ]
    },
    {
     "data": {
      "text/html": [
       "\n",
       "                Logging results to <a href=\"https://wandb.com\" target=\"_blank\">Weights & Biases</a> <a href=\"https://docs.wandb.com/integrations/jupyter.html\" target=\"_blank\">(Documentation)</a>.<br/>\n",
       "                Project page: <a href=\"https://app.wandb.ai/sinisha123/hyperparameter-sweeps-comparison\" target=\"_blank\">https://app.wandb.ai/sinisha123/hyperparameter-sweeps-comparison</a><br/>\n",
       "                Sweep page: <a href=\"https://app.wandb.ai/sinisha123/hyperparameter-sweeps-comparison/sweeps/rda1hnv0\" target=\"_blank\">https://app.wandb.ai/sinisha123/hyperparameter-sweeps-comparison/sweeps/rda1hnv0</a><br/>\n",
       "Run page: <a href=\"https://app.wandb.ai/sinisha123/hyperparameter-sweeps-comparison/runs/3ji5g263\" target=\"_blank\">https://app.wandb.ai/sinisha123/hyperparameter-sweeps-comparison/runs/3ji5g263</a><br/>\n",
       "            "
      ],
      "text/plain": [
       "<IPython.core.display.HTML object>"
      ]
     },
     "metadata": {},
     "output_type": "display_data"
    },
    {
     "name": "stdout",
     "output_type": "stream",
     "text": [
      "Train on 105 samples, validate on 45 samples\n",
      "Epoch 1/15\n",
      "105/105 [==============================] - 1s 9ms/sample - loss: 2.9028 - accuracy: 0.3524 - val_loss: 1.6668 - val_accuracy: 0.2889\n",
      "Epoch 2/15\n",
      "105/105 [==============================] - 0s 3ms/sample - loss: 2.0642 - accuracy: 0.4476 - val_loss: 1.4364 - val_accuracy: 0.2889\n",
      "Epoch 3/15\n",
      "105/105 [==============================] - 0s 2ms/sample - loss: 2.2950 - accuracy: 0.3905 - val_loss: 1.2692 - val_accuracy: 0.2889\n",
      "Epoch 4/15\n",
      "105/105 [==============================] - 0s 2ms/sample - loss: 1.9392 - accuracy: 0.4571 - val_loss: 1.1380 - val_accuracy: 0.2889\n",
      "Epoch 5/15\n",
      "105/105 [==============================] - 0s 2ms/sample - loss: 2.3652 - accuracy: 0.2762 - val_loss: 1.0530 - val_accuracy: 0.2889\n",
      "Epoch 6/15\n",
      "105/105 [==============================] - 0s 2ms/sample - loss: 2.3472 - accuracy: 0.3714 - val_loss: 1.0013 - val_accuracy: 0.2889\n",
      "Epoch 7/15\n",
      "105/105 [==============================] - 0s 2ms/sample - loss: 1.7626 - accuracy: 0.3524 - val_loss: 0.9742 - val_accuracy: 0.4000\n",
      "Epoch 8/15\n",
      "105/105 [==============================] - 0s 2ms/sample - loss: 1.6315 - accuracy: 0.4190 - val_loss: 0.9619 - val_accuracy: 0.5556\n",
      "Epoch 9/15\n",
      "105/105 [==============================] - 0s 2ms/sample - loss: 1.9917 - accuracy: 0.3524 - val_loss: 0.9532 - val_accuracy: 0.5556\n",
      "Epoch 10/15\n",
      "105/105 [==============================] - 0s 2ms/sample - loss: 1.4822 - accuracy: 0.4571 - val_loss: 0.9472 - val_accuracy: 0.5556\n",
      "Epoch 11/15\n",
      "105/105 [==============================] - 0s 2ms/sample - loss: 1.4612 - accuracy: 0.3524 - val_loss: 0.9444 - val_accuracy: 0.5556\n",
      "Epoch 12/15\n",
      "105/105 [==============================] - 0s 2ms/sample - loss: 1.3101 - accuracy: 0.4286 - val_loss: 0.9372 - val_accuracy: 0.5556\n",
      "Epoch 13/15\n",
      "105/105 [==============================] - 0s 2ms/sample - loss: 1.2716 - accuracy: 0.4857 - val_loss: 0.9369 - val_accuracy: 0.5556\n",
      "Epoch 14/15\n",
      "105/105 [==============================] - 0s 2ms/sample - loss: 1.3230 - accuracy: 0.4000 - val_loss: 0.9256 - val_accuracy: 0.5556\n",
      "Epoch 15/15\n",
      "105/105 [==============================] - 0s 2ms/sample - loss: 1.3342 - accuracy: 0.4952 - val_loss: 0.9104 - val_accuracy: 0.5556\n",
      "wandb: Agent Finished Run: 3ji5g263 \n",
      "\n",
      "wandb: Agent Starting Run: 3j8hew2d with config:\n",
      "\tbatch_size: 32\n",
      "\tepochs: 15\n",
      "\tlayers: 4\n",
      "wandb: Agent Started Run: 3j8hew2d\n"
     ]
    },
    {
     "data": {
      "text/html": [
       "\n",
       "                Logging results to <a href=\"https://wandb.com\" target=\"_blank\">Weights & Biases</a> <a href=\"https://docs.wandb.com/integrations/jupyter.html\" target=\"_blank\">(Documentation)</a>.<br/>\n",
       "                Project page: <a href=\"https://app.wandb.ai/sinisha123/hyperparameter-sweeps-comparison\" target=\"_blank\">https://app.wandb.ai/sinisha123/hyperparameter-sweeps-comparison</a><br/>\n",
       "                Sweep page: <a href=\"https://app.wandb.ai/sinisha123/hyperparameter-sweeps-comparison/sweeps/rda1hnv0\" target=\"_blank\">https://app.wandb.ai/sinisha123/hyperparameter-sweeps-comparison/sweeps/rda1hnv0</a><br/>\n",
       "Run page: <a href=\"https://app.wandb.ai/sinisha123/hyperparameter-sweeps-comparison/runs/3j8hew2d\" target=\"_blank\">https://app.wandb.ai/sinisha123/hyperparameter-sweeps-comparison/runs/3j8hew2d</a><br/>\n",
       "            "
      ],
      "text/plain": [
       "<IPython.core.display.HTML object>"
      ]
     },
     "metadata": {},
     "output_type": "display_data"
    },
    {
     "name": "stdout",
     "output_type": "stream",
     "text": [
      "Train on 105 samples, validate on 45 samples\n",
      "Epoch 1/15\n",
      "105/105 [==============================] - 1s 9ms/sample - loss: 2.9028 - accuracy: 0.3524 - val_loss: 1.6668 - val_accuracy: 0.2889\n",
      "Epoch 2/15\n",
      "105/105 [==============================] - 0s 2ms/sample - loss: 2.0642 - accuracy: 0.4476 - val_loss: 1.4364 - val_accuracy: 0.2889\n",
      "Epoch 3/15\n",
      "105/105 [==============================] - 0s 2ms/sample - loss: 2.2950 - accuracy: 0.3905 - val_loss: 1.2692 - val_accuracy: 0.2889\n",
      "Epoch 4/15\n",
      "105/105 [==============================] - 0s 2ms/sample - loss: 1.9392 - accuracy: 0.4571 - val_loss: 1.1380 - val_accuracy: 0.2889\n",
      "Epoch 5/15\n",
      "105/105 [==============================] - 0s 2ms/sample - loss: 2.3652 - accuracy: 0.2762 - val_loss: 1.0530 - val_accuracy: 0.2889\n",
      "Epoch 6/15\n",
      "105/105 [==============================] - 0s 3ms/sample - loss: 2.3472 - accuracy: 0.3714 - val_loss: 1.0013 - val_accuracy: 0.2889\n",
      "Epoch 7/15\n",
      "105/105 [==============================] - 0s 2ms/sample - loss: 1.7626 - accuracy: 0.3524 - val_loss: 0.9742 - val_accuracy: 0.4000\n",
      "Epoch 8/15\n",
      "105/105 [==============================] - 0s 2ms/sample - loss: 1.6315 - accuracy: 0.4190 - val_loss: 0.9619 - val_accuracy: 0.5556\n",
      "Epoch 9/15\n",
      "105/105 [==============================] - 0s 2ms/sample - loss: 1.9917 - accuracy: 0.3524 - val_loss: 0.9532 - val_accuracy: 0.5556\n",
      "Epoch 10/15\n",
      "105/105 [==============================] - 0s 2ms/sample - loss: 1.4822 - accuracy: 0.4571 - val_loss: 0.9472 - val_accuracy: 0.5556\n",
      "Epoch 11/15\n",
      "105/105 [==============================] - 0s 4ms/sample - loss: 1.4612 - accuracy: 0.3524 - val_loss: 0.9444 - val_accuracy: 0.5556\n",
      "Epoch 12/15\n",
      "105/105 [==============================] - 1s 9ms/sample - loss: 1.3101 - accuracy: 0.4286 - val_loss: 0.9372 - val_accuracy: 0.5556\n",
      "Epoch 13/15\n",
      "105/105 [==============================] - 1s 6ms/sample - loss: 1.2716 - accuracy: 0.4857 - val_loss: 0.9369 - val_accuracy: 0.5556\n",
      "Epoch 14/15\n",
      "105/105 [==============================] - 1s 6ms/sample - loss: 1.3230 - accuracy: 0.4000 - val_loss: 0.9256 - val_accuracy: 0.5556\n",
      "Epoch 15/15\n",
      "105/105 [==============================] - 1s 9ms/sample - loss: 1.3342 - accuracy: 0.4952 - val_loss: 0.9104 - val_accuracy: 0.5556\n",
      "wandb: Agent Finished Run: 3j8hew2d \n",
      "\n",
      "wandb: Agent Starting Run: qjkj5449 with config:\n",
      "\tbatch_size: 32\n",
      "\tepochs: 15\n",
      "\tlayers: 4\n",
      "wandb: Agent Started Run: qjkj5449\n"
     ]
    },
    {
     "data": {
      "text/html": [
       "\n",
       "                Logging results to <a href=\"https://wandb.com\" target=\"_blank\">Weights & Biases</a> <a href=\"https://docs.wandb.com/integrations/jupyter.html\" target=\"_blank\">(Documentation)</a>.<br/>\n",
       "                Project page: <a href=\"https://app.wandb.ai/sinisha123/hyperparameter-sweeps-comparison\" target=\"_blank\">https://app.wandb.ai/sinisha123/hyperparameter-sweeps-comparison</a><br/>\n",
       "                Sweep page: <a href=\"https://app.wandb.ai/sinisha123/hyperparameter-sweeps-comparison/sweeps/rda1hnv0\" target=\"_blank\">https://app.wandb.ai/sinisha123/hyperparameter-sweeps-comparison/sweeps/rda1hnv0</a><br/>\n",
       "Run page: <a href=\"https://app.wandb.ai/sinisha123/hyperparameter-sweeps-comparison/runs/qjkj5449\" target=\"_blank\">https://app.wandb.ai/sinisha123/hyperparameter-sweeps-comparison/runs/qjkj5449</a><br/>\n",
       "            "
      ],
      "text/plain": [
       "<IPython.core.display.HTML object>"
      ]
     },
     "metadata": {},
     "output_type": "display_data"
    },
    {
     "name": "stdout",
     "output_type": "stream",
     "text": [
      "Train on 105 samples, validate on 45 samples\n",
      "Epoch 1/15\n",
      "105/105 [==============================] - 1s 10ms/sample - loss: 2.9028 - accuracy: 0.3524 - val_loss: 1.6668 - val_accuracy: 0.2889\n",
      "Epoch 2/15\n",
      "105/105 [==============================] - 0s 2ms/sample - loss: 2.0642 - accuracy: 0.4476 - val_loss: 1.4364 - val_accuracy: 0.2889\n",
      "Epoch 3/15\n",
      "105/105 [==============================] - 0s 2ms/sample - loss: 2.2950 - accuracy: 0.3905 - val_loss: 1.2692 - val_accuracy: 0.2889\n",
      "Epoch 4/15\n",
      "105/105 [==============================] - 0s 2ms/sample - loss: 1.9392 - accuracy: 0.4571 - val_loss: 1.1380 - val_accuracy: 0.2889\n",
      "Epoch 5/15\n",
      "105/105 [==============================] - 0s 5ms/sample - loss: 2.3652 - accuracy: 0.2762 - val_loss: 1.0530 - val_accuracy: 0.2889\n",
      "Epoch 6/15\n",
      "105/105 [==============================] - 0s 3ms/sample - loss: 2.3472 - accuracy: 0.3714 - val_loss: 1.0013 - val_accuracy: 0.2889\n",
      "Epoch 7/15\n",
      "105/105 [==============================] - 0s 2ms/sample - loss: 1.7626 - accuracy: 0.3524 - val_loss: 0.9742 - val_accuracy: 0.4000\n",
      "Epoch 8/15\n",
      "105/105 [==============================] - 0s 2ms/sample - loss: 1.6315 - accuracy: 0.4190 - val_loss: 0.9619 - val_accuracy: 0.5556\n",
      "Epoch 9/15\n",
      "105/105 [==============================] - 0s 2ms/sample - loss: 1.9917 - accuracy: 0.3524 - val_loss: 0.9532 - val_accuracy: 0.5556\n",
      "Epoch 10/15\n",
      "105/105 [==============================] - 1s 5ms/sample - loss: 1.4822 - accuracy: 0.4571 - val_loss: 0.9472 - val_accuracy: 0.5556\n",
      "Epoch 11/15\n",
      "105/105 [==============================] - 0s 3ms/sample - loss: 1.4612 - accuracy: 0.3524 - val_loss: 0.9444 - val_accuracy: 0.5556\n",
      "Epoch 12/15\n",
      "105/105 [==============================] - 1s 7ms/sample - loss: 1.3101 - accuracy: 0.4286 - val_loss: 0.9372 - val_accuracy: 0.5556\n",
      "Epoch 13/15\n",
      "105/105 [==============================] - 1s 6ms/sample - loss: 1.2716 - accuracy: 0.4857 - val_loss: 0.9369 - val_accuracy: 0.5556\n",
      "Epoch 14/15\n",
      "105/105 [==============================] - 1s 5ms/sample - loss: 1.3230 - accuracy: 0.4000 - val_loss: 0.9256 - val_accuracy: 0.5556\n",
      "Epoch 15/15\n",
      "105/105 [==============================] - 0s 4ms/sample - loss: 1.3342 - accuracy: 0.4952 - val_loss: 0.9104 - val_accuracy: 0.5556\n",
      "wandb: Agent Finished Run: qjkj5449 \n",
      "\n",
      "wandb: Agent Starting Run: y2stcubw with config:\n",
      "\tbatch_size: 32\n",
      "\tepochs: 15\n",
      "\tlayers: 4\n",
      "wandb: Agent Started Run: y2stcubw\n"
     ]
    },
    {
     "data": {
      "text/html": [
       "\n",
       "                Logging results to <a href=\"https://wandb.com\" target=\"_blank\">Weights & Biases</a> <a href=\"https://docs.wandb.com/integrations/jupyter.html\" target=\"_blank\">(Documentation)</a>.<br/>\n",
       "                Project page: <a href=\"https://app.wandb.ai/sinisha123/hyperparameter-sweeps-comparison\" target=\"_blank\">https://app.wandb.ai/sinisha123/hyperparameter-sweeps-comparison</a><br/>\n",
       "                Sweep page: <a href=\"https://app.wandb.ai/sinisha123/hyperparameter-sweeps-comparison/sweeps/rda1hnv0\" target=\"_blank\">https://app.wandb.ai/sinisha123/hyperparameter-sweeps-comparison/sweeps/rda1hnv0</a><br/>\n",
       "Run page: <a href=\"https://app.wandb.ai/sinisha123/hyperparameter-sweeps-comparison/runs/y2stcubw\" target=\"_blank\">https://app.wandb.ai/sinisha123/hyperparameter-sweeps-comparison/runs/y2stcubw</a><br/>\n",
       "            "
      ],
      "text/plain": [
       "<IPython.core.display.HTML object>"
      ]
     },
     "metadata": {},
     "output_type": "display_data"
    },
    {
     "name": "stdout",
     "output_type": "stream",
     "text": [
      "Train on 105 samples, validate on 45 samples\n",
      "Epoch 1/15\n",
      "105/105 [==============================] - 1s 9ms/sample - loss: 2.9028 - accuracy: 0.3524 - val_loss: 1.6668 - val_accuracy: 0.2889\n",
      "Epoch 2/15\n",
      "105/105 [==============================] - 0s 2ms/sample - loss: 2.0642 - accuracy: 0.4476 - val_loss: 1.4364 - val_accuracy: 0.2889\n",
      "Epoch 3/15\n",
      "105/105 [==============================] - 0s 2ms/sample - loss: 2.2950 - accuracy: 0.3905 - val_loss: 1.2692 - val_accuracy: 0.2889\n",
      "Epoch 4/15\n",
      "105/105 [==============================] - 0s 2ms/sample - loss: 1.9392 - accuracy: 0.4571 - val_loss: 1.1380 - val_accuracy: 0.2889\n",
      "Epoch 5/15\n",
      "105/105 [==============================] - 0s 2ms/sample - loss: 2.3652 - accuracy: 0.2762 - val_loss: 1.0530 - val_accuracy: 0.2889\n",
      "Epoch 6/15\n",
      "105/105 [==============================] - 0s 2ms/sample - loss: 2.3472 - accuracy: 0.3714 - val_loss: 1.0013 - val_accuracy: 0.2889\n",
      "Epoch 7/15\n",
      "105/105 [==============================] - 0s 2ms/sample - loss: 1.7626 - accuracy: 0.3524 - val_loss: 0.9742 - val_accuracy: 0.4000\n",
      "Epoch 8/15\n",
      "105/105 [==============================] - 0s 2ms/sample - loss: 1.6315 - accuracy: 0.4190 - val_loss: 0.9619 - val_accuracy: 0.5556\n",
      "Epoch 9/15\n",
      "105/105 [==============================] - 0s 2ms/sample - loss: 1.9917 - accuracy: 0.3524 - val_loss: 0.9532 - val_accuracy: 0.5556\n",
      "Epoch 10/15\n",
      "105/105 [==============================] - 0s 2ms/sample - loss: 1.4822 - accuracy: 0.4571 - val_loss: 0.9472 - val_accuracy: 0.5556\n",
      "Epoch 11/15\n",
      "105/105 [==============================] - 0s 2ms/sample - loss: 1.4612 - accuracy: 0.3524 - val_loss: 0.9444 - val_accuracy: 0.5556\n",
      "Epoch 12/15\n",
      "105/105 [==============================] - 0s 2ms/sample - loss: 1.3101 - accuracy: 0.4286 - val_loss: 0.9372 - val_accuracy: 0.5556\n",
      "Epoch 13/15\n",
      "105/105 [==============================] - 0s 2ms/sample - loss: 1.2716 - accuracy: 0.4857 - val_loss: 0.9369 - val_accuracy: 0.5556\n",
      "Epoch 14/15\n",
      "105/105 [==============================] - 0s 2ms/sample - loss: 1.3230 - accuracy: 0.4000 - val_loss: 0.9256 - val_accuracy: 0.5556\n",
      "Epoch 15/15\n",
      "105/105 [==============================] - 0s 2ms/sample - loss: 1.3342 - accuracy: 0.4952 - val_loss: 0.9104 - val_accuracy: 0.5556\n",
      "wandb: Agent Finished Run: y2stcubw \n",
      "\n",
      "wandb: Agent Starting Run: 77d6ox5h with config:\n",
      "\tbatch_size: 32\n",
      "\tepochs: 15\n",
      "\tlayers: 4\n",
      "wandb: Agent Started Run: 77d6ox5h\n"
     ]
    },
    {
     "data": {
      "text/html": [
       "\n",
       "                Logging results to <a href=\"https://wandb.com\" target=\"_blank\">Weights & Biases</a> <a href=\"https://docs.wandb.com/integrations/jupyter.html\" target=\"_blank\">(Documentation)</a>.<br/>\n",
       "                Project page: <a href=\"https://app.wandb.ai/sinisha123/hyperparameter-sweeps-comparison\" target=\"_blank\">https://app.wandb.ai/sinisha123/hyperparameter-sweeps-comparison</a><br/>\n",
       "                Sweep page: <a href=\"https://app.wandb.ai/sinisha123/hyperparameter-sweeps-comparison/sweeps/rda1hnv0\" target=\"_blank\">https://app.wandb.ai/sinisha123/hyperparameter-sweeps-comparison/sweeps/rda1hnv0</a><br/>\n",
       "Run page: <a href=\"https://app.wandb.ai/sinisha123/hyperparameter-sweeps-comparison/runs/77d6ox5h\" target=\"_blank\">https://app.wandb.ai/sinisha123/hyperparameter-sweeps-comparison/runs/77d6ox5h</a><br/>\n",
       "            "
      ],
      "text/plain": [
       "<IPython.core.display.HTML object>"
      ]
     },
     "metadata": {},
     "output_type": "display_data"
    },
    {
     "name": "stdout",
     "output_type": "stream",
     "text": [
      "Train on 105 samples, validate on 45 samples\n",
      "Epoch 1/15\n",
      "105/105 [==============================] - 1s 10ms/sample - loss: 2.9028 - accuracy: 0.3524 - val_loss: 1.6668 - val_accuracy: 0.2889\n",
      "Epoch 2/15\n",
      "105/105 [==============================] - 0s 3ms/sample - loss: 2.0642 - accuracy: 0.4476 - val_loss: 1.4364 - val_accuracy: 0.2889\n",
      "Epoch 3/15\n",
      "105/105 [==============================] - 0s 2ms/sample - loss: 2.2950 - accuracy: 0.3905 - val_loss: 1.2692 - val_accuracy: 0.2889\n",
      "Epoch 4/15\n",
      "105/105 [==============================] - 0s 2ms/sample - loss: 1.9392 - accuracy: 0.4571 - val_loss: 1.1380 - val_accuracy: 0.2889\n",
      "Epoch 5/15\n",
      "105/105 [==============================] - 0s 2ms/sample - loss: 2.3652 - accuracy: 0.2762 - val_loss: 1.0530 - val_accuracy: 0.2889\n",
      "Epoch 6/15\n",
      "105/105 [==============================] - 0s 2ms/sample - loss: 2.3472 - accuracy: 0.3714 - val_loss: 1.0013 - val_accuracy: 0.2889\n",
      "Epoch 7/15\n",
      "105/105 [==============================] - 0s 2ms/sample - loss: 1.7626 - accuracy: 0.3524 - val_loss: 0.9742 - val_accuracy: 0.4000\n",
      "Epoch 8/15\n",
      "105/105 [==============================] - 0s 2ms/sample - loss: 1.6315 - accuracy: 0.4190 - val_loss: 0.9619 - val_accuracy: 0.5556\n",
      "Epoch 9/15\n",
      "105/105 [==============================] - 0s 2ms/sample - loss: 1.9917 - accuracy: 0.3524 - val_loss: 0.9532 - val_accuracy: 0.5556\n",
      "Epoch 10/15\n",
      "105/105 [==============================] - 0s 2ms/sample - loss: 1.4822 - accuracy: 0.4571 - val_loss: 0.9472 - val_accuracy: 0.5556\n",
      "Epoch 11/15\n",
      "105/105 [==============================] - 0s 2ms/sample - loss: 1.4612 - accuracy: 0.3524 - val_loss: 0.9444 - val_accuracy: 0.5556\n",
      "Epoch 12/15\n",
      "105/105 [==============================] - 0s 2ms/sample - loss: 1.3101 - accuracy: 0.4286 - val_loss: 0.9372 - val_accuracy: 0.5556\n",
      "Epoch 13/15\n",
      "105/105 [==============================] - 0s 2ms/sample - loss: 1.2716 - accuracy: 0.4857 - val_loss: 0.9369 - val_accuracy: 0.5556\n",
      "Epoch 14/15\n",
      "105/105 [==============================] - 0s 2ms/sample - loss: 1.3230 - accuracy: 0.4000 - val_loss: 0.9256 - val_accuracy: 0.5556\n",
      "Epoch 15/15\n",
      "105/105 [==============================] - 0s 2ms/sample - loss: 1.3342 - accuracy: 0.4952 - val_loss: 0.9104 - val_accuracy: 0.5556\n",
      "wandb: Agent Finished Run: 77d6ox5h \n",
      "\n",
      "wandb: Agent Starting Run: talad9jk with config:\n",
      "\tbatch_size: 32\n",
      "\tepochs: 15\n",
      "\tlayers: 4\n",
      "wandb: Agent Started Run: talad9jk\n"
     ]
    },
    {
     "data": {
      "text/html": [
       "\n",
       "                Logging results to <a href=\"https://wandb.com\" target=\"_blank\">Weights & Biases</a> <a href=\"https://docs.wandb.com/integrations/jupyter.html\" target=\"_blank\">(Documentation)</a>.<br/>\n",
       "                Project page: <a href=\"https://app.wandb.ai/sinisha123/hyperparameter-sweeps-comparison\" target=\"_blank\">https://app.wandb.ai/sinisha123/hyperparameter-sweeps-comparison</a><br/>\n",
       "                Sweep page: <a href=\"https://app.wandb.ai/sinisha123/hyperparameter-sweeps-comparison/sweeps/rda1hnv0\" target=\"_blank\">https://app.wandb.ai/sinisha123/hyperparameter-sweeps-comparison/sweeps/rda1hnv0</a><br/>\n",
       "Run page: <a href=\"https://app.wandb.ai/sinisha123/hyperparameter-sweeps-comparison/runs/talad9jk\" target=\"_blank\">https://app.wandb.ai/sinisha123/hyperparameter-sweeps-comparison/runs/talad9jk</a><br/>\n",
       "            "
      ],
      "text/plain": [
       "<IPython.core.display.HTML object>"
      ]
     },
     "metadata": {},
     "output_type": "display_data"
    },
    {
     "name": "stdout",
     "output_type": "stream",
     "text": [
      "Train on 105 samples, validate on 45 samples\n",
      "Epoch 1/15\n",
      "105/105 [==============================] - 1s 8ms/sample - loss: 2.9028 - accuracy: 0.3524 - val_loss: 1.6668 - val_accuracy: 0.2889\n",
      "Epoch 2/15\n",
      "105/105 [==============================] - 0s 2ms/sample - loss: 2.0642 - accuracy: 0.4476 - val_loss: 1.4364 - val_accuracy: 0.2889\n",
      "Epoch 3/15\n",
      "105/105 [==============================] - 0s 2ms/sample - loss: 2.2950 - accuracy: 0.3905 - val_loss: 1.2692 - val_accuracy: 0.2889\n",
      "Epoch 4/15\n",
      "105/105 [==============================] - 0s 2ms/sample - loss: 1.9392 - accuracy: 0.4571 - val_loss: 1.1380 - val_accuracy: 0.2889\n",
      "Epoch 5/15\n",
      "105/105 [==============================] - 0s 2ms/sample - loss: 2.3652 - accuracy: 0.2762 - val_loss: 1.0530 - val_accuracy: 0.2889\n",
      "Epoch 6/15\n",
      "105/105 [==============================] - 0s 3ms/sample - loss: 2.3472 - accuracy: 0.3714 - val_loss: 1.0013 - val_accuracy: 0.2889\n",
      "Epoch 7/15\n",
      "105/105 [==============================] - 0s 2ms/sample - loss: 1.7626 - accuracy: 0.3524 - val_loss: 0.9742 - val_accuracy: 0.4000\n",
      "Epoch 8/15\n",
      "105/105 [==============================] - 0s 2ms/sample - loss: 1.6315 - accuracy: 0.4190 - val_loss: 0.9619 - val_accuracy: 0.5556\n",
      "Epoch 9/15\n",
      "105/105 [==============================] - 0s 2ms/sample - loss: 1.9917 - accuracy: 0.3524 - val_loss: 0.9532 - val_accuracy: 0.5556\n",
      "Epoch 10/15\n",
      "105/105 [==============================] - 0s 2ms/sample - loss: 1.4822 - accuracy: 0.4571 - val_loss: 0.9472 - val_accuracy: 0.5556\n",
      "Epoch 11/15\n",
      "105/105 [==============================] - 0s 2ms/sample - loss: 1.4612 - accuracy: 0.3524 - val_loss: 0.9444 - val_accuracy: 0.5556\n",
      "Epoch 12/15\n",
      "105/105 [==============================] - 0s 2ms/sample - loss: 1.3101 - accuracy: 0.4286 - val_loss: 0.9372 - val_accuracy: 0.5556\n",
      "Epoch 13/15\n",
      "105/105 [==============================] - 0s 2ms/sample - loss: 1.2716 - accuracy: 0.4857 - val_loss: 0.9369 - val_accuracy: 0.5556\n",
      "Epoch 14/15\n",
      "105/105 [==============================] - 0s 2ms/sample - loss: 1.3230 - accuracy: 0.4000 - val_loss: 0.9256 - val_accuracy: 0.5556\n",
      "Epoch 15/15\n",
      "105/105 [==============================] - 0s 2ms/sample - loss: 1.3342 - accuracy: 0.4952 - val_loss: 0.9104 - val_accuracy: 0.5556\n",
      "wandb: Agent Finished Run: talad9jk \n",
      "\n",
      "wandb: Agent Starting Run: nwy4vj57 with config:\n",
      "\tbatch_size: 32\n",
      "\tepochs: 15\n",
      "\tlayers: 4\n",
      "wandb: Agent Started Run: nwy4vj57\n"
     ]
    },
    {
     "data": {
      "text/html": [
       "\n",
       "                Logging results to <a href=\"https://wandb.com\" target=\"_blank\">Weights & Biases</a> <a href=\"https://docs.wandb.com/integrations/jupyter.html\" target=\"_blank\">(Documentation)</a>.<br/>\n",
       "                Project page: <a href=\"https://app.wandb.ai/sinisha123/hyperparameter-sweeps-comparison\" target=\"_blank\">https://app.wandb.ai/sinisha123/hyperparameter-sweeps-comparison</a><br/>\n",
       "                Sweep page: <a href=\"https://app.wandb.ai/sinisha123/hyperparameter-sweeps-comparison/sweeps/rda1hnv0\" target=\"_blank\">https://app.wandb.ai/sinisha123/hyperparameter-sweeps-comparison/sweeps/rda1hnv0</a><br/>\n",
       "Run page: <a href=\"https://app.wandb.ai/sinisha123/hyperparameter-sweeps-comparison/runs/nwy4vj57\" target=\"_blank\">https://app.wandb.ai/sinisha123/hyperparameter-sweeps-comparison/runs/nwy4vj57</a><br/>\n",
       "            "
      ],
      "text/plain": [
       "<IPython.core.display.HTML object>"
      ]
     },
     "metadata": {},
     "output_type": "display_data"
    },
    {
     "name": "stdout",
     "output_type": "stream",
     "text": [
      "Train on 105 samples, validate on 45 samples\n",
      "Epoch 1/15\n",
      "105/105 [==============================] - 1s 9ms/sample - loss: 2.9028 - accuracy: 0.3524 - val_loss: 1.6668 - val_accuracy: 0.2889\n",
      "Epoch 2/15\n",
      "105/105 [==============================] - 0s 2ms/sample - loss: 2.0642 - accuracy: 0.4476 - val_loss: 1.4364 - val_accuracy: 0.2889\n",
      "Epoch 3/15\n",
      "105/105 [==============================] - 0s 2ms/sample - loss: 2.2950 - accuracy: 0.3905 - val_loss: 1.2692 - val_accuracy: 0.2889\n",
      "Epoch 4/15\n",
      "105/105 [==============================] - 0s 2ms/sample - loss: 1.9392 - accuracy: 0.4571 - val_loss: 1.1380 - val_accuracy: 0.2889\n",
      "Epoch 5/15\n",
      "105/105 [==============================] - 0s 2ms/sample - loss: 2.3652 - accuracy: 0.2762 - val_loss: 1.0530 - val_accuracy: 0.2889\n",
      "Epoch 6/15\n",
      "105/105 [==============================] - 0s 2ms/sample - loss: 2.3472 - accuracy: 0.3714 - val_loss: 1.0013 - val_accuracy: 0.2889\n",
      "Epoch 7/15\n",
      "105/105 [==============================] - 0s 2ms/sample - loss: 1.7626 - accuracy: 0.3524 - val_loss: 0.9742 - val_accuracy: 0.4000\n",
      "Epoch 8/15\n",
      "105/105 [==============================] - 0s 2ms/sample - loss: 1.6315 - accuracy: 0.4190 - val_loss: 0.9619 - val_accuracy: 0.5556\n",
      "Epoch 9/15\n",
      "105/105 [==============================] - 0s 2ms/sample - loss: 1.9917 - accuracy: 0.3524 - val_loss: 0.9532 - val_accuracy: 0.5556\n",
      "Epoch 10/15\n",
      "105/105 [==============================] - 0s 2ms/sample - loss: 1.4822 - accuracy: 0.4571 - val_loss: 0.9472 - val_accuracy: 0.5556\n",
      "Epoch 11/15\n",
      "105/105 [==============================] - 0s 2ms/sample - loss: 1.4612 - accuracy: 0.3524 - val_loss: 0.9444 - val_accuracy: 0.5556\n",
      "Epoch 12/15\n",
      "105/105 [==============================] - 0s 2ms/sample - loss: 1.3101 - accuracy: 0.4286 - val_loss: 0.9372 - val_accuracy: 0.5556\n",
      "Epoch 13/15\n",
      "105/105 [==============================] - 0s 2ms/sample - loss: 1.2716 - accuracy: 0.4857 - val_loss: 0.9369 - val_accuracy: 0.5556\n",
      "Epoch 14/15\n",
      "105/105 [==============================] - 0s 3ms/sample - loss: 1.3230 - accuracy: 0.4000 - val_loss: 0.9256 - val_accuracy: 0.5556\n",
      "Epoch 15/15\n",
      "105/105 [==============================] - 0s 2ms/sample - loss: 1.3342 - accuracy: 0.4952 - val_loss: 0.9104 - val_accuracy: 0.5556\n",
      "wandb: Agent Finished Run: nwy4vj57 \n",
      "\n",
      "wandb: Agent Starting Run: w14nbi8m with config:\n",
      "\tbatch_size: 32\n",
      "\tepochs: 15\n",
      "\tlayers: 4\n",
      "wandb: Agent Started Run: w14nbi8m\n"
     ]
    },
    {
     "data": {
      "text/html": [
       "\n",
       "                Logging results to <a href=\"https://wandb.com\" target=\"_blank\">Weights & Biases</a> <a href=\"https://docs.wandb.com/integrations/jupyter.html\" target=\"_blank\">(Documentation)</a>.<br/>\n",
       "                Project page: <a href=\"https://app.wandb.ai/sinisha123/hyperparameter-sweeps-comparison\" target=\"_blank\">https://app.wandb.ai/sinisha123/hyperparameter-sweeps-comparison</a><br/>\n",
       "                Sweep page: <a href=\"https://app.wandb.ai/sinisha123/hyperparameter-sweeps-comparison/sweeps/rda1hnv0\" target=\"_blank\">https://app.wandb.ai/sinisha123/hyperparameter-sweeps-comparison/sweeps/rda1hnv0</a><br/>\n",
       "Run page: <a href=\"https://app.wandb.ai/sinisha123/hyperparameter-sweeps-comparison/runs/w14nbi8m\" target=\"_blank\">https://app.wandb.ai/sinisha123/hyperparameter-sweeps-comparison/runs/w14nbi8m</a><br/>\n",
       "            "
      ],
      "text/plain": [
       "<IPython.core.display.HTML object>"
      ]
     },
     "metadata": {},
     "output_type": "display_data"
    },
    {
     "name": "stdout",
     "output_type": "stream",
     "text": [
      "Train on 105 samples, validate on 45 samples\n",
      "Epoch 1/15\n",
      "105/105 [==============================] - 1s 9ms/sample - loss: 2.9028 - accuracy: 0.3524 - val_loss: 1.6668 - val_accuracy: 0.2889\n",
      "Epoch 2/15\n",
      "105/105 [==============================] - 0s 2ms/sample - loss: 2.0642 - accuracy: 0.4476 - val_loss: 1.4364 - val_accuracy: 0.2889\n",
      "Epoch 3/15\n",
      "105/105 [==============================] - 0s 2ms/sample - loss: 2.2950 - accuracy: 0.3905 - val_loss: 1.2692 - val_accuracy: 0.2889\n",
      "Epoch 4/15\n",
      "105/105 [==============================] - 0s 2ms/sample - loss: 1.9392 - accuracy: 0.4571 - val_loss: 1.1380 - val_accuracy: 0.2889\n",
      "Epoch 5/15\n",
      "105/105 [==============================] - 0s 2ms/sample - loss: 2.3652 - accuracy: 0.2762 - val_loss: 1.0530 - val_accuracy: 0.2889\n",
      "Epoch 6/15\n",
      "105/105 [==============================] - 0s 2ms/sample - loss: 2.3472 - accuracy: 0.3714 - val_loss: 1.0013 - val_accuracy: 0.2889\n",
      "Epoch 7/15\n",
      "105/105 [==============================] - 0s 2ms/sample - loss: 1.7626 - accuracy: 0.3524 - val_loss: 0.9742 - val_accuracy: 0.4000\n",
      "Epoch 8/15\n",
      "105/105 [==============================] - 0s 2ms/sample - loss: 1.6315 - accuracy: 0.4190 - val_loss: 0.9619 - val_accuracy: 0.5556\n",
      "Epoch 9/15\n",
      "105/105 [==============================] - 0s 2ms/sample - loss: 1.9917 - accuracy: 0.3524 - val_loss: 0.9532 - val_accuracy: 0.5556\n",
      "Epoch 10/15\n",
      "105/105 [==============================] - 0s 2ms/sample - loss: 1.4822 - accuracy: 0.4571 - val_loss: 0.9472 - val_accuracy: 0.5556\n",
      "Epoch 11/15\n",
      "105/105 [==============================] - 0s 2ms/sample - loss: 1.4612 - accuracy: 0.3524 - val_loss: 0.9444 - val_accuracy: 0.5556\n",
      "Epoch 12/15\n",
      "105/105 [==============================] - 0s 2ms/sample - loss: 1.3101 - accuracy: 0.4286 - val_loss: 0.9372 - val_accuracy: 0.5556\n",
      "Epoch 13/15\n",
      "105/105 [==============================] - 0s 2ms/sample - loss: 1.2716 - accuracy: 0.4857 - val_loss: 0.9369 - val_accuracy: 0.5556\n",
      "Epoch 14/15\n",
      "105/105 [==============================] - 0s 2ms/sample - loss: 1.3230 - accuracy: 0.4000 - val_loss: 0.9256 - val_accuracy: 0.5556\n",
      "Epoch 15/15\n",
      "105/105 [==============================] - 0s 2ms/sample - loss: 1.3342 - accuracy: 0.4952 - val_loss: 0.9104 - val_accuracy: 0.5556\n",
      "wandb: Agent Finished Run: w14nbi8m \n",
      "\n",
      "wandb: Agent Starting Run: iwrvvw1c with config:\n",
      "\tbatch_size: 32\n",
      "\tepochs: 15\n",
      "\tlayers: 4\n",
      "wandb: Agent Started Run: iwrvvw1c\n"
     ]
    },
    {
     "data": {
      "text/html": [
       "\n",
       "                Logging results to <a href=\"https://wandb.com\" target=\"_blank\">Weights & Biases</a> <a href=\"https://docs.wandb.com/integrations/jupyter.html\" target=\"_blank\">(Documentation)</a>.<br/>\n",
       "                Project page: <a href=\"https://app.wandb.ai/sinisha123/hyperparameter-sweeps-comparison\" target=\"_blank\">https://app.wandb.ai/sinisha123/hyperparameter-sweeps-comparison</a><br/>\n",
       "                Sweep page: <a href=\"https://app.wandb.ai/sinisha123/hyperparameter-sweeps-comparison/sweeps/rda1hnv0\" target=\"_blank\">https://app.wandb.ai/sinisha123/hyperparameter-sweeps-comparison/sweeps/rda1hnv0</a><br/>\n",
       "Run page: <a href=\"https://app.wandb.ai/sinisha123/hyperparameter-sweeps-comparison/runs/iwrvvw1c\" target=\"_blank\">https://app.wandb.ai/sinisha123/hyperparameter-sweeps-comparison/runs/iwrvvw1c</a><br/>\n",
       "            "
      ],
      "text/plain": [
       "<IPython.core.display.HTML object>"
      ]
     },
     "metadata": {},
     "output_type": "display_data"
    },
    {
     "name": "stdout",
     "output_type": "stream",
     "text": [
      "Train on 105 samples, validate on 45 samples\n",
      "Epoch 1/15\n",
      "105/105 [==============================] - 1s 9ms/sample - loss: 2.9028 - accuracy: 0.3524 - val_loss: 1.6668 - val_accuracy: 0.2889\n",
      "Epoch 2/15\n",
      "105/105 [==============================] - 0s 3ms/sample - loss: 2.0642 - accuracy: 0.4476 - val_loss: 1.4364 - val_accuracy: 0.2889\n",
      "Epoch 3/15\n",
      "105/105 [==============================] - 0s 2ms/sample - loss: 2.2950 - accuracy: 0.3905 - val_loss: 1.2692 - val_accuracy: 0.2889\n",
      "Epoch 4/15\n",
      "105/105 [==============================] - 0s 2ms/sample - loss: 1.9392 - accuracy: 0.4571 - val_loss: 1.1380 - val_accuracy: 0.2889\n",
      "Epoch 5/15\n",
      "105/105 [==============================] - 0s 2ms/sample - loss: 2.3652 - accuracy: 0.2762 - val_loss: 1.0530 - val_accuracy: 0.2889\n",
      "Epoch 6/15\n",
      "105/105 [==============================] - 0s 2ms/sample - loss: 2.3472 - accuracy: 0.3714 - val_loss: 1.0013 - val_accuracy: 0.2889\n",
      "Epoch 7/15\n",
      "105/105 [==============================] - 0s 2ms/sample - loss: 1.7626 - accuracy: 0.3524 - val_loss: 0.9742 - val_accuracy: 0.4000\n",
      "Epoch 8/15\n",
      "105/105 [==============================] - 0s 2ms/sample - loss: 1.6315 - accuracy: 0.4190 - val_loss: 0.9619 - val_accuracy: 0.5556\n",
      "Epoch 9/15\n",
      "105/105 [==============================] - 0s 2ms/sample - loss: 1.9917 - accuracy: 0.3524 - val_loss: 0.9532 - val_accuracy: 0.5556\n",
      "Epoch 10/15\n",
      "105/105 [==============================] - 0s 2ms/sample - loss: 1.4822 - accuracy: 0.4571 - val_loss: 0.9472 - val_accuracy: 0.5556\n",
      "Epoch 11/15\n",
      "105/105 [==============================] - 0s 2ms/sample - loss: 1.4612 - accuracy: 0.3524 - val_loss: 0.9444 - val_accuracy: 0.5556\n",
      "Epoch 12/15\n",
      "105/105 [==============================] - 0s 2ms/sample - loss: 1.3101 - accuracy: 0.4286 - val_loss: 0.9372 - val_accuracy: 0.5556\n",
      "Epoch 13/15\n",
      "105/105 [==============================] - 0s 2ms/sample - loss: 1.2716 - accuracy: 0.4857 - val_loss: 0.9369 - val_accuracy: 0.5556\n",
      "Epoch 14/15\n",
      "105/105 [==============================] - 0s 2ms/sample - loss: 1.3230 - accuracy: 0.4000 - val_loss: 0.9256 - val_accuracy: 0.5556\n",
      "Epoch 15/15\n",
      "105/105 [==============================] - 0s 2ms/sample - loss: 1.3342 - accuracy: 0.4952 - val_loss: 0.9104 - val_accuracy: 0.5556\n",
      "wandb: Agent Finished Run: iwrvvw1c \n",
      "\n",
      "wandb: Agent Starting Run: b4thn4hu with config:\n",
      "\tbatch_size: 32\n",
      "\tepochs: 15\n",
      "\tlayers: 4\n",
      "wandb: Agent Started Run: b4thn4hu\n"
     ]
    },
    {
     "data": {
      "text/html": [
       "\n",
       "                Logging results to <a href=\"https://wandb.com\" target=\"_blank\">Weights & Biases</a> <a href=\"https://docs.wandb.com/integrations/jupyter.html\" target=\"_blank\">(Documentation)</a>.<br/>\n",
       "                Project page: <a href=\"https://app.wandb.ai/sinisha123/hyperparameter-sweeps-comparison\" target=\"_blank\">https://app.wandb.ai/sinisha123/hyperparameter-sweeps-comparison</a><br/>\n",
       "                Sweep page: <a href=\"https://app.wandb.ai/sinisha123/hyperparameter-sweeps-comparison/sweeps/rda1hnv0\" target=\"_blank\">https://app.wandb.ai/sinisha123/hyperparameter-sweeps-comparison/sweeps/rda1hnv0</a><br/>\n",
       "Run page: <a href=\"https://app.wandb.ai/sinisha123/hyperparameter-sweeps-comparison/runs/b4thn4hu\" target=\"_blank\">https://app.wandb.ai/sinisha123/hyperparameter-sweeps-comparison/runs/b4thn4hu</a><br/>\n",
       "            "
      ],
      "text/plain": [
       "<IPython.core.display.HTML object>"
      ]
     },
     "metadata": {},
     "output_type": "display_data"
    },
    {
     "name": "stdout",
     "output_type": "stream",
     "text": [
      "Train on 105 samples, validate on 45 samples\n",
      "Epoch 1/15\n",
      "105/105 [==============================] - 1s 8ms/sample - loss: 2.9028 - accuracy: 0.3524 - val_loss: 1.6668 - val_accuracy: 0.2889\n",
      "Epoch 2/15\n",
      "105/105 [==============================] - 0s 2ms/sample - loss: 2.0642 - accuracy: 0.4476 - val_loss: 1.4364 - val_accuracy: 0.2889\n",
      "Epoch 3/15\n",
      "105/105 [==============================] - 0s 2ms/sample - loss: 2.2950 - accuracy: 0.3905 - val_loss: 1.2692 - val_accuracy: 0.2889\n",
      "Epoch 4/15\n",
      "105/105 [==============================] - 0s 2ms/sample - loss: 1.9392 - accuracy: 0.4571 - val_loss: 1.1380 - val_accuracy: 0.2889\n",
      "Epoch 5/15\n",
      "105/105 [==============================] - 0s 2ms/sample - loss: 2.3652 - accuracy: 0.2762 - val_loss: 1.0530 - val_accuracy: 0.2889\n",
      "Epoch 6/15\n",
      "105/105 [==============================] - 0s 2ms/sample - loss: 2.3472 - accuracy: 0.3714 - val_loss: 1.0013 - val_accuracy: 0.2889\n",
      "Epoch 7/15\n",
      "105/105 [==============================] - 0s 2ms/sample - loss: 1.7626 - accuracy: 0.3524 - val_loss: 0.9742 - val_accuracy: 0.4000\n",
      "Epoch 8/15\n",
      "105/105 [==============================] - 0s 2ms/sample - loss: 1.6315 - accuracy: 0.4190 - val_loss: 0.9619 - val_accuracy: 0.5556\n",
      "Epoch 9/15\n",
      "105/105 [==============================] - 0s 2ms/sample - loss: 1.9917 - accuracy: 0.3524 - val_loss: 0.9532 - val_accuracy: 0.5556\n",
      "Epoch 10/15\n",
      "105/105 [==============================] - 0s 2ms/sample - loss: 1.4822 - accuracy: 0.4571 - val_loss: 0.9472 - val_accuracy: 0.5556\n",
      "Epoch 11/15\n",
      "105/105 [==============================] - 0s 2ms/sample - loss: 1.4612 - accuracy: 0.3524 - val_loss: 0.9444 - val_accuracy: 0.5556\n",
      "Epoch 12/15\n",
      "105/105 [==============================] - 0s 2ms/sample - loss: 1.3101 - accuracy: 0.4286 - val_loss: 0.9372 - val_accuracy: 0.5556\n",
      "Epoch 13/15\n",
      "105/105 [==============================] - 0s 2ms/sample - loss: 1.2716 - accuracy: 0.4857 - val_loss: 0.9369 - val_accuracy: 0.5556\n",
      "Epoch 14/15\n",
      "105/105 [==============================] - 0s 2ms/sample - loss: 1.3230 - accuracy: 0.4000 - val_loss: 0.9256 - val_accuracy: 0.5556\n",
      "Epoch 15/15\n",
      "105/105 [==============================] - 0s 2ms/sample - loss: 1.3342 - accuracy: 0.4952 - val_loss: 0.9104 - val_accuracy: 0.5556\n",
      "wandb: Agent Finished Run: b4thn4hu \n",
      "\n",
      "wandb: Agent Starting Run: bw1i9wiz with config:\n",
      "\tbatch_size: 32\n",
      "\tepochs: 15\n",
      "\tlayers: 4\n",
      "wandb: Agent Started Run: bw1i9wiz\n"
     ]
    },
    {
     "data": {
      "text/html": [
       "\n",
       "                Logging results to <a href=\"https://wandb.com\" target=\"_blank\">Weights & Biases</a> <a href=\"https://docs.wandb.com/integrations/jupyter.html\" target=\"_blank\">(Documentation)</a>.<br/>\n",
       "                Project page: <a href=\"https://app.wandb.ai/sinisha123/hyperparameter-sweeps-comparison\" target=\"_blank\">https://app.wandb.ai/sinisha123/hyperparameter-sweeps-comparison</a><br/>\n",
       "                Sweep page: <a href=\"https://app.wandb.ai/sinisha123/hyperparameter-sweeps-comparison/sweeps/rda1hnv0\" target=\"_blank\">https://app.wandb.ai/sinisha123/hyperparameter-sweeps-comparison/sweeps/rda1hnv0</a><br/>\n",
       "Run page: <a href=\"https://app.wandb.ai/sinisha123/hyperparameter-sweeps-comparison/runs/bw1i9wiz\" target=\"_blank\">https://app.wandb.ai/sinisha123/hyperparameter-sweeps-comparison/runs/bw1i9wiz</a><br/>\n",
       "            "
      ],
      "text/plain": [
       "<IPython.core.display.HTML object>"
      ]
     },
     "metadata": {},
     "output_type": "display_data"
    },
    {
     "name": "stdout",
     "output_type": "stream",
     "text": [
      "Train on 105 samples, validate on 45 samples\n",
      "Epoch 1/15\n",
      "105/105 [==============================] - 1s 8ms/sample - loss: 2.9028 - accuracy: 0.3524 - val_loss: 1.6668 - val_accuracy: 0.2889\n",
      "Epoch 2/15\n",
      "105/105 [==============================] - 0s 2ms/sample - loss: 2.0642 - accuracy: 0.4476 - val_loss: 1.4364 - val_accuracy: 0.2889\n",
      "Epoch 3/15\n",
      "105/105 [==============================] - 0s 2ms/sample - loss: 2.2950 - accuracy: 0.3905 - val_loss: 1.2692 - val_accuracy: 0.2889\n",
      "Epoch 4/15\n",
      "105/105 [==============================] - 0s 2ms/sample - loss: 1.9392 - accuracy: 0.4571 - val_loss: 1.1380 - val_accuracy: 0.2889\n",
      "Epoch 5/15\n",
      "105/105 [==============================] - 0s 2ms/sample - loss: 2.3652 - accuracy: 0.2762 - val_loss: 1.0530 - val_accuracy: 0.2889\n",
      "Epoch 6/15\n",
      "105/105 [==============================] - 0s 3ms/sample - loss: 2.3472 - accuracy: 0.3714 - val_loss: 1.0013 - val_accuracy: 0.2889\n",
      "Epoch 7/15\n",
      "105/105 [==============================] - 0s 2ms/sample - loss: 1.7626 - accuracy: 0.3524 - val_loss: 0.9742 - val_accuracy: 0.4000\n",
      "Epoch 8/15\n",
      "105/105 [==============================] - 0s 2ms/sample - loss: 1.6315 - accuracy: 0.4190 - val_loss: 0.9619 - val_accuracy: 0.5556\n",
      "Epoch 9/15\n",
      "105/105 [==============================] - 0s 2ms/sample - loss: 1.9917 - accuracy: 0.3524 - val_loss: 0.9532 - val_accuracy: 0.5556\n",
      "Epoch 10/15\n",
      "105/105 [==============================] - 0s 2ms/sample - loss: 1.4822 - accuracy: 0.4571 - val_loss: 0.9472 - val_accuracy: 0.5556\n",
      "Epoch 11/15\n",
      "105/105 [==============================] - 0s 2ms/sample - loss: 1.4612 - accuracy: 0.3524 - val_loss: 0.9444 - val_accuracy: 0.5556\n",
      "Epoch 12/15\n",
      "105/105 [==============================] - 0s 2ms/sample - loss: 1.3101 - accuracy: 0.4286 - val_loss: 0.9372 - val_accuracy: 0.5556\n",
      "Epoch 13/15\n",
      "105/105 [==============================] - 0s 2ms/sample - loss: 1.2716 - accuracy: 0.4857 - val_loss: 0.9369 - val_accuracy: 0.5556\n",
      "Epoch 14/15\n",
      "105/105 [==============================] - 0s 2ms/sample - loss: 1.3230 - accuracy: 0.4000 - val_loss: 0.9256 - val_accuracy: 0.5556\n",
      "Epoch 15/15\n",
      "105/105 [==============================] - 0s 2ms/sample - loss: 1.3342 - accuracy: 0.4952 - val_loss: 0.9104 - val_accuracy: 0.5556\n",
      "wandb: Agent Finished Run: bw1i9wiz \n",
      "\n",
      "wandb: Agent Starting Run: 8ws3lbou with config:\n",
      "\tbatch_size: 32\n",
      "\tepochs: 15\n",
      "\tlayers: 4\n",
      "wandb: Agent Started Run: 8ws3lbou\n"
     ]
    },
    {
     "data": {
      "text/html": [
       "\n",
       "                Logging results to <a href=\"https://wandb.com\" target=\"_blank\">Weights & Biases</a> <a href=\"https://docs.wandb.com/integrations/jupyter.html\" target=\"_blank\">(Documentation)</a>.<br/>\n",
       "                Project page: <a href=\"https://app.wandb.ai/sinisha123/hyperparameter-sweeps-comparison\" target=\"_blank\">https://app.wandb.ai/sinisha123/hyperparameter-sweeps-comparison</a><br/>\n",
       "                Sweep page: <a href=\"https://app.wandb.ai/sinisha123/hyperparameter-sweeps-comparison/sweeps/rda1hnv0\" target=\"_blank\">https://app.wandb.ai/sinisha123/hyperparameter-sweeps-comparison/sweeps/rda1hnv0</a><br/>\n",
       "Run page: <a href=\"https://app.wandb.ai/sinisha123/hyperparameter-sweeps-comparison/runs/8ws3lbou\" target=\"_blank\">https://app.wandb.ai/sinisha123/hyperparameter-sweeps-comparison/runs/8ws3lbou</a><br/>\n",
       "            "
      ],
      "text/plain": [
       "<IPython.core.display.HTML object>"
      ]
     },
     "metadata": {},
     "output_type": "display_data"
    },
    {
     "name": "stdout",
     "output_type": "stream",
     "text": [
      "Train on 105 samples, validate on 45 samples\n",
      "Epoch 1/15\n",
      "105/105 [==============================] - 1s 9ms/sample - loss: 2.9028 - accuracy: 0.3524 - val_loss: 1.6668 - val_accuracy: 0.2889\n",
      "Epoch 2/15\n",
      "105/105 [==============================] - 0s 2ms/sample - loss: 2.0642 - accuracy: 0.4476 - val_loss: 1.4364 - val_accuracy: 0.2889\n",
      "Epoch 3/15\n",
      "105/105 [==============================] - 0s 3ms/sample - loss: 2.2950 - accuracy: 0.3905 - val_loss: 1.2692 - val_accuracy: 0.2889\n",
      "Epoch 4/15\n",
      "105/105 [==============================] - 0s 2ms/sample - loss: 1.9392 - accuracy: 0.4571 - val_loss: 1.1380 - val_accuracy: 0.2889\n",
      "Epoch 5/15\n",
      "105/105 [==============================] - 0s 2ms/sample - loss: 2.3652 - accuracy: 0.2762 - val_loss: 1.0530 - val_accuracy: 0.2889\n",
      "Epoch 6/15\n",
      "105/105 [==============================] - 0s 2ms/sample - loss: 2.3472 - accuracy: 0.3714 - val_loss: 1.0013 - val_accuracy: 0.2889\n",
      "Epoch 7/15\n",
      "105/105 [==============================] - 0s 2ms/sample - loss: 1.7626 - accuracy: 0.3524 - val_loss: 0.9742 - val_accuracy: 0.4000\n",
      "Epoch 8/15\n",
      "105/105 [==============================] - 0s 2ms/sample - loss: 1.6315 - accuracy: 0.4190 - val_loss: 0.9619 - val_accuracy: 0.5556\n",
      "Epoch 9/15\n",
      "105/105 [==============================] - 0s 2ms/sample - loss: 1.9917 - accuracy: 0.3524 - val_loss: 0.9532 - val_accuracy: 0.5556\n",
      "Epoch 10/15\n",
      "105/105 [==============================] - 0s 2ms/sample - loss: 1.4822 - accuracy: 0.4571 - val_loss: 0.9472 - val_accuracy: 0.5556\n",
      "Epoch 11/15\n",
      "105/105 [==============================] - 0s 2ms/sample - loss: 1.4612 - accuracy: 0.3524 - val_loss: 0.9444 - val_accuracy: 0.5556\n",
      "Epoch 12/15\n",
      "105/105 [==============================] - 0s 2ms/sample - loss: 1.3101 - accuracy: 0.4286 - val_loss: 0.9372 - val_accuracy: 0.5556\n",
      "Epoch 13/15\n",
      "105/105 [==============================] - 0s 2ms/sample - loss: 1.2716 - accuracy: 0.4857 - val_loss: 0.9369 - val_accuracy: 0.5556\n",
      "Epoch 14/15\n",
      "105/105 [==============================] - 0s 2ms/sample - loss: 1.3230 - accuracy: 0.4000 - val_loss: 0.9256 - val_accuracy: 0.5556\n",
      "Epoch 15/15\n",
      "105/105 [==============================] - 0s 2ms/sample - loss: 1.3342 - accuracy: 0.4952 - val_loss: 0.9104 - val_accuracy: 0.5556\n",
      "wandb: Agent Finished Run: 8ws3lbou \n",
      "\n",
      "wandb: Agent Starting Run: i6rm8dla with config:\n",
      "\tbatch_size: 32\n",
      "\tepochs: 15\n",
      "\tlayers: 4\n",
      "wandb: Agent Started Run: i6rm8dla\n"
     ]
    },
    {
     "data": {
      "text/html": [
       "\n",
       "                Logging results to <a href=\"https://wandb.com\" target=\"_blank\">Weights & Biases</a> <a href=\"https://docs.wandb.com/integrations/jupyter.html\" target=\"_blank\">(Documentation)</a>.<br/>\n",
       "                Project page: <a href=\"https://app.wandb.ai/sinisha123/hyperparameter-sweeps-comparison\" target=\"_blank\">https://app.wandb.ai/sinisha123/hyperparameter-sweeps-comparison</a><br/>\n",
       "                Sweep page: <a href=\"https://app.wandb.ai/sinisha123/hyperparameter-sweeps-comparison/sweeps/rda1hnv0\" target=\"_blank\">https://app.wandb.ai/sinisha123/hyperparameter-sweeps-comparison/sweeps/rda1hnv0</a><br/>\n",
       "Run page: <a href=\"https://app.wandb.ai/sinisha123/hyperparameter-sweeps-comparison/runs/i6rm8dla\" target=\"_blank\">https://app.wandb.ai/sinisha123/hyperparameter-sweeps-comparison/runs/i6rm8dla</a><br/>\n",
       "            "
      ],
      "text/plain": [
       "<IPython.core.display.HTML object>"
      ]
     },
     "metadata": {},
     "output_type": "display_data"
    },
    {
     "name": "stdout",
     "output_type": "stream",
     "text": [
      "Train on 105 samples, validate on 45 samples\n",
      "Epoch 1/15\n",
      "105/105 [==============================] - 1s 9ms/sample - loss: 2.9028 - accuracy: 0.3524 - val_loss: 1.6668 - val_accuracy: 0.2889\n",
      "Epoch 2/15\n",
      "105/105 [==============================] - 0s 2ms/sample - loss: 2.0642 - accuracy: 0.4476 - val_loss: 1.4364 - val_accuracy: 0.2889\n",
      "Epoch 3/15\n",
      "105/105 [==============================] - 0s 2ms/sample - loss: 2.2950 - accuracy: 0.3905 - val_loss: 1.2692 - val_accuracy: 0.2889\n",
      "Epoch 4/15\n",
      "105/105 [==============================] - 0s 2ms/sample - loss: 1.9392 - accuracy: 0.4571 - val_loss: 1.1380 - val_accuracy: 0.2889\n",
      "Epoch 5/15\n",
      "105/105 [==============================] - 0s 2ms/sample - loss: 2.3652 - accuracy: 0.2762 - val_loss: 1.0530 - val_accuracy: 0.2889\n",
      "Epoch 6/15\n",
      "105/105 [==============================] - 0s 2ms/sample - loss: 2.3472 - accuracy: 0.3714 - val_loss: 1.0013 - val_accuracy: 0.2889\n",
      "Epoch 7/15\n",
      "105/105 [==============================] - 0s 2ms/sample - loss: 1.7626 - accuracy: 0.3524 - val_loss: 0.9742 - val_accuracy: 0.4000\n",
      "Epoch 8/15\n",
      "105/105 [==============================] - 0s 2ms/sample - loss: 1.6315 - accuracy: 0.4190 - val_loss: 0.9619 - val_accuracy: 0.5556\n",
      "Epoch 9/15\n",
      "105/105 [==============================] - 0s 2ms/sample - loss: 1.9917 - accuracy: 0.3524 - val_loss: 0.9532 - val_accuracy: 0.5556\n",
      "Epoch 10/15\n",
      "105/105 [==============================] - 0s 2ms/sample - loss: 1.4822 - accuracy: 0.4571 - val_loss: 0.9472 - val_accuracy: 0.5556\n",
      "Epoch 11/15\n",
      "105/105 [==============================] - 0s 2ms/sample - loss: 1.4612 - accuracy: 0.3524 - val_loss: 0.9444 - val_accuracy: 0.5556\n",
      "Epoch 12/15\n",
      "105/105 [==============================] - 0s 2ms/sample - loss: 1.3101 - accuracy: 0.4286 - val_loss: 0.9372 - val_accuracy: 0.5556\n",
      "Epoch 13/15\n",
      "105/105 [==============================] - 0s 2ms/sample - loss: 1.2716 - accuracy: 0.4857 - val_loss: 0.9369 - val_accuracy: 0.5556\n",
      "Epoch 14/15\n",
      "105/105 [==============================] - 0s 2ms/sample - loss: 1.3230 - accuracy: 0.4000 - val_loss: 0.9256 - val_accuracy: 0.5556\n",
      "Epoch 15/15\n",
      "105/105 [==============================] - 0s 2ms/sample - loss: 1.3342 - accuracy: 0.4952 - val_loss: 0.9104 - val_accuracy: 0.5556\n",
      "wandb: Agent Finished Run: i6rm8dla \n",
      "\n",
      "wandb: Agent Starting Run: 2xvsgm54 with config:\n",
      "\tbatch_size: 32\n",
      "\tepochs: 15\n",
      "\tlayers: 4\n",
      "wandb: Agent Started Run: 2xvsgm54\n"
     ]
    },
    {
     "data": {
      "text/html": [
       "\n",
       "                Logging results to <a href=\"https://wandb.com\" target=\"_blank\">Weights & Biases</a> <a href=\"https://docs.wandb.com/integrations/jupyter.html\" target=\"_blank\">(Documentation)</a>.<br/>\n",
       "                Project page: <a href=\"https://app.wandb.ai/sinisha123/hyperparameter-sweeps-comparison\" target=\"_blank\">https://app.wandb.ai/sinisha123/hyperparameter-sweeps-comparison</a><br/>\n",
       "                Sweep page: <a href=\"https://app.wandb.ai/sinisha123/hyperparameter-sweeps-comparison/sweeps/rda1hnv0\" target=\"_blank\">https://app.wandb.ai/sinisha123/hyperparameter-sweeps-comparison/sweeps/rda1hnv0</a><br/>\n",
       "Run page: <a href=\"https://app.wandb.ai/sinisha123/hyperparameter-sweeps-comparison/runs/2xvsgm54\" target=\"_blank\">https://app.wandb.ai/sinisha123/hyperparameter-sweeps-comparison/runs/2xvsgm54</a><br/>\n",
       "            "
      ],
      "text/plain": [
       "<IPython.core.display.HTML object>"
      ]
     },
     "metadata": {},
     "output_type": "display_data"
    },
    {
     "name": "stdout",
     "output_type": "stream",
     "text": [
      "Train on 105 samples, validate on 45 samples\n",
      "Epoch 1/15\n",
      "105/105 [==============================] - 1s 8ms/sample - loss: 2.9028 - accuracy: 0.3524 - val_loss: 1.6668 - val_accuracy: 0.2889\n",
      "Epoch 2/15\n",
      "105/105 [==============================] - 0s 2ms/sample - loss: 2.0642 - accuracy: 0.4476 - val_loss: 1.4364 - val_accuracy: 0.2889\n",
      "Epoch 3/15\n",
      "105/105 [==============================] - 0s 2ms/sample - loss: 2.2950 - accuracy: 0.3905 - val_loss: 1.2692 - val_accuracy: 0.2889\n",
      "Epoch 4/15\n",
      "105/105 [==============================] - 0s 2ms/sample - loss: 1.9392 - accuracy: 0.4571 - val_loss: 1.1380 - val_accuracy: 0.2889\n",
      "Epoch 5/15\n",
      "105/105 [==============================] - 0s 2ms/sample - loss: 2.3652 - accuracy: 0.2762 - val_loss: 1.0530 - val_accuracy: 0.2889\n",
      "Epoch 6/15\n",
      "105/105 [==============================] - 0s 2ms/sample - loss: 2.3472 - accuracy: 0.3714 - val_loss: 1.0013 - val_accuracy: 0.2889\n",
      "Epoch 7/15\n",
      "105/105 [==============================] - 0s 2ms/sample - loss: 1.7626 - accuracy: 0.3524 - val_loss: 0.9742 - val_accuracy: 0.4000\n",
      "Epoch 8/15\n",
      "105/105 [==============================] - 0s 2ms/sample - loss: 1.6315 - accuracy: 0.4190 - val_loss: 0.9619 - val_accuracy: 0.5556\n",
      "Epoch 9/15\n",
      "105/105 [==============================] - 0s 2ms/sample - loss: 1.9917 - accuracy: 0.3524 - val_loss: 0.9532 - val_accuracy: 0.5556\n",
      "Epoch 10/15\n",
      "105/105 [==============================] - 0s 2ms/sample - loss: 1.4822 - accuracy: 0.4571 - val_loss: 0.9472 - val_accuracy: 0.5556\n",
      "Epoch 11/15\n",
      "105/105 [==============================] - 0s 2ms/sample - loss: 1.4612 - accuracy: 0.3524 - val_loss: 0.9444 - val_accuracy: 0.5556\n",
      "Epoch 12/15\n",
      "105/105 [==============================] - 0s 2ms/sample - loss: 1.3101 - accuracy: 0.4286 - val_loss: 0.9372 - val_accuracy: 0.5556\n",
      "Epoch 13/15\n",
      "105/105 [==============================] - 0s 2ms/sample - loss: 1.2716 - accuracy: 0.4857 - val_loss: 0.9369 - val_accuracy: 0.5556\n",
      "Epoch 14/15\n",
      "105/105 [==============================] - 0s 2ms/sample - loss: 1.3230 - accuracy: 0.4000 - val_loss: 0.9256 - val_accuracy: 0.5556\n",
      "Epoch 15/15\n",
      "105/105 [==============================] - 0s 2ms/sample - loss: 1.3342 - accuracy: 0.4952 - val_loss: 0.9104 - val_accuracy: 0.5556\n",
      "wandb: Agent Finished Run: 2xvsgm54 \n",
      "\n",
      "wandb: Agent Starting Run: zmrun4ik with config:\n",
      "\tbatch_size: 32\n",
      "\tepochs: 15\n",
      "\tlayers: 4\n",
      "wandb: Agent Started Run: zmrun4ik\n"
     ]
    },
    {
     "data": {
      "text/html": [
       "\n",
       "                Logging results to <a href=\"https://wandb.com\" target=\"_blank\">Weights & Biases</a> <a href=\"https://docs.wandb.com/integrations/jupyter.html\" target=\"_blank\">(Documentation)</a>.<br/>\n",
       "                Project page: <a href=\"https://app.wandb.ai/sinisha123/hyperparameter-sweeps-comparison\" target=\"_blank\">https://app.wandb.ai/sinisha123/hyperparameter-sweeps-comparison</a><br/>\n",
       "                Sweep page: <a href=\"https://app.wandb.ai/sinisha123/hyperparameter-sweeps-comparison/sweeps/rda1hnv0\" target=\"_blank\">https://app.wandb.ai/sinisha123/hyperparameter-sweeps-comparison/sweeps/rda1hnv0</a><br/>\n",
       "Run page: <a href=\"https://app.wandb.ai/sinisha123/hyperparameter-sweeps-comparison/runs/zmrun4ik\" target=\"_blank\">https://app.wandb.ai/sinisha123/hyperparameter-sweeps-comparison/runs/zmrun4ik</a><br/>\n",
       "            "
      ],
      "text/plain": [
       "<IPython.core.display.HTML object>"
      ]
     },
     "metadata": {},
     "output_type": "display_data"
    },
    {
     "name": "stdout",
     "output_type": "stream",
     "text": [
      "Train on 105 samples, validate on 45 samples\n",
      "Epoch 1/15\n",
      "105/105 [==============================] - 1s 8ms/sample - loss: 2.9028 - accuracy: 0.3524 - val_loss: 1.6668 - val_accuracy: 0.2889\n",
      "Epoch 2/15\n",
      "105/105 [==============================] - 0s 2ms/sample - loss: 2.0642 - accuracy: 0.4476 - val_loss: 1.4364 - val_accuracy: 0.2889\n",
      "Epoch 3/15\n",
      "105/105 [==============================] - 0s 2ms/sample - loss: 2.2950 - accuracy: 0.3905 - val_loss: 1.2692 - val_accuracy: 0.2889\n",
      "Epoch 4/15\n",
      "105/105 [==============================] - 0s 2ms/sample - loss: 1.9392 - accuracy: 0.4571 - val_loss: 1.1380 - val_accuracy: 0.2889\n",
      "Epoch 5/15\n",
      "105/105 [==============================] - 0s 2ms/sample - loss: 2.3652 - accuracy: 0.2762 - val_loss: 1.0530 - val_accuracy: 0.2889\n",
      "Epoch 6/15\n",
      "105/105 [==============================] - 0s 2ms/sample - loss: 2.3472 - accuracy: 0.3714 - val_loss: 1.0013 - val_accuracy: 0.2889\n",
      "Epoch 7/15\n",
      "105/105 [==============================] - 0s 2ms/sample - loss: 1.7626 - accuracy: 0.3524 - val_loss: 0.9742 - val_accuracy: 0.4000\n",
      "Epoch 8/15\n",
      "105/105 [==============================] - 0s 2ms/sample - loss: 1.6315 - accuracy: 0.4190 - val_loss: 0.9619 - val_accuracy: 0.5556\n",
      "Epoch 9/15\n",
      "105/105 [==============================] - 0s 2ms/sample - loss: 1.9917 - accuracy: 0.3524 - val_loss: 0.9532 - val_accuracy: 0.5556\n",
      "Epoch 10/15\n",
      "105/105 [==============================] - 0s 2ms/sample - loss: 1.4822 - accuracy: 0.4571 - val_loss: 0.9472 - val_accuracy: 0.5556\n",
      "Epoch 11/15\n",
      "105/105 [==============================] - 0s 2ms/sample - loss: 1.4612 - accuracy: 0.3524 - val_loss: 0.9444 - val_accuracy: 0.5556\n",
      "Epoch 12/15\n",
      "105/105 [==============================] - 0s 2ms/sample - loss: 1.3101 - accuracy: 0.4286 - val_loss: 0.9372 - val_accuracy: 0.5556\n",
      "Epoch 13/15\n",
      "105/105 [==============================] - 0s 2ms/sample - loss: 1.2716 - accuracy: 0.4857 - val_loss: 0.9369 - val_accuracy: 0.5556\n",
      "Epoch 14/15\n",
      "105/105 [==============================] - 0s 2ms/sample - loss: 1.3230 - accuracy: 0.4000 - val_loss: 0.9256 - val_accuracy: 0.5556\n",
      "Epoch 15/15\n",
      "105/105 [==============================] - 0s 2ms/sample - loss: 1.3342 - accuracy: 0.4952 - val_loss: 0.9104 - val_accuracy: 0.5556\n",
      "wandb: Agent Finished Run: zmrun4ik \n",
      "\n",
      "wandb: Agent Starting Run: dsm8z4hd with config:\n",
      "\tbatch_size: 32\n",
      "\tepochs: 15\n",
      "\tlayers: 4\n",
      "wandb: Agent Started Run: dsm8z4hd\n"
     ]
    },
    {
     "data": {
      "text/html": [
       "\n",
       "                Logging results to <a href=\"https://wandb.com\" target=\"_blank\">Weights & Biases</a> <a href=\"https://docs.wandb.com/integrations/jupyter.html\" target=\"_blank\">(Documentation)</a>.<br/>\n",
       "                Project page: <a href=\"https://app.wandb.ai/sinisha123/hyperparameter-sweeps-comparison\" target=\"_blank\">https://app.wandb.ai/sinisha123/hyperparameter-sweeps-comparison</a><br/>\n",
       "                Sweep page: <a href=\"https://app.wandb.ai/sinisha123/hyperparameter-sweeps-comparison/sweeps/rda1hnv0\" target=\"_blank\">https://app.wandb.ai/sinisha123/hyperparameter-sweeps-comparison/sweeps/rda1hnv0</a><br/>\n",
       "Run page: <a href=\"https://app.wandb.ai/sinisha123/hyperparameter-sweeps-comparison/runs/dsm8z4hd\" target=\"_blank\">https://app.wandb.ai/sinisha123/hyperparameter-sweeps-comparison/runs/dsm8z4hd</a><br/>\n",
       "            "
      ],
      "text/plain": [
       "<IPython.core.display.HTML object>"
      ]
     },
     "metadata": {},
     "output_type": "display_data"
    },
    {
     "name": "stdout",
     "output_type": "stream",
     "text": [
      "Train on 105 samples, validate on 45 samples\n",
      "Epoch 1/15\n",
      "105/105 [==============================] - 1s 8ms/sample - loss: 2.9028 - accuracy: 0.3524 - val_loss: 1.6668 - val_accuracy: 0.2889\n",
      "Epoch 2/15\n",
      "105/105 [==============================] - 0s 3ms/sample - loss: 2.0642 - accuracy: 0.4476 - val_loss: 1.4364 - val_accuracy: 0.2889\n",
      "Epoch 3/15\n",
      "105/105 [==============================] - 0s 2ms/sample - loss: 2.2950 - accuracy: 0.3905 - val_loss: 1.2692 - val_accuracy: 0.2889\n",
      "Epoch 4/15\n",
      "105/105 [==============================] - 0s 2ms/sample - loss: 1.9392 - accuracy: 0.4571 - val_loss: 1.1380 - val_accuracy: 0.2889\n",
      "Epoch 5/15\n",
      "105/105 [==============================] - 0s 2ms/sample - loss: 2.3652 - accuracy: 0.2762 - val_loss: 1.0530 - val_accuracy: 0.2889\n",
      "Epoch 6/15\n",
      "105/105 [==============================] - 0s 2ms/sample - loss: 2.3472 - accuracy: 0.3714 - val_loss: 1.0013 - val_accuracy: 0.2889\n",
      "Epoch 7/15\n",
      "105/105 [==============================] - 0s 2ms/sample - loss: 1.7626 - accuracy: 0.3524 - val_loss: 0.9742 - val_accuracy: 0.4000\n",
      "Epoch 8/15\n",
      "105/105 [==============================] - 0s 2ms/sample - loss: 1.6315 - accuracy: 0.4190 - val_loss: 0.9619 - val_accuracy: 0.5556\n",
      "Epoch 9/15\n",
      "105/105 [==============================] - 0s 2ms/sample - loss: 1.9917 - accuracy: 0.3524 - val_loss: 0.9532 - val_accuracy: 0.5556\n",
      "Epoch 10/15\n",
      "105/105 [==============================] - 0s 2ms/sample - loss: 1.4822 - accuracy: 0.4571 - val_loss: 0.9472 - val_accuracy: 0.5556\n",
      "Epoch 11/15\n",
      "105/105 [==============================] - 0s 2ms/sample - loss: 1.4612 - accuracy: 0.3524 - val_loss: 0.9444 - val_accuracy: 0.5556\n",
      "Epoch 12/15\n",
      "105/105 [==============================] - 0s 2ms/sample - loss: 1.3101 - accuracy: 0.4286 - val_loss: 0.9372 - val_accuracy: 0.5556\n",
      "Epoch 13/15\n",
      "105/105 [==============================] - 0s 2ms/sample - loss: 1.2716 - accuracy: 0.4857 - val_loss: 0.9369 - val_accuracy: 0.5556\n",
      "Epoch 14/15\n",
      "105/105 [==============================] - 0s 2ms/sample - loss: 1.3230 - accuracy: 0.4000 - val_loss: 0.9256 - val_accuracy: 0.5556\n",
      "Epoch 15/15\n",
      "105/105 [==============================] - 0s 2ms/sample - loss: 1.3342 - accuracy: 0.4952 - val_loss: 0.9104 - val_accuracy: 0.5556\n",
      "wandb: Agent Finished Run: dsm8z4hd \n",
      "\n",
      "wandb: Agent Starting Run: qfblt9jx with config:\n",
      "\tbatch_size: 32\n",
      "\tepochs: 15\n",
      "\tlayers: 4\n",
      "wandb: Agent Started Run: qfblt9jx\n"
     ]
    },
    {
     "data": {
      "text/html": [
       "\n",
       "                Logging results to <a href=\"https://wandb.com\" target=\"_blank\">Weights & Biases</a> <a href=\"https://docs.wandb.com/integrations/jupyter.html\" target=\"_blank\">(Documentation)</a>.<br/>\n",
       "                Project page: <a href=\"https://app.wandb.ai/sinisha123/hyperparameter-sweeps-comparison\" target=\"_blank\">https://app.wandb.ai/sinisha123/hyperparameter-sweeps-comparison</a><br/>\n",
       "                Sweep page: <a href=\"https://app.wandb.ai/sinisha123/hyperparameter-sweeps-comparison/sweeps/rda1hnv0\" target=\"_blank\">https://app.wandb.ai/sinisha123/hyperparameter-sweeps-comparison/sweeps/rda1hnv0</a><br/>\n",
       "Run page: <a href=\"https://app.wandb.ai/sinisha123/hyperparameter-sweeps-comparison/runs/qfblt9jx\" target=\"_blank\">https://app.wandb.ai/sinisha123/hyperparameter-sweeps-comparison/runs/qfblt9jx</a><br/>\n",
       "            "
      ],
      "text/plain": [
       "<IPython.core.display.HTML object>"
      ]
     },
     "metadata": {},
     "output_type": "display_data"
    },
    {
     "name": "stdout",
     "output_type": "stream",
     "text": [
      "Train on 105 samples, validate on 45 samples\n",
      "Epoch 1/15\n",
      "105/105 [==============================] - 1s 9ms/sample - loss: 2.9028 - accuracy: 0.3524 - val_loss: 1.6668 - val_accuracy: 0.2889\n",
      "Epoch 2/15\n",
      "105/105 [==============================] - 0s 3ms/sample - loss: 2.0642 - accuracy: 0.4476 - val_loss: 1.4364 - val_accuracy: 0.2889\n",
      "Epoch 3/15\n",
      "105/105 [==============================] - 0s 2ms/sample - loss: 2.2950 - accuracy: 0.3905 - val_loss: 1.2692 - val_accuracy: 0.2889\n",
      "Epoch 4/15\n",
      "105/105 [==============================] - 0s 2ms/sample - loss: 1.9392 - accuracy: 0.4571 - val_loss: 1.1380 - val_accuracy: 0.2889\n",
      "Epoch 5/15\n",
      "105/105 [==============================] - 0s 2ms/sample - loss: 2.3652 - accuracy: 0.2762 - val_loss: 1.0530 - val_accuracy: 0.2889\n",
      "Epoch 6/15\n",
      "105/105 [==============================] - 0s 2ms/sample - loss: 2.3472 - accuracy: 0.3714 - val_loss: 1.0013 - val_accuracy: 0.2889\n",
      "Epoch 7/15\n",
      "105/105 [==============================] - 0s 2ms/sample - loss: 1.7626 - accuracy: 0.3524 - val_loss: 0.9742 - val_accuracy: 0.4000\n",
      "Epoch 8/15\n",
      "105/105 [==============================] - 0s 2ms/sample - loss: 1.6315 - accuracy: 0.4190 - val_loss: 0.9619 - val_accuracy: 0.5556\n",
      "Epoch 9/15\n",
      "105/105 [==============================] - 0s 2ms/sample - loss: 1.9917 - accuracy: 0.3524 - val_loss: 0.9532 - val_accuracy: 0.5556\n",
      "Epoch 10/15\n",
      "105/105 [==============================] - 0s 2ms/sample - loss: 1.4822 - accuracy: 0.4571 - val_loss: 0.9472 - val_accuracy: 0.5556\n",
      "Epoch 11/15\n",
      "105/105 [==============================] - 0s 2ms/sample - loss: 1.4612 - accuracy: 0.3524 - val_loss: 0.9444 - val_accuracy: 0.5556\n",
      "Epoch 12/15\n",
      "105/105 [==============================] - 0s 2ms/sample - loss: 1.3101 - accuracy: 0.4286 - val_loss: 0.9372 - val_accuracy: 0.5556\n",
      "Epoch 13/15\n",
      "105/105 [==============================] - 0s 2ms/sample - loss: 1.2716 - accuracy: 0.4857 - val_loss: 0.9369 - val_accuracy: 0.5556\n",
      "Epoch 14/15\n",
      "105/105 [==============================] - 0s 2ms/sample - loss: 1.3230 - accuracy: 0.4000 - val_loss: 0.9256 - val_accuracy: 0.5556\n",
      "Epoch 15/15\n",
      "105/105 [==============================] - 0s 2ms/sample - loss: 1.3342 - accuracy: 0.4952 - val_loss: 0.9104 - val_accuracy: 0.5556\n",
      "wandb: Agent Finished Run: qfblt9jx \n",
      "\n",
      "wandb: Agent Starting Run: 6s4wsxu1 with config:\n",
      "\tbatch_size: 32\n",
      "\tepochs: 15\n",
      "\tlayers: 4\n",
      "wandb: Agent Started Run: 6s4wsxu1\n"
     ]
    },
    {
     "data": {
      "text/html": [
       "\n",
       "                Logging results to <a href=\"https://wandb.com\" target=\"_blank\">Weights & Biases</a> <a href=\"https://docs.wandb.com/integrations/jupyter.html\" target=\"_blank\">(Documentation)</a>.<br/>\n",
       "                Project page: <a href=\"https://app.wandb.ai/sinisha123/hyperparameter-sweeps-comparison\" target=\"_blank\">https://app.wandb.ai/sinisha123/hyperparameter-sweeps-comparison</a><br/>\n",
       "                Sweep page: <a href=\"https://app.wandb.ai/sinisha123/hyperparameter-sweeps-comparison/sweeps/rda1hnv0\" target=\"_blank\">https://app.wandb.ai/sinisha123/hyperparameter-sweeps-comparison/sweeps/rda1hnv0</a><br/>\n",
       "Run page: <a href=\"https://app.wandb.ai/sinisha123/hyperparameter-sweeps-comparison/runs/6s4wsxu1\" target=\"_blank\">https://app.wandb.ai/sinisha123/hyperparameter-sweeps-comparison/runs/6s4wsxu1</a><br/>\n",
       "            "
      ],
      "text/plain": [
       "<IPython.core.display.HTML object>"
      ]
     },
     "metadata": {},
     "output_type": "display_data"
    },
    {
     "name": "stdout",
     "output_type": "stream",
     "text": [
      "Train on 105 samples, validate on 45 samples\n",
      "Epoch 1/15\n",
      "105/105 [==============================] - 1s 8ms/sample - loss: 2.9028 - accuracy: 0.3524 - val_loss: 1.6668 - val_accuracy: 0.2889\n",
      "Epoch 2/15\n",
      "105/105 [==============================] - 0s 2ms/sample - loss: 2.0642 - accuracy: 0.4476 - val_loss: 1.4364 - val_accuracy: 0.2889\n",
      "Epoch 3/15\n",
      "105/105 [==============================] - 0s 2ms/sample - loss: 2.2950 - accuracy: 0.3905 - val_loss: 1.2692 - val_accuracy: 0.2889\n",
      "Epoch 4/15\n",
      "105/105 [==============================] - 0s 2ms/sample - loss: 1.9392 - accuracy: 0.4571 - val_loss: 1.1380 - val_accuracy: 0.2889\n",
      "Epoch 5/15\n",
      "105/105 [==============================] - 0s 2ms/sample - loss: 2.3652 - accuracy: 0.2762 - val_loss: 1.0530 - val_accuracy: 0.2889\n",
      "Epoch 6/15\n",
      "105/105 [==============================] - 0s 2ms/sample - loss: 2.3472 - accuracy: 0.3714 - val_loss: 1.0013 - val_accuracy: 0.2889\n",
      "Epoch 7/15\n",
      "105/105 [==============================] - 0s 2ms/sample - loss: 1.7626 - accuracy: 0.3524 - val_loss: 0.9742 - val_accuracy: 0.4000\n",
      "Epoch 8/15\n",
      "105/105 [==============================] - 0s 2ms/sample - loss: 1.6315 - accuracy: 0.4190 - val_loss: 0.9619 - val_accuracy: 0.5556\n",
      "Epoch 9/15\n",
      "105/105 [==============================] - 0s 3ms/sample - loss: 1.9917 - accuracy: 0.3524 - val_loss: 0.9532 - val_accuracy: 0.5556\n",
      "Epoch 10/15\n",
      "105/105 [==============================] - 0s 2ms/sample - loss: 1.4822 - accuracy: 0.4571 - val_loss: 0.9472 - val_accuracy: 0.5556\n",
      "Epoch 11/15\n",
      "105/105 [==============================] - 0s 2ms/sample - loss: 1.4612 - accuracy: 0.3524 - val_loss: 0.9444 - val_accuracy: 0.5556\n",
      "Epoch 12/15\n",
      "105/105 [==============================] - 0s 2ms/sample - loss: 1.3101 - accuracy: 0.4286 - val_loss: 0.9372 - val_accuracy: 0.5556\n",
      "Epoch 13/15\n",
      "105/105 [==============================] - 0s 2ms/sample - loss: 1.2716 - accuracy: 0.4857 - val_loss: 0.9369 - val_accuracy: 0.5556\n",
      "Epoch 14/15\n",
      "105/105 [==============================] - 0s 2ms/sample - loss: 1.3230 - accuracy: 0.4000 - val_loss: 0.9256 - val_accuracy: 0.5556\n",
      "Epoch 15/15\n",
      "105/105 [==============================] - 0s 2ms/sample - loss: 1.3342 - accuracy: 0.4952 - val_loss: 0.9104 - val_accuracy: 0.5556\n",
      "wandb: Agent Finished Run: 6s4wsxu1 \n",
      "\n",
      "wandb: Agent Starting Run: 9l0d5jsb with config:\n",
      "\tbatch_size: 32\n",
      "\tepochs: 15\n",
      "\tlayers: 4\n",
      "wandb: Agent Started Run: 9l0d5jsb\n"
     ]
    },
    {
     "data": {
      "text/html": [
       "\n",
       "                Logging results to <a href=\"https://wandb.com\" target=\"_blank\">Weights & Biases</a> <a href=\"https://docs.wandb.com/integrations/jupyter.html\" target=\"_blank\">(Documentation)</a>.<br/>\n",
       "                Project page: <a href=\"https://app.wandb.ai/sinisha123/hyperparameter-sweeps-comparison\" target=\"_blank\">https://app.wandb.ai/sinisha123/hyperparameter-sweeps-comparison</a><br/>\n",
       "                Sweep page: <a href=\"https://app.wandb.ai/sinisha123/hyperparameter-sweeps-comparison/sweeps/rda1hnv0\" target=\"_blank\">https://app.wandb.ai/sinisha123/hyperparameter-sweeps-comparison/sweeps/rda1hnv0</a><br/>\n",
       "Run page: <a href=\"https://app.wandb.ai/sinisha123/hyperparameter-sweeps-comparison/runs/9l0d5jsb\" target=\"_blank\">https://app.wandb.ai/sinisha123/hyperparameter-sweeps-comparison/runs/9l0d5jsb</a><br/>\n",
       "            "
      ],
      "text/plain": [
       "<IPython.core.display.HTML object>"
      ]
     },
     "metadata": {},
     "output_type": "display_data"
    },
    {
     "name": "stdout",
     "output_type": "stream",
     "text": [
      "Train on 105 samples, validate on 45 samples\n",
      "Epoch 1/15\n",
      "105/105 [==============================] - 1s 11ms/sample - loss: 2.9028 - accuracy: 0.3524 - val_loss: 1.6668 - val_accuracy: 0.2889\n",
      "Epoch 2/15\n",
      "105/105 [==============================] - 0s 2ms/sample - loss: 2.0642 - accuracy: 0.4476 - val_loss: 1.4364 - val_accuracy: 0.2889\n",
      "Epoch 3/15\n",
      "105/105 [==============================] - 0s 2ms/sample - loss: 2.2950 - accuracy: 0.3905 - val_loss: 1.2692 - val_accuracy: 0.2889\n",
      "Epoch 4/15\n",
      "105/105 [==============================] - 0s 3ms/sample - loss: 1.9392 - accuracy: 0.4571 - val_loss: 1.1380 - val_accuracy: 0.2889\n",
      "Epoch 5/15\n",
      "105/105 [==============================] - 0s 2ms/sample - loss: 2.3652 - accuracy: 0.2762 - val_loss: 1.0530 - val_accuracy: 0.2889\n",
      "Epoch 6/15\n",
      "105/105 [==============================] - 0s 2ms/sample - loss: 2.3472 - accuracy: 0.3714 - val_loss: 1.0013 - val_accuracy: 0.2889\n",
      "Epoch 7/15\n",
      "105/105 [==============================] - 0s 2ms/sample - loss: 1.7626 - accuracy: 0.3524 - val_loss: 0.9742 - val_accuracy: 0.4000\n",
      "Epoch 8/15\n",
      "105/105 [==============================] - 0s 2ms/sample - loss: 1.6315 - accuracy: 0.4190 - val_loss: 0.9619 - val_accuracy: 0.5556\n",
      "Epoch 9/15\n",
      "105/105 [==============================] - 0s 2ms/sample - loss: 1.9917 - accuracy: 0.3524 - val_loss: 0.9532 - val_accuracy: 0.5556\n",
      "Epoch 10/15\n",
      "105/105 [==============================] - 0s 2ms/sample - loss: 1.4822 - accuracy: 0.4571 - val_loss: 0.9472 - val_accuracy: 0.5556\n",
      "Epoch 11/15\n",
      "105/105 [==============================] - 0s 2ms/sample - loss: 1.4612 - accuracy: 0.3524 - val_loss: 0.9444 - val_accuracy: 0.5556\n",
      "Epoch 12/15\n",
      "105/105 [==============================] - 0s 2ms/sample - loss: 1.3101 - accuracy: 0.4286 - val_loss: 0.9372 - val_accuracy: 0.5556\n",
      "Epoch 13/15\n",
      "105/105 [==============================] - 0s 2ms/sample - loss: 1.2716 - accuracy: 0.4857 - val_loss: 0.9369 - val_accuracy: 0.5556\n",
      "Epoch 14/15\n",
      "105/105 [==============================] - 0s 2ms/sample - loss: 1.3230 - accuracy: 0.4000 - val_loss: 0.9256 - val_accuracy: 0.5556\n",
      "Epoch 15/15\n",
      "105/105 [==============================] - 0s 2ms/sample - loss: 1.3342 - accuracy: 0.4952 - val_loss: 0.9104 - val_accuracy: 0.5556\n",
      "wandb: Agent Finished Run: 9l0d5jsb \n",
      "\n",
      "wandb: Agent Starting Run: 4lgeqabj with config:\n",
      "\tbatch_size: 32\n",
      "\tepochs: 15\n",
      "\tlayers: 4\n",
      "wandb: Agent Started Run: 4lgeqabj\n"
     ]
    },
    {
     "data": {
      "text/html": [
       "\n",
       "                Logging results to <a href=\"https://wandb.com\" target=\"_blank\">Weights & Biases</a> <a href=\"https://docs.wandb.com/integrations/jupyter.html\" target=\"_blank\">(Documentation)</a>.<br/>\n",
       "                Project page: <a href=\"https://app.wandb.ai/sinisha123/hyperparameter-sweeps-comparison\" target=\"_blank\">https://app.wandb.ai/sinisha123/hyperparameter-sweeps-comparison</a><br/>\n",
       "                Sweep page: <a href=\"https://app.wandb.ai/sinisha123/hyperparameter-sweeps-comparison/sweeps/rda1hnv0\" target=\"_blank\">https://app.wandb.ai/sinisha123/hyperparameter-sweeps-comparison/sweeps/rda1hnv0</a><br/>\n",
       "Run page: <a href=\"https://app.wandb.ai/sinisha123/hyperparameter-sweeps-comparison/runs/4lgeqabj\" target=\"_blank\">https://app.wandb.ai/sinisha123/hyperparameter-sweeps-comparison/runs/4lgeqabj</a><br/>\n",
       "            "
      ],
      "text/plain": [
       "<IPython.core.display.HTML object>"
      ]
     },
     "metadata": {},
     "output_type": "display_data"
    },
    {
     "name": "stdout",
     "output_type": "stream",
     "text": [
      "Train on 105 samples, validate on 45 samples\n",
      "Epoch 1/15\n",
      "105/105 [==============================] - 1s 14ms/sample - loss: 2.9028 - accuracy: 0.3524 - val_loss: 1.6668 - val_accuracy: 0.2889\n",
      "Epoch 2/15\n",
      "105/105 [==============================] - 0s 4ms/sample - loss: 2.0642 - accuracy: 0.4476 - val_loss: 1.4364 - val_accuracy: 0.2889\n",
      "Epoch 3/15\n",
      "105/105 [==============================] - 0s 3ms/sample - loss: 2.2950 - accuracy: 0.3905 - val_loss: 1.2692 - val_accuracy: 0.2889\n",
      "Epoch 4/15\n",
      "105/105 [==============================] - 0s 3ms/sample - loss: 1.9392 - accuracy: 0.4571 - val_loss: 1.1380 - val_accuracy: 0.2889\n",
      "Epoch 5/15\n",
      "105/105 [==============================] - 0s 3ms/sample - loss: 2.3652 - accuracy: 0.2762 - val_loss: 1.0530 - val_accuracy: 0.2889\n",
      "Epoch 6/15\n",
      "105/105 [==============================] - 0s 2ms/sample - loss: 2.3472 - accuracy: 0.3714 - val_loss: 1.0013 - val_accuracy: 0.2889\n",
      "Epoch 7/15\n",
      "105/105 [==============================] - 0s 2ms/sample - loss: 1.7626 - accuracy: 0.3524 - val_loss: 0.9742 - val_accuracy: 0.4000\n",
      "Epoch 8/15\n",
      "105/105 [==============================] - 0s 2ms/sample - loss: 1.6315 - accuracy: 0.4190 - val_loss: 0.9619 - val_accuracy: 0.5556\n",
      "Epoch 9/15\n",
      "105/105 [==============================] - 0s 2ms/sample - loss: 1.9917 - accuracy: 0.3524 - val_loss: 0.9532 - val_accuracy: 0.5556\n",
      "Epoch 10/15\n",
      "105/105 [==============================] - 0s 2ms/sample - loss: 1.4822 - accuracy: 0.4571 - val_loss: 0.9472 - val_accuracy: 0.5556\n",
      "Epoch 11/15\n",
      "105/105 [==============================] - 0s 2ms/sample - loss: 1.4612 - accuracy: 0.3524 - val_loss: 0.9444 - val_accuracy: 0.5556\n",
      "Epoch 12/15\n",
      "105/105 [==============================] - 0s 2ms/sample - loss: 1.3101 - accuracy: 0.4286 - val_loss: 0.9372 - val_accuracy: 0.5556\n",
      "Epoch 13/15\n",
      "105/105 [==============================] - 0s 2ms/sample - loss: 1.2716 - accuracy: 0.4857 - val_loss: 0.9369 - val_accuracy: 0.5556\n",
      "Epoch 14/15\n",
      "105/105 [==============================] - 0s 2ms/sample - loss: 1.3230 - accuracy: 0.4000 - val_loss: 0.9256 - val_accuracy: 0.5556\n",
      "Epoch 15/15\n",
      "105/105 [==============================] - 0s 2ms/sample - loss: 1.3342 - accuracy: 0.4952 - val_loss: 0.9104 - val_accuracy: 0.5556\n",
      "wandb: Agent Finished Run: 4lgeqabj \n",
      "\n",
      "wandb: Agent Starting Run: di8zgepq with config:\n",
      "\tbatch_size: 32\n",
      "\tepochs: 15\n",
      "\tlayers: 4\n",
      "wandb: Agent Started Run: di8zgepq\n"
     ]
    },
    {
     "data": {
      "text/html": [
       "\n",
       "                Logging results to <a href=\"https://wandb.com\" target=\"_blank\">Weights & Biases</a> <a href=\"https://docs.wandb.com/integrations/jupyter.html\" target=\"_blank\">(Documentation)</a>.<br/>\n",
       "                Project page: <a href=\"https://app.wandb.ai/sinisha123/hyperparameter-sweeps-comparison\" target=\"_blank\">https://app.wandb.ai/sinisha123/hyperparameter-sweeps-comparison</a><br/>\n",
       "                Sweep page: <a href=\"https://app.wandb.ai/sinisha123/hyperparameter-sweeps-comparison/sweeps/rda1hnv0\" target=\"_blank\">https://app.wandb.ai/sinisha123/hyperparameter-sweeps-comparison/sweeps/rda1hnv0</a><br/>\n",
       "Run page: <a href=\"https://app.wandb.ai/sinisha123/hyperparameter-sweeps-comparison/runs/di8zgepq\" target=\"_blank\">https://app.wandb.ai/sinisha123/hyperparameter-sweeps-comparison/runs/di8zgepq</a><br/>\n",
       "            "
      ],
      "text/plain": [
       "<IPython.core.display.HTML object>"
      ]
     },
     "metadata": {},
     "output_type": "display_data"
    },
    {
     "name": "stdout",
     "output_type": "stream",
     "text": [
      "Train on 105 samples, validate on 45 samples\n",
      "Epoch 1/15\n",
      "105/105 [==============================] - 1s 10ms/sample - loss: 2.9028 - accuracy: 0.3524 - val_loss: 1.6668 - val_accuracy: 0.2889\n",
      "Epoch 2/15\n",
      "105/105 [==============================] - 0s 2ms/sample - loss: 2.0642 - accuracy: 0.4476 - val_loss: 1.4364 - val_accuracy: 0.2889\n",
      "Epoch 3/15\n",
      "105/105 [==============================] - 1s 6ms/sample - loss: 2.2950 - accuracy: 0.3905 - val_loss: 1.2692 - val_accuracy: 0.2889\n",
      "Epoch 4/15\n",
      "105/105 [==============================] - 1s 7ms/sample - loss: 1.9392 - accuracy: 0.4571 - val_loss: 1.1380 - val_accuracy: 0.2889\n",
      "Epoch 5/15\n",
      "105/105 [==============================] - 0s 3ms/sample - loss: 2.3652 - accuracy: 0.2762 - val_loss: 1.0530 - val_accuracy: 0.2889\n",
      "Epoch 6/15\n",
      "105/105 [==============================] - 0s 3ms/sample - loss: 2.3472 - accuracy: 0.3714 - val_loss: 1.0013 - val_accuracy: 0.2889\n",
      "Epoch 7/15\n",
      "105/105 [==============================] - 1s 6ms/sample - loss: 1.7626 - accuracy: 0.3524 - val_loss: 0.9742 - val_accuracy: 0.4000\n",
      "Epoch 8/15\n",
      "105/105 [==============================] - 0s 3ms/sample - loss: 1.6315 - accuracy: 0.4190 - val_loss: 0.9619 - val_accuracy: 0.5556\n",
      "Epoch 9/15\n",
      "105/105 [==============================] - 0s 2ms/sample - loss: 1.9917 - accuracy: 0.3524 - val_loss: 0.9532 - val_accuracy: 0.5556\n",
      "Epoch 10/15\n",
      "105/105 [==============================] - 0s 2ms/sample - loss: 1.4822 - accuracy: 0.4571 - val_loss: 0.9472 - val_accuracy: 0.5556\n",
      "Epoch 11/15\n",
      "105/105 [==============================] - 0s 2ms/sample - loss: 1.4612 - accuracy: 0.3524 - val_loss: 0.9444 - val_accuracy: 0.5556\n",
      "Epoch 12/15\n",
      "105/105 [==============================] - 0s 2ms/sample - loss: 1.3101 - accuracy: 0.4286 - val_loss: 0.9372 - val_accuracy: 0.5556\n",
      "Epoch 13/15\n",
      "105/105 [==============================] - 0s 4ms/sample - loss: 1.2716 - accuracy: 0.4857 - val_loss: 0.9369 - val_accuracy: 0.5556\n",
      "Epoch 14/15\n",
      "105/105 [==============================] - 0s 2ms/sample - loss: 1.3230 - accuracy: 0.4000 - val_loss: 0.9256 - val_accuracy: 0.5556\n",
      "Epoch 15/15\n",
      "105/105 [==============================] - 0s 2ms/sample - loss: 1.3342 - accuracy: 0.4952 - val_loss: 0.9104 - val_accuracy: 0.5556\n",
      "wandb: Agent Finished Run: di8zgepq \n",
      "\n",
      "wandb: Agent Starting Run: n493h1v8 with config:\n",
      "\tbatch_size: 32\n",
      "\tepochs: 15\n",
      "\tlayers: 4\n",
      "wandb: Agent Started Run: n493h1v8\n"
     ]
    },
    {
     "data": {
      "text/html": [
       "\n",
       "                Logging results to <a href=\"https://wandb.com\" target=\"_blank\">Weights & Biases</a> <a href=\"https://docs.wandb.com/integrations/jupyter.html\" target=\"_blank\">(Documentation)</a>.<br/>\n",
       "                Project page: <a href=\"https://app.wandb.ai/sinisha123/hyperparameter-sweeps-comparison\" target=\"_blank\">https://app.wandb.ai/sinisha123/hyperparameter-sweeps-comparison</a><br/>\n",
       "                Sweep page: <a href=\"https://app.wandb.ai/sinisha123/hyperparameter-sweeps-comparison/sweeps/rda1hnv0\" target=\"_blank\">https://app.wandb.ai/sinisha123/hyperparameter-sweeps-comparison/sweeps/rda1hnv0</a><br/>\n",
       "Run page: <a href=\"https://app.wandb.ai/sinisha123/hyperparameter-sweeps-comparison/runs/n493h1v8\" target=\"_blank\">https://app.wandb.ai/sinisha123/hyperparameter-sweeps-comparison/runs/n493h1v8</a><br/>\n",
       "            "
      ],
      "text/plain": [
       "<IPython.core.display.HTML object>"
      ]
     },
     "metadata": {},
     "output_type": "display_data"
    },
    {
     "name": "stdout",
     "output_type": "stream",
     "text": [
      "Train on 105 samples, validate on 45 samples\n",
      "Epoch 1/15\n",
      "105/105 [==============================] - 1s 11ms/sample - loss: 2.9028 - accuracy: 0.3524 - val_loss: 1.6668 - val_accuracy: 0.2889\n",
      "Epoch 2/15\n",
      "105/105 [==============================] - 0s 2ms/sample - loss: 2.0642 - accuracy: 0.4476 - val_loss: 1.4364 - val_accuracy: 0.2889\n",
      "Epoch 3/15\n",
      "105/105 [==============================] - 0s 2ms/sample - loss: 2.2950 - accuracy: 0.3905 - val_loss: 1.2692 - val_accuracy: 0.2889\n",
      "Epoch 4/15\n",
      "105/105 [==============================] - 0s 2ms/sample - loss: 1.9392 - accuracy: 0.4571 - val_loss: 1.1380 - val_accuracy: 0.2889\n",
      "Epoch 5/15\n",
      "105/105 [==============================] - 0s 2ms/sample - loss: 2.3652 - accuracy: 0.2762 - val_loss: 1.0530 - val_accuracy: 0.2889\n",
      "Epoch 6/15\n",
      "105/105 [==============================] - 0s 2ms/sample - loss: 2.3472 - accuracy: 0.3714 - val_loss: 1.0013 - val_accuracy: 0.2889\n",
      "Epoch 7/15\n",
      "105/105 [==============================] - 0s 2ms/sample - loss: 1.7626 - accuracy: 0.3524 - val_loss: 0.9742 - val_accuracy: 0.4000\n",
      "Epoch 8/15\n",
      "105/105 [==============================] - 0s 2ms/sample - loss: 1.6315 - accuracy: 0.4190 - val_loss: 0.9619 - val_accuracy: 0.5556\n",
      "Epoch 9/15\n",
      "105/105 [==============================] - 0s 2ms/sample - loss: 1.9917 - accuracy: 0.3524 - val_loss: 0.9532 - val_accuracy: 0.5556\n",
      "Epoch 10/15\n",
      "105/105 [==============================] - 0s 2ms/sample - loss: 1.4822 - accuracy: 0.4571 - val_loss: 0.9472 - val_accuracy: 0.5556\n",
      "Epoch 11/15\n",
      "105/105 [==============================] - 0s 2ms/sample - loss: 1.4612 - accuracy: 0.3524 - val_loss: 0.9444 - val_accuracy: 0.5556\n",
      "Epoch 12/15\n",
      "105/105 [==============================] - 0s 2ms/sample - loss: 1.3101 - accuracy: 0.4286 - val_loss: 0.9372 - val_accuracy: 0.5556\n",
      "Epoch 13/15\n",
      "105/105 [==============================] - 0s 2ms/sample - loss: 1.2716 - accuracy: 0.4857 - val_loss: 0.9369 - val_accuracy: 0.5556\n",
      "Epoch 14/15\n",
      "105/105 [==============================] - 0s 2ms/sample - loss: 1.3230 - accuracy: 0.4000 - val_loss: 0.9256 - val_accuracy: 0.5556\n",
      "Epoch 15/15\n",
      "105/105 [==============================] - 0s 2ms/sample - loss: 1.3342 - accuracy: 0.4952 - val_loss: 0.9104 - val_accuracy: 0.5556\n",
      "wandb: Agent Finished Run: n493h1v8 \n",
      "\n",
      "wandb: Agent Starting Run: h7br81h4 with config:\n",
      "\tbatch_size: 32\n",
      "\tepochs: 15\n",
      "\tlayers: 4\n",
      "wandb: Agent Started Run: h7br81h4\n"
     ]
    },
    {
     "data": {
      "text/html": [
       "\n",
       "                Logging results to <a href=\"https://wandb.com\" target=\"_blank\">Weights & Biases</a> <a href=\"https://docs.wandb.com/integrations/jupyter.html\" target=\"_blank\">(Documentation)</a>.<br/>\n",
       "                Project page: <a href=\"https://app.wandb.ai/sinisha123/hyperparameter-sweeps-comparison\" target=\"_blank\">https://app.wandb.ai/sinisha123/hyperparameter-sweeps-comparison</a><br/>\n",
       "                Sweep page: <a href=\"https://app.wandb.ai/sinisha123/hyperparameter-sweeps-comparison/sweeps/rda1hnv0\" target=\"_blank\">https://app.wandb.ai/sinisha123/hyperparameter-sweeps-comparison/sweeps/rda1hnv0</a><br/>\n",
       "Run page: <a href=\"https://app.wandb.ai/sinisha123/hyperparameter-sweeps-comparison/runs/h7br81h4\" target=\"_blank\">https://app.wandb.ai/sinisha123/hyperparameter-sweeps-comparison/runs/h7br81h4</a><br/>\n",
       "            "
      ],
      "text/plain": [
       "<IPython.core.display.HTML object>"
      ]
     },
     "metadata": {},
     "output_type": "display_data"
    },
    {
     "name": "stdout",
     "output_type": "stream",
     "text": [
      "Train on 105 samples, validate on 45 samples\n",
      "Epoch 1/15\n",
      "105/105 [==============================] - 1s 8ms/sample - loss: 2.9028 - accuracy: 0.3524 - val_loss: 1.6668 - val_accuracy: 0.2889\n",
      "Epoch 2/15\n",
      "105/105 [==============================] - 0s 2ms/sample - loss: 2.0642 - accuracy: 0.4476 - val_loss: 1.4364 - val_accuracy: 0.2889\n",
      "Epoch 3/15\n",
      "105/105 [==============================] - 0s 2ms/sample - loss: 2.2950 - accuracy: 0.3905 - val_loss: 1.2692 - val_accuracy: 0.2889\n",
      "Epoch 4/15\n",
      "105/105 [==============================] - 0s 2ms/sample - loss: 1.9392 - accuracy: 0.4571 - val_loss: 1.1380 - val_accuracy: 0.2889\n",
      "Epoch 5/15\n",
      "105/105 [==============================] - 0s 2ms/sample - loss: 2.3652 - accuracy: 0.2762 - val_loss: 1.0530 - val_accuracy: 0.2889\n",
      "Epoch 6/15\n",
      "105/105 [==============================] - 0s 3ms/sample - loss: 2.3472 - accuracy: 0.3714 - val_loss: 1.0013 - val_accuracy: 0.2889\n",
      "Epoch 7/15\n",
      "105/105 [==============================] - 0s 2ms/sample - loss: 1.7626 - accuracy: 0.3524 - val_loss: 0.9742 - val_accuracy: 0.4000\n",
      "Epoch 8/15\n",
      "105/105 [==============================] - 0s 2ms/sample - loss: 1.6315 - accuracy: 0.4190 - val_loss: 0.9619 - val_accuracy: 0.5556\n",
      "Epoch 9/15\n",
      "105/105 [==============================] - 0s 2ms/sample - loss: 1.9917 - accuracy: 0.3524 - val_loss: 0.9532 - val_accuracy: 0.5556\n",
      "Epoch 10/15\n",
      "105/105 [==============================] - 0s 2ms/sample - loss: 1.4822 - accuracy: 0.4571 - val_loss: 0.9472 - val_accuracy: 0.5556\n",
      "Epoch 11/15\n",
      "105/105 [==============================] - 0s 2ms/sample - loss: 1.4612 - accuracy: 0.3524 - val_loss: 0.9444 - val_accuracy: 0.5556\n",
      "Epoch 12/15\n",
      "105/105 [==============================] - 0s 2ms/sample - loss: 1.3101 - accuracy: 0.4286 - val_loss: 0.9372 - val_accuracy: 0.5556\n",
      "Epoch 13/15\n",
      "105/105 [==============================] - 0s 2ms/sample - loss: 1.2716 - accuracy: 0.4857 - val_loss: 0.9369 - val_accuracy: 0.5556\n",
      "Epoch 14/15\n",
      "105/105 [==============================] - 0s 2ms/sample - loss: 1.3230 - accuracy: 0.4000 - val_loss: 0.9256 - val_accuracy: 0.5556\n",
      "Epoch 15/15\n",
      "105/105 [==============================] - 0s 2ms/sample - loss: 1.3342 - accuracy: 0.4952 - val_loss: 0.9104 - val_accuracy: 0.5556\n",
      "wandb: Agent Finished Run: h7br81h4 \n",
      "\n",
      "wandb: Agent Starting Run: p2gzixfw with config:\n",
      "\tbatch_size: 32\n",
      "\tepochs: 15\n",
      "\tlayers: 4\n",
      "wandb: Agent Started Run: p2gzixfw\n"
     ]
    },
    {
     "data": {
      "text/html": [
       "\n",
       "                Logging results to <a href=\"https://wandb.com\" target=\"_blank\">Weights & Biases</a> <a href=\"https://docs.wandb.com/integrations/jupyter.html\" target=\"_blank\">(Documentation)</a>.<br/>\n",
       "                Project page: <a href=\"https://app.wandb.ai/sinisha123/hyperparameter-sweeps-comparison\" target=\"_blank\">https://app.wandb.ai/sinisha123/hyperparameter-sweeps-comparison</a><br/>\n",
       "                Sweep page: <a href=\"https://app.wandb.ai/sinisha123/hyperparameter-sweeps-comparison/sweeps/rda1hnv0\" target=\"_blank\">https://app.wandb.ai/sinisha123/hyperparameter-sweeps-comparison/sweeps/rda1hnv0</a><br/>\n",
       "Run page: <a href=\"https://app.wandb.ai/sinisha123/hyperparameter-sweeps-comparison/runs/p2gzixfw\" target=\"_blank\">https://app.wandb.ai/sinisha123/hyperparameter-sweeps-comparison/runs/p2gzixfw</a><br/>\n",
       "            "
      ],
      "text/plain": [
       "<IPython.core.display.HTML object>"
      ]
     },
     "metadata": {},
     "output_type": "display_data"
    },
    {
     "name": "stdout",
     "output_type": "stream",
     "text": [
      "Train on 105 samples, validate on 45 samples\n",
      "Epoch 1/15\n",
      "105/105 [==============================] - 1s 10ms/sample - loss: 2.9028 - accuracy: 0.3524 - val_loss: 1.6668 - val_accuracy: 0.2889\n",
      "Epoch 2/15\n",
      "105/105 [==============================] - 0s 2ms/sample - loss: 2.0642 - accuracy: 0.4476 - val_loss: 1.4364 - val_accuracy: 0.2889\n",
      "Epoch 3/15\n",
      "105/105 [==============================] - 0s 2ms/sample - loss: 2.2950 - accuracy: 0.3905 - val_loss: 1.2692 - val_accuracy: 0.2889\n",
      "Epoch 4/15\n",
      "105/105 [==============================] - 0s 2ms/sample - loss: 1.9392 - accuracy: 0.4571 - val_loss: 1.1380 - val_accuracy: 0.2889\n",
      "Epoch 5/15\n",
      "105/105 [==============================] - 0s 2ms/sample - loss: 2.3652 - accuracy: 0.2762 - val_loss: 1.0530 - val_accuracy: 0.2889\n",
      "Epoch 6/15\n",
      "105/105 [==============================] - 0s 2ms/sample - loss: 2.3472 - accuracy: 0.3714 - val_loss: 1.0013 - val_accuracy: 0.2889\n",
      "Epoch 7/15\n",
      "105/105 [==============================] - 0s 2ms/sample - loss: 1.7626 - accuracy: 0.3524 - val_loss: 0.9742 - val_accuracy: 0.4000\n",
      "Epoch 8/15\n",
      "105/105 [==============================] - 0s 2ms/sample - loss: 1.6315 - accuracy: 0.4190 - val_loss: 0.9619 - val_accuracy: 0.5556\n",
      "Epoch 9/15\n",
      "105/105 [==============================] - 0s 2ms/sample - loss: 1.9917 - accuracy: 0.3524 - val_loss: 0.9532 - val_accuracy: 0.5556\n",
      "Epoch 10/15\n",
      "105/105 [==============================] - 0s 2ms/sample - loss: 1.4822 - accuracy: 0.4571 - val_loss: 0.9472 - val_accuracy: 0.5556\n",
      "Epoch 11/15\n",
      "105/105 [==============================] - 0s 2ms/sample - loss: 1.4612 - accuracy: 0.3524 - val_loss: 0.9444 - val_accuracy: 0.5556\n",
      "Epoch 12/15\n",
      "105/105 [==============================] - 0s 2ms/sample - loss: 1.3101 - accuracy: 0.4286 - val_loss: 0.9372 - val_accuracy: 0.5556\n",
      "Epoch 13/15\n",
      "105/105 [==============================] - 0s 2ms/sample - loss: 1.2716 - accuracy: 0.4857 - val_loss: 0.9369 - val_accuracy: 0.5556\n",
      "Epoch 14/15\n",
      "105/105 [==============================] - 0s 2ms/sample - loss: 1.3230 - accuracy: 0.4000 - val_loss: 0.9256 - val_accuracy: 0.5556\n",
      "Epoch 15/15\n",
      "105/105 [==============================] - 0s 2ms/sample - loss: 1.3342 - accuracy: 0.4952 - val_loss: 0.9104 - val_accuracy: 0.5556\n",
      "wandb: Agent Finished Run: p2gzixfw \n",
      "\n",
      "wandb: Agent Starting Run: c21x4e2q with config:\n",
      "\tbatch_size: 32\n",
      "\tepochs: 15\n",
      "\tlayers: 4\n",
      "wandb: Agent Started Run: c21x4e2q\n"
     ]
    },
    {
     "data": {
      "text/html": [
       "\n",
       "                Logging results to <a href=\"https://wandb.com\" target=\"_blank\">Weights & Biases</a> <a href=\"https://docs.wandb.com/integrations/jupyter.html\" target=\"_blank\">(Documentation)</a>.<br/>\n",
       "                Project page: <a href=\"https://app.wandb.ai/sinisha123/hyperparameter-sweeps-comparison\" target=\"_blank\">https://app.wandb.ai/sinisha123/hyperparameter-sweeps-comparison</a><br/>\n",
       "                Sweep page: <a href=\"https://app.wandb.ai/sinisha123/hyperparameter-sweeps-comparison/sweeps/rda1hnv0\" target=\"_blank\">https://app.wandb.ai/sinisha123/hyperparameter-sweeps-comparison/sweeps/rda1hnv0</a><br/>\n",
       "Run page: <a href=\"https://app.wandb.ai/sinisha123/hyperparameter-sweeps-comparison/runs/c21x4e2q\" target=\"_blank\">https://app.wandb.ai/sinisha123/hyperparameter-sweeps-comparison/runs/c21x4e2q</a><br/>\n",
       "            "
      ],
      "text/plain": [
       "<IPython.core.display.HTML object>"
      ]
     },
     "metadata": {},
     "output_type": "display_data"
    },
    {
     "name": "stdout",
     "output_type": "stream",
     "text": [
      "Train on 105 samples, validate on 45 samples\n",
      "Epoch 1/15\n",
      "105/105 [==============================] - 1s 10ms/sample - loss: 2.9028 - accuracy: 0.3524 - val_loss: 1.6668 - val_accuracy: 0.2889\n",
      "Epoch 2/15\n",
      "105/105 [==============================] - 0s 2ms/sample - loss: 2.0642 - accuracy: 0.4476 - val_loss: 1.4364 - val_accuracy: 0.2889\n",
      "Epoch 3/15\n",
      "105/105 [==============================] - 0s 2ms/sample - loss: 2.2950 - accuracy: 0.3905 - val_loss: 1.2692 - val_accuracy: 0.2889\n",
      "Epoch 4/15\n",
      "105/105 [==============================] - 0s 2ms/sample - loss: 1.9392 - accuracy: 0.4571 - val_loss: 1.1380 - val_accuracy: 0.2889\n",
      "Epoch 5/15\n",
      "105/105 [==============================] - 0s 2ms/sample - loss: 2.3652 - accuracy: 0.2762 - val_loss: 1.0530 - val_accuracy: 0.2889\n",
      "Epoch 6/15\n",
      "105/105 [==============================] - 0s 2ms/sample - loss: 2.3472 - accuracy: 0.3714 - val_loss: 1.0013 - val_accuracy: 0.2889\n",
      "Epoch 7/15\n",
      "105/105 [==============================] - 0s 2ms/sample - loss: 1.7626 - accuracy: 0.3524 - val_loss: 0.9742 - val_accuracy: 0.4000\n",
      "Epoch 8/15\n",
      "105/105 [==============================] - 0s 2ms/sample - loss: 1.6315 - accuracy: 0.4190 - val_loss: 0.9619 - val_accuracy: 0.5556\n",
      "Epoch 9/15\n",
      "105/105 [==============================] - 0s 2ms/sample - loss: 1.9917 - accuracy: 0.3524 - val_loss: 0.9532 - val_accuracy: 0.5556\n",
      "Epoch 10/15\n",
      "105/105 [==============================] - 0s 2ms/sample - loss: 1.4822 - accuracy: 0.4571 - val_loss: 0.9472 - val_accuracy: 0.5556\n",
      "Epoch 11/15\n",
      "105/105 [==============================] - 0s 2ms/sample - loss: 1.4612 - accuracy: 0.3524 - val_loss: 0.9444 - val_accuracy: 0.5556\n",
      "Epoch 12/15\n",
      "105/105 [==============================] - 0s 2ms/sample - loss: 1.3101 - accuracy: 0.4286 - val_loss: 0.9372 - val_accuracy: 0.5556\n",
      "Epoch 13/15\n",
      "105/105 [==============================] - 0s 2ms/sample - loss: 1.2716 - accuracy: 0.4857 - val_loss: 0.9369 - val_accuracy: 0.5556\n",
      "Epoch 14/15\n",
      "105/105 [==============================] - 0s 2ms/sample - loss: 1.3230 - accuracy: 0.4000 - val_loss: 0.9256 - val_accuracy: 0.5556\n",
      "Epoch 15/15\n",
      "105/105 [==============================] - 0s 2ms/sample - loss: 1.3342 - accuracy: 0.4952 - val_loss: 0.9104 - val_accuracy: 0.5556\n",
      "wandb: Agent Finished Run: c21x4e2q \n",
      "\n",
      "wandb: Agent Starting Run: j3btj49y with config:\n",
      "\tbatch_size: 32\n",
      "\tepochs: 15\n",
      "\tlayers: 4\n",
      "wandb: Agent Started Run: j3btj49y\n"
     ]
    },
    {
     "data": {
      "text/html": [
       "\n",
       "                Logging results to <a href=\"https://wandb.com\" target=\"_blank\">Weights & Biases</a> <a href=\"https://docs.wandb.com/integrations/jupyter.html\" target=\"_blank\">(Documentation)</a>.<br/>\n",
       "                Project page: <a href=\"https://app.wandb.ai/sinisha123/hyperparameter-sweeps-comparison\" target=\"_blank\">https://app.wandb.ai/sinisha123/hyperparameter-sweeps-comparison</a><br/>\n",
       "                Sweep page: <a href=\"https://app.wandb.ai/sinisha123/hyperparameter-sweeps-comparison/sweeps/rda1hnv0\" target=\"_blank\">https://app.wandb.ai/sinisha123/hyperparameter-sweeps-comparison/sweeps/rda1hnv0</a><br/>\n",
       "Run page: <a href=\"https://app.wandb.ai/sinisha123/hyperparameter-sweeps-comparison/runs/j3btj49y\" target=\"_blank\">https://app.wandb.ai/sinisha123/hyperparameter-sweeps-comparison/runs/j3btj49y</a><br/>\n",
       "            "
      ],
      "text/plain": [
       "<IPython.core.display.HTML object>"
      ]
     },
     "metadata": {},
     "output_type": "display_data"
    },
    {
     "name": "stdout",
     "output_type": "stream",
     "text": [
      "Train on 105 samples, validate on 45 samples\n",
      "Epoch 1/15\n",
      "105/105 [==============================] - 1s 10ms/sample - loss: 2.9028 - accuracy: 0.3524 - val_loss: 1.6668 - val_accuracy: 0.2889\n",
      "Epoch 2/15\n",
      "105/105 [==============================] - 0s 2ms/sample - loss: 2.0642 - accuracy: 0.4476 - val_loss: 1.4364 - val_accuracy: 0.2889\n",
      "Epoch 3/15\n",
      "105/105 [==============================] - 0s 2ms/sample - loss: 2.2950 - accuracy: 0.3905 - val_loss: 1.2692 - val_accuracy: 0.2889\n",
      "Epoch 4/15\n",
      "105/105 [==============================] - 0s 2ms/sample - loss: 1.9392 - accuracy: 0.4571 - val_loss: 1.1380 - val_accuracy: 0.2889\n",
      "Epoch 5/15\n",
      "105/105 [==============================] - 0s 2ms/sample - loss: 2.3652 - accuracy: 0.2762 - val_loss: 1.0530 - val_accuracy: 0.2889\n",
      "Epoch 6/15\n",
      "105/105 [==============================] - 0s 2ms/sample - loss: 2.3472 - accuracy: 0.3714 - val_loss: 1.0013 - val_accuracy: 0.2889\n",
      "Epoch 7/15\n",
      "105/105 [==============================] - 0s 2ms/sample - loss: 1.7626 - accuracy: 0.3524 - val_loss: 0.9742 - val_accuracy: 0.4000\n",
      "Epoch 8/15\n",
      "105/105 [==============================] - 0s 2ms/sample - loss: 1.6315 - accuracy: 0.4190 - val_loss: 0.9619 - val_accuracy: 0.5556\n",
      "Epoch 9/15\n",
      "105/105 [==============================] - 0s 2ms/sample - loss: 1.9917 - accuracy: 0.3524 - val_loss: 0.9532 - val_accuracy: 0.5556\n",
      "Epoch 10/15\n",
      "105/105 [==============================] - 0s 2ms/sample - loss: 1.4822 - accuracy: 0.4571 - val_loss: 0.9472 - val_accuracy: 0.5556\n",
      "Epoch 11/15\n",
      "105/105 [==============================] - 0s 2ms/sample - loss: 1.4612 - accuracy: 0.3524 - val_loss: 0.9444 - val_accuracy: 0.5556\n",
      "Epoch 12/15\n",
      "105/105 [==============================] - 0s 2ms/sample - loss: 1.3101 - accuracy: 0.4286 - val_loss: 0.9372 - val_accuracy: 0.5556\n",
      "Epoch 13/15\n",
      "105/105 [==============================] - 0s 2ms/sample - loss: 1.2716 - accuracy: 0.4857 - val_loss: 0.9369 - val_accuracy: 0.5556\n",
      "Epoch 14/15\n",
      "105/105 [==============================] - 0s 2ms/sample - loss: 1.3230 - accuracy: 0.4000 - val_loss: 0.9256 - val_accuracy: 0.5556\n",
      "Epoch 15/15\n",
      "105/105 [==============================] - 0s 2ms/sample - loss: 1.3342 - accuracy: 0.4952 - val_loss: 0.9104 - val_accuracy: 0.5556\n",
      "wandb: Agent Finished Run: j3btj49y \n",
      "\n",
      "wandb: Agent Starting Run: 7cl5h9vz with config:\n",
      "\tbatch_size: 32\n",
      "\tepochs: 15\n",
      "\tlayers: 4\n",
      "wandb: Agent Started Run: 7cl5h9vz\n"
     ]
    },
    {
     "data": {
      "text/html": [
       "\n",
       "                Logging results to <a href=\"https://wandb.com\" target=\"_blank\">Weights & Biases</a> <a href=\"https://docs.wandb.com/integrations/jupyter.html\" target=\"_blank\">(Documentation)</a>.<br/>\n",
       "                Project page: <a href=\"https://app.wandb.ai/sinisha123/hyperparameter-sweeps-comparison\" target=\"_blank\">https://app.wandb.ai/sinisha123/hyperparameter-sweeps-comparison</a><br/>\n",
       "                Sweep page: <a href=\"https://app.wandb.ai/sinisha123/hyperparameter-sweeps-comparison/sweeps/rda1hnv0\" target=\"_blank\">https://app.wandb.ai/sinisha123/hyperparameter-sweeps-comparison/sweeps/rda1hnv0</a><br/>\n",
       "Run page: <a href=\"https://app.wandb.ai/sinisha123/hyperparameter-sweeps-comparison/runs/7cl5h9vz\" target=\"_blank\">https://app.wandb.ai/sinisha123/hyperparameter-sweeps-comparison/runs/7cl5h9vz</a><br/>\n",
       "            "
      ],
      "text/plain": [
       "<IPython.core.display.HTML object>"
      ]
     },
     "metadata": {},
     "output_type": "display_data"
    },
    {
     "name": "stdout",
     "output_type": "stream",
     "text": [
      "Train on 105 samples, validate on 45 samples\n",
      "Epoch 1/15\n",
      "105/105 [==============================] - 1s 12ms/sample - loss: 2.9028 - accuracy: 0.3524 - val_loss: 1.6668 - val_accuracy: 0.2889\n",
      "Epoch 2/15\n",
      "105/105 [==============================] - 0s 2ms/sample - loss: 2.0642 - accuracy: 0.4476 - val_loss: 1.4364 - val_accuracy: 0.2889\n",
      "Epoch 3/15\n",
      "105/105 [==============================] - 0s 2ms/sample - loss: 2.2950 - accuracy: 0.3905 - val_loss: 1.2692 - val_accuracy: 0.2889\n",
      "Epoch 4/15\n",
      "105/105 [==============================] - 0s 2ms/sample - loss: 1.9392 - accuracy: 0.4571 - val_loss: 1.1380 - val_accuracy: 0.2889\n",
      "Epoch 5/15\n",
      "105/105 [==============================] - 0s 2ms/sample - loss: 2.3652 - accuracy: 0.2762 - val_loss: 1.0530 - val_accuracy: 0.2889\n",
      "Epoch 6/15\n",
      "105/105 [==============================] - 0s 2ms/sample - loss: 2.3472 - accuracy: 0.3714 - val_loss: 1.0013 - val_accuracy: 0.2889\n",
      "Epoch 7/15\n",
      "105/105 [==============================] - 0s 3ms/sample - loss: 1.7626 - accuracy: 0.3524 - val_loss: 0.9742 - val_accuracy: 0.4000\n",
      "Epoch 8/15\n",
      "105/105 [==============================] - 0s 3ms/sample - loss: 1.6315 - accuracy: 0.4190 - val_loss: 0.9619 - val_accuracy: 0.5556\n",
      "Epoch 9/15\n",
      "105/105 [==============================] - 0s 2ms/sample - loss: 1.9917 - accuracy: 0.3524 - val_loss: 0.9532 - val_accuracy: 0.5556\n",
      "Epoch 10/15\n",
      "105/105 [==============================] - 0s 2ms/sample - loss: 1.4822 - accuracy: 0.4571 - val_loss: 0.9472 - val_accuracy: 0.5556\n",
      "Epoch 11/15\n",
      "105/105 [==============================] - 0s 2ms/sample - loss: 1.4612 - accuracy: 0.3524 - val_loss: 0.9444 - val_accuracy: 0.5556\n",
      "Epoch 12/15\n",
      "105/105 [==============================] - 0s 2ms/sample - loss: 1.3101 - accuracy: 0.4286 - val_loss: 0.9372 - val_accuracy: 0.5556\n",
      "Epoch 13/15\n",
      "105/105 [==============================] - 0s 2ms/sample - loss: 1.2716 - accuracy: 0.4857 - val_loss: 0.9369 - val_accuracy: 0.5556\n",
      "Epoch 14/15\n",
      "105/105 [==============================] - 0s 3ms/sample - loss: 1.3230 - accuracy: 0.4000 - val_loss: 0.9256 - val_accuracy: 0.5556\n",
      "Epoch 15/15\n",
      "105/105 [==============================] - 0s 2ms/sample - loss: 1.3342 - accuracy: 0.4952 - val_loss: 0.9104 - val_accuracy: 0.5556\n",
      "wandb: Agent Finished Run: 7cl5h9vz \n",
      "\n",
      "wandb: Agent Starting Run: ayqjohj7 with config:\n",
      "\tbatch_size: 32\n",
      "\tepochs: 15\n",
      "\tlayers: 4\n",
      "wandb: Agent Started Run: ayqjohj7\n"
     ]
    },
    {
     "data": {
      "text/html": [
       "\n",
       "                Logging results to <a href=\"https://wandb.com\" target=\"_blank\">Weights & Biases</a> <a href=\"https://docs.wandb.com/integrations/jupyter.html\" target=\"_blank\">(Documentation)</a>.<br/>\n",
       "                Project page: <a href=\"https://app.wandb.ai/sinisha123/hyperparameter-sweeps-comparison\" target=\"_blank\">https://app.wandb.ai/sinisha123/hyperparameter-sweeps-comparison</a><br/>\n",
       "                Sweep page: <a href=\"https://app.wandb.ai/sinisha123/hyperparameter-sweeps-comparison/sweeps/rda1hnv0\" target=\"_blank\">https://app.wandb.ai/sinisha123/hyperparameter-sweeps-comparison/sweeps/rda1hnv0</a><br/>\n",
       "Run page: <a href=\"https://app.wandb.ai/sinisha123/hyperparameter-sweeps-comparison/runs/ayqjohj7\" target=\"_blank\">https://app.wandb.ai/sinisha123/hyperparameter-sweeps-comparison/runs/ayqjohj7</a><br/>\n",
       "            "
      ],
      "text/plain": [
       "<IPython.core.display.HTML object>"
      ]
     },
     "metadata": {},
     "output_type": "display_data"
    },
    {
     "name": "stdout",
     "output_type": "stream",
     "text": [
      "Train on 105 samples, validate on 45 samples\n",
      "Epoch 1/15\n",
      "105/105 [==============================] - 1s 11ms/sample - loss: 2.9028 - accuracy: 0.3524 - val_loss: 1.6668 - val_accuracy: 0.2889\n",
      "Epoch 2/15\n",
      "105/105 [==============================] - 0s 2ms/sample - loss: 2.0642 - accuracy: 0.4476 - val_loss: 1.4364 - val_accuracy: 0.2889\n",
      "Epoch 3/15\n",
      "105/105 [==============================] - 0s 3ms/sample - loss: 2.2950 - accuracy: 0.3905 - val_loss: 1.2692 - val_accuracy: 0.2889\n",
      "Epoch 4/15\n",
      "105/105 [==============================] - 0s 2ms/sample - loss: 1.9392 - accuracy: 0.4571 - val_loss: 1.1380 - val_accuracy: 0.2889\n",
      "Epoch 5/15\n",
      "105/105 [==============================] - 0s 2ms/sample - loss: 2.3652 - accuracy: 0.2762 - val_loss: 1.0530 - val_accuracy: 0.2889\n",
      "Epoch 6/15\n",
      "105/105 [==============================] - 0s 2ms/sample - loss: 2.3472 - accuracy: 0.3714 - val_loss: 1.0013 - val_accuracy: 0.2889\n",
      "Epoch 7/15\n",
      "105/105 [==============================] - 0s 2ms/sample - loss: 1.7626 - accuracy: 0.3524 - val_loss: 0.9742 - val_accuracy: 0.4000\n",
      "Epoch 8/15\n",
      "105/105 [==============================] - 0s 2ms/sample - loss: 1.6315 - accuracy: 0.4190 - val_loss: 0.9619 - val_accuracy: 0.5556\n",
      "Epoch 9/15\n",
      "105/105 [==============================] - 0s 2ms/sample - loss: 1.9917 - accuracy: 0.3524 - val_loss: 0.9532 - val_accuracy: 0.5556\n",
      "Epoch 10/15\n",
      "105/105 [==============================] - 0s 2ms/sample - loss: 1.4822 - accuracy: 0.4571 - val_loss: 0.9472 - val_accuracy: 0.5556\n",
      "Epoch 11/15\n",
      "105/105 [==============================] - 0s 2ms/sample - loss: 1.4612 - accuracy: 0.3524 - val_loss: 0.9444 - val_accuracy: 0.5556\n",
      "Epoch 12/15\n",
      "105/105 [==============================] - 0s 2ms/sample - loss: 1.3101 - accuracy: 0.4286 - val_loss: 0.9372 - val_accuracy: 0.5556\n",
      "Epoch 13/15\n",
      "105/105 [==============================] - 0s 2ms/sample - loss: 1.2716 - accuracy: 0.4857 - val_loss: 0.9369 - val_accuracy: 0.5556\n",
      "Epoch 14/15\n",
      "105/105 [==============================] - 0s 2ms/sample - loss: 1.3230 - accuracy: 0.4000 - val_loss: 0.9256 - val_accuracy: 0.5556\n",
      "Epoch 15/15\n",
      "105/105 [==============================] - 0s 2ms/sample - loss: 1.3342 - accuracy: 0.4952 - val_loss: 0.9104 - val_accuracy: 0.5556\n",
      "wandb: Agent Finished Run: ayqjohj7 \n",
      "\n",
      "wandb: Agent Starting Run: q2zp355c with config:\n",
      "\tbatch_size: 32\n",
      "\tepochs: 15\n",
      "\tlayers: 4\n",
      "wandb: Agent Started Run: q2zp355c\n"
     ]
    },
    {
     "data": {
      "text/html": [
       "\n",
       "                Logging results to <a href=\"https://wandb.com\" target=\"_blank\">Weights & Biases</a> <a href=\"https://docs.wandb.com/integrations/jupyter.html\" target=\"_blank\">(Documentation)</a>.<br/>\n",
       "                Project page: <a href=\"https://app.wandb.ai/sinisha123/hyperparameter-sweeps-comparison\" target=\"_blank\">https://app.wandb.ai/sinisha123/hyperparameter-sweeps-comparison</a><br/>\n",
       "                Sweep page: <a href=\"https://app.wandb.ai/sinisha123/hyperparameter-sweeps-comparison/sweeps/rda1hnv0\" target=\"_blank\">https://app.wandb.ai/sinisha123/hyperparameter-sweeps-comparison/sweeps/rda1hnv0</a><br/>\n",
       "Run page: <a href=\"https://app.wandb.ai/sinisha123/hyperparameter-sweeps-comparison/runs/q2zp355c\" target=\"_blank\">https://app.wandb.ai/sinisha123/hyperparameter-sweeps-comparison/runs/q2zp355c</a><br/>\n",
       "            "
      ],
      "text/plain": [
       "<IPython.core.display.HTML object>"
      ]
     },
     "metadata": {},
     "output_type": "display_data"
    },
    {
     "name": "stdout",
     "output_type": "stream",
     "text": [
      "Train on 105 samples, validate on 45 samples\n",
      "Epoch 1/15\n",
      "105/105 [==============================] - 1s 12ms/sample - loss: 2.9028 - accuracy: 0.3524 - val_loss: 1.6668 - val_accuracy: 0.2889\n",
      "Epoch 2/15\n",
      "105/105 [==============================] - 0s 2ms/sample - loss: 2.0642 - accuracy: 0.4476 - val_loss: 1.4364 - val_accuracy: 0.2889\n",
      "Epoch 3/15\n",
      "105/105 [==============================] - 0s 2ms/sample - loss: 2.2950 - accuracy: 0.3905 - val_loss: 1.2692 - val_accuracy: 0.2889\n",
      "Epoch 4/15\n",
      "105/105 [==============================] - 0s 2ms/sample - loss: 1.9392 - accuracy: 0.4571 - val_loss: 1.1380 - val_accuracy: 0.2889\n",
      "Epoch 5/15\n",
      "105/105 [==============================] - 0s 2ms/sample - loss: 2.3652 - accuracy: 0.2762 - val_loss: 1.0530 - val_accuracy: 0.2889\n",
      "Epoch 6/15\n",
      "105/105 [==============================] - 0s 2ms/sample - loss: 2.3472 - accuracy: 0.3714 - val_loss: 1.0013 - val_accuracy: 0.2889\n",
      "Epoch 7/15\n",
      "105/105 [==============================] - 0s 2ms/sample - loss: 1.7626 - accuracy: 0.3524 - val_loss: 0.9742 - val_accuracy: 0.4000\n",
      "Epoch 8/15\n",
      "105/105 [==============================] - 0s 2ms/sample - loss: 1.6315 - accuracy: 0.4190 - val_loss: 0.9619 - val_accuracy: 0.5556\n",
      "Epoch 9/15\n",
      "105/105 [==============================] - 0s 2ms/sample - loss: 1.9917 - accuracy: 0.3524 - val_loss: 0.9532 - val_accuracy: 0.5556\n",
      "Epoch 10/15\n",
      "105/105 [==============================] - 0s 2ms/sample - loss: 1.4822 - accuracy: 0.4571 - val_loss: 0.9472 - val_accuracy: 0.5556\n",
      "Epoch 11/15\n",
      "105/105 [==============================] - 0s 2ms/sample - loss: 1.4612 - accuracy: 0.3524 - val_loss: 0.9444 - val_accuracy: 0.5556\n",
      "Epoch 12/15\n",
      "105/105 [==============================] - 0s 2ms/sample - loss: 1.3101 - accuracy: 0.4286 - val_loss: 0.9372 - val_accuracy: 0.5556\n",
      "Epoch 13/15\n",
      "105/105 [==============================] - 0s 2ms/sample - loss: 1.2716 - accuracy: 0.4857 - val_loss: 0.9369 - val_accuracy: 0.5556\n",
      "Epoch 14/15\n",
      "105/105 [==============================] - 0s 2ms/sample - loss: 1.3230 - accuracy: 0.4000 - val_loss: 0.9256 - val_accuracy: 0.5556\n",
      "Epoch 15/15\n",
      "105/105 [==============================] - 0s 2ms/sample - loss: 1.3342 - accuracy: 0.4952 - val_loss: 0.9104 - val_accuracy: 0.5556\n",
      "wandb: Agent Finished Run: q2zp355c \n",
      "\n",
      "wandb: Agent Starting Run: krg2ezr1 with config:\n",
      "\tbatch_size: 32\n",
      "\tepochs: 15\n",
      "\tlayers: 4\n",
      "wandb: Agent Started Run: krg2ezr1\n"
     ]
    },
    {
     "data": {
      "text/html": [
       "\n",
       "                Logging results to <a href=\"https://wandb.com\" target=\"_blank\">Weights & Biases</a> <a href=\"https://docs.wandb.com/integrations/jupyter.html\" target=\"_blank\">(Documentation)</a>.<br/>\n",
       "                Project page: <a href=\"https://app.wandb.ai/sinisha123/hyperparameter-sweeps-comparison\" target=\"_blank\">https://app.wandb.ai/sinisha123/hyperparameter-sweeps-comparison</a><br/>\n",
       "                Sweep page: <a href=\"https://app.wandb.ai/sinisha123/hyperparameter-sweeps-comparison/sweeps/rda1hnv0\" target=\"_blank\">https://app.wandb.ai/sinisha123/hyperparameter-sweeps-comparison/sweeps/rda1hnv0</a><br/>\n",
       "Run page: <a href=\"https://app.wandb.ai/sinisha123/hyperparameter-sweeps-comparison/runs/krg2ezr1\" target=\"_blank\">https://app.wandb.ai/sinisha123/hyperparameter-sweeps-comparison/runs/krg2ezr1</a><br/>\n",
       "            "
      ],
      "text/plain": [
       "<IPython.core.display.HTML object>"
      ]
     },
     "metadata": {},
     "output_type": "display_data"
    },
    {
     "name": "stdout",
     "output_type": "stream",
     "text": [
      "Train on 105 samples, validate on 45 samples\n",
      "Epoch 1/15\n",
      "105/105 [==============================] - 1s 10ms/sample - loss: 2.9028 - accuracy: 0.3524 - val_loss: 1.6668 - val_accuracy: 0.2889\n",
      "Epoch 2/15\n",
      "105/105 [==============================] - 0s 2ms/sample - loss: 2.0642 - accuracy: 0.4476 - val_loss: 1.4364 - val_accuracy: 0.2889\n",
      "Epoch 3/15\n",
      "105/105 [==============================] - 0s 2ms/sample - loss: 2.2950 - accuracy: 0.3905 - val_loss: 1.2692 - val_accuracy: 0.2889\n",
      "Epoch 4/15\n",
      "105/105 [==============================] - 0s 2ms/sample - loss: 1.9392 - accuracy: 0.4571 - val_loss: 1.1380 - val_accuracy: 0.2889\n",
      "Epoch 5/15\n",
      "105/105 [==============================] - 0s 2ms/sample - loss: 2.3652 - accuracy: 0.2762 - val_loss: 1.0530 - val_accuracy: 0.2889\n",
      "Epoch 6/15\n",
      "105/105 [==============================] - 0s 2ms/sample - loss: 2.3472 - accuracy: 0.3714 - val_loss: 1.0013 - val_accuracy: 0.2889\n",
      "Epoch 7/15\n",
      "105/105 [==============================] - 0s 2ms/sample - loss: 1.7626 - accuracy: 0.3524 - val_loss: 0.9742 - val_accuracy: 0.4000\n",
      "Epoch 8/15\n",
      "105/105 [==============================] - 0s 2ms/sample - loss: 1.6315 - accuracy: 0.4190 - val_loss: 0.9619 - val_accuracy: 0.5556\n",
      "Epoch 9/15\n",
      "105/105 [==============================] - 0s 3ms/sample - loss: 1.9917 - accuracy: 0.3524 - val_loss: 0.9532 - val_accuracy: 0.5556\n",
      "Epoch 10/15\n",
      "105/105 [==============================] - 0s 2ms/sample - loss: 1.4822 - accuracy: 0.4571 - val_loss: 0.9472 - val_accuracy: 0.5556\n",
      "Epoch 11/15\n",
      "105/105 [==============================] - 0s 2ms/sample - loss: 1.4612 - accuracy: 0.3524 - val_loss: 0.9444 - val_accuracy: 0.5556\n",
      "Epoch 12/15\n",
      "105/105 [==============================] - 0s 2ms/sample - loss: 1.3101 - accuracy: 0.4286 - val_loss: 0.9372 - val_accuracy: 0.5556\n",
      "Epoch 13/15\n",
      "105/105 [==============================] - 0s 2ms/sample - loss: 1.2716 - accuracy: 0.4857 - val_loss: 0.9369 - val_accuracy: 0.5556\n",
      "Epoch 14/15\n",
      "105/105 [==============================] - 0s 2ms/sample - loss: 1.3230 - accuracy: 0.4000 - val_loss: 0.9256 - val_accuracy: 0.5556\n",
      "Epoch 15/15\n",
      "105/105 [==============================] - 0s 2ms/sample - loss: 1.3342 - accuracy: 0.4952 - val_loss: 0.9104 - val_accuracy: 0.5556\n",
      "wandb: Agent Finished Run: krg2ezr1 \n",
      "\n",
      "wandb: Agent Starting Run: 4m8s41pn with config:\n",
      "\tbatch_size: 32\n",
      "\tepochs: 15\n",
      "\tlayers: 4\n",
      "wandb: Agent Started Run: 4m8s41pn\n"
     ]
    },
    {
     "data": {
      "text/html": [
       "\n",
       "                Logging results to <a href=\"https://wandb.com\" target=\"_blank\">Weights & Biases</a> <a href=\"https://docs.wandb.com/integrations/jupyter.html\" target=\"_blank\">(Documentation)</a>.<br/>\n",
       "                Project page: <a href=\"https://app.wandb.ai/sinisha123/hyperparameter-sweeps-comparison\" target=\"_blank\">https://app.wandb.ai/sinisha123/hyperparameter-sweeps-comparison</a><br/>\n",
       "                Sweep page: <a href=\"https://app.wandb.ai/sinisha123/hyperparameter-sweeps-comparison/sweeps/rda1hnv0\" target=\"_blank\">https://app.wandb.ai/sinisha123/hyperparameter-sweeps-comparison/sweeps/rda1hnv0</a><br/>\n",
       "Run page: <a href=\"https://app.wandb.ai/sinisha123/hyperparameter-sweeps-comparison/runs/4m8s41pn\" target=\"_blank\">https://app.wandb.ai/sinisha123/hyperparameter-sweeps-comparison/runs/4m8s41pn</a><br/>\n",
       "            "
      ],
      "text/plain": [
       "<IPython.core.display.HTML object>"
      ]
     },
     "metadata": {},
     "output_type": "display_data"
    },
    {
     "name": "stdout",
     "output_type": "stream",
     "text": [
      "Train on 105 samples, validate on 45 samples\n",
      "Epoch 1/15\n",
      "105/105 [==============================] - 1s 10ms/sample - loss: 2.9028 - accuracy: 0.3524 - val_loss: 1.6668 - val_accuracy: 0.2889\n",
      "Epoch 2/15\n",
      "105/105 [==============================] - 0s 2ms/sample - loss: 2.0642 - accuracy: 0.4476 - val_loss: 1.4364 - val_accuracy: 0.2889\n",
      "Epoch 3/15\n",
      "105/105 [==============================] - 0s 2ms/sample - loss: 2.2950 - accuracy: 0.3905 - val_loss: 1.2692 - val_accuracy: 0.2889\n",
      "Epoch 4/15\n",
      "105/105 [==============================] - 0s 2ms/sample - loss: 1.9392 - accuracy: 0.4571 - val_loss: 1.1380 - val_accuracy: 0.2889\n",
      "Epoch 5/15\n",
      "105/105 [==============================] - 0s 2ms/sample - loss: 2.3652 - accuracy: 0.2762 - val_loss: 1.0530 - val_accuracy: 0.2889\n",
      "Epoch 6/15\n",
      "105/105 [==============================] - 0s 2ms/sample - loss: 2.3472 - accuracy: 0.3714 - val_loss: 1.0013 - val_accuracy: 0.2889\n",
      "Epoch 7/15\n",
      "105/105 [==============================] - 0s 2ms/sample - loss: 1.7626 - accuracy: 0.3524 - val_loss: 0.9742 - val_accuracy: 0.4000\n",
      "Epoch 8/15\n",
      "105/105 [==============================] - 0s 2ms/sample - loss: 1.6315 - accuracy: 0.4190 - val_loss: 0.9619 - val_accuracy: 0.5556\n",
      "Epoch 9/15\n",
      "105/105 [==============================] - 0s 2ms/sample - loss: 1.9917 - accuracy: 0.3524 - val_loss: 0.9532 - val_accuracy: 0.5556\n",
      "Epoch 10/15\n",
      "105/105 [==============================] - 0s 2ms/sample - loss: 1.4822 - accuracy: 0.4571 - val_loss: 0.9472 - val_accuracy: 0.5556\n",
      "Epoch 11/15\n",
      "105/105 [==============================] - 0s 2ms/sample - loss: 1.4612 - accuracy: 0.3524 - val_loss: 0.9444 - val_accuracy: 0.5556\n",
      "Epoch 12/15\n",
      "105/105 [==============================] - 0s 2ms/sample - loss: 1.3101 - accuracy: 0.4286 - val_loss: 0.9372 - val_accuracy: 0.5556\n",
      "Epoch 13/15\n",
      "105/105 [==============================] - 0s 2ms/sample - loss: 1.2716 - accuracy: 0.4857 - val_loss: 0.9369 - val_accuracy: 0.5556\n",
      "Epoch 14/15\n",
      "105/105 [==============================] - 0s 2ms/sample - loss: 1.3230 - accuracy: 0.4000 - val_loss: 0.9256 - val_accuracy: 0.5556\n",
      "Epoch 15/15\n",
      "105/105 [==============================] - 0s 2ms/sample - loss: 1.3342 - accuracy: 0.4952 - val_loss: 0.9104 - val_accuracy: 0.5556\n",
      "wandb: Agent Finished Run: 4m8s41pn \n",
      "\n",
      "wandb: Agent Starting Run: udvn0se5 with config:\n",
      "\tbatch_size: 32\n",
      "\tepochs: 15\n",
      "\tlayers: 4\n",
      "wandb: Agent Started Run: udvn0se5\n"
     ]
    },
    {
     "data": {
      "text/html": [
       "\n",
       "                Logging results to <a href=\"https://wandb.com\" target=\"_blank\">Weights & Biases</a> <a href=\"https://docs.wandb.com/integrations/jupyter.html\" target=\"_blank\">(Documentation)</a>.<br/>\n",
       "                Project page: <a href=\"https://app.wandb.ai/sinisha123/hyperparameter-sweeps-comparison\" target=\"_blank\">https://app.wandb.ai/sinisha123/hyperparameter-sweeps-comparison</a><br/>\n",
       "                Sweep page: <a href=\"https://app.wandb.ai/sinisha123/hyperparameter-sweeps-comparison/sweeps/rda1hnv0\" target=\"_blank\">https://app.wandb.ai/sinisha123/hyperparameter-sweeps-comparison/sweeps/rda1hnv0</a><br/>\n",
       "Run page: <a href=\"https://app.wandb.ai/sinisha123/hyperparameter-sweeps-comparison/runs/udvn0se5\" target=\"_blank\">https://app.wandb.ai/sinisha123/hyperparameter-sweeps-comparison/runs/udvn0se5</a><br/>\n",
       "            "
      ],
      "text/plain": [
       "<IPython.core.display.HTML object>"
      ]
     },
     "metadata": {},
     "output_type": "display_data"
    },
    {
     "name": "stdout",
     "output_type": "stream",
     "text": [
      "Train on 105 samples, validate on 45 samples\n",
      "Epoch 1/15\n",
      "105/105 [==============================] - 1s 11ms/sample - loss: 2.9028 - accuracy: 0.3524 - val_loss: 1.6668 - val_accuracy: 0.2889\n",
      "Epoch 2/15\n",
      "105/105 [==============================] - 0s 2ms/sample - loss: 2.0642 - accuracy: 0.4476 - val_loss: 1.4364 - val_accuracy: 0.2889\n",
      "Epoch 3/15\n",
      "105/105 [==============================] - 0s 2ms/sample - loss: 2.2950 - accuracy: 0.3905 - val_loss: 1.2692 - val_accuracy: 0.2889\n",
      "Epoch 4/15\n",
      "105/105 [==============================] - 0s 2ms/sample - loss: 1.9392 - accuracy: 0.4571 - val_loss: 1.1380 - val_accuracy: 0.2889\n",
      "Epoch 5/15\n",
      "105/105 [==============================] - 0s 2ms/sample - loss: 2.3652 - accuracy: 0.2762 - val_loss: 1.0530 - val_accuracy: 0.2889\n",
      "Epoch 6/15\n",
      "105/105 [==============================] - 0s 2ms/sample - loss: 2.3472 - accuracy: 0.3714 - val_loss: 1.0013 - val_accuracy: 0.2889\n",
      "Epoch 7/15\n",
      "105/105 [==============================] - 0s 2ms/sample - loss: 1.7626 - accuracy: 0.3524 - val_loss: 0.9742 - val_accuracy: 0.4000\n",
      "Epoch 8/15\n",
      "105/105 [==============================] - 0s 2ms/sample - loss: 1.6315 - accuracy: 0.4190 - val_loss: 0.9619 - val_accuracy: 0.5556\n",
      "Epoch 9/15\n",
      "105/105 [==============================] - 0s 3ms/sample - loss: 1.9917 - accuracy: 0.3524 - val_loss: 0.9532 - val_accuracy: 0.5556\n",
      "Epoch 10/15\n",
      "105/105 [==============================] - 0s 2ms/sample - loss: 1.4822 - accuracy: 0.4571 - val_loss: 0.9472 - val_accuracy: 0.5556\n",
      "Epoch 11/15\n",
      "105/105 [==============================] - 0s 2ms/sample - loss: 1.4612 - accuracy: 0.3524 - val_loss: 0.9444 - val_accuracy: 0.5556\n",
      "Epoch 12/15\n",
      "105/105 [==============================] - 0s 2ms/sample - loss: 1.3101 - accuracy: 0.4286 - val_loss: 0.9372 - val_accuracy: 0.5556\n",
      "Epoch 13/15\n",
      "105/105 [==============================] - 0s 2ms/sample - loss: 1.2716 - accuracy: 0.4857 - val_loss: 0.9369 - val_accuracy: 0.5556\n",
      "Epoch 14/15\n",
      "105/105 [==============================] - 0s 2ms/sample - loss: 1.3230 - accuracy: 0.4000 - val_loss: 0.9256 - val_accuracy: 0.5556\n",
      "Epoch 15/15\n",
      "105/105 [==============================] - 0s 2ms/sample - loss: 1.3342 - accuracy: 0.4952 - val_loss: 0.9104 - val_accuracy: 0.5556\n",
      "wandb: Agent Finished Run: udvn0se5 \n",
      "\n",
      "wandb: Agent Starting Run: bgoxwn4g with config:\n",
      "\tbatch_size: 32\n",
      "\tepochs: 15\n",
      "\tlayers: 4\n",
      "wandb: Agent Started Run: bgoxwn4g\n"
     ]
    },
    {
     "data": {
      "text/html": [
       "\n",
       "                Logging results to <a href=\"https://wandb.com\" target=\"_blank\">Weights & Biases</a> <a href=\"https://docs.wandb.com/integrations/jupyter.html\" target=\"_blank\">(Documentation)</a>.<br/>\n",
       "                Project page: <a href=\"https://app.wandb.ai/sinisha123/hyperparameter-sweeps-comparison\" target=\"_blank\">https://app.wandb.ai/sinisha123/hyperparameter-sweeps-comparison</a><br/>\n",
       "                Sweep page: <a href=\"https://app.wandb.ai/sinisha123/hyperparameter-sweeps-comparison/sweeps/rda1hnv0\" target=\"_blank\">https://app.wandb.ai/sinisha123/hyperparameter-sweeps-comparison/sweeps/rda1hnv0</a><br/>\n",
       "Run page: <a href=\"https://app.wandb.ai/sinisha123/hyperparameter-sweeps-comparison/runs/bgoxwn4g\" target=\"_blank\">https://app.wandb.ai/sinisha123/hyperparameter-sweeps-comparison/runs/bgoxwn4g</a><br/>\n",
       "            "
      ],
      "text/plain": [
       "<IPython.core.display.HTML object>"
      ]
     },
     "metadata": {},
     "output_type": "display_data"
    },
    {
     "name": "stdout",
     "output_type": "stream",
     "text": [
      "Train on 105 samples, validate on 45 samples\n",
      "Epoch 1/15\n",
      "105/105 [==============================] - 1s 10ms/sample - loss: 2.9028 - accuracy: 0.3524 - val_loss: 1.6668 - val_accuracy: 0.2889\n",
      "Epoch 2/15\n",
      "105/105 [==============================] - 0s 2ms/sample - loss: 2.0642 - accuracy: 0.4476 - val_loss: 1.4364 - val_accuracy: 0.2889\n",
      "Epoch 3/15\n",
      "105/105 [==============================] - 0s 2ms/sample - loss: 2.2950 - accuracy: 0.3905 - val_loss: 1.2692 - val_accuracy: 0.2889\n",
      "Epoch 4/15\n",
      "105/105 [==============================] - 0s 2ms/sample - loss: 1.9392 - accuracy: 0.4571 - val_loss: 1.1380 - val_accuracy: 0.2889\n",
      "Epoch 5/15\n",
      "105/105 [==============================] - 0s 2ms/sample - loss: 2.3652 - accuracy: 0.2762 - val_loss: 1.0530 - val_accuracy: 0.2889\n",
      "Epoch 6/15\n",
      "105/105 [==============================] - 0s 2ms/sample - loss: 2.3472 - accuracy: 0.3714 - val_loss: 1.0013 - val_accuracy: 0.2889\n",
      "Epoch 7/15\n",
      "105/105 [==============================] - 0s 2ms/sample - loss: 1.7626 - accuracy: 0.3524 - val_loss: 0.9742 - val_accuracy: 0.4000\n",
      "Epoch 8/15\n",
      "105/105 [==============================] - 0s 2ms/sample - loss: 1.6315 - accuracy: 0.4190 - val_loss: 0.9619 - val_accuracy: 0.5556\n",
      "Epoch 9/15\n",
      "105/105 [==============================] - 0s 2ms/sample - loss: 1.9917 - accuracy: 0.3524 - val_loss: 0.9532 - val_accuracy: 0.5556\n",
      "Epoch 10/15\n",
      "105/105 [==============================] - 0s 2ms/sample - loss: 1.4822 - accuracy: 0.4571 - val_loss: 0.9472 - val_accuracy: 0.5556\n",
      "Epoch 11/15\n",
      "105/105 [==============================] - 0s 2ms/sample - loss: 1.4612 - accuracy: 0.3524 - val_loss: 0.9444 - val_accuracy: 0.5556\n",
      "Epoch 12/15\n",
      "105/105 [==============================] - 0s 2ms/sample - loss: 1.3101 - accuracy: 0.4286 - val_loss: 0.9372 - val_accuracy: 0.5556\n",
      "Epoch 13/15\n",
      "105/105 [==============================] - 0s 2ms/sample - loss: 1.2716 - accuracy: 0.4857 - val_loss: 0.9369 - val_accuracy: 0.5556\n",
      "Epoch 14/15\n",
      "105/105 [==============================] - 0s 2ms/sample - loss: 1.3230 - accuracy: 0.4000 - val_loss: 0.9256 - val_accuracy: 0.5556\n",
      "Epoch 15/15\n",
      "105/105 [==============================] - 0s 2ms/sample - loss: 1.3342 - accuracy: 0.4952 - val_loss: 0.9104 - val_accuracy: 0.5556\n",
      "wandb: Agent Finished Run: bgoxwn4g \n",
      "\n",
      "wandb: Agent Starting Run: svsz7yj7 with config:\n",
      "\tbatch_size: 32\n",
      "\tepochs: 15\n",
      "\tlayers: 4\n",
      "wandb: Agent Started Run: svsz7yj7\n"
     ]
    },
    {
     "data": {
      "text/html": [
       "\n",
       "                Logging results to <a href=\"https://wandb.com\" target=\"_blank\">Weights & Biases</a> <a href=\"https://docs.wandb.com/integrations/jupyter.html\" target=\"_blank\">(Documentation)</a>.<br/>\n",
       "                Project page: <a href=\"https://app.wandb.ai/sinisha123/hyperparameter-sweeps-comparison\" target=\"_blank\">https://app.wandb.ai/sinisha123/hyperparameter-sweeps-comparison</a><br/>\n",
       "                Sweep page: <a href=\"https://app.wandb.ai/sinisha123/hyperparameter-sweeps-comparison/sweeps/rda1hnv0\" target=\"_blank\">https://app.wandb.ai/sinisha123/hyperparameter-sweeps-comparison/sweeps/rda1hnv0</a><br/>\n",
       "Run page: <a href=\"https://app.wandb.ai/sinisha123/hyperparameter-sweeps-comparison/runs/svsz7yj7\" target=\"_blank\">https://app.wandb.ai/sinisha123/hyperparameter-sweeps-comparison/runs/svsz7yj7</a><br/>\n",
       "            "
      ],
      "text/plain": [
       "<IPython.core.display.HTML object>"
      ]
     },
     "metadata": {},
     "output_type": "display_data"
    },
    {
     "name": "stdout",
     "output_type": "stream",
     "text": [
      "Train on 105 samples, validate on 45 samples\n",
      "Epoch 1/15\n",
      "105/105 [==============================] - 1s 10ms/sample - loss: 2.9028 - accuracy: 0.3524 - val_loss: 1.6668 - val_accuracy: 0.2889\n",
      "Epoch 2/15\n",
      "105/105 [==============================] - 0s 2ms/sample - loss: 2.0642 - accuracy: 0.4476 - val_loss: 1.4364 - val_accuracy: 0.2889\n",
      "Epoch 3/15\n",
      "105/105 [==============================] - 0s 2ms/sample - loss: 2.2950 - accuracy: 0.3905 - val_loss: 1.2692 - val_accuracy: 0.2889\n",
      "Epoch 4/15\n",
      "105/105 [==============================] - 0s 2ms/sample - loss: 1.9392 - accuracy: 0.4571 - val_loss: 1.1380 - val_accuracy: 0.2889\n",
      "Epoch 5/15\n",
      "105/105 [==============================] - 0s 2ms/sample - loss: 2.3652 - accuracy: 0.2762 - val_loss: 1.0530 - val_accuracy: 0.2889\n",
      "Epoch 6/15\n",
      "105/105 [==============================] - 0s 2ms/sample - loss: 2.3472 - accuracy: 0.3714 - val_loss: 1.0013 - val_accuracy: 0.2889\n",
      "Epoch 7/15\n",
      "105/105 [==============================] - 0s 2ms/sample - loss: 1.7626 - accuracy: 0.3524 - val_loss: 0.9742 - val_accuracy: 0.4000\n",
      "Epoch 8/15\n",
      "105/105 [==============================] - 0s 2ms/sample - loss: 1.6315 - accuracy: 0.4190 - val_loss: 0.9619 - val_accuracy: 0.5556\n",
      "Epoch 9/15\n",
      "105/105 [==============================] - 0s 2ms/sample - loss: 1.9917 - accuracy: 0.3524 - val_loss: 0.9532 - val_accuracy: 0.5556\n",
      "Epoch 10/15\n",
      "105/105 [==============================] - 0s 2ms/sample - loss: 1.4822 - accuracy: 0.4571 - val_loss: 0.9472 - val_accuracy: 0.5556\n",
      "Epoch 11/15\n",
      "105/105 [==============================] - 0s 2ms/sample - loss: 1.4612 - accuracy: 0.3524 - val_loss: 0.9444 - val_accuracy: 0.5556\n",
      "Epoch 12/15\n",
      "105/105 [==============================] - 0s 2ms/sample - loss: 1.3101 - accuracy: 0.4286 - val_loss: 0.9372 - val_accuracy: 0.5556\n",
      "Epoch 13/15\n",
      "105/105 [==============================] - 0s 2ms/sample - loss: 1.2716 - accuracy: 0.4857 - val_loss: 0.9369 - val_accuracy: 0.5556\n",
      "Epoch 14/15\n",
      "105/105 [==============================] - 0s 2ms/sample - loss: 1.3230 - accuracy: 0.4000 - val_loss: 0.9256 - val_accuracy: 0.5556\n",
      "Epoch 15/15\n",
      "105/105 [==============================] - 0s 2ms/sample - loss: 1.3342 - accuracy: 0.4952 - val_loss: 0.9104 - val_accuracy: 0.5556\n",
      "wandb: Agent Finished Run: svsz7yj7 \n",
      "\n",
      "wandb: Agent Starting Run: m8sapyu7 with config:\n",
      "\tbatch_size: 32\n",
      "\tepochs: 15\n",
      "\tlayers: 4\n",
      "wandb: Agent Started Run: m8sapyu7\n"
     ]
    },
    {
     "data": {
      "text/html": [
       "\n",
       "                Logging results to <a href=\"https://wandb.com\" target=\"_blank\">Weights & Biases</a> <a href=\"https://docs.wandb.com/integrations/jupyter.html\" target=\"_blank\">(Documentation)</a>.<br/>\n",
       "                Project page: <a href=\"https://app.wandb.ai/sinisha123/hyperparameter-sweeps-comparison\" target=\"_blank\">https://app.wandb.ai/sinisha123/hyperparameter-sweeps-comparison</a><br/>\n",
       "                Sweep page: <a href=\"https://app.wandb.ai/sinisha123/hyperparameter-sweeps-comparison/sweeps/rda1hnv0\" target=\"_blank\">https://app.wandb.ai/sinisha123/hyperparameter-sweeps-comparison/sweeps/rda1hnv0</a><br/>\n",
       "Run page: <a href=\"https://app.wandb.ai/sinisha123/hyperparameter-sweeps-comparison/runs/m8sapyu7\" target=\"_blank\">https://app.wandb.ai/sinisha123/hyperparameter-sweeps-comparison/runs/m8sapyu7</a><br/>\n",
       "            "
      ],
      "text/plain": [
       "<IPython.core.display.HTML object>"
      ]
     },
     "metadata": {},
     "output_type": "display_data"
    },
    {
     "name": "stdout",
     "output_type": "stream",
     "text": [
      "Train on 105 samples, validate on 45 samples\n",
      "Epoch 1/15\n",
      "105/105 [==============================] - 1s 11ms/sample - loss: 2.9028 - accuracy: 0.3524 - val_loss: 1.6668 - val_accuracy: 0.2889\n",
      "Epoch 2/15\n",
      "105/105 [==============================] - 0s 2ms/sample - loss: 2.0642 - accuracy: 0.4476 - val_loss: 1.4364 - val_accuracy: 0.2889\n",
      "Epoch 3/15\n",
      "105/105 [==============================] - 0s 2ms/sample - loss: 2.2950 - accuracy: 0.3905 - val_loss: 1.2692 - val_accuracy: 0.2889\n",
      "Epoch 4/15\n",
      "105/105 [==============================] - 0s 2ms/sample - loss: 1.9392 - accuracy: 0.4571 - val_loss: 1.1380 - val_accuracy: 0.2889\n",
      "Epoch 5/15\n",
      "105/105 [==============================] - 0s 2ms/sample - loss: 2.3652 - accuracy: 0.2762 - val_loss: 1.0530 - val_accuracy: 0.2889\n",
      "Epoch 6/15\n",
      "105/105 [==============================] - 0s 2ms/sample - loss: 2.3472 - accuracy: 0.3714 - val_loss: 1.0013 - val_accuracy: 0.2889\n",
      "Epoch 7/15\n",
      "105/105 [==============================] - 0s 2ms/sample - loss: 1.7626 - accuracy: 0.3524 - val_loss: 0.9742 - val_accuracy: 0.4000\n",
      "Epoch 8/15\n",
      "105/105 [==============================] - 0s 2ms/sample - loss: 1.6315 - accuracy: 0.4190 - val_loss: 0.9619 - val_accuracy: 0.5556\n",
      "Epoch 9/15\n",
      "105/105 [==============================] - 0s 2ms/sample - loss: 1.9917 - accuracy: 0.3524 - val_loss: 0.9532 - val_accuracy: 0.5556\n",
      "Epoch 10/15\n",
      "105/105 [==============================] - 0s 2ms/sample - loss: 1.4822 - accuracy: 0.4571 - val_loss: 0.9472 - val_accuracy: 0.5556\n",
      "Epoch 11/15\n",
      "105/105 [==============================] - 0s 2ms/sample - loss: 1.4612 - accuracy: 0.3524 - val_loss: 0.9444 - val_accuracy: 0.5556\n",
      "Epoch 12/15\n",
      "105/105 [==============================] - 0s 2ms/sample - loss: 1.3101 - accuracy: 0.4286 - val_loss: 0.9372 - val_accuracy: 0.5556\n",
      "Epoch 13/15\n",
      "105/105 [==============================] - 0s 2ms/sample - loss: 1.2716 - accuracy: 0.4857 - val_loss: 0.9369 - val_accuracy: 0.5556\n",
      "Epoch 14/15\n",
      "105/105 [==============================] - 0s 2ms/sample - loss: 1.3230 - accuracy: 0.4000 - val_loss: 0.9256 - val_accuracy: 0.5556\n",
      "Epoch 15/15\n",
      "105/105 [==============================] - 0s 2ms/sample - loss: 1.3342 - accuracy: 0.4952 - val_loss: 0.9104 - val_accuracy: 0.5556\n",
      "wandb: Agent Finished Run: m8sapyu7 \n",
      "\n",
      "wandb: Agent Starting Run: xrsbt0p8 with config:\n",
      "\tbatch_size: 32\n",
      "\tepochs: 15\n",
      "\tlayers: 4\n",
      "wandb: Agent Started Run: xrsbt0p8\n"
     ]
    },
    {
     "data": {
      "text/html": [
       "\n",
       "                Logging results to <a href=\"https://wandb.com\" target=\"_blank\">Weights & Biases</a> <a href=\"https://docs.wandb.com/integrations/jupyter.html\" target=\"_blank\">(Documentation)</a>.<br/>\n",
       "                Project page: <a href=\"https://app.wandb.ai/sinisha123/hyperparameter-sweeps-comparison\" target=\"_blank\">https://app.wandb.ai/sinisha123/hyperparameter-sweeps-comparison</a><br/>\n",
       "                Sweep page: <a href=\"https://app.wandb.ai/sinisha123/hyperparameter-sweeps-comparison/sweeps/rda1hnv0\" target=\"_blank\">https://app.wandb.ai/sinisha123/hyperparameter-sweeps-comparison/sweeps/rda1hnv0</a><br/>\n",
       "Run page: <a href=\"https://app.wandb.ai/sinisha123/hyperparameter-sweeps-comparison/runs/xrsbt0p8\" target=\"_blank\">https://app.wandb.ai/sinisha123/hyperparameter-sweeps-comparison/runs/xrsbt0p8</a><br/>\n",
       "            "
      ],
      "text/plain": [
       "<IPython.core.display.HTML object>"
      ]
     },
     "metadata": {},
     "output_type": "display_data"
    },
    {
     "name": "stdout",
     "output_type": "stream",
     "text": [
      "Train on 105 samples, validate on 45 samples\n",
      "Epoch 1/15\n",
      "105/105 [==============================] - 1s 11ms/sample - loss: 2.9028 - accuracy: 0.3524 - val_loss: 1.6668 - val_accuracy: 0.2889\n",
      "Epoch 2/15\n",
      "105/105 [==============================] - 0s 2ms/sample - loss: 2.0642 - accuracy: 0.4476 - val_loss: 1.4364 - val_accuracy: 0.2889\n",
      "Epoch 3/15\n",
      "105/105 [==============================] - 0s 2ms/sample - loss: 2.2950 - accuracy: 0.3905 - val_loss: 1.2692 - val_accuracy: 0.2889\n",
      "Epoch 4/15\n",
      "105/105 [==============================] - 0s 2ms/sample - loss: 1.9392 - accuracy: 0.4571 - val_loss: 1.1380 - val_accuracy: 0.2889\n",
      "Epoch 5/15\n",
      "105/105 [==============================] - 0s 2ms/sample - loss: 2.3652 - accuracy: 0.2762 - val_loss: 1.0530 - val_accuracy: 0.2889\n",
      "Epoch 6/15\n",
      "105/105 [==============================] - 0s 2ms/sample - loss: 2.3472 - accuracy: 0.3714 - val_loss: 1.0013 - val_accuracy: 0.2889\n",
      "Epoch 7/15\n",
      "105/105 [==============================] - 0s 2ms/sample - loss: 1.7626 - accuracy: 0.3524 - val_loss: 0.9742 - val_accuracy: 0.4000\n",
      "Epoch 8/15\n",
      "105/105 [==============================] - 0s 2ms/sample - loss: 1.6315 - accuracy: 0.4190 - val_loss: 0.9619 - val_accuracy: 0.5556\n",
      "Epoch 9/15\n",
      "105/105 [==============================] - 0s 2ms/sample - loss: 1.9917 - accuracy: 0.3524 - val_loss: 0.9532 - val_accuracy: 0.5556\n",
      "Epoch 10/15\n",
      "105/105 [==============================] - 0s 2ms/sample - loss: 1.4822 - accuracy: 0.4571 - val_loss: 0.9472 - val_accuracy: 0.5556\n",
      "Epoch 11/15\n",
      "105/105 [==============================] - 0s 2ms/sample - loss: 1.4612 - accuracy: 0.3524 - val_loss: 0.9444 - val_accuracy: 0.5556\n",
      "Epoch 12/15\n",
      "105/105 [==============================] - 0s 2ms/sample - loss: 1.3101 - accuracy: 0.4286 - val_loss: 0.9372 - val_accuracy: 0.5556\n",
      "Epoch 13/15\n",
      "105/105 [==============================] - 0s 2ms/sample - loss: 1.2716 - accuracy: 0.4857 - val_loss: 0.9369 - val_accuracy: 0.5556\n",
      "Epoch 14/15\n",
      "105/105 [==============================] - 0s 3ms/sample - loss: 1.3230 - accuracy: 0.4000 - val_loss: 0.9256 - val_accuracy: 0.5556\n",
      "Epoch 15/15\n",
      "105/105 [==============================] - 0s 2ms/sample - loss: 1.3342 - accuracy: 0.4952 - val_loss: 0.9104 - val_accuracy: 0.5556\n",
      "wandb: Agent Finished Run: xrsbt0p8 \n",
      "\n",
      "wandb: Agent Starting Run: 0n0uojfb with config:\n",
      "\tbatch_size: 32\n",
      "\tepochs: 15\n",
      "\tlayers: 4\n",
      "wandb: Agent Started Run: 0n0uojfb\n"
     ]
    },
    {
     "data": {
      "text/html": [
       "\n",
       "                Logging results to <a href=\"https://wandb.com\" target=\"_blank\">Weights & Biases</a> <a href=\"https://docs.wandb.com/integrations/jupyter.html\" target=\"_blank\">(Documentation)</a>.<br/>\n",
       "                Project page: <a href=\"https://app.wandb.ai/sinisha123/hyperparameter-sweeps-comparison\" target=\"_blank\">https://app.wandb.ai/sinisha123/hyperparameter-sweeps-comparison</a><br/>\n",
       "                Sweep page: <a href=\"https://app.wandb.ai/sinisha123/hyperparameter-sweeps-comparison/sweeps/rda1hnv0\" target=\"_blank\">https://app.wandb.ai/sinisha123/hyperparameter-sweeps-comparison/sweeps/rda1hnv0</a><br/>\n",
       "Run page: <a href=\"https://app.wandb.ai/sinisha123/hyperparameter-sweeps-comparison/runs/0n0uojfb\" target=\"_blank\">https://app.wandb.ai/sinisha123/hyperparameter-sweeps-comparison/runs/0n0uojfb</a><br/>\n",
       "            "
      ],
      "text/plain": [
       "<IPython.core.display.HTML object>"
      ]
     },
     "metadata": {},
     "output_type": "display_data"
    },
    {
     "name": "stdout",
     "output_type": "stream",
     "text": [
      "Train on 105 samples, validate on 45 samples\n",
      "Epoch 1/15\n",
      "105/105 [==============================] - 1s 10ms/sample - loss: 2.9028 - accuracy: 0.3524 - val_loss: 1.6668 - val_accuracy: 0.2889\n",
      "Epoch 2/15\n",
      "105/105 [==============================] - 0s 2ms/sample - loss: 2.0642 - accuracy: 0.4476 - val_loss: 1.4364 - val_accuracy: 0.2889\n",
      "Epoch 3/15\n",
      "105/105 [==============================] - 0s 2ms/sample - loss: 2.2950 - accuracy: 0.3905 - val_loss: 1.2692 - val_accuracy: 0.2889\n",
      "Epoch 4/15\n",
      "105/105 [==============================] - 0s 2ms/sample - loss: 1.9392 - accuracy: 0.4571 - val_loss: 1.1380 - val_accuracy: 0.2889\n",
      "Epoch 5/15\n",
      "105/105 [==============================] - 0s 2ms/sample - loss: 2.3652 - accuracy: 0.2762 - val_loss: 1.0530 - val_accuracy: 0.2889\n",
      "Epoch 6/15\n",
      "105/105 [==============================] - 0s 2ms/sample - loss: 2.3472 - accuracy: 0.3714 - val_loss: 1.0013 - val_accuracy: 0.2889\n",
      "Epoch 7/15\n",
      "105/105 [==============================] - 0s 2ms/sample - loss: 1.7626 - accuracy: 0.3524 - val_loss: 0.9742 - val_accuracy: 0.4000\n",
      "Epoch 8/15\n",
      "105/105 [==============================] - 0s 3ms/sample - loss: 1.6315 - accuracy: 0.4190 - val_loss: 0.9619 - val_accuracy: 0.5556\n",
      "Epoch 9/15\n",
      "105/105 [==============================] - 1s 5ms/sample - loss: 1.9917 - accuracy: 0.3524 - val_loss: 0.9532 - val_accuracy: 0.5556\n",
      "Epoch 10/15\n",
      "105/105 [==============================] - 0s 2ms/sample - loss: 1.4822 - accuracy: 0.4571 - val_loss: 0.9472 - val_accuracy: 0.5556\n",
      "Epoch 11/15\n",
      "105/105 [==============================] - 0s 2ms/sample - loss: 1.4612 - accuracy: 0.3524 - val_loss: 0.9444 - val_accuracy: 0.5556\n",
      "Epoch 12/15\n",
      "105/105 [==============================] - 0s 2ms/sample - loss: 1.3101 - accuracy: 0.4286 - val_loss: 0.9372 - val_accuracy: 0.5556\n",
      "Epoch 13/15\n",
      "105/105 [==============================] - 0s 2ms/sample - loss: 1.2716 - accuracy: 0.4857 - val_loss: 0.9369 - val_accuracy: 0.5556\n",
      "Epoch 14/15\n",
      "105/105 [==============================] - 0s 2ms/sample - loss: 1.3230 - accuracy: 0.4000 - val_loss: 0.9256 - val_accuracy: 0.5556\n",
      "Epoch 15/15\n",
      "105/105 [==============================] - 0s 2ms/sample - loss: 1.3342 - accuracy: 0.4952 - val_loss: 0.9104 - val_accuracy: 0.5556\n",
      "wandb: Agent Finished Run: 0n0uojfb \n",
      "\n"
     ]
    }
   ],
   "source": [
    "wandb.agent(sweep_id, function=train)"
   ]
  },
  {
   "cell_type": "code",
   "execution_count": null,
   "metadata": {},
   "outputs": [],
   "source": []
  }
 ],
 "metadata": {
  "kernelspec": {
   "display_name": "Python 3",
   "language": "python",
   "name": "python3"
  },
  "language_info": {
   "codemirror_mode": {
    "name": "ipython",
    "version": 3
   },
   "file_extension": ".py",
   "mimetype": "text/x-python",
   "name": "python",
   "nbconvert_exporter": "python",
   "pygments_lexer": "ipython3",
   "version": "3.6.8"
  }
 },
 "nbformat": 4,
 "nbformat_minor": 2
}
