{
 "cells": [
  {
   "cell_type": "code",
   "execution_count": 1,
   "metadata": {},
   "outputs": [],
   "source": [
    "import numpy as np\n",
    "import pandas as pd\n",
    "import matplotlib.pyplot as plt\n",
    "import seaborn as sns\n",
    "from scipy.optimize import curve_fit\n",
    "%matplotlib inline"
   ]
  },
  {
   "cell_type": "code",
   "execution_count": 17,
   "metadata": {},
   "outputs": [],
   "source": [
    "datelist = pd.date_range(start=\"26-02-2020\",periods = 68).tolist()"
   ]
  },
  {
   "cell_type": "code",
   "execution_count": 18,
   "metadata": {},
   "outputs": [
    {
     "data": {
      "text/plain": [
       "68"
      ]
     },
     "execution_count": 18,
     "metadata": {},
     "output_type": "execute_result"
    }
   ],
   "source": [
    "len(datelist)"
   ]
  },
  {
   "cell_type": "code",
   "execution_count": 19,
   "metadata": {},
   "outputs": [],
   "source": [
    "novi = [1, 0, 0, 0, 0, 0, 0, 0, 0, 2, 0, 1, 3, 0, 1, 0, 4, 6, 0, 5, 8, 11, 6, 28, 9, 29, 22, 12, 29, 24, 18, 22, 18, 26, 44, 25,\n",
    "       30,46,53,72,15,29,18,46,48,49,68,26,54,66,104,36,53,37,18, 6,28, 41,26,41,19,13,22,21,23,29,15, 5]"
   ]
  },
  {
   "cell_type": "code",
   "execution_count": 26,
   "metadata": {},
   "outputs": [],
   "source": [
    "izleceni = [0, 0, 0, 0, 0, 0, 0, 0, 0, 0, 0, 0, 0, 0, 0, 0, 0, 0, 0, 0, 1, 0, 0, 0, 0, 0, 0, 0, 0, 2, 0, 0, 0, 9, 0, 5, 0, \n",
    "           3,0,3,7,0,5,2,4,0,0,3,42,12,23,18,25,15,21,24, 48,29,36,37,126,53,36,38,111,69,45, 93]"
   ]
  },
  {
   "cell_type": "code",
   "execution_count": 27,
   "metadata": {},
   "outputs": [],
   "source": [
    "pocinati = [0, 0, 0, 0, 0, 0, 0, 0, 0, 0, 0, 0, 0, 0, 0, 0, 0, 0, 0, 0, 0, 0, 0, 0, 0, 1, 1, 0, 1, 0, 0, 1, 2, 1, 2, 2, 0,\n",
    "           1,5,1,3,5,3,1,2,2,0,4,6,1,1,3,0,2,3,1,1,0,1,2,2,4,6,2,4,4,1,2]"
   ]
  },
  {
   "cell_type": "code",
   "execution_count": 28,
   "metadata": {},
   "outputs": [],
   "source": [
    "df = pd.DataFrame({'datum': datelist, 'novi_pozitivni':novi, 'vkupno_novi': np.zeros(len(novi)), 'izleceni': izleceni,'vkupno_izleceni': np.zeros(len(novi)), 'pocinati' : pocinati, 'vkupno_pocinati': np.zeros(len(novi)), 'active': np.zeros(len(novi))})"
   ]
  },
  {
   "cell_type": "code",
   "execution_count": 29,
   "metadata": {},
   "outputs": [
    {
     "name": "stderr",
     "output_type": "stream",
     "text": [
      "/home/sinisha/miniconda3/lib/python3.6/site-packages/ipykernel_launcher.py:10: SettingWithCopyWarning: \n",
      "A value is trying to be set on a copy of a slice from a DataFrame\n",
      "\n",
      "See the caveats in the documentation: https://pandas.pydata.org/pandas-docs/stable/user_guide/indexing.html#returning-a-view-versus-a-copy\n",
      "  # Remove the CWD from sys.path while we load stuff.\n",
      "/home/sinisha/miniconda3/lib/python3.6/site-packages/ipykernel_launcher.py:11: SettingWithCopyWarning: \n",
      "A value is trying to be set on a copy of a slice from a DataFrame\n",
      "\n",
      "See the caveats in the documentation: https://pandas.pydata.org/pandas-docs/stable/user_guide/indexing.html#returning-a-view-versus-a-copy\n",
      "  # This is added back by InteractiveShellApp.init_path()\n",
      "/home/sinisha/miniconda3/lib/python3.6/site-packages/ipykernel_launcher.py:12: SettingWithCopyWarning: \n",
      "A value is trying to be set on a copy of a slice from a DataFrame\n",
      "\n",
      "See the caveats in the documentation: https://pandas.pydata.org/pandas-docs/stable/user_guide/indexing.html#returning-a-view-versus-a-copy\n",
      "  if sys.path[0] == '':\n",
      "/home/sinisha/miniconda3/lib/python3.6/site-packages/ipykernel_launcher.py:13: SettingWithCopyWarning: \n",
      "A value is trying to be set on a copy of a slice from a DataFrame\n",
      "\n",
      "See the caveats in the documentation: https://pandas.pydata.org/pandas-docs/stable/user_guide/indexing.html#returning-a-view-versus-a-copy\n",
      "  del sys.path[0]\n"
     ]
    }
   ],
   "source": [
    "vkupno_novi = 0\n",
    "vkupno_izleceni = 0\n",
    "vkupno_pocinati = 0\n",
    "active = 0\n",
    "for i in range(len(novi)):\n",
    "    vkupno_novi = vkupno_novi + df['novi_pozitivni'][i]\n",
    "    vkupno_izleceni = vkupno_izleceni + df['izleceni'][i]\n",
    "    vkupno_pocinati = vkupno_pocinati + df['pocinati'][i]\n",
    "    active = vkupno_novi - (vkupno_izleceni+vkupno_pocinati)\n",
    "    df['vkupno_novi'][i] = vkupno_novi\n",
    "    df['vkupno_izleceni'][i] = vkupno_izleceni\n",
    "    df['vkupno_pocinati'][i] = vkupno_pocinati\n",
    "    df['active'][i] = active\n",
    "df['vkupno_novi'] = df['vkupno_novi'].astype(int)\n",
    "df['vkupno_izleceni'] = df['vkupno_izleceni'].astype(int)\n",
    "df['vkupno_pocinati'] = df['vkupno_pocinati'].astype(int)\n",
    "df['active'] = df['active'].astype(int)"
   ]
  },
  {
   "cell_type": "code",
   "execution_count": 30,
   "metadata": {
    "scrolled": true
   },
   "outputs": [
    {
     "data": {
      "text/html": [
       "<div>\n",
       "<style scoped>\n",
       "    .dataframe tbody tr th:only-of-type {\n",
       "        vertical-align: middle;\n",
       "    }\n",
       "\n",
       "    .dataframe tbody tr th {\n",
       "        vertical-align: top;\n",
       "    }\n",
       "\n",
       "    .dataframe thead th {\n",
       "        text-align: right;\n",
       "    }\n",
       "</style>\n",
       "<table border=\"1\" class=\"dataframe\">\n",
       "  <thead>\n",
       "    <tr style=\"text-align: right;\">\n",
       "      <th></th>\n",
       "      <th>datum</th>\n",
       "      <th>novi_pozitivni</th>\n",
       "      <th>vkupno_novi</th>\n",
       "      <th>izleceni</th>\n",
       "      <th>vkupno_izleceni</th>\n",
       "      <th>pocinati</th>\n",
       "      <th>vkupno_pocinati</th>\n",
       "      <th>active</th>\n",
       "    </tr>\n",
       "  </thead>\n",
       "  <tbody>\n",
       "    <tr>\n",
       "      <th>63</th>\n",
       "      <td>2020-04-29</td>\n",
       "      <td>21</td>\n",
       "      <td>1439</td>\n",
       "      <td>38</td>\n",
       "      <td>627</td>\n",
       "      <td>2</td>\n",
       "      <td>73</td>\n",
       "      <td>739</td>\n",
       "    </tr>\n",
       "    <tr>\n",
       "      <th>64</th>\n",
       "      <td>2020-04-30</td>\n",
       "      <td>23</td>\n",
       "      <td>1462</td>\n",
       "      <td>111</td>\n",
       "      <td>738</td>\n",
       "      <td>4</td>\n",
       "      <td>77</td>\n",
       "      <td>647</td>\n",
       "    </tr>\n",
       "    <tr>\n",
       "      <th>65</th>\n",
       "      <td>2020-05-01</td>\n",
       "      <td>29</td>\n",
       "      <td>1491</td>\n",
       "      <td>69</td>\n",
       "      <td>807</td>\n",
       "      <td>4</td>\n",
       "      <td>81</td>\n",
       "      <td>603</td>\n",
       "    </tr>\n",
       "    <tr>\n",
       "      <th>66</th>\n",
       "      <td>2020-05-02</td>\n",
       "      <td>15</td>\n",
       "      <td>1506</td>\n",
       "      <td>45</td>\n",
       "      <td>852</td>\n",
       "      <td>1</td>\n",
       "      <td>82</td>\n",
       "      <td>572</td>\n",
       "    </tr>\n",
       "    <tr>\n",
       "      <th>67</th>\n",
       "      <td>2020-05-03</td>\n",
       "      <td>5</td>\n",
       "      <td>1511</td>\n",
       "      <td>93</td>\n",
       "      <td>945</td>\n",
       "      <td>2</td>\n",
       "      <td>84</td>\n",
       "      <td>482</td>\n",
       "    </tr>\n",
       "  </tbody>\n",
       "</table>\n",
       "</div>"
      ],
      "text/plain": [
       "        datum  novi_pozitivni  vkupno_novi  izleceni  vkupno_izleceni  \\\n",
       "63 2020-04-29              21         1439        38              627   \n",
       "64 2020-04-30              23         1462       111              738   \n",
       "65 2020-05-01              29         1491        69              807   \n",
       "66 2020-05-02              15         1506        45              852   \n",
       "67 2020-05-03               5         1511        93              945   \n",
       "\n",
       "    pocinati  vkupno_pocinati  active  \n",
       "63         2               73     739  \n",
       "64         4               77     647  \n",
       "65         4               81     603  \n",
       "66         1               82     572  \n",
       "67         2               84     482  "
      ]
     },
     "execution_count": 30,
     "metadata": {},
     "output_type": "execute_result"
    }
   ],
   "source": [
    "df.tail()"
   ]
  },
  {
   "cell_type": "code",
   "execution_count": 25,
   "metadata": {},
   "outputs": [],
   "source": [
    "df.to_csv('corona_north_macedonia.csv',index=False)"
   ]
  },
  {
   "cell_type": "code",
   "execution_count": null,
   "metadata": {},
   "outputs": [],
   "source": []
  },
  {
   "cell_type": "code",
   "execution_count": null,
   "metadata": {},
   "outputs": [],
   "source": []
  }
 ],
 "metadata": {
  "kernelspec": {
   "display_name": "Python 3",
   "language": "python",
   "name": "python3"
  },
  "language_info": {
   "codemirror_mode": {
    "name": "ipython",
    "version": 3
   },
   "file_extension": ".py",
   "mimetype": "text/x-python",
   "name": "python",
   "nbconvert_exporter": "python",
   "pygments_lexer": "ipython3",
   "version": "3.6.8"
  }
 },
 "nbformat": 4,
 "nbformat_minor": 2
}
