{
 "cells": [
  {
   "cell_type": "code",
   "execution_count": 1,
   "metadata": {},
   "outputs": [],
   "source": [
    "import numpy as np\n",
    "import pandas as pd\n",
    "import matplotlib.pyplot as plt\n",
    "import seaborn as sns\n",
    "from scipy.optimize import curve_fit\n",
    "%matplotlib inline"
   ]
  },
  {
   "cell_type": "code",
   "execution_count": 2,
   "metadata": {},
   "outputs": [],
   "source": [
    "datelist = pd.date_range(start=\"26-02-2020\",periods = 58).tolist()"
   ]
  },
  {
   "cell_type": "code",
   "execution_count": 3,
   "metadata": {},
   "outputs": [
    {
     "data": {
      "text/plain": [
       "58"
      ]
     },
     "execution_count": 3,
     "metadata": {},
     "output_type": "execute_result"
    }
   ],
   "source": [
    "len(datelist)"
   ]
  },
  {
   "cell_type": "code",
   "execution_count": 4,
   "metadata": {},
   "outputs": [],
   "source": [
    "novi = [1, 0, 0, 0, 0, 0, 0, 0, 0, 2, 0, 1, 3, 0, 1, 0, 4, 6, 0, 5, 8, 11, 6, 28, 9, 29, 22, 12, 29, 24, 18, 22, 18, 26, 44, 25,\n",
    "       30,46,53,72,15,29,18,46,48,49,68,26,54,66,107,36,53,37,18, 6,28, 41]"
   ]
  },
  {
   "cell_type": "code",
   "execution_count": 5,
   "metadata": {},
   "outputs": [],
   "source": [
    "izleceni = [0, 0, 0, 0, 0, 0, 0, 0, 0, 0, 0, 0, 0, 0, 0, 0, 0, 0, 0, 0, 1, 0, 0, 0, 0, 0, 0, 0, 0, 2, 0, 0, 0, 9, 0, 5, 0, \n",
    "           3,0,3,7,0,5,2,4,0,0,3,42,12,23,18,25,15,21,24, 48,29]"
   ]
  },
  {
   "cell_type": "code",
   "execution_count": 6,
   "metadata": {},
   "outputs": [],
   "source": [
    "pocinati = [0, 0, 0, 0, 0, 0, 0, 0, 0, 0, 0, 0, 0, 0, 0, 0, 0, 0, 0, 0, 0, 0, 0, 0, 0, 1, 1, 0, 1, 0, 0, 1, 2, 1, 2, 2, 0,\n",
    "           1,5,1,3,5,3,1,2,2,0,4,6,1,1,3,0,2,3,1,1,0]"
   ]
  },
  {
   "cell_type": "code",
   "execution_count": 7,
   "metadata": {},
   "outputs": [],
   "source": [
    "df = pd.DataFrame({'datum': datelist, 'novi_pozitivni':novi, 'vkupno_novi': np.zeros(len(novi)), 'izleceni': izleceni,'vkupno_izleceni': np.zeros(len(novi)), 'pocinati' : pocinati, 'vkupno_pocinati': np.zeros(len(novi)), 'active': np.zeros(len(novi))})"
   ]
  },
  {
   "cell_type": "code",
   "execution_count": 8,
   "metadata": {},
   "outputs": [
    {
     "name": "stderr",
     "output_type": "stream",
     "text": [
      "/home/sinisha/miniconda3/lib/python3.6/site-packages/ipykernel_launcher.py:10: SettingWithCopyWarning: \n",
      "A value is trying to be set on a copy of a slice from a DataFrame\n",
      "\n",
      "See the caveats in the documentation: https://pandas.pydata.org/pandas-docs/stable/user_guide/indexing.html#returning-a-view-versus-a-copy\n",
      "  # Remove the CWD from sys.path while we load stuff.\n",
      "/home/sinisha/miniconda3/lib/python3.6/site-packages/ipykernel_launcher.py:11: SettingWithCopyWarning: \n",
      "A value is trying to be set on a copy of a slice from a DataFrame\n",
      "\n",
      "See the caveats in the documentation: https://pandas.pydata.org/pandas-docs/stable/user_guide/indexing.html#returning-a-view-versus-a-copy\n",
      "  # This is added back by InteractiveShellApp.init_path()\n",
      "/home/sinisha/miniconda3/lib/python3.6/site-packages/ipykernel_launcher.py:12: SettingWithCopyWarning: \n",
      "A value is trying to be set on a copy of a slice from a DataFrame\n",
      "\n",
      "See the caveats in the documentation: https://pandas.pydata.org/pandas-docs/stable/user_guide/indexing.html#returning-a-view-versus-a-copy\n",
      "  if sys.path[0] == '':\n",
      "/home/sinisha/miniconda3/lib/python3.6/site-packages/ipykernel_launcher.py:13: SettingWithCopyWarning: \n",
      "A value is trying to be set on a copy of a slice from a DataFrame\n",
      "\n",
      "See the caveats in the documentation: https://pandas.pydata.org/pandas-docs/stable/user_guide/indexing.html#returning-a-view-versus-a-copy\n",
      "  del sys.path[0]\n"
     ]
    }
   ],
   "source": [
    "vkupno_novi = 0\n",
    "vkupno_izleceni = 0\n",
    "vkupno_pocinati = 0\n",
    "active = 0\n",
    "for i in range(len(novi)):\n",
    "    vkupno_novi = vkupno_novi + df['novi_pozitivni'][i]\n",
    "    vkupno_izleceni = vkupno_izleceni + df['izleceni'][i]\n",
    "    vkupno_pocinati = vkupno_pocinati + df['pocinati'][i]\n",
    "    active = vkupno_novi - (vkupno_izleceni+vkupno_pocinati)\n",
    "    df['vkupno_novi'][i] = vkupno_novi\n",
    "    df['vkupno_izleceni'][i] = vkupno_izleceni\n",
    "    df['vkupno_pocinati'][i] = vkupno_pocinati\n",
    "    df['active'][i] = active\n",
    "df['vkupno_novi'] = df['vkupno_novi'].astype(int)\n",
    "df['vkupno_izleceni'] = df['vkupno_izleceni'].astype(int)\n",
    "df['vkupno_pocinati'] = df['vkupno_pocinati'].astype(int)\n",
    "df['active'] = df['active'].astype(int)"
   ]
  },
  {
   "cell_type": "code",
   "execution_count": 9,
   "metadata": {
    "scrolled": true
   },
   "outputs": [
    {
     "data": {
      "text/html": [
       "<div>\n",
       "<style scoped>\n",
       "    .dataframe tbody tr th:only-of-type {\n",
       "        vertical-align: middle;\n",
       "    }\n",
       "\n",
       "    .dataframe tbody tr th {\n",
       "        vertical-align: top;\n",
       "    }\n",
       "\n",
       "    .dataframe thead th {\n",
       "        text-align: right;\n",
       "    }\n",
       "</style>\n",
       "<table border=\"1\" class=\"dataframe\">\n",
       "  <thead>\n",
       "    <tr style=\"text-align: right;\">\n",
       "      <th></th>\n",
       "      <th>datum</th>\n",
       "      <th>novi_pozitivni</th>\n",
       "      <th>vkupno_novi</th>\n",
       "      <th>izleceni</th>\n",
       "      <th>vkupno_izleceni</th>\n",
       "      <th>pocinati</th>\n",
       "      <th>vkupno_pocinati</th>\n",
       "      <th>active</th>\n",
       "    </tr>\n",
       "  </thead>\n",
       "  <tbody>\n",
       "    <tr>\n",
       "      <th>53</th>\n",
       "      <td>2020-04-19</td>\n",
       "      <td>37</td>\n",
       "      <td>1207</td>\n",
       "      <td>15</td>\n",
       "      <td>179</td>\n",
       "      <td>2</td>\n",
       "      <td>51</td>\n",
       "      <td>977</td>\n",
       "    </tr>\n",
       "    <tr>\n",
       "      <th>54</th>\n",
       "      <td>2020-04-20</td>\n",
       "      <td>18</td>\n",
       "      <td>1225</td>\n",
       "      <td>21</td>\n",
       "      <td>200</td>\n",
       "      <td>3</td>\n",
       "      <td>54</td>\n",
       "      <td>971</td>\n",
       "    </tr>\n",
       "    <tr>\n",
       "      <th>55</th>\n",
       "      <td>2020-04-21</td>\n",
       "      <td>6</td>\n",
       "      <td>1231</td>\n",
       "      <td>24</td>\n",
       "      <td>224</td>\n",
       "      <td>1</td>\n",
       "      <td>55</td>\n",
       "      <td>952</td>\n",
       "    </tr>\n",
       "    <tr>\n",
       "      <th>56</th>\n",
       "      <td>2020-04-22</td>\n",
       "      <td>28</td>\n",
       "      <td>1259</td>\n",
       "      <td>48</td>\n",
       "      <td>272</td>\n",
       "      <td>1</td>\n",
       "      <td>56</td>\n",
       "      <td>931</td>\n",
       "    </tr>\n",
       "    <tr>\n",
       "      <th>57</th>\n",
       "      <td>2020-04-23</td>\n",
       "      <td>41</td>\n",
       "      <td>1300</td>\n",
       "      <td>29</td>\n",
       "      <td>301</td>\n",
       "      <td>0</td>\n",
       "      <td>56</td>\n",
       "      <td>943</td>\n",
       "    </tr>\n",
       "  </tbody>\n",
       "</table>\n",
       "</div>"
      ],
      "text/plain": [
       "        datum  novi_pozitivni  vkupno_novi  izleceni  vkupno_izleceni  \\\n",
       "53 2020-04-19              37         1207        15              179   \n",
       "54 2020-04-20              18         1225        21              200   \n",
       "55 2020-04-21               6         1231        24              224   \n",
       "56 2020-04-22              28         1259        48              272   \n",
       "57 2020-04-23              41         1300        29              301   \n",
       "\n",
       "    pocinati  vkupno_pocinati  active  \n",
       "53         2               51     977  \n",
       "54         3               54     971  \n",
       "55         1               55     952  \n",
       "56         1               56     931  \n",
       "57         0               56     943  "
      ]
     },
     "execution_count": 9,
     "metadata": {},
     "output_type": "execute_result"
    }
   ],
   "source": [
    "df.tail()"
   ]
  },
  {
   "cell_type": "code",
   "execution_count": 10,
   "metadata": {},
   "outputs": [],
   "source": [
    "df.to_csv('corona_north_macedonia.csv',index=False)"
   ]
  },
  {
   "cell_type": "code",
   "execution_count": null,
   "metadata": {},
   "outputs": [],
   "source": []
  },
  {
   "cell_type": "code",
   "execution_count": null,
   "metadata": {},
   "outputs": [],
   "source": []
  }
 ],
 "metadata": {
  "kernelspec": {
   "display_name": "Python 3",
   "language": "python",
   "name": "python3"
  },
  "language_info": {
   "codemirror_mode": {
    "name": "ipython",
    "version": 3
   },
   "file_extension": ".py",
   "mimetype": "text/x-python",
   "name": "python",
   "nbconvert_exporter": "python",
   "pygments_lexer": "ipython3",
   "version": "3.6.8"
  }
 },
 "nbformat": 4,
 "nbformat_minor": 2
}
