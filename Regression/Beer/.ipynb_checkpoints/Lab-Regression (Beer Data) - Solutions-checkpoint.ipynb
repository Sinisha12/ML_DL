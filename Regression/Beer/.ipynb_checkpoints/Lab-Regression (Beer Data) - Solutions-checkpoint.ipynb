{
 "cells": [
  {
   "cell_type": "markdown",
   "metadata": {},
   "source": [
    "<img src=\"http://datamasters.co/logo/logo_DM_academy-horisontal.png\" alt=\"DataMasters\" width=\"300\" height=\"300\" align=\"left\">"
   ]
  },
  {
   "cell_type": "markdown",
   "metadata": {},
   "source": [
    "# Regression - Lab"
   ]
  },
  {
   "cell_type": "markdown",
   "metadata": {},
   "source": [
    "We are dealing with beer sales data, for approximately 4 years.<br>\n",
    "This is a real data set, provided by Heineken!"
   ]
  },
  {
   "cell_type": "markdown",
   "metadata": {},
   "source": [
    "Data columns: <br>\n",
    "<ul>\n",
    "<li>Week</li>\n",
    "<li>Sales volume</li>\n",
    "<li>Price</li>\n",
    "<li>Promo share</li>\n",
    "<li>Unemployment</li>\n",
    "<li>Economic climate</li>\n",
    "<li>Financial situation</li>\n",
    "<li>Competitors price</li>\n",
    "<li>Competitors promo share</li>\n",
    "<li>Christmas & New Year</li>\n",
    "<li>King's Day</li>\n",
    "<li>Easter</li>\n",
    "<li>Sinterklaas</li>\n",
    "<li>Football</li>\n",
    "<li>Olympic games</li>\n",
    "<li>Social media Sentiment Total</li>\n",
    "<li>Social media P/N ratio</li>\n",
    "<li>Social media (Share of negative mentions)</li>\n",
    "<li>Temperature</li>\n",
    "<li>Precipitation</li>\n",
    "<li>Sunshine duration</li>\n",
    "    </ul>"
   ]
  },
  {
   "cell_type": "code",
   "execution_count": 1,
   "metadata": {},
   "outputs": [],
   "source": [
    "# Read in the dataset\n",
    "# Do not forget to import pandas, numpy, matplotlib and seaborn\n",
    "###\n",
    "# Optionally, you can set:\n",
    "# pd.set_option('display.max_columns', 500)\n",
    "# to view all of the columns from the dataset"
   ]
  },
  {
   "cell_type": "code",
   "execution_count": 2,
   "metadata": {},
   "outputs": [],
   "source": [
    "import pandas as pd\n",
    "import numpy as np\n",
    "import matplotlib.pyplot as plt\n",
    "import seaborn as sns\n",
    "%matplotlib inline\n",
    "pd.set_option('display.max_columns', 500)"
   ]
  },
  {
   "cell_type": "code",
   "execution_count": 3,
   "metadata": {},
   "outputs": [],
   "source": [
    "beer_data = pd.read_excel('Beer_Data.xlsx')"
   ]
  },
  {
   "cell_type": "code",
   "execution_count": 4,
   "metadata": {},
   "outputs": [
    {
     "data": {
      "text/html": [
       "<div>\n",
       "<style scoped>\n",
       "    .dataframe tbody tr th:only-of-type {\n",
       "        vertical-align: middle;\n",
       "    }\n",
       "\n",
       "    .dataframe tbody tr th {\n",
       "        vertical-align: top;\n",
       "    }\n",
       "\n",
       "    .dataframe thead th {\n",
       "        text-align: right;\n",
       "    }\n",
       "</style>\n",
       "<table border=\"1\" class=\"dataframe\">\n",
       "  <thead>\n",
       "    <tr style=\"text-align: right;\">\n",
       "      <th></th>\n",
       "      <th>Week</th>\n",
       "      <th>Sales volume</th>\n",
       "      <th>Price</th>\n",
       "      <th>Promo share</th>\n",
       "      <th>Unemployment</th>\n",
       "      <th>Economic climate</th>\n",
       "      <th>Financial situation</th>\n",
       "      <th>Competitors price</th>\n",
       "      <th>Competitors promo share</th>\n",
       "      <th>Christmas &amp; New Year</th>\n",
       "      <th>King's Day</th>\n",
       "      <th>Easter</th>\n",
       "      <th>Sinterklaas</th>\n",
       "      <th>Football</th>\n",
       "      <th>Olympic games</th>\n",
       "      <th>Social media Sentiment Total</th>\n",
       "      <th>Social media P/N ratio</th>\n",
       "      <th>Social media (Share of negative mentions)</th>\n",
       "      <th>Temperature</th>\n",
       "      <th>Precipitation</th>\n",
       "      <th>Sunshine duration</th>\n",
       "    </tr>\n",
       "  </thead>\n",
       "  <tbody>\n",
       "    <tr>\n",
       "      <th>0</th>\n",
       "      <td>1</td>\n",
       "      <td>3740647.6</td>\n",
       "      <td>1.635016</td>\n",
       "      <td>0.749089</td>\n",
       "      <td>7.000000</td>\n",
       "      <td>4.000000</td>\n",
       "      <td>-17.000000</td>\n",
       "      <td>1.475020</td>\n",
       "      <td>0.532742</td>\n",
       "      <td>1</td>\n",
       "      <td>0</td>\n",
       "      <td>0</td>\n",
       "      <td>0</td>\n",
       "      <td>0</td>\n",
       "      <td>0</td>\n",
       "      <td>49</td>\n",
       "      <td>0.265306</td>\n",
       "      <td>0.081633</td>\n",
       "      <td>4.516176</td>\n",
       "      <td>21.195312</td>\n",
       "      <td>30.459677</td>\n",
       "    </tr>\n",
       "    <tr>\n",
       "      <th>1</th>\n",
       "      <td>2</td>\n",
       "      <td>1557032.4</td>\n",
       "      <td>1.802296</td>\n",
       "      <td>0.381650</td>\n",
       "      <td>7.000000</td>\n",
       "      <td>4.000000</td>\n",
       "      <td>-17.000000</td>\n",
       "      <td>1.627360</td>\n",
       "      <td>0.264413</td>\n",
       "      <td>0</td>\n",
       "      <td>0</td>\n",
       "      <td>0</td>\n",
       "      <td>0</td>\n",
       "      <td>0</td>\n",
       "      <td>0</td>\n",
       "      <td>140</td>\n",
       "      <td>0.164286</td>\n",
       "      <td>0.071429</td>\n",
       "      <td>5.840336</td>\n",
       "      <td>29.133929</td>\n",
       "      <td>15.534562</td>\n",
       "    </tr>\n",
       "    <tr>\n",
       "      <th>2</th>\n",
       "      <td>3</td>\n",
       "      <td>1547997.2</td>\n",
       "      <td>1.965868</td>\n",
       "      <td>0.343765</td>\n",
       "      <td>7.192916</td>\n",
       "      <td>4.828826</td>\n",
       "      <td>-16.716865</td>\n",
       "      <td>1.501296</td>\n",
       "      <td>0.522655</td>\n",
       "      <td>0</td>\n",
       "      <td>0</td>\n",
       "      <td>0</td>\n",
       "      <td>0</td>\n",
       "      <td>0</td>\n",
       "      <td>0</td>\n",
       "      <td>231</td>\n",
       "      <td>0.398268</td>\n",
       "      <td>0.017316</td>\n",
       "      <td>5.547479</td>\n",
       "      <td>59.700893</td>\n",
       "      <td>17.838710</td>\n",
       "    </tr>\n",
       "    <tr>\n",
       "      <th>3</th>\n",
       "      <td>4</td>\n",
       "      <td>2565525.7</td>\n",
       "      <td>1.630730</td>\n",
       "      <td>0.664251</td>\n",
       "      <td>7.368666</td>\n",
       "      <td>5.526122</td>\n",
       "      <td>-16.446983</td>\n",
       "      <td>1.576631</td>\n",
       "      <td>0.463989</td>\n",
       "      <td>0</td>\n",
       "      <td>0</td>\n",
       "      <td>0</td>\n",
       "      <td>0</td>\n",
       "      <td>0</td>\n",
       "      <td>0</td>\n",
       "      <td>114</td>\n",
       "      <td>0.157895</td>\n",
       "      <td>0.140351</td>\n",
       "      <td>0.606723</td>\n",
       "      <td>10.620536</td>\n",
       "      <td>19.198157</td>\n",
       "    </tr>\n",
       "    <tr>\n",
       "      <th>4</th>\n",
       "      <td>5</td>\n",
       "      <td>1665819.4</td>\n",
       "      <td>1.852473</td>\n",
       "      <td>0.414259</td>\n",
       "      <td>7.510083</td>\n",
       "      <td>5.960357</td>\n",
       "      <td>-16.203610</td>\n",
       "      <td>1.568776</td>\n",
       "      <td>0.527898</td>\n",
       "      <td>0</td>\n",
       "      <td>0</td>\n",
       "      <td>0</td>\n",
       "      <td>0</td>\n",
       "      <td>0</td>\n",
       "      <td>0</td>\n",
       "      <td>92</td>\n",
       "      <td>0.315217</td>\n",
       "      <td>0.108696</td>\n",
       "      <td>3.342017</td>\n",
       "      <td>33.973214</td>\n",
       "      <td>22.391705</td>\n",
       "    </tr>\n",
       "  </tbody>\n",
       "</table>\n",
       "</div>"
      ],
      "text/plain": [
       "   Week  Sales volume     Price  Promo share  Unemployment  Economic climate  \\\n",
       "0     1     3740647.6  1.635016     0.749089      7.000000          4.000000   \n",
       "1     2     1557032.4  1.802296     0.381650      7.000000          4.000000   \n",
       "2     3     1547997.2  1.965868     0.343765      7.192916          4.828826   \n",
       "3     4     2565525.7  1.630730     0.664251      7.368666          5.526122   \n",
       "4     5     1665819.4  1.852473     0.414259      7.510083          5.960357   \n",
       "\n",
       "   Financial situation  Competitors price  Competitors promo share  \\\n",
       "0           -17.000000           1.475020                 0.532742   \n",
       "1           -17.000000           1.627360                 0.264413   \n",
       "2           -16.716865           1.501296                 0.522655   \n",
       "3           -16.446983           1.576631                 0.463989   \n",
       "4           -16.203610           1.568776                 0.527898   \n",
       "\n",
       "   Christmas & New Year  King's Day  Easter  Sinterklaas  Football  \\\n",
       "0                     1           0       0            0         0   \n",
       "1                     0           0       0            0         0   \n",
       "2                     0           0       0            0         0   \n",
       "3                     0           0       0            0         0   \n",
       "4                     0           0       0            0         0   \n",
       "\n",
       "   Olympic games  Social media Sentiment Total  Social media P/N ratio  \\\n",
       "0              0                            49                0.265306   \n",
       "1              0                           140                0.164286   \n",
       "2              0                           231                0.398268   \n",
       "3              0                           114                0.157895   \n",
       "4              0                            92                0.315217   \n",
       "\n",
       "   Social media (Share of negative mentions)  Temperature  Precipitation  \\\n",
       "0                                   0.081633     4.516176      21.195312   \n",
       "1                                   0.071429     5.840336      29.133929   \n",
       "2                                   0.017316     5.547479      59.700893   \n",
       "3                                   0.140351     0.606723      10.620536   \n",
       "4                                   0.108696     3.342017      33.973214   \n",
       "\n",
       "   Sunshine duration  \n",
       "0          30.459677  \n",
       "1          15.534562  \n",
       "2          17.838710  \n",
       "3          19.198157  \n",
       "4          22.391705  "
      ]
     },
     "execution_count": 4,
     "metadata": {},
     "output_type": "execute_result"
    }
   ],
   "source": [
    "beer_data.head()"
   ]
  },
  {
   "cell_type": "code",
   "execution_count": 5,
   "metadata": {},
   "outputs": [],
   "source": [
    "# Print out how many rows/columns the dataset has"
   ]
  },
  {
   "cell_type": "code",
   "execution_count": 6,
   "metadata": {},
   "outputs": [
    {
     "name": "stdout",
     "output_type": "stream",
     "text": [
      "Dataset: 201 rows and 21 columns\n"
     ]
    }
   ],
   "source": [
    "print('Dataset: %d rows and %d columns' % (beer_data.shape[0], beer_data.shape[1]))"
   ]
  },
  {
   "cell_type": "code",
   "execution_count": 7,
   "metadata": {},
   "outputs": [],
   "source": [
    "# Please use describe to git a better grip of the data"
   ]
  },
  {
   "cell_type": "code",
   "execution_count": 8,
   "metadata": {},
   "outputs": [
    {
     "data": {
      "text/html": [
       "<div>\n",
       "<style scoped>\n",
       "    .dataframe tbody tr th:only-of-type {\n",
       "        vertical-align: middle;\n",
       "    }\n",
       "\n",
       "    .dataframe tbody tr th {\n",
       "        vertical-align: top;\n",
       "    }\n",
       "\n",
       "    .dataframe thead th {\n",
       "        text-align: right;\n",
       "    }\n",
       "</style>\n",
       "<table border=\"1\" class=\"dataframe\">\n",
       "  <thead>\n",
       "    <tr style=\"text-align: right;\">\n",
       "      <th></th>\n",
       "      <th>Week</th>\n",
       "      <th>Sales volume</th>\n",
       "      <th>Price</th>\n",
       "      <th>Promo share</th>\n",
       "      <th>Unemployment</th>\n",
       "      <th>Economic climate</th>\n",
       "      <th>Financial situation</th>\n",
       "      <th>Competitors price</th>\n",
       "      <th>Competitors promo share</th>\n",
       "      <th>Christmas &amp; New Year</th>\n",
       "      <th>King's Day</th>\n",
       "      <th>Easter</th>\n",
       "      <th>Sinterklaas</th>\n",
       "      <th>Football</th>\n",
       "      <th>Olympic games</th>\n",
       "      <th>Social media Sentiment Total</th>\n",
       "      <th>Social media P/N ratio</th>\n",
       "      <th>Social media (Share of negative mentions)</th>\n",
       "      <th>Temperature</th>\n",
       "      <th>Precipitation</th>\n",
       "      <th>Sunshine duration</th>\n",
       "    </tr>\n",
       "  </thead>\n",
       "  <tbody>\n",
       "    <tr>\n",
       "      <th>count</th>\n",
       "      <td>201.000000</td>\n",
       "      <td>2.010000e+02</td>\n",
       "      <td>201.000000</td>\n",
       "      <td>201.000000</td>\n",
       "      <td>201.000000</td>\n",
       "      <td>201.000000</td>\n",
       "      <td>201.000000</td>\n",
       "      <td>201.000000</td>\n",
       "      <td>201.000000</td>\n",
       "      <td>201.000000</td>\n",
       "      <td>201.000000</td>\n",
       "      <td>201.000000</td>\n",
       "      <td>201.000000</td>\n",
       "      <td>201.000000</td>\n",
       "      <td>201.000000</td>\n",
       "      <td>201.000000</td>\n",
       "      <td>201.000000</td>\n",
       "      <td>201.000000</td>\n",
       "      <td>201.000000</td>\n",
       "      <td>201.000000</td>\n",
       "      <td>201.000000</td>\n",
       "    </tr>\n",
       "    <tr>\n",
       "      <th>mean</th>\n",
       "      <td>101.000000</td>\n",
       "      <td>2.620822e+06</td>\n",
       "      <td>1.851268</td>\n",
       "      <td>0.608532</td>\n",
       "      <td>5.540894</td>\n",
       "      <td>32.904976</td>\n",
       "      <td>-3.987204</td>\n",
       "      <td>1.600605</td>\n",
       "      <td>0.577814</td>\n",
       "      <td>0.029851</td>\n",
       "      <td>0.019900</td>\n",
       "      <td>0.039801</td>\n",
       "      <td>0.014925</td>\n",
       "      <td>0.243781</td>\n",
       "      <td>0.024876</td>\n",
       "      <td>168.850746</td>\n",
       "      <td>0.230414</td>\n",
       "      <td>0.106780</td>\n",
       "      <td>11.057093</td>\n",
       "      <td>16.873954</td>\n",
       "      <td>53.188036</td>\n",
       "    </tr>\n",
       "    <tr>\n",
       "      <th>std</th>\n",
       "      <td>58.167861</td>\n",
       "      <td>8.298701e+05</td>\n",
       "      <td>0.167413</td>\n",
       "      <td>0.164349</td>\n",
       "      <td>1.196461</td>\n",
       "      <td>12.743076</td>\n",
       "      <td>5.411798</td>\n",
       "      <td>0.054777</td>\n",
       "      <td>0.071822</td>\n",
       "      <td>0.170600</td>\n",
       "      <td>0.140007</td>\n",
       "      <td>0.195979</td>\n",
       "      <td>0.121557</td>\n",
       "      <td>0.430434</td>\n",
       "      <td>0.156135</td>\n",
       "      <td>145.438157</td>\n",
       "      <td>0.093403</td>\n",
       "      <td>0.077395</td>\n",
       "      <td>5.838264</td>\n",
       "      <td>13.407088</td>\n",
       "      <td>27.890475</td>\n",
       "    </tr>\n",
       "    <tr>\n",
       "      <th>min</th>\n",
       "      <td>1.000000</td>\n",
       "      <td>1.040184e+06</td>\n",
       "      <td>1.421901</td>\n",
       "      <td>0.131021</td>\n",
       "      <td>3.458322</td>\n",
       "      <td>4.000000</td>\n",
       "      <td>-17.000000</td>\n",
       "      <td>1.470023</td>\n",
       "      <td>0.264413</td>\n",
       "      <td>0.000000</td>\n",
       "      <td>0.000000</td>\n",
       "      <td>0.000000</td>\n",
       "      <td>0.000000</td>\n",
       "      <td>0.000000</td>\n",
       "      <td>0.000000</td>\n",
       "      <td>34.000000</td>\n",
       "      <td>0.061093</td>\n",
       "      <td>0.007449</td>\n",
       "      <td>-2.965126</td>\n",
       "      <td>0.000000</td>\n",
       "      <td>4.387097</td>\n",
       "    </tr>\n",
       "    <tr>\n",
       "      <th>25%</th>\n",
       "      <td>51.000000</td>\n",
       "      <td>2.026493e+06</td>\n",
       "      <td>1.732564</td>\n",
       "      <td>0.513892</td>\n",
       "      <td>4.460095</td>\n",
       "      <td>24.506678</td>\n",
       "      <td>-9.000000</td>\n",
       "      <td>1.563279</td>\n",
       "      <td>0.533905</td>\n",
       "      <td>0.000000</td>\n",
       "      <td>0.000000</td>\n",
       "      <td>0.000000</td>\n",
       "      <td>0.000000</td>\n",
       "      <td>0.000000</td>\n",
       "      <td>0.000000</td>\n",
       "      <td>90.000000</td>\n",
       "      <td>0.161074</td>\n",
       "      <td>0.061728</td>\n",
       "      <td>6.153680</td>\n",
       "      <td>6.486607</td>\n",
       "      <td>30.459677</td>\n",
       "    </tr>\n",
       "    <tr>\n",
       "      <th>50%</th>\n",
       "      <td>101.000000</td>\n",
       "      <td>2.496248e+06</td>\n",
       "      <td>1.844800</td>\n",
       "      <td>0.614391</td>\n",
       "      <td>5.591981</td>\n",
       "      <td>35.895362</td>\n",
       "      <td>-1.077617</td>\n",
       "      <td>1.600498</td>\n",
       "      <td>0.585179</td>\n",
       "      <td>0.000000</td>\n",
       "      <td>0.000000</td>\n",
       "      <td>0.000000</td>\n",
       "      <td>0.000000</td>\n",
       "      <td>0.000000</td>\n",
       "      <td>0.000000</td>\n",
       "      <td>121.000000</td>\n",
       "      <td>0.225275</td>\n",
       "      <td>0.086957</td>\n",
       "      <td>11.132773</td>\n",
       "      <td>13.504464</td>\n",
       "      <td>51.576037</td>\n",
       "    </tr>\n",
       "    <tr>\n",
       "      <th>75%</th>\n",
       "      <td>151.000000</td>\n",
       "      <td>3.198403e+06</td>\n",
       "      <td>1.945961</td>\n",
       "      <td>0.760445</td>\n",
       "      <td>6.655094</td>\n",
       "      <td>43.352982</td>\n",
       "      <td>0.000000</td>\n",
       "      <td>1.639781</td>\n",
       "      <td>0.625106</td>\n",
       "      <td>0.000000</td>\n",
       "      <td>0.000000</td>\n",
       "      <td>0.000000</td>\n",
       "      <td>0.000000</td>\n",
       "      <td>0.000000</td>\n",
       "      <td>0.000000</td>\n",
       "      <td>185.000000</td>\n",
       "      <td>0.281553</td>\n",
       "      <td>0.131868</td>\n",
       "      <td>16.087395</td>\n",
       "      <td>25.303571</td>\n",
       "      <td>73.317972</td>\n",
       "    </tr>\n",
       "    <tr>\n",
       "      <th>max</th>\n",
       "      <td>201.000000</td>\n",
       "      <td>5.217514e+06</td>\n",
       "      <td>2.257560</td>\n",
       "      <td>0.877305</td>\n",
       "      <td>7.627481</td>\n",
       "      <td>50.000000</td>\n",
       "      <td>4.036834</td>\n",
       "      <td>1.769975</td>\n",
       "      <td>0.734227</td>\n",
       "      <td>1.000000</td>\n",
       "      <td>1.000000</td>\n",
       "      <td>1.000000</td>\n",
       "      <td>1.000000</td>\n",
       "      <td>1.000000</td>\n",
       "      <td>1.000000</td>\n",
       "      <td>986.000000</td>\n",
       "      <td>0.675439</td>\n",
       "      <td>0.583007</td>\n",
       "      <td>24.084454</td>\n",
       "      <td>59.700893</td>\n",
       "      <td>132.156682</td>\n",
       "    </tr>\n",
       "  </tbody>\n",
       "</table>\n",
       "</div>"
      ],
      "text/plain": [
       "             Week  Sales volume       Price  Promo share  Unemployment  \\\n",
       "count  201.000000  2.010000e+02  201.000000   201.000000    201.000000   \n",
       "mean   101.000000  2.620822e+06    1.851268     0.608532      5.540894   \n",
       "std     58.167861  8.298701e+05    0.167413     0.164349      1.196461   \n",
       "min      1.000000  1.040184e+06    1.421901     0.131021      3.458322   \n",
       "25%     51.000000  2.026493e+06    1.732564     0.513892      4.460095   \n",
       "50%    101.000000  2.496248e+06    1.844800     0.614391      5.591981   \n",
       "75%    151.000000  3.198403e+06    1.945961     0.760445      6.655094   \n",
       "max    201.000000  5.217514e+06    2.257560     0.877305      7.627481   \n",
       "\n",
       "       Economic climate  Financial situation  Competitors price  \\\n",
       "count        201.000000           201.000000         201.000000   \n",
       "mean          32.904976            -3.987204           1.600605   \n",
       "std           12.743076             5.411798           0.054777   \n",
       "min            4.000000           -17.000000           1.470023   \n",
       "25%           24.506678            -9.000000           1.563279   \n",
       "50%           35.895362            -1.077617           1.600498   \n",
       "75%           43.352982             0.000000           1.639781   \n",
       "max           50.000000             4.036834           1.769975   \n",
       "\n",
       "       Competitors promo share  Christmas & New Year  King's Day      Easter  \\\n",
       "count               201.000000            201.000000  201.000000  201.000000   \n",
       "mean                  0.577814              0.029851    0.019900    0.039801   \n",
       "std                   0.071822              0.170600    0.140007    0.195979   \n",
       "min                   0.264413              0.000000    0.000000    0.000000   \n",
       "25%                   0.533905              0.000000    0.000000    0.000000   \n",
       "50%                   0.585179              0.000000    0.000000    0.000000   \n",
       "75%                   0.625106              0.000000    0.000000    0.000000   \n",
       "max                   0.734227              1.000000    1.000000    1.000000   \n",
       "\n",
       "       Sinterklaas    Football  Olympic games  Social media Sentiment Total  \\\n",
       "count   201.000000  201.000000     201.000000                    201.000000   \n",
       "mean      0.014925    0.243781       0.024876                    168.850746   \n",
       "std       0.121557    0.430434       0.156135                    145.438157   \n",
       "min       0.000000    0.000000       0.000000                     34.000000   \n",
       "25%       0.000000    0.000000       0.000000                     90.000000   \n",
       "50%       0.000000    0.000000       0.000000                    121.000000   \n",
       "75%       0.000000    0.000000       0.000000                    185.000000   \n",
       "max       1.000000    1.000000       1.000000                    986.000000   \n",
       "\n",
       "       Social media P/N ratio  Social media (Share of negative mentions)  \\\n",
       "count              201.000000                                 201.000000   \n",
       "mean                 0.230414                                   0.106780   \n",
       "std                  0.093403                                   0.077395   \n",
       "min                  0.061093                                   0.007449   \n",
       "25%                  0.161074                                   0.061728   \n",
       "50%                  0.225275                                   0.086957   \n",
       "75%                  0.281553                                   0.131868   \n",
       "max                  0.675439                                   0.583007   \n",
       "\n",
       "       Temperature  Precipitation  Sunshine duration  \n",
       "count   201.000000     201.000000         201.000000  \n",
       "mean     11.057093      16.873954          53.188036  \n",
       "std       5.838264      13.407088          27.890475  \n",
       "min      -2.965126       0.000000           4.387097  \n",
       "25%       6.153680       6.486607          30.459677  \n",
       "50%      11.132773      13.504464          51.576037  \n",
       "75%      16.087395      25.303571          73.317972  \n",
       "max      24.084454      59.700893         132.156682  "
      ]
     },
     "execution_count": 8,
     "metadata": {},
     "output_type": "execute_result"
    }
   ],
   "source": [
    "beer_data.describe()"
   ]
  },
  {
   "cell_type": "code",
   "execution_count": 9,
   "metadata": {},
   "outputs": [],
   "source": [
    "# Can you detect the \"dummy\" features?\n",
    "# If so, please create a list named dummies and populate it with the names of dummy columns\n",
    "# Please do not use a for loop"
   ]
  },
  {
   "cell_type": "code",
   "execution_count": 10,
   "metadata": {},
   "outputs": [],
   "source": [
    "# Can we detect dummies just from examining the describe output?\n",
    "dummies = ['Christmas & New Year', \"King's Day\", 'Easter', 'Sinterklaas', 'Football', 'Olympic games']"
   ]
  },
  {
   "cell_type": "code",
   "execution_count": 11,
   "metadata": {},
   "outputs": [],
   "source": [
    "# If you examine the data a bit more closely, you will notice that \"week\" is also a feature\n",
    "# In fact, week should be the index of the dataset\n",
    "# Please set 'Week' to be index of the dataset"
   ]
  },
  {
   "cell_type": "code",
   "execution_count": 12,
   "metadata": {},
   "outputs": [],
   "source": [
    "# Week should be the the index of the data frame\n",
    "beer_data.set_index('Week', inplace=True)"
   ]
  },
  {
   "cell_type": "code",
   "execution_count": 13,
   "metadata": {},
   "outputs": [],
   "source": [
    "# Recheck the head of the data again\n",
    "# Week should now be an index column!"
   ]
  },
  {
   "cell_type": "code",
   "execution_count": 14,
   "metadata": {},
   "outputs": [
    {
     "data": {
      "text/html": [
       "<div>\n",
       "<style scoped>\n",
       "    .dataframe tbody tr th:only-of-type {\n",
       "        vertical-align: middle;\n",
       "    }\n",
       "\n",
       "    .dataframe tbody tr th {\n",
       "        vertical-align: top;\n",
       "    }\n",
       "\n",
       "    .dataframe thead th {\n",
       "        text-align: right;\n",
       "    }\n",
       "</style>\n",
       "<table border=\"1\" class=\"dataframe\">\n",
       "  <thead>\n",
       "    <tr style=\"text-align: right;\">\n",
       "      <th></th>\n",
       "      <th>Sales volume</th>\n",
       "      <th>Price</th>\n",
       "      <th>Promo share</th>\n",
       "      <th>Unemployment</th>\n",
       "      <th>Economic climate</th>\n",
       "      <th>Financial situation</th>\n",
       "      <th>Competitors price</th>\n",
       "      <th>Competitors promo share</th>\n",
       "      <th>Christmas &amp; New Year</th>\n",
       "      <th>King's Day</th>\n",
       "      <th>Easter</th>\n",
       "      <th>Sinterklaas</th>\n",
       "      <th>Football</th>\n",
       "      <th>Olympic games</th>\n",
       "      <th>Social media Sentiment Total</th>\n",
       "      <th>Social media P/N ratio</th>\n",
       "      <th>Social media (Share of negative mentions)</th>\n",
       "      <th>Temperature</th>\n",
       "      <th>Precipitation</th>\n",
       "      <th>Sunshine duration</th>\n",
       "    </tr>\n",
       "    <tr>\n",
       "      <th>Week</th>\n",
       "      <th></th>\n",
       "      <th></th>\n",
       "      <th></th>\n",
       "      <th></th>\n",
       "      <th></th>\n",
       "      <th></th>\n",
       "      <th></th>\n",
       "      <th></th>\n",
       "      <th></th>\n",
       "      <th></th>\n",
       "      <th></th>\n",
       "      <th></th>\n",
       "      <th></th>\n",
       "      <th></th>\n",
       "      <th></th>\n",
       "      <th></th>\n",
       "      <th></th>\n",
       "      <th></th>\n",
       "      <th></th>\n",
       "      <th></th>\n",
       "    </tr>\n",
       "  </thead>\n",
       "  <tbody>\n",
       "    <tr>\n",
       "      <th>1</th>\n",
       "      <td>3740647.6</td>\n",
       "      <td>1.635016</td>\n",
       "      <td>0.749089</td>\n",
       "      <td>7.000000</td>\n",
       "      <td>4.000000</td>\n",
       "      <td>-17.000000</td>\n",
       "      <td>1.475020</td>\n",
       "      <td>0.532742</td>\n",
       "      <td>1</td>\n",
       "      <td>0</td>\n",
       "      <td>0</td>\n",
       "      <td>0</td>\n",
       "      <td>0</td>\n",
       "      <td>0</td>\n",
       "      <td>49</td>\n",
       "      <td>0.265306</td>\n",
       "      <td>0.081633</td>\n",
       "      <td>4.516176</td>\n",
       "      <td>21.195312</td>\n",
       "      <td>30.459677</td>\n",
       "    </tr>\n",
       "    <tr>\n",
       "      <th>2</th>\n",
       "      <td>1557032.4</td>\n",
       "      <td>1.802296</td>\n",
       "      <td>0.381650</td>\n",
       "      <td>7.000000</td>\n",
       "      <td>4.000000</td>\n",
       "      <td>-17.000000</td>\n",
       "      <td>1.627360</td>\n",
       "      <td>0.264413</td>\n",
       "      <td>0</td>\n",
       "      <td>0</td>\n",
       "      <td>0</td>\n",
       "      <td>0</td>\n",
       "      <td>0</td>\n",
       "      <td>0</td>\n",
       "      <td>140</td>\n",
       "      <td>0.164286</td>\n",
       "      <td>0.071429</td>\n",
       "      <td>5.840336</td>\n",
       "      <td>29.133929</td>\n",
       "      <td>15.534562</td>\n",
       "    </tr>\n",
       "    <tr>\n",
       "      <th>3</th>\n",
       "      <td>1547997.2</td>\n",
       "      <td>1.965868</td>\n",
       "      <td>0.343765</td>\n",
       "      <td>7.192916</td>\n",
       "      <td>4.828826</td>\n",
       "      <td>-16.716865</td>\n",
       "      <td>1.501296</td>\n",
       "      <td>0.522655</td>\n",
       "      <td>0</td>\n",
       "      <td>0</td>\n",
       "      <td>0</td>\n",
       "      <td>0</td>\n",
       "      <td>0</td>\n",
       "      <td>0</td>\n",
       "      <td>231</td>\n",
       "      <td>0.398268</td>\n",
       "      <td>0.017316</td>\n",
       "      <td>5.547479</td>\n",
       "      <td>59.700893</td>\n",
       "      <td>17.838710</td>\n",
       "    </tr>\n",
       "    <tr>\n",
       "      <th>4</th>\n",
       "      <td>2565525.7</td>\n",
       "      <td>1.630730</td>\n",
       "      <td>0.664251</td>\n",
       "      <td>7.368666</td>\n",
       "      <td>5.526122</td>\n",
       "      <td>-16.446983</td>\n",
       "      <td>1.576631</td>\n",
       "      <td>0.463989</td>\n",
       "      <td>0</td>\n",
       "      <td>0</td>\n",
       "      <td>0</td>\n",
       "      <td>0</td>\n",
       "      <td>0</td>\n",
       "      <td>0</td>\n",
       "      <td>114</td>\n",
       "      <td>0.157895</td>\n",
       "      <td>0.140351</td>\n",
       "      <td>0.606723</td>\n",
       "      <td>10.620536</td>\n",
       "      <td>19.198157</td>\n",
       "    </tr>\n",
       "    <tr>\n",
       "      <th>5</th>\n",
       "      <td>1665819.4</td>\n",
       "      <td>1.852473</td>\n",
       "      <td>0.414259</td>\n",
       "      <td>7.510083</td>\n",
       "      <td>5.960357</td>\n",
       "      <td>-16.203610</td>\n",
       "      <td>1.568776</td>\n",
       "      <td>0.527898</td>\n",
       "      <td>0</td>\n",
       "      <td>0</td>\n",
       "      <td>0</td>\n",
       "      <td>0</td>\n",
       "      <td>0</td>\n",
       "      <td>0</td>\n",
       "      <td>92</td>\n",
       "      <td>0.315217</td>\n",
       "      <td>0.108696</td>\n",
       "      <td>3.342017</td>\n",
       "      <td>33.973214</td>\n",
       "      <td>22.391705</td>\n",
       "    </tr>\n",
       "  </tbody>\n",
       "</table>\n",
       "</div>"
      ],
      "text/plain": [
       "      Sales volume     Price  Promo share  Unemployment  Economic climate  \\\n",
       "Week                                                                        \n",
       "1        3740647.6  1.635016     0.749089      7.000000          4.000000   \n",
       "2        1557032.4  1.802296     0.381650      7.000000          4.000000   \n",
       "3        1547997.2  1.965868     0.343765      7.192916          4.828826   \n",
       "4        2565525.7  1.630730     0.664251      7.368666          5.526122   \n",
       "5        1665819.4  1.852473     0.414259      7.510083          5.960357   \n",
       "\n",
       "      Financial situation  Competitors price  Competitors promo share  \\\n",
       "Week                                                                    \n",
       "1              -17.000000           1.475020                 0.532742   \n",
       "2              -17.000000           1.627360                 0.264413   \n",
       "3              -16.716865           1.501296                 0.522655   \n",
       "4              -16.446983           1.576631                 0.463989   \n",
       "5              -16.203610           1.568776                 0.527898   \n",
       "\n",
       "      Christmas & New Year  King's Day  Easter  Sinterklaas  Football  \\\n",
       "Week                                                                    \n",
       "1                        1           0       0            0         0   \n",
       "2                        0           0       0            0         0   \n",
       "3                        0           0       0            0         0   \n",
       "4                        0           0       0            0         0   \n",
       "5                        0           0       0            0         0   \n",
       "\n",
       "      Olympic games  Social media Sentiment Total  Social media P/N ratio  \\\n",
       "Week                                                                        \n",
       "1                 0                            49                0.265306   \n",
       "2                 0                           140                0.164286   \n",
       "3                 0                           231                0.398268   \n",
       "4                 0                           114                0.157895   \n",
       "5                 0                            92                0.315217   \n",
       "\n",
       "      Social media (Share of negative mentions)  Temperature  Precipitation  \\\n",
       "Week                                                                          \n",
       "1                                      0.081633     4.516176      21.195312   \n",
       "2                                      0.071429     5.840336      29.133929   \n",
       "3                                      0.017316     5.547479      59.700893   \n",
       "4                                      0.140351     0.606723      10.620536   \n",
       "5                                      0.108696     3.342017      33.973214   \n",
       "\n",
       "      Sunshine duration  \n",
       "Week                     \n",
       "1             30.459677  \n",
       "2             15.534562  \n",
       "3             17.838710  \n",
       "4             19.198157  \n",
       "5             22.391705  "
      ]
     },
     "execution_count": 14,
     "metadata": {},
     "output_type": "execute_result"
    }
   ],
   "source": [
    "beer_data.head()"
   ]
  },
  {
   "cell_type": "code",
   "execution_count": 15,
   "metadata": {},
   "outputs": [],
   "source": [
    "# Import utils file and use the table_view_of_missing_values function to detect missing values"
   ]
  },
  {
   "cell_type": "code",
   "execution_count": 16,
   "metadata": {},
   "outputs": [],
   "source": [
    "import utils as u"
   ]
  },
  {
   "cell_type": "code",
   "execution_count": 17,
   "metadata": {},
   "outputs": [
    {
     "data": {
      "text/html": [
       "<div>\n",
       "<style scoped>\n",
       "    .dataframe tbody tr th:only-of-type {\n",
       "        vertical-align: middle;\n",
       "    }\n",
       "\n",
       "    .dataframe tbody tr th {\n",
       "        vertical-align: top;\n",
       "    }\n",
       "\n",
       "    .dataframe thead th {\n",
       "        text-align: right;\n",
       "    }\n",
       "</style>\n",
       "<table border=\"1\" class=\"dataframe\">\n",
       "  <thead>\n",
       "    <tr style=\"text-align: right;\">\n",
       "      <th></th>\n",
       "      <th>Total</th>\n",
       "      <th>Percent</th>\n",
       "    </tr>\n",
       "  </thead>\n",
       "  <tbody>\n",
       "  </tbody>\n",
       "</table>\n",
       "</div>"
      ],
      "text/plain": [
       "Empty DataFrame\n",
       "Columns: [Total, Percent]\n",
       "Index: []"
      ]
     },
     "execution_count": 17,
     "metadata": {},
     "output_type": "execute_result"
    }
   ],
   "source": [
    "u.table_view_of_missing_values(beer_data)"
   ]
  },
  {
   "cell_type": "code",
   "execution_count": 18,
   "metadata": {},
   "outputs": [],
   "source": [
    "# Examine (visually) the correlation between\n",
    "# Sales volume (Y)\n",
    "# and Price (X)\n",
    "\n",
    "# hint: you can use a function from the utils file"
   ]
  },
  {
   "cell_type": "code",
   "execution_count": 19,
   "metadata": {},
   "outputs": [
    {
     "data": {
      "image/png": "[encoded data removed]",
      "text/plain": [
       "<Figure size 504x504 with 3 Axes>"
      ]
     },
     "metadata": {
      "needs_background": "light"
     },
     "output_type": "display_data"
    }
   ],
   "source": [
    "u.correlation_between_two_variables(df=beer_data,v1='Price', v2='Sales volume')"
   ]
  },
  {
   "cell_type": "code",
   "execution_count": 20,
   "metadata": {},
   "outputs": [],
   "source": [
    "# Please confirm the negative correlation by measuring  pearson_coef. and p_value"
   ]
  },
  {
   "cell_type": "code",
   "execution_count": 21,
   "metadata": {},
   "outputs": [
    {
     "name": "stdout",
     "output_type": "stream",
     "text": [
      "The correlation between Price and Sales volume is -0.66810 and the p-value is 0.000000\n"
     ]
    }
   ],
   "source": [
    "from scipy import stats\n",
    "X = beer_data['Price']\n",
    "Y = beer_data['Sales volume']\n",
    "pearson_coef, p_value = stats.pearsonr(X, Y)\n",
    "print('The correlation between %s and %s is %0.5f and the p-value is %f' % ('Price', 'Sales volume', pearson_coef, p_value))"
   ]
  },
  {
   "cell_type": "markdown",
   "metadata": {},
   "source": [
    "## Simple Linear Regression"
   ]
  },
  {
   "cell_type": "code",
   "execution_count": 22,
   "metadata": {},
   "outputs": [],
   "source": [
    "# Please model the following linear relationship:\n",
    "# Sales Volume = W0 + W1 * Price\n",
    "# Use a library you fancy the most\n",
    "# (please note that some libraries may need reshaping of input data)\n",
    "\n",
    "# Please do not forget to train-test split the data!"
   ]
  },
  {
   "cell_type": "code",
   "execution_count": 23,
   "metadata": {},
   "outputs": [
    {
     "name": "stdout",
     "output_type": "stream",
     "text": [
      "Beer Data shape:  (201, 20)\n",
      "X_train shape:  (140,)\n",
      "X_test shape:  (61,)\n",
      "Y_train shape:  (140,)\n",
      "Y_test shape:  (61,)\n"
     ]
    }
   ],
   "source": [
    "import statsmodels.api as sm\n",
    "from sklearn.model_selection import train_test_split\n",
    "\n",
    "X_train, X_test, y_train, y_test = train_test_split(X, Y, test_size=0.3, random_state=101)\n",
    "\n",
    "print ('Beer Data shape: ', beer_data.shape)\n",
    "print ('X_train shape: ', X_train.shape)\n",
    "print ('X_test shape: ', X_test.shape)\n",
    "print ('Y_train shape: ', y_train.shape)\n",
    "print ('Y_test shape: ', y_test.shape)"
   ]
  },
  {
   "cell_type": "code",
   "execution_count": 24,
   "metadata": {},
   "outputs": [
    {
     "data": {
      "text/html": [
       "<table class=\"simpletable\">\n",
       "<caption>OLS Regression Results</caption>\n",
       "<tr>\n",
       "  <th>Dep. Variable:</th>      <td>Sales volume</td>   <th>  R-squared:         </th> <td>   0.453</td>\n",
       "</tr>\n",
       "<tr>\n",
       "  <th>Model:</th>                   <td>OLS</td>       <th>  Adj. R-squared:    </th> <td>   0.449</td>\n",
       "</tr>\n",
       "<tr>\n",
       "  <th>Method:</th>             <td>Least Squares</td>  <th>  F-statistic:       </th> <td>   114.2</td>\n",
       "</tr>\n",
       "<tr>\n",
       "  <th>Date:</th>             <td>Wed, 12 Jun 2019</td> <th>  Prob (F-statistic):</th> <td>8.45e-20</td>\n",
       "</tr>\n",
       "<tr>\n",
       "  <th>Time:</th>                 <td>11:49:25</td>     <th>  Log-Likelihood:    </th> <td> -2063.5</td>\n",
       "</tr>\n",
       "<tr>\n",
       "  <th>No. Observations:</th>      <td>   140</td>      <th>  AIC:               </th> <td>   4131.</td>\n",
       "</tr>\n",
       "<tr>\n",
       "  <th>Df Residuals:</th>          <td>   138</td>      <th>  BIC:               </th> <td>   4137.</td>\n",
       "</tr>\n",
       "<tr>\n",
       "  <th>Df Model:</th>              <td>     1</td>      <th>                     </th>     <td> </td>   \n",
       "</tr>\n",
       "<tr>\n",
       "  <th>Covariance Type:</th>      <td>nonrobust</td>    <th>                     </th>     <td> </td>   \n",
       "</tr>\n",
       "</table>\n",
       "<table class=\"simpletable\">\n",
       "<tr>\n",
       "    <td></td>       <th>coef</th>     <th>std err</th>      <th>t</th>      <th>P>|t|</th>  <th>[0.025</th>    <th>0.975]</th>  \n",
       "</tr>\n",
       "<tr>\n",
       "  <th>const</th> <td> 8.665e+06</td> <td> 5.68e+05</td> <td>   15.262</td> <td> 0.000</td> <td> 7.54e+06</td> <td> 9.79e+06</td>\n",
       "</tr>\n",
       "<tr>\n",
       "  <th>Price</th> <td>-3.246e+06</td> <td> 3.04e+05</td> <td>  -10.688</td> <td> 0.000</td> <td>-3.85e+06</td> <td>-2.65e+06</td>\n",
       "</tr>\n",
       "</table>\n",
       "<table class=\"simpletable\">\n",
       "<tr>\n",
       "  <th>Omnibus:</th>       <td>12.393</td> <th>  Durbin-Watson:     </th> <td>   2.096</td>\n",
       "</tr>\n",
       "<tr>\n",
       "  <th>Prob(Omnibus):</th> <td> 0.002</td> <th>  Jarque-Bera (JB):  </th> <td>  13.088</td>\n",
       "</tr>\n",
       "<tr>\n",
       "  <th>Skew:</th>          <td> 0.730</td> <th>  Prob(JB):          </th> <td> 0.00144</td>\n",
       "</tr>\n",
       "<tr>\n",
       "  <th>Kurtosis:</th>      <td> 3.334</td> <th>  Cond. No.          </th> <td>    26.3</td>\n",
       "</tr>\n",
       "</table><br/><br/>Warnings:<br/>[1] Standard Errors assume that the covariance matrix of the errors is correctly specified."
      ],
      "text/plain": [
       "<class 'statsmodels.iolib.summary.Summary'>\n",
       "\"\"\"\n",
       "                            OLS Regression Results                            \n",
       "==============================================================================\n",
       "Dep. Variable:           Sales volume   R-squared:                       0.453\n",
       "Model:                            OLS   Adj. R-squared:                  0.449\n",
       "Method:                 Least Squares   F-statistic:                     114.2\n",
       "Date:                Wed, 12 Jun 2019   Prob (F-statistic):           8.45e-20\n",
       "Time:                        11:49:25   Log-Likelihood:                -2063.5\n",
       "No. Observations:                 140   AIC:                             4131.\n",
       "Df Residuals:                     138   BIC:                             4137.\n",
       "Df Model:                           1                                         \n",
       "Covariance Type:            nonrobust                                         \n",
       "==============================================================================\n",
       "                 coef    std err          t      P>|t|      [0.025      0.975]\n",
       "------------------------------------------------------------------------------\n",
       "const       8.665e+06   5.68e+05     15.262      0.000    7.54e+06    9.79e+06\n",
       "Price      -3.246e+06   3.04e+05    -10.688      0.000   -3.85e+06   -2.65e+06\n",
       "==============================================================================\n",
       "Omnibus:                       12.393   Durbin-Watson:                   2.096\n",
       "Prob(Omnibus):                  0.002   Jarque-Bera (JB):               13.088\n",
       "Skew:                           0.730   Prob(JB):                      0.00144\n",
       "Kurtosis:                       3.334   Cond. No.                         26.3\n",
       "==============================================================================\n",
       "\n",
       "Warnings:\n",
       "[1] Standard Errors assume that the covariance matrix of the errors is correctly specified.\n",
       "\"\"\""
      ]
     },
     "execution_count": 24,
     "metadata": {},
     "output_type": "execute_result"
    }
   ],
   "source": [
    "lm_sm = sm.OLS(y_train, sm.add_constant(X_train)).fit()\n",
    "lm_sm.summary()"
   ]
  },
  {
   "cell_type": "code",
   "execution_count": 25,
   "metadata": {},
   "outputs": [],
   "source": [
    "# Please write down the equation (in a comment cell)\n",
    "# Use lm_sm.params to extract the exact coefficients"
   ]
  },
  {
   "cell_type": "code",
   "execution_count": 26,
   "metadata": {},
   "outputs": [],
   "source": [
    "# Sales Volume = 8664705.249054082 -3246404.3197077666 * Price"
   ]
  },
  {
   "cell_type": "code",
   "execution_count": 27,
   "metadata": {},
   "outputs": [],
   "source": [
    "# Write down a lambda function for prediction and then predict the Sales Volume for price = 1.5 $"
   ]
  },
  {
   "cell_type": "code",
   "execution_count": 28,
   "metadata": {},
   "outputs": [],
   "source": [
    "predict_function_SLR = lambda x: lm_sm.params[0] +  x * lm_sm.params[1]"
   ]
  },
  {
   "cell_type": "code",
   "execution_count": 29,
   "metadata": {},
   "outputs": [
    {
     "data": {
      "text/plain": [
       "3795098.7694924315"
      ]
     },
     "execution_count": 29,
     "metadata": {},
     "output_type": "execute_result"
    }
   ],
   "source": [
    "predict_function_SLR(1.5)"
   ]
  },
  {
   "cell_type": "code",
   "execution_count": 30,
   "metadata": {},
   "outputs": [],
   "source": [
    "# Create a for loop in which you will change the price from 1 $ to 2.6 $ by step 0.1\n",
    "# and you will predict the Sales Volume for each step change\n",
    "# Please plot the resulting data"
   ]
  },
  {
   "cell_type": "code",
   "execution_count": 31,
   "metadata": {},
   "outputs": [],
   "source": [
    "price_interval = np.arange(1, 2.7, 0.1)\n",
    "predicted_prices = []\n",
    "for i in price_interval:\n",
    "    predicted_prices.append(predict_function_SLR(i))"
   ]
  },
  {
   "cell_type": "code",
   "execution_count": 32,
   "metadata": {},
   "outputs": [
    {
     "data": {
      "image/png": "[encoded data removed]",
      "text/plain": [
       "<Figure size 432x288 with 1 Axes>"
      ]
     },
     "metadata": {
      "needs_background": "light"
     },
     "output_type": "display_data"
    }
   ],
   "source": [
    "plt.plot(price_interval, predicted_prices);"
   ]
  },
  {
   "cell_type": "code",
   "execution_count": 33,
   "metadata": {},
   "outputs": [],
   "source": [
    "# Did you get a straight line?\n",
    "# Is a straight line something you would expect?"
   ]
  },
  {
   "cell_type": "code",
   "execution_count": 34,
   "metadata": {},
   "outputs": [],
   "source": [
    "# Did you need to write a prediction lambda function?\n",
    "# Remember that every model has a FIT and a PREDICT method?\n",
    "# use the predict method to achieve the same thing you achieved using the lambda function"
   ]
  },
  {
   "cell_type": "code",
   "execution_count": 35,
   "metadata": {},
   "outputs": [],
   "source": [
    "# Examine the errors in the model on the test data set\n",
    "# Calculate all the Errors (RSE, MSE, RMSE, MAE)!"
   ]
  },
  {
   "cell_type": "code",
   "execution_count": 36,
   "metadata": {},
   "outputs": [],
   "source": [
    "predictions = lm_sm.predict(sm.add_constant(X_test))"
   ]
  },
  {
   "cell_type": "code",
   "execution_count": 37,
   "metadata": {},
   "outputs": [],
   "source": [
    "# Scatter plot the errors"
   ]
  },
  {
   "cell_type": "code",
   "execution_count": 38,
   "metadata": {},
   "outputs": [
    {
     "data": {
      "image/png": "[encoded data removed]",
      "text/plain": [
       "<Figure size 432x288 with 1 Axes>"
      ]
     },
     "metadata": {
      "needs_background": "light"
     },
     "output_type": "display_data"
    }
   ],
   "source": [
    "plt.scatter(y_test, predictions);"
   ]
  },
  {
   "cell_type": "code",
   "execution_count": 39,
   "metadata": {},
   "outputs": [],
   "source": [
    "# Plot Residual Histogram with distribution line"
   ]
  },
  {
   "cell_type": "code",
   "execution_count": 40,
   "metadata": {},
   "outputs": [
    {
     "data": {
      "image/png": "[encoded data removed]",
      "text/plain": [
       "<Figure size 432x288 with 1 Axes>"
      ]
     },
     "metadata": {
      "needs_background": "light"
     },
     "output_type": "display_data"
    }
   ],
   "source": [
    "sns.distplot((y_test-predictions),bins=20);"
   ]
  },
  {
   "cell_type": "code",
   "execution_count": 41,
   "metadata": {},
   "outputs": [],
   "source": [
    "# Use sns.residplot to make one more plot"
   ]
  },
  {
   "cell_type": "code",
   "execution_count": 42,
   "metadata": {},
   "outputs": [
    {
     "data": {
      "image/png": "[encoded data removed]",
      "text/plain": [
       "<Figure size 432x288 with 1 Axes>"
      ]
     },
     "metadata": {
      "needs_background": "light"
     },
     "output_type": "display_data"
    }
   ],
   "source": [
    "sns.residplot(predictions, y_test, lowess=True, line_kws={'color':'r', 'lw':1});"
   ]
  },
  {
   "cell_type": "code",
   "execution_count": 43,
   "metadata": {},
   "outputs": [],
   "source": [
    "# Create a QQ plot"
   ]
  },
  {
   "cell_type": "code",
   "execution_count": 44,
   "metadata": {},
   "outputs": [
    {
     "data": {
      "image/png": "[encoded data removed]",
      "text/plain": [
       "<Figure size 432x288 with 1 Axes>"
      ]
     },
     "metadata": {
      "needs_background": "light"
     },
     "output_type": "display_data"
    }
   ],
   "source": [
    "from statsmodels.graphics.gofplots import ProbPlot\n",
    "QQ = ProbPlot(y_test-predictions)\n",
    "fig = QQ.qqplot(alpha=0.5, markersize=5, line='s')\n",
    "plt.title('QQ plot');"
   ]
  },
  {
   "cell_type": "code",
   "execution_count": 45,
   "metadata": {},
   "outputs": [],
   "source": [
    "# Perform a WhitesTest for the residuals"
   ]
  },
  {
   "cell_type": "code",
   "execution_count": 46,
   "metadata": {},
   "outputs": [
    {
     "data": {
      "text/plain": [
       "(2.9197150192169263,\n",
       " 0.23226936852519195,\n",
       " 1.4578395334200929,\n",
       " 0.24113941620590496)"
      ]
     },
     "execution_count": 46,
     "metadata": {},
     "output_type": "execute_result"
    }
   ],
   "source": [
    "from statsmodels.stats.diagnostic import het_white as WhitesTest\n",
    "from statsmodels.compat.numpy import np_matrix_rank\n",
    "import statsmodels.api as sm\n",
    "\n",
    "WhitesTest(y_test-predictions, sm.add_constant(X_test))"
   ]
  },
  {
   "cell_type": "code",
   "execution_count": 47,
   "metadata": {},
   "outputs": [],
   "source": [
    "# Are the residuals normally distributed?\n",
    "# What is the p-value of the test for homoscedasticity?"
   ]
  },
  {
   "cell_type": "code",
   "execution_count": 48,
   "metadata": {},
   "outputs": [],
   "source": [
    "# Calculate RSE, MSE, RMSE and MAE for the predictions"
   ]
  },
  {
   "cell_type": "code",
   "execution_count": 49,
   "metadata": {},
   "outputs": [
    {
     "name": "stdout",
     "output_type": "stream",
     "text": [
      "MAE: 518158.7366758495\n",
      "MSE: 401471711467.707\n",
      "RMSE: 633617.9538710271\n",
      "RSE: 640468.0767760238\n"
     ]
    }
   ],
   "source": [
    "from sklearn import metrics\n",
    "print('MAE:', metrics.mean_absolute_error(y_test, predictions))\n",
    "print('MSE:', metrics.mean_squared_error(y_test, predictions))\n",
    "print('RMSE:', np.sqrt(metrics.mean_squared_error(y_test, predictions)))\n",
    "print('RSE:',  np.sqrt(((X_train.shape[0]+1)*metrics.mean_squared_error(y_test, predictions)) / (X_train.shape[0] - 1 -1)))"
   ]
  },
  {
   "cell_type": "markdown",
   "metadata": {},
   "source": [
    "## Multiple Linear Regression"
   ]
  },
  {
   "cell_type": "markdown",
   "metadata": {},
   "source": [
    "### Polynomial Linear Regression"
   ]
  },
  {
   "cell_type": "code",
   "execution_count": 50,
   "metadata": {},
   "outputs": [],
   "source": [
    "# Model the relationship between Sales Volume and Price with a second degree polynomial"
   ]
  },
  {
   "cell_type": "code",
   "execution_count": 51,
   "metadata": {},
   "outputs": [],
   "source": [
    "beer_data['Price^2']= beer_data['Price']*beer_data['Price']"
   ]
  },
  {
   "cell_type": "code",
   "execution_count": 52,
   "metadata": {},
   "outputs": [
    {
     "data": {
      "text/html": [
       "<div>\n",
       "<style scoped>\n",
       "    .dataframe tbody tr th:only-of-type {\n",
       "        vertical-align: middle;\n",
       "    }\n",
       "\n",
       "    .dataframe tbody tr th {\n",
       "        vertical-align: top;\n",
       "    }\n",
       "\n",
       "    .dataframe thead th {\n",
       "        text-align: right;\n",
       "    }\n",
       "</style>\n",
       "<table border=\"1\" class=\"dataframe\">\n",
       "  <thead>\n",
       "    <tr style=\"text-align: right;\">\n",
       "      <th></th>\n",
       "      <th>Sales volume</th>\n",
       "      <th>Price</th>\n",
       "      <th>Promo share</th>\n",
       "      <th>Unemployment</th>\n",
       "      <th>Economic climate</th>\n",
       "      <th>Financial situation</th>\n",
       "      <th>Competitors price</th>\n",
       "      <th>Competitors promo share</th>\n",
       "      <th>Christmas &amp; New Year</th>\n",
       "      <th>King's Day</th>\n",
       "      <th>Easter</th>\n",
       "      <th>Sinterklaas</th>\n",
       "      <th>Football</th>\n",
       "      <th>Olympic games</th>\n",
       "      <th>Social media Sentiment Total</th>\n",
       "      <th>Social media P/N ratio</th>\n",
       "      <th>Social media (Share of negative mentions)</th>\n",
       "      <th>Temperature</th>\n",
       "      <th>Precipitation</th>\n",
       "      <th>Sunshine duration</th>\n",
       "      <th>Price^2</th>\n",
       "    </tr>\n",
       "    <tr>\n",
       "      <th>Week</th>\n",
       "      <th></th>\n",
       "      <th></th>\n",
       "      <th></th>\n",
       "      <th></th>\n",
       "      <th></th>\n",
       "      <th></th>\n",
       "      <th></th>\n",
       "      <th></th>\n",
       "      <th></th>\n",
       "      <th></th>\n",
       "      <th></th>\n",
       "      <th></th>\n",
       "      <th></th>\n",
       "      <th></th>\n",
       "      <th></th>\n",
       "      <th></th>\n",
       "      <th></th>\n",
       "      <th></th>\n",
       "      <th></th>\n",
       "      <th></th>\n",
       "      <th></th>\n",
       "    </tr>\n",
       "  </thead>\n",
       "  <tbody>\n",
       "    <tr>\n",
       "      <th>1</th>\n",
       "      <td>3740647.6</td>\n",
       "      <td>1.635016</td>\n",
       "      <td>0.749089</td>\n",
       "      <td>7.000000</td>\n",
       "      <td>4.000000</td>\n",
       "      <td>-17.000000</td>\n",
       "      <td>1.475020</td>\n",
       "      <td>0.532742</td>\n",
       "      <td>1</td>\n",
       "      <td>0</td>\n",
       "      <td>0</td>\n",
       "      <td>0</td>\n",
       "      <td>0</td>\n",
       "      <td>0</td>\n",
       "      <td>49</td>\n",
       "      <td>0.265306</td>\n",
       "      <td>0.081633</td>\n",
       "      <td>4.516176</td>\n",
       "      <td>21.195312</td>\n",
       "      <td>30.459677</td>\n",
       "      <td>2.673279</td>\n",
       "    </tr>\n",
       "    <tr>\n",
       "      <th>2</th>\n",
       "      <td>1557032.4</td>\n",
       "      <td>1.802296</td>\n",
       "      <td>0.381650</td>\n",
       "      <td>7.000000</td>\n",
       "      <td>4.000000</td>\n",
       "      <td>-17.000000</td>\n",
       "      <td>1.627360</td>\n",
       "      <td>0.264413</td>\n",
       "      <td>0</td>\n",
       "      <td>0</td>\n",
       "      <td>0</td>\n",
       "      <td>0</td>\n",
       "      <td>0</td>\n",
       "      <td>0</td>\n",
       "      <td>140</td>\n",
       "      <td>0.164286</td>\n",
       "      <td>0.071429</td>\n",
       "      <td>5.840336</td>\n",
       "      <td>29.133929</td>\n",
       "      <td>15.534562</td>\n",
       "      <td>3.248272</td>\n",
       "    </tr>\n",
       "    <tr>\n",
       "      <th>3</th>\n",
       "      <td>1547997.2</td>\n",
       "      <td>1.965868</td>\n",
       "      <td>0.343765</td>\n",
       "      <td>7.192916</td>\n",
       "      <td>4.828826</td>\n",
       "      <td>-16.716865</td>\n",
       "      <td>1.501296</td>\n",
       "      <td>0.522655</td>\n",
       "      <td>0</td>\n",
       "      <td>0</td>\n",
       "      <td>0</td>\n",
       "      <td>0</td>\n",
       "      <td>0</td>\n",
       "      <td>0</td>\n",
       "      <td>231</td>\n",
       "      <td>0.398268</td>\n",
       "      <td>0.017316</td>\n",
       "      <td>5.547479</td>\n",
       "      <td>59.700893</td>\n",
       "      <td>17.838710</td>\n",
       "      <td>3.864637</td>\n",
       "    </tr>\n",
       "    <tr>\n",
       "      <th>4</th>\n",
       "      <td>2565525.7</td>\n",
       "      <td>1.630730</td>\n",
       "      <td>0.664251</td>\n",
       "      <td>7.368666</td>\n",
       "      <td>5.526122</td>\n",
       "      <td>-16.446983</td>\n",
       "      <td>1.576631</td>\n",
       "      <td>0.463989</td>\n",
       "      <td>0</td>\n",
       "      <td>0</td>\n",
       "      <td>0</td>\n",
       "      <td>0</td>\n",
       "      <td>0</td>\n",
       "      <td>0</td>\n",
       "      <td>114</td>\n",
       "      <td>0.157895</td>\n",
       "      <td>0.140351</td>\n",
       "      <td>0.606723</td>\n",
       "      <td>10.620536</td>\n",
       "      <td>19.198157</td>\n",
       "      <td>2.659280</td>\n",
       "    </tr>\n",
       "    <tr>\n",
       "      <th>5</th>\n",
       "      <td>1665819.4</td>\n",
       "      <td>1.852473</td>\n",
       "      <td>0.414259</td>\n",
       "      <td>7.510083</td>\n",
       "      <td>5.960357</td>\n",
       "      <td>-16.203610</td>\n",
       "      <td>1.568776</td>\n",
       "      <td>0.527898</td>\n",
       "      <td>0</td>\n",
       "      <td>0</td>\n",
       "      <td>0</td>\n",
       "      <td>0</td>\n",
       "      <td>0</td>\n",
       "      <td>0</td>\n",
       "      <td>92</td>\n",
       "      <td>0.315217</td>\n",
       "      <td>0.108696</td>\n",
       "      <td>3.342017</td>\n",
       "      <td>33.973214</td>\n",
       "      <td>22.391705</td>\n",
       "      <td>3.431657</td>\n",
       "    </tr>\n",
       "  </tbody>\n",
       "</table>\n",
       "</div>"
      ],
      "text/plain": [
       "      Sales volume     Price  Promo share  Unemployment  Economic climate  \\\n",
       "Week                                                                        \n",
       "1        3740647.6  1.635016     0.749089      7.000000          4.000000   \n",
       "2        1557032.4  1.802296     0.381650      7.000000          4.000000   \n",
       "3        1547997.2  1.965868     0.343765      7.192916          4.828826   \n",
       "4        2565525.7  1.630730     0.664251      7.368666          5.526122   \n",
       "5        1665819.4  1.852473     0.414259      7.510083          5.960357   \n",
       "\n",
       "      Financial situation  Competitors price  Competitors promo share  \\\n",
       "Week                                                                    \n",
       "1              -17.000000           1.475020                 0.532742   \n",
       "2              -17.000000           1.627360                 0.264413   \n",
       "3              -16.716865           1.501296                 0.522655   \n",
       "4              -16.446983           1.576631                 0.463989   \n",
       "5              -16.203610           1.568776                 0.527898   \n",
       "\n",
       "      Christmas & New Year  King's Day  Easter  Sinterklaas  Football  \\\n",
       "Week                                                                    \n",
       "1                        1           0       0            0         0   \n",
       "2                        0           0       0            0         0   \n",
       "3                        0           0       0            0         0   \n",
       "4                        0           0       0            0         0   \n",
       "5                        0           0       0            0         0   \n",
       "\n",
       "      Olympic games  Social media Sentiment Total  Social media P/N ratio  \\\n",
       "Week                                                                        \n",
       "1                 0                            49                0.265306   \n",
       "2                 0                           140                0.164286   \n",
       "3                 0                           231                0.398268   \n",
       "4                 0                           114                0.157895   \n",
       "5                 0                            92                0.315217   \n",
       "\n",
       "      Social media (Share of negative mentions)  Temperature  Precipitation  \\\n",
       "Week                                                                          \n",
       "1                                      0.081633     4.516176      21.195312   \n",
       "2                                      0.071429     5.840336      29.133929   \n",
       "3                                      0.017316     5.547479      59.700893   \n",
       "4                                      0.140351     0.606723      10.620536   \n",
       "5                                      0.108696     3.342017      33.973214   \n",
       "\n",
       "      Sunshine duration   Price^2  \n",
       "Week                               \n",
       "1             30.459677  2.673279  \n",
       "2             15.534562  3.248272  \n",
       "3             17.838710  3.864637  \n",
       "4             19.198157  2.659280  \n",
       "5             22.391705  3.431657  "
      ]
     },
     "execution_count": 52,
     "metadata": {},
     "output_type": "execute_result"
    }
   ],
   "source": [
    "beer_data.head()"
   ]
  },
  {
   "cell_type": "code",
   "execution_count": 53,
   "metadata": {},
   "outputs": [
    {
     "name": "stdout",
     "output_type": "stream",
     "text": [
      "Beer Data shape:  (201, 21)\n",
      "X_train shape:  (140, 2)\n",
      "X_test shape:  (61, 2)\n",
      "Y_train shape:  (140,)\n",
      "Y_test shape:  (61,)\n"
     ]
    }
   ],
   "source": [
    "import statsmodels.api as sm\n",
    "from sklearn.model_selection import train_test_split\n",
    "X = beer_data[['Price', 'Price^2']]\n",
    "Y = beer_data['Sales volume']\n",
    "X_train, X_test, y_train, y_test = train_test_split(X, Y, test_size=0.3, random_state=101)\n",
    "\n",
    "print ('Beer Data shape: ', beer_data.shape)\n",
    "print ('X_train shape: ', X_train.shape)\n",
    "print ('X_test shape: ', X_test.shape)\n",
    "print ('Y_train shape: ', y_train.shape)\n",
    "print ('Y_test shape: ', y_test.shape)"
   ]
  },
  {
   "cell_type": "code",
   "execution_count": 54,
   "metadata": {},
   "outputs": [
    {
     "data": {
      "text/html": [
       "<table class=\"simpletable\">\n",
       "<caption>OLS Regression Results</caption>\n",
       "<tr>\n",
       "  <th>Dep. Variable:</th>      <td>Sales volume</td>   <th>  R-squared:         </th> <td>   0.459</td>\n",
       "</tr>\n",
       "<tr>\n",
       "  <th>Model:</th>                   <td>OLS</td>       <th>  Adj. R-squared:    </th> <td>   0.451</td>\n",
       "</tr>\n",
       "<tr>\n",
       "  <th>Method:</th>             <td>Least Squares</td>  <th>  F-statistic:       </th> <td>   58.06</td>\n",
       "</tr>\n",
       "<tr>\n",
       "  <th>Date:</th>             <td>Wed, 12 Jun 2019</td> <th>  Prob (F-statistic):</th> <td>5.46e-19</td>\n",
       "</tr>\n",
       "<tr>\n",
       "  <th>Time:</th>                 <td>11:49:26</td>     <th>  Log-Likelihood:    </th> <td> -2062.8</td>\n",
       "</tr>\n",
       "<tr>\n",
       "  <th>No. Observations:</th>      <td>   140</td>      <th>  AIC:               </th> <td>   4132.</td>\n",
       "</tr>\n",
       "<tr>\n",
       "  <th>Df Residuals:</th>          <td>   137</td>      <th>  BIC:               </th> <td>   4140.</td>\n",
       "</tr>\n",
       "<tr>\n",
       "  <th>Df Model:</th>              <td>     2</td>      <th>                     </th>     <td> </td>   \n",
       "</tr>\n",
       "<tr>\n",
       "  <th>Covariance Type:</th>      <td>nonrobust</td>    <th>                     </th>     <td> </td>   \n",
       "</tr>\n",
       "</table>\n",
       "<table class=\"simpletable\">\n",
       "<tr>\n",
       "     <td></td>        <th>coef</th>     <th>std err</th>      <th>t</th>      <th>P>|t|</th>  <th>[0.025</th>    <th>0.975]</th>  \n",
       "</tr>\n",
       "<tr>\n",
       "  <th>const</th>   <td> 1.535e+07</td> <td> 5.52e+06</td> <td>    2.783</td> <td> 0.006</td> <td> 4.44e+06</td> <td> 2.63e+07</td>\n",
       "</tr>\n",
       "<tr>\n",
       "  <th>Price</th>   <td>-1.041e+07</td> <td> 5.89e+06</td> <td>   -1.769</td> <td> 0.079</td> <td>-2.21e+07</td> <td> 1.23e+06</td>\n",
       "</tr>\n",
       "<tr>\n",
       "  <th>Price^2</th> <td> 1.903e+06</td> <td> 1.56e+06</td> <td>    1.219</td> <td> 0.225</td> <td>-1.18e+06</td> <td> 4.99e+06</td>\n",
       "</tr>\n",
       "</table>\n",
       "<table class=\"simpletable\">\n",
       "<tr>\n",
       "  <th>Omnibus:</th>       <td>12.721</td> <th>  Durbin-Watson:     </th> <td>   2.068</td>\n",
       "</tr>\n",
       "<tr>\n",
       "  <th>Prob(Omnibus):</th> <td> 0.002</td> <th>  Jarque-Bera (JB):  </th> <td>  13.481</td>\n",
       "</tr>\n",
       "<tr>\n",
       "  <th>Skew:</th>          <td> 0.738</td> <th>  Prob(JB):          </th> <td> 0.00118</td>\n",
       "</tr>\n",
       "<tr>\n",
       "  <th>Kurtosis:</th>      <td> 3.360</td> <th>  Cond. No.          </th> <td>    655.</td>\n",
       "</tr>\n",
       "</table><br/><br/>Warnings:<br/>[1] Standard Errors assume that the covariance matrix of the errors is correctly specified."
      ],
      "text/plain": [
       "<class 'statsmodels.iolib.summary.Summary'>\n",
       "\"\"\"\n",
       "                            OLS Regression Results                            \n",
       "==============================================================================\n",
       "Dep. Variable:           Sales volume   R-squared:                       0.459\n",
       "Model:                            OLS   Adj. R-squared:                  0.451\n",
       "Method:                 Least Squares   F-statistic:                     58.06\n",
       "Date:                Wed, 12 Jun 2019   Prob (F-statistic):           5.46e-19\n",
       "Time:                        11:49:26   Log-Likelihood:                -2062.8\n",
       "No. Observations:                 140   AIC:                             4132.\n",
       "Df Residuals:                     137   BIC:                             4140.\n",
       "Df Model:                           2                                         \n",
       "Covariance Type:            nonrobust                                         \n",
       "==============================================================================\n",
       "                 coef    std err          t      P>|t|      [0.025      0.975]\n",
       "------------------------------------------------------------------------------\n",
       "const       1.535e+07   5.52e+06      2.783      0.006    4.44e+06    2.63e+07\n",
       "Price      -1.041e+07   5.89e+06     -1.769      0.079   -2.21e+07    1.23e+06\n",
       "Price^2     1.903e+06   1.56e+06      1.219      0.225   -1.18e+06    4.99e+06\n",
       "==============================================================================\n",
       "Omnibus:                       12.721   Durbin-Watson:                   2.068\n",
       "Prob(Omnibus):                  0.002   Jarque-Bera (JB):               13.481\n",
       "Skew:                           0.738   Prob(JB):                      0.00118\n",
       "Kurtosis:                       3.360   Cond. No.                         655.\n",
       "==============================================================================\n",
       "\n",
       "Warnings:\n",
       "[1] Standard Errors assume that the covariance matrix of the errors is correctly specified.\n",
       "\"\"\""
      ]
     },
     "execution_count": 54,
     "metadata": {},
     "output_type": "execute_result"
    }
   ],
   "source": [
    "lm_sm_poly = sm.OLS(y_train, sm.add_constant(X_train)).fit()\n",
    "lm_sm_poly.summary()"
   ]
  },
  {
   "cell_type": "markdown",
   "metadata": {},
   "source": [
    "### Multiple Linear Regression"
   ]
  },
  {
   "cell_type": "code",
   "execution_count": 55,
   "metadata": {},
   "outputs": [],
   "source": [
    "# Model the relationship:\n",
    "# Sales volume ~ Price, Promo share, Financial situation, Competitors price and Competitors promo share"
   ]
  },
  {
   "cell_type": "code",
   "execution_count": 56,
   "metadata": {},
   "outputs": [
    {
     "name": "stdout",
     "output_type": "stream",
     "text": [
      "Beer Data shape:  (201, 21)\n",
      "X_train shape:  (140, 5)\n",
      "X_test shape:  (61, 5)\n",
      "Y_train shape:  (140,)\n",
      "Y_test shape:  (61,)\n"
     ]
    }
   ],
   "source": [
    "import statsmodels.api as sm\n",
    "from sklearn.model_selection import train_test_split\n",
    "X = beer_data[['Price', 'Promo share', 'Financial situation', 'Competitors price', 'Competitors promo share']]\n",
    "Y = beer_data['Sales volume']\n",
    "X_train, X_test, y_train, y_test = train_test_split(X, Y, test_size=0.3, random_state=101)\n",
    "\n",
    "print ('Beer Data shape: ', beer_data.shape)\n",
    "print ('X_train shape: ', X_train.shape)\n",
    "print ('X_test shape: ', X_test.shape)\n",
    "print ('Y_train shape: ', y_train.shape)\n",
    "print ('Y_test shape: ', y_test.shape)"
   ]
  },
  {
   "cell_type": "code",
   "execution_count": 57,
   "metadata": {},
   "outputs": [
    {
     "data": {
      "text/html": [
       "<table class=\"simpletable\">\n",
       "<caption>OLS Regression Results</caption>\n",
       "<tr>\n",
       "  <th>Dep. Variable:</th>      <td>Sales volume</td>   <th>  R-squared:         </th> <td>   0.643</td>\n",
       "</tr>\n",
       "<tr>\n",
       "  <th>Model:</th>                   <td>OLS</td>       <th>  Adj. R-squared:    </th> <td>   0.630</td>\n",
       "</tr>\n",
       "<tr>\n",
       "  <th>Method:</th>             <td>Least Squares</td>  <th>  F-statistic:       </th> <td>   48.31</td>\n",
       "</tr>\n",
       "<tr>\n",
       "  <th>Date:</th>             <td>Wed, 12 Jun 2019</td> <th>  Prob (F-statistic):</th> <td>2.28e-28</td>\n",
       "</tr>\n",
       "<tr>\n",
       "  <th>Time:</th>                 <td>11:49:26</td>     <th>  Log-Likelihood:    </th> <td> -2033.6</td>\n",
       "</tr>\n",
       "<tr>\n",
       "  <th>No. Observations:</th>      <td>   140</td>      <th>  AIC:               </th> <td>   4079.</td>\n",
       "</tr>\n",
       "<tr>\n",
       "  <th>Df Residuals:</th>          <td>   134</td>      <th>  BIC:               </th> <td>   4097.</td>\n",
       "</tr>\n",
       "<tr>\n",
       "  <th>Df Model:</th>              <td>     5</td>      <th>                     </th>     <td> </td>   \n",
       "</tr>\n",
       "<tr>\n",
       "  <th>Covariance Type:</th>      <td>nonrobust</td>    <th>                     </th>     <td> </td>   \n",
       "</tr>\n",
       "</table>\n",
       "<table class=\"simpletable\">\n",
       "<tr>\n",
       "             <td></td>                <th>coef</th>     <th>std err</th>      <th>t</th>      <th>P>|t|</th>  <th>[0.025</th>    <th>0.975]</th>  \n",
       "</tr>\n",
       "<tr>\n",
       "  <th>const</th>                   <td>-4.295e+06</td> <td> 2.05e+06</td> <td>   -2.093</td> <td> 0.038</td> <td>-8.35e+06</td> <td>-2.36e+05</td>\n",
       "</tr>\n",
       "<tr>\n",
       "  <th>Price</th>                   <td>-1.021e+06</td> <td> 5.94e+05</td> <td>   -1.718</td> <td> 0.088</td> <td> -2.2e+06</td> <td> 1.54e+05</td>\n",
       "</tr>\n",
       "<tr>\n",
       "  <th>Promo share</th>             <td> 2.954e+06</td> <td> 5.73e+05</td> <td>    5.160</td> <td> 0.000</td> <td> 1.82e+06</td> <td> 4.09e+06</td>\n",
       "</tr>\n",
       "<tr>\n",
       "  <th>Financial situation</th>     <td>-2625.6360</td> <td> 1.01e+04</td> <td>   -0.259</td> <td> 0.796</td> <td>-2.26e+04</td> <td> 1.74e+04</td>\n",
       "</tr>\n",
       "<tr>\n",
       "  <th>Competitors price</th>       <td> 3.776e+06</td> <td> 1.12e+06</td> <td>    3.367</td> <td> 0.001</td> <td> 1.56e+06</td> <td> 5.99e+06</td>\n",
       "</tr>\n",
       "<tr>\n",
       "  <th>Competitors promo share</th> <td> 1.644e+06</td> <td> 9.07e+05</td> <td>    1.812</td> <td> 0.072</td> <td> -1.5e+05</td> <td> 3.44e+06</td>\n",
       "</tr>\n",
       "</table>\n",
       "<table class=\"simpletable\">\n",
       "<tr>\n",
       "  <th>Omnibus:</th>       <td>12.569</td> <th>  Durbin-Watson:     </th> <td>   2.238</td>\n",
       "</tr>\n",
       "<tr>\n",
       "  <th>Prob(Omnibus):</th> <td> 0.002</td> <th>  Jarque-Bera (JB):  </th> <td>  13.507</td>\n",
       "</tr>\n",
       "<tr>\n",
       "  <th>Skew:</th>          <td> 0.652</td> <th>  Prob(JB):          </th> <td> 0.00117</td>\n",
       "</tr>\n",
       "<tr>\n",
       "  <th>Kurtosis:</th>      <td> 3.785</td> <th>  Cond. No.          </th> <td>    358.</td>\n",
       "</tr>\n",
       "</table><br/><br/>Warnings:<br/>[1] Standard Errors assume that the covariance matrix of the errors is correctly specified."
      ],
      "text/plain": [
       "<class 'statsmodels.iolib.summary.Summary'>\n",
       "\"\"\"\n",
       "                            OLS Regression Results                            \n",
       "==============================================================================\n",
       "Dep. Variable:           Sales volume   R-squared:                       0.643\n",
       "Model:                            OLS   Adj. R-squared:                  0.630\n",
       "Method:                 Least Squares   F-statistic:                     48.31\n",
       "Date:                Wed, 12 Jun 2019   Prob (F-statistic):           2.28e-28\n",
       "Time:                        11:49:26   Log-Likelihood:                -2033.6\n",
       "No. Observations:                 140   AIC:                             4079.\n",
       "Df Residuals:                     134   BIC:                             4097.\n",
       "Df Model:                           5                                         \n",
       "Covariance Type:            nonrobust                                         \n",
       "===========================================================================================\n",
       "                              coef    std err          t      P>|t|      [0.025      0.975]\n",
       "-------------------------------------------------------------------------------------------\n",
       "const                   -4.295e+06   2.05e+06     -2.093      0.038   -8.35e+06   -2.36e+05\n",
       "Price                   -1.021e+06   5.94e+05     -1.718      0.088    -2.2e+06    1.54e+05\n",
       "Promo share              2.954e+06   5.73e+05      5.160      0.000    1.82e+06    4.09e+06\n",
       "Financial situation     -2625.6360   1.01e+04     -0.259      0.796   -2.26e+04    1.74e+04\n",
       "Competitors price        3.776e+06   1.12e+06      3.367      0.001    1.56e+06    5.99e+06\n",
       "Competitors promo share  1.644e+06   9.07e+05      1.812      0.072    -1.5e+05    3.44e+06\n",
       "==============================================================================\n",
       "Omnibus:                       12.569   Durbin-Watson:                   2.238\n",
       "Prob(Omnibus):                  0.002   Jarque-Bera (JB):               13.507\n",
       "Skew:                           0.652   Prob(JB):                      0.00117\n",
       "Kurtosis:                       3.785   Cond. No.                         358.\n",
       "==============================================================================\n",
       "\n",
       "Warnings:\n",
       "[1] Standard Errors assume that the covariance matrix of the errors is correctly specified.\n",
       "\"\"\""
      ]
     },
     "execution_count": 57,
     "metadata": {},
     "output_type": "execute_result"
    }
   ],
   "source": [
    "lm_sm_multi = sm.OLS(y_train, sm.add_constant(X_train)).fit()\n",
    "lm_sm_multi.summary()"
   ]
  },
  {
   "cell_type": "code",
   "execution_count": 58,
   "metadata": {},
   "outputs": [],
   "source": [
    "# Exclude the 2 features from the previous model that have the poorest p-values\n",
    "# Retrain the model with the rest 3 features"
   ]
  },
  {
   "cell_type": "code",
   "execution_count": 59,
   "metadata": {},
   "outputs": [
    {
     "name": "stdout",
     "output_type": "stream",
     "text": [
      "Beer Data shape:  (201, 21)\n",
      "X_train shape:  (140, 3)\n",
      "X_test shape:  (61, 3)\n",
      "Y_train shape:  (140,)\n",
      "Y_test shape:  (61,)\n"
     ]
    }
   ],
   "source": [
    "import statsmodels.api as sm\n",
    "from sklearn.model_selection import train_test_split\n",
    "X = beer_data[['Promo share', 'Competitors price', 'Competitors promo share']]\n",
    "Y = beer_data['Sales volume']\n",
    "X_train, X_test, y_train, y_test = train_test_split(X, Y, test_size=0.3, random_state=101)\n",
    "\n",
    "print ('Beer Data shape: ', beer_data.shape)\n",
    "print ('X_train shape: ', X_train.shape)\n",
    "print ('X_test shape: ', X_test.shape)\n",
    "print ('Y_train shape: ', y_train.shape)\n",
    "print ('Y_test shape: ', y_test.shape)"
   ]
  },
  {
   "cell_type": "code",
   "execution_count": 60,
   "metadata": {},
   "outputs": [
    {
     "data": {
      "text/html": [
       "<table class=\"simpletable\">\n",
       "<caption>OLS Regression Results</caption>\n",
       "<tr>\n",
       "  <th>Dep. Variable:</th>      <td>Sales volume</td>   <th>  R-squared:         </th> <td>   0.635</td>\n",
       "</tr>\n",
       "<tr>\n",
       "  <th>Model:</th>                   <td>OLS</td>       <th>  Adj. R-squared:    </th> <td>   0.627</td>\n",
       "</tr>\n",
       "<tr>\n",
       "  <th>Method:</th>             <td>Least Squares</td>  <th>  F-statistic:       </th> <td>   78.85</td>\n",
       "</tr>\n",
       "<tr>\n",
       "  <th>Date:</th>             <td>Wed, 12 Jun 2019</td> <th>  Prob (F-statistic):</th> <td>1.30e-29</td>\n",
       "</tr>\n",
       "<tr>\n",
       "  <th>Time:</th>                 <td>11:49:26</td>     <th>  Log-Likelihood:    </th> <td> -2035.2</td>\n",
       "</tr>\n",
       "<tr>\n",
       "  <th>No. Observations:</th>      <td>   140</td>      <th>  AIC:               </th> <td>   4078.</td>\n",
       "</tr>\n",
       "<tr>\n",
       "  <th>Df Residuals:</th>          <td>   136</td>      <th>  BIC:               </th> <td>   4090.</td>\n",
       "</tr>\n",
       "<tr>\n",
       "  <th>Df Model:</th>              <td>     3</td>      <th>                     </th>     <td> </td>   \n",
       "</tr>\n",
       "<tr>\n",
       "  <th>Covariance Type:</th>      <td>nonrobust</td>    <th>                     </th>     <td> </td>   \n",
       "</tr>\n",
       "</table>\n",
       "<table class=\"simpletable\">\n",
       "<tr>\n",
       "             <td></td>                <th>coef</th>     <th>std err</th>      <th>t</th>      <th>P>|t|</th>  <th>[0.025</th>    <th>0.975]</th>  \n",
       "</tr>\n",
       "<tr>\n",
       "  <th>const</th>                   <td>-4.665e+06</td> <td> 1.64e+06</td> <td>   -2.852</td> <td> 0.005</td> <td> -7.9e+06</td> <td>-1.43e+06</td>\n",
       "</tr>\n",
       "<tr>\n",
       "  <th>Promo share</th>             <td> 3.817e+06</td> <td> 2.73e+05</td> <td>   13.997</td> <td> 0.000</td> <td> 3.28e+06</td> <td> 4.36e+06</td>\n",
       "</tr>\n",
       "<tr>\n",
       "  <th>Competitors price</th>       <td> 2.794e+06</td> <td> 8.67e+05</td> <td>    3.221</td> <td> 0.002</td> <td> 1.08e+06</td> <td> 4.51e+06</td>\n",
       "</tr>\n",
       "<tr>\n",
       "  <th>Competitors promo share</th> <td> 8.334e+05</td> <td>  7.3e+05</td> <td>    1.142</td> <td> 0.255</td> <td>-6.09e+05</td> <td> 2.28e+06</td>\n",
       "</tr>\n",
       "</table>\n",
       "<table class=\"simpletable\">\n",
       "<tr>\n",
       "  <th>Omnibus:</th>       <td>13.094</td> <th>  Durbin-Watson:     </th> <td>   2.229</td>\n",
       "</tr>\n",
       "<tr>\n",
       "  <th>Prob(Omnibus):</th> <td> 0.001</td> <th>  Jarque-Bera (JB):  </th> <td>  14.637</td>\n",
       "</tr>\n",
       "<tr>\n",
       "  <th>Skew:</th>          <td> 0.641</td> <th>  Prob(JB):          </th> <td>0.000663</td>\n",
       "</tr>\n",
       "<tr>\n",
       "  <th>Kurtosis:</th>      <td> 3.929</td> <th>  Cond. No.          </th> <td>    92.0</td>\n",
       "</tr>\n",
       "</table><br/><br/>Warnings:<br/>[1] Standard Errors assume that the covariance matrix of the errors is correctly specified."
      ],
      "text/plain": [
       "<class 'statsmodels.iolib.summary.Summary'>\n",
       "\"\"\"\n",
       "                            OLS Regression Results                            \n",
       "==============================================================================\n",
       "Dep. Variable:           Sales volume   R-squared:                       0.635\n",
       "Model:                            OLS   Adj. R-squared:                  0.627\n",
       "Method:                 Least Squares   F-statistic:                     78.85\n",
       "Date:                Wed, 12 Jun 2019   Prob (F-statistic):           1.30e-29\n",
       "Time:                        11:49:26   Log-Likelihood:                -2035.2\n",
       "No. Observations:                 140   AIC:                             4078.\n",
       "Df Residuals:                     136   BIC:                             4090.\n",
       "Df Model:                           3                                         \n",
       "Covariance Type:            nonrobust                                         \n",
       "===========================================================================================\n",
       "                              coef    std err          t      P>|t|      [0.025      0.975]\n",
       "-------------------------------------------------------------------------------------------\n",
       "const                   -4.665e+06   1.64e+06     -2.852      0.005    -7.9e+06   -1.43e+06\n",
       "Promo share              3.817e+06   2.73e+05     13.997      0.000    3.28e+06    4.36e+06\n",
       "Competitors price        2.794e+06   8.67e+05      3.221      0.002    1.08e+06    4.51e+06\n",
       "Competitors promo share  8.334e+05    7.3e+05      1.142      0.255   -6.09e+05    2.28e+06\n",
       "==============================================================================\n",
       "Omnibus:                       13.094   Durbin-Watson:                   2.229\n",
       "Prob(Omnibus):                  0.001   Jarque-Bera (JB):               14.637\n",
       "Skew:                           0.641   Prob(JB):                     0.000663\n",
       "Kurtosis:                       3.929   Cond. No.                         92.0\n",
       "==============================================================================\n",
       "\n",
       "Warnings:\n",
       "[1] Standard Errors assume that the covariance matrix of the errors is correctly specified.\n",
       "\"\"\""
      ]
     },
     "execution_count": 60,
     "metadata": {},
     "output_type": "execute_result"
    }
   ],
   "source": [
    "lm_sm_multi_3 = sm.OLS(y_train, sm.add_constant(X_train)).fit()\n",
    "lm_sm_multi_3.summary()"
   ]
  },
  {
   "cell_type": "code",
   "execution_count": 61,
   "metadata": {},
   "outputs": [],
   "source": [
    "# Add 3 dummy variables in the model with 3 features"
   ]
  },
  {
   "cell_type": "code",
   "execution_count": 62,
   "metadata": {},
   "outputs": [
    {
     "name": "stdout",
     "output_type": "stream",
     "text": [
      "Beer Data shape:  (201, 21)\n",
      "X_train shape:  (140, 6)\n",
      "X_test shape:  (61, 6)\n",
      "Y_train shape:  (140,)\n",
      "Y_test shape:  (61,)\n"
     ]
    }
   ],
   "source": [
    "import statsmodels.api as sm\n",
    "from sklearn.model_selection import train_test_split\n",
    "X = beer_data[['Promo share', 'Competitors price', 'Competitors promo share', 'Christmas & New Year', 'Easter', 'Olympic games']]\n",
    "Y = beer_data['Sales volume']\n",
    "X_train, X_test, y_train, y_test = train_test_split(X, Y, test_size=0.3, random_state=101)\n",
    "\n",
    "print ('Beer Data shape: ', beer_data.shape)\n",
    "print ('X_train shape: ', X_train.shape)\n",
    "print ('X_test shape: ', X_test.shape)\n",
    "print ('Y_train shape: ', y_train.shape)\n",
    "print ('Y_test shape: ', y_test.shape)"
   ]
  },
  {
   "cell_type": "code",
   "execution_count": 63,
   "metadata": {},
   "outputs": [
    {
     "data": {
      "text/html": [
       "<table class=\"simpletable\">\n",
       "<caption>OLS Regression Results</caption>\n",
       "<tr>\n",
       "  <th>Dep. Variable:</th>      <td>Sales volume</td>   <th>  R-squared:         </th> <td>   0.707</td>\n",
       "</tr>\n",
       "<tr>\n",
       "  <th>Model:</th>                   <td>OLS</td>       <th>  Adj. R-squared:    </th> <td>   0.694</td>\n",
       "</tr>\n",
       "<tr>\n",
       "  <th>Method:</th>             <td>Least Squares</td>  <th>  F-statistic:       </th> <td>   53.53</td>\n",
       "</tr>\n",
       "<tr>\n",
       "  <th>Date:</th>             <td>Wed, 12 Jun 2019</td> <th>  Prob (F-statistic):</th> <td>3.98e-33</td>\n",
       "</tr>\n",
       "<tr>\n",
       "  <th>Time:</th>                 <td>11:49:26</td>     <th>  Log-Likelihood:    </th> <td> -2019.8</td>\n",
       "</tr>\n",
       "<tr>\n",
       "  <th>No. Observations:</th>      <td>   140</td>      <th>  AIC:               </th> <td>   4054.</td>\n",
       "</tr>\n",
       "<tr>\n",
       "  <th>Df Residuals:</th>          <td>   133</td>      <th>  BIC:               </th> <td>   4074.</td>\n",
       "</tr>\n",
       "<tr>\n",
       "  <th>Df Model:</th>              <td>     6</td>      <th>                     </th>     <td> </td>   \n",
       "</tr>\n",
       "<tr>\n",
       "  <th>Covariance Type:</th>      <td>nonrobust</td>    <th>                     </th>     <td> </td>   \n",
       "</tr>\n",
       "</table>\n",
       "<table class=\"simpletable\">\n",
       "<tr>\n",
       "             <td></td>                <th>coef</th>     <th>std err</th>      <th>t</th>      <th>P>|t|</th>  <th>[0.025</th>    <th>0.975]</th>  \n",
       "</tr>\n",
       "<tr>\n",
       "  <th>const</th>                   <td>-6.584e+06</td> <td> 1.53e+06</td> <td>   -4.313</td> <td> 0.000</td> <td> -9.6e+06</td> <td>-3.56e+06</td>\n",
       "</tr>\n",
       "<tr>\n",
       "  <th>Promo share</th>             <td> 3.627e+06</td> <td> 2.53e+05</td> <td>   14.360</td> <td> 0.000</td> <td> 3.13e+06</td> <td> 4.13e+06</td>\n",
       "</tr>\n",
       "<tr>\n",
       "  <th>Competitors price</th>       <td> 3.945e+06</td> <td> 8.13e+05</td> <td>    4.852</td> <td> 0.000</td> <td> 2.34e+06</td> <td> 5.55e+06</td>\n",
       "</tr>\n",
       "<tr>\n",
       "  <th>Competitors promo share</th> <td> 1.114e+06</td> <td> 6.77e+05</td> <td>    1.647</td> <td> 0.102</td> <td>-2.24e+05</td> <td> 2.45e+06</td>\n",
       "</tr>\n",
       "<tr>\n",
       "  <th>Christmas & New Year</th>    <td> 1.177e+06</td> <td> 2.17e+05</td> <td>    5.425</td> <td> 0.000</td> <td> 7.48e+05</td> <td> 1.61e+06</td>\n",
       "</tr>\n",
       "<tr>\n",
       "  <th>Easter</th>                  <td>-1.309e+05</td> <td> 1.94e+05</td> <td>   -0.676</td> <td> 0.500</td> <td>-5.14e+05</td> <td> 2.52e+05</td>\n",
       "</tr>\n",
       "<tr>\n",
       "  <th>Olympic games</th>           <td>-3.485e+05</td> <td> 2.37e+05</td> <td>   -1.468</td> <td> 0.145</td> <td>-8.18e+05</td> <td> 1.21e+05</td>\n",
       "</tr>\n",
       "</table>\n",
       "<table class=\"simpletable\">\n",
       "<tr>\n",
       "  <th>Omnibus:</th>       <td> 1.196</td> <th>  Durbin-Watson:     </th> <td>   2.070</td>\n",
       "</tr>\n",
       "<tr>\n",
       "  <th>Prob(Omnibus):</th> <td> 0.550</td> <th>  Jarque-Bera (JB):  </th> <td>   0.982</td>\n",
       "</tr>\n",
       "<tr>\n",
       "  <th>Skew:</th>          <td> 0.204</td> <th>  Prob(JB):          </th> <td>   0.612</td>\n",
       "</tr>\n",
       "<tr>\n",
       "  <th>Kurtosis:</th>      <td> 3.041</td> <th>  Cond. No.          </th> <td>    94.9</td>\n",
       "</tr>\n",
       "</table><br/><br/>Warnings:<br/>[1] Standard Errors assume that the covariance matrix of the errors is correctly specified."
      ],
      "text/plain": [
       "<class 'statsmodels.iolib.summary.Summary'>\n",
       "\"\"\"\n",
       "                            OLS Regression Results                            \n",
       "==============================================================================\n",
       "Dep. Variable:           Sales volume   R-squared:                       0.707\n",
       "Model:                            OLS   Adj. R-squared:                  0.694\n",
       "Method:                 Least Squares   F-statistic:                     53.53\n",
       "Date:                Wed, 12 Jun 2019   Prob (F-statistic):           3.98e-33\n",
       "Time:                        11:49:26   Log-Likelihood:                -2019.8\n",
       "No. Observations:                 140   AIC:                             4054.\n",
       "Df Residuals:                     133   BIC:                             4074.\n",
       "Df Model:                           6                                         \n",
       "Covariance Type:            nonrobust                                         \n",
       "===========================================================================================\n",
       "                              coef    std err          t      P>|t|      [0.025      0.975]\n",
       "-------------------------------------------------------------------------------------------\n",
       "const                   -6.584e+06   1.53e+06     -4.313      0.000    -9.6e+06   -3.56e+06\n",
       "Promo share              3.627e+06   2.53e+05     14.360      0.000    3.13e+06    4.13e+06\n",
       "Competitors price        3.945e+06   8.13e+05      4.852      0.000    2.34e+06    5.55e+06\n",
       "Competitors promo share  1.114e+06   6.77e+05      1.647      0.102   -2.24e+05    2.45e+06\n",
       "Christmas & New Year     1.177e+06   2.17e+05      5.425      0.000    7.48e+05    1.61e+06\n",
       "Easter                  -1.309e+05   1.94e+05     -0.676      0.500   -5.14e+05    2.52e+05\n",
       "Olympic games           -3.485e+05   2.37e+05     -1.468      0.145   -8.18e+05    1.21e+05\n",
       "==============================================================================\n",
       "Omnibus:                        1.196   Durbin-Watson:                   2.070\n",
       "Prob(Omnibus):                  0.550   Jarque-Bera (JB):                0.982\n",
       "Skew:                           0.204   Prob(JB):                        0.612\n",
       "Kurtosis:                       3.041   Cond. No.                         94.9\n",
       "==============================================================================\n",
       "\n",
       "Warnings:\n",
       "[1] Standard Errors assume that the covariance matrix of the errors is correctly specified.\n",
       "\"\"\""
      ]
     },
     "execution_count": 63,
     "metadata": {},
     "output_type": "execute_result"
    }
   ],
   "source": [
    "lm_sm_multi_3_3 = sm.OLS(y_train, sm.add_constant(X_train)).fit()\n",
    "lm_sm_multi_3_3.summary()"
   ]
  },
  {
   "cell_type": "markdown",
   "metadata": {},
   "source": [
    "### RIDGE REGRESSION"
   ]
  },
  {
   "cell_type": "code",
   "execution_count": 64,
   "metadata": {},
   "outputs": [],
   "source": [
    "# Apply ridge regularization on the follwing model\n",
    "# Sales Volume ~ 'Promo share', 'Competitors price', 'Competitors promo share', 'Christmas & New Year', 'Easter', 'Olympic games'\n",
    "# Use the following code to generate lambdas\n",
    "# n_lambdas = 200\n",
    "# lambdas = np.logspace(-3, 6, n_lambdas)\n",
    "# Plot the dependency Coefficient ~ Lambda\n",
    "\n",
    "# Use training set from previous model"
   ]
  },
  {
   "cell_type": "code",
   "execution_count": 65,
   "metadata": {},
   "outputs": [],
   "source": [
    "from sklearn import linear_model\n",
    "n_lambdas = 200\n",
    "lambdas = np.logspace(-3, 6, n_lambdas)\n",
    "coefs = []\n",
    "for a in lambdas:\n",
    "    ridge = linear_model.Ridge(alpha=a, fit_intercept=False)\n",
    "    ridge.fit(X_train, y_train)\n",
    "    coefs.append(ridge.coef_)"
   ]
  },
  {
   "cell_type": "code",
   "execution_count": 66,
   "metadata": {},
   "outputs": [
    {
     "data": {
      "image/png": "[encoded data removed]",
      "text/plain": [
       "<Figure size 432x288 with 1 Axes>"
      ]
     },
     "metadata": {
      "needs_background": "light"
     },
     "output_type": "display_data"
    }
   ],
   "source": [
    "ax = plt.gca()\n",
    "\n",
    "ax.plot(lambdas, coefs)\n",
    "ax.set_xscale('log')\n",
    "ax.set_xlim(ax.get_xlim()[::-1])  # reverse axis\n",
    "plt.xlabel('lambda')\n",
    "plt.ylabel('weights')\n",
    "plt.title('Ridge coefficients as a function of the regularization')\n",
    "plt.axis('tight')\n",
    "plt.show()"
   ]
  },
  {
   "cell_type": "markdown",
   "metadata": {},
   "source": [
    "### LASSO"
   ]
  },
  {
   "cell_type": "code",
   "execution_count": 67,
   "metadata": {},
   "outputs": [],
   "source": [
    "# Create two LASSO models\n",
    "# 1) lambda = -400\n",
    "# 2) lambda = 5000\n",
    "# Compare the coefficients retrieved from both models, trained on:\n",
    "# Sales Volume ~ 'Promo share', 'Competitors price', 'Competitors promo share', 'Christmas & New Year', 'Easter', 'Olympic games'\n",
    "# Use training data only"
   ]
  },
  {
   "cell_type": "code",
   "execution_count": 68,
   "metadata": {},
   "outputs": [],
   "source": [
    "from sklearn.linear_model import Lasso\n",
    "lasso_1 = Lasso(alpha = -400)\n",
    "lasso_2 = Lasso(alpha = 5000)"
   ]
  },
  {
   "cell_type": "code",
   "execution_count": 69,
   "metadata": {},
   "outputs": [
    {
     "data": {
      "text/plain": [
       "Lasso(alpha=-400, copy_X=True, fit_intercept=True, max_iter=1000,\n",
       "   normalize=False, positive=False, precompute=False, random_state=None,\n",
       "   selection='cyclic', tol=0.0001, warm_start=False)"
      ]
     },
     "execution_count": 69,
     "metadata": {},
     "output_type": "execute_result"
    }
   ],
   "source": [
    "lasso_1.fit(X_train, y_train)"
   ]
  },
  {
   "cell_type": "code",
   "execution_count": 70,
   "metadata": {},
   "outputs": [
    {
     "data": {
      "text/plain": [
       "Lasso(alpha=5000, copy_X=True, fit_intercept=True, max_iter=1000,\n",
       "   normalize=False, positive=False, precompute=False, random_state=None,\n",
       "   selection='cyclic', tol=0.0001, warm_start=False)"
      ]
     },
     "execution_count": 70,
     "metadata": {},
     "output_type": "execute_result"
    }
   ],
   "source": [
    "lasso_2.fit(X_train, y_train)"
   ]
  },
  {
   "cell_type": "code",
   "execution_count": 71,
   "metadata": {},
   "outputs": [
    {
     "data": {
      "text/plain": [
       "array([3651664.60944381, 4198674.47990959, 1325294.81147882,\n",
       "       1197431.95923221, -145789.74338723, -378673.3089357 ])"
      ]
     },
     "execution_count": 71,
     "metadata": {},
     "output_type": "execute_result"
    }
   ],
   "source": [
    "lasso_1.coef_"
   ]
  },
  {
   "cell_type": "code",
   "execution_count": 72,
   "metadata": {},
   "outputs": [
    {
     "data": {
      "text/plain": [
       "array([3470165.54414872, 1572113.97714306,       0.        ,\n",
       "        928301.54954681,      -0.        ,  -75950.01437483])"
      ]
     },
     "execution_count": 72,
     "metadata": {},
     "output_type": "execute_result"
    }
   ],
   "source": [
    "lasso_2.coef_"
   ]
  },
  {
   "cell_type": "code",
   "execution_count": 73,
   "metadata": {},
   "outputs": [],
   "source": [
    "# Which coefficients were set to 0 from the second LASSO model?"
   ]
  },
  {
   "cell_type": "markdown",
   "metadata": {},
   "source": [
    "### TIME SERIES"
   ]
  },
  {
   "cell_type": "markdown",
   "metadata": {},
   "source": [
    "Working with TimeSeries in Python"
   ]
  },
  {
   "cell_type": "code",
   "execution_count": 74,
   "metadata": {},
   "outputs": [],
   "source": [
    "# Change the index of the dataset with a datetime index"
   ]
  },
  {
   "cell_type": "code",
   "execution_count": 75,
   "metadata": {},
   "outputs": [],
   "source": [
    "date = pd.to_datetime(\"01-05-2015\")\n",
    "ts_index = date + pd.to_timedelta(np.arange(201), 'W')"
   ]
  },
  {
   "cell_type": "code",
   "execution_count": 76,
   "metadata": {},
   "outputs": [
    {
     "data": {
      "text/plain": [
       "DatetimeIndex(['2015-01-05', '2015-01-12', '2015-01-19', '2015-01-26',\n",
       "               '2015-02-02', '2015-02-09', '2015-02-16', '2015-02-23',\n",
       "               '2015-03-02', '2015-03-09',\n",
       "               ...\n",
       "               '2018-09-03', '2018-09-10', '2018-09-17', '2018-09-24',\n",
       "               '2018-10-01', '2018-10-08', '2018-10-15', '2018-10-22',\n",
       "               '2018-10-29', '2018-11-05'],\n",
       "              dtype='datetime64[ns]', length=201, freq=None)"
      ]
     },
     "execution_count": 76,
     "metadata": {},
     "output_type": "execute_result"
    }
   ],
   "source": [
    "ts_index # examine the DateTime object (called DateTime Index)"
   ]
  },
  {
   "cell_type": "code",
   "execution_count": 77,
   "metadata": {},
   "outputs": [],
   "source": [
    "# We could get the same DateTime Index with the following code:\n",
    "# ts_index = pd.date_range('2015-01-01', periods=201, freq='W-MON')"
   ]
  },
  {
   "cell_type": "code",
   "execution_count": 100,
   "metadata": {},
   "outputs": [
    {
     "data": {
      "text/plain": [
       "(201, 21)"
      ]
     },
     "execution_count": 100,
     "metadata": {},
     "output_type": "execute_result"
    }
   ],
   "source": [
    "beer_data.shape"
   ]
  },
  {
   "cell_type": "code",
   "execution_count": 99,
   "metadata": {},
   "outputs": [
    {
     "data": {
      "text/plain": [
       "(201,)"
      ]
     },
     "execution_count": 99,
     "metadata": {},
     "output_type": "execute_result"
    }
   ],
   "source": [
    "# We have 201 rows, meaning that we have to provide 201 weekly timestamps!\n",
    "ts_index.shape"
   ]
  },
  {
   "cell_type": "code",
   "execution_count": 80,
   "metadata": {},
   "outputs": [],
   "source": [
    "beer_data_ts = beer_data.copy()"
   ]
  },
  {
   "cell_type": "code",
   "execution_count": 81,
   "metadata": {},
   "outputs": [],
   "source": [
    "beer_data_ts.index = ts_index"
   ]
  },
  {
   "cell_type": "code",
   "execution_count": 82,
   "metadata": {},
   "outputs": [
    {
     "name": "stdout",
     "output_type": "stream",
     "text": [
      "<class 'pandas.core.frame.DataFrame'>\n",
      "DatetimeIndex: 201 entries, 2015-01-05 to 2018-11-05\n",
      "Data columns (total 21 columns):\n",
      "Sales volume                                 201 non-null float64\n",
      "Price                                        201 non-null float64\n",
      "Promo share                                  201 non-null float64\n",
      "Unemployment                                 201 non-null float64\n",
      "Economic climate                             201 non-null float64\n",
      "Financial situation                          201 non-null float64\n",
      "Competitors price                            201 non-null float64\n",
      "Competitors promo share                      201 non-null float64\n",
      "Christmas & New Year                         201 non-null int64\n",
      "King's Day                                   201 non-null int64\n",
      "Easter                                       201 non-null int64\n",
      "Sinterklaas                                  201 non-null int64\n",
      "Football                                     201 non-null int64\n",
      "Olympic games                                201 non-null int64\n",
      "Social media Sentiment Total                 201 non-null int64\n",
      "Social media P/N ratio                       201 non-null float64\n",
      "Social media (Share of negative mentions)    201 non-null float64\n",
      "Temperature                                  201 non-null float64\n",
      "Precipitation                                201 non-null float64\n",
      "Sunshine duration                            201 non-null float64\n",
      "Price^2                                      201 non-null float64\n",
      "dtypes: float64(14), int64(7)\n",
      "memory usage: 34.5 KB\n"
     ]
    }
   ],
   "source": [
    "# Let us now examine the information about the dataset\n",
    "beer_data_ts.info()"
   ]
  },
  {
   "cell_type": "code",
   "execution_count": 83,
   "metadata": {},
   "outputs": [
    {
     "data": {
      "text/html": [
       "<div>\n",
       "<style scoped>\n",
       "    .dataframe tbody tr th:only-of-type {\n",
       "        vertical-align: middle;\n",
       "    }\n",
       "\n",
       "    .dataframe tbody tr th {\n",
       "        vertical-align: top;\n",
       "    }\n",
       "\n",
       "    .dataframe thead th {\n",
       "        text-align: right;\n",
       "    }\n",
       "</style>\n",
       "<table border=\"1\" class=\"dataframe\">\n",
       "  <thead>\n",
       "    <tr style=\"text-align: right;\">\n",
       "      <th></th>\n",
       "      <th>Sales volume</th>\n",
       "      <th>Price</th>\n",
       "      <th>Promo share</th>\n",
       "      <th>Unemployment</th>\n",
       "      <th>Economic climate</th>\n",
       "      <th>Financial situation</th>\n",
       "      <th>Competitors price</th>\n",
       "      <th>Competitors promo share</th>\n",
       "      <th>Christmas &amp; New Year</th>\n",
       "      <th>King's Day</th>\n",
       "      <th>Easter</th>\n",
       "      <th>Sinterklaas</th>\n",
       "      <th>Football</th>\n",
       "      <th>Olympic games</th>\n",
       "      <th>Social media Sentiment Total</th>\n",
       "      <th>Social media P/N ratio</th>\n",
       "      <th>Social media (Share of negative mentions)</th>\n",
       "      <th>Temperature</th>\n",
       "      <th>Precipitation</th>\n",
       "      <th>Sunshine duration</th>\n",
       "      <th>Price^2</th>\n",
       "    </tr>\n",
       "  </thead>\n",
       "  <tbody>\n",
       "    <tr>\n",
       "      <th>2015-01-05</th>\n",
       "      <td>3740647.6</td>\n",
       "      <td>1.635016</td>\n",
       "      <td>0.749089</td>\n",
       "      <td>7.000000</td>\n",
       "      <td>4.000000</td>\n",
       "      <td>-17.000000</td>\n",
       "      <td>1.475020</td>\n",
       "      <td>0.532742</td>\n",
       "      <td>1</td>\n",
       "      <td>0</td>\n",
       "      <td>0</td>\n",
       "      <td>0</td>\n",
       "      <td>0</td>\n",
       "      <td>0</td>\n",
       "      <td>49</td>\n",
       "      <td>0.265306</td>\n",
       "      <td>0.081633</td>\n",
       "      <td>4.516176</td>\n",
       "      <td>21.195312</td>\n",
       "      <td>30.459677</td>\n",
       "      <td>2.673279</td>\n",
       "    </tr>\n",
       "    <tr>\n",
       "      <th>2015-01-12</th>\n",
       "      <td>1557032.4</td>\n",
       "      <td>1.802296</td>\n",
       "      <td>0.381650</td>\n",
       "      <td>7.000000</td>\n",
       "      <td>4.000000</td>\n",
       "      <td>-17.000000</td>\n",
       "      <td>1.627360</td>\n",
       "      <td>0.264413</td>\n",
       "      <td>0</td>\n",
       "      <td>0</td>\n",
       "      <td>0</td>\n",
       "      <td>0</td>\n",
       "      <td>0</td>\n",
       "      <td>0</td>\n",
       "      <td>140</td>\n",
       "      <td>0.164286</td>\n",
       "      <td>0.071429</td>\n",
       "      <td>5.840336</td>\n",
       "      <td>29.133929</td>\n",
       "      <td>15.534562</td>\n",
       "      <td>3.248272</td>\n",
       "    </tr>\n",
       "    <tr>\n",
       "      <th>2015-01-19</th>\n",
       "      <td>1547997.2</td>\n",
       "      <td>1.965868</td>\n",
       "      <td>0.343765</td>\n",
       "      <td>7.192916</td>\n",
       "      <td>4.828826</td>\n",
       "      <td>-16.716865</td>\n",
       "      <td>1.501296</td>\n",
       "      <td>0.522655</td>\n",
       "      <td>0</td>\n",
       "      <td>0</td>\n",
       "      <td>0</td>\n",
       "      <td>0</td>\n",
       "      <td>0</td>\n",
       "      <td>0</td>\n",
       "      <td>231</td>\n",
       "      <td>0.398268</td>\n",
       "      <td>0.017316</td>\n",
       "      <td>5.547479</td>\n",
       "      <td>59.700893</td>\n",
       "      <td>17.838710</td>\n",
       "      <td>3.864637</td>\n",
       "    </tr>\n",
       "    <tr>\n",
       "      <th>2015-01-26</th>\n",
       "      <td>2565525.7</td>\n",
       "      <td>1.630730</td>\n",
       "      <td>0.664251</td>\n",
       "      <td>7.368666</td>\n",
       "      <td>5.526122</td>\n",
       "      <td>-16.446983</td>\n",
       "      <td>1.576631</td>\n",
       "      <td>0.463989</td>\n",
       "      <td>0</td>\n",
       "      <td>0</td>\n",
       "      <td>0</td>\n",
       "      <td>0</td>\n",
       "      <td>0</td>\n",
       "      <td>0</td>\n",
       "      <td>114</td>\n",
       "      <td>0.157895</td>\n",
       "      <td>0.140351</td>\n",
       "      <td>0.606723</td>\n",
       "      <td>10.620536</td>\n",
       "      <td>19.198157</td>\n",
       "      <td>2.659280</td>\n",
       "    </tr>\n",
       "    <tr>\n",
       "      <th>2015-02-02</th>\n",
       "      <td>1665819.4</td>\n",
       "      <td>1.852473</td>\n",
       "      <td>0.414259</td>\n",
       "      <td>7.510083</td>\n",
       "      <td>5.960357</td>\n",
       "      <td>-16.203610</td>\n",
       "      <td>1.568776</td>\n",
       "      <td>0.527898</td>\n",
       "      <td>0</td>\n",
       "      <td>0</td>\n",
       "      <td>0</td>\n",
       "      <td>0</td>\n",
       "      <td>0</td>\n",
       "      <td>0</td>\n",
       "      <td>92</td>\n",
       "      <td>0.315217</td>\n",
       "      <td>0.108696</td>\n",
       "      <td>3.342017</td>\n",
       "      <td>33.973214</td>\n",
       "      <td>22.391705</td>\n",
       "      <td>3.431657</td>\n",
       "    </tr>\n",
       "  </tbody>\n",
       "</table>\n",
       "</div>"
      ],
      "text/plain": [
       "            Sales volume     Price  Promo share  Unemployment  \\\n",
       "2015-01-05     3740647.6  1.635016     0.749089      7.000000   \n",
       "2015-01-12     1557032.4  1.802296     0.381650      7.000000   \n",
       "2015-01-19     1547997.2  1.965868     0.343765      7.192916   \n",
       "2015-01-26     2565525.7  1.630730     0.664251      7.368666   \n",
       "2015-02-02     1665819.4  1.852473     0.414259      7.510083   \n",
       "\n",
       "            Economic climate  Financial situation  Competitors price  \\\n",
       "2015-01-05          4.000000           -17.000000           1.475020   \n",
       "2015-01-12          4.000000           -17.000000           1.627360   \n",
       "2015-01-19          4.828826           -16.716865           1.501296   \n",
       "2015-01-26          5.526122           -16.446983           1.576631   \n",
       "2015-02-02          5.960357           -16.203610           1.568776   \n",
       "\n",
       "            Competitors promo share  Christmas & New Year  King's Day  Easter  \\\n",
       "2015-01-05                 0.532742                     1           0       0   \n",
       "2015-01-12                 0.264413                     0           0       0   \n",
       "2015-01-19                 0.522655                     0           0       0   \n",
       "2015-01-26                 0.463989                     0           0       0   \n",
       "2015-02-02                 0.527898                     0           0       0   \n",
       "\n",
       "            Sinterklaas  Football  Olympic games  \\\n",
       "2015-01-05            0         0              0   \n",
       "2015-01-12            0         0              0   \n",
       "2015-01-19            0         0              0   \n",
       "2015-01-26            0         0              0   \n",
       "2015-02-02            0         0              0   \n",
       "\n",
       "            Social media Sentiment Total  Social media P/N ratio  \\\n",
       "2015-01-05                            49                0.265306   \n",
       "2015-01-12                           140                0.164286   \n",
       "2015-01-19                           231                0.398268   \n",
       "2015-01-26                           114                0.157895   \n",
       "2015-02-02                            92                0.315217   \n",
       "\n",
       "            Social media (Share of negative mentions)  Temperature  \\\n",
       "2015-01-05                                   0.081633     4.516176   \n",
       "2015-01-12                                   0.071429     5.840336   \n",
       "2015-01-19                                   0.017316     5.547479   \n",
       "2015-01-26                                   0.140351     0.606723   \n",
       "2015-02-02                                   0.108696     3.342017   \n",
       "\n",
       "            Precipitation  Sunshine duration   Price^2  \n",
       "2015-01-05      21.195312          30.459677  2.673279  \n",
       "2015-01-12      29.133929          15.534562  3.248272  \n",
       "2015-01-19      59.700893          17.838710  3.864637  \n",
       "2015-01-26      10.620536          19.198157  2.659280  \n",
       "2015-02-02      33.973214          22.391705  3.431657  "
      ]
     },
     "execution_count": 83,
     "metadata": {},
     "output_type": "execute_result"
    }
   ],
   "source": [
    "# and the five top rows\n",
    "beer_data_ts.head()"
   ]
  },
  {
   "cell_type": "code",
   "execution_count": 84,
   "metadata": {},
   "outputs": [],
   "source": [
    "# Can we notice the difference between the two charts given below?\n",
    "# Please pay attention to the X axis"
   ]
  },
  {
   "cell_type": "code",
   "execution_count": 85,
   "metadata": {},
   "outputs": [
    {
     "data": {
      "image/png": "[encoded data removed]",
      "text/plain": [
       "<Figure size 1152x648 with 1 Axes>"
      ]
     },
     "metadata": {
      "needs_background": "light"
     },
     "output_type": "display_data"
    }
   ],
   "source": [
    "beer_data_ts['Sales volume'].plot(figsize=(16,9));"
   ]
  },
  {
   "cell_type": "code",
   "execution_count": 86,
   "metadata": {},
   "outputs": [
    {
     "data": {
      "image/png": "[encoded data removed]",
      "text/plain": [
       "<Figure size 1152x648 with 1 Axes>"
      ]
     },
     "metadata": {
      "needs_background": "light"
     },
     "output_type": "display_data"
    }
   ],
   "source": [
    "beer_data['Sales volume'].plot(figsize=(16,9));"
   ]
  },
  {
   "cell_type": "code",
   "execution_count": 87,
   "metadata": {},
   "outputs": [],
   "source": [
    "# What can we make of a TimeSeries?"
   ]
  },
  {
   "cell_type": "markdown",
   "metadata": {},
   "source": [
    "Time Series Components<br>\n",
    "A useful abstraction for selecting forecasting methods is to break a time series down into systematic and unsystematic components.<br>\n",
    "<ul>\n",
    "   <li> <b>Systematic</b>: Components of the time series that have consistency or recurrence and can be described and modeled.</li>\n",
    "    <li><b>\n",
    "        Non-Systematic</b>: Components of the time series that cannot be directly modeled.</ul>\n",
    "A given time series is thought to consist of three systematic components including level, trend, seasonality, and one non-systematic component called noise.<br>\n",
    "\n",
    "These components are defined as follows:<br>\n",
    "<ul>\n",
    "<li><b>Level</b>: The average value in the series.</li>\n",
    "<li><b>Trend</b>: The increasing or decreasing value in the series.</li>\n",
    "<li><b>Seasonality</b>: The repeating short-term cycle in the series.</li>\n",
    "<li><b>Noise</b>: The random variation in the series.</li>\n",
    " </ul>"
   ]
  },
  {
   "cell_type": "markdown",
   "metadata": {},
   "source": [
    "<b>Combining Time Series Components</b>\n",
    "    \n",
    "A series is thought to be an aggregate or combination of these four components.\n",
    "\n",
    "All series have a level and noise. The trend and seasonality components are optional.\n",
    "\n",
    "It is helpful to think of the components as combining either additively or multiplicatively.\n",
    "\n",
    "<b>Additive Model</b>\n",
    "\n",
    "An additive model suggests that the components are added together as follows:\n",
    "\n",
    "<b>y(t) = Level + Trend + Seasonality + Noise</b>\n",
    "\n",
    "An additive model is linear where changes over time are consistently made by the same amount.\n",
    "\n",
    "A linear trend is a straight line.\n",
    "\n",
    "A linear seasonality has the same frequency (width of cycles) and amplitude (height of cycles)."
   ]
  },
  {
   "cell_type": "markdown",
   "metadata": {},
   "source": [
    "<b>Multiplicative Model</b>\n",
    "\n",
    "A multiplicative model suggests that the components are multiplied together as follows:\n",
    "    \n",
    "    \n",
    "<b>y(t) = Level * Trend * Seasonality * Noise</b>\n",
    "\n",
    "    \n",
    "A multiplicative model is nonlinear, such as quadratic or exponential. Changes increase or decrease over time.\n",
    "\n",
    "A nonlinear trend is a curved line.\n",
    "\n",
    "A non-linear seasonality has an increasing or decreasing frequency and/or amplitude over time."
   ]
  },
  {
   "cell_type": "markdown",
   "metadata": {},
   "source": [
    "Please refer to:\n",
    ">statsmodels.tsa.seasonal.seasonal_decompose"
   ]
  },
  {
   "cell_type": "code",
   "execution_count": 88,
   "metadata": {},
   "outputs": [
    {
     "data": {
      "image/png": "[encoded data removed]",
      "text/plain": [
       "<Figure size 432x288 with 4 Axes>"
      ]
     },
     "metadata": {
      "needs_background": "light"
     },
     "output_type": "display_data"
    }
   ],
   "source": [
    "from statsmodels.tsa.seasonal import seasonal_decompose\n",
    "series = beer_data_ts['Sales volume']\n",
    "result = seasonal_decompose(series, model='additive')\n",
    "result.plot();"
   ]
  },
  {
   "cell_type": "code",
   "execution_count": 89,
   "metadata": {},
   "outputs": [],
   "source": [
    "# ACF - Autocorrelation Function for TimeSeries"
   ]
  },
  {
   "cell_type": "markdown",
   "metadata": {},
   "source": [
    "<b>Correlation and Autocorrelation</b>\n",
    "\n",
    "We can calculate the correlation for time series observations with observations with previous time steps, called lags. Because the correlation of the time series observations is calculated with values of the same series at previous times, this is called a serial correlation, or an autocorrelation.\n",
    "\n",
    "A plot of the autocorrelation of a time series by lag is called the AutoCorrelation Function, or the acronym ACF. This plot is sometimes called a correlogram or an autocorrelation plot."
   ]
  },
  {
   "cell_type": "code",
   "execution_count": 101,
   "metadata": {},
   "outputs": [
    {
     "data": {
      "image/png": "[encoded data removed]",
      "text/plain": [
       "<Figure size 432x288 with 1 Axes>"
      ]
     },
     "metadata": {
      "needs_background": "light"
     },
     "output_type": "display_data"
    }
   ],
   "source": [
    "from statsmodels.graphics.tsaplots import plot_acf\n",
    "plot_acf(series);"
   ]
  },
  {
   "cell_type": "code",
   "execution_count": 91,
   "metadata": {},
   "outputs": [
    {
     "data": {
      "image/png": "[encoded data removed]",
      "text/plain": [
       "<Figure size 432x288 with 1 Axes>"
      ]
     },
     "metadata": {
      "needs_background": "light"
     },
     "output_type": "display_data"
    }
   ],
   "source": [
    "from pandas.tools.plotting import autocorrelation_plot\n",
    "autocorrelation_plot(series[:20]);"
   ]
  },
  {
   "cell_type": "markdown",
   "metadata": {},
   "source": [
    "<b>Stationary Time Series</b>\n",
    "\n",
    "The observations in a stationary time series are not dependent on time.\n",
    "\n",
    "Time series are stationary if they do not have trend or seasonal effects. Summary statistics calculated on the time series are consistent over time, like the mean or the variance of the observations.\n",
    "\n",
    "When a time series is stationary, it can be easier to model. Statistical modeling methods assume or require the time series to be stationary to be effective."
   ]
  },
  {
   "cell_type": "markdown",
   "metadata": {},
   "source": [
    "<b>Non-Stationary Time Series</b>\n",
    "\n",
    "Observations from a non-stationary time series show seasonal effects, trends, and other structures that depend on the time index.\n",
    "\n",
    "Summary statistics like the mean and variance do change over time, providing a drift in the concepts a model may try to capture.\n",
    "\n",
    "Classical time series analysis and forecasting methods are concerned with making non-stationary time series data stationary by identifying and removing trends and removing seasonal effects."
   ]
  },
  {
   "cell_type": "markdown",
   "metadata": {},
   "source": [
    "<b>Augmented Dickey-Fuller test</b>\n",
    "\n",
    "The null hypothesis of the test is that the time series can be represented by a unit root, that it is not stationary (has some time-dependent structure). The alternate hypothesis (rejecting the null hypothesis) is that the time series is stationary.\n",
    "<ul>\n",
    "    <li><b>Null Hypothesis (H0)</b>: If failed to be rejected, it suggests the time series has a unit root, meaning it is non-stationary. It has some time dependent structure.</li>\n",
    "<li><b>Alternate Hypothesis (H1)</b>: The null hypothesis is rejected; it suggests the time series does not have a unit root, meaning it is stationary. It does not have time-dependent structure.</li>\n",
    "    </ul>\n"
   ]
  },
  {
   "cell_type": "code",
   "execution_count": 103,
   "metadata": {},
   "outputs": [
    {
     "name": "stdout",
     "output_type": "stream",
     "text": [
      "ADF Statistic: -3.375365\n",
      "p-value: 0.147802\n",
      "Critical Values:\n",
      "\t1%: -4.432\n",
      "\t5%: -3.863\n",
      "\t10%: -3.572\n"
     ]
    }
   ],
   "source": [
    "from statsmodels.tsa.stattools import adfuller\n",
    "result = adfuller(series, regression='ctt')\n",
    "print('ADF Statistic: %f' % result[0])\n",
    "print('p-value: %f' % result[1])\n",
    "print('Critical Values:')\n",
    "for key, value in result[4].items():\n",
    "    print('\\t%s: %.3f' % (key, value))"
   ]
  },
  {
   "cell_type": "code",
   "execution_count": 93,
   "metadata": {},
   "outputs": [],
   "source": [
    "# Create L-1 lag\n",
    "beer_data_ts['Sales volume L-1'] = beer_data_ts['Sales volume'].shift()"
   ]
  },
  {
   "cell_type": "code",
   "execution_count": 94,
   "metadata": {},
   "outputs": [
    {
     "data": {
      "text/html": [
       "<div>\n",
       "<style scoped>\n",
       "    .dataframe tbody tr th:only-of-type {\n",
       "        vertical-align: middle;\n",
       "    }\n",
       "\n",
       "    .dataframe tbody tr th {\n",
       "        vertical-align: top;\n",
       "    }\n",
       "\n",
       "    .dataframe thead th {\n",
       "        text-align: right;\n",
       "    }\n",
       "</style>\n",
       "<table border=\"1\" class=\"dataframe\">\n",
       "  <thead>\n",
       "    <tr style=\"text-align: right;\">\n",
       "      <th></th>\n",
       "      <th>Sales volume</th>\n",
       "      <th>Price</th>\n",
       "      <th>Promo share</th>\n",
       "      <th>Unemployment</th>\n",
       "      <th>Economic climate</th>\n",
       "      <th>Financial situation</th>\n",
       "      <th>Competitors price</th>\n",
       "      <th>Competitors promo share</th>\n",
       "      <th>Christmas &amp; New Year</th>\n",
       "      <th>King's Day</th>\n",
       "      <th>Easter</th>\n",
       "      <th>Sinterklaas</th>\n",
       "      <th>Football</th>\n",
       "      <th>Olympic games</th>\n",
       "      <th>Social media Sentiment Total</th>\n",
       "      <th>Social media P/N ratio</th>\n",
       "      <th>Social media (Share of negative mentions)</th>\n",
       "      <th>Temperature</th>\n",
       "      <th>Precipitation</th>\n",
       "      <th>Sunshine duration</th>\n",
       "      <th>Price^2</th>\n",
       "      <th>Sales volume L-1</th>\n",
       "    </tr>\n",
       "  </thead>\n",
       "  <tbody>\n",
       "    <tr>\n",
       "      <th>2015-01-05</th>\n",
       "      <td>3740647.6</td>\n",
       "      <td>1.635016</td>\n",
       "      <td>0.749089</td>\n",
       "      <td>7.000000</td>\n",
       "      <td>4.000000</td>\n",
       "      <td>-17.000000</td>\n",
       "      <td>1.475020</td>\n",
       "      <td>0.532742</td>\n",
       "      <td>1</td>\n",
       "      <td>0</td>\n",
       "      <td>0</td>\n",
       "      <td>0</td>\n",
       "      <td>0</td>\n",
       "      <td>0</td>\n",
       "      <td>49</td>\n",
       "      <td>0.265306</td>\n",
       "      <td>0.081633</td>\n",
       "      <td>4.516176</td>\n",
       "      <td>21.195312</td>\n",
       "      <td>30.459677</td>\n",
       "      <td>2.673279</td>\n",
       "      <td>NaN</td>\n",
       "    </tr>\n",
       "    <tr>\n",
       "      <th>2015-01-12</th>\n",
       "      <td>1557032.4</td>\n",
       "      <td>1.802296</td>\n",
       "      <td>0.381650</td>\n",
       "      <td>7.000000</td>\n",
       "      <td>4.000000</td>\n",
       "      <td>-17.000000</td>\n",
       "      <td>1.627360</td>\n",
       "      <td>0.264413</td>\n",
       "      <td>0</td>\n",
       "      <td>0</td>\n",
       "      <td>0</td>\n",
       "      <td>0</td>\n",
       "      <td>0</td>\n",
       "      <td>0</td>\n",
       "      <td>140</td>\n",
       "      <td>0.164286</td>\n",
       "      <td>0.071429</td>\n",
       "      <td>5.840336</td>\n",
       "      <td>29.133929</td>\n",
       "      <td>15.534562</td>\n",
       "      <td>3.248272</td>\n",
       "      <td>3740647.6</td>\n",
       "    </tr>\n",
       "    <tr>\n",
       "      <th>2015-01-19</th>\n",
       "      <td>1547997.2</td>\n",
       "      <td>1.965868</td>\n",
       "      <td>0.343765</td>\n",
       "      <td>7.192916</td>\n",
       "      <td>4.828826</td>\n",
       "      <td>-16.716865</td>\n",
       "      <td>1.501296</td>\n",
       "      <td>0.522655</td>\n",
       "      <td>0</td>\n",
       "      <td>0</td>\n",
       "      <td>0</td>\n",
       "      <td>0</td>\n",
       "      <td>0</td>\n",
       "      <td>0</td>\n",
       "      <td>231</td>\n",
       "      <td>0.398268</td>\n",
       "      <td>0.017316</td>\n",
       "      <td>5.547479</td>\n",
       "      <td>59.700893</td>\n",
       "      <td>17.838710</td>\n",
       "      <td>3.864637</td>\n",
       "      <td>1557032.4</td>\n",
       "    </tr>\n",
       "    <tr>\n",
       "      <th>2015-01-26</th>\n",
       "      <td>2565525.7</td>\n",
       "      <td>1.630730</td>\n",
       "      <td>0.664251</td>\n",
       "      <td>7.368666</td>\n",
       "      <td>5.526122</td>\n",
       "      <td>-16.446983</td>\n",
       "      <td>1.576631</td>\n",
       "      <td>0.463989</td>\n",
       "      <td>0</td>\n",
       "      <td>0</td>\n",
       "      <td>0</td>\n",
       "      <td>0</td>\n",
       "      <td>0</td>\n",
       "      <td>0</td>\n",
       "      <td>114</td>\n",
       "      <td>0.157895</td>\n",
       "      <td>0.140351</td>\n",
       "      <td>0.606723</td>\n",
       "      <td>10.620536</td>\n",
       "      <td>19.198157</td>\n",
       "      <td>2.659280</td>\n",
       "      <td>1547997.2</td>\n",
       "    </tr>\n",
       "    <tr>\n",
       "      <th>2015-02-02</th>\n",
       "      <td>1665819.4</td>\n",
       "      <td>1.852473</td>\n",
       "      <td>0.414259</td>\n",
       "      <td>7.510083</td>\n",
       "      <td>5.960357</td>\n",
       "      <td>-16.203610</td>\n",
       "      <td>1.568776</td>\n",
       "      <td>0.527898</td>\n",
       "      <td>0</td>\n",
       "      <td>0</td>\n",
       "      <td>0</td>\n",
       "      <td>0</td>\n",
       "      <td>0</td>\n",
       "      <td>0</td>\n",
       "      <td>92</td>\n",
       "      <td>0.315217</td>\n",
       "      <td>0.108696</td>\n",
       "      <td>3.342017</td>\n",
       "      <td>33.973214</td>\n",
       "      <td>22.391705</td>\n",
       "      <td>3.431657</td>\n",
       "      <td>2565525.7</td>\n",
       "    </tr>\n",
       "  </tbody>\n",
       "</table>\n",
       "</div>"
      ],
      "text/plain": [
       "            Sales volume     Price  Promo share  Unemployment  \\\n",
       "2015-01-05     3740647.6  1.635016     0.749089      7.000000   \n",
       "2015-01-12     1557032.4  1.802296     0.381650      7.000000   \n",
       "2015-01-19     1547997.2  1.965868     0.343765      7.192916   \n",
       "2015-01-26     2565525.7  1.630730     0.664251      7.368666   \n",
       "2015-02-02     1665819.4  1.852473     0.414259      7.510083   \n",
       "\n",
       "            Economic climate  Financial situation  Competitors price  \\\n",
       "2015-01-05          4.000000           -17.000000           1.475020   \n",
       "2015-01-12          4.000000           -17.000000           1.627360   \n",
       "2015-01-19          4.828826           -16.716865           1.501296   \n",
       "2015-01-26          5.526122           -16.446983           1.576631   \n",
       "2015-02-02          5.960357           -16.203610           1.568776   \n",
       "\n",
       "            Competitors promo share  Christmas & New Year  King's Day  Easter  \\\n",
       "2015-01-05                 0.532742                     1           0       0   \n",
       "2015-01-12                 0.264413                     0           0       0   \n",
       "2015-01-19                 0.522655                     0           0       0   \n",
       "2015-01-26                 0.463989                     0           0       0   \n",
       "2015-02-02                 0.527898                     0           0       0   \n",
       "\n",
       "            Sinterklaas  Football  Olympic games  \\\n",
       "2015-01-05            0         0              0   \n",
       "2015-01-12            0         0              0   \n",
       "2015-01-19            0         0              0   \n",
       "2015-01-26            0         0              0   \n",
       "2015-02-02            0         0              0   \n",
       "\n",
       "            Social media Sentiment Total  Social media P/N ratio  \\\n",
       "2015-01-05                            49                0.265306   \n",
       "2015-01-12                           140                0.164286   \n",
       "2015-01-19                           231                0.398268   \n",
       "2015-01-26                           114                0.157895   \n",
       "2015-02-02                            92                0.315217   \n",
       "\n",
       "            Social media (Share of negative mentions)  Temperature  \\\n",
       "2015-01-05                                   0.081633     4.516176   \n",
       "2015-01-12                                   0.071429     5.840336   \n",
       "2015-01-19                                   0.017316     5.547479   \n",
       "2015-01-26                                   0.140351     0.606723   \n",
       "2015-02-02                                   0.108696     3.342017   \n",
       "\n",
       "            Precipitation  Sunshine duration   Price^2  Sales volume L-1  \n",
       "2015-01-05      21.195312          30.459677  2.673279               NaN  \n",
       "2015-01-12      29.133929          15.534562  3.248272         3740647.6  \n",
       "2015-01-19      59.700893          17.838710  3.864637         1557032.4  \n",
       "2015-01-26      10.620536          19.198157  2.659280         1547997.2  \n",
       "2015-02-02      33.973214          22.391705  3.431657         2565525.7  "
      ]
     },
     "execution_count": 94,
     "metadata": {},
     "output_type": "execute_result"
    }
   ],
   "source": [
    "beer_data_ts.head()"
   ]
  },
  {
   "cell_type": "code",
   "execution_count": 95,
   "metadata": {},
   "outputs": [],
   "source": [
    "# Create an OLS model:\n",
    "# Sales volume ~ Sales volume L-1, Price"
   ]
  },
  {
   "cell_type": "code",
   "execution_count": 96,
   "metadata": {},
   "outputs": [],
   "source": [
    "X = beer_data_ts[['Sales volume L-1', 'Price']]\n",
    "Y = beer_data_ts['Sales volume']"
   ]
  },
  {
   "cell_type": "code",
   "execution_count": 97,
   "metadata": {},
   "outputs": [
    {
     "data": {
      "text/html": [
       "<table class=\"simpletable\">\n",
       "<caption>OLS Regression Results</caption>\n",
       "<tr>\n",
       "  <th>Dep. Variable:</th>      <td>Sales volume</td>   <th>  R-squared:         </th> <td>   0.475</td>\n",
       "</tr>\n",
       "<tr>\n",
       "  <th>Model:</th>                   <td>OLS</td>       <th>  Adj. R-squared:    </th> <td>   0.470</td>\n",
       "</tr>\n",
       "<tr>\n",
       "  <th>Method:</th>             <td>Least Squares</td>  <th>  F-statistic:       </th> <td>   89.21</td>\n",
       "</tr>\n",
       "<tr>\n",
       "  <th>Date:</th>             <td>Wed, 12 Jun 2019</td> <th>  Prob (F-statistic):</th> <td>2.60e-28</td>\n",
       "</tr>\n",
       "<tr>\n",
       "  <th>Time:</th>                 <td>11:49:28</td>     <th>  Log-Likelihood:    </th> <td> -2944.2</td>\n",
       "</tr>\n",
       "<tr>\n",
       "  <th>No. Observations:</th>      <td>   200</td>      <th>  AIC:               </th> <td>   5894.</td>\n",
       "</tr>\n",
       "<tr>\n",
       "  <th>Df Residuals:</th>          <td>   197</td>      <th>  BIC:               </th> <td>   5904.</td>\n",
       "</tr>\n",
       "<tr>\n",
       "  <th>Df Model:</th>              <td>     2</td>      <th>                     </th>     <td> </td>   \n",
       "</tr>\n",
       "<tr>\n",
       "  <th>Covariance Type:</th>      <td>nonrobust</td>    <th>                     </th>     <td> </td>   \n",
       "</tr>\n",
       "</table>\n",
       "<table class=\"simpletable\">\n",
       "<tr>\n",
       "          <td></td>            <th>coef</th>     <th>std err</th>      <th>t</th>      <th>P>|t|</th>  <th>[0.025</th>    <th>0.975]</th>  \n",
       "</tr>\n",
       "<tr>\n",
       "  <th>const</th>            <td> 8.646e+06</td> <td> 4.76e+05</td> <td>   18.161</td> <td> 0.000</td> <td> 7.71e+06</td> <td> 9.59e+06</td>\n",
       "</tr>\n",
       "<tr>\n",
       "  <th>Sales volume L-1</th> <td>    0.1861</td> <td>    0.053</td> <td>    3.509</td> <td> 0.001</td> <td>    0.082</td> <td>    0.291</td>\n",
       "</tr>\n",
       "<tr>\n",
       "  <th>Price</th>            <td> -3.52e+06</td> <td> 2.64e+05</td> <td>  -13.354</td> <td> 0.000</td> <td>-4.04e+06</td> <td>   -3e+06</td>\n",
       "</tr>\n",
       "</table>\n",
       "<table class=\"simpletable\">\n",
       "<tr>\n",
       "  <th>Omnibus:</th>       <td>10.400</td> <th>  Durbin-Watson:     </th> <td>   1.212</td>\n",
       "</tr>\n",
       "<tr>\n",
       "  <th>Prob(Omnibus):</th> <td> 0.006</td> <th>  Jarque-Bera (JB):  </th> <td>  10.562</td>\n",
       "</tr>\n",
       "<tr>\n",
       "  <th>Skew:</th>          <td> 0.547</td> <th>  Prob(JB):          </th> <td> 0.00509</td>\n",
       "</tr>\n",
       "<tr>\n",
       "  <th>Kurtosis:</th>      <td> 3.262</td> <th>  Cond. No.          </th> <td>3.48e+07</td>\n",
       "</tr>\n",
       "</table><br/><br/>Warnings:<br/>[1] Standard Errors assume that the covariance matrix of the errors is correctly specified.<br/>[2] The condition number is large, 3.48e+07. This might indicate that there are<br/>strong multicollinearity or other numerical problems."
      ],
      "text/plain": [
       "<class 'statsmodels.iolib.summary.Summary'>\n",
       "\"\"\"\n",
       "                            OLS Regression Results                            \n",
       "==============================================================================\n",
       "Dep. Variable:           Sales volume   R-squared:                       0.475\n",
       "Model:                            OLS   Adj. R-squared:                  0.470\n",
       "Method:                 Least Squares   F-statistic:                     89.21\n",
       "Date:                Wed, 12 Jun 2019   Prob (F-statistic):           2.60e-28\n",
       "Time:                        11:49:28   Log-Likelihood:                -2944.2\n",
       "No. Observations:                 200   AIC:                             5894.\n",
       "Df Residuals:                     197   BIC:                             5904.\n",
       "Df Model:                           2                                         \n",
       "Covariance Type:            nonrobust                                         \n",
       "====================================================================================\n",
       "                       coef    std err          t      P>|t|      [0.025      0.975]\n",
       "------------------------------------------------------------------------------------\n",
       "const             8.646e+06   4.76e+05     18.161      0.000    7.71e+06    9.59e+06\n",
       "Sales volume L-1     0.1861      0.053      3.509      0.001       0.082       0.291\n",
       "Price             -3.52e+06   2.64e+05    -13.354      0.000   -4.04e+06      -3e+06\n",
       "==============================================================================\n",
       "Omnibus:                       10.400   Durbin-Watson:                   1.212\n",
       "Prob(Omnibus):                  0.006   Jarque-Bera (JB):               10.562\n",
       "Skew:                           0.547   Prob(JB):                      0.00509\n",
       "Kurtosis:                       3.262   Cond. No.                     3.48e+07\n",
       "==============================================================================\n",
       "\n",
       "Warnings:\n",
       "[1] Standard Errors assume that the covariance matrix of the errors is correctly specified.\n",
       "[2] The condition number is large, 3.48e+07. This might indicate that there are\n",
       "strong multicollinearity or other numerical problems.\n",
       "\"\"\""
      ]
     },
     "execution_count": 97,
     "metadata": {},
     "output_type": "execute_result"
    }
   ],
   "source": [
    "lm_sm_multi_AR = sm.OLS(Y[1:], sm.add_constant(X.dropna())).fit()\n",
    "lm_sm_multi_AR.summary()"
   ]
  },
  {
   "cell_type": "code",
   "execution_count": 98,
   "metadata": {},
   "outputs": [],
   "source": [
    "# Let us use a library for Autoregression\n",
    "# HOMEWORK\n",
    "# (S)AR(I)MA(X) models from statsmodels"
   ]
  },
  {
   "cell_type": "markdown",
   "metadata": {},
   "source": [
    "# Great Job!"
   ]
  },
  {
   "cell_type": "markdown",
   "metadata": {},
   "source": [
    "<img src=\"http://datamasters.co/logo/logo_DM_academy-horisontal.png\" alt=\"DataMasters\" width=\"300\" height=\"300\" align=\"left\">"
   ]
  }
 ],
 "metadata": {
  "kernelspec": {
   "display_name": "Python 3",
   "language": "python",
   "name": "python3"
  },
  "language_info": {
   "codemirror_mode": {
    "name": "ipython",
    "version": 3
   },
   "file_extension": ".py",
   "mimetype": "text/x-python",
   "name": "python",
   "nbconvert_exporter": "python",
   "pygments_lexer": "ipython3",
   "version": "3.6.8"
  }
 },
 "nbformat": 4,
 "nbformat_minor": 2
}
